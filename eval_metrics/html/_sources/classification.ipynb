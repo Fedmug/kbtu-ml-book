{
 "cells": [
  {
   "cell_type": "markdown",
   "id": "3361b4ab",
   "metadata": {},
   "source": [
    "# Classification Metrics\n",
    "\n",
    "\n",
    "Classification metrics are used to evaluate the performance of classification models, which are machine learning models that predict categorical labels or classes for input data. "
   ]
  },
  {
   "cell_type": "markdown",
   "id": "19b26edb",
   "metadata": {},
   "source": [
    "## Accuracy\n",
    "\n",
    "The most common metric for binary and multiclass classification which shows the fraction of correct predictions:\n",
    "\n",
    "$$\n",
    "    \\text{Accuracy} = \\frac{\\text{Number of Correct Predictions}}{\\text{Total Number of Predictions}}\n",
    "$$\n",
    "\n",
    "More formally, if $\\mathcal D = \\{(\\boldsymbol x_i, y_i)\\}_{i=1}^n$ is the train (or test) dataset, then the accuracy metric is defined as follows:\n",
    "\n",
    "$$\n",
    "    \\mathrm{acc}(\\boldsymbol y, \\boldsymbol {\\widehat y}) = \\frac 1n \\sum\\limits_{i=1}^n \\mathbb I[y_i = \\widehat y_i].\n",
    "$$\n",
    "\n",
    "**Q**. What can be the value of accuracy if $n=4$?\n",
    "\n",
    "```{note}\n",
    "The **missclassificaton rate** (or **error rate**) {eq}`mis-rate` is a similar metric and equals to $1 -\\mathrm{acc}$.\n",
    "```\n",
    "\n",
    "(confusion-matrix)=\n",
    "### Confusion matrix\n",
    "\n",
    "If $\\mathcal Y = \\{-1, +1\\}$ then there are four possibilites how the prediction $\\widehat y$ of a classifier can relate to the true label $y$.\n",
    "\n",
    "|Metric| Prediction $\\widehat y$| Ground truth $y$ |\n",
    "|------------|:---:|:------:|\n",
    "**true positive**, TP  |$+1$| $+1$  |\n",
    "**false positive**, FP |$+1$| $-1$  |\n",
    "**false negative**, FN |$-1$| $+1$  |\n",
    "**true negative**, TN  |$-1$| $-1$  |  \n",
    "\n",
    "```{tip}\n",
    "The first word (`true/false`) shows whether the prediction is correct. The second one (`positive/negative`) indicates the **predicted** label.\n",
    "```\n",
    "\n",
    "These metrics are usually aggregated from the whole dataset $\\mathcal D$, i. e.,\n",
    "\n",
    "* True Positives represent the number of correctly predicted positive instances:\n",
    "    \n",
    "    $$\n",
    "        \\mathrm{TP} = \\sum\\limits_{i=1}^n \\mathbb I[\\widehat y_i = +1,  y_i = +1];\n",
    "    $$\n",
    "\n",
    "\n",
    "* False Positives represent the number of instances that were actually negative but were predicted as positive:\n",
    "\n",
    "    $$\n",
    "        \\mathrm{FP} = \\sum\\limits_{i=1}^n \\mathbb I[\\widehat y_i = +1,  y_i = -1];\n",
    "    $$\n",
    "\n",
    "* False Negatives represent the number of instances that were actually positive but were predicted as negative.\n",
    "    \n",
    "    $$\n",
    "        \\mathrm{FN} = \\sum\\limits_{i=1}^n \\mathbb I[\\widehat y_i = -1,  y_i = +1];\n",
    "    $$\n",
    "\n",
    "* True Negatives represent the number of correctly predicted negative instances:\n",
    "\n",
    "$$\n",
    "    \\mathrm{TN} = \\sum\\limits_{i=1}^n \\mathbb I[\\widehat y_i = -1,  y_i = -1].\n",
    "$$\n",
    "\n",
    "```{note}\n",
    "If $\\mathcal Y = \\{0, 1\\}$, then negative class is $0$, positive class is $1$.\n",
    "```\n",
    "\n",
    "These four metrics form the **confusion matrix**.\n",
    "\n",
    "```{figure} https://miro.medium.com/v2/resize:fit:667/1*3yGLac6F4mTENnj5dBNvNQ.jpeg\n",
    ":align: center\n",
    "```"
   ]
  },
  {
   "cell_type": "markdown",
   "id": "d6a8ee0c",
   "metadata": {},
   "source": [
    "**Q**. What is the correct formula for accuracy?"
   ]
  },
  {
   "cell_type": "markdown",
   "id": "160bfa1d",
   "metadata": {},
   "source": [
    "1. $\\frac{\\mathrm{TP}}{\\mathrm{TP} + \\mathrm{TN} + \\mathrm{FP} + \\mathrm{FN}}$\n",
    "\n",
    "2. $\\frac{\\mathrm{TP} + \\mathrm{TN}}{\\mathrm{TP} + \\mathrm{TN} + \\mathrm{FP} + \\mathrm{FN}}$\n",
    "\n",
    "3.  $\\frac{\\mathrm{TP} + \\mathrm{FN}}{\\mathrm{TP} + \\mathrm{TN} + \\mathrm{FP} + \\mathrm{FN}}$\n",
    "\n",
    "4.  $\\frac{\\mathrm{TP} + \\mathrm{FP}}{\\mathrm{TP} + \\mathrm{TN} + \\mathrm{FP} + \\mathrm{FN}}$"
   ]
  },
  {
   "cell_type": "markdown",
   "id": "fff0ee73",
   "metadata": {},
   "source": [
    "### Example: breast cancer dataset"
   ]
  },
  {
   "cell_type": "code",
   "execution_count": 1,
   "id": "9a6967ad",
   "metadata": {},
   "outputs": [
    {
     "data": {
      "text/plain": [
       "array(['malignant', 'benign'], dtype='<U9')"
      ]
     },
     "execution_count": 1,
     "metadata": {},
     "output_type": "execute_result"
    }
   ],
   "source": [
    "from sklearn.datasets import load_breast_cancer \n",
    "data = load_breast_cancer()    \n",
    "\n",
    "# 0 should be \"benign\" \n",
    "# 1 should be \"malignant\" \n",
    "relabeled_target = 1 - data[\"target\"] \n",
    " \n",
    "X = data[\"data\"] \n",
    "y = relabeled_target \n",
    "data.target_names "
   ]
  },
  {
   "cell_type": "markdown",
   "id": "36294531",
   "metadata": {},
   "source": [
    "Train logistic regression and print metrics:"
   ]
  },
  {
   "cell_type": "code",
   "execution_count": 5,
   "id": "04fc6cf3",
   "metadata": {},
   "outputs": [
    {
     "name": "stdout",
     "output_type": "stream",
     "text": [
      "Train accuracy: 0.9671361502347418\n",
      "Confusion matrix on train dataset:\n",
      " [[261   5]\n",
      " [  9 151]]\n",
      "Test accuracy: 0.9440559440559441\n",
      "Confusion matrix on train dataset:\n",
      " [[88  3]\n",
      " [ 5 47]]\n"
     ]
    }
   ],
   "source": [
    "from sklearn.linear_model import LogisticRegression\n",
    "from sklearn.metrics import confusion_matrix \n",
    "from sklearn.model_selection import train_test_split \n",
    "\n",
    "X_train, X_test, y_train, y_test = train_test_split(X, y) \n",
    "log_reg = LogisticRegression(max_iter=3000)\n",
    "log_reg.fit(X_train, y_train)\n",
    "\n",
    "print(\"Train accuracy:\", log_reg.score(X_train, y_train))\n",
    "print(\"Confusion matrix on train dataset:\\n\", confusion_matrix(y_train, log_reg.predict(X_train)))\n",
    "print(\"Test accuracy:\", log_reg.score(X_test, y_test))\n",
    "print(\"Confusion matrix on train dataset:\\n\", confusion_matrix(y_test, log_reg.predict(X_test)))"
   ]
  },
  {
   "cell_type": "markdown",
   "id": "a56bfe65",
   "metadata": {},
   "source": [
    "For classification into $K$ classes the confusion matrix has shape $K\\times K$. For example, for {ref}`MNIST dataset <mnist-confusion-matrix>` we had $10$ rows and $10$ columns."
   ]
  },
  {
   "attachments": {},
   "cell_type": "markdown",
   "id": "da978a94",
   "metadata": {},
   "source": [
    "##  Precision and recall\n",
    "\n",
    "Accuracy score is a poor metric if classes are unbalanced. For instance, if $1\\%$ of tested people are really sick, then predicting always `negative` (i.e., the patient is healthy) would give $99\\%$ of accuracy. Of course, such **dummy model** is useless in this case.\n",
    "\n",
    "### Precision\n",
    "\n",
    "**Precision**, also known as positive predictive value, measures the proportion of true positive predictions among all positive predictions made by the model:\n",
    "\n",
    "$$\n",
    "\\mathrm{Precision} = \\frac{\\mathrm{TP}}{\\mathrm{TP} + \\mathrm{FP}}.\n",
    "$$\n",
    "\n",
    "It is useful when minimizing false positives is a priority.\n",
    "\n",
    "###  Recall\n",
    "\n",
    "Recall measures the proportion of true positive predictions among all actual positive instances. \n",
    "\n",
    "$$\n",
    "\\mathrm{Recall} = \\frac{\\mathrm{TP}}{\\mathrm{TP} + \\mathrm{FN}}\n",
    "$$\n",
    "\n",
    "It is particularly important when minimizing false negatives is crucial.\n",
    "\n",
    "```{figure} https://upload.wikimedia.org/wikipedia/commons/thumb/2/26/Precisionrecall.svg/800px-Precisionrecall.svg.png\n",
    ":align: center\n",
    "```\n",
    "\n",
    "**Q**. Which metric is more relevant in the following cases?\n",
    "\n",
    "* testing on covid-19 or any other dangerous and contagious desease;\n",
    "* a nuclear warning system which makes decision whether to launch nuclear missles in response.\n",
    "\n",
    "\n",
    "### $F$-score\n",
    "\n",
    "The $F_1$-score is the harmonic mean of precision and recall. It provides a balance between precision and recall and is especially useful when there is an imbalance between the classes.\n",
    "\n",
    "$$\n",
    "F_1 = \\frac 2{\\frac 1{\\mathrm{Presision}} + \\frac 1{\\mathrm{Recall}}} = \\frac{2 \\cdot \\text{Precision} \\cdot \\text{Recall}}{\\text{Precision} + \\text{Recall}}\n",
    "$$\n",
    "\n",
    "The $F_\\beta$-score is a generalization of the $F_1$-score:\n",
    "\n",
    "$$\n",
    "    F_\\beta = (1+\\beta^2)\\frac{\\mathrm{Precision} \\cdot \\mathrm{Recall}}{\\beta^2\\cdot\\mathrm{Precision} + \\mathrm{Recall}}, \\quad \\beta > 0.\n",
    "$$\n",
    "\n",
    "**Q.** What is happening with $F_\\beta$-score if $\\beta \\to +0$? $\\beta \\to +\\infty$?\n",
    "\n",
    "**Q.** Calculate precision, recall and $F_1$-score for the data from {ref}`this table <binary-metrics>`."
   ]
  },
  {
   "cell_type": "markdown",
   "id": "91e603dd",
   "metadata": {},
   "source": [
    "## Example: imbalanced dataset\n",
    "\n",
    "[Fraud or non-fraud](https://www.kaggle.com/code/janiobachmann/credit-fraud-dealing-with-imbalanced-datasets/notebook)?"
   ]
  },
  {
   "cell_type": "code",
   "execution_count": 2,
   "id": "51313bc5",
   "metadata": {},
   "outputs": [
    {
     "data": {
      "text/html": [
       "<div>\n",
       "<style scoped>\n",
       "    .dataframe tbody tr th:only-of-type {\n",
       "        vertical-align: middle;\n",
       "    }\n",
       "\n",
       "    .dataframe tbody tr th {\n",
       "        vertical-align: top;\n",
       "    }\n",
       "\n",
       "    .dataframe thead th {\n",
       "        text-align: right;\n",
       "    }\n",
       "</style>\n",
       "<table border=\"1\" class=\"dataframe\">\n",
       "  <thead>\n",
       "    <tr style=\"text-align: right;\">\n",
       "      <th></th>\n",
       "      <th>Time</th>\n",
       "      <th>V1</th>\n",
       "      <th>V2</th>\n",
       "      <th>V3</th>\n",
       "      <th>V4</th>\n",
       "      <th>V5</th>\n",
       "      <th>V6</th>\n",
       "      <th>V7</th>\n",
       "      <th>V8</th>\n",
       "      <th>V9</th>\n",
       "      <th>...</th>\n",
       "      <th>V21</th>\n",
       "      <th>V22</th>\n",
       "      <th>V23</th>\n",
       "      <th>V24</th>\n",
       "      <th>V25</th>\n",
       "      <th>V26</th>\n",
       "      <th>V27</th>\n",
       "      <th>V28</th>\n",
       "      <th>Amount</th>\n",
       "      <th>Class</th>\n",
       "    </tr>\n",
       "  </thead>\n",
       "  <tbody>\n",
       "    <tr>\n",
       "      <th>0</th>\n",
       "      <td>0.0</td>\n",
       "      <td>-1.359807</td>\n",
       "      <td>-0.072781</td>\n",
       "      <td>2.536347</td>\n",
       "      <td>1.378155</td>\n",
       "      <td>-0.338321</td>\n",
       "      <td>0.462388</td>\n",
       "      <td>0.239599</td>\n",
       "      <td>0.098698</td>\n",
       "      <td>0.363787</td>\n",
       "      <td>...</td>\n",
       "      <td>-0.018307</td>\n",
       "      <td>0.277838</td>\n",
       "      <td>-0.110474</td>\n",
       "      <td>0.066928</td>\n",
       "      <td>0.128539</td>\n",
       "      <td>-0.189115</td>\n",
       "      <td>0.133558</td>\n",
       "      <td>-0.021053</td>\n",
       "      <td>149.62</td>\n",
       "      <td>0</td>\n",
       "    </tr>\n",
       "    <tr>\n",
       "      <th>1</th>\n",
       "      <td>0.0</td>\n",
       "      <td>1.191857</td>\n",
       "      <td>0.266151</td>\n",
       "      <td>0.166480</td>\n",
       "      <td>0.448154</td>\n",
       "      <td>0.060018</td>\n",
       "      <td>-0.082361</td>\n",
       "      <td>-0.078803</td>\n",
       "      <td>0.085102</td>\n",
       "      <td>-0.255425</td>\n",
       "      <td>...</td>\n",
       "      <td>-0.225775</td>\n",
       "      <td>-0.638672</td>\n",
       "      <td>0.101288</td>\n",
       "      <td>-0.339846</td>\n",
       "      <td>0.167170</td>\n",
       "      <td>0.125895</td>\n",
       "      <td>-0.008983</td>\n",
       "      <td>0.014724</td>\n",
       "      <td>2.69</td>\n",
       "      <td>0</td>\n",
       "    </tr>\n",
       "    <tr>\n",
       "      <th>2</th>\n",
       "      <td>1.0</td>\n",
       "      <td>-1.358354</td>\n",
       "      <td>-1.340163</td>\n",
       "      <td>1.773209</td>\n",
       "      <td>0.379780</td>\n",
       "      <td>-0.503198</td>\n",
       "      <td>1.800499</td>\n",
       "      <td>0.791461</td>\n",
       "      <td>0.247676</td>\n",
       "      <td>-1.514654</td>\n",
       "      <td>...</td>\n",
       "      <td>0.247998</td>\n",
       "      <td>0.771679</td>\n",
       "      <td>0.909412</td>\n",
       "      <td>-0.689281</td>\n",
       "      <td>-0.327642</td>\n",
       "      <td>-0.139097</td>\n",
       "      <td>-0.055353</td>\n",
       "      <td>-0.059752</td>\n",
       "      <td>378.66</td>\n",
       "      <td>0</td>\n",
       "    </tr>\n",
       "    <tr>\n",
       "      <th>3</th>\n",
       "      <td>1.0</td>\n",
       "      <td>-0.966272</td>\n",
       "      <td>-0.185226</td>\n",
       "      <td>1.792993</td>\n",
       "      <td>-0.863291</td>\n",
       "      <td>-0.010309</td>\n",
       "      <td>1.247203</td>\n",
       "      <td>0.237609</td>\n",
       "      <td>0.377436</td>\n",
       "      <td>-1.387024</td>\n",
       "      <td>...</td>\n",
       "      <td>-0.108300</td>\n",
       "      <td>0.005274</td>\n",
       "      <td>-0.190321</td>\n",
       "      <td>-1.175575</td>\n",
       "      <td>0.647376</td>\n",
       "      <td>-0.221929</td>\n",
       "      <td>0.062723</td>\n",
       "      <td>0.061458</td>\n",
       "      <td>123.50</td>\n",
       "      <td>0</td>\n",
       "    </tr>\n",
       "    <tr>\n",
       "      <th>4</th>\n",
       "      <td>2.0</td>\n",
       "      <td>-1.158233</td>\n",
       "      <td>0.877737</td>\n",
       "      <td>1.548718</td>\n",
       "      <td>0.403034</td>\n",
       "      <td>-0.407193</td>\n",
       "      <td>0.095921</td>\n",
       "      <td>0.592941</td>\n",
       "      <td>-0.270533</td>\n",
       "      <td>0.817739</td>\n",
       "      <td>...</td>\n",
       "      <td>-0.009431</td>\n",
       "      <td>0.798278</td>\n",
       "      <td>-0.137458</td>\n",
       "      <td>0.141267</td>\n",
       "      <td>-0.206010</td>\n",
       "      <td>0.502292</td>\n",
       "      <td>0.219422</td>\n",
       "      <td>0.215153</td>\n",
       "      <td>69.99</td>\n",
       "      <td>0</td>\n",
       "    </tr>\n",
       "  </tbody>\n",
       "</table>\n",
       "<p>5 rows × 31 columns</p>\n",
       "</div>"
      ],
      "text/plain": [
       "   Time        V1        V2        V3        V4        V5        V6        V7  \\\n",
       "0   0.0 -1.359807 -0.072781  2.536347  1.378155 -0.338321  0.462388  0.239599   \n",
       "1   0.0  1.191857  0.266151  0.166480  0.448154  0.060018 -0.082361 -0.078803   \n",
       "2   1.0 -1.358354 -1.340163  1.773209  0.379780 -0.503198  1.800499  0.791461   \n",
       "3   1.0 -0.966272 -0.185226  1.792993 -0.863291 -0.010309  1.247203  0.237609   \n",
       "4   2.0 -1.158233  0.877737  1.548718  0.403034 -0.407193  0.095921  0.592941   \n",
       "\n",
       "         V8        V9  ...       V21       V22       V23       V24       V25  \\\n",
       "0  0.098698  0.363787  ... -0.018307  0.277838 -0.110474  0.066928  0.128539   \n",
       "1  0.085102 -0.255425  ... -0.225775 -0.638672  0.101288 -0.339846  0.167170   \n",
       "2  0.247676 -1.514654  ...  0.247998  0.771679  0.909412 -0.689281 -0.327642   \n",
       "3  0.377436 -1.387024  ... -0.108300  0.005274 -0.190321 -1.175575  0.647376   \n",
       "4 -0.270533  0.817739  ... -0.009431  0.798278 -0.137458  0.141267 -0.206010   \n",
       "\n",
       "        V26       V27       V28  Amount  Class  \n",
       "0 -0.189115  0.133558 -0.021053  149.62      0  \n",
       "1  0.125895 -0.008983  0.014724    2.69      0  \n",
       "2 -0.139097 -0.055353 -0.059752  378.66      0  \n",
       "3 -0.221929  0.062723  0.061458  123.50      0  \n",
       "4  0.502292  0.219422  0.215153   69.99      0  \n",
       "\n",
       "[5 rows x 31 columns]"
      ]
     },
     "execution_count": 2,
     "metadata": {},
     "output_type": "execute_result"
    }
   ],
   "source": [
    "import pandas as pd\n",
    "\n",
    "credit_df = pd.read_csv(\"../ISLP_datsets/creditcard.csv.zip\")\n",
    "credit_df.head()"
   ]
  },
  {
   "cell_type": "code",
   "execution_count": 3,
   "id": "ce5ac16a",
   "metadata": {},
   "outputs": [
    {
     "data": {
      "text/plain": [
       "Class\n",
       "0    284315\n",
       "1       492\n",
       "Name: count, dtype: int64"
      ]
     },
     "execution_count": 3,
     "metadata": {},
     "output_type": "execute_result"
    }
   ],
   "source": [
    "y = credit_df['Class']\n",
    "X = credit_df.drop(\"Class\", axis=1)\n",
    "y.value_counts()"
   ]
  },
  {
   "cell_type": "markdown",
   "id": "2efbe96e",
   "metadata": {},
   "source": [
    "An ideal distribution of classes for a dummy model :)"
   ]
  },
  {
   "cell_type": "code",
   "execution_count": 6,
   "id": "8524e9e5",
   "metadata": {},
   "outputs": [
    {
     "data": {
      "text/plain": [
       "Class\n",
       "0    71077\n",
       "1      125\n",
       "Name: count, dtype: int64"
      ]
     },
     "execution_count": 6,
     "metadata": {},
     "output_type": "execute_result"
    }
   ],
   "source": [
    "from sklearn.metrics import accuracy_score, precision_score, recall_score, f1_score\n",
    "from sklearn.model_selection import train_test_split \n",
    "X_train, X_test, y_train, y_test = train_test_split(X, y)\n",
    "y_test.value_counts()"
   ]
  },
  {
   "cell_type": "code",
   "execution_count": 7,
   "id": "a874026d",
   "metadata": {},
   "outputs": [
    {
     "name": "stdout",
     "output_type": "stream",
     "text": [
      "Accuracy: 0.9982444313361984\n",
      "Precision: 0.0\n",
      "Recall: 0.0\n",
      "F1 score: 0.0\n"
     ]
    },
    {
     "name": "stderr",
     "output_type": "stream",
     "text": [
      "/Library/Frameworks/Python.framework/Versions/3.11/lib/python3.11/site-packages/sklearn/metrics/_classification.py:1469: UndefinedMetricWarning: Precision is ill-defined and being set to 0.0 due to no predicted samples. Use `zero_division` parameter to control this behavior.\n",
      "  _warn_prf(average, modifier, msg_start, len(result))\n"
     ]
    }
   ],
   "source": [
    "from sklearn.dummy import DummyClassifier \n",
    "dc_mf = DummyClassifier(strategy=\"most_frequent\") \n",
    "dc_mf.fit(X_train, y_train) \n",
    "print(\"Accuracy:\", accuracy_score(y_test, dc_mf.predict(X_test)))\n",
    "print(\"Precision:\", precision_score(y_test, dc_mf.predict(X_test)))\n",
    "print(\"Recall:\", recall_score(y_test, dc_mf.predict(X_test)))\n",
    "print(\"F1 score:\", f1_score(y_test, dc_mf.predict(X_test)))"
   ]
  },
  {
   "cell_type": "markdown",
   "id": "bb52a2d5",
   "metadata": {},
   "source": [
    "Let's try the logistic regression:"
   ]
  },
  {
   "cell_type": "code",
   "execution_count": 34,
   "id": "6599f9dc",
   "metadata": {},
   "outputs": [
    {
     "data": {
      "text/html": [
       "<style>#sk-container-id-1 {color: black;}#sk-container-id-1 pre{padding: 0;}#sk-container-id-1 div.sk-toggleable {background-color: white;}#sk-container-id-1 label.sk-toggleable__label {cursor: pointer;display: block;width: 100%;margin-bottom: 0;padding: 0.3em;box-sizing: border-box;text-align: center;}#sk-container-id-1 label.sk-toggleable__label-arrow:before {content: \"▸\";float: left;margin-right: 0.25em;color: #696969;}#sk-container-id-1 label.sk-toggleable__label-arrow:hover:before {color: black;}#sk-container-id-1 div.sk-estimator:hover label.sk-toggleable__label-arrow:before {color: black;}#sk-container-id-1 div.sk-toggleable__content {max-height: 0;max-width: 0;overflow: hidden;text-align: left;background-color: #f0f8ff;}#sk-container-id-1 div.sk-toggleable__content pre {margin: 0.2em;color: black;border-radius: 0.25em;background-color: #f0f8ff;}#sk-container-id-1 input.sk-toggleable__control:checked~div.sk-toggleable__content {max-height: 200px;max-width: 100%;overflow: auto;}#sk-container-id-1 input.sk-toggleable__control:checked~label.sk-toggleable__label-arrow:before {content: \"▾\";}#sk-container-id-1 div.sk-estimator input.sk-toggleable__control:checked~label.sk-toggleable__label {background-color: #d4ebff;}#sk-container-id-1 div.sk-label input.sk-toggleable__control:checked~label.sk-toggleable__label {background-color: #d4ebff;}#sk-container-id-1 input.sk-hidden--visually {border: 0;clip: rect(1px 1px 1px 1px);clip: rect(1px, 1px, 1px, 1px);height: 1px;margin: -1px;overflow: hidden;padding: 0;position: absolute;width: 1px;}#sk-container-id-1 div.sk-estimator {font-family: monospace;background-color: #f0f8ff;border: 1px dotted black;border-radius: 0.25em;box-sizing: border-box;margin-bottom: 0.5em;}#sk-container-id-1 div.sk-estimator:hover {background-color: #d4ebff;}#sk-container-id-1 div.sk-parallel-item::after {content: \"\";width: 100%;border-bottom: 1px solid gray;flex-grow: 1;}#sk-container-id-1 div.sk-label:hover label.sk-toggleable__label {background-color: #d4ebff;}#sk-container-id-1 div.sk-serial::before {content: \"\";position: absolute;border-left: 1px solid gray;box-sizing: border-box;top: 0;bottom: 0;left: 50%;z-index: 0;}#sk-container-id-1 div.sk-serial {display: flex;flex-direction: column;align-items: center;background-color: white;padding-right: 0.2em;padding-left: 0.2em;position: relative;}#sk-container-id-1 div.sk-item {position: relative;z-index: 1;}#sk-container-id-1 div.sk-parallel {display: flex;align-items: stretch;justify-content: center;background-color: white;position: relative;}#sk-container-id-1 div.sk-item::before, #sk-container-id-1 div.sk-parallel-item::before {content: \"\";position: absolute;border-left: 1px solid gray;box-sizing: border-box;top: 0;bottom: 0;left: 50%;z-index: -1;}#sk-container-id-1 div.sk-parallel-item {display: flex;flex-direction: column;z-index: 1;position: relative;background-color: white;}#sk-container-id-1 div.sk-parallel-item:first-child::after {align-self: flex-end;width: 50%;}#sk-container-id-1 div.sk-parallel-item:last-child::after {align-self: flex-start;width: 50%;}#sk-container-id-1 div.sk-parallel-item:only-child::after {width: 0;}#sk-container-id-1 div.sk-dashed-wrapped {border: 1px dashed gray;margin: 0 0.4em 0.5em 0.4em;box-sizing: border-box;padding-bottom: 0.4em;background-color: white;}#sk-container-id-1 div.sk-label label {font-family: monospace;font-weight: bold;display: inline-block;line-height: 1.2em;}#sk-container-id-1 div.sk-label-container {text-align: center;}#sk-container-id-1 div.sk-container {/* jupyter's `normalize.less` sets `[hidden] { display: none; }` but bootstrap.min.css set `[hidden] { display: none !important; }` so we also need the `!important` here to be able to override the default hidden behavior on the sphinx rendered scikit-learn.org. See: https://github.com/scikit-learn/scikit-learn/issues/21755 */display: inline-block !important;position: relative;}#sk-container-id-1 div.sk-text-repr-fallback {display: none;}</style><div id=\"sk-container-id-1\" class=\"sk-top-container\"><div class=\"sk-text-repr-fallback\"><pre>LogisticRegression(max_iter=10000)</pre><b>In a Jupyter environment, please rerun this cell to show the HTML representation or trust the notebook. <br />On GitHub, the HTML representation is unable to render, please try loading this page with nbviewer.org.</b></div><div class=\"sk-container\" hidden><div class=\"sk-item\"><div class=\"sk-estimator sk-toggleable\"><input class=\"sk-toggleable__control sk-hidden--visually\" id=\"sk-estimator-id-1\" type=\"checkbox\" checked><label for=\"sk-estimator-id-1\" class=\"sk-toggleable__label sk-toggleable__label-arrow\">LogisticRegression</label><div class=\"sk-toggleable__content\"><pre>LogisticRegression(max_iter=10000)</pre></div></div></div></div></div>"
      ],
      "text/plain": [
       "LogisticRegression(max_iter=10000)"
      ]
     },
     "execution_count": 34,
     "metadata": {},
     "output_type": "execute_result"
    }
   ],
   "source": [
    "from sklearn.linear_model import LogisticRegression\n",
    "\n",
    "log_reg = LogisticRegression(max_iter=10000)\n",
    "log_reg.fit(X_train, y_train)"
   ]
  },
  {
   "cell_type": "markdown",
   "id": "e3c2f519",
   "metadata": {},
   "source": []
  },
  {
   "cell_type": "code",
   "execution_count": 35,
   "id": "43b45687",
   "metadata": {},
   "outputs": [
    {
     "name": "stdout",
     "output_type": "stream",
     "text": [
      "Accuracy: 0.9992135052386169\n",
      "Precision: 0.7870370370370371\n",
      "Recall: 0.7203389830508474\n",
      "F1 score: 0.752212389380531\n"
     ]
    }
   ],
   "source": [
    "print(\"Accuracy:\", accuracy_score(y_test, log_reg.predict(X_test)))\n",
    "print(\"Precision:\", precision_score(y_test, log_reg.predict(X_test)))\n",
    "print(\"Recall:\", recall_score(y_test, log_reg.predict(X_test)))\n",
    "print(\"F1 score:\", f1_score(y_test, log_reg.predict(X_test)))"
   ]
  }
 ],
 "metadata": {
  "kernelspec": {
   "display_name": "Python 3 (ipykernel)",
   "language": "python",
   "name": "python3"
  },
  "language_info": {
   "codemirror_mode": {
    "name": "ipython",
    "version": 3
   },
   "file_extension": ".py",
   "mimetype": "text/x-python",
   "name": "python",
   "nbconvert_exporter": "python",
   "pygments_lexer": "ipython3",
   "version": "3.11.4"
  }
 },
 "nbformat": 4,
 "nbformat_minor": 5
}
