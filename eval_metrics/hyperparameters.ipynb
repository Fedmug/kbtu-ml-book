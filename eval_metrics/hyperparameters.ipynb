{
 "cells": [
  {
   "cell_type": "markdown",
   "metadata": {},
   "source": [
    "# Hyperparameters tuning\n",
    "\n",
    "See [here](https://academy.yandex.ru/handbook/ml/article/beta-podbor-giperparametrov) for a quick start.\n",
    "\n",
    "## Grid search\n",
    "\n",
    "## Random search\n",
    "\n",
    "## Bayesian optimization"
   ]
  }
 ],
 "metadata": {
  "language_info": {
   "codemirror_mode": {
    "name": "ipython",
    "version": 3
   },
   "file_extension": ".py",
   "mimetype": "text/x-python",
   "name": "python",
   "nbconvert_exporter": "python",
   "pygments_lexer": "ipython3",
   "version": "3.11.5"
  }
 },
 "nbformat": 4,
 "nbformat_minor": 2
}