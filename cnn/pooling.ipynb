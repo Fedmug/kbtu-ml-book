{
 "cells": [
  {
   "cell_type": "markdown",
   "metadata": {},
   "source": [
    "# Pooling\n",
    "\n",
    "Pooling layers are commonly used in Convolutional Neural Networks (CNNs) for several reasons.\n",
    "\n",
    "1. **Downsampling and Dimensionality Reduction**\n",
    "\n",
    "    Pooling layers help reduce the spatial dimensions (width and height) of the input volume. By downsampling the feature maps, pooling layers decrease the computational load in the subsequent layers of the network.\n",
    "\n",
    "2. **Translation Invariance**\n",
    "\n",
    "    Pooling layers provide a certain degree of translation invariance, making the network less sensitive to the exact position of features in the input. This is particularly useful in tasks like image classification, where the location of an object within an image may vary.\n",
    "\n",
    "3. **Local Feature Extraction**\n",
    "\n",
    "    Pooling focuses on local features and helps retain the most essential information from a region. By selecting the maximum or average value from a pool of neighboring pixels, pooling layers capture the dominant features in a local region.\n",
    "\n",
    "The pooling operation has the same parameters as convolution:\n",
    "\n",
    "* `kernel_size`\n",
    "* `padding`\n",
    "* `stride`\n",
    "* `dilation`\n",
    "\n",
    "Unlike for convolution, the stride of a poolin kernel is usually equal to the kernel size (default value).\n",
    "\n",
    "## Max pooling\n",
    "\n",
    "Max pooling operation returns the maximum value of each window.\n",
    "\n",
    "```{figure} https://miro.medium.com/v2/resize:fit:1400/1*WvHC5bKyrHa7Wm3ca-pXtg.gif\n",
    ":align: center\n",
    "```\n",
    "\n",
    "```{admonition} Exercise\n",
    ":class: important\n",
    "What will the output of the max pooling layer in the previous example if stride is $1$?\n",
    "```"
   ]
  },
  {
   "cell_type": "markdown",
   "metadata": {},
   "source": [
    "## Average pooling\n",
    "\n",
    "A very similar operation to max pooling, calculates mean instead of maximum.\n",
    "\n",
    "```{figure} https://www.researchgate.net/publication/349921480/figure/fig2/AS:999677281460235@1615353045589/Max-pooling-and-average-pooling.png\n",
    ":align: center\n",
    "```\n",
    "\n",
    "## Global average pooling\n",
    "\n",
    "```{figure} https://www.guidetomlandai.com/assets/img/machine_learning/global_average_pooling.png\n",
    ":align: center\n",
    "```"
   ]
  },
  {
   "cell_type": "markdown",
   "metadata": {},
   "source": []
  }
 ],
 "metadata": {
  "kernelspec": {
   "display_name": "Python 3 (ipykernel)",
   "language": "python",
   "name": "python3"
  },
  "language_info": {
   "codemirror_mode": {
    "name": "ipython",
    "version": 3
   },
   "file_extension": ".py",
   "mimetype": "text/x-python",
   "name": "python",
   "nbconvert_exporter": "python",
   "pygments_lexer": "ipython3",
   "version": "3.10.9"
  }
 },
 "nbformat": 4,
 "nbformat_minor": 2
}
