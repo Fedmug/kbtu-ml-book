{
 "cells": [
  {
   "cell_type": "markdown",
   "id": "ccd19d51",
   "metadata": {},
   "source": [
    "# Random forest\n",
    "\n",
    "**Random forest** is an enhancement of bagging specifically tailored for decision trees, adding feature randomness to boost ensemble diversity and decorelate base algorithms. This makes the ensemble model more robust and less prone to overfitting. See [ML Handbook](https://education.yandex.ru/handbook/ml/article/ansambli-v-mashinnom-obuchenii#random-forest) for details."
   ]
  },
  {
   "cell_type": "markdown",
   "id": "d2782066",
   "metadata": {},
   "source": [
    "## Boston dataset\n",
    "\n",
    "Apply random forest to Boston dataset:"
   ]
  },
  {
   "cell_type": "code",
   "execution_count": 1,
   "id": "98331431",
   "metadata": {},
   "outputs": [],
   "source": [
    "import pandas as pd\n",
    "from sklearn.model_selection import train_test_split\n",
    "\n",
    "boston = pd.read_csv(\"../datasets/ISLP/Boston.csv\").drop(\"Unnamed: 0\", axis=1)\n",
    "y = boston['medv']\n",
    "X = boston.drop('medv', axis=1)\n",
    "X_train, X_test, y_train, y_test = train_test_split(X, y, test_size=0.2)"
   ]
  },
  {
   "cell_type": "markdown",
   "id": "b27a2acf",
   "metadata": {},
   "source": [
    "Train a random forest model:"
   ]
  },
  {
   "cell_type": "code",
   "execution_count": 6,
   "id": "132724f7",
   "metadata": {},
   "outputs": [
    {
     "name": "stdout",
     "output_type": "stream",
     "text": [
      "Train RF R2-score: 0.9834006883900643\n",
      "Test RF R2-score: 0.8407398510541089\n"
     ]
    }
   ],
   "source": [
    "from sklearn.ensemble import RandomForestRegressor\n",
    "\n",
    "rf = RandomForestRegressor(n_estimators=200, random_state=42)\n",
    "rf.fit(X_train, y_train)\n",
    "print(\"Train RF R2-score:\", rf.score(X_train, y_train))\n",
    "print(\"Test RF R2-score:\", rf.score(X_test, y_test))"
   ]
  },
  {
   "cell_type": "markdown",
   "id": "325600e9",
   "metadata": {},
   "source": [
    "### Bagging\n",
    "\n",
    "Now use bagging upon decision trees:"
   ]
  },
  {
   "cell_type": "code",
   "execution_count": 7,
   "id": "3af27114",
   "metadata": {},
   "outputs": [
    {
     "name": "stdout",
     "output_type": "stream",
     "text": [
      "Train bagging R2-score: 0.9813305794621153\n",
      "Test bagging R2-score: 0.8346613940252546\n"
     ]
    }
   ],
   "source": [
    "from sklearn.tree import DecisionTreeRegressor\n",
    "from sklearn.ensemble import BaggingRegressor\n",
    "\n",
    "base_model = DecisionTreeRegressor(random_state=42)\n",
    "bagging_model = BaggingRegressor(base_model, n_estimators=100, random_state=42)\n",
    "bagging_model.fit(X_train, y_train)\n",
    "\n",
    "print(\"Train bagging R2-score:\", bagging_model.score(X_train, y_train))\n",
    "print(\"Test bagging R2-score:\", bagging_model.score(X_test, y_test))"
   ]
  },
  {
   "cell_type": "markdown",
   "id": "ff73b20c",
   "metadata": {},
   "source": [
    "Train and test coefficients of determination are very close for these two models."
   ]
  },
  {
   "cell_type": "markdown",
   "id": "7187fed8",
   "metadata": {},
   "source": [
    "### Default dataset\n",
    "\n",
    "A synthetic dataset with binary target `default`:"
   ]
  },
  {
   "cell_type": "code",
   "execution_count": 31,
   "id": "9386f408",
   "metadata": {},
   "outputs": [
    {
     "data": {
      "text/html": [
       "<div>\n",
       "<style scoped>\n",
       "    .dataframe tbody tr th:only-of-type {\n",
       "        vertical-align: middle;\n",
       "    }\n",
       "\n",
       "    .dataframe tbody tr th {\n",
       "        vertical-align: top;\n",
       "    }\n",
       "\n",
       "    .dataframe thead th {\n",
       "        text-align: right;\n",
       "    }\n",
       "</style>\n",
       "<table border=\"1\" class=\"dataframe\">\n",
       "  <thead>\n",
       "    <tr style=\"text-align: right;\">\n",
       "      <th></th>\n",
       "      <th>default</th>\n",
       "      <th>student</th>\n",
       "      <th>balance</th>\n",
       "      <th>income</th>\n",
       "    </tr>\n",
       "  </thead>\n",
       "  <tbody>\n",
       "    <tr>\n",
       "      <th>0</th>\n",
       "      <td>No</td>\n",
       "      <td>No</td>\n",
       "      <td>729.526495</td>\n",
       "      <td>44361.625074</td>\n",
       "    </tr>\n",
       "    <tr>\n",
       "      <th>1</th>\n",
       "      <td>No</td>\n",
       "      <td>Yes</td>\n",
       "      <td>817.180407</td>\n",
       "      <td>12106.134700</td>\n",
       "    </tr>\n",
       "    <tr>\n",
       "      <th>2</th>\n",
       "      <td>No</td>\n",
       "      <td>No</td>\n",
       "      <td>1073.549164</td>\n",
       "      <td>31767.138947</td>\n",
       "    </tr>\n",
       "    <tr>\n",
       "      <th>3</th>\n",
       "      <td>No</td>\n",
       "      <td>No</td>\n",
       "      <td>529.250605</td>\n",
       "      <td>35704.493935</td>\n",
       "    </tr>\n",
       "    <tr>\n",
       "      <th>4</th>\n",
       "      <td>No</td>\n",
       "      <td>No</td>\n",
       "      <td>785.655883</td>\n",
       "      <td>38463.495879</td>\n",
       "    </tr>\n",
       "  </tbody>\n",
       "</table>\n",
       "</div>"
      ],
      "text/plain": [
       "  default student      balance        income\n",
       "0      No      No   729.526495  44361.625074\n",
       "1      No     Yes   817.180407  12106.134700\n",
       "2      No      No  1073.549164  31767.138947\n",
       "3      No      No   529.250605  35704.493935\n",
       "4      No      No   785.655883  38463.495879"
      ]
     },
     "execution_count": 31,
     "metadata": {},
     "output_type": "execute_result"
    }
   ],
   "source": [
    "default = pd.read_csv(\"../datasets/ISLP/Default.csv\")\n",
    "default.head()"
   ]
  },
  {
   "cell_type": "code",
   "execution_count": 32,
   "id": "125ee6e8",
   "metadata": {},
   "outputs": [
    {
     "data": {
      "text/plain": [
       "(10000, 4)"
      ]
     },
     "execution_count": 32,
     "metadata": {},
     "output_type": "execute_result"
    }
   ],
   "source": [
    "default.shape"
   ]
  },
  {
   "cell_type": "markdown",
   "id": "3876c9d1",
   "metadata": {},
   "source": [
    "Split into train and test:"
   ]
  },
  {
   "cell_type": "code",
   "execution_count": 27,
   "id": "0df8a3d9",
   "metadata": {},
   "outputs": [],
   "source": [
    "y = (default['default'] == 'Yes').astype(int)\n",
    "X = default.drop('default', axis=1)\n",
    "X['student_ohe'] = (X['student'] == 'Yes').astype(int)\n",
    "X.drop('student', axis=1, inplace=True)\n",
    "X_train, X_test, y_train, y_test = train_test_split(X, y, test_size=0.2)"
   ]
  },
  {
   "cell_type": "markdown",
   "id": "70b82546",
   "metadata": {},
   "source": [
    "Fit random forest classifier:"
   ]
  },
  {
   "cell_type": "code",
   "execution_count": 29,
   "id": "7aa4c175",
   "metadata": {},
   "outputs": [
    {
     "name": "stdout",
     "output_type": "stream",
     "text": [
      "Train RF accuracy: 1.0\n",
      "Test RF accuracy: 0.9655\n"
     ]
    }
   ],
   "source": [
    "from sklearn.ensemble import RandomForestClassifier\n",
    "\n",
    "rf = RandomForestClassifier(n_estimators=200, random_state=42)\n",
    "rf.fit(X_train, y_train)\n",
    "print(\"Train RF accuracy:\", rf.score(X_train, y_train))\n",
    "print(\"Test RF accuracy:\", rf.score(X_test, y_test))"
   ]
  },
  {
   "cell_type": "markdown",
   "id": "20b3677c",
   "metadata": {},
   "source": [
    "Apply bagging with decision tree as base classifier:"
   ]
  },
  {
   "cell_type": "code",
   "execution_count": 30,
   "id": "998cbfe2",
   "metadata": {},
   "outputs": [
    {
     "name": "stdout",
     "output_type": "stream",
     "text": [
      "Train bagging accuracy: 1.0\n",
      "Test bagging accuracy: 0.964\n"
     ]
    }
   ],
   "source": [
    "from sklearn.tree import DecisionTreeClassifier\n",
    "from sklearn.ensemble import BaggingClassifier\n",
    "\n",
    "base_model = DecisionTreeClassifier(random_state=42)\n",
    "bagging_model = BaggingClassifier(base_model, n_estimators=200, random_state=42)\n",
    "bagging_model.fit(X_train, y_train)\n",
    "\n",
    "print(\"Train bagging accuracy:\", bagging_model.score(X_train, y_train))\n",
    "print(\"Test bagging accuracy:\", bagging_model.score(X_test, y_test))"
   ]
  }
 ],
 "metadata": {
  "kernelspec": {
   "display_name": "Python 3 (ipykernel)",
   "language": "python",
   "name": "python3"
  },
  "language_info": {
   "codemirror_mode": {
    "name": "ipython",
    "version": 3
   },
   "file_extension": ".py",
   "mimetype": "text/x-python",
   "name": "python",
   "nbconvert_exporter": "python",
   "pygments_lexer": "ipython3",
   "version": "3.12.4"
  }
 },
 "nbformat": 4,
 "nbformat_minor": 5
}
