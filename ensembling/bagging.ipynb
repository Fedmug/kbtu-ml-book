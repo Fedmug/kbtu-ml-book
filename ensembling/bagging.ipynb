{
 "cells": [
  {
   "cell_type": "markdown",
   "metadata": {},
   "source": [
    "# Bagging\n",
    "\n",
    "[ML Handbook section](https://academy.yandex.ru/handbook/ml/article/beta-ansambli-v-mashinnom-obuchenii#begging)"
   ]
  }
 ],
 "metadata": {
  "language_info": {
   "name": "python"
  },
  "orig_nbformat": 4
 },
 "nbformat": 4,
 "nbformat_minor": 2
}
