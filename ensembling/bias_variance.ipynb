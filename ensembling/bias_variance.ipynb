{
 "cells": [
  {
   "cell_type": "markdown",
   "id": "b3f17283",
   "metadata": {},
   "source": [
    "# Bias-variance decomposition\n",
    "\n",
    "Resources:\n",
    "\n",
    "* [ML Handbook](https://education.yandex.ru/handbook/ml/article/bias-variance-decomposition)\n",
    "\n",
    "* {cite}`hastie2009elements` (pp. 219-228)"
   ]
  },
  {
   "cell_type": "markdown",
   "id": "14e4fec2",
   "metadata": {},
   "source": [
    "## Bias—variance decomposition for MSE\n",
    "\n",
    "Consider a regression model\n",
    "\n",
    "$$\n",
    "y = f(\\boldsymbol x) + \\varepsilon, \\quad \\mathbb E \\varepsilon = 0,\\quad \\mathbb V \\varepsilon = \\sigma^2\n",
    "$$\n",
    "\n",
    "(cp. with {ref}`probabilistic model for linear regression <prob-lin-reg>`).\n",
    "\n",
    "To estimate the error for prediction, calculate expectation of MSE:\n",
    "\n",
    "$$\n",
    "    \\mathbb E\\big[(y(\\boldsymbol x) - \\widehat y(\\boldsymbol x))^2 \\big] = \\mathbb E\\big[(f(\\boldsymbol x) + \\varepsilon - \\widehat y)^2 \\big] = \\mathbb E\\big[(f(\\boldsymbol x) - \\widehat y)^2 \\big] + \\sigma^2.\n",
    "$$\n",
    "\n",
    "Note that the prediction $\\widehat y$ is a random variable depending on the training dataset. Thus,\n",
    "\n",
    "$$\n",
    "\\mathbb E\\big[(f(\\boldsymbol x) - \\widehat y)^2 \\big]=\n",
    "\\mathbb E\\big[(f(\\boldsymbol x) - \\mathbb E\\widehat y + \\mathbb E\\widehat y - \\widehat y)^2 \\big] = \\mathbb E\\big(\\underbrace{f(\\boldsymbol x) - \\mathbb E\\widehat y}_{\\mathrm{bias}}\\big)^2 + \\underbrace{\\mathbb E\\big[(\\mathbb E\\widehat y - \\widehat y)^2\\big]}_{\\mathrm{variance}}.\n",
    "$$\n",
    "\n",
    "The bias-variance decomposition:\n",
    "\n",
    "$$\n",
    "    \\mathrm{MSE} = \\mathrm{bias}^2 + \\mathrm{variance} + \\sigma^2.\n",
    "$$"
   ]
  },
  {
   "cell_type": "code",
   "execution_count": null,
   "id": "02eb1632",
   "metadata": {},
   "outputs": [],
   "source": []
  }
 ],
 "metadata": {
  "kernelspec": {
   "display_name": "Python 3 (ipykernel)",
   "language": "python",
   "name": "python3"
  },
  "language_info": {
   "codemirror_mode": {
    "name": "ipython",
    "version": 3
   },
   "file_extension": ".py",
   "mimetype": "text/x-python",
   "name": "python",
   "nbconvert_exporter": "python",
   "pygments_lexer": "ipython3",
   "version": "3.11.4"
  }
 },
 "nbformat": 4,
 "nbformat_minor": 5
}
