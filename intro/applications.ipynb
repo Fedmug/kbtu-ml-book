{
 "cells": [
  {
   "cell_type": "markdown",
   "metadata": {},
   "source": [
    "# Applications of ML"
   ]
  },
  {
   "cell_type": "markdown",
   "metadata": {},
   "source": [
    "## Image recognition\n",
    "\n",
    "```{image} https://www.perficient.com/-/media/images/insights/hero-images/research_image-recognition-accuracy-study_hero.ashx?h=931&iar=0&w=1400&hash=E0AED7417F234D3C66F9037149BB7612\n",
    ":alt: img-recognition\n",
    ":class: bg-primary mb-1\n",
    ":width: 500px\n",
    ":align: center\n",
    "```"
   ]
  },
  {
   "cell_type": "markdown",
   "metadata": {},
   "source": [
    "## Recommendation systems\n",
    "\n",
    "```{image} https://vitalflux.com/wp-content/uploads/2022/08/collaborative-filtering-recommender-system.png\n",
    ":alt: img-recognition\n",
    ":class: bg-primary mb-1\n",
    ":width: 500px\n",
    ":align: center\n",
    "```"
   ]
  },
  {
   "cell_type": "markdown",
   "metadata": {},
   "source": [
    "## Sentiment analysis\n",
    "\n",
    "```{image} https://vitalflux.com/wp-content/uploads/2021/10/sentiment-analysis-machine-learning-techniques.png\n",
    ":alt: img-recognition\n",
    ":class: bg-primary mb-1\n",
    ":width: 500px\n",
    ":align: center\n",
    "```"
   ]
  },
  {
   "cell_type": "markdown",
   "metadata": {},
   "source": [
    "## Fraud detection\n",
    "\n",
    "```{image} https://thejournal.cii.co.uk/sites/default/files/2021-08/web_Fraud-concept_credit_Tanya%20Antusenok_shutterstock_1852581952.png\n",
    ":alt: img-recognition\n",
    ":class: bg-primary mb-1\n",
    ":width: 500px\n",
    ":align: center\n",
    "```\n",
    "\n",
    "## Spam filtering\n",
    "\n",
    "```{image} https://www.spcdn.org/images/spam-filter1.jpg\n",
    ":alt: img-recognition\n",
    ":class: bg-primary mb-1\n",
    ":width: 500px\n",
    ":align: center\n",
    "```"
   ]
  },
  {
   "cell_type": "markdown",
   "metadata": {},
   "source": [
    "## Machine translation\n",
    "\n",
    "```{image} https://ehlion.com/wp-content/uploads/2020/10/Machine-Translation.jpg\n",
    ":alt: img-recognition\n",
    ":class: bg-primary mb-1\n",
    ":width: 500px\n",
    ":align: center\n",
    "```"
   ]
  },
  {
   "cell_type": "markdown",
   "metadata": {},
   "source": [
    "## Robotics\n",
    "\n",
    "```{image} https://bostondynamics.com/wp-content/uploads/2023/05/spot-explorer-web-2.jpg\n",
    ":alt: img-recognition\n",
    ":class: bg-primary mb-1\n",
    ":width: 500px\n",
    ":align: center\n",
    "```"
   ]
  },
  {
   "cell_type": "markdown",
   "metadata": {},
   "source": [
    "## Playing games\n",
    "\n",
    "```{image} https://c.files.bbci.co.uk/0D9B/production/_88738430_pic1go.jpg\n",
    ":alt: img-recognition\n",
    ":class: bg-primary mb-1\n",
    ":width: 500px\n",
    ":align: center\n",
    "```\n",
    "\n",
    "<!---\n",
    "```{admonition} TODO\n",
    ":class: warning\n",
    "* Add some text description\n",
    "* Add some code\n",
    "* Add more applications \n",
    "* Add more morden stuff like chatGPT and generative AI\n",
    "* The interactive quizzes and plots are probably redundant here\n",
    "```\n",
    "--->\n",
    "\n"
   ]
  },
  {
   "cell_type": "markdown",
   "metadata": {},
   "source": [
    "## Image and text generation\n",
    "\n",
    "```{figure} https://s0.rbk.ru/v6_top_pics/media/img/3/69/346971151176693.jpeg\n",
    ":align: center\n",
    "```\n",
    "\n",
    "```{figure} https://media.licdn.com/dms/image/D5612AQFoxSZYLjV_EA/article-cover_image-shrink_720_1280/0/1677588476245?e=2147483647&v=beta&t=5WT3HMuBEmRSB9aJY-gUJkivFbH7DvkIH4LWk9T7u1Y\n",
    ":align: center\n",
    "```\n"
   ]
  }
 ],
 "metadata": {
  "kernelspec": {
   "display_name": "Python 3 (ipykernel)",
   "language": "python",
   "name": "python3"
  },
  "language_info": {
   "codemirror_mode": {
    "name": "ipython",
    "version": 3
   },
   "file_extension": ".py",
   "mimetype": "text/x-python",
   "name": "python",
   "nbconvert_exporter": "python",
   "pygments_lexer": "ipython3",
   "version": "3.11.4"
  }
 },
 "nbformat": 4,
 "nbformat_minor": 2
}
