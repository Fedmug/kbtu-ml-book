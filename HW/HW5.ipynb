{
 "cells": [
  {
   "cell_type": "markdown",
   "id": "bf0d66b6",
   "metadata": {},
   "source": [
    "(HW5)=\n",
    "# HW5\n",
    "\n",
    "\n",
    "## Task 5.1 (1.5 points)\n",
    "\n",
    "For a one-dimensional gaussian $\\xi \\sim \\mathcal N(\\mu, \\sigma^2)$ there are well-known rules of one, two and three sigmas:\n",
    "\n",
    "* one-sigma rule: $\\mathbb P(\\vert \\xi - \\mu \\vert \\leqslant \\sigma) = \\Phi(1) - \\Phi(-1) \\approx 0.6827$ \n",
    "* two-sigma rule: $\\mathbb P(\\vert \\xi - \\mu \\vert \\leqslant 2\\sigma) = \\Phi(2) - \\Phi(-2) \\approx 0.9545$ \n",
    "* three-sigma rule: $\\mathbb P(\\vert \\xi - \\mu \\vert \\leqslant 3\\sigma) = \\Phi(3) - \\Phi(-3) \\approx 0.9973$ \n",
    "\n",
    "```{figure} https://news.mit.edu/sites/default/files/styles/news_article__image_gallery/public/images/201202/20120208160239-1_0.jpg?itok=1X1a_HCs\n",
    ":align: center\n",
    "```"
   ]
  },
  {
   "cell_type": "code",
   "execution_count": 4,
   "id": "1b258107",
   "metadata": {},
   "outputs": [
    {
     "data": {
      "text/plain": [
       "(0.6826894921370859, 0.9544997361036416, 0.9973002039367398)"
      ]
     },
     "execution_count": 4,
     "metadata": {},
     "output_type": "execute_result"
    }
   ],
   "source": [
    "from scipy.stats import norm\n",
    "\n",
    "norm.cdf(1) - norm.cdf(-1), norm.cdf(2) - norm.cdf(-2), norm.cdf(3) - norm.cdf(-3)"
   ]
  },
  {
   "cell_type": "markdown",
   "id": "0be8df7e",
   "metadata": {},
   "source": [
    "Compute analagous values for a 2-d gaussian distribution $\\boldsymbol \\xi \\sim \\mathcal N(\\boldsymbol 0, \\boldsymbol I_2)$. Namely, find $\\mathbb P(\\Vert\\boldsymbol \\xi\\Vert_2 \\leqslant 1)$, $\\mathbb P(\\Vert\\boldsymbol \\xi\\Vert_2 \\leqslant 2)$, $\\mathbb P(\\Vert\\boldsymbol \\xi\\Vert_2 \\leqslant 3)$.\n",
    "\n",
    "**Note:** this problem assumes analytic solution. If you provide a reliable numeric solution, you'll receive $0.3$ points as bonus.\n",
    "\n",
    "### YOUR SOLUTION HERE"
   ]
  },
  {
   "cell_type": "markdown",
   "id": "339572a7",
   "metadata": {},
   "source": [
    "## Task 5.2 (1.5 points)\n",
    "\n",
    "Let $X_1, \\ldots, X_n$ is an i.i.d. sample from $\\mathcal N(0, \\sigma^2)$ and $\\widehat \\sigma = \\frac 1n \\sum\\limits_{i=1}^n |X_i|$.\n",
    "\n",
    "* Find bias, se and MSE of the estimation $\\widehat \\sigma$. Is this estimation unbiased? (**0.7 points**)\n",
    "* If $\\widehat \\sigma$ turned out to be biased, fix it to get an unbiased estimation of $\\sigma$. Find se of this corrected estimation. Is it consistent? Justify your answer. (**0.8 points**)\n",
    "\n",
    "### YOUR SOLUTION HERE"
   ]
  },
  {
   "cell_type": "markdown",
   "id": "cebd2b22",
   "metadata": {},
   "source": [
    "## Task 5.3 (1 point)\n",
    "\n",
    "\n",
    "Let $X_1, \\ldots, X_n$ is an i.i.d. sample form $U[0, 2\\theta]$. The parameter $\\theta$ can be estimated as\n",
    "$\\widehat\\theta = \\overline X_n$ (sample average) or $\\tilde\\theta = \\mathrm{med}(X_1, \\ldots, X_n)$ (sample median). According to ML Handbook, both estimations are unbiased, and $\\mathbb V \\widehat\\theta = \\frac{\\theta^2}{3n}$, $\\mathbb V \\tilde\\theta = \\frac{\\theta^2}{n+3}$. Hence, due to the central limit theorem\n",
    "\n",
    "$$\n",
    "    \\widehat\\theta \\approx \\mathcal N\\Big(\\theta, \\frac{\\theta^2}{3n}\\Big), \\quad\n",
    "    \\tilde\\theta \\approx \\mathcal N\\Big(\\theta, \\frac{\\theta^2}{n+3}\\Big), \\quad n \\gg 1.\n",
    "$$\n",
    "\n",
    "Plot two histograms on the same plot verifying this theoretical statements. Add two dashed lines for gaussians as it done {ref}`here <CLT>`."
   ]
  }
 ],
 "metadata": {
  "celltoolbar": "Tags",
  "kernelspec": {
   "display_name": "Python 3 (ipykernel)",
   "language": "python",
   "name": "python3"
  },
  "language_info": {
   "codemirror_mode": {
    "name": "ipython",
    "version": 3
   },
   "file_extension": ".py",
   "mimetype": "text/x-python",
   "name": "python",
   "nbconvert_exporter": "python",
   "pygments_lexer": "ipython3",
   "version": "3.11.4"
  }
 },
 "nbformat": 4,
 "nbformat_minor": 5
}
