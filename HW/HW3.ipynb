{
 "cells": [
  {
   "cell_type": "markdown",
   "id": "bf0d66b6",
   "metadata": {},
   "source": [
    "(HW3)=\n",
    "# HW3\n",
    "\n",
    "## Task 3.1 (0.5 points)\n",
    "\n",
    "Express $\\sigma''(x)$ in terms of $\\sigma(x)$ where $\\sigma(x) = \\frac 1{1 + e^{-t}}$ — sigmoid function. Find all $x$ for which $\\sigma''(x) = 0$. Also find intervals on which sigmoid is convex/concave.\n",
    "\n",
    "### YOUR SOLUTION HERE\n",
    "\n"
   ]
  },
  {
   "cell_type": "markdown",
   "id": "cebd2b22",
   "metadata": {},
   "source": [
    "## Task 3.2 (0.5 points)\n",
    "\n",
    "Let $f(\\boldsymbol X) = \\vert \\boldsymbol X \\vert^k$, $k\\in\\mathbb N$. Find $\\nabla f(\\boldsymbol X)$.\n",
    "\n",
    "### YOUR SOLUTION HERE"
   ]
  },
  {
   "cell_type": "markdown",
   "id": "e2b0a12c",
   "metadata": {},
   "source": [
    "## Task 3.3 (2 points)\n",
    "\n",
    "Let $\\boldsymbol A \\in \\mathbb R^{n\\times n}$ be a symmetric matrix and\n",
    "\n",
    "$$\n",
    "f(\\boldsymbol x) = \\frac{\\boldsymbol x^\\mathsf{T} \\boldsymbol{Ax}}{\\boldsymbol x^\\mathsf{T} \\boldsymbol x}, \\quad \\boldsymbol x \\in \\mathbb R^n.\n",
    "$$ \n",
    "\n",
    "(a) (**1 point**) Calculate $\\nabla f(\\boldsymbol x)$ and prove that $\\nabla f(\\boldsymbol x) = \\boldsymbol 0$ iff $\\boldsymbol x$ is an eigenvector of $\\boldsymbol A$.\n",
    "\n",
    "(b) (**1 point**) Prove that if $\\boldsymbol A$ is positive definite then\n",
    "\n",
    "$$\n",
    "\\max\\limits_{\\boldsymbol x \\ne \\boldsymbol 0} f(\\boldsymbol x) = \\lambda_{\\max}(\\boldsymbol A), \\quad\n",
    "\\min\\limits_{\\boldsymbol x \\ne \\boldsymbol 0} f(\\boldsymbol x) = \\lambda_{\\min}(\\boldsymbol A)\n",
    "$$"
   ]
  },
  {
   "cell_type": "markdown",
   "id": "e34afdb9",
   "metadata": {},
   "source": [
    "## Task 3.4 (1 point)\n",
    "\n",
    "4. Find \n",
    "\n",
    "    $$\n",
    "        \\min\\limits_{\\boldsymbol X} \\Vert \\boldsymbol{AX} - \\boldsymbol B  \\Vert_F^2, \\quad \\boldsymbol A \\in \\mathbb R^{k\\times m},\\quad \\boldsymbol B \\in \\mathbb R^{k\\times n},\\quad \\mathrm{rank}(\\boldsymbol A) = m.\n",
    "    $$\n",
    "\n",
    "### YOUR SOLUTION  HERE"
   ]
  }
 ],
 "metadata": {
  "celltoolbar": "Tags",
  "kernelspec": {
   "display_name": "Python 3 (ipykernel)",
   "language": "python",
   "name": "python3"
  },
  "language_info": {
   "codemirror_mode": {
    "name": "ipython",
    "version": 3
   },
   "file_extension": ".py",
   "mimetype": "text/x-python",
   "name": "python",
   "nbconvert_exporter": "python",
   "pygments_lexer": "ipython3",
   "version": "3.11.4"
  }
 },
 "nbformat": 4,
 "nbformat_minor": 5
}
