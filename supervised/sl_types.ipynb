{
 "cells": [
  {
   "cell_type": "markdown",
   "metadata": {},
   "source": [
    "# Types of supervised learning\n",
    "\n",
    "Given a labeled training dataset \n",
    "\n",
    "```{math}\n",
    ":label: sl-dataset\n",
    "\\mathcal D = \\{(\\boldsymbol x_i, y_i)\\}_{i=1}^n, \\quad \\boldsymbol x_i \\in \\mathbb R^d, \\quad y_i \\in \\mathcal Y,\n",
    "```\n",
    "\n",
    "we want to build a **predictive model** $f_{\\boldsymbol \\theta}\\colon \\mathbb R^d\\to \\mathcal Y$ which is usually taken from some parametric family \n",
    "\n",
    "$$\n",
    "\\mathcal F = \\{f_{\\boldsymbol \\theta}(\\boldsymbol x) \\vert \\boldsymbol \\theta \\in \\mathbb R^m\\}.\n",
    "$$\n",
    "\n",
    "````{admonition} Dummy model\n",
    ":class: tip\n",
    "The simplest possible model is **constant** (**dummy**) model which always predicts the same value:\n",
    "\n",
    "```{math}\n",
    "    \\widehat y_i = f(\\boldsymbol x_i) = c\\in\\mathcal Y \\text{ for all } i = 1, \\ldots, n.\n",
    "```\n",
    "\n",
    "A dummy model has no parameters ($m=0$) and does not require any training.\n",
    "````\n",
    "\n",
    "To **fit** a model means to find a value of $\\boldsymbol \\theta$ which minimizes the loss function\n",
    "\n",
    "$$\n",
    "    \\mathcal L(\\boldsymbol \\theta) = \\frac 1n \\sum\\limits_{i=1}^n \\ell(f_{\\boldsymbol \\theta}(\\boldsymbol x_i), y_i) \\to \\min \\limits_{\\boldsymbol \\theta}\n",
    "$$\n",
    "\n",
    "Depending on the set of targets $\\mathcal Y$ supervised learning is split into **classification** and **regression**."
   ]
  },
  {
   "cell_type": "markdown",
   "metadata": {},
   "source": [
    "## Classification\n",
    "\n",
    "If $\\mathcal Y$ is a finite set of categories, the predictive model $f_{\\boldsymbol \\theta}\\colon \\mathbb R^d\\to \\mathcal Y$ is often called a **classifier**. In should classify inputs into several categories from $\\mathcal Y$.\n",
    "\n",
    "### Binary classification\n",
    "\n",
    "```{figure} https://miro.medium.com/max/1400/1*biZq-ihFzq1I6Ssjz7UtdA.jpeg\n",
    ":alt: cats-vs-dogs\n",
    ":align: center\n",
    "```\n",
    "\n",
    "In **binary classification** problems there are only two classes, which are often called *positive* and *negative*. The target set $\\mathcal Y$ in this case consists of two elements, and usually denoted as $\\mathcal Y = \\{0, 1\\}$ or $\\mathcal Y = \\{-1, +1\\}$. \n",
    "\n",
    "#### Examples\n",
    "\n",
    "* spam filtering (`1 = spam`, `0 = not spam`)\n",
    "* medical diagnosis (`1 = sick`, `0 = healthy`)\n",
    "* sentiment analysis (`1 = positive`, `0 = negative`)\n",
    "* credit card fraud detection (`1 = fraudulent transaction`, `0 = legitimate transaction`)\n",
    "* customer churn prediction (`1 = cutomer leaves`, `0 = customer stays`)\n",
    "\n",
    "```{note}\n",
    "There’s no inherent rule that \"positive\" must correspond to a \"good\" outcome. Instead, it usually refers to the class of greater interest.\n",
    "```\n",
    "\n",
    "#### Loss function\n",
    "\n",
    "Let $\\widehat y_i = f_{\\boldsymbol \\theta}(\\boldsymbol x_i)$ be the prediction of the model on the $i$-th sample.\n",
    "A typical loss function for binary classification is **misclassification rate** (or **error rate**) — the fraction of incorrect predictions (misclassifications):\n",
    "\n",
    "```{math}\n",
    "    :label: mis-rate\n",
    "    \\mathcal L(\\boldsymbol \\theta) = \\frac 1n \\sum\\limits_{i=1}^n \\mathbb I\\big[y_i \\ne \\hat y_i\\big]\n",
    "```\n",
    "\n",
    "The error rate is not a smooth function, that's why a binary classifier often predicts a number $\\tilde y \\in (0, 1)$ which is treated as probability of positive class. In such case **binary cross-entropy loss** is used:\n",
    "\n",
    "```{math}\n",
    "        :label: binary-cross-entropy\n",
    "    \\mathcal L(\\boldsymbol \\theta) = -\\frac 1n \\sum\\limits_{i=1}^n \\big(y_i \\log(\\tilde y_i) + (1-y_i) \\log(1 - \\tilde y_i)\\big)\n",
    "```\n",
    "\n",
    "```{admonition} Notation\n",
    ":class: important\n",
    "\n",
    "1. By convention $0\\log 0 = 0$\n",
    "\n",
    "2. By default each $\\log$ has base $e$\n",
    "\n",
    "3. **Indicator** $\\mathbb I[P]$ is defined as\n",
    "\n",
    "$$\n",
    "    \\mathbb I[P] = \\begin{cases}\n",
    "        1, & \\text{ if } P \\text{ is true} \\\\\n",
    "        0, & \\text{ if } P \\text{ is false}\n",
    "    \\end{cases}\n",
    "$$\n",
    "\n",
    "```\n",
    "\n",
    "````{admonition} Example\n",
    "Suppose that true labels $y$ and predictions $\\hat y$ are as follows:\n",
    "\n",
    "```{table} Binary classificaton\n",
    ":name: binary-metrics\n",
    "\n",
    "|$y$ | $\\hat y$| $\\tilde y$ |\n",
    "|:---:|:------:|:--------: |\n",
    "|$0$| $0$  | $0.2$ |\n",
    "|$0$| $1$  | $0.6$ |\n",
    "|$1$| $0$  | $0.3$ |\n",
    "|$1$| $1$  | $0.9$ |\n",
    "|$0$| $0$  | $0.1$ |\n",
    "```\n",
    "\n",
    "Calculate the missclassification rate {eq}`mis-rate` and the binary cross-entropy loss {eq}`binary-cross-entropy`.\n",
    "\n",
    "```{admonition} Solution\n",
    ":class: tip, dropdown\n",
    "There are $2$ misclassifications, hence, the error rate equals $\\frac 25 = 0.4$. For the cross entropy loss we have\n",
    "\n",
    "$$\n",
    "    \\mathcal L = -\\frac15\\big(\\log(1 - 0.2) + \\log(1 - 0.6) + \\log(0.3) + \\log(0.9) + \\log (1-0.1)\\big) \\approx 0.51. \n",
    "$$\n",
    "```\n",
    "````\n",
    "\n",
    "\n",
    "<span style=\"display:none\" id=\"binary_loss\">W3sicXVlc3Rpb24iOiAiQ2FsY3VsYXRlIHRoZSBtaXNjbGFzc2lmaWNhdGlvbiByYXRlIiwgInR5cGUiOiAibnVtZXJpYyIsICJhbnN3ZXJzIjogW3sidHlwZSI6ICJ2YWx1ZSIsICJ2YWx1ZSI6IDAuNCwgImNvcnJlY3QiOiB0cnVlLCAiZmVlZGJhY2siOiAiUmlnaHQgeW91IGFyZSEgSGVyZSAkTj01JCwgdHdvIGluY29ycmVjdCBwcmVkaWN0aW9ucywgc28gdGhlIGxvc3MgaXMgJFxcZnJhYyAyNSQifSwgeyJ0eXBlIjogImRlZmF1bHQiLCAiZmVlZGJhY2siOiAiTm9wZSJ9XX0sIHsicXVlc3Rpb24iOiAiQ2FsY3VsYXRlIHRoZSBjcm9zcy1lbnRyb3B5IGxvc3MiLCAidHlwZSI6ICJtYW55X2Nob2ljZSIsICJhbnN3ZXJzIjogW3siYW5zd2VyIjogIiQwJCIsICJjb3JyZWN0IjogZmFsc2UsICJmZWVkYmFjayI6ICJUb28gbG93In0sIHsiYW5zd2VyIjogIiRcXGZyYWMgMTUgXFxsb2cgMiQiLCAiY29ycmVjdCI6IGZhbHNlLCAiZmVlZGJhY2siOiAiRG9lc24ndCBsb29rIGNvcnJlY3QifSwgeyJhbnN3ZXIiOiAiJFxcZnJhYyAxNSBcXGxvZyAzJCIsICJjb3JyZWN0IjogZmFsc2UsICJmZWVkYmFjayI6ICJOb3BlIn0sIHsiYW5zd2VyIjogIiQrXFxpbmZ0eSQiLCAiY29ycmVjdCI6IHRydWUsICJmZWVkYmFjayI6ICJPaCwgeWVhaC4uLiJ9XX1d</span>"
   ]
  },
  {
   "cell_type": "markdown",
   "metadata": {},
   "source": [
    "### Multiclass classification\n",
    "\n",
    "```{figure} https://upload.wikimedia.org/wikipedia/commons/7/71/Multiclass_classification.png\n",
    ":align: center\n",
    "```\n",
    "\n",
    "Quite often we need to categorize into several distance classes. Here are some examples:\n",
    "\n",
    "* image classificaton (e.g., [MNIST](https://yann.lecun.com/exdb/mnist/))\n",
    "* language identification\n",
    "* music genre detection\n",
    "\n",
    "The error rate {eq}`mis-rate` is still valid if we have more than two classes $\\mathcal Y = \\{1, 2, \\ldots, K\\}$. More often, a multiclass variant of {eq}`binary-cross-entropy` is used.\n",
    "\n",
    "After applying one-hot encoding targets become $K$-dimensional vectors:\n",
    "\n",
    "$$\n",
    "    \\boldsymbol y_i \\in \\{0, 1\\}^K,\\quad \\sum\\limits_{k=1}^K y_{ik} = 1.\n",
    "$$\n",
    "\n",
    "Now suppose that a classifier predicts a vector of probabilities of belonging to class $k$:\n",
    "\n",
    "$$\n",
    "    \\hat{\\boldsymbol y}_i = f_{\\boldsymbol \\theta}(\\boldsymbol x_i) \\in [0, 1]^K,\\quad\n",
    "        \\hat y_{ik} = \\mathbb P(\\boldsymbol x_i \\in \\text{ class }k)\n",
    "$$\n",
    "    \n",
    "The **cross-entropy loss** is calculated as\n",
    "\n",
    "```{math}\n",
    ":label: cross-entropy\n",
    "\\mathcal L(\\boldsymbol \\theta) = -\\frac 1n \\sum\\limits_{i=1}^n \\sum\\limits_{k=1}^Ky_{ik} \\log(\\hat y_{ik}).\n",
    "```\n",
    "\n",
    "```{admonition} Example\n",
    "Classifying into $3$ classes, model produces the following outputs:\n",
    "\n",
    "|$y$ | $\\boldsymbol {\\hat y}$|\n",
    "|:---:|:-------------------:|\n",
    "|$0$| $(0.25, 0.4, 0.35)$  |\n",
    "|$0$| $(0.5, 0.3, 0.2)$  |\n",
    "|$1$| $\\big(\\frac 12 - \\frac 1{2\\sqrt 2}, \\frac 1{\\sqrt 2}, \\frac 12 - \\frac 1{2\\sqrt 2}\\big)$  |\n",
    "|$2$| $(0, 0, 1)$  |\n",
    "\n",
    "Calculate the cross-entropy loss {eq}`cross-entropy`. Assume that log base is $2$.\n",
    "```\n",
    "<span style=\"display:none\" id=\"cross_entropy_loss\">W3sicXVlc3Rpb24iOiAiQ2FsY3VsYXRlIHRoZSBjcm9zcyBlbnRyb3B5IGZyb20gdGhlIHByZXZpb3VzIGV4YW1wbGUiLCAidHlwZSI6ICJudW1lcmljIiwgImFuc3dlcnMiOiBbeyJ0eXBlIjogInZhbHVlIiwgInZhbHVlIjogMC44NzUsICJjb3JyZWN0IjogdHJ1ZSwgImZlZWRiYWNrIjogIkV4YWN0bHkhIn0sIHsidHlwZSI6ICJkZWZhdWx0IiwgImZlZWRiYWNrIjogIkluY29ycmVjdCJ9XX1d</span>"
   ]
  },
  {
   "cell_type": "code",
   "execution_count": null,
   "metadata": {
    "tags": [
     "remove-input"
    ]
   },
   "outputs": [],
   "source": [
    "from jupyterquiz import display_quiz\n",
    "display_quiz(\"#cross_entropy_loss\")"
   ]
  },
  {
   "cell_type": "markdown",
   "metadata": {},
   "source": [
    "## Regression\n",
    "\n",
    "If target set $\\mathcal Y$ is continuous (e.g., $\\mathcal Y = \\mathbb R$ or $\\mathcal Y = \\mathbb R^m$) the predictive model $f_{\\boldsymbol \\theta}\\colon \\mathbb R^d\\to \\mathcal Y$ is called a **regression model** or **regressor**.\n",
    "\n",
    "The common choice for the loss on individual objects is **quadratic loss** \n",
    "\n",
    "$$\n",
    "    \\ell_2(\\widehat y, y) = (y - \\widehat y)^2\n",
    "$$\n",
    "\n",
    "The overall loss function is obtained by averaging over the training dataset {eq}`sl-dataset`:\n",
    "\n",
    "$$\n",
    "    \\mathcal L(\\boldsymbol \\theta) = \\mathrm{MSE}(\\boldsymbol \\theta) = \\frac 1n\\sum\\limits_{i=1}^n \\ell_2(\\widehat y_i, y_i) = \\frac 1n\\sum\\limits_{i=1}^n (y_i - f_{\\boldsymbol \\theta}(\\boldsymbol x_i))^2\n",
    "$$\n",
    "\n",
    "This loss is called **mean squared error**.\n",
    "\n",
    "(lr-1d-plot)=\n",
    "### Linear regression\n",
    "\n",
    "If the function $f_{\\boldsymbol \\theta}(\\boldsymbol x_i) = \\boldsymbol {\\theta^\\mathsf{T} x}_i + b$ is linear, then the model is called **linear regression**. In case of one feature this is just a linear function of a single variable\n",
    "\n",
    "$$\n",
    "    \\widehat y_i = a x_i + b.\n",
    "$$"
   ]
  },
  {
   "cell_type": "code",
   "execution_count": 5,
   "metadata": {
    "tags": [
     "remove-input"
    ]
   },
   "outputs": [
    {
     "data": {
      "application/vnd.plotly.v1+json": {
       "config": {
        "plotlyServerURL": "https://plot.ly"
       },
       "data": [
        {
         "marker": {
          "color": "blue"
         },
         "mode": "markers",
         "name": "x",
         "type": "scatter",
         "visible": false,
         "x": [
          0,
          0.5,
          1
         ],
         "y": [
          -5.164237727713555,
          1.0527843331221856,
          1.2832964691256215
         ]
        },
        {
         "marker": {
          "color": "red"
         },
         "mode": "lines",
         "name": "y=kx+b",
         "type": "scatter",
         "visible": false,
         "x": [
          0,
          0.5,
          1
         ],
         "y": [
          -4.166486073574838,
          -0.9427189751552492,
          2.2810481232643394
         ]
        },
        {
         "line": {
          "color": "black",
          "width": 2
         },
         "marker": {
          "opacity": 0,
          "size": 5
         },
         "type": "scatter",
         "visible": false,
         "x": [
          0,
          0,
          null,
          0.5,
          0.5,
          null,
          1,
          1,
          null
         ],
         "y": [
          -5.164237727713555,
          -4.166486073574838,
          null,
          1.0527843331221856,
          -0.9427189751552492,
          null,
          1.2832964691256215,
          2.2810481232643394,
          null
         ]
        },
        {
         "marker": {
          "color": "blue"
         },
         "mode": "markers",
         "name": "x",
         "type": "scatter",
         "visible": false,
         "x": [
          0,
          0.3333333333333333,
          0.6666666666666666,
          1
         ],
         "y": [
          -3.2577131128323242,
          1.0110885954074593,
          -0.001237116467971977,
          1.9062710934005924
         ]
        },
        {
         "marker": {
          "color": "red"
         },
         "mode": "lines",
         "name": "y=kx+b",
         "type": "scatter",
         "visible": false,
         "x": [
          0,
          0.3333333333333333,
          0.6666666666666666,
          1
         ],
         "y": [
          -2.257341671146559,
          -0.8093789804642273,
          0.6385837102181045,
          2.0865464009004366
         ]
        },
        {
         "line": {
          "color": "black",
          "width": 2
         },
         "marker": {
          "opacity": 0,
          "size": 5
         },
         "type": "scatter",
         "visible": false,
         "x": [
          0,
          0,
          null,
          0.3333333333333333,
          0.3333333333333333,
          null,
          0.6666666666666666,
          0.6666666666666666,
          null,
          1,
          1,
          null
         ],
         "y": [
          -3.2577131128323242,
          -2.257341671146559,
          null,
          1.0110885954074593,
          -0.8093789804642273,
          null,
          -0.001237116467971977,
          0.6385837102181045,
          null,
          1.9062710934005924,
          2.0865464009004366,
          null
         ]
        },
        {
         "marker": {
          "color": "blue"
         },
         "mode": "markers",
         "name": "x",
         "type": "scatter",
         "visible": false,
         "x": [
          0,
          0.25,
          0.5,
          0.75,
          1
         ],
         "y": [
          -3.2005993693937116,
          2.5713634081740433,
          -0.43034803302305524,
          -1.0927592749710968,
          4.688339642562224
         ]
        },
        {
         "marker": {
          "color": "red"
         },
         "mode": "lines",
         "name": "y=kx+b",
         "type": "scatter",
         "visible": false,
         "x": [
          0,
          0.25,
          0.5,
          0.75,
          1
         ],
         "y": [
          -1.9155517934836652,
          -0.7041762594069922,
          0.5071992746696807,
          1.7185748087463537,
          2.9299503428230267
         ]
        },
        {
         "line": {
          "color": "black",
          "width": 2
         },
         "marker": {
          "opacity": 0,
          "size": 5
         },
         "type": "scatter",
         "visible": false,
         "x": [
          0,
          0,
          null,
          0.25,
          0.25,
          null,
          0.5,
          0.5,
          null,
          0.75,
          0.75,
          null,
          1,
          1,
          null
         ],
         "y": [
          -3.2005993693937116,
          -1.9155517934836652,
          null,
          2.5713634081740433,
          -0.7041762594069922,
          null,
          -0.43034803302305524,
          0.5071992746696807,
          null,
          -1.0927592749710968,
          1.7185748087463537,
          null,
          4.688339642562224,
          2.9299503428230267,
          null
         ]
        },
        {
         "marker": {
          "color": "blue"
         },
         "mode": "markers",
         "name": "x",
         "type": "scatter",
         "visible": false,
         "x": [
          0,
          0.2,
          0.4,
          0.6000000000000001,
          0.8,
          1
         ],
         "y": [
          0.1904827136820495,
          2.6699950625048747,
          1.9078787882274368,
          0.9708378598051304,
          3.9610900231476966,
          -0.8943288484737166
         ]
        },
        {
         "marker": {
          "color": "red"
         },
         "mode": "lines",
         "name": "y=kx+b",
         "type": "scatter",
         "visible": false,
         "x": [
          0,
          0.2,
          0.4,
          0.6000000000000001,
          0.8,
          1
         ],
         "y": [
          1.6453602562874363,
          1.57427986036536,
          1.5031994644432836,
          1.4321190685212073,
          1.361038672599131,
          1.2899582766770545
         ]
        },
        {
         "line": {
          "color": "black",
          "width": 2
         },
         "marker": {
          "opacity": 0,
          "size": 5
         },
         "type": "scatter",
         "visible": false,
         "x": [
          0,
          0,
          null,
          0.2,
          0.2,
          null,
          0.4,
          0.4,
          null,
          0.6000000000000001,
          0.6000000000000001,
          null,
          0.8,
          0.8,
          null,
          1,
          1,
          null
         ],
         "y": [
          0.1904827136820495,
          1.6453602562874363,
          null,
          2.6699950625048747,
          1.57427986036536,
          null,
          1.9078787882274368,
          1.5031994644432836,
          null,
          0.9708378598051304,
          1.4321190685212073,
          null,
          3.9610900231476966,
          1.361038672599131,
          null,
          -0.8943288484737166,
          1.2899582766770545,
          null
         ]
        },
        {
         "marker": {
          "color": "blue"
         },
         "mode": "markers",
         "name": "x",
         "type": "scatter",
         "visible": false,
         "x": [
          0,
          0.16666666666666666,
          0.3333333333333333,
          0.5,
          0.6666666666666666,
          0.8333333333333333,
          1
         ],
         "y": [
          -0.856128244295605,
          0.6457031177163791,
          -1.8921029409758325,
          2.9738863071095163,
          -1.2397889096413848,
          2.1078056585500313,
          -0.17859123020851464
         ]
        },
        {
         "marker": {
          "color": "red"
         },
         "mode": "lines",
         "name": "y=kx+b",
         "type": "scatter",
         "visible": false,
         "x": [
          0,
          0.16666666666666666,
          0.3333333333333333,
          0.5,
          0.6666666666666666,
          0.8333333333333333,
          1
         ],
         "y": [
          -0.3780091225989538,
          -0.17768304562527446,
          0.022643031348404896,
          0.22296910832208428,
          0.4232951852957636,
          0.6236212622694429,
          0.8239473392431224
         ]
        },
        {
         "line": {
          "color": "black",
          "width": 2
         },
         "marker": {
          "opacity": 0,
          "size": 5
         },
         "type": "scatter",
         "visible": false,
         "x": [
          0,
          0,
          null,
          0.16666666666666666,
          0.16666666666666666,
          null,
          0.3333333333333333,
          0.3333333333333333,
          null,
          0.5,
          0.5,
          null,
          0.6666666666666666,
          0.6666666666666666,
          null,
          0.8333333333333333,
          0.8333333333333333,
          null,
          1,
          1,
          null
         ],
         "y": [
          -0.856128244295605,
          -0.3780091225989538,
          null,
          0.6457031177163791,
          -0.17768304562527446,
          null,
          -1.8921029409758325,
          0.022643031348404896,
          null,
          2.9738863071095163,
          0.22296910832208428,
          null,
          -1.2397889096413848,
          0.4232951852957636,
          null,
          2.1078056585500313,
          0.6236212622694429,
          null,
          -0.17859123020851464,
          0.8239473392431224,
          null
         ]
        },
        {
         "marker": {
          "color": "blue"
         },
         "mode": "markers",
         "name": "x",
         "type": "scatter",
         "visible": false,
         "x": [
          0,
          0.14285714285714285,
          0.2857142857142857,
          0.42857142857142855,
          0.5714285714285714,
          0.7142857142857142,
          0.8571428571428571,
          1
         ],
         "y": [
          0.4185704085332894,
          -1.098344964007197,
          0.18507506021831382,
          0.06628755281575538,
          -0.26222650144951365,
          2.62481113639649,
          -1.9356324832450276,
          0.09585036408096959
         ]
        },
        {
         "marker": {
          "color": "red"
         },
         "mode": "lines",
         "name": "y=kx+b",
         "type": "scatter",
         "visible": false,
         "x": [
          0,
          0.14285714285714285,
          0.2857142857142857,
          0.42857142857142855,
          0.5714285714285714,
          0.7142857142857142,
          0.8571428571428571,
          1
         ],
         "y": [
          -0.010918522786859352,
          -0.004427852942646679,
          0.002062816901565994,
          0.008553486745778667,
          0.01504415658999134,
          0.02153482643420401,
          0.028025496278416686,
          0.034516166122629366
         ]
        },
        {
         "line": {
          "color": "black",
          "width": 2
         },
         "marker": {
          "opacity": 0,
          "size": 5
         },
         "type": "scatter",
         "visible": false,
         "x": [
          0,
          0,
          null,
          0.14285714285714285,
          0.14285714285714285,
          null,
          0.2857142857142857,
          0.2857142857142857,
          null,
          0.42857142857142855,
          0.42857142857142855,
          null,
          0.5714285714285714,
          0.5714285714285714,
          null,
          0.7142857142857142,
          0.7142857142857142,
          null,
          0.8571428571428571,
          0.8571428571428571,
          null,
          1,
          1,
          null
         ],
         "y": [
          0.4185704085332894,
          -0.010918522786859352,
          null,
          -1.098344964007197,
          -0.004427852942646679,
          null,
          0.18507506021831382,
          0.002062816901565994,
          null,
          0.06628755281575538,
          0.008553486745778667,
          null,
          -0.26222650144951365,
          0.01504415658999134,
          null,
          2.62481113639649,
          0.02153482643420401,
          null,
          -1.9356324832450276,
          0.028025496278416686,
          null,
          0.09585036408096959,
          0.034516166122629366,
          null
         ]
        },
        {
         "marker": {
          "color": "blue"
         },
         "mode": "markers",
         "name": "x",
         "type": "scatter",
         "visible": false,
         "x": [
          0,
          0.125,
          0.25,
          0.375,
          0.5,
          0.625,
          0.75,
          0.875,
          1
         ],
         "y": [
          1.684876255427992,
          2.319735875224978,
          -0.48213168502996884,
          1.1275007363452145,
          -0.23970584720639732,
          2.4839377343918474,
          1.0346106494128917,
          3.648867685757807,
          -1.228942106413284
         ]
        },
        {
         "marker": {
          "color": "red"
         },
         "mode": "lines",
         "name": "y=kx+b",
         "type": "scatter",
         "visible": false,
         "x": [
          0,
          0.125,
          0.25,
          0.375,
          0.5,
          0.625,
          0.75,
          0.875,
          1
         ],
         "y": [
          1.3683914563568487,
          1.3137588505429443,
          1.25912624472904,
          1.2044936389151357,
          1.1498610331012313,
          1.095228427287327,
          1.0405958214734226,
          0.9859632156595182,
          0.9313306098456139
         ]
        },
        {
         "line": {
          "color": "black",
          "width": 2
         },
         "marker": {
          "opacity": 0,
          "size": 5
         },
         "type": "scatter",
         "visible": false,
         "x": [
          0,
          0,
          null,
          0.125,
          0.125,
          null,
          0.25,
          0.25,
          null,
          0.375,
          0.375,
          null,
          0.5,
          0.5,
          null,
          0.625,
          0.625,
          null,
          0.75,
          0.75,
          null,
          0.875,
          0.875,
          null,
          1,
          1,
          null
         ],
         "y": [
          1.684876255427992,
          1.3683914563568487,
          null,
          2.319735875224978,
          1.3137588505429443,
          null,
          -0.48213168502996884,
          1.25912624472904,
          null,
          1.1275007363452145,
          1.2044936389151357,
          null,
          -0.23970584720639732,
          1.1498610331012313,
          null,
          2.4839377343918474,
          1.095228427287327,
          null,
          1.0346106494128917,
          1.0405958214734226,
          null,
          3.648867685757807,
          0.9859632156595182,
          null,
          -1.228942106413284,
          0.9313306098456139,
          null
         ]
        },
        {
         "marker": {
          "color": "blue"
         },
         "mode": "markers",
         "name": "x",
         "type": "scatter",
         "visible": false,
         "x": [
          0,
          0.1111111111111111,
          0.2222222222222222,
          0.3333333333333333,
          0.4444444444444444,
          0.5555555555555556,
          0.6666666666666666,
          0.7777777777777777,
          0.8888888888888888,
          1
         ],
         "y": [
          1.6069866854036097,
          2.0778641999240017,
          2.683567026786406,
          -0.5379177679640277,
          -1.625553960166653,
          1.3227803287126823,
          0.058810220237303534,
          4.171553277420593,
          -0.08524978230326263,
          0.5223420867742835
         ]
        },
        {
         "marker": {
          "color": "red"
         },
         "mode": "lines",
         "name": "y=kx+b",
         "type": "scatter",
         "visible": false,
         "x": [
          0,
          0.1111111111111111,
          0.2222222222222222,
          0.3333333333333333,
          0.4444444444444444,
          0.5555555555555556,
          0.6666666666666666,
          0.7777777777777777,
          0.8888888888888888,
          1
         ],
         "y": [
          1.3665677702988717,
          1.2894456505618987,
          1.2123235308249258,
          1.135201411087953,
          1.05807929135098,
          0.9809571716140072,
          0.9038350518770344,
          0.8267129321400615,
          0.7495908124030886,
          0.6724686926661156
         ]
        },
        {
         "line": {
          "color": "black",
          "width": 2
         },
         "marker": {
          "opacity": 0,
          "size": 5
         },
         "type": "scatter",
         "visible": false,
         "x": [
          0,
          0,
          null,
          0.1111111111111111,
          0.1111111111111111,
          null,
          0.2222222222222222,
          0.2222222222222222,
          null,
          0.3333333333333333,
          0.3333333333333333,
          null,
          0.4444444444444444,
          0.4444444444444444,
          null,
          0.5555555555555556,
          0.5555555555555556,
          null,
          0.6666666666666666,
          0.6666666666666666,
          null,
          0.7777777777777777,
          0.7777777777777777,
          null,
          0.8888888888888888,
          0.8888888888888888,
          null,
          1,
          1,
          null
         ],
         "y": [
          1.6069866854036097,
          1.3665677702988717,
          null,
          2.0778641999240017,
          1.2894456505618987,
          null,
          2.683567026786406,
          1.2123235308249258,
          null,
          -0.5379177679640277,
          1.135201411087953,
          null,
          -1.625553960166653,
          1.05807929135098,
          null,
          1.3227803287126823,
          0.9809571716140072,
          null,
          0.058810220237303534,
          0.9038350518770344,
          null,
          4.171553277420593,
          0.8267129321400615,
          null,
          -0.08524978230326263,
          0.7495908124030886,
          null,
          0.5223420867742835,
          0.6724686926661156,
          null
         ]
        },
        {
         "marker": {
          "color": "blue"
         },
         "mode": "markers",
         "name": "x",
         "type": "scatter",
         "visible": false,
         "x": [
          0,
          0.1,
          0.2,
          0.30000000000000004,
          0.4,
          0.5,
          0.6000000000000001,
          0.7000000000000001,
          0.8,
          0.9,
          1
         ],
         "y": [
          1.047378077731492,
          4.231153901480799,
          -1.5015855682075532,
          2.744059754235961,
          0.9842258265924644,
          2.8996664365910054,
          1.6314340779639183,
          0.8684107868746522,
          1.5900862325685758,
          0.44188672515315636,
          1.5397205638068834
         ]
        },
        {
         "marker": {
          "color": "red"
         },
         "mode": "lines",
         "name": "y=kx+b",
         "type": "scatter",
         "visible": false,
         "x": [
          0,
          0.1,
          0.2,
          0.30000000000000004,
          0.4,
          0.5,
          0.6000000000000001,
          0.7000000000000001,
          0.8,
          0.9,
          1
         ],
         "y": [
          1.7944229175245048,
          1.7351099124703557,
          1.6757969074162067,
          1.6164839023620576,
          1.5571708973079086,
          1.4978578922537595,
          1.4385448871996105,
          1.3792318821454614,
          1.3199188770913126,
          1.2606058720371636,
          1.2012928669830145
         ]
        },
        {
         "line": {
          "color": "black",
          "width": 2
         },
         "marker": {
          "opacity": 0,
          "size": 5
         },
         "type": "scatter",
         "visible": false,
         "x": [
          0,
          0,
          null,
          0.1,
          0.1,
          null,
          0.2,
          0.2,
          null,
          0.30000000000000004,
          0.30000000000000004,
          null,
          0.4,
          0.4,
          null,
          0.5,
          0.5,
          null,
          0.6000000000000001,
          0.6000000000000001,
          null,
          0.7000000000000001,
          0.7000000000000001,
          null,
          0.8,
          0.8,
          null,
          0.9,
          0.9,
          null,
          1,
          1,
          null
         ],
         "y": [
          1.047378077731492,
          1.7944229175245048,
          null,
          4.231153901480799,
          1.7351099124703557,
          null,
          -1.5015855682075532,
          1.6757969074162067,
          null,
          2.744059754235961,
          1.6164839023620576,
          null,
          0.9842258265924644,
          1.5571708973079086,
          null,
          2.8996664365910054,
          1.4978578922537595,
          null,
          1.6314340779639183,
          1.4385448871996105,
          null,
          0.8684107868746522,
          1.3792318821454614,
          null,
          1.5900862325685758,
          1.3199188770913126,
          null,
          0.44188672515315636,
          1.2606058720371636,
          null,
          1.5397205638068834,
          1.2012928669830145,
          null
         ]
        },
        {
         "marker": {
          "color": "blue"
         },
         "mode": "markers",
         "name": "x",
         "type": "scatter",
         "visible": true,
         "x": [
          0,
          0.09090909090909091,
          0.18181818181818182,
          0.2727272727272727,
          0.36363636363636365,
          0.4545454545454546,
          0.5454545454545454,
          0.6363636363636364,
          0.7272727272727273,
          0.8181818181818182,
          0.9090909090909092,
          1
         ],
         "y": [
          0.5579446753818037,
          -2.482242337492736,
          1.3572553135050547,
          4.058198829193859,
          0.7288251162871766,
          4.857398546947149,
          0.012021180112425811,
          -1.6460139086143721,
          -1.6352763795240512,
          0.7407239668282618,
          0.7164138506245721,
          3.126601993499645
         ]
        },
        {
         "marker": {
          "color": "red"
         },
         "mode": "lines",
         "name": "y=kx+b",
         "type": "scatter",
         "visible": true,
         "x": [
          0,
          0.09090909090909091,
          0.18181818181818182,
          0.2727272727272727,
          0.36363636363636365,
          0.4545454545454546,
          0.5454545454545454,
          0.6363636363636364,
          0.7272727272727273,
          0.8181818181818182,
          0.9090909090909092,
          1
         ],
         "y": [
          0.6296386036299846,
          0.6726111430722418,
          0.715583682514499,
          0.7585562219567561,
          0.8015287613990133,
          0.8445013008412705,
          0.8874738402835276,
          0.9304463797257849,
          0.973418919168042,
          1.0163914586102993,
          1.0593639980525564,
          1.1023365374948138
         ]
        },
        {
         "line": {
          "color": "black",
          "width": 2
         },
         "marker": {
          "opacity": 0,
          "size": 5
         },
         "type": "scatter",
         "visible": true,
         "x": [
          0,
          0,
          null,
          0.09090909090909091,
          0.09090909090909091,
          null,
          0.18181818181818182,
          0.18181818181818182,
          null,
          0.2727272727272727,
          0.2727272727272727,
          null,
          0.36363636363636365,
          0.36363636363636365,
          null,
          0.4545454545454546,
          0.4545454545454546,
          null,
          0.5454545454545454,
          0.5454545454545454,
          null,
          0.6363636363636364,
          0.6363636363636364,
          null,
          0.7272727272727273,
          0.7272727272727273,
          null,
          0.8181818181818182,
          0.8181818181818182,
          null,
          0.9090909090909092,
          0.9090909090909092,
          null,
          1,
          1,
          null
         ],
         "y": [
          0.5579446753818037,
          0.6296386036299846,
          null,
          -2.482242337492736,
          0.6726111430722418,
          null,
          1.3572553135050547,
          0.715583682514499,
          null,
          4.058198829193859,
          0.7585562219567561,
          null,
          0.7288251162871766,
          0.8015287613990133,
          null,
          4.857398546947149,
          0.8445013008412705,
          null,
          0.012021180112425811,
          0.8874738402835276,
          null,
          -1.6460139086143721,
          0.9304463797257849,
          null,
          -1.6352763795240512,
          0.973418919168042,
          null,
          0.7407239668282618,
          1.0163914586102993,
          null,
          0.7164138506245721,
          1.0593639980525564,
          null,
          3.126601993499645,
          1.1023365374948138,
          null
         ]
        },
        {
         "marker": {
          "color": "blue"
         },
         "mode": "markers",
         "name": "x",
         "type": "scatter",
         "visible": false,
         "x": [
          0,
          0.08333333333333333,
          0.16666666666666666,
          0.25,
          0.3333333333333333,
          0.41666666666666663,
          0.5,
          0.5833333333333333,
          0.6666666666666666,
          0.75,
          0.8333333333333333,
          0.9166666666666666,
          1
         ],
         "y": [
          1.0654364754486485,
          0.7239165844351898,
          -1.873877759905682,
          -0.09437256942446842,
          4.014639640367916,
          -2.691633699674869,
          -0.12946203962454816,
          -1.622365913278531,
          3.099918484440585,
          3.0220736358105293,
          -0.44719620622385103,
          3.1812424401779813,
          -3.562249423449291
         ]
        },
        {
         "marker": {
          "color": "red"
         },
         "mode": "lines",
         "name": "y=kx+b",
         "type": "scatter",
         "visible": false,
         "x": [
          0,
          0.08333333333333333,
          0.16666666666666666,
          0.25,
          0.3333333333333333,
          0.41666666666666663,
          0.5,
          0.5833333333333333,
          0.6666666666666666,
          0.75,
          0.8333333333333333,
          0.9166666666666666,
          1
         ],
         "y": [
          0.39948653816259705,
          0.3929832644829284,
          0.3864799908032598,
          0.3799767171235912,
          0.3734734434439226,
          0.36697016976425395,
          0.3604668960845854,
          0.35396362240491674,
          0.3474603487252481,
          0.3409570750455795,
          0.33445380136591085,
          0.3279505276862423,
          0.32144725400657365
         ]
        },
        {
         "line": {
          "color": "black",
          "width": 2
         },
         "marker": {
          "opacity": 0,
          "size": 5
         },
         "type": "scatter",
         "visible": false,
         "x": [
          0,
          0,
          null,
          0.08333333333333333,
          0.08333333333333333,
          null,
          0.16666666666666666,
          0.16666666666666666,
          null,
          0.25,
          0.25,
          null,
          0.3333333333333333,
          0.3333333333333333,
          null,
          0.41666666666666663,
          0.41666666666666663,
          null,
          0.5,
          0.5,
          null,
          0.5833333333333333,
          0.5833333333333333,
          null,
          0.6666666666666666,
          0.6666666666666666,
          null,
          0.75,
          0.75,
          null,
          0.8333333333333333,
          0.8333333333333333,
          null,
          0.9166666666666666,
          0.9166666666666666,
          null,
          1,
          1,
          null
         ],
         "y": [
          1.0654364754486485,
          0.39948653816259705,
          null,
          0.7239165844351898,
          0.3929832644829284,
          null,
          -1.873877759905682,
          0.3864799908032598,
          null,
          -0.09437256942446842,
          0.3799767171235912,
          null,
          4.014639640367916,
          0.3734734434439226,
          null,
          -2.691633699674869,
          0.36697016976425395,
          null,
          -0.12946203962454816,
          0.3604668960845854,
          null,
          -1.622365913278531,
          0.35396362240491674,
          null,
          3.099918484440585,
          0.3474603487252481,
          null,
          3.0220736358105293,
          0.3409570750455795,
          null,
          -0.44719620622385103,
          0.33445380136591085,
          null,
          3.1812424401779813,
          0.3279505276862423,
          null,
          -3.562249423449291,
          0.32144725400657365,
          null
         ]
        },
        {
         "marker": {
          "color": "blue"
         },
         "mode": "markers",
         "name": "x",
         "type": "scatter",
         "visible": false,
         "x": [
          0,
          0.07692307692307693,
          0.15384615384615385,
          0.23076923076923078,
          0.3076923076923077,
          0.38461538461538464,
          0.46153846153846156,
          0.5384615384615385,
          0.6153846153846154,
          0.6923076923076923,
          0.7692307692307693,
          0.8461538461538463,
          0.9230769230769231,
          1
         ],
         "y": [
          -2.076198721654249,
          1.4462772421624301,
          -0.2528857117196515,
          -1.0868892253887126,
          0.015447490797886765,
          -3.7857843028990934,
          2.487522118804151,
          1.0460623043779007,
          1.3180603832967068,
          -1.704854201592352,
          1.5274358191444524,
          0.9554066269521783,
          1.8526616396966777,
          -0.12965584037942524
         ]
        },
        {
         "marker": {
          "color": "red"
         },
         "mode": "lines",
         "name": "y=kx+b",
         "type": "scatter",
         "visible": false,
         "x": [
          0,
          0.07692307692307693,
          0.15384615384615385,
          0.23076923076923078,
          0.3076923076923077,
          0.38461538461538464,
          0.46153846153846156,
          0.5384615384615385,
          0.6153846153846154,
          0.6923076923076923,
          0.7692307692307693,
          0.8461538461538463,
          0.9230769230769231,
          1
         ],
         "y": [
          -0.8022247123349073,
          -0.6610845849251534,
          -0.5199444575153995,
          -0.3788043301056456,
          -0.23766420269589172,
          -0.09652407528613782,
          0.04461605212361608,
          0.18575617953336998,
          0.3268963069431239,
          0.46803643435287756,
          0.6091765617626317,
          0.7503166891723856,
          0.8914568165821395,
          1.0325969439918932
         ]
        },
        {
         "line": {
          "color": "black",
          "width": 2
         },
         "marker": {
          "opacity": 0,
          "size": 5
         },
         "type": "scatter",
         "visible": false,
         "x": [
          0,
          0,
          null,
          0.07692307692307693,
          0.07692307692307693,
          null,
          0.15384615384615385,
          0.15384615384615385,
          null,
          0.23076923076923078,
          0.23076923076923078,
          null,
          0.3076923076923077,
          0.3076923076923077,
          null,
          0.38461538461538464,
          0.38461538461538464,
          null,
          0.46153846153846156,
          0.46153846153846156,
          null,
          0.5384615384615385,
          0.5384615384615385,
          null,
          0.6153846153846154,
          0.6153846153846154,
          null,
          0.6923076923076923,
          0.6923076923076923,
          null,
          0.7692307692307693,
          0.7692307692307693,
          null,
          0.8461538461538463,
          0.8461538461538463,
          null,
          0.9230769230769231,
          0.9230769230769231,
          null,
          1,
          1,
          null
         ],
         "y": [
          -2.076198721654249,
          -0.8022247123349073,
          null,
          1.4462772421624301,
          -0.6610845849251534,
          null,
          -0.2528857117196515,
          -0.5199444575153995,
          null,
          -1.0868892253887126,
          -0.3788043301056456,
          null,
          0.015447490797886765,
          -0.23766420269589172,
          null,
          -3.7857843028990934,
          -0.09652407528613782,
          null,
          2.487522118804151,
          0.04461605212361608,
          null,
          1.0460623043779007,
          0.18575617953336998,
          null,
          1.3180603832967068,
          0.3268963069431239,
          null,
          -1.704854201592352,
          0.46803643435287756,
          null,
          1.5274358191444524,
          0.6091765617626317,
          null,
          0.9554066269521783,
          0.7503166891723856,
          null,
          1.8526616396966777,
          0.8914568165821395,
          null,
          -0.12965584037942524,
          1.0325969439918932,
          null
         ]
        },
        {
         "marker": {
          "color": "blue"
         },
         "mode": "markers",
         "name": "x",
         "type": "scatter",
         "visible": false,
         "x": [
          0,
          0.07142857142857142,
          0.14285714285714285,
          0.21428571428571427,
          0.2857142857142857,
          0.3571428571428571,
          0.42857142857142855,
          0.5,
          0.5714285714285714,
          0.6428571428571428,
          0.7142857142857142,
          0.7857142857142857,
          0.8571428571428571,
          0.9285714285714285,
          1
         ],
         "y": [
          -1.254176241018735,
          2.3234067247619272,
          -3.5407933401278804,
          1.0198134771837146,
          -0.261190496664634,
          -1.6797860350319724,
          -1.015347878814068,
          -1.2549762662844877,
          -1.676273546832052,
          0.40099143887787214,
          4.696189832335697,
          1.1788160446442415,
          -1.5948069645663585,
          1.2016024842739759,
          1.9048084468897875
         ]
        },
        {
         "marker": {
          "color": "red"
         },
         "mode": "lines",
         "name": "y=kx+b",
         "type": "scatter",
         "visible": false,
         "x": [
          0,
          0.07142857142857142,
          0.14285714285714285,
          0.21428571428571427,
          0.2857142857142857,
          0.3571428571428571,
          0.42857142857142855,
          0.5,
          0.5714285714285714,
          0.6428571428571428,
          0.7142857142857142,
          0.7857142857142857,
          0.8571428571428571,
          0.9285714285714285,
          1
         ],
         "y": [
          -1.0731343160303068,
          -0.9155601025057198,
          -0.7579858889811328,
          -0.6004116754565458,
          -0.44283746193195883,
          -0.28526324840737194,
          -0.12768903488278482,
          0.02988517864180218,
          0.18745939216638918,
          0.34503360569097596,
          0.502607819215563,
          0.6601820327401502,
          0.8177562462647372,
          0.975330459789324,
          1.1329046733139112
         ]
        },
        {
         "line": {
          "color": "black",
          "width": 2
         },
         "marker": {
          "opacity": 0,
          "size": 5
         },
         "type": "scatter",
         "visible": false,
         "x": [
          0,
          0,
          null,
          0.07142857142857142,
          0.07142857142857142,
          null,
          0.14285714285714285,
          0.14285714285714285,
          null,
          0.21428571428571427,
          0.21428571428571427,
          null,
          0.2857142857142857,
          0.2857142857142857,
          null,
          0.3571428571428571,
          0.3571428571428571,
          null,
          0.42857142857142855,
          0.42857142857142855,
          null,
          0.5,
          0.5,
          null,
          0.5714285714285714,
          0.5714285714285714,
          null,
          0.6428571428571428,
          0.6428571428571428,
          null,
          0.7142857142857142,
          0.7142857142857142,
          null,
          0.7857142857142857,
          0.7857142857142857,
          null,
          0.8571428571428571,
          0.8571428571428571,
          null,
          0.9285714285714285,
          0.9285714285714285,
          null,
          1,
          1,
          null
         ],
         "y": [
          -1.254176241018735,
          -1.0731343160303068,
          null,
          2.3234067247619272,
          -0.9155601025057198,
          null,
          -3.5407933401278804,
          -0.7579858889811328,
          null,
          1.0198134771837146,
          -0.6004116754565458,
          null,
          -0.261190496664634,
          -0.44283746193195883,
          null,
          -1.6797860350319724,
          -0.28526324840737194,
          null,
          -1.015347878814068,
          -0.12768903488278482,
          null,
          -1.2549762662844877,
          0.02988517864180218,
          null,
          -1.676273546832052,
          0.18745939216638918,
          null,
          0.40099143887787214,
          0.34503360569097596,
          null,
          4.696189832335697,
          0.502607819215563,
          null,
          1.1788160446442415,
          0.6601820327401502,
          null,
          -1.5948069645663585,
          0.8177562462647372,
          null,
          1.2016024842739759,
          0.975330459789324,
          null,
          1.9048084468897875,
          1.1329046733139112,
          null
         ]
        },
        {
         "marker": {
          "color": "blue"
         },
         "mode": "markers",
         "name": "x",
         "type": "scatter",
         "visible": false,
         "x": [
          0,
          0.06666666666666667,
          0.13333333333333333,
          0.2,
          0.26666666666666666,
          0.3333333333333333,
          0.4,
          0.4666666666666667,
          0.5333333333333333,
          0.6,
          0.6666666666666666,
          0.7333333333333333,
          0.8,
          0.8666666666666667,
          0.9333333333333333,
          1
         ],
         "y": [
          -3.4240037984352965,
          3.943453200749001,
          -0.5624251403411236,
          -3.544930816637929,
          1.4445804256257582,
          0.6270578189613681,
          1.3645871313570295,
          2.676866534650322,
          -0.9846566664847715,
          2.2508554299418524,
          1.057152801098219,
          1.7814378403886253,
          0.5423813167417155,
          0.6039022373892128,
          4.058537790660892,
          2.6232105336274514
         ]
        },
        {
         "marker": {
          "color": "red"
         },
         "mode": "lines",
         "name": "y=kx+b",
         "type": "scatter",
         "visible": false,
         "x": [
          0,
          0.06666666666666667,
          0.13333333333333333,
          0.2,
          0.26666666666666666,
          0.3333333333333333,
          0.4,
          0.4666666666666667,
          0.5333333333333333,
          0.6,
          0.6666666666666666,
          0.7333333333333333,
          0.8,
          0.8666666666666667,
          0.9333333333333333,
          1
         ],
         "y": [
          -0.6992291826238983,
          -0.4855152362799425,
          -0.2718012899359866,
          -0.058087343592030716,
          0.15562660275192508,
          0.36934054909588077,
          0.5830544954398369,
          0.7967684417837926,
          1.0104823881277485,
          1.2241963344717042,
          1.4379102808156599,
          1.6516242271596158,
          1.8653381735035721,
          2.0790521198475274,
          2.2927660661914837,
          2.506480012535439
         ]
        },
        {
         "line": {
          "color": "black",
          "width": 2
         },
         "marker": {
          "opacity": 0,
          "size": 5
         },
         "type": "scatter",
         "visible": false,
         "x": [
          0,
          0,
          null,
          0.06666666666666667,
          0.06666666666666667,
          null,
          0.13333333333333333,
          0.13333333333333333,
          null,
          0.2,
          0.2,
          null,
          0.26666666666666666,
          0.26666666666666666,
          null,
          0.3333333333333333,
          0.3333333333333333,
          null,
          0.4,
          0.4,
          null,
          0.4666666666666667,
          0.4666666666666667,
          null,
          0.5333333333333333,
          0.5333333333333333,
          null,
          0.6,
          0.6,
          null,
          0.6666666666666666,
          0.6666666666666666,
          null,
          0.7333333333333333,
          0.7333333333333333,
          null,
          0.8,
          0.8,
          null,
          0.8666666666666667,
          0.8666666666666667,
          null,
          0.9333333333333333,
          0.9333333333333333,
          null,
          1,
          1,
          null
         ],
         "y": [
          -3.4240037984352965,
          -0.6992291826238983,
          null,
          3.943453200749001,
          -0.4855152362799425,
          null,
          -0.5624251403411236,
          -0.2718012899359866,
          null,
          -3.544930816637929,
          -0.058087343592030716,
          null,
          1.4445804256257582,
          0.15562660275192508,
          null,
          0.6270578189613681,
          0.36934054909588077,
          null,
          1.3645871313570295,
          0.5830544954398369,
          null,
          2.676866534650322,
          0.7967684417837926,
          null,
          -0.9846566664847715,
          1.0104823881277485,
          null,
          2.2508554299418524,
          1.2241963344717042,
          null,
          1.057152801098219,
          1.4379102808156599,
          null,
          1.7814378403886253,
          1.6516242271596158,
          null,
          0.5423813167417155,
          1.8653381735035721,
          null,
          0.6039022373892128,
          2.0790521198475274,
          null,
          4.058537790660892,
          2.2927660661914837,
          null,
          2.6232105336274514,
          2.506480012535439,
          null
         ]
        },
        {
         "marker": {
          "color": "blue"
         },
         "mode": "markers",
         "name": "x",
         "type": "scatter",
         "visible": false,
         "x": [
          0,
          0.0625,
          0.125,
          0.1875,
          0.25,
          0.3125,
          0.375,
          0.4375,
          0.5,
          0.5625,
          0.625,
          0.6875,
          0.75,
          0.8125,
          0.875,
          0.9375,
          1
         ],
         "y": [
          2.2054146313855103,
          -1.125641334112755,
          0.24789286390249576,
          0.9731649566920971,
          -1.635611422917533,
          -2.958394252115728,
          -1.6371668075107357,
          0.6270960369723451,
          -0.428016580089398,
          1.356558956389999,
          0.23668981739893402,
          0.503613041233811,
          -1.9254118063403602,
          1.8662994076543375,
          -3.03850333447651,
          -1.023866946355802,
          4.77796292174105
         ]
        },
        {
         "marker": {
          "color": "red"
         },
         "mode": "lines",
         "name": "y=kx+b",
         "type": "scatter",
         "visible": false,
         "x": [
          0,
          0.0625,
          0.125,
          0.1875,
          0.25,
          0.3125,
          0.375,
          0.4375,
          0.5,
          0.5625,
          0.625,
          0.6875,
          0.75,
          0.8125,
          0.875,
          0.9375,
          1
         ],
         "y": [
          -0.44466388566508197,
          -0.3962714870933309,
          -0.3478790885215798,
          -0.29948668994982863,
          -0.25109429137807754,
          -0.20270189280632644,
          -0.1543094942345753,
          -0.1059170956628242,
          -0.05752469709107311,
          -0.009132298519322013,
          0.03926010005242908,
          0.08765249862418023,
          0.13604489719593138,
          0.18443729576768242,
          0.23282969433943357,
          0.2812220929111846,
          0.32961449148293576
         ]
        },
        {
         "line": {
          "color": "black",
          "width": 2
         },
         "marker": {
          "opacity": 0,
          "size": 5
         },
         "type": "scatter",
         "visible": false,
         "x": [
          0,
          0,
          null,
          0.0625,
          0.0625,
          null,
          0.125,
          0.125,
          null,
          0.1875,
          0.1875,
          null,
          0.25,
          0.25,
          null,
          0.3125,
          0.3125,
          null,
          0.375,
          0.375,
          null,
          0.4375,
          0.4375,
          null,
          0.5,
          0.5,
          null,
          0.5625,
          0.5625,
          null,
          0.625,
          0.625,
          null,
          0.6875,
          0.6875,
          null,
          0.75,
          0.75,
          null,
          0.8125,
          0.8125,
          null,
          0.875,
          0.875,
          null,
          0.9375,
          0.9375,
          null,
          1,
          1,
          null
         ],
         "y": [
          2.2054146313855103,
          -0.44466388566508197,
          null,
          -1.125641334112755,
          -0.3962714870933309,
          null,
          0.24789286390249576,
          -0.3478790885215798,
          null,
          0.9731649566920971,
          -0.29948668994982863,
          null,
          -1.635611422917533,
          -0.25109429137807754,
          null,
          -2.958394252115728,
          -0.20270189280632644,
          null,
          -1.6371668075107357,
          -0.1543094942345753,
          null,
          0.6270960369723451,
          -0.1059170956628242,
          null,
          -0.428016580089398,
          -0.05752469709107311,
          null,
          1.356558956389999,
          -0.009132298519322013,
          null,
          0.23668981739893402,
          0.03926010005242908,
          null,
          0.503613041233811,
          0.08765249862418023,
          null,
          -1.9254118063403602,
          0.13604489719593138,
          null,
          1.8662994076543375,
          0.18443729576768242,
          null,
          -3.03850333447651,
          0.23282969433943357,
          null,
          -1.023866946355802,
          0.2812220929111846,
          null,
          4.77796292174105,
          0.32961449148293576,
          null
         ]
        },
        {
         "marker": {
          "color": "blue"
         },
         "mode": "markers",
         "name": "x",
         "type": "scatter",
         "visible": false,
         "x": [
          0,
          0.058823529411764705,
          0.11764705882352941,
          0.1764705882352941,
          0.23529411764705882,
          0.29411764705882354,
          0.3529411764705882,
          0.4117647058823529,
          0.47058823529411764,
          0.5294117647058824,
          0.5882352941176471,
          0.6470588235294118,
          0.7058823529411764,
          0.7647058823529411,
          0.8235294117647058,
          0.8823529411764706,
          0.9411764705882353,
          1
         ],
         "y": [
          -1.3419985596322554,
          -0.03308438269281465,
          3.9708763488389525,
          -0.5376122810044344,
          -2.723995415214328,
          1.103792861049644,
          -2.2447099961039583,
          1.1954463804367306,
          0.08891887165495332,
          3.36617639561505,
          -0.2987720558597552,
          -0.65702814952199,
          0.8120689408630161,
          -1.1073750799627564,
          -1.3854761771628834,
          -1.6161703092233934,
          -2.852103850745019,
          -0.7746916215525292
         ]
        },
        {
         "marker": {
          "color": "red"
         },
         "mode": "lines",
         "name": "y=kx+b",
         "type": "scatter",
         "visible": false,
         "x": [
          0,
          0.058823529411764705,
          0.11764705882352941,
          0.1764705882352941,
          0.23529411764705882,
          0.29411764705882354,
          0.3529411764705882,
          0.4117647058823529,
          0.47058823529411764,
          0.5294117647058824,
          0.5882352941176471,
          0.6470588235294118,
          0.7058823529411764,
          0.7647058823529411,
          0.8235294117647058,
          0.8823529411764706,
          0.9411764705882353,
          1
         ],
         "y": [
          0.556716215970734,
          0.45830686977667523,
          0.3598975235826165,
          0.2614881773885578,
          0.16307883119449906,
          0.06466948500044034,
          -0.03373986119361838,
          -0.1321492073876771,
          -0.23055855358173583,
          -0.32896789977579455,
          -0.42737724596985327,
          -0.525786592163912,
          -0.6241959383579707,
          -0.7226052845520294,
          -0.8210146307460882,
          -0.9194239769401469,
          -1.0178333231342056,
          -1.1162426693282643
         ]
        },
        {
         "line": {
          "color": "black",
          "width": 2
         },
         "marker": {
          "opacity": 0,
          "size": 5
         },
         "type": "scatter",
         "visible": false,
         "x": [
          0,
          0,
          null,
          0.058823529411764705,
          0.058823529411764705,
          null,
          0.11764705882352941,
          0.11764705882352941,
          null,
          0.1764705882352941,
          0.1764705882352941,
          null,
          0.23529411764705882,
          0.23529411764705882,
          null,
          0.29411764705882354,
          0.29411764705882354,
          null,
          0.3529411764705882,
          0.3529411764705882,
          null,
          0.4117647058823529,
          0.4117647058823529,
          null,
          0.47058823529411764,
          0.47058823529411764,
          null,
          0.5294117647058824,
          0.5294117647058824,
          null,
          0.5882352941176471,
          0.5882352941176471,
          null,
          0.6470588235294118,
          0.6470588235294118,
          null,
          0.7058823529411764,
          0.7058823529411764,
          null,
          0.7647058823529411,
          0.7647058823529411,
          null,
          0.8235294117647058,
          0.8235294117647058,
          null,
          0.8823529411764706,
          0.8823529411764706,
          null,
          0.9411764705882353,
          0.9411764705882353,
          null,
          1,
          1,
          null
         ],
         "y": [
          -1.3419985596322554,
          0.556716215970734,
          null,
          -0.03308438269281465,
          0.45830686977667523,
          null,
          3.9708763488389525,
          0.3598975235826165,
          null,
          -0.5376122810044344,
          0.2614881773885578,
          null,
          -2.723995415214328,
          0.16307883119449906,
          null,
          1.103792861049644,
          0.06466948500044034,
          null,
          -2.2447099961039583,
          -0.03373986119361838,
          null,
          1.1954463804367306,
          -0.1321492073876771,
          null,
          0.08891887165495332,
          -0.23055855358173583,
          null,
          3.36617639561505,
          -0.32896789977579455,
          null,
          -0.2987720558597552,
          -0.42737724596985327,
          null,
          -0.65702814952199,
          -0.525786592163912,
          null,
          0.8120689408630161,
          -0.6241959383579707,
          null,
          -1.1073750799627564,
          -0.7226052845520294,
          null,
          -1.3854761771628834,
          -0.8210146307460882,
          null,
          -1.6161703092233934,
          -0.9194239769401469,
          null,
          -2.852103850745019,
          -1.0178333231342056,
          null,
          -0.7746916215525292,
          -1.1162426693282643,
          null
         ]
        },
        {
         "marker": {
          "color": "blue"
         },
         "mode": "markers",
         "name": "x",
         "type": "scatter",
         "visible": false,
         "x": [
          0,
          0.05555555555555555,
          0.1111111111111111,
          0.16666666666666666,
          0.2222222222222222,
          0.2777777777777778,
          0.3333333333333333,
          0.38888888888888884,
          0.4444444444444444,
          0.5,
          0.5555555555555556,
          0.611111111111111,
          0.6666666666666666,
          0.7222222222222222,
          0.7777777777777777,
          0.8333333333333333,
          0.8888888888888888,
          0.9444444444444444,
          1
         ],
         "y": [
          0.47550265503226863,
          0.5251338947051385,
          -0.7376818775438052,
          0.39077474855866134,
          1.539673241605041,
          1.163322872766554,
          -1.15935142706061,
          -1.1888430082489572,
          -0.2993268437586427,
          0.45518770724289975,
          1.8163346678334522,
          -3.4008302577902074,
          -0.1327817090551312,
          -3.1128164225836765,
          0.13131193529097707,
          -0.0039107083322784675,
          1.0845300069344486,
          0.14798805130296577,
          0.9206158026428071
         ]
        },
        {
         "marker": {
          "color": "red"
         },
         "mode": "lines",
         "name": "y=kx+b",
         "type": "scatter",
         "visible": false,
         "x": [
          0,
          0.05555555555555555,
          0.1111111111111111,
          0.16666666666666666,
          0.2222222222222222,
          0.2777777777777778,
          0.3333333333333333,
          0.38888888888888884,
          0.4444444444444444,
          0.5,
          0.5555555555555556,
          0.611111111111111,
          0.6666666666666666,
          0.7222222222222222,
          0.7777777777777777,
          0.8333333333333333,
          0.8888888888888888,
          0.9444444444444444,
          1
         ],
         "y": [
          0.11655036758376773,
          0.09549993685540702,
          0.07444950612704632,
          0.0533990753986856,
          0.03234864467032489,
          0.011298213941964175,
          -0.009752216786396525,
          -0.03080264751475724,
          -0.05185307824311795,
          -0.07290350897147867,
          -0.09395393969983938,
          -0.11500437042820007,
          -0.13605480115656077,
          -0.15710523188492148,
          -0.1781556626132822,
          -0.1992060933416429,
          -0.22025652407000362,
          -0.24130695479836434,
          -0.26235738552672505
         ]
        },
        {
         "line": {
          "color": "black",
          "width": 2
         },
         "marker": {
          "opacity": 0,
          "size": 5
         },
         "type": "scatter",
         "visible": false,
         "x": [
          0,
          0,
          null,
          0.05555555555555555,
          0.05555555555555555,
          null,
          0.1111111111111111,
          0.1111111111111111,
          null,
          0.16666666666666666,
          0.16666666666666666,
          null,
          0.2222222222222222,
          0.2222222222222222,
          null,
          0.2777777777777778,
          0.2777777777777778,
          null,
          0.3333333333333333,
          0.3333333333333333,
          null,
          0.38888888888888884,
          0.38888888888888884,
          null,
          0.4444444444444444,
          0.4444444444444444,
          null,
          0.5,
          0.5,
          null,
          0.5555555555555556,
          0.5555555555555556,
          null,
          0.611111111111111,
          0.611111111111111,
          null,
          0.6666666666666666,
          0.6666666666666666,
          null,
          0.7222222222222222,
          0.7222222222222222,
          null,
          0.7777777777777777,
          0.7777777777777777,
          null,
          0.8333333333333333,
          0.8333333333333333,
          null,
          0.8888888888888888,
          0.8888888888888888,
          null,
          0.9444444444444444,
          0.9444444444444444,
          null,
          1,
          1,
          null
         ],
         "y": [
          0.47550265503226863,
          0.11655036758376773,
          null,
          0.5251338947051385,
          0.09549993685540702,
          null,
          -0.7376818775438052,
          0.07444950612704632,
          null,
          0.39077474855866134,
          0.0533990753986856,
          null,
          1.539673241605041,
          0.03234864467032489,
          null,
          1.163322872766554,
          0.011298213941964175,
          null,
          -1.15935142706061,
          -0.009752216786396525,
          null,
          -1.1888430082489572,
          -0.03080264751475724,
          null,
          -0.2993268437586427,
          -0.05185307824311795,
          null,
          0.45518770724289975,
          -0.07290350897147867,
          null,
          1.8163346678334522,
          -0.09395393969983938,
          null,
          -3.4008302577902074,
          -0.11500437042820007,
          null,
          -0.1327817090551312,
          -0.13605480115656077,
          null,
          -3.1128164225836765,
          -0.15710523188492148,
          null,
          0.13131193529097707,
          -0.1781556626132822,
          null,
          -0.0039107083322784675,
          -0.1992060933416429,
          null,
          1.0845300069344486,
          -0.22025652407000362,
          null,
          0.14798805130296577,
          -0.24130695479836434,
          null,
          0.9206158026428071,
          -0.26235738552672505,
          null
         ]
        },
        {
         "marker": {
          "color": "blue"
         },
         "mode": "markers",
         "name": "x",
         "type": "scatter",
         "visible": false,
         "x": [
          0,
          0.05263157894736842,
          0.10526315789473684,
          0.15789473684210525,
          0.21052631578947367,
          0.2631578947368421,
          0.3157894736842105,
          0.3684210526315789,
          0.42105263157894735,
          0.47368421052631576,
          0.5263157894736842,
          0.5789473684210527,
          0.631578947368421,
          0.6842105263157894,
          0.7368421052631579,
          0.7894736842105263,
          0.8421052631578947,
          0.894736842105263,
          0.9473684210526315,
          1
         ],
         "y": [
          -1.3423258760824839,
          1.1275593383757423,
          -0.7095178881415256,
          0.5448280391215627,
          0.3296494514435499,
          -2.022841525337683,
          -1.2221358887937832,
          -0.872642894492913,
          -1.1232562660777978,
          0.4993470680406822,
          -0.19372484149786517,
          2.415864600742153,
          1.2848465921985386,
          -2.6840920428692203,
          1.7937377802388519,
          0.44820549757133565,
          3.6479449330532683,
          3.4396582651018806,
          1.4777833461684862,
          3.148934667769817
         ]
        },
        {
         "marker": {
          "color": "red"
         },
         "mode": "lines",
         "name": "y=kx+b",
         "type": "scatter",
         "visible": false,
         "x": [
          0,
          0.05263157894736842,
          0.10526315789473684,
          0.15789473684210525,
          0.21052631578947367,
          0.2631578947368421,
          0.3157894736842105,
          0.3684210526315789,
          0.42105263157894735,
          0.47368421052631576,
          0.5263157894736842,
          0.5789473684210527,
          0.631578947368421,
          0.6842105263157894,
          0.7368421052631579,
          0.7894736842105263,
          0.8421052631578947,
          0.894736842105263,
          0.9473684210526315,
          1
         ],
         "y": [
          -1.2148752799510745,
          -1.0344261854481582,
          -0.853977090945242,
          -0.6735279964423259,
          -0.4930789019394096,
          -0.3126298074364934,
          -0.13218071293357725,
          0.04826838156933899,
          0.22871747607225523,
          0.4091665705751715,
          0.5896156650780877,
          0.7700647595810042,
          0.95051385408392,
          1.130962948586836,
          1.3114120430897525,
          1.491861137592669,
          1.672310232095585,
          1.852759326598501,
          2.0332084211014174,
          2.213657515604334
         ]
        },
        {
         "line": {
          "color": "black",
          "width": 2
         },
         "marker": {
          "opacity": 0,
          "size": 5
         },
         "type": "scatter",
         "visible": false,
         "x": [
          0,
          0,
          null,
          0.05263157894736842,
          0.05263157894736842,
          null,
          0.10526315789473684,
          0.10526315789473684,
          null,
          0.15789473684210525,
          0.15789473684210525,
          null,
          0.21052631578947367,
          0.21052631578947367,
          null,
          0.2631578947368421,
          0.2631578947368421,
          null,
          0.3157894736842105,
          0.3157894736842105,
          null,
          0.3684210526315789,
          0.3684210526315789,
          null,
          0.42105263157894735,
          0.42105263157894735,
          null,
          0.47368421052631576,
          0.47368421052631576,
          null,
          0.5263157894736842,
          0.5263157894736842,
          null,
          0.5789473684210527,
          0.5789473684210527,
          null,
          0.631578947368421,
          0.631578947368421,
          null,
          0.6842105263157894,
          0.6842105263157894,
          null,
          0.7368421052631579,
          0.7368421052631579,
          null,
          0.7894736842105263,
          0.7894736842105263,
          null,
          0.8421052631578947,
          0.8421052631578947,
          null,
          0.894736842105263,
          0.894736842105263,
          null,
          0.9473684210526315,
          0.9473684210526315,
          null,
          1,
          1,
          null
         ],
         "y": [
          -1.3423258760824839,
          -1.2148752799510745,
          null,
          1.1275593383757423,
          -1.0344261854481582,
          null,
          -0.7095178881415256,
          -0.853977090945242,
          null,
          0.5448280391215627,
          -0.6735279964423259,
          null,
          0.3296494514435499,
          -0.4930789019394096,
          null,
          -2.022841525337683,
          -0.3126298074364934,
          null,
          -1.2221358887937832,
          -0.13218071293357725,
          null,
          -0.872642894492913,
          0.04826838156933899,
          null,
          -1.1232562660777978,
          0.22871747607225523,
          null,
          0.4993470680406822,
          0.4091665705751715,
          null,
          -0.19372484149786517,
          0.5896156650780877,
          null,
          2.415864600742153,
          0.7700647595810042,
          null,
          1.2848465921985386,
          0.95051385408392,
          null,
          -2.6840920428692203,
          1.130962948586836,
          null,
          1.7937377802388519,
          1.3114120430897525,
          null,
          0.44820549757133565,
          1.491861137592669,
          null,
          3.6479449330532683,
          1.672310232095585,
          null,
          3.4396582651018806,
          1.852759326598501,
          null,
          1.4777833461684862,
          2.0332084211014174,
          null,
          3.148934667769817,
          2.213657515604334,
          null
         ]
        }
       ],
       "layout": {
        "margin": {
         "t": 50
        },
        "showlegend": false,
        "sliders": [
         {
          "active": 9,
          "currentvalue": {
           "prefix": "n="
          },
          "pad": {
           "t": 50
          },
          "steps": [
           {
            "args": [
             {
              "visible": [
               true,
               true,
               true,
               false,
               false,
               false,
               false,
               false,
               false,
               false,
               false,
               false,
               false,
               false,
               false,
               false,
               false,
               false,
               false,
               false,
               false,
               false,
               false,
               false,
               false,
               false,
               false,
               false,
               false,
               false,
               false,
               false,
               false,
               false,
               false,
               false,
               false,
               false,
               false,
               false,
               false,
               false,
               false,
               false,
               false,
               false,
               false,
               false,
               false,
               false,
               false,
               false,
               false,
               false
              ]
             }
            ],
            "label": "3",
            "method": "update"
           },
           {
            "args": [
             {
              "visible": [
               false,
               false,
               false,
               true,
               true,
               true,
               false,
               false,
               false,
               false,
               false,
               false,
               false,
               false,
               false,
               false,
               false,
               false,
               false,
               false,
               false,
               false,
               false,
               false,
               false,
               false,
               false,
               false,
               false,
               false,
               false,
               false,
               false,
               false,
               false,
               false,
               false,
               false,
               false,
               false,
               false,
               false,
               false,
               false,
               false,
               false,
               false,
               false,
               false,
               false,
               false,
               false,
               false,
               false
              ]
             }
            ],
            "label": "4",
            "method": "update"
           },
           {
            "args": [
             {
              "visible": [
               false,
               false,
               false,
               false,
               false,
               false,
               true,
               true,
               true,
               false,
               false,
               false,
               false,
               false,
               false,
               false,
               false,
               false,
               false,
               false,
               false,
               false,
               false,
               false,
               false,
               false,
               false,
               false,
               false,
               false,
               false,
               false,
               false,
               false,
               false,
               false,
               false,
               false,
               false,
               false,
               false,
               false,
               false,
               false,
               false,
               false,
               false,
               false,
               false,
               false,
               false,
               false,
               false,
               false
              ]
             }
            ],
            "label": "5",
            "method": "update"
           },
           {
            "args": [
             {
              "visible": [
               false,
               false,
               false,
               false,
               false,
               false,
               false,
               false,
               false,
               true,
               true,
               true,
               false,
               false,
               false,
               false,
               false,
               false,
               false,
               false,
               false,
               false,
               false,
               false,
               false,
               false,
               false,
               false,
               false,
               false,
               false,
               false,
               false,
               false,
               false,
               false,
               false,
               false,
               false,
               false,
               false,
               false,
               false,
               false,
               false,
               false,
               false,
               false,
               false,
               false,
               false,
               false,
               false,
               false
              ]
             }
            ],
            "label": "6",
            "method": "update"
           },
           {
            "args": [
             {
              "visible": [
               false,
               false,
               false,
               false,
               false,
               false,
               false,
               false,
               false,
               false,
               false,
               false,
               true,
               true,
               true,
               false,
               false,
               false,
               false,
               false,
               false,
               false,
               false,
               false,
               false,
               false,
               false,
               false,
               false,
               false,
               false,
               false,
               false,
               false,
               false,
               false,
               false,
               false,
               false,
               false,
               false,
               false,
               false,
               false,
               false,
               false,
               false,
               false,
               false,
               false,
               false,
               false,
               false,
               false
              ]
             }
            ],
            "label": "7",
            "method": "update"
           },
           {
            "args": [
             {
              "visible": [
               false,
               false,
               false,
               false,
               false,
               false,
               false,
               false,
               false,
               false,
               false,
               false,
               false,
               false,
               false,
               true,
               true,
               true,
               false,
               false,
               false,
               false,
               false,
               false,
               false,
               false,
               false,
               false,
               false,
               false,
               false,
               false,
               false,
               false,
               false,
               false,
               false,
               false,
               false,
               false,
               false,
               false,
               false,
               false,
               false,
               false,
               false,
               false,
               false,
               false,
               false,
               false,
               false,
               false
              ]
             }
            ],
            "label": "8",
            "method": "update"
           },
           {
            "args": [
             {
              "visible": [
               false,
               false,
               false,
               false,
               false,
               false,
               false,
               false,
               false,
               false,
               false,
               false,
               false,
               false,
               false,
               false,
               false,
               false,
               true,
               true,
               true,
               false,
               false,
               false,
               false,
               false,
               false,
               false,
               false,
               false,
               false,
               false,
               false,
               false,
               false,
               false,
               false,
               false,
               false,
               false,
               false,
               false,
               false,
               false,
               false,
               false,
               false,
               false,
               false,
               false,
               false,
               false,
               false,
               false
              ]
             }
            ],
            "label": "9",
            "method": "update"
           },
           {
            "args": [
             {
              "visible": [
               false,
               false,
               false,
               false,
               false,
               false,
               false,
               false,
               false,
               false,
               false,
               false,
               false,
               false,
               false,
               false,
               false,
               false,
               false,
               false,
               false,
               true,
               true,
               true,
               false,
               false,
               false,
               false,
               false,
               false,
               false,
               false,
               false,
               false,
               false,
               false,
               false,
               false,
               false,
               false,
               false,
               false,
               false,
               false,
               false,
               false,
               false,
               false,
               false,
               false,
               false,
               false,
               false,
               false
              ]
             }
            ],
            "label": "10",
            "method": "update"
           },
           {
            "args": [
             {
              "visible": [
               false,
               false,
               false,
               false,
               false,
               false,
               false,
               false,
               false,
               false,
               false,
               false,
               false,
               false,
               false,
               false,
               false,
               false,
               false,
               false,
               false,
               false,
               false,
               false,
               true,
               true,
               true,
               false,
               false,
               false,
               false,
               false,
               false,
               false,
               false,
               false,
               false,
               false,
               false,
               false,
               false,
               false,
               false,
               false,
               false,
               false,
               false,
               false,
               false,
               false,
               false,
               false,
               false,
               false
              ]
             }
            ],
            "label": "11",
            "method": "update"
           },
           {
            "args": [
             {
              "visible": [
               false,
               false,
               false,
               false,
               false,
               false,
               false,
               false,
               false,
               false,
               false,
               false,
               false,
               false,
               false,
               false,
               false,
               false,
               false,
               false,
               false,
               false,
               false,
               false,
               false,
               false,
               false,
               true,
               true,
               true,
               false,
               false,
               false,
               false,
               false,
               false,
               false,
               false,
               false,
               false,
               false,
               false,
               false,
               false,
               false,
               false,
               false,
               false,
               false,
               false,
               false,
               false,
               false,
               false
              ]
             }
            ],
            "label": "12",
            "method": "update"
           },
           {
            "args": [
             {
              "visible": [
               false,
               false,
               false,
               false,
               false,
               false,
               false,
               false,
               false,
               false,
               false,
               false,
               false,
               false,
               false,
               false,
               false,
               false,
               false,
               false,
               false,
               false,
               false,
               false,
               false,
               false,
               false,
               false,
               false,
               false,
               true,
               true,
               true,
               false,
               false,
               false,
               false,
               false,
               false,
               false,
               false,
               false,
               false,
               false,
               false,
               false,
               false,
               false,
               false,
               false,
               false,
               false,
               false,
               false
              ]
             }
            ],
            "label": "13",
            "method": "update"
           },
           {
            "args": [
             {
              "visible": [
               false,
               false,
               false,
               false,
               false,
               false,
               false,
               false,
               false,
               false,
               false,
               false,
               false,
               false,
               false,
               false,
               false,
               false,
               false,
               false,
               false,
               false,
               false,
               false,
               false,
               false,
               false,
               false,
               false,
               false,
               false,
               false,
               false,
               true,
               true,
               true,
               false,
               false,
               false,
               false,
               false,
               false,
               false,
               false,
               false,
               false,
               false,
               false,
               false,
               false,
               false,
               false,
               false,
               false
              ]
             }
            ],
            "label": "14",
            "method": "update"
           },
           {
            "args": [
             {
              "visible": [
               false,
               false,
               false,
               false,
               false,
               false,
               false,
               false,
               false,
               false,
               false,
               false,
               false,
               false,
               false,
               false,
               false,
               false,
               false,
               false,
               false,
               false,
               false,
               false,
               false,
               false,
               false,
               false,
               false,
               false,
               false,
               false,
               false,
               false,
               false,
               false,
               true,
               true,
               true,
               false,
               false,
               false,
               false,
               false,
               false,
               false,
               false,
               false,
               false,
               false,
               false,
               false,
               false,
               false
              ]
             }
            ],
            "label": "15",
            "method": "update"
           },
           {
            "args": [
             {
              "visible": [
               false,
               false,
               false,
               false,
               false,
               false,
               false,
               false,
               false,
               false,
               false,
               false,
               false,
               false,
               false,
               false,
               false,
               false,
               false,
               false,
               false,
               false,
               false,
               false,
               false,
               false,
               false,
               false,
               false,
               false,
               false,
               false,
               false,
               false,
               false,
               false,
               false,
               false,
               false,
               true,
               true,
               true,
               false,
               false,
               false,
               false,
               false,
               false,
               false,
               false,
               false,
               false,
               false,
               false
              ]
             }
            ],
            "label": "16",
            "method": "update"
           },
           {
            "args": [
             {
              "visible": [
               false,
               false,
               false,
               false,
               false,
               false,
               false,
               false,
               false,
               false,
               false,
               false,
               false,
               false,
               false,
               false,
               false,
               false,
               false,
               false,
               false,
               false,
               false,
               false,
               false,
               false,
               false,
               false,
               false,
               false,
               false,
               false,
               false,
               false,
               false,
               false,
               false,
               false,
               false,
               false,
               false,
               false,
               true,
               true,
               true,
               false,
               false,
               false,
               false,
               false,
               false,
               false,
               false,
               false
              ]
             }
            ],
            "label": "17",
            "method": "update"
           },
           {
            "args": [
             {
              "visible": [
               false,
               false,
               false,
               false,
               false,
               false,
               false,
               false,
               false,
               false,
               false,
               false,
               false,
               false,
               false,
               false,
               false,
               false,
               false,
               false,
               false,
               false,
               false,
               false,
               false,
               false,
               false,
               false,
               false,
               false,
               false,
               false,
               false,
               false,
               false,
               false,
               false,
               false,
               false,
               false,
               false,
               false,
               false,
               false,
               false,
               true,
               true,
               true,
               false,
               false,
               false,
               false,
               false,
               false
              ]
             }
            ],
            "label": "18",
            "method": "update"
           },
           {
            "args": [
             {
              "visible": [
               false,
               false,
               false,
               false,
               false,
               false,
               false,
               false,
               false,
               false,
               false,
               false,
               false,
               false,
               false,
               false,
               false,
               false,
               false,
               false,
               false,
               false,
               false,
               false,
               false,
               false,
               false,
               false,
               false,
               false,
               false,
               false,
               false,
               false,
               false,
               false,
               false,
               false,
               false,
               false,
               false,
               false,
               false,
               false,
               false,
               false,
               false,
               false,
               true,
               true,
               true,
               false,
               false,
               false
              ]
             }
            ],
            "label": "19",
            "method": "update"
           },
           {
            "args": [
             {
              "visible": [
               false,
               false,
               false,
               false,
               false,
               false,
               false,
               false,
               false,
               false,
               false,
               false,
               false,
               false,
               false,
               false,
               false,
               false,
               false,
               false,
               false,
               false,
               false,
               false,
               false,
               false,
               false,
               false,
               false,
               false,
               false,
               false,
               false,
               false,
               false,
               false,
               false,
               false,
               false,
               false,
               false,
               false,
               false,
               false,
               false,
               false,
               false,
               false,
               false,
               false,
               false,
               true,
               true,
               true
              ]
             }
            ],
            "label": "20",
            "method": "update"
           }
          ]
         }
        ],
        "template": {
         "data": {
          "bar": [
           {
            "error_x": {
             "color": "#2a3f5f"
            },
            "error_y": {
             "color": "#2a3f5f"
            },
            "marker": {
             "line": {
              "color": "#E5ECF6",
              "width": 0.5
             },
             "pattern": {
              "fillmode": "overlay",
              "size": 10,
              "solidity": 0.2
             }
            },
            "type": "bar"
           }
          ],
          "barpolar": [
           {
            "marker": {
             "line": {
              "color": "#E5ECF6",
              "width": 0.5
             },
             "pattern": {
              "fillmode": "overlay",
              "size": 10,
              "solidity": 0.2
             }
            },
            "type": "barpolar"
           }
          ],
          "carpet": [
           {
            "aaxis": {
             "endlinecolor": "#2a3f5f",
             "gridcolor": "white",
             "linecolor": "white",
             "minorgridcolor": "white",
             "startlinecolor": "#2a3f5f"
            },
            "baxis": {
             "endlinecolor": "#2a3f5f",
             "gridcolor": "white",
             "linecolor": "white",
             "minorgridcolor": "white",
             "startlinecolor": "#2a3f5f"
            },
            "type": "carpet"
           }
          ],
          "choropleth": [
           {
            "colorbar": {
             "outlinewidth": 0,
             "ticks": ""
            },
            "type": "choropleth"
           }
          ],
          "contour": [
           {
            "colorbar": {
             "outlinewidth": 0,
             "ticks": ""
            },
            "colorscale": [
             [
              0,
              "#0d0887"
             ],
             [
              0.1111111111111111,
              "#46039f"
             ],
             [
              0.2222222222222222,
              "#7201a8"
             ],
             [
              0.3333333333333333,
              "#9c179e"
             ],
             [
              0.4444444444444444,
              "#bd3786"
             ],
             [
              0.5555555555555556,
              "#d8576b"
             ],
             [
              0.6666666666666666,
              "#ed7953"
             ],
             [
              0.7777777777777778,
              "#fb9f3a"
             ],
             [
              0.8888888888888888,
              "#fdca26"
             ],
             [
              1,
              "#f0f921"
             ]
            ],
            "type": "contour"
           }
          ],
          "contourcarpet": [
           {
            "colorbar": {
             "outlinewidth": 0,
             "ticks": ""
            },
            "type": "contourcarpet"
           }
          ],
          "heatmap": [
           {
            "colorbar": {
             "outlinewidth": 0,
             "ticks": ""
            },
            "colorscale": [
             [
              0,
              "#0d0887"
             ],
             [
              0.1111111111111111,
              "#46039f"
             ],
             [
              0.2222222222222222,
              "#7201a8"
             ],
             [
              0.3333333333333333,
              "#9c179e"
             ],
             [
              0.4444444444444444,
              "#bd3786"
             ],
             [
              0.5555555555555556,
              "#d8576b"
             ],
             [
              0.6666666666666666,
              "#ed7953"
             ],
             [
              0.7777777777777778,
              "#fb9f3a"
             ],
             [
              0.8888888888888888,
              "#fdca26"
             ],
             [
              1,
              "#f0f921"
             ]
            ],
            "type": "heatmap"
           }
          ],
          "heatmapgl": [
           {
            "colorbar": {
             "outlinewidth": 0,
             "ticks": ""
            },
            "colorscale": [
             [
              0,
              "#0d0887"
             ],
             [
              0.1111111111111111,
              "#46039f"
             ],
             [
              0.2222222222222222,
              "#7201a8"
             ],
             [
              0.3333333333333333,
              "#9c179e"
             ],
             [
              0.4444444444444444,
              "#bd3786"
             ],
             [
              0.5555555555555556,
              "#d8576b"
             ],
             [
              0.6666666666666666,
              "#ed7953"
             ],
             [
              0.7777777777777778,
              "#fb9f3a"
             ],
             [
              0.8888888888888888,
              "#fdca26"
             ],
             [
              1,
              "#f0f921"
             ]
            ],
            "type": "heatmapgl"
           }
          ],
          "histogram": [
           {
            "marker": {
             "pattern": {
              "fillmode": "overlay",
              "size": 10,
              "solidity": 0.2
             }
            },
            "type": "histogram"
           }
          ],
          "histogram2d": [
           {
            "colorbar": {
             "outlinewidth": 0,
             "ticks": ""
            },
            "colorscale": [
             [
              0,
              "#0d0887"
             ],
             [
              0.1111111111111111,
              "#46039f"
             ],
             [
              0.2222222222222222,
              "#7201a8"
             ],
             [
              0.3333333333333333,
              "#9c179e"
             ],
             [
              0.4444444444444444,
              "#bd3786"
             ],
             [
              0.5555555555555556,
              "#d8576b"
             ],
             [
              0.6666666666666666,
              "#ed7953"
             ],
             [
              0.7777777777777778,
              "#fb9f3a"
             ],
             [
              0.8888888888888888,
              "#fdca26"
             ],
             [
              1,
              "#f0f921"
             ]
            ],
            "type": "histogram2d"
           }
          ],
          "histogram2dcontour": [
           {
            "colorbar": {
             "outlinewidth": 0,
             "ticks": ""
            },
            "colorscale": [
             [
              0,
              "#0d0887"
             ],
             [
              0.1111111111111111,
              "#46039f"
             ],
             [
              0.2222222222222222,
              "#7201a8"
             ],
             [
              0.3333333333333333,
              "#9c179e"
             ],
             [
              0.4444444444444444,
              "#bd3786"
             ],
             [
              0.5555555555555556,
              "#d8576b"
             ],
             [
              0.6666666666666666,
              "#ed7953"
             ],
             [
              0.7777777777777778,
              "#fb9f3a"
             ],
             [
              0.8888888888888888,
              "#fdca26"
             ],
             [
              1,
              "#f0f921"
             ]
            ],
            "type": "histogram2dcontour"
           }
          ],
          "mesh3d": [
           {
            "colorbar": {
             "outlinewidth": 0,
             "ticks": ""
            },
            "type": "mesh3d"
           }
          ],
          "parcoords": [
           {
            "line": {
             "colorbar": {
              "outlinewidth": 0,
              "ticks": ""
             }
            },
            "type": "parcoords"
           }
          ],
          "pie": [
           {
            "automargin": true,
            "type": "pie"
           }
          ],
          "scatter": [
           {
            "fillpattern": {
             "fillmode": "overlay",
             "size": 10,
             "solidity": 0.2
            },
            "type": "scatter"
           }
          ],
          "scatter3d": [
           {
            "line": {
             "colorbar": {
              "outlinewidth": 0,
              "ticks": ""
             }
            },
            "marker": {
             "colorbar": {
              "outlinewidth": 0,
              "ticks": ""
             }
            },
            "type": "scatter3d"
           }
          ],
          "scattercarpet": [
           {
            "marker": {
             "colorbar": {
              "outlinewidth": 0,
              "ticks": ""
             }
            },
            "type": "scattercarpet"
           }
          ],
          "scattergeo": [
           {
            "marker": {
             "colorbar": {
              "outlinewidth": 0,
              "ticks": ""
             }
            },
            "type": "scattergeo"
           }
          ],
          "scattergl": [
           {
            "marker": {
             "colorbar": {
              "outlinewidth": 0,
              "ticks": ""
             }
            },
            "type": "scattergl"
           }
          ],
          "scattermapbox": [
           {
            "marker": {
             "colorbar": {
              "outlinewidth": 0,
              "ticks": ""
             }
            },
            "type": "scattermapbox"
           }
          ],
          "scatterpolar": [
           {
            "marker": {
             "colorbar": {
              "outlinewidth": 0,
              "ticks": ""
             }
            },
            "type": "scatterpolar"
           }
          ],
          "scatterpolargl": [
           {
            "marker": {
             "colorbar": {
              "outlinewidth": 0,
              "ticks": ""
             }
            },
            "type": "scatterpolargl"
           }
          ],
          "scatterternary": [
           {
            "marker": {
             "colorbar": {
              "outlinewidth": 0,
              "ticks": ""
             }
            },
            "type": "scatterternary"
           }
          ],
          "surface": [
           {
            "colorbar": {
             "outlinewidth": 0,
             "ticks": ""
            },
            "colorscale": [
             [
              0,
              "#0d0887"
             ],
             [
              0.1111111111111111,
              "#46039f"
             ],
             [
              0.2222222222222222,
              "#7201a8"
             ],
             [
              0.3333333333333333,
              "#9c179e"
             ],
             [
              0.4444444444444444,
              "#bd3786"
             ],
             [
              0.5555555555555556,
              "#d8576b"
             ],
             [
              0.6666666666666666,
              "#ed7953"
             ],
             [
              0.7777777777777778,
              "#fb9f3a"
             ],
             [
              0.8888888888888888,
              "#fdca26"
             ],
             [
              1,
              "#f0f921"
             ]
            ],
            "type": "surface"
           }
          ],
          "table": [
           {
            "cells": {
             "fill": {
              "color": "#EBF0F8"
             },
             "line": {
              "color": "white"
             }
            },
            "header": {
             "fill": {
              "color": "#C8D4E3"
             },
             "line": {
              "color": "white"
             }
            },
            "type": "table"
           }
          ]
         },
         "layout": {
          "annotationdefaults": {
           "arrowcolor": "#2a3f5f",
           "arrowhead": 0,
           "arrowwidth": 1
          },
          "autotypenumbers": "strict",
          "coloraxis": {
           "colorbar": {
            "outlinewidth": 0,
            "ticks": ""
           }
          },
          "colorscale": {
           "diverging": [
            [
             0,
             "#8e0152"
            ],
            [
             0.1,
             "#c51b7d"
            ],
            [
             0.2,
             "#de77ae"
            ],
            [
             0.3,
             "#f1b6da"
            ],
            [
             0.4,
             "#fde0ef"
            ],
            [
             0.5,
             "#f7f7f7"
            ],
            [
             0.6,
             "#e6f5d0"
            ],
            [
             0.7,
             "#b8e186"
            ],
            [
             0.8,
             "#7fbc41"
            ],
            [
             0.9,
             "#4d9221"
            ],
            [
             1,
             "#276419"
            ]
           ],
           "sequential": [
            [
             0,
             "#0d0887"
            ],
            [
             0.1111111111111111,
             "#46039f"
            ],
            [
             0.2222222222222222,
             "#7201a8"
            ],
            [
             0.3333333333333333,
             "#9c179e"
            ],
            [
             0.4444444444444444,
             "#bd3786"
            ],
            [
             0.5555555555555556,
             "#d8576b"
            ],
            [
             0.6666666666666666,
             "#ed7953"
            ],
            [
             0.7777777777777778,
             "#fb9f3a"
            ],
            [
             0.8888888888888888,
             "#fdca26"
            ],
            [
             1,
             "#f0f921"
            ]
           ],
           "sequentialminus": [
            [
             0,
             "#0d0887"
            ],
            [
             0.1111111111111111,
             "#46039f"
            ],
            [
             0.2222222222222222,
             "#7201a8"
            ],
            [
             0.3333333333333333,
             "#9c179e"
            ],
            [
             0.4444444444444444,
             "#bd3786"
            ],
            [
             0.5555555555555556,
             "#d8576b"
            ],
            [
             0.6666666666666666,
             "#ed7953"
            ],
            [
             0.7777777777777778,
             "#fb9f3a"
            ],
            [
             0.8888888888888888,
             "#fdca26"
            ],
            [
             1,
             "#f0f921"
            ]
           ]
          },
          "colorway": [
           "#636efa",
           "#EF553B",
           "#00cc96",
           "#ab63fa",
           "#FFA15A",
           "#19d3f3",
           "#FF6692",
           "#B6E880",
           "#FF97FF",
           "#FECB52"
          ],
          "font": {
           "color": "#2a3f5f"
          },
          "geo": {
           "bgcolor": "white",
           "lakecolor": "white",
           "landcolor": "#E5ECF6",
           "showlakes": true,
           "showland": true,
           "subunitcolor": "white"
          },
          "hoverlabel": {
           "align": "left"
          },
          "hovermode": "closest",
          "mapbox": {
           "style": "light"
          },
          "paper_bgcolor": "white",
          "plot_bgcolor": "#E5ECF6",
          "polar": {
           "angularaxis": {
            "gridcolor": "white",
            "linecolor": "white",
            "ticks": ""
           },
           "bgcolor": "#E5ECF6",
           "radialaxis": {
            "gridcolor": "white",
            "linecolor": "white",
            "ticks": ""
           }
          },
          "scene": {
           "xaxis": {
            "backgroundcolor": "#E5ECF6",
            "gridcolor": "white",
            "gridwidth": 2,
            "linecolor": "white",
            "showbackground": true,
            "ticks": "",
            "zerolinecolor": "white"
           },
           "yaxis": {
            "backgroundcolor": "#E5ECF6",
            "gridcolor": "white",
            "gridwidth": 2,
            "linecolor": "white",
            "showbackground": true,
            "ticks": "",
            "zerolinecolor": "white"
           },
           "zaxis": {
            "backgroundcolor": "#E5ECF6",
            "gridcolor": "white",
            "gridwidth": 2,
            "linecolor": "white",
            "showbackground": true,
            "ticks": "",
            "zerolinecolor": "white"
           }
          },
          "shapedefaults": {
           "line": {
            "color": "#2a3f5f"
           }
          },
          "ternary": {
           "aaxis": {
            "gridcolor": "white",
            "linecolor": "white",
            "ticks": ""
           },
           "baxis": {
            "gridcolor": "white",
            "linecolor": "white",
            "ticks": ""
           },
           "bgcolor": "#E5ECF6",
           "caxis": {
            "gridcolor": "white",
            "linecolor": "white",
            "ticks": ""
           }
          },
          "title": {
           "x": 0.05
          },
          "xaxis": {
           "automargin": true,
           "gridcolor": "white",
           "linecolor": "white",
           "ticks": "",
           "title": {
            "standoff": 15
           },
           "zerolinecolor": "white",
           "zerolinewidth": 2
          },
          "yaxis": {
           "automargin": true,
           "gridcolor": "white",
           "linecolor": "white",
           "ticks": "",
           "title": {
            "standoff": 15
           },
           "zerolinecolor": "white",
           "zerolinewidth": 2
          }
         }
        },
        "title": {
         "text": "Linear regression",
         "x": 0.5
        },
        "xaxis": {
         "title": {
          "text": "x"
         }
        },
        "yaxis": {
         "title": {
          "text": "y"
         }
        }
       }
      }
     },
     "metadata": {},
     "output_type": "display_data"
    }
   ],
   "source": [
    "import plotly.graph_objects as go\n",
    "import numpy as np\n",
    "\n",
    "def plot_slider_regression(points: list[int], eps=1.0, write_html=False):\n",
    "    fig = go.Figure()\n",
    "    for n in points:\n",
    "        xs = np.linspace(0, 1, num=n)\n",
    "        ys = np.random.normal(xs, scale=eps)\n",
    "        a = np.sum((xs -xs.mean()) * (ys - ys.mean())) /  np.sum((xs - xs.mean()) ** 2)\n",
    "        b = ys.mean() - a*xs.mean()\n",
    "        mse = np.mean((ys - a*xs - b)**2)\n",
    "        xs_v = np.repeat(xs, 3)\n",
    "        xs_v[2::3] = None\n",
    "        ys_v = np.repeat(ys, 3)\n",
    "        ys_v[1::3] = a * xs + b\n",
    "        ys_v[2::3] = None\n",
    "        vertical_lines = go.Scatter(x=xs_v, y=ys_v,\n",
    "                                    line=dict(width=2, color=\"black\"),\n",
    "                                    marker=dict(size=5, opacity=0),\n",
    "                                    visible=False\n",
    "                                    )\n",
    "        fig.add_traces(\n",
    "            [go.Scatter(\n",
    "                x=xs,\n",
    "                y=ys,\n",
    "                name=f\"x\",\n",
    "                visible=False,\n",
    "                mode=\"markers\",\n",
    "                marker_color=\"blue\"\n",
    "            ),\n",
    "             go.Scatter(\n",
    "                x=xs,\n",
    "                y=a*xs+b,\n",
    "                mode=\"lines\",\n",
    "                name=r\"y=kx+b\",\n",
    "                visible=False,\n",
    "                marker_color=\"red\"\n",
    "            ),\n",
    "             vertical_lines,\n",
    "            ]\n",
    "        )\n",
    "        \n",
    "\n",
    "    fig.update_layout(title={\"text\": \"Linear regression\", \"x\": 0.5},\n",
    "                      xaxis_title=r\"x\",\n",
    "                      yaxis_title=r\"y\",\n",
    "                      # xaxis = dict(tickmode = 'linear', tick0 = 0, dtick = n // 10),\n",
    "                      margin=dict(t=50),\n",
    "                      showlegend=False\n",
    "                     )\n",
    "    \n",
    "    N = len(points)\n",
    "    i_vis = N // 2\n",
    "    fig.data[3*i_vis].visible = True\n",
    "    fig.data[3*i_vis + 1].visible = True\n",
    "    fig.data[3*i_vis + 2].visible = True\n",
    "    \n",
    "    # Create and add slider\n",
    "    steps = []\n",
    "    for i in range(N):\n",
    "        step = dict(\n",
    "            method=\"update\",\n",
    "            args=[{\"visible\": [False] * len(fig.data)}],  # layout attribute\n",
    "            label=points[i % N]\n",
    "        )\n",
    "        step[\"args\"][0][\"visible\"][3*i] = True  # Toggle i'th trace to \"visible\"\n",
    "        step[\"args\"][0][\"visible\"][3*i+1] = True\n",
    "        step[\"args\"][0][\"visible\"][3*i+2] = True\n",
    "        steps.append(step)\n",
    "\n",
    "    sliders = [dict(\n",
    "        active=i_vis,\n",
    "        pad={\"t\": 50},\n",
    "        currentvalue={\"prefix\": r\"n=\"}, \n",
    "        steps=steps\n",
    "    )]\n",
    "        \n",
    "    fig.update_layout(\n",
    "        sliders=sliders,\n",
    "    )\n",
    "    if write_html:\n",
    "        fig.write_html(\"regression_slider.html\", full_html=False, include_plotlyjs='cdn', include_mathjax='cdn')\n",
    "    fig.show()\n",
    "\n",
    "plot_slider_regression(range(3, 21), 2.0)"
   ]
  },
  {
   "cell_type": "markdown",
   "metadata": {},
   "source": [
    "MSE loss equals to the average of sum of squares of the black line segments."
   ]
  },
  {
   "cell_type": "markdown",
   "metadata": {},
   "source": [
    "## Exercises\n",
    "\n",
    "1. Suppose we have a dataset {eq}`sl-dataset` with categorical targets $\\mathcal Y = \\{1 ,\\ldots, K\\}$.\n",
    "Let $n_k$ be the size of the $k$-th category:\n",
    "\n",
    "    $$\n",
    "        n_k = \\sum\\limits_{i=1}^n \\mathbb I[y_i = k], \\quad\n",
    "        \\sum\\limits_{k=1}^K n_k = n.\n",
    "    $$\n",
    "\n",
    "    Consider a dummy model which always predicts category $\\ell$, $1\\leqslant \\ell \\leqslant K$. What is the value of the error rate {eq}`mis-rate`? For which $\\ell$ it is minimal?\n",
    "\n",
    "2. Show that cross-entropy loss {eq}`cross-entropy` turns into {eq}`binary-cross-entropy` if $K=2$.\n",
    "\n",
    "3. The MSE for a constant model $f_{\\boldsymbol \\theta}(\\boldsymbol x_i) = c$ is given by\n",
    "\n",
    "    $$\n",
    "        \\frac 1n \\sum\\limits_{i=1}^n (y_i - c)^2.\n",
    "    $$\n",
    "\n",
    "    For which $c$ it is minimal?\n",
    "\n",
    "4. How the answer to the previous problem will change if we replace MSE by MAE:\n",
    "\n",
    "    $$\n",
    "        \\frac 1n \\sum\\limits_{i=1}^n \\vert y_i - c\\vert \\to \\min \\limits_c\n",
    "    $$\n",
    "\n",
    "5. How will the graph for linear regression look like in case of $1$ or $2$ points?"
   ]
  }
 ],
 "metadata": {
  "kernelspec": {
   "display_name": "jupyter",
   "language": "python",
   "name": "python3"
  },
  "language_info": {
   "codemirror_mode": {
    "name": "ipython",
    "version": 3
   },
   "file_extension": ".py",
   "mimetype": "text/x-python",
   "name": "python",
   "nbconvert_exporter": "python",
   "pygments_lexer": "ipython3",
   "version": "3.12.4"
  }
 },
 "nbformat": 4,
 "nbformat_minor": 2
}
