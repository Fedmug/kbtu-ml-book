{
 "cells": [
  {
   "cell_type": "markdown",
   "metadata": {},
   "source": [
    "# Linear systems\n",
    "\n",
    "**Система линейных алгебраических уравнений (СЛАУ)** из $m$ уравнений с $n$ неизвестными имеет вид\n",
    "\n",
    "$$\n",
    "\\begin{align*}\n",
    "a_{11}x_1 &+ a_{12}x_2+ \\ldots +a_{1n}x_n = b_1 \\\\\n",
    "a_{21}x_1 &+ a_{22}x_2 + \\ldots +a_{2n}x_n = b_2 \\\\\n",
    "\\ldots &\\ldots \\ldots \\ldots \\ldots \\ldots \\ldots \\ldots \\ldots \\ldots \\ldots \\\\\n",
    "a_{m1}x_1 &+ a_{m2}x_2 +\\ldots + a_{mn}x_n = b_m \\\\\n",
    "\\end{align*},\n",
    "$$\n",
    "\n",
    "где коэффициенты $a_{ij}$ и числа в правой части $b_i$ считаются известными, а найти надо неизвестные переменные $x_j$. Записывать систему линейных уравнений в таком громоздком виде не очень удобно, вместо этого чаще используют матричную запись. Коэффициенты $a_{ij}$ естественным образом образуют матрицу $\\boldsymbol A\\in\\mathbb R^{m\\times n}$, правая часть — вектор $\\boldsymbol b \\in \\mathbb R^m$, а искомые переменные — вектор $\\boldsymbol x \\in \\mathbb R^n$. И тогда СЛАУ переписывается в чрезвычайно простом и коротком виде \n",
    "\n",
    "$$\n",
    "\\boldsymbol{Ax} = \\boldsymbol b.\n",
    "$$\n",
    "\n",
    "If $\\boldsymbol b = \\boldsymbol 0$, then the linear system is called **homogeneous**.\n",
    "\n",
    "A square matrix $\\boldsymbol A$ is called **singular** if the homogeneous linear system $\\boldsymbol{Ax} = \\boldsymbol 0$ has nonzero solution $\\boldsymbol x \\ne \\boldsymbol 0$. Otherwise $\\boldsymbol A$ is called **non-singular** or **invertible**. If $\\boldsymbol A$ is invertible, then the linear system $\\boldsymbol{Ax} = \\boldsymbol b$ has unique solution for any $\\boldsymbol b$ which can be written as $\\boldsymbol x =\\boldsymbol A^{-1} \\boldsymbol b$. \n",
    "\n",
    "In NumPy a linear system of equations with $m=n$ can be solved by `np.linalg.solve`:"
   ]
  },
  {
   "cell_type": "code",
   "execution_count": 7,
   "metadata": {},
   "outputs": [
    {
     "data": {
      "text/plain": [
       "array([[1, 0, 0, 0],\n",
       "       [1, 1, 0, 0],\n",
       "       [1, 2, 1, 0],\n",
       "       [1, 3, 3, 1]], dtype=uint64)"
      ]
     },
     "execution_count": 7,
     "metadata": {},
     "output_type": "execute_result"
    }
   ],
   "source": [
    "import numpy as np\n",
    "from scipy.linalg import pascal\n",
    "A = pascal(4, kind='lower')\n",
    "A"
   ]
  },
  {
   "cell_type": "code",
   "execution_count": 6,
   "metadata": {},
   "outputs": [
    {
     "data": {
      "text/plain": [
       "array([ 1., -2.,  4., -8.])"
      ]
     },
     "execution_count": 6,
     "metadata": {},
     "output_type": "execute_result"
    }
   ],
   "source": [
    "b = np.array([1, -1, 1, -1])\n",
    "np.linalg.solve(A, b)"
   ]
  },
  {
   "cell_type": "markdown",
   "metadata": {},
   "source": [
    "<!--\n",
    "## Gaussian elimintaion\n",
    "\n",
    "Если матрица СЛАУ диагональная, $\\boldsymbol A = \\mathrm{diag}\\{a_1, \\ldots, a_n\\}$, причём все $a_k\\ne 0$, то решить систему не составляет труда: $x_k = \\frac{b_k}{a_k}$. В этом случае решение единственно. Если же $a_k = 0$ при некотором $k$, то наличие решения зависит от значения $b_k$: при $b_k\\ne 0$ система несовместна (решений нет), а при $b_k = 0$ решений бесконечно много, так как любое значение $x_k$ удовлетворяет системе уравнений.\n",
    "\n",
    "Метод Гаусса заключается в преобразовании квадратной матрицы сначала к верхнему треугольному виду, а затем и к диагональному, с помощью элементарных шагов, не меняющих решение СЛАУ.\n",
    "-->"
   ]
  },
  {
   "cell_type": "markdown",
   "metadata": {},
   "source": [
    "<!--\n",
    "\n",
    "## Transform to upper triangular form\n",
    "\n",
    "Идея проста: если $a_{11} \\ne 0$, занулим все остальные коэффициенты первого столбца матрицы $\\boldsymbol A$ с помощью основных элементарных преобразований\n",
    "\n",
    "$$\n",
    "    a_{ij} := a_{ij} - \\frac{a_{1j}}{a_{11}}a_{i1}, \\quad 2 \\leqslant i \\leqslant n, \\quad 1\\leqslant j \\leqslant n.\n",
    "$$\n",
    "\n",
    "В векторном виде их можно записать как\n",
    "\n",
    "$$\n",
    "    \\boldsymbol a_{i}^\\top := \\boldsymbol a_{i}^\\top - \\frac{a_{i1}}{a_{11}} \\boldsymbol a_1^\\top, \\quad 2 \\leqslant i \\leqslant n. \\tag{1}\n",
    "$$\n",
    "\n",
    "Теперь в первом столбце все элементы нулевые, кроме первого. Применяя этот процесс последовательно к каждому следующему столбцу, приходим к искомому верхнедиагональному виду.\n",
    "\n",
    "Единственная проблема данного алгоритма в том, что некоторые диагональные элементы $a_{ii}$ могут оказаться нулевыми. Если это произошло, то поищем ненулевой элемент $a_{ij}$ ниже в том же столбце. В случае успеха обменяем $i$-ю и $j$-ю строки. Такой обмен эквивалентен умножению слева на матрицу перестановки $\\boldsymbol P_{ij}$, и он не изменяет решение системы. \n",
    "\n",
    "Если же $a_{ij} = 0$ при всех $j \\geqslant i$, то сделать с $i$–м столбцом уже ничего нельзя, так как матрица оказалась **вырожденной**. Подробнее о вырожденных матрицах см. ниже, пока ограничимся СЛАУ с невырожденными матрицами. Такие матрицы методом Гаусса приводятся к верхнетреугольному виду с ненулевыми элементами на главной диагонали.\n",
    "\n",
    "Оценим алгоритмическую сложность такого преобразования. Элементарное преобразование (1) требует $O(n)$ арфметических операций, при занулении элементов $i$-го столбца надо произвести $n-i$ таких преобразований. Перестановка строк требует не более $O(n)$ операций. Поэтому суммарная сложность равна\n",
    "\n",
    "$$\n",
    "    O\\bigg(\\sum\\limits_{i=1}^n n(n-i) \\bigg) + O(n) = O(n^3).\n",
    "$$\n",
    "-->"
   ]
  },
  {
   "cell_type": "markdown",
   "metadata": {},
   "source": [
    "<!--\n",
    "## Backward pass\n",
    "\n",
    "В результате прямого хода метода Гаусса невырожденная квадратная матрица $\\boldsymbol A$ превращается в верхнюю треугольную матрицу \n",
    "\n",
    "$$\n",
    "\\boldsymbol U = \n",
    "\\begin{pmatrix}\n",
    "    u_{11} & u_{12} & u_{13} & \\ldots & u_{1,n-1} & u_{1n}\\\\\n",
    "    0 & u_{22} & u_{23} & \\ldots & u_{2,n-1} & u_{2n}\\\\\n",
    "    0 &  0 & u_{33} & \\ldots & u_{3, n-1} & u_{3n} \\\\\n",
    "    \\vdots & \\vdots & \\vdots & \\ddots & \\vdots & \\vdots\\\\\n",
    "    0 &  0 & 0 & \\ldots & u_{n-1, n-1} & u_{n-1,n} \\\\\n",
    "    0 &  0 & 0 & \\ldots & 0 & u_{nn} \\\\\n",
    "\\end{pmatrix}\n",
    "$$\n",
    "\n",
    "с ненулевыми элементами на главной диагонали.\n",
    "Система линейных уравнений $\\boldsymbol{Ax} = \\boldsymbol b$ при этом переводится в эквивалентную ей систему $\\boldsymbol{Ux} = \\boldsymbol c$. Для решения последней системы используют **обратный ход** метода Гаусса, который состоит в последовательном исключении неизвестных, начиная с последней строки:\n",
    "\n",
    "$$\n",
    "    u_{nn}x_n = c_n \\Rightarrow x_n = \\frac{c_n}{u_{nn}},\n",
    "$$\n",
    "-->\n",
    "\n",
    "<!--\n",
    "$$\n",
    "    u_{n-1,n-1}x_{n-1} + u_{n-1,n}x_{n}  = c_{n-1} \\Rightarrow x_{n-1} = \\frac{1}{u_{n-1, n-1}}(c_{n-1} - u_{n-1,n}x_{n}),\n",
    "$$\n",
    "-->\n",
    "\n",
    "<!--\n",
    "$$\n",
    "    u_{ii} x_i + \\sum\\limits_{j=i+1}^n u_{ij}x_j = c_i \\Rightarrow x_i = \\frac 1{u_{ii}}\\Big(c_i - \\sum\\limits_{j=i+1}^n u_{ij}x_j\\Big), \\quad i=n-1, \\ldots, 1.\n",
    "$$\n",
    "\n",
    "Вычисление переменной $x_i$ требует $O(n + 1 -i)$ арифметических операций, поэтому общая сложность обратного хода метода Гаусса составляет \n",
    "\n",
    "$$\n",
    "    O\\bigg(\\sum\\limits_{i=1}^n (n+1-i) \\bigg) = O(n^2).\n",
    "$$\n",
    "\n",
    "Таким образом, суммарная сложность прямого и обратного хода метода Гаусса равна $O(n^3) + O(n^2) = O(n^3)$.\n",
    "-->"
   ]
  }
 ],
 "metadata": {
  "kernelspec": {
   "display_name": "Python 3 (ipykernel)",
   "language": "python",
   "name": "python3"
  },
  "language_info": {
   "codemirror_mode": {
    "name": "ipython",
    "version": 3
   },
   "file_extension": ".py",
   "mimetype": "text/x-python",
   "name": "python",
   "nbconvert_exporter": "python",
   "pygments_lexer": "ipython3",
   "version": "3.11.4"
  }
 },
 "nbformat": 4,
 "nbformat_minor": 2
}
