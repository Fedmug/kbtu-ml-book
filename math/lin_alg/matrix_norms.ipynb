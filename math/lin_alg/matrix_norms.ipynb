{
 "cells": [
  {
   "cell_type": "markdown",
   "metadata": {},
   "source": [
    "# Matrix norms\n",
    "\n",
    "## Frobenius norm\n",
    "\n",
    "Let $\\boldsymbol A \\in \\mathbb R^{m\\times n}$. **Frobenius norm** of $\\boldsymbol A$ is defined as\n",
    "\n",
    "$$\n",
    "    \\Vert \\boldsymbol A \\Vert_F = \\sqrt{\\mathrm{tr}(\\boldsymbol A^\\mathsf{T} \\boldsymbol A)} = \\sqrt{\\sum\\limits_{i=1}^m \\sum\\limits_{j=1}^n a_{ij}^2}.\n",
    "$$\n",
    "\n",
    "## Spectral norm\n",
    "\n",
    "The **spectral norm** of the matrix $\\boldsymbol A \\in \\mathbb R^{m\\times n}$ is equal to maximal eigenvalue of $\\boldsymbol A^\\mathsf{T} \\boldsymbol A$:\n",
    "\n",
    "$$\n",
    "    \\Vert \\boldsymbol A \\Vert_2 = \\sqrt{\\lambda_{\\max}(\\boldsymbol A^\\mathsf{T} \\boldsymbol A)}.\n",
    "$$\n",
    "\n",
    "(condition-number)=\n",
    "## Condition number\n",
    "\n",
    "For a square matrix $\\boldsymbol A$ define its **conditional number** as\n",
    "\n",
    "$$\n",
    "    \\kappa(\\boldsymbol A) = \\Vert \\boldsymbol A \\Vert_2 \\cdot\\Vert\\boldsymbol A^{-1}\\Vert_2.\n",
    "$$\n",
    "\n",
    "If $\\boldsymbol A$ is singular then $\\kappa(\\boldsymbol A) = \\infty$.\n",
    "\n",
    "**Properties of conditional numbers**\n",
    "\n",
    "* $\\kappa(\\boldsymbol A) \\geqslant 1$;\n",
    "* $\\kappa(\\boldsymbol A) = \\kappa(\\boldsymbol A^{-1})$;\n",
    "* $\\kappa(\\boldsymbol{AB}) \\leqslant \\kappa(\\boldsymbol A)\\kappa(\\boldsymbol B)$.\n",
    "\n",
    "## Exercises\n",
    "\n",
    "1. Find $\\Vert \\boldsymbol I_n \\Vert_F$, $\\Vert \\boldsymbol I_n \\Vert_2$, $\\kappa(\\boldsymbol I_n)$.\n",
    "\n",
    "2. Find $\\Vert \\boldsymbol Q \\Vert_F$, $\\Vert \\boldsymbol Q \\Vert_2$, $\\kappa(\\boldsymbol Q)$ if $\\boldsymbol Q$ is an orthogonal matrix.\n",
    "\n",
    "3. Let $\\boldsymbol A  = \\boldsymbol A^\\mathsf{T}$. Show that $\\Vert \\boldsymbol A \\Vert_2 = \\max\\limits_{\\lambda \\in \\mathrm{spec}(\\boldsymbol A)}\\vert\\lambda\\vert$.\n",
    "\n",
    "4. Let $\\boldsymbol A$ be a symmetric positive definite matrix. Show that $\\kappa(\\boldsymbol A) = \\Big\\vert\\frac{\\lambda_{\\max}(\\boldsymbol A)}{\\lambda_{\\min}(\\boldsymbol A)}\\Big\\vert$."
   ]
  }
 ],
 "metadata": {
  "kernelspec": {
   "display_name": "Python 3 (ipykernel)",
   "language": "python",
   "name": "python3"
  },
  "language_info": {
   "codemirror_mode": {
    "name": "ipython",
    "version": 3
   },
   "file_extension": ".py",
   "mimetype": "text/x-python",
   "name": "python",
   "nbconvert_exporter": "python",
   "pygments_lexer": "ipython3",
   "version": "3.11.4"
  }
 },
 "nbformat": 4,
 "nbformat_minor": 2
}
