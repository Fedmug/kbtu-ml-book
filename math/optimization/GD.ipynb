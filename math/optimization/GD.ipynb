{
 "cells": [
  {
   "cell_type": "markdown",
   "metadata": {},
   "source": [
    "# Gradient descent\n",
    "\n",
    "```{prf:algorithm} Gradient descent\n",
    ":label: GD\n",
    ":nonumber:\n",
    "\n",
    "To solve the optimization problem\n",
    "\n",
    "$$\n",
    "    \\mathcal L(\\boldsymbol w) \\to \\min\\limits_{\\boldsymbol w}\n",
    "$$\n",
    "\n",
    "do the followind steps:\n",
    "\n",
    "1. initialize $\\boldsymbol w$ by some random values (e.g., from $\\mathcal N(0, 1$))\n",
    "2. choose **tolerance** $\\varepsilon > 0$ and **learning rate** $\\eta > 0$\n",
    "3. while $\\Vert \\nabla\\mathcal L(\\boldsymbol w) \\Vert > \\varepsilon$ do the **gradient step**\n",
    "\n",
    "    $$\n",
    "    \\boldsymbol w := \\boldsymbol w - \\eta\\nabla\\mathcal L(\\boldsymbol w)\n",
    "    $$\n",
    "4. return $\\boldsymbol w$\n",
    "```\n",
    "\n",
    "```{note}\n",
    "If condition $\\Vert \\nabla\\mathcal L(\\boldsymbol w) \\Vert > \\varepsilon$ holds for too long, the loop in step 3 terminates after some number iterations `max_iter`.\n",
    "```\n"
   ]
  }
 ],
 "metadata": {
  "kernelspec": {
   "display_name": "Python 3 (ipykernel)",
   "language": "python",
   "name": "python3"
  },
  "language_info": {
   "codemirror_mode": {
    "name": "ipython",
    "version": 3
   },
   "file_extension": ".py",
   "mimetype": "text/x-python",
   "name": "python",
   "nbconvert_exporter": "python",
   "pygments_lexer": "ipython3",
   "version": "3.11.4"
  }
 },
 "nbformat": 4,
 "nbformat_minor": 2
}
