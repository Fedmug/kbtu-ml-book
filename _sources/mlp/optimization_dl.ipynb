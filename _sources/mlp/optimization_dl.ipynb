{
 "cells": [
  {
   "cell_type": "markdown",
   "metadata": {},
   "source": [
    "# Optimization in DL\n",
    "\n",
    "## SGD\n",
    "\n",
    "## AdaGrad\n",
    "\n",
    "## RMSProp\n",
    "\n",
    "## Adam"
   ]
  },
  {
   "cell_type": "markdown",
   "metadata": {},
   "source": []
  }
 ],
 "metadata": {
  "language_info": {
   "name": "python"
  },
  "orig_nbformat": 4
 },
 "nbformat": 4,
 "nbformat_minor": 2
}
