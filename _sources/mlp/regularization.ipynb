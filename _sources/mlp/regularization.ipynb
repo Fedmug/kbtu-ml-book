{
 "cells": [
  {
   "cell_type": "markdown",
   "metadata": {},
   "source": [
    "# Regularization in MLP\n",
    "\n",
    "Regularization in [ML Handbook](https://education.yandex.ru/handbook/ml/article/beta-tonkosti-obucheniya#regulyarizacziya-nejronnyh-setej)\n",
    "\n",
    "## Dropout\n",
    "\n",
    "```{figure} https://media.licdn.com/dms/image/C4D12AQEgQmpFt-mI7Q/article-cover_image-shrink_720_1280/0/1595924298540?e=2147483647&v=beta&t=jfjUwRMl6awnN-QKfQjBz9l8Umoeip_PjE8RtHO5uqM\n",
    ":align: center\n",
    "```\n",
    "\n",
    "## Batch normalization\n",
    "\n",
    "```{figure} https://miro.medium.com/v2/resize:fit:1153/1*xQhPvRh08oKFC63swgWr_w.png\n",
    ":align: center\n",
    "```"
   ]
  }
 ],
 "metadata": {
  "kernelspec": {
   "display_name": "Python 3 (ipykernel)",
   "language": "python",
   "name": "python3"
  },
  "language_info": {
   "codemirror_mode": {
    "name": "ipython",
    "version": 3
   },
   "file_extension": ".py",
   "mimetype": "text/x-python",
   "name": "python",
   "nbconvert_exporter": "python",
   "pygments_lexer": "ipython3",
   "version": "3.11.4"
  }
 },
 "nbformat": 4,
 "nbformat_minor": 2
}
