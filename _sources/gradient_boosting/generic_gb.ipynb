{
 "cells": [
  {
   "cell_type": "markdown",
   "metadata": {},
   "source": [
    "# Generic gradient boosting\n",
    "\n",
    "## General form of gradient boosting\n",
    "\n",
    "## Stochastic gradient boosting\n",
    "\n",
    "## Gradient tree boosting"
   ]
  },
  {
   "cell_type": "markdown",
   "metadata": {},
   "source": []
  }
 ],
 "metadata": {
  "language_info": {
   "name": "python"
  },
  "orig_nbformat": 4
 },
 "nbformat": 4,
 "nbformat_minor": 2
}
