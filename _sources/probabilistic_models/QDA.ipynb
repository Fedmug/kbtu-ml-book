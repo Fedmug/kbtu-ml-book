{
 "cells": [
  {
   "cell_type": "markdown",
   "metadata": {},
   "source": [
    "# Quadratic Discriminant Analysis (QDA)\n",
    "\n",
    "Resources:\n",
    "\n",
    "* [ML Handbook](https://academy.yandex.ru/handbook/ml/article/beta-generativnyj-podhod-k-klassifikacii#gaussian-discriminant-analysis)\n",
    "\n",
    "* {cite}`pml1Book`, section 9.2.1\n",
    "\n",
    "* [An Introduction to Statistical Learning](https://www.statlearning.com/), section 4.4.3 "
   ]
  }
 ],
 "metadata": {
  "language_info": {
   "name": "python"
  },
  "orig_nbformat": 4
 },
 "nbformat": 4,
 "nbformat_minor": 2
}
