{
 "cells": [
  {
   "cell_type": "markdown",
   "metadata": {},
   "source": [
    "# Linear Discriminant Analysis (QDA)\n",
    "\n",
    "Resources:\n",
    "\n",
    "* [ML Handbook](https://academy.yandex.ru/handbook/ml/article/beta-generativnyj-podhod-k-klassifikacii#linear-discriminant-analysis)\n",
    "\n",
    "* {cite}`pml1Book`, section 9.2.2\n",
    "\n",
    "* [An Introduction to Statistical Learning](https://www.statlearning.com/), section 4.4.2 \n"
   ]
  }
 ],
 "metadata": {
  "language_info": {
   "name": "python"
  },
  "orig_nbformat": 4
 },
 "nbformat": 4,
 "nbformat_minor": 2
}
