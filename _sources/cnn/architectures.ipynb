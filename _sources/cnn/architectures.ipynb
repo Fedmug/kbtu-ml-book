{
 "cells": [
  {
   "cell_type": "markdown",
   "metadata": {},
   "source": [
    "# Architectures of CNN\n",
    "\n",
    "* An [old list](https://education.yandex.ru/handbook/ml/article/svyortochnye-nejroseti#bonus-%E2%84%961-znakovye-arhitektury-v-mire-svyortochnyh-nejronnyh-setej-dlya-zadachi-klassifikacii-izobrazhenij) from ML Handbook\n",
    "\n",
    "* Image classification [benchmark](https://paperswithcode.com/sota/image-classification-on-imagenet)"
   ]
  }
 ],
 "metadata": {
  "kernelspec": {
   "display_name": "Python 3 (ipykernel)",
   "language": "python",
   "name": "python3"
  },
  "language_info": {
   "codemirror_mode": {
    "name": "ipython",
    "version": 3
   },
   "file_extension": ".py",
   "mimetype": "text/x-python",
   "name": "python",
   "nbconvert_exporter": "python",
   "pygments_lexer": "ipython3",
   "version": "3.10.9"
  }
 },
 "nbformat": 4,
 "nbformat_minor": 2
}
