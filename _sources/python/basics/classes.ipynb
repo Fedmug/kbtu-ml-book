{
 "cells": [
  {
   "cell_type": "markdown",
   "metadata": {
    "pycharm": {
     "name": "#%% md\n"
    },
    "slideshow": {
     "slide_type": "slide"
    }
   },
   "source": [
    "# Classes\n",
    "\n",
    "## OOP\n",
    "\n",
    "* Encapsulation\n",
    "* Inheritance\n",
    "* Polymorphism\n",
    "* Abstraction (optional)\n",
    "\n",
    "[A kind survey](https://www.freecodecamp.org/news/object-oriented-programming-concepts-21bb035f7260/)"
   ]
  },
  {
   "cell_type": "markdown",
   "metadata": {
    "slideshow": {
     "slide_type": "slide"
    }
   },
   "source": [
    "## Encapsulation\n",
    "\n",
    "<img src=\"images/cat.png\" alt=\"unfunny meme again\"/>"
   ]
  },
  {
   "cell_type": "markdown",
   "metadata": {
    "slideshow": {
     "slide_type": "slide"
    }
   },
   "source": [
    "## Abstraction\n",
    "\n",
    "<img src=\"images/phone.png\" alt=\"unfunny meme again\"/>"
   ]
  },
  {
   "cell_type": "markdown",
   "metadata": {
    "slideshow": {
     "slide_type": "slide"
    }
   },
   "source": [
    "## Inheritance\n",
    "\n",
    "<img src=\"images/teacher.png\" alt=\"unfunny meme again\"/>"
   ]
  },
  {
   "cell_type": "markdown",
   "metadata": {
    "slideshow": {
     "slide_type": "slide"
    }
   },
   "source": [
    "## Polymorphism\n",
    "\n",
    "<img src=\"images/figures.png\"  alt=\"unfunny meme again\"/>"
   ]
  },
  {
   "cell_type": "markdown",
   "metadata": {
    "pycharm": {
     "name": "#%% md\n"
    },
    "slideshow": {
     "slide_type": "slide"
    }
   },
   "source": [
    "### Type → Class → Object\n",
    "\n",
    "* `Type` — a descriptive set of values and operations on them\n",
    "* `Class` — implementation of a type\n",
    "* `Object` — instance of a class\n",
    "\n",
    "See also the first paragraph in [this doc](https://docs.python.org/3/tutorial/classes.html) or [here](https://blog.kotlin-academy.com/programmer-dictionary-class-vs-type-vs-object-e6d1f74d1e2e)."
   ]
  },
  {
   "cell_type": "markdown",
   "metadata": {
    "pycharm": {
     "name": "#%% md\n"
    },
    "slideshow": {
     "slide_type": "slide"
    }
   },
   "source": [
    "### Examples of types, classes and objects"
   ]
  },
  {
   "cell_type": "markdown",
   "metadata": {
    "pycharm": {
     "name": "#%% md\n"
    },
    "slideshow": {
     "slide_type": "-"
    }
   },
   "source": [
    "\"Логический тип\" → bool → True, False\n",
    "\n",
    "\"Целочисленный тип\" → int → 1, 2, 3\n",
    "\n",
    "\"Строковый тип\" → str → \"hello\", \"world\". \n",
    "\n",
    "\"Множество\" → set → {1, 2, 3}, {4, 5, 6}\n",
    "\n",
    "\"Упорядоченный набор фиксированной длины\" → tuple → (1, 2, 3), (3, 4)\n",
    "\n",
    "\"Питоновский класс\" → type → int, str, float"
   ]
  },
  {
   "cell_type": "markdown",
   "metadata": {
    "pycharm": {
     "name": "#%% md\n"
    },
    "slideshow": {
     "slide_type": "slide"
    }
   },
   "source": [
    "### Classes in Python"
   ]
  },
  {
   "cell_type": "code",
   "execution_count": null,
   "metadata": {
    "pycharm": {
     "name": "#%%\n"
    },
    "slideshow": {
     "slide_type": "-"
    }
   },
   "outputs": [],
   "source": [
    "class A:\n",
    "    X = 10                       # class variable\n",
    "\n",
    "    def __init__(self, x: int):  # init a new instance of the class\n",
    "        self._x = x              # self refers to this instance\n",
    "    \n",
    "    def foo(self) -> None:       # class method\n",
    "        self._x += 1             # update the self instance variable\n",
    "        \n",
    "    @staticmethod                # static method of the class\n",
    "    def bar() -> str:            # self is not passed to it!\n",
    "        return \"bar\"\n",
    "    \n",
    "    @classmethod                 # class method of the class\n",
    "    def baz(cls: type) -> str:   # pass cls instead of self!\n",
    "        return cls.__name__\n",
    "    \n",
    "    @property                    # property-method\n",
    "    def x(self) -> int:            \n",
    "        return self._x\n",
    "    \n",
    "    @x.setter                    # setter-property method\n",
    "    def x(self, x: int) -> None:\n",
    "        self_x = x"
   ]
  },
  {
   "cell_type": "markdown",
   "metadata": {
    "pycharm": {
     "name": "#%% md\n"
    },
    "slideshow": {
     "slide_type": "slide"
    }
   },
   "source": [
    "### Objects → Instancing"
   ]
  },
  {
   "cell_type": "markdown",
   "metadata": {
    "pycharm": {
     "name": "#%% md\n"
    },
    "slideshow": {
     "slide_type": "-"
    }
   },
   "source": [
    "Create a class → Construct an instance → Initialize the instance"
   ]
  },
  {
   "cell_type": "code",
   "execution_count": 1,
   "metadata": {
    "pycharm": {
     "name": "#%%\n"
    },
    "slideshow": {
     "slide_type": "-"
    }
   },
   "outputs": [],
   "source": [
    "class A:\n",
    "    \"\"\"My class A\"\"\"\n",
    "    def __init__(self): \n",
    "        print(f\"Called init, {self}\")\n",
    "    \n",
    "    def foo(self):\n",
    "        print(f\"Called foo, {self}\")\n",
    "        "
   ]
  },
  {
   "cell_type": "code",
   "execution_count": 2,
   "metadata": {
    "pycharm": {
     "name": "#%%\n"
    },
    "slideshow": {
     "slide_type": "-"
    }
   },
   "outputs": [
    {
     "name": "stdout",
     "output_type": "stream",
     "text": [
      "Called init, <__main__.A object at 0x10888e920>\n",
      "Called init, <__main__.A object at 0x10888e9b0>\n"
     ]
    }
   ],
   "source": [
    "a = A(); b = A()"
   ]
  },
  {
   "cell_type": "markdown",
   "metadata": {},
   "source": [
    "### Methods vs attributes"
   ]
  },
  {
   "cell_type": "code",
   "execution_count": 3,
   "metadata": {},
   "outputs": [
    {
     "name": "stdout",
     "output_type": "stream",
     "text": [
      "Called foo, <__main__.A object at 0x10888e920>\n"
     ]
    }
   ],
   "source": [
    "# class method\n",
    "a.foo()"
   ]
  },
  {
   "cell_type": "code",
   "execution_count": 8,
   "metadata": {},
   "outputs": [
    {
     "name": "stdout",
     "output_type": "stream",
     "text": [
      "(3, 4)\n",
      "0.5360427832241017\n"
     ]
    }
   ],
   "source": [
    "import numpy as np\n",
    "arr = np.random.rand(3, 4)\n",
    "# class attribute\n",
    "print(arr.shape)\n",
    "# class method\n",
    "print(arr.mean())"
   ]
  },
  {
   "cell_type": "markdown",
   "metadata": {
    "pycharm": {
     "name": "#%% md\n"
    },
    "slideshow": {
     "slide_type": "slide"
    }
   },
   "source": [
    "### Classes → @staticmethod"
   ]
  },
  {
   "cell_type": "code",
   "execution_count": 10,
   "metadata": {
    "pycharm": {
     "name": "#%%\n"
    },
    "slideshow": {
     "slide_type": "-"
    }
   },
   "outputs": [
    {
     "data": {
      "text/plain": [
       "(1, 1)"
      ]
     },
     "execution_count": 10,
     "metadata": {},
     "output_type": "execute_result"
    }
   ],
   "source": [
    "class A:\n",
    "    @staticmethod\n",
    "    def foo() -> int:\n",
    "        return 1\n",
    "\n",
    "a = A(); b = A()\n",
    "a.foo(), b.foo()"
   ]
  },
  {
   "cell_type": "markdown",
   "metadata": {
    "pycharm": {
     "name": "#%% md\n"
    },
    "slideshow": {
     "slide_type": "slide"
    }
   },
   "source": [
    "### Classes → @staticmethod → __init__ alt"
   ]
  },
  {
   "cell_type": "code",
   "execution_count": 11,
   "metadata": {
    "pycharm": {
     "name": "#%%\n"
    },
    "slideshow": {
     "slide_type": "-"
    }
   },
   "outputs": [],
   "source": [
    "import os\n",
    "\n",
    "class A:\n",
    "    def __init__(self, folder: str, file_name: str):\n",
    "        self.folder = folder\n",
    "        self.file_name = file_name\n",
    "    \n",
    "    @staticmethod\n",
    "    def from_path(path: str) -> 'A':\n",
    "        folder, file_name = path.rsplit(\"/\", 1)\n",
    "        return A(folder, file_name)\n",
    "    \n",
    "    @staticmethod\n",
    "    def from_folder(folder: str)-> list['A']:\n",
    "        return [A(folder, filename) for filename in os.listdir(folder)]\n",
    "        \n",
    "\n",
    "a = A(\"/home/phil\", \"lecture5.ipynb\")\n",
    "b = A.from_path(\"/home/ilariia/lecture5.ipynb\")\n",
    "cs = A.from_folder(\"./\")"
   ]
  },
  {
   "cell_type": "code",
   "execution_count": 12,
   "metadata": {
    "pycharm": {
     "name": "#%%\n"
    },
    "slideshow": {
     "slide_type": "-"
    }
   },
   "outputs": [
    {
     "data": {
      "text/plain": [
       "{'folder': '/home/phil', 'file_name': 'lecture5.ipynb'}"
      ]
     },
     "execution_count": 12,
     "metadata": {},
     "output_type": "execute_result"
    }
   ],
   "source": [
    "a.__dict__"
   ]
  },
  {
   "cell_type": "code",
   "execution_count": 13,
   "metadata": {
    "pycharm": {
     "name": "#%%\n"
    },
    "slideshow": {
     "slide_type": "-"
    }
   },
   "outputs": [
    {
     "data": {
      "text/plain": [
       "{'folder': '/home/ilariia', 'file_name': 'lecture5.ipynb'}"
      ]
     },
     "execution_count": 13,
     "metadata": {},
     "output_type": "execute_result"
    }
   ],
   "source": [
    "b.__dict__"
   ]
  },
  {
   "cell_type": "code",
   "execution_count": 14,
   "metadata": {
    "pycharm": {
     "name": "#%%\n"
    },
    "slideshow": {
     "slide_type": "-"
    }
   },
   "outputs": [
    {
     "name": "stdout",
     "output_type": "stream",
     "text": [
      "{'folder': './', 'file_name': 'iterate_me.ipynb'}\n",
      "{'folder': './', 'file_name': 'Spaghetti.png'}\n",
      "{'folder': './', 'file_name': '.DS_Store'}\n",
      "{'folder': './', 'file_name': 'BasicTypes.ipynb'}\n",
      "{'folder': './', 'file_name': 'images'}\n",
      "{'folder': './', 'file_name': 'handbook.ipynb'}\n",
      "{'folder': './', 'file_name': 'exceptions.ipynb'}\n",
      "{'folder': './', 'file_name': 'Sequence.png'}\n",
      "{'folder': './', 'file_name': 'ControlFlow.ipynb'}\n",
      "{'folder': './', 'file_name': 'NumpyAndPandas.ipynb'}\n",
      "{'folder': './', 'file_name': 'FunctionsStrings.ipynb'}\n",
      "{'folder': './', 'file_name': 'R_test.ipynb'}\n",
      "{'folder': './', 'file_name': 'branch.png'}\n",
      "{'folder': './', 'file_name': 'complete_guide.ipynb'}\n",
      "{'folder': './', 'file_name': '.mypy_cache'}\n",
      "{'folder': './', 'file_name': 'Classes.ipynb'}\n",
      "{'folder': './', 'file_name': 'titanic.csv'}\n",
      "{'folder': './', 'file_name': 'Variables.ipynb'}\n",
      "{'folder': './', 'file_name': '.ipynb_checkpoints'}\n",
      "{'folder': './', 'file_name': 'loop.png'}\n",
      "{'folder': './', 'file_name': 'NP_tasks.ipynb'}\n"
     ]
    }
   ],
   "source": [
    "for c in cs:\n",
    "    print(c.__dict__)"
   ]
  },
  {
   "cell_type": "markdown",
   "metadata": {
    "pycharm": {
     "name": "#%% md\n"
    },
    "slideshow": {
     "slide_type": "slide"
    }
   },
   "source": [
    "### Classes → public/private labels"
   ]
  },
  {
   "cell_type": "code",
   "execution_count": 19,
   "metadata": {
    "pycharm": {
     "name": "#%%\n"
    },
    "slideshow": {
     "slide_type": "-"
    }
   },
   "outputs": [
    {
     "name": "stdout",
     "output_type": "stream",
     "text": [
      "1\n",
      "2\n",
      "3\n",
      "foo\n",
      "_foo\n",
      "__foo\n"
     ]
    }
   ],
   "source": [
    "class A:\n",
    "    def __init__(self):\n",
    "        self.x: int = 1     # public\n",
    "        self._x: int = 2    # private\n",
    "        self.__x: int = 3   # super private\n",
    "\n",
    "    def foo(self) -> str:   # public\n",
    "        return \"foo\"\n",
    "    \n",
    "    def _foo(self) -> str:  # private\n",
    "        return \"_foo\"\n",
    "    \n",
    "    def __foo(self) -> str: # super private\n",
    "        return \"__foo\"\n",
    "    \n",
    "\n",
    "a = A()\n",
    "\n",
    "print(a.x)\n",
    "print(a._x)\n",
    "print(a._A__x)\n",
    "print(a.foo())\n",
    "print(a._foo())\n",
    "print(a._A__foo())"
   ]
  },
  {
   "cell_type": "markdown",
   "metadata": {
    "pycharm": {
     "name": "#%% md\n"
    },
    "slideshow": {
     "slide_type": "slide"
    }
   },
   "source": [
    "### Classes → Dunder methods"
   ]
  },
  {
   "cell_type": "code",
   "execution_count": null,
   "metadata": {
    "pycharm": {
     "name": "#%%\n"
    },
    "slideshow": {
     "slide_type": "-"
    }
   },
   "outputs": [],
   "source": [
    "class A:\n",
    "    def __init__(self, x: int): # dunder means 'double underscore'\n",
    "        self.x = x"
   ]
  },
  {
   "cell_type": "markdown",
   "metadata": {
    "pycharm": {
     "name": "#%% md\n"
    },
    "slideshow": {
     "slide_type": "slide"
    }
   },
   "source": [
    "### Classes → Dunder methods → `__str__`/`__repr__`"
   ]
  },
  {
   "cell_type": "code",
   "execution_count": 20,
   "metadata": {
    "cell_style": "split",
    "pycharm": {
     "name": "#%%\n"
    },
    "slideshow": {
     "slide_type": "-"
    }
   },
   "outputs": [
    {
     "name": "stdout",
     "output_type": "stream",
     "text": [
      "<__main__.A object at 0x10b9f7d30>\n"
     ]
    },
    {
     "data": {
      "text/plain": [
       "<__main__.A at 0x10b9f7d30>"
      ]
     },
     "execution_count": 20,
     "metadata": {},
     "output_type": "execute_result"
    }
   ],
   "source": [
    "class A:\n",
    "    def __init__(self, x: int):\n",
    "        self.x = x\n",
    "\n",
    "\n",
    "a = A(6)\n",
    "\n",
    "print(a)\n",
    "a"
   ]
  },
  {
   "cell_type": "code",
   "execution_count": 21,
   "metadata": {},
   "outputs": [
    {
     "name": "stdout",
     "output_type": "stream",
     "text": [
      "A with attr 6\n"
     ]
    },
    {
     "data": {
      "text/plain": [
       "A(6)"
      ]
     },
     "execution_count": 21,
     "metadata": {},
     "output_type": "execute_result"
    }
   ],
   "source": [
    "class A:\n",
    "    def __init__(self, x: int):\n",
    "        self.x = x\n",
    "        \n",
    "    def __str__(self) -> str: # what for?\n",
    "        return f\"A with attr {self.x}\"\n",
    "    \n",
    "    def __repr__(self) -> str:\n",
    "        return f\"A({self.x})\"\n",
    "\n",
    "a = A(6)\n",
    "\n",
    "print(a)\n",
    "a"
   ]
  },
  {
   "cell_type": "code",
   "execution_count": 22,
   "metadata": {},
   "outputs": [
    {
     "data": {
      "text/plain": [
       "('A with attr 6', 'A(6)')"
      ]
     },
     "execution_count": 22,
     "metadata": {},
     "output_type": "execute_result"
    }
   ],
   "source": [
    "str(a), repr(a)"
   ]
  },
  {
   "cell_type": "markdown",
   "metadata": {
    "pycharm": {
     "name": "#%% md\n"
    },
    "slideshow": {
     "slide_type": "slide"
    }
   },
   "source": [
    "### Classes → Dunder methods → arithmetics"
   ]
  },
  {
   "cell_type": "code",
   "execution_count": 24,
   "metadata": {
    "cell_style": "center",
    "pycharm": {
     "name": "#%%\n"
    },
    "slideshow": {
     "slide_type": "-"
    }
   },
   "outputs": [
    {
     "name": "stdout",
     "output_type": "stream",
     "text": [
      "10\n",
      "True\n",
      "False\n"
     ]
    },
    {
     "data": {
      "text/plain": [
       "14"
      ]
     },
     "execution_count": 24,
     "metadata": {},
     "output_type": "execute_result"
    }
   ],
   "source": [
    "class A:\n",
    "    def __init__(self, x: int):\n",
    "        self.x = x\n",
    "\n",
    "    def __add__(self, other: 'A') -> 'A':\n",
    "        return A(self.x + other.x)\n",
    "    \n",
    "    def __iadd__(self, other: 'A') -> 'A':\n",
    "        self.x += other.x  # be aware of the semantics\n",
    "        return self\n",
    "\n",
    "a = A(6)\n",
    "b = A(4)\n",
    "id_A = id(a)\n",
    "\n",
    "a += b\n",
    "print(a.x)\n",
    "print(id(a) == id_A)\n",
    "\n",
    "a = a + b\n",
    "print(id(a) == id_A)\n",
    "\n",
    "a.x"
   ]
  },
  {
   "cell_type": "markdown",
   "metadata": {
    "pycharm": {
     "name": "#%% md\n"
    },
    "slideshow": {
     "slide_type": "slide"
    }
   },
   "source": [
    "### Classes → Dunder methods → `__call__`"
   ]
  },
  {
   "cell_type": "code",
   "execution_count": 25,
   "metadata": {
    "pycharm": {
     "name": "#%%\n"
    },
    "slideshow": {
     "slide_type": "-"
    }
   },
   "outputs": [
    {
     "data": {
      "text/plain": [
       "64"
      ]
     },
     "execution_count": 25,
     "metadata": {},
     "output_type": "execute_result"
    }
   ],
   "source": [
    "from math import factorial, sqrt\n",
    "\n",
    "class Power:\n",
    "    def __init__(self, p: float):\n",
    "        self.p = p\n",
    "        \n",
    "    def __call__(self, a: float) -> float:\n",
    "        return a**self.p\n",
    "    \n",
    "power = Power(3)\n",
    "power(4)"
   ]
  },
  {
   "cell_type": "markdown",
   "metadata": {
    "pycharm": {
     "name": "#%% md\n"
    },
    "slideshow": {
     "slide_type": "slide"
    }
   },
   "source": [
    "### Classes → Dunder methods → `__len__`"
   ]
  },
  {
   "cell_type": "code",
   "execution_count": 27,
   "metadata": {
    "pycharm": {
     "name": "#%%\n"
    },
    "slideshow": {
     "slide_type": "-"
    }
   },
   "outputs": [
    {
     "data": {
      "text/plain": [
       "5"
      ]
     },
     "execution_count": 27,
     "metadata": {},
     "output_type": "execute_result"
    }
   ],
   "source": [
    "class PythonDudes:\n",
    "    def __init__(self, names: list[str]):\n",
    "        self.names = names\n",
    "    \n",
    "    def __len__(self) -> int:\n",
    "        return len(self.names)\n",
    "    \n",
    "    def add(self, name: str) -> None:\n",
    "        return self.names.append(name)\n",
    "    \n",
    "    \n",
    "catalog = PythonDudes([\"ilariia\", \"alex\", \"vadim\", \"nikita\"])\n",
    "catalog.add(\"kostya\")\n",
    "len(catalog)"
   ]
  },
  {
   "cell_type": "markdown",
   "metadata": {
    "pycharm": {
     "name": "#%% md\n"
    },
    "slideshow": {
     "slide_type": "slide"
    }
   },
   "source": [
    "### Classes → Dunder methods → `__eq__`"
   ]
  },
  {
   "cell_type": "code",
   "execution_count": 28,
   "metadata": {
    "pycharm": {
     "name": "#%%\n"
    },
    "slideshow": {
     "slide_type": "-"
    }
   },
   "outputs": [
    {
     "data": {
      "text/plain": [
       "(True, True, False)"
      ]
     },
     "execution_count": 28,
     "metadata": {},
     "output_type": "execute_result"
    }
   ],
   "source": [
    "class A:\n",
    "    def __init__(self, x: int):\n",
    "        self.x = x\n",
    "    \n",
    "    def __eq__(self, other: 'A') -> bool:  \n",
    "        return self.x == other.x\n",
    "    \n",
    "#     def __ne__(self, other: 'A') -> bool:  \n",
    "#         return self.x != other.x\n",
    "\n",
    "# a1 = A(3)\n",
    "A(3) == A(3),  A(3) != A(5), A(3) != A(3),\n",
    "\n",
    "# https://docs.python.org/3/reference/datamodel.html#object.__lt__\n",
    "# https://stackoverflow.com/questions/4352244/should-ne-be-implemented-as-the-negation-of-eq"
   ]
  },
  {
   "cell_type": "markdown",
   "metadata": {
    "pycharm": {
     "name": "#%% md\n"
    },
    "slideshow": {
     "slide_type": "slide"
    }
   },
   "source": [
    "### Classes → Dunder methods → `__lt__`/`__gt__`"
   ]
  },
  {
   "cell_type": "code",
   "execution_count": 30,
   "metadata": {
    "pycharm": {
     "name": "#%%\n"
    },
    "slideshow": {
     "slide_type": "-"
    }
   },
   "outputs": [
    {
     "name": "stdout",
     "output_type": "stream",
     "text": [
      "5\n",
      "5\n"
     ]
    },
    {
     "data": {
      "text/plain": [
       "(False, True)"
      ]
     },
     "execution_count": 30,
     "metadata": {},
     "output_type": "execute_result"
    }
   ],
   "source": [
    "class A:\n",
    "    def __init__(self, x: int):\n",
    "        self.x = x\n",
    "\n",
    "    def __lt__(self, other: 'A') -> bool:\n",
    "        print(self.x)\n",
    "        return self.x < other.x\n",
    "\n",
    "    def __gt__(self, other: 'A') -> bool:\n",
    "        print(self.x)\n",
    "        return self.x > other.x\n",
    "\n",
    "        \n",
    "A(5) < A(3),  A(5) > A(3)"
   ]
  },
  {
   "cell_type": "markdown",
   "metadata": {
    "pycharm": {
     "name": "#%% md\n"
    },
    "slideshow": {
     "slide_type": "slide"
    }
   },
   "source": [
    "### Classes → Dunder methods → `__le__`/`__ge__`"
   ]
  },
  {
   "cell_type": "code",
   "execution_count": 31,
   "metadata": {
    "pycharm": {
     "name": "#%%\n"
    },
    "slideshow": {
     "slide_type": "-"
    }
   },
   "outputs": [
    {
     "name": "stdout",
     "output_type": "stream",
     "text": [
      "5\n",
      "3\n"
     ]
    },
    {
     "data": {
      "text/plain": [
       "(False, True)"
      ]
     },
     "execution_count": 31,
     "metadata": {},
     "output_type": "execute_result"
    }
   ],
   "source": [
    "class A:\n",
    "    def __init__(self, x: int):\n",
    "        self.x = x\n",
    "\n",
    "    def __le__(self, other: 'A') -> bool:\n",
    "        print(self.x)\n",
    "        return self.x < other.x\n",
    "\n",
    "        \n",
    "A(5) <= A(3),  A(5) >= A(3)"
   ]
  },
  {
   "cell_type": "markdown",
   "metadata": {
    "pycharm": {
     "name": "#%% md\n"
    },
    "slideshow": {
     "slide_type": "slide"
    }
   },
   "source": [
    "## Classes → Inheritance"
   ]
  },
  {
   "cell_type": "code",
   "execution_count": 32,
   "metadata": {
    "pycharm": {
     "name": "#%%\n"
    },
    "slideshow": {
     "slide_type": "-"
    }
   },
   "outputs": [
    {
     "name": "stdout",
     "output_type": "stream",
     "text": [
      "hello\n"
     ]
    }
   ],
   "source": [
    "class A:\n",
    "    def __init__(self, x: str):\n",
    "        self.x = x\n",
    "\n",
    "class B(A):\n",
    "    pass\n",
    "\n",
    "b = B(\"hello\")\n",
    "print(b.x)"
   ]
  },
  {
   "cell_type": "markdown",
   "metadata": {
    "pycharm": {
     "name": "#%% md\n"
    },
    "slideshow": {
     "slide_type": "slide"
    }
   },
   "source": [
    "### Classes → Inheritance → Overriding"
   ]
  },
  {
   "cell_type": "code",
   "execution_count": 34,
   "metadata": {
    "pycharm": {
     "name": "#%%\n"
    },
    "slideshow": {
     "slide_type": "-"
    }
   },
   "outputs": [
    {
     "name": "stdout",
     "output_type": "stream",
     "text": [
      "hello\n"
     ]
    },
    {
     "ename": "AttributeError",
     "evalue": "'B' object has no attribute 'x'",
     "output_type": "error",
     "traceback": [
      "\u001b[0;31m---------------------------------------------------------------------------\u001b[0m",
      "\u001b[0;31mAttributeError\u001b[0m                            Traceback (most recent call last)",
      "Input \u001b[0;32mIn [34]\u001b[0m, in \u001b[0;36m<cell line: 11>\u001b[0;34m()\u001b[0m\n\u001b[1;32m      9\u001b[0m b \u001b[38;5;241m=\u001b[39m B(\u001b[38;5;124m\"\u001b[39m\u001b[38;5;124mhello\u001b[39m\u001b[38;5;124m\"\u001b[39m)\n\u001b[1;32m     10\u001b[0m \u001b[38;5;28mprint\u001b[39m(b\u001b[38;5;241m.\u001b[39my)\n\u001b[0;32m---> 11\u001b[0m \u001b[38;5;28mprint\u001b[39m(\u001b[43mb\u001b[49m\u001b[38;5;241;43m.\u001b[39;49m\u001b[43mx\u001b[49m)\n",
      "\u001b[0;31mAttributeError\u001b[0m: 'B' object has no attribute 'x'"
     ]
    }
   ],
   "source": [
    "class A:\n",
    "    def __init__(self, x: str):\n",
    "        self.x = x\n",
    "\n",
    "class B(A):\n",
    "    def __init__(self, y: str):\n",
    "        self.y = y\n",
    "\n",
    "b = B(\"hello\")\n",
    "print(b.y)\n",
    "print(b.x)"
   ]
  },
  {
   "cell_type": "markdown",
   "metadata": {
    "pycharm": {
     "name": "#%% md\n"
    },
    "slideshow": {
     "slide_type": "slide"
    }
   },
   "source": [
    "### Classes → Inheritance → Using parent method in override"
   ]
  },
  {
   "cell_type": "code",
   "execution_count": 35,
   "metadata": {
    "pycharm": {
     "name": "#%%\n"
    },
    "slideshow": {
     "slide_type": "-"
    }
   },
   "outputs": [
    {
     "name": "stdout",
     "output_type": "stream",
     "text": [
      "xxx yyy\n"
     ]
    }
   ],
   "source": [
    "class A:\n",
    "    def __init__(self, x: str):\n",
    "        self.x = x\n",
    "\n",
    "class B(A):\n",
    "    def __init__(self, x: str, y: str):\n",
    "        A.__init__(self, x)\n",
    "        self.y = y\n",
    "\n",
    "b = B(\"xxx\", \"yyy\")\n",
    "print(b.x, b.y)"
   ]
  },
  {
   "cell_type": "markdown",
   "metadata": {},
   "source": [
    "## Bank account example"
   ]
  },
  {
   "cell_type": "code",
   "execution_count": 37,
   "metadata": {},
   "outputs": [],
   "source": [
    "class BankAccount:\n",
    "    '''\n",
    "    BankAccount represents the bank account, with methods to deposit and withdraw money from it\n",
    "    '''\n",
    "    def __init__(self, balance = 0):\n",
    "        assert balance >= 0, \"balance has to be non-negative.\"\n",
    "        self._balance = balance\n",
    "\n",
    "    def deposit(self, amount):\n",
    "        '''\n",
    "        Add the deposit amount to the account balance.\n",
    "        Deposit amount has to be non-negative.\n",
    "        No return value.\n",
    "        '''\n",
    "        if amount < 0:\n",
    "            print(\"Deposit fail: deposit amount has to be non-negative.\")\n",
    "            return 0\n",
    "        else:\n",
    "            self._balance += amount\n",
    "            return amount\n",
    "\n",
    "    def withdraw(self, amount):\n",
    "        '''\n",
    "        Deduct the withdraw amount from the account balance.\n",
    "        Withdraw amount has to be non-negative and not greater than the balance.\n",
    "        Return the value of the withdrawn amount\n",
    "        '''\n",
    "        if amount < 0:\n",
    "            print(\"Withdraw fail: withdraw amount has to be non-negative.\")\n",
    "            return 0\n",
    "        elif self._balance >= amount:\n",
    "            self._balance -= amount\n",
    "            return amount\n",
    "        else:\n",
    "            print(\"Withdraw fail: withdraw amount is more than the balance.\")\n",
    "            return 0\n",
    "\n",
    "    def get_balance(self):\n",
    "        '''\n",
    "        Return current balance\n",
    "        '''\n",
    "        return self._balance"
   ]
  },
  {
   "cell_type": "code",
   "execution_count": 38,
   "metadata": {},
   "outputs": [
    {
     "data": {
      "text/plain": [
       "1500"
      ]
     },
     "execution_count": 38,
     "metadata": {},
     "output_type": "execute_result"
    }
   ],
   "source": [
    "my_account = BankAccount(1000)\n",
    "my_account.deposit(500)\n",
    "my_account.get_balance()"
   ]
  },
  {
   "cell_type": "code",
   "execution_count": 39,
   "metadata": {},
   "outputs": [
    {
     "name": "stdout",
     "output_type": "stream",
     "text": [
      "200\n"
     ]
    }
   ],
   "source": [
    "money = my_account.withdraw(200)\n",
    "print(money)"
   ]
  },
  {
   "cell_type": "code",
   "execution_count": 40,
   "metadata": {},
   "outputs": [
    {
     "data": {
      "text/plain": [
       "1300"
      ]
     },
     "execution_count": 40,
     "metadata": {},
     "output_type": "execute_result"
    }
   ],
   "source": [
    "my_account.get_balance()"
   ]
  },
  {
   "cell_type": "code",
   "execution_count": 41,
   "metadata": {},
   "outputs": [],
   "source": [
    "class OverdraftAccount(BankAccount):\n",
    "    '''\n",
    "    OverdraftAccount represents a bank account with overdraft limit\n",
    "    '''\n",
    "    def __init__(self, balance, overdraft_limit):\n",
    "        assert overdraft_limit > 0, \"overdraft limit has to be non-negative.\"\n",
    "        assert balance > -overdraft_limit, \"balance exceeds overdraft limit\"\n",
    "        self._balance = balance\n",
    "        self._overdraft_limit = overdraft_limit\n",
    "    \n",
    "    def withdraw(self, amount):\n",
    "        '''\n",
    "        Deduct the withdraw amount from the account balance.\n",
    "        Withdraw amount has to be non-negative and not greater than the balance with overdraft limit.\n",
    "        Return the value of the withdrawn amount\n",
    "        '''\n",
    "        if amount < 0:\n",
    "            print(\"Withdraw fail: withdraw amount has to be non-negative.\")\n",
    "            return 0\n",
    "        elif self._balance + self._overdraft_limit >= amount:\n",
    "            self._balance -= amount\n",
    "            return amount\n",
    "        else:\n",
    "            print(\"Withdraw fail: overdraft limit does not allow this withdrawal\")\n",
    "            return 0\n",
    "\n",
    "    def get_overdraft_limit(self):\n",
    "        '''\n",
    "        Return the overdraft limit\n",
    "        '''\n",
    "        return self._overdraft_limit"
   ]
  },
  {
   "cell_type": "code",
   "execution_count": 42,
   "metadata": {},
   "outputs": [
    {
     "name": "stdout",
     "output_type": "stream",
     "text": [
      "Withdraw fail: overdraft limit does not allow this withdrawal\n"
     ]
    },
    {
     "data": {
      "text/plain": [
       "0"
      ]
     },
     "execution_count": 42,
     "metadata": {},
     "output_type": "execute_result"
    }
   ],
   "source": [
    "over_account = OverdraftAccount(1000, 100)\n",
    "over_account.withdraw(1500)"
   ]
  },
  {
   "cell_type": "code",
   "execution_count": 43,
   "metadata": {},
   "outputs": [
    {
     "data": {
      "text/plain": [
       "1050"
      ]
     },
     "execution_count": 43,
     "metadata": {},
     "output_type": "execute_result"
    }
   ],
   "source": [
    "over_account.withdraw(1050)"
   ]
  },
  {
   "cell_type": "code",
   "execution_count": 44,
   "metadata": {},
   "outputs": [
    {
     "data": {
      "text/plain": [
       "-50"
      ]
     },
     "execution_count": 44,
     "metadata": {},
     "output_type": "execute_result"
    }
   ],
   "source": [
    "over_account.get_balance()"
   ]
  },
  {
   "cell_type": "code",
   "execution_count": 41,
   "metadata": {},
   "outputs": [],
   "source": [
    "from math import gcd\n",
    "\n",
    "\n",
    "class Fraction:\n",
    "    def __init__(self, *args):\n",
    "        if len(args) == 2:\n",
    "            self._num, self._denom = args[0], args[1]\n",
    "        elif len(args) == 1:\n",
    "            lst = args[0].split('/')\n",
    "            self._num = int(lst[0])\n",
    "            self._denom = int(lst[1])\n",
    "        else:\n",
    "            raise ValueError(\"Invalid input\")\n",
    "        self._normalize()\n",
    "        \n",
    "    def _normalize(self):\n",
    "        common_factor = gcd(self._num, self._denom)\n",
    "        self._num = self._num // common_factor\n",
    "        self._denom = self._denom // common_factor\n",
    "        \n",
    "    def numerator(self, *args):\n",
    "        if len(args) == 0:\n",
    "            return self._num\n",
    "        elif len(args) == 1:\n",
    "            self._num = args[0]\n",
    "            self._normalize()\n",
    "        else:\n",
    "            raise ValueError(\"Too much arguments\")\n",
    "    \n",
    "    def denominator(self, *args):\n",
    "        if len(args) == 0:\n",
    "            return self._denom\n",
    "        elif len(args) == 1:\n",
    "            self._denom = args[0]\n",
    "            self._normalize()\n",
    "        else:\n",
    "            raise ValueError(\"Too much arguments\")\n",
    "            \n",
    "    def __str__(self):\n",
    "        result = str(abs(self._num)) + \"/\" + str(abs(self._denom))\n",
    "        if self._num * self._denom < 0:\n",
    "            result = \"-\" + result\n",
    "        return result\n",
    "    \n",
    "    def __repr__(self):\n",
    "        return f\"Fraction('{self.__str__()}')\"\n",
    "    \n",
    "    def __neg__(self):\n",
    "        return Fraction(-self._num, self._denom)"
   ]
  },
  {
   "cell_type": "code",
   "execution_count": 48,
   "metadata": {},
   "outputs": [
    {
     "name": "stdout",
     "output_type": "stream",
     "text": [
      "1 8 1/8\n",
      "1 9 1/9\n",
      "-18 4 -9/2\n",
      "6 12 1/2\n",
      "6 19 6/19\n",
      "-1 -2 1/2\n",
      "-19 17 -19/17\n",
      "0 15 0/1\n",
      "12 17 12/17\n",
      "9 -13 -9/13\n",
      "19 15 19/15\n",
      "2 11 2/11\n",
      "-10 12 -5/6\n",
      "-18 9 -2/1\n",
      "-4 12 -1/3\n",
      "17 12 17/12\n",
      "0 9 0/1\n",
      "-10 -14 5/7\n",
      "-10 17 -10/17\n",
      "-9 -18 1/2\n",
      "-13 8 -13/8\n",
      "-3 3 -1/1\n",
      "-11 9 -11/9\n",
      "-11 18 -11/18\n",
      "18 -14 -9/7\n",
      "13 -4 -13/4\n",
      "12 3 4/1\n",
      "-3 -13 3/13\n",
      "-10 -12 5/6\n",
      "-11 19 -11/19\n",
      "-2 -2 1/1\n",
      "14 -7 -2/1\n",
      "-19 6 -19/6\n",
      "18 -4 -9/2\n",
      "15 -20 -3/4\n",
      "0 3 0/1\n",
      "-13 19 -13/19\n",
      "15 -15 -1/1\n",
      "-11 -8 11/8\n",
      "-3 11 -3/11\n",
      "5 -8 -5/8\n",
      "18 15 6/5\n",
      "-20 10 -2/1\n",
      "8 -15 -8/15\n",
      "19 13 19/13\n",
      "5 13 5/13\n",
      "-20 -12 5/3\n",
      "10 -3 -10/3\n",
      "14 -19 -14/19\n",
      "-8 -14 4/7\n",
      "9 9 1/1\n",
      "6 12 1/2\n",
      "1 17 1/17\n",
      "-8 2 -4/1\n",
      "-11 -13 11/13\n",
      "-20 -6 10/3\n",
      "0 -19 0/1\n",
      "0 -10 0/1\n",
      "6 18 1/3\n",
      "-20 2 -10/1\n",
      "-16 15 -16/15\n",
      "-12 -7 12/7\n",
      "-4 -16 1/4\n",
      "-4 -17 4/17\n",
      "-4 5 -4/5\n",
      "-12 10 -6/5\n",
      "9 17 9/17\n",
      "-13 6 -13/6\n",
      "16 11 16/11\n",
      "1 11 1/11\n",
      "9 13 9/13\n",
      "18 14 9/7\n",
      "13 9 13/9\n",
      "-3 -16 3/16\n",
      "7 12 7/12\n",
      "1 1 1/1\n",
      "-7 -20 7/20\n",
      "-18 17 -18/17\n",
      "2 7 2/7\n",
      "13 -19 -13/19\n",
      "-17 -4 17/4\n",
      "9 3 3/1\n",
      "-18 15 -6/5\n",
      "-14 -4 7/2\n",
      "15 2 15/2\n",
      "-1 9 -1/9\n",
      "-16 -18 8/9\n",
      "-7 -7 1/1\n",
      "-9 -18 1/2\n",
      "-16 -9 16/9\n",
      "-15 10 -3/2\n",
      "-17 18 -17/18\n",
      "15 17 15/17\n",
      "-11 -5 11/5\n",
      "-3 -12 1/4\n",
      "17 17 1/1\n",
      "5 -1 -5/1\n",
      "-3 -17 3/17\n"
     ]
    }
   ],
   "source": [
    "from random import randint\n",
    "\n",
    "for i in range(100):\n",
    "    numerator = randint(-20, 20)\n",
    "    denominator = randint(-20, 20)\n",
    "    if denominator != 0:\n",
    "        print(numerator, denominator, Fraction(numerator, denominator))"
   ]
  },
  {
   "cell_type": "code",
   "execution_count": 51,
   "metadata": {},
   "outputs": [
    {
     "data": {
      "text/plain": [
       "1"
      ]
     },
     "execution_count": 51,
     "metadata": {},
     "output_type": "execute_result"
    }
   ],
   "source": [
    "gcd(-10, -21)"
   ]
  },
  {
   "cell_type": "code",
   "execution_count": 45,
   "metadata": {},
   "outputs": [
    {
     "data": {
      "text/plain": [
       "(Fraction('-35/4'), 4481953280)"
      ]
     },
     "execution_count": 45,
     "metadata": {},
     "output_type": "execute_result"
    }
   ],
   "source": [
    "f.numerator(35)\n",
    "f, id(f)"
   ]
  },
  {
   "cell_type": "code",
   "execution_count": 47,
   "metadata": {},
   "outputs": [
    {
     "data": {
      "text/plain": [
       "(Fraction('-35/4'), Fraction('35/4'), 4481953568)"
      ]
     },
     "execution_count": 47,
     "metadata": {},
     "output_type": "execute_result"
    }
   ],
   "source": [
    "f1 = -f\n",
    "f, f1, id(f1)"
   ]
  }
 ],
 "metadata": {
  "celltoolbar": "Slideshow",
  "kernelspec": {
   "display_name": "Python 3 (ipykernel)",
   "language": "python",
   "name": "python3"
  },
  "language_info": {
   "codemirror_mode": {
    "name": "ipython",
    "version": 3
   },
   "file_extension": ".py",
   "mimetype": "text/x-python",
   "name": "python",
   "nbconvert_exporter": "python",
   "pygments_lexer": "ipython3",
   "version": "3.11.4"
  },
  "rise": {
   "enable_chalkboard": true,
   "footer": "<p style=\"margin: 5px; color: #a0a0a0\">YSDA Python Course</p>",
   "scroll": true,
   "start_slideshow_at": "selected",
   "theme": "serif"
  }
 },
 "nbformat": 4,
 "nbformat_minor": 2
}
