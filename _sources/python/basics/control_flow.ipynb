{
 "cells": [
  {
   "cell_type": "markdown",
   "id": "79eb3c77",
   "metadata": {
    "pycharm": {
     "name": "#%% md\n"
    },
    "slideshow": {
     "slide_type": "slide"
    }
   },
   "source": [
    "# Control flow"
   ]
  },
  {
   "cell_type": "markdown",
   "id": "af5dbf94",
   "metadata": {
    "pycharm": {
     "name": "#%% md\n"
    },
    "slideshow": {
     "slide_type": "slide"
    }
   },
   "source": [
    "## Condition operator, if, elif, else"
   ]
  },
  {
   "cell_type": "code",
   "execution_count": 152,
   "id": "b0734349",
   "metadata": {
    "pycharm": {
     "name": "#%%\n"
    },
    "slideshow": {
     "slide_type": "slide"
    }
   },
   "outputs": [],
   "source": [
    "x = 30"
   ]
  },
  {
   "cell_type": "code",
   "execution_count": 153,
   "id": "e7e53f98",
   "metadata": {
    "pycharm": {
     "name": "#%%\n"
    },
    "slideshow": {
     "slide_type": "-"
    }
   },
   "outputs": [
    {
     "name": "stdout",
     "output_type": "stream",
     "text": [
      "30 Divisible by 10\n"
     ]
    }
   ],
   "source": [
    "if x % 10 == 0:  # semicolon emphasizes the beginning of еру new code block\n",
    "    \n",
    "    # indentation is important!\n",
    "\n",
    "    print(x, \"Divisible by 10\")\n",
    "elif x % 5 == 0:\n",
    "    print(x, \"Divisible by 5\")\n",
    "else:\n",
    "    print(x, \"Not divisible by 5\")"
   ]
  },
  {
   "cell_type": "code",
   "execution_count": 159,
   "id": "b7b7d901",
   "metadata": {
    "pycharm": {
     "name": "#%%\n"
    },
    "slideshow": {
     "slide_type": "slide"
    }
   },
   "outputs": [
    {
     "name": "stdout",
     "output_type": "stream",
     "text": [
      "HOW?!\n"
     ]
    }
   ],
   "source": [
    "value = float(\"nan\")\n",
    "\n",
    "if value > 5:\n",
    "    print('> 5')\n",
    "elif value == 5:\n",
    "    print('5')\n",
    "elif value < 5:\n",
    "    print('< 5')\n",
    "else:\n",
    "    print('HOW?!')  # Q: for which value \"HOW?!\" will be printed?"
   ]
  },
  {
   "cell_type": "markdown",
   "id": "6c2384b6",
   "metadata": {
    "pycharm": {
     "name": "#%% md\n"
    },
    "slideshow": {
     "slide_type": "slide"
    }
   },
   "source": [
    "<div class=\"alert alert-danger\">\n",
    "<b>Anti-pattern:</b> redundant brackets\n",
    "</div>"
   ]
  },
  {
   "cell_type": "code",
   "execution_count": 160,
   "id": "451ce466",
   "metadata": {
    "pycharm": {
     "name": "#%%\n"
    }
   },
   "outputs": [
    {
     "name": "stdout",
     "output_type": "stream",
     "text": [
      "30 Divisible by 10\n"
     ]
    }
   ],
   "source": [
    "if (x % 10 == 0):  # unnecessary brackets impede reading of this code\n",
    "    print(x, \"Divisible by 10\")\n",
    "elif (x % 5 == 0):\n",
    "    print(x, \"Divisible by 5\")\n",
    "else:\n",
    "    print(x, \"Not divisible by 5\")"
   ]
  },
  {
   "cell_type": "markdown",
   "id": "acfcee5e",
   "metadata": {
    "pycharm": {
     "name": "#%% md\n"
    },
    "slideshow": {
     "slide_type": "slide"
    }
   },
   "source": [
    "## Ternary operator"
   ]
  },
  {
   "cell_type": "code",
   "execution_count": 161,
   "id": "6285879c",
   "metadata": {
    "pycharm": {
     "name": "#%%\n"
    }
   },
   "outputs": [],
   "source": [
    "if x % 10 == 0:\n",
    "    answer = \"Divisible by 10\"\n",
    "else:\n",
    "    answer = \"Not divisible by 10\""
   ]
  },
  {
   "cell_type": "code",
   "execution_count": 162,
   "id": "9cc6c327",
   "metadata": {
    "pycharm": {
     "name": "#%%\n"
    }
   },
   "outputs": [],
   "source": [
    "answer = \"Divisible by 10\" if x % 10 == 0 else \"Not divisible by 10\""
   ]
  },
  {
   "cell_type": "markdown",
   "id": "661e2ffb",
   "metadata": {
    "pycharm": {
     "name": "#%% md\n"
    },
    "slideshow": {
     "slide_type": "slide"
    }
   },
   "source": [
    "<div class=\"alert alert-danger\">\n",
    "<b>Anti-pattern:</b> use a ternary operator for large expressions\n",
    "</div>"
   ]
  },
  {
   "cell_type": "markdown",
   "id": "45884346",
   "metadata": {
    "pycharm": {
     "name": "#%% md\n"
    }
   },
   "source": [
    "<img src=\"./images/big_ternary.png\" />"
   ]
  },
  {
   "cell_type": "markdown",
   "id": "51dcbc6c",
   "metadata": {
    "pycharm": {
     "name": "#%% md\n"
    },
    "slideshow": {
     "slide_type": "slide"
    }
   },
   "source": [
    "<div class=\"alert alert-danger\">\n",
    "<b>Anti-pattern:</b> return different types depending on the condition\n",
    "</div>"
   ]
  },
  {
   "cell_type": "code",
   "execution_count": 163,
   "id": "a496830c",
   "metadata": {
    "pycharm": {
     "name": "#%%\n"
    }
   },
   "outputs": [],
   "source": [
    "x = 13\n",
    "\n",
    "answer = x % 10 if x > 0 else \"Wrong value!\""
   ]
  },
  {
   "cell_type": "markdown",
   "id": "36769e3f",
   "metadata": {},
   "source": [
    "**Execsice -1**. Write a function, which returns the middle of three given integers."
   ]
  },
  {
   "cell_type": "code",
   "execution_count": 164,
   "id": "6765bf44",
   "metadata": {},
   "outputs": [],
   "source": [
    "def get_middle_value(a: int, b: int, c: int) -> int:\n",
    "    \"\"\"\n",
    "    Takes three values and returns middle value.\n",
    "    \"\"\"\n",
    "    if a <= b <= c or c <= b <= a:\n",
    "        return b\n",
    "    elif b <= a <= c or c <= a <= b:\n",
    "        return a\n",
    "    else:\n",
    "        return c"
   ]
  },
  {
   "cell_type": "code",
   "execution_count": 167,
   "id": "69f62f9c",
   "metadata": {},
   "outputs": [],
   "source": [
    "assert get_middle_value(1, 2, 3) == 2\n",
    "assert get_middle_value(1, 3, 2) == 2\n",
    "assert get_middle_value(2, 1, 3) == 2\n",
    "assert get_middle_value(2, 3, 1) == 2\n",
    "assert get_middle_value(3, 1, 2) == 2\n",
    "assert get_middle_value(3, 2, 1) == 2\n",
    "assert get_middle_value(-100, -10, 100) == -10\n",
    "assert get_middle_value(100, -100, -10) == -10\n",
    "assert get_middle_value(-10, -10, -5) == -10\n",
    "assert get_middle_value(-10, -10, -10) == -10\n",
    "assert get_middle_value(-100, 10, 100) == 10\n",
    "assert get_middle_value(0, 0, 0) == 0\n",
    "assert get_middle_value(10**12, -10**12, 10**10) == 10**10"
   ]
  },
  {
   "cell_type": "markdown",
   "id": "85f8d3f2",
   "metadata": {
    "pycharm": {
     "name": "#%% md\n"
    },
    "slideshow": {
     "slide_type": "slide"
    }
   },
   "source": [
    "## or, and"
   ]
  },
  {
   "cell_type": "code",
   "execution_count": 168,
   "id": "ae44a14e",
   "metadata": {
    "pycharm": {
     "name": "#%%\n"
    }
   },
   "outputs": [
    {
     "data": {
      "text/plain": [
       "(True, False)"
      ]
     },
     "execution_count": 168,
     "metadata": {},
     "output_type": "execute_result"
    }
   ],
   "source": [
    "bool(20), bool(0)"
   ]
  },
  {
   "cell_type": "code",
   "execution_count": 169,
   "id": "a7a2a1cf",
   "metadata": {
    "pycharm": {
     "name": "#%%\n"
    }
   },
   "outputs": [
    {
     "data": {
      "text/plain": [
       "(True, False)"
      ]
     },
     "execution_count": 169,
     "metadata": {},
     "output_type": "execute_result"
    }
   ],
   "source": [
    "bool(20 or 0), bool(20 and 0)"
   ]
  },
  {
   "cell_type": "code",
   "execution_count": 170,
   "id": "921257d9",
   "metadata": {
    "pycharm": {
     "name": "#%%\n"
    }
   },
   "outputs": [
    {
     "data": {
      "text/plain": [
       "(int, int)"
      ]
     },
     "execution_count": 170,
     "metadata": {},
     "output_type": "execute_result"
    }
   ],
   "source": [
    "type(20 or 0), type(20 and 0)"
   ]
  },
  {
   "cell_type": "code",
   "execution_count": 171,
   "id": "c6d5fef0",
   "metadata": {
    "pycharm": {
     "name": "#%%\n"
    },
    "slideshow": {
     "slide_type": "slide"
    }
   },
   "outputs": [
    {
     "data": {
      "text/plain": [
       "'default'"
      ]
     },
     "execution_count": 171,
     "metadata": {},
     "output_type": "execute_result"
    }
   ],
   "source": [
    "x = \"\"\n",
    "if x:\n",
    "    pass  # pass just does nothing\n",
    "else:\n",
    "    x = \"default\"\n",
    "    \n",
    "x"
   ]
  },
  {
   "cell_type": "code",
   "execution_count": null,
   "id": "d4b7838b",
   "metadata": {
    "pycharm": {
     "name": "#%%\n"
    }
   },
   "outputs": [],
   "source": [
    "x = \"\"\n",
    "x = x or \"default\"  # often pattern to substitute empty value\n",
    "\n",
    "x"
   ]
  },
  {
   "cell_type": "markdown",
   "id": "2010077a",
   "metadata": {
    "pycharm": {
     "name": "#%% md\n"
    },
    "slideshow": {
     "slide_type": "slide"
    }
   },
   "source": [
    "## Lazy evaluation"
   ]
  },
  {
   "cell_type": "code",
   "execution_count": 172,
   "id": "cc9f50a7",
   "metadata": {
    "pycharm": {
     "name": "#%%\n"
    }
   },
   "outputs": [
    {
     "name": "stdout",
     "output_type": "stream",
     "text": [
      "0\n",
      "[10]\n"
     ]
    }
   ],
   "source": [
    "#Q: what will happen?\n",
    "print(0 and NEVER_EXISTED_VARIABLE)\n",
    "print([10] or NEVER_EXISTED_VARIABLE)"
   ]
  },
  {
   "cell_type": "code",
   "execution_count": 173,
   "id": "75b7547c",
   "metadata": {
    "pycharm": {
     "name": "#%%\n"
    }
   },
   "outputs": [
    {
     "ename": "NameError",
     "evalue": "name 'NEVER_EXISTED_VARIABLE' is not defined",
     "output_type": "error",
     "traceback": [
      "\u001b[0;31m---------------------------------------------------------------------------\u001b[0m",
      "\u001b[0;31mNameError\u001b[0m                                 Traceback (most recent call last)",
      "Input \u001b[0;32mIn [173]\u001b[0m, in \u001b[0;36m<cell line: 1>\u001b[0;34m()\u001b[0m\n\u001b[0;32m----> 1\u001b[0m \u001b[38;5;28mprint\u001b[39m(\u001b[38;5;241m10\u001b[39m \u001b[38;5;129;01mand\u001b[39;00m \u001b[43mNEVER_EXISTED_VARIABLE\u001b[49m)\n",
      "\u001b[0;31mNameError\u001b[0m: name 'NEVER_EXISTED_VARIABLE' is not defined"
     ]
    }
   ],
   "source": [
    "print(10 and NEVER_EXISTED_VARIABLE)"
   ]
  },
  {
   "cell_type": "code",
   "execution_count": 174,
   "id": "e8fdda50",
   "metadata": {
    "pycharm": {
     "name": "#%%\n"
    }
   },
   "outputs": [
    {
     "data": {
      "text/plain": [
       "10"
      ]
     },
     "execution_count": 174,
     "metadata": {},
     "output_type": "execute_result"
    }
   ],
   "source": [
    "10 or print(\"lazy\")"
   ]
  },
  {
   "cell_type": "code",
   "execution_count": 175,
   "id": "92ffd304",
   "metadata": {
    "pycharm": {
     "name": "#%%\n"
    }
   },
   "outputs": [
    {
     "name": "stdout",
     "output_type": "stream",
     "text": [
      "start\n",
      "end\n"
     ]
    }
   ],
   "source": [
    "print(\"start\") or print(\"end\")"
   ]
  },
  {
   "cell_type": "code",
   "execution_count": 178,
   "id": "a5d67ad9",
   "metadata": {},
   "outputs": [
    {
     "name": "stdout",
     "output_type": "stream",
     "text": [
      "start\n"
     ]
    }
   ],
   "source": [
    "print(\"start\")"
   ]
  },
  {
   "cell_type": "markdown",
   "id": "39dbec55",
   "metadata": {
    "pycharm": {
     "name": "#%% md\n"
    },
    "slideshow": {
     "slide_type": "slide"
    }
   },
   "source": [
    "## None"
   ]
  },
  {
   "cell_type": "code",
   "execution_count": 177,
   "id": "4d569c71",
   "metadata": {
    "pycharm": {
     "name": "#%%\n"
    }
   },
   "outputs": [],
   "source": [
    "# None means the value is missing\n",
    "None"
   ]
  },
  {
   "cell_type": "code",
   "execution_count": 179,
   "id": "e56cd60b",
   "metadata": {
    "pycharm": {
     "name": "#%%\n"
    }
   },
   "outputs": [
    {
     "data": {
      "text/plain": [
       "type"
      ]
     },
     "execution_count": 179,
     "metadata": {},
     "output_type": "execute_result"
    }
   ],
   "source": [
    "type(_)  # sic! None is not stored to _ (because \"value is missing\")\n",
    "         # so _ contains one of previous values"
   ]
  },
  {
   "cell_type": "code",
   "execution_count": 180,
   "id": "89bdaf3a",
   "metadata": {
    "pycharm": {
     "name": "#%%\n"
    }
   },
   "outputs": [
    {
     "data": {
      "text/plain": [
       "NoneType"
      ]
     },
     "execution_count": 180,
     "metadata": {},
     "output_type": "execute_result"
    }
   ],
   "source": [
    "type(None)"
   ]
  },
  {
   "cell_type": "code",
   "execution_count": 181,
   "id": "8b9f8abe",
   "metadata": {
    "pycharm": {
     "name": "#%%\n"
    }
   },
   "outputs": [
    {
     "data": {
      "text/plain": [
       "(False, 'None')"
      ]
     },
     "execution_count": 181,
     "metadata": {},
     "output_type": "execute_result"
    }
   ],
   "source": [
    "bool(None), str(None)"
   ]
  },
  {
   "cell_type": "markdown",
   "id": "2f4031aa",
   "metadata": {
    "pycharm": {
     "name": "#%% md\n"
    },
    "slideshow": {
     "slide_type": "slide"
    }
   },
   "source": [
    "### None usage"
   ]
  },
  {
   "cell_type": "code",
   "execution_count": 182,
   "id": "8dba4159",
   "metadata": {
    "pycharm": {
     "name": "#%%\n"
    }
   },
   "outputs": [],
   "source": [
    "# Turning video on...\n",
    "\n",
    "is_working = False  # something is broken\n",
    "\n",
    "if is_working:\n",
    "    channel = 'Megasuper Channel'\n",
    "else:\n",
    "    channel = None "
   ]
  },
  {
   "cell_type": "code",
   "execution_count": 183,
   "id": "eaf7a4b2",
   "metadata": {
    "pycharm": {
     "name": "#%%\n"
    }
   },
   "outputs": [
    {
     "name": "stdout",
     "output_type": "stream",
     "text": [
      "I am print!\n",
      "value = None\n"
     ]
    }
   ],
   "source": [
    "value = print(\"I am print!\")  # print just prints objects, and returns None\n",
    "    \n",
    "print(\"value\", \"=\", value)"
   ]
  },
  {
   "cell_type": "markdown",
   "id": "a83a793a",
   "metadata": {
    "pycharm": {
     "name": "#%% md\n"
    },
    "slideshow": {
     "slide_type": "slide"
    }
   },
   "source": [
    "<div class=\"alert alert-danger\">\n",
    "<b>Аnti-pattern:</b> checking `== None` instead of `is None`\n",
    "</div>"
   ]
  },
  {
   "cell_type": "code",
   "execution_count": 184,
   "id": "8fbadab9",
   "metadata": {
    "pycharm": {
     "name": "#%%\n"
    }
   },
   "outputs": [],
   "source": [
    "# print size of value, if value is not None\n",
    "\n",
    "value = None\n",
    "# value = \"Football\"\n",
    "# value = \"\"\n",
    "\n",
    "# Newbie\n",
    "if value != None:  # works for basic types, but \n",
    "                   # nonstandard objects could equal None,\n",
    "                   # not beeing None\n",
    "    print(len(value))\n",
    "\n",
    "# Newbie 2\n",
    "if value:  # empty list coerced to False \n",
    "    print(len(value))\n",
    "    \n",
    "# Expert\n",
    "if value is not None:  # is checks if value is the same object\n",
    "    print(len(value))"
   ]
  },
  {
   "cell_type": "markdown",
   "id": "0768ea06",
   "metadata": {
    "pycharm": {
     "name": "#%% md\n"
    },
    "slideshow": {
     "slide_type": "slide"
    }
   },
   "source": [
    "## Loops: for"
   ]
  },
  {
   "cell_type": "code",
   "execution_count": 185,
   "id": "e86f2806",
   "metadata": {
    "pycharm": {
     "name": "#%%\n"
    }
   },
   "outputs": [
    {
     "name": "stdout",
     "output_type": "stream",
     "text": [
      "1\n",
      "2\n",
      "3\n",
      "4\n",
      "5\n",
      "6\n",
      "7\n",
      "8\n",
      "9\n",
      "10\n"
     ]
    }
   ],
   "source": [
    "# print numbers from 1 to 10\n",
    "print(1)\n",
    "print(2)\n",
    "print(3)\n",
    "print(4)\n",
    "print(5)\n",
    "print(6)\n",
    "print(7)\n",
    "print(8)\n",
    "print(9)\n",
    "print(10)"
   ]
  },
  {
   "cell_type": "code",
   "execution_count": 186,
   "id": "34ba49df",
   "metadata": {
    "pycharm": {
     "name": "#%%\n"
    },
    "slideshow": {
     "slide_type": "slide"
    }
   },
   "outputs": [
    {
     "name": "stdout",
     "output_type": "stream",
     "text": [
      "1\n",
      "2\n",
      "3\n",
      "4\n",
      "5\n",
      "6\n",
      "7\n",
      "8\n",
      "9\n",
      "10\n"
     ]
    }
   ],
   "source": [
    "for n in [1, 2, 3, 4, 5, 6, 7, 8, 9, 10]:\n",
    "    print(n)"
   ]
  },
  {
   "cell_type": "code",
   "execution_count": 187,
   "id": "627ca93e",
   "metadata": {
    "pycharm": {
     "name": "#%%\n"
    },
    "slideshow": {
     "slide_type": "slide"
    }
   },
   "outputs": [
    {
     "name": "stdout",
     "output_type": "stream",
     "text": [
      "Letter A\n",
      "Letter B\n",
      "Letter C\n",
      "Letter D\n",
      "Letter E\n"
     ]
    }
   ],
   "source": [
    "for letter in \"ABCDE\":\n",
    "    print(\"Letter\", letter)"
   ]
  },
  {
   "cell_type": "code",
   "execution_count": 188,
   "id": "90fc8723",
   "metadata": {
    "pycharm": {
     "name": "#%%\n"
    }
   },
   "outputs": [
    {
     "name": "stdout",
     "output_type": "stream",
     "text": [
      "<class 'int'>\n",
      "10.1\n",
      "True\n",
      "None\n"
     ]
    }
   ],
   "source": [
    "for obj in (int, 10.1, True, None):\n",
    "    print(obj)"
   ]
  },
  {
   "cell_type": "code",
   "execution_count": 189,
   "id": "a6a3db74",
   "metadata": {},
   "outputs": [
    {
     "name": "stdout",
     "output_type": "stream",
     "text": [
      "a\n",
      "b\n"
     ]
    }
   ],
   "source": [
    "for k in {\"a\": 1, \"b\": 2}:\n",
    "    print(k)"
   ]
  },
  {
   "cell_type": "code",
   "execution_count": 190,
   "id": "b23978b0",
   "metadata": {},
   "outputs": [
    {
     "name": "stdout",
     "output_type": "stream",
     "text": [
      "a 1\n",
      "b 2\n"
     ]
    }
   ],
   "source": [
    "d = {\"a\": 1, \"b\": 2}\n",
    "for k, v in d.items():\n",
    "    print(k ,v)"
   ]
  },
  {
   "cell_type": "code",
   "execution_count": 191,
   "id": "f409bdc5",
   "metadata": {
    "pycharm": {
     "name": "#%%\n"
    },
    "slideshow": {
     "slide_type": "slide"
    }
   },
   "outputs": [
    {
     "name": "stdout",
     "output_type": "stream",
     "text": [
      "1\n",
      "2\n",
      "3\n"
     ]
    }
   ],
   "source": [
    "# print numbers 1 to 1000000\n",
    "\n",
    "for n in [1, 2, 3, ]:  # too long to type...\n",
    "    print(n)"
   ]
  },
  {
   "cell_type": "markdown",
   "id": "87fc6fbc",
   "metadata": {
    "pycharm": {
     "name": "#%% md\n"
    },
    "slideshow": {
     "slide_type": "slide"
    }
   },
   "source": [
    "## range"
   ]
  },
  {
   "cell_type": "code",
   "execution_count": 192,
   "id": "d55531c4",
   "metadata": {
    "pycharm": {
     "name": "#%%\n"
    }
   },
   "outputs": [],
   "source": [
    "numbers = range(10)"
   ]
  },
  {
   "cell_type": "code",
   "execution_count": 193,
   "id": "c9c63412",
   "metadata": {
    "pycharm": {
     "name": "#%%\n"
    }
   },
   "outputs": [
    {
     "data": {
      "text/plain": [
       "range"
      ]
     },
     "execution_count": 193,
     "metadata": {},
     "output_type": "execute_result"
    }
   ],
   "source": [
    "type(numbers)"
   ]
  },
  {
   "cell_type": "code",
   "execution_count": 194,
   "id": "197bb6d6",
   "metadata": {
    "pycharm": {
     "name": "#%%\n"
    }
   },
   "outputs": [
    {
     "data": {
      "text/plain": [
       "(0, 9)"
      ]
     },
     "execution_count": 194,
     "metadata": {},
     "output_type": "execute_result"
    }
   ],
   "source": [
    "numbers[0], numbers[-1]"
   ]
  },
  {
   "cell_type": "code",
   "execution_count": 195,
   "id": "6c3a67da",
   "metadata": {
    "pycharm": {
     "name": "#%%\n"
    }
   },
   "outputs": [
    {
     "data": {
      "text/plain": [
       "range(9, -1, -1)"
      ]
     },
     "execution_count": 195,
     "metadata": {},
     "output_type": "execute_result"
    }
   ],
   "source": [
    "reversed_numbers = numbers[::-1]\n",
    "reversed_numbers"
   ]
  },
  {
   "cell_type": "code",
   "execution_count": 196,
   "id": "e790b365",
   "metadata": {
    "pycharm": {
     "name": "#%%\n"
    },
    "slideshow": {
     "slide_type": "slide"
    }
   },
   "outputs": [
    {
     "data": {
      "text/plain": [
       "[0, 1, 2, 3, 4, 5, 6, 7, 8, 9]"
      ]
     },
     "execution_count": 196,
     "metadata": {},
     "output_type": "execute_result"
    }
   ],
   "source": [
    "list(range(10))"
   ]
  },
  {
   "cell_type": "code",
   "execution_count": 197,
   "id": "7b2c2c8b",
   "metadata": {
    "pycharm": {
     "name": "#%%\n"
    }
   },
   "outputs": [
    {
     "data": {
      "text/plain": [
       "[4, 5, 6, 7, 8, 9, 10, 11, 12, 13]"
      ]
     },
     "execution_count": 197,
     "metadata": {},
     "output_type": "execute_result"
    }
   ],
   "source": [
    "list(range(4, 14))  # half-open interval [4, 14)"
   ]
  },
  {
   "cell_type": "code",
   "execution_count": 198,
   "id": "1614641d",
   "metadata": {
    "pycharm": {
     "name": "#%%\n"
    }
   },
   "outputs": [
    {
     "data": {
      "text/plain": [
       "[4, 7, 10, 13]"
      ]
     },
     "execution_count": 198,
     "metadata": {},
     "output_type": "execute_result"
    }
   ],
   "source": [
    "list(range(4, 14, 3))"
   ]
  },
  {
   "cell_type": "code",
   "execution_count": 199,
   "id": "f22a6ce2",
   "metadata": {
    "pycharm": {
     "name": "#%%\n"
    }
   },
   "outputs": [
    {
     "data": {
      "text/plain": [
       "[14, 12, 10, 8, 6]"
      ]
     },
     "execution_count": 199,
     "metadata": {},
     "output_type": "execute_result"
    }
   ],
   "source": [
    "list(range(14, 4, -2))"
   ]
  },
  {
   "cell_type": "code",
   "execution_count": 200,
   "id": "a498800d",
   "metadata": {
    "pycharm": {
     "name": "#%%\n"
    }
   },
   "outputs": [
    {
     "data": {
      "text/plain": [
       "range(0, 10000000000000000000000000000000000000000000000000000000000000000000000000000000000000000000000000000)"
      ]
     },
     "execution_count": 200,
     "metadata": {},
     "output_type": "execute_result"
    }
   ],
   "source": [
    "range(10**100)  # does not fit in memory, but range can handle it"
   ]
  },
  {
   "cell_type": "code",
   "execution_count": 201,
   "id": "3f522cb4",
   "metadata": {
    "pycharm": {
     "name": "#%%\n"
    },
    "slideshow": {
     "slide_type": "-"
    }
   },
   "outputs": [
    {
     "ename": "TypeError",
     "evalue": "'str' object cannot be interpreted as an integer",
     "output_type": "error",
     "traceback": [
      "\u001b[0;31m---------------------------------------------------------------------------\u001b[0m",
      "\u001b[0;31mTypeError\u001b[0m                                 Traceback (most recent call last)",
      "Input \u001b[0;32mIn [201]\u001b[0m, in \u001b[0;36m<cell line: 1>\u001b[0;34m()\u001b[0m\n\u001b[0;32m----> 1\u001b[0m \u001b[38;5;28;43mrange\u001b[39;49m\u001b[43m(\u001b[49m\u001b[38;5;124;43m'\u001b[39;49m\u001b[38;5;124;43ma\u001b[39;49m\u001b[38;5;124;43m'\u001b[39;49m\u001b[43m,\u001b[49m\u001b[43m \u001b[49m\u001b[38;5;124;43m'\u001b[39;49m\u001b[38;5;124;43mf\u001b[39;49m\u001b[38;5;124;43m'\u001b[39;49m\u001b[43m,\u001b[49m\u001b[43m \u001b[49m\u001b[38;5;241;43m2\u001b[39;49m\u001b[43m)\u001b[49m\n",
      "\u001b[0;31mTypeError\u001b[0m: 'str' object cannot be interpreted as an integer"
     ]
    }
   ],
   "source": [
    "range('a', 'f', 2)  # Q: will it work?"
   ]
  },
  {
   "cell_type": "markdown",
   "id": "0e7f730b",
   "metadata": {
    "pycharm": {
     "name": "#%% md\n"
    },
    "slideshow": {
     "slide_type": "slide"
    }
   },
   "source": [
    "## Loops: for"
   ]
  },
  {
   "cell_type": "code",
   "execution_count": 202,
   "id": "ea394d46",
   "metadata": {
    "pycharm": {
     "name": "#%%\n"
    },
    "slideshow": {
     "slide_type": "-"
    }
   },
   "outputs": [],
   "source": [
    "# Print numbers from 0 to 1000000\n",
    "\n",
    "for n in range(1000000):\n",
    "    # print(n)  # закомментировано, чтоб случайно не напечатать и не подвесить jupyter ;]\n",
    "    pass"
   ]
  },
  {
   "cell_type": "code",
   "execution_count": 203,
   "id": "a045dfd3",
   "metadata": {
    "pycharm": {
     "name": "#%%\n"
    },
    "slideshow": {
     "slide_type": "slide"
    }
   },
   "outputs": [
    {
     "name": "stdout",
     "output_type": "stream",
     "text": [
      "a b c d e f g h i j k l m n o p q r s t u v w x y z \n",
      "z y x w v u t s r q p o n m l k j i h g f e d c b a "
     ]
    }
   ],
   "source": [
    "# print alphabet in direct and reversed orders\n",
    "alphabet = 'abcdefghijklmnopqrstuvwxyz'\n",
    "for letter in alphabet:\n",
    "    print(letter, end=' ')\n",
    "    \n",
    "print()\n",
    "    \n",
    "for letter in alphabet[::-1]:\n",
    "    print(letter, end=' ')"
   ]
  },
  {
   "cell_type": "markdown",
   "id": "f3121500",
   "metadata": {
    "pycharm": {
     "name": "#%% md\n"
    },
    "slideshow": {
     "slide_type": "slide"
    }
   },
   "source": [
    "<div class=\"alert alert-danger\">\n",
    "<b>Anti-pattern:</b> [::-1] is read poorly. It's better to use reversed\n",
    "</div>"
   ]
  },
  {
   "cell_type": "code",
   "execution_count": 204,
   "id": "9a0e3ad8",
   "metadata": {
    "pycharm": {
     "name": "#%%\n"
    }
   },
   "outputs": [
    {
     "data": {
      "text/plain": [
       "<reversed at 0x1064ba680>"
      ]
     },
     "execution_count": 204,
     "metadata": {},
     "output_type": "execute_result"
    }
   ],
   "source": [
    "reversed(alphabet)"
   ]
  },
  {
   "cell_type": "code",
   "execution_count": 205,
   "id": "75223b0c",
   "metadata": {
    "pycharm": {
     "name": "#%%\n"
    }
   },
   "outputs": [
    {
     "name": "stdout",
     "output_type": "stream",
     "text": [
      "z y x w v u t s r q p o n m l k j i h g f e d c b a "
     ]
    }
   ],
   "source": [
    "for letter in reversed(alphabet):\n",
    "    print(letter, end=' ')"
   ]
  },
  {
   "cell_type": "code",
   "execution_count": 206,
   "id": "a017c6c4",
   "metadata": {
    "pycharm": {
     "name": "#%%\n"
    }
   },
   "outputs": [
    {
     "name": "stdout",
     "output_type": "stream",
     "text": [
      "9 8 7 6 5 4 3 2 1 0 \n",
      "9 8 7 6 5 4 3 2 1 0 "
     ]
    }
   ],
   "source": [
    "for value in range(9, -1, -1):\n",
    "    print(value, end=' ')\n",
    "\n",
    "print()\n",
    "\n",
    "for value in reversed(range(10)):\n",
    "    print(value, end=' ')"
   ]
  },
  {
   "cell_type": "markdown",
   "id": "18e78b35",
   "metadata": {},
   "source": [
    "**Exersice 0.** Write five versions of reversing list program."
   ]
  },
  {
   "cell_type": "code",
   "execution_count": 209,
   "id": "89e7ddd5",
   "metadata": {},
   "outputs": [],
   "source": [
    "def reverse_iterative(lst: list[int]) -> list[int]:\n",
    "    \"\"\"\n",
    "    Return reversed list. You can use only iteration\n",
    "    :param lst: input list\n",
    "    :return: reversed list\n",
    "    \"\"\"\n",
    "    # lst = [1, 5, 7, 8, -54] -> [-54, 8, 7, 5, 1]\n",
    "    result = list()\n",
    "    for i in range(len(lst)):\n",
    "        result.append(lst[len(lst) - i - 1])\n",
    "    return result\n",
    "\n",
    "def reverse_inplace_iterative(lst: list[int]) -> None:\n",
    "    \"\"\"\n",
    "    Revert list inplace. You can use only iteration\n",
    "    :param lst: input list\n",
    "    :return: None\n",
    "    \"\"\"\n",
    "    # YOUR CODE HERE\n",
    "\n",
    "\n",
    "def reverse_inplace(lst: list[int]) -> None:\n",
    "    \"\"\"\n",
    "    Revert list inplace with reverse method\n",
    "    :param lst: input list\n",
    "    :return: None\n",
    "    \"\"\"\n",
    "    # YOUR CODE HERE\n",
    "\n",
    "\n",
    "def reverse_reversed(lst: list[int]) -> list[int]:\n",
    "    \"\"\"\n",
    "    Revert list with `reversed`\n",
    "    :param lst: input list\n",
    "    :return: reversed list\n",
    "    \"\"\"\n",
    "    # YOUR CODE HERE\n",
    "\n",
    "def reverse_slice(lst: list[int]) -> list[int]:\n",
    "    \"\"\"\n",
    "    Revert list with slicing\n",
    "    :param lst: input list\n",
    "    :return: reversed list\n",
    "    \"\"\"\n",
    "    return lst[::-1]"
   ]
  },
  {
   "cell_type": "code",
   "execution_count": 208,
   "id": "ec534fdd",
   "metadata": {},
   "outputs": [
    {
     "data": {
      "text/plain": [
       "[-54, 8, 7, 5, 1]"
      ]
     },
     "execution_count": 208,
     "metadata": {},
     "output_type": "execute_result"
    }
   ],
   "source": [
    "reverse_iterative([1, 5, 7, 8, -54])"
   ]
  },
  {
   "cell_type": "code",
   "execution_count": 210,
   "id": "30fb2637",
   "metadata": {},
   "outputs": [
    {
     "data": {
      "text/plain": [
       "[-54, 8, 7, 5, 1]"
      ]
     },
     "execution_count": 210,
     "metadata": {},
     "output_type": "execute_result"
    }
   ],
   "source": [
    "reverse_slice([1, 5, 7, 8, -54])"
   ]
  },
  {
   "cell_type": "markdown",
   "id": "1b2168c1",
   "metadata": {},
   "source": [
    "**Excercise 1.** The legendary [FizzBuzz](http://wiki.c2.com/?FizzBuzzTest) (if you think that it is too easy, look [here](https://habr.com/ru/post/540136/))."
   ]
  },
  {
   "cell_type": "code",
   "execution_count": null,
   "id": "ae997e8f",
   "metadata": {},
   "outputs": [],
   "source": [
    "def FizzBuzz(n):\n",
    "    \"\"\"\n",
    "    Prints numbers from 1 to n.\n",
    "    But for the multiples of three print 'Fizz' instead of the number \n",
    "    and for the multiples of five print 'Buzz'.\n",
    "    For numbers which are multiples of both three and five print 'FizzBuzz'.\n",
    "    \"\"\"\n",
    "    # YOUR CODE HERE"
   ]
  },
  {
   "cell_type": "code",
   "execution_count": null,
   "id": "484196ac",
   "metadata": {},
   "outputs": [],
   "source": [
    "FizzBuzz(5)"
   ]
  },
  {
   "cell_type": "code",
   "execution_count": null,
   "id": "838258fa",
   "metadata": {},
   "outputs": [],
   "source": [
    "FizzBuzz(15)"
   ]
  },
  {
   "cell_type": "markdown",
   "id": "1b856149",
   "metadata": {
    "pycharm": {
     "name": "#%% md\n"
    },
    "slideshow": {
     "slide_type": "slide"
    }
   },
   "source": [
    "## Loops: while"
   ]
  },
  {
   "cell_type": "code",
   "execution_count": 2,
   "id": "e0d21df0",
   "metadata": {
    "pycharm": {
     "name": "#%%\n"
    },
    "slideshow": {
     "slide_type": "slide"
    }
   },
   "outputs": [],
   "source": [
    "data = [.0, .0, .0, 1.2]\n",
    "\n",
    "while len(data) > data[-1]:\n",
    "    last = data[-1]\n",
    "    data.append(last * last)\n",
    "    \n",
    "    print(data)"
   ]
  },
  {
   "cell_type": "code",
   "execution_count": null,
   "id": "744f9675",
   "metadata": {},
   "outputs": [],
   "source": [
    "def gcd(a, b):\n",
    "    # Euclid's algorithm\n",
    "    while a > 0:\n",
    "        if a > b:\n",
    "            a, b = b, a\n",
    "        a, b = b % a, a\n",
    "    return b\n",
    "\n",
    "gcd(10010, 1100)"
   ]
  },
  {
   "cell_type": "markdown",
   "id": "82866a75",
   "metadata": {
    "pycharm": {
     "name": "#%% md\n"
    },
    "slideshow": {
     "slide_type": "slide"
    }
   },
   "source": [
    "<div class=\"alert alert-info\">\n",
    "    <b>Advice:</b> use <b>for</b> when elements are handled sequentially and independently\n",
    "</div>"
   ]
  },
  {
   "cell_type": "code",
   "execution_count": null,
   "id": "b0aa3219",
   "metadata": {
    "pycharm": {
     "name": "#%%\n"
    }
   },
   "outputs": [],
   "source": [
    "data = [10, 20, 30, 40]\n",
    "\n",
    "print(\"Print every element in the list\")\n",
    "\n",
    "for value in data:\n",
    "    print(value, end=', ')\n",
    "\n",
    "print()\n",
    "print(\"For every element in the list print: (index, element)\")\n",
    "\n",
    "for i, value in enumerate(data):\n",
    "    # enumerate maps data objects to the tuple (index, object)\n",
    "    print(i, value, end=', ')\n",
    "\n",
    "print()\n",
    "print(\"Print index every element in the list\")\n",
    "\n",
    "for i in range(len(data)):\n",
    "    print(i, end=', ')"
   ]
  },
  {
   "cell_type": "markdown",
   "id": "69348eb1",
   "metadata": {
    "pycharm": {
     "name": "#%% md\n"
    },
    "slideshow": {
     "slide_type": "slide"
    }
   },
   "source": [
    "<div class=\"alert alert-danger\">\n",
    "<b>Anti-pattern:</b> alter the object being iterated by in for loop\n",
    "</div>"
   ]
  },
  {
   "cell_type": "code",
   "execution_count": null,
   "id": "f6341c2d",
   "metadata": {
    "pycharm": {
     "name": "#%%\n"
    }
   },
   "outputs": [],
   "source": [
    "data = [0,1,2,3,4,5,6,7,8,9,10]\n",
    "\n",
    "for value in data:\n",
    "    print(value, end=', ')\n",
    "    data.pop(0)  # delete the first element"
   ]
  },
  {
   "cell_type": "markdown",
   "id": "3efd1703",
   "metadata": {
    "pycharm": {
     "name": "#%% md\n"
    },
    "slideshow": {
     "slide_type": "slide"
    }
   },
   "source": [
    "<div class=\"alert alert-info\">\n",
    "    <b>Рекомендация:</b> use <b>while</b> if the list changes at each iteration, or if the number of iterations is unpredictible\n",
    "</div>"
   ]
  },
  {
   "cell_type": "code",
   "execution_count": null,
   "id": "2ca51c85",
   "metadata": {
    "pycharm": {
     "name": "#%%\n"
    }
   },
   "outputs": [],
   "source": [
    "data = [0,1,2,3,4,5,6,7,8,9,10]\n",
    "\n",
    "while data:\n",
    "    value = data.pop(0)\n",
    "    print(value, end=', ')"
   ]
  },
  {
   "cell_type": "markdown",
   "id": "782d0128",
   "metadata": {},
   "source": [
    "**Excercise 2.** [Collatz conjecture](https://en.wikipedia.org/wiki/Collatz_conjecture) states that for any $n \\in \\mathbb N$ the iterative calculation of the function\n",
    "$$\n",
    "    f(n) = \\begin{cases}\n",
    "        \\frac n2,& n \\text{ is even,}\\\\\n",
    "        3n+1, & n \\text{ is odd.}\n",
    "    \\end{cases}\n",
    "$$\n",
    "finally reaches $1$. For example:\n",
    "* $f(2) = 1$ (one iteration);\n",
    "* $f(3) = 10$, $f(10) = 5$, $f(5) = 16$, $f(16) = 8$, $f(8) = 4$, $f(4) = 2$, $f(2) = 1$ (seven iterations); \n",
    "* $f(4) = 2$, $f(2) = 1$ (two iterations). \n",
    "\n",
    "Calculate the number of steps for n to reach 1."
   ]
  },
  {
   "cell_type": "code",
   "execution_count": 2,
   "id": "2a9330e4",
   "metadata": {},
   "outputs": [],
   "source": [
    "def collatz_steps(n):\n",
    "    # YOUR CODE HERE"
   ]
  },
  {
   "cell_type": "code",
   "execution_count": 19,
   "id": "b33431ab",
   "metadata": {},
   "outputs": [],
   "source": [
    "# run this cell to test your solution\n",
    "\n",
    "ground_truth = {1: 0,\n",
    "                2: 1,\n",
    "                3: 7,\n",
    "                4: 2,\n",
    "                5: 5,\n",
    "                6: 8,\n",
    "                7: 16,\n",
    "                8: 3,\n",
    "                9: 19,\n",
    "                27: 111,\n",
    "                257: 122,\n",
    "                1000: 111,\n",
    "                100500: 66\n",
    "               }\n",
    "\n",
    "for n, steps in ground_truth.items():\n",
    "    got_steps = collatz_steps(n)\n",
    "    assert got_steps == steps, f\"Expected {steps}, got: {got_steps}\""
   ]
  },
  {
   "cell_type": "markdown",
   "id": "8455860e",
   "metadata": {
    "pycharm": {
     "name": "#%% md\n"
    },
    "slideshow": {
     "slide_type": "slide"
    }
   },
   "source": [
    "## Loops: break, continue, else"
   ]
  },
  {
   "cell_type": "markdown",
   "id": "3de4c070",
   "metadata": {
    "pycharm": {
     "name": "#%% md\n"
    }
   },
   "source": [
    "### continue"
   ]
  },
  {
   "cell_type": "code",
   "execution_count": null,
   "id": "9e99e5a8",
   "metadata": {
    "pycharm": {
     "name": "#%%\n"
    }
   },
   "outputs": [],
   "source": [
    "# continue stops the execution of the current iteration and goes to the next one"
   ]
  },
  {
   "cell_type": "code",
   "execution_count": null,
   "id": "7b3ddab5",
   "metadata": {
    "pycharm": {
     "name": "#%%\n"
    }
   },
   "outputs": [],
   "source": [
    "skip = 7\n",
    "\n",
    "for n in range(10):\n",
    "    if n == skip:\n",
    "        print('*', end=', ')\n",
    "        continue\n",
    "    print(n, end=', ')"
   ]
  },
  {
   "cell_type": "code",
   "execution_count": 3,
   "id": "d6f82cd0",
   "metadata": {
    "pycharm": {
     "name": "#%%\n"
    }
   },
   "outputs": [
    {
     "name": "stdout",
     "output_type": "stream",
     "text": [
      "7, 6, 2, 1, "
     ]
    }
   ],
   "source": [
    "data = [1, 2, 3, 4, 5, 6, 7]\n",
    "\n",
    "while data:\n",
    "    value = data.pop()  # remove the last element\n",
    "    if 2 <= len(data) <= 4:\n",
    "        continue\n",
    "    print(value, end=', ')"
   ]
  },
  {
   "cell_type": "markdown",
   "id": "b1975132",
   "metadata": {
    "pycharm": {
     "name": "#%% md\n"
    },
    "slideshow": {
     "slide_type": "slide"
    }
   },
   "source": [
    "### break"
   ]
  },
  {
   "cell_type": "code",
   "execution_count": null,
   "id": "a105c4da",
   "metadata": {
    "pycharm": {
     "name": "#%%\n"
    }
   },
   "outputs": [],
   "source": [
    "# break interrupts the loop execution"
   ]
  },
  {
   "cell_type": "code",
   "execution_count": null,
   "id": "ea600005",
   "metadata": {
    "pycharm": {
     "name": "#%%\n"
    }
   },
   "outputs": [],
   "source": [
    "# break interrupts the loop execution\n",
    "\n",
    "for natural in [1, 2, 3, 4, -1, 20]:\n",
    "    if natural < 0:\n",
    "        print(\"ERROR\")\n",
    "        break\n",
    "    "
   ]
  },
  {
   "cell_type": "code",
   "execution_count": 27,
   "id": "c9a8d42d",
   "metadata": {
    "pycharm": {
     "name": "#%%\n"
    }
   },
   "outputs": [],
   "source": [
    "from datetime import datetime\n",
    "\n",
    "secret_number = 1 + datetime.now().microsecond % 100\n",
    "\n",
    "while True:\n",
    "    n = int(input(\"Enter your guess:\"))\n",
    "    if n == secret_number:\n",
    "        print(\"You win!\")\n",
    "        break\n",
    "    if n == 0:\n",
    "        print(\"The secret number was\", secret_number)\n",
    "        break"
   ]
  },
  {
   "cell_type": "markdown",
   "id": "adeeab3e",
   "metadata": {
    "pycharm": {
     "name": "#%% md\n"
    },
    "slideshow": {
     "slide_type": "slide"
    }
   },
   "source": [
    "### else"
   ]
  },
  {
   "cell_type": "code",
   "execution_count": null,
   "id": "2fdc2764",
   "metadata": {
    "pycharm": {
     "name": "#%%\n"
    }
   },
   "outputs": [],
   "source": [
    "# if the loop was not finished by break then else-block executes"
   ]
  },
  {
   "cell_type": "code",
   "execution_count": null,
   "id": "446ea51d",
   "metadata": {
    "pycharm": {
     "name": "#%%\n"
    }
   },
   "outputs": [],
   "source": [
    "for line in ['Hello', 'World', 'Library']:\n",
    "    if len(line) > 7:\n",
    "        print(\"Found long line!\")\n",
    "        break\n",
    "else:\n",
    "    print(\"All lines are short\")"
   ]
  },
  {
   "cell_type": "markdown",
   "id": "3d9f8ffb",
   "metadata": {
    "pycharm": {
     "name": "#%% md\n"
    },
    "slideshow": {
     "slide_type": "slide"
    }
   },
   "source": [
    "## Built-ins"
   ]
  },
  {
   "cell_type": "code",
   "execution_count": 13,
   "id": "0c388fcc",
   "metadata": {
    "pycharm": {
     "name": "#%%\n"
    },
    "slideshow": {
     "slide_type": "slide"
    }
   },
   "outputs": [],
   "source": [
    "dir(__builtins__)"
   ]
  },
  {
   "cell_type": "markdown",
   "id": "c77381a1",
   "metadata": {
    "pycharm": {
     "name": "#%% md\n"
    },
    "slideshow": {
     "slide_type": "slide"
    }
   },
   "source": [
    "<div class=\"alert alert-danger\">\n",
    "<b>Anti-pattern:</b> use builtins as names for variables\n",
    "</div>"
   ]
  },
  {
   "cell_type": "code",
   "execution_count": 12,
   "id": "a1405f6f",
   "metadata": {
    "pycharm": {
     "name": "#%%\n"
    },
    "slideshow": {
     "slide_type": "-"
    }
   },
   "outputs": [],
   "source": [
    "# Q: What will happen?\n",
    "str = 'hello'\n",
    "str(1)"
   ]
  },
  {
   "cell_type": "code",
   "execution_count": 9,
   "id": "81e0ba06",
   "metadata": {
    "pycharm": {
     "name": "#%%\n"
    }
   },
   "outputs": [],
   "source": [
    "str = __builtins__.str  # Recovering"
   ]
  },
  {
   "cell_type": "code",
   "execution_count": 10,
   "id": "29ad217e",
   "metadata": {
    "pycharm": {
     "name": "#%%\n"
    },
    "slideshow": {
     "slide_type": "slide"
    }
   },
   "outputs": [
    {
     "data": {
      "text/plain": [
       "(<function print>, reversed, enumerate)"
      ]
     },
     "execution_count": 10,
     "metadata": {},
     "output_type": "execute_result"
    }
   ],
   "source": [
    "print, reversed, enumerate"
   ]
  },
  {
   "cell_type": "code",
   "execution_count": 11,
   "id": "71311282",
   "metadata": {
    "pycharm": {
     "name": "#%%\n"
    }
   },
   "outputs": [
    {
     "data": {
      "text/plain": [
       "(<function min>,\n",
       " <function max>,\n",
       " <function sum(iterable, /, start=0)>,\n",
       " Ellipsis)"
      ]
     },
     "execution_count": 11,
     "metadata": {},
     "output_type": "execute_result"
    }
   ],
   "source": [
    "# built-in functions\n",
    "min, max, sum, ..."
   ]
  },
  {
   "cell_type": "markdown",
   "id": "12ab2ad1",
   "metadata": {
    "pycharm": {
     "name": "#%% md\n"
    },
    "slideshow": {
     "slide_type": "slide"
    }
   },
   "source": [
    "<div class=\"alert alert-danger\">\n",
    "<b>Anti-pattern:</b> do not use built-ins for simple operations\n",
    "</div>"
   ]
  },
  {
   "cell_type": "code",
   "execution_count": null,
   "id": "2cef30bd",
   "metadata": {
    "pycharm": {
     "name": "#%%\n"
    }
   },
   "outputs": [],
   "source": [
    "data = [1, 2, 3, 4, 5]\n",
    "\n",
    "# Newbie\n",
    "total = 0\n",
    "for el in data:\n",
    "    total += el\n",
    "    \n",
    "# Expert\n",
    "total = sum(data)\n",
    "\n",
    "total"
   ]
  },
  {
   "cell_type": "code",
   "execution_count": null,
   "id": "1d9467d5",
   "metadata": {
    "pycharm": {
     "name": "#%%\n"
    },
    "slideshow": {
     "slide_type": "slide"
    }
   },
   "outputs": [],
   "source": [
    "data = [1, 2, 3, 4, 5]\n",
    "\n",
    "# Newbie\n",
    "\n",
    "min_value = None\n",
    "\n",
    "for el in data:\n",
    "    if min_value is None:\n",
    "        min_value = el\n",
    "    else:\n",
    "        if el < min_value:\n",
    "            min_value = el\n",
    "    \n",
    "# Expert\n",
    "min_value = min(data)"
   ]
  },
  {
   "cell_type": "code",
   "execution_count": null,
   "id": "fbbbaa1d",
   "metadata": {
    "pycharm": {
     "name": "#%%\n"
    },
    "slideshow": {
     "slide_type": "-"
    }
   },
   "outputs": [],
   "source": [
    "# Q: What's the value of this expression?\n",
    "max([])"
   ]
  },
  {
   "cell_type": "code",
   "execution_count": null,
   "id": "5a384c6e",
   "metadata": {
    "pycharm": {
     "name": "#%%\n"
    },
    "slideshow": {
     "slide_type": "slide"
    }
   },
   "outputs": [],
   "source": [
    "# newbie\n",
    "for value in [1, 2, 3, 4, 5]:\n",
    "    print(value, end=', ')\n",
    "\n",
    "print()\n",
    "\n",
    "# expert\n",
    "for value in range(1, 6):\n",
    "    print(value, end=', ')"
   ]
  },
  {
   "cell_type": "code",
   "execution_count": null,
   "id": "2da13193",
   "metadata": {
    "pycharm": {
     "name": "#%%\n"
    }
   },
   "outputs": [],
   "source": [
    "data = [1, 2, 3, 4, 5]\n",
    "\n",
    "# newbie\n",
    "for i in range(len(data)):\n",
    "    print(i, data[i], end=', ')\n",
    "\n",
    "print()\n",
    "    \n",
    "# expert\n",
    "for i, value in enumerate(data):\n",
    "    print(i, value, end=', ')"
   ]
  },
  {
   "cell_type": "code",
   "execution_count": null,
   "id": "311068ca",
   "metadata": {
    "pycharm": {
     "name": "#%%\n"
    }
   },
   "outputs": [],
   "source": [
    "data = [1, 2, 3, 4, 5]\n",
    "letters = ['a', 'b', 'c', 'd', 'e']\n",
    "\n",
    "# newbie\n",
    "for i in range(len(data)):\n",
    "    print(i, (data[i], letters[i]), end=', ')\n",
    "\n",
    "print()\n",
    "    \n",
    "# expert\n",
    "for i, value in enumerate(zip(data, letters)):\n",
    "    print(i, value, end=', ')"
   ]
  },
  {
   "cell_type": "code",
   "execution_count": null,
   "id": "d50c65e5",
   "metadata": {
    "pycharm": {
     "name": "#%%\n"
    },
    "slideshow": {
     "slide_type": "slide"
    }
   },
   "outputs": [],
   "source": [
    "math_vector_first = [1.0, -3.5, 4.1]\n",
    "math_vector_second = [7.0, -1.1, -1.4]\n",
    "#math_vector_sum = ? Using numpy is a better choice!\n",
    "\n",
    "math_vector_sum = []\n",
    "for element_first, element_second in zip(math_vector_first, math_vector_second):\n",
    "    # теперь на каждой итерации мы видим пару элементов и можем их сложить\n",
    "    math_vector_sum.append(\n",
    "        element_first + element_second\n",
    "    )\n",
    "    \n",
    "math_vector_sum"
   ]
  },
  {
   "cell_type": "markdown",
   "id": "d194bee5",
   "metadata": {},
   "source": [
    "## Sorting"
   ]
  },
  {
   "cell_type": "code",
   "execution_count": null,
   "id": "bc8b8c37",
   "metadata": {},
   "outputs": [],
   "source": [
    "lst = [-1, 5, 7.34, 0.15, 2.5, -3]"
   ]
  },
  {
   "cell_type": "code",
   "execution_count": null,
   "id": "9ff4af1d",
   "metadata": {},
   "outputs": [],
   "source": [
    "sorted(lst)"
   ]
  },
  {
   "cell_type": "code",
   "execution_count": null,
   "id": "9f4abad1",
   "metadata": {},
   "outputs": [],
   "source": [
    "sorted(lst, reverse=True)"
   ]
  },
  {
   "cell_type": "code",
   "execution_count": 47,
   "id": "22141d04",
   "metadata": {},
   "outputs": [],
   "source": [
    "# make list of ints from nile.txt file, using list comprehension\n",
    "nile_lst = [int(s) for s in nile.split()]\n",
    "\n",
    "print(sorted(nile_lst))"
   ]
  },
  {
   "cell_type": "markdown",
   "id": "f736fa64",
   "metadata": {},
   "source": [
    "**Exercise 3**. The merging part of [Merge Sort](https://en.wikipedia.org/wiki/Merge_sort)."
   ]
  },
  {
   "cell_type": "code",
   "execution_count": 125,
   "id": "cfe3684d",
   "metadata": {},
   "outputs": [],
   "source": [
    "def merge_iterative(lst_a: list[int], lst_b: list[int]) -> list[int]:\n",
    "    \"\"\"\n",
    "    Merge two sorted lists in one sorted list\n",
    "    :param lst_a: first sorted list\n",
    "    :param lst_b: second sorted list\n",
    "    :return: merged sorted list\n",
    "    \"\"\"\n",
    "    # YOUR CODE HERE\n",
    "    \n",
    "\n",
    "def merge_sorted(lst_a: list[int], lst_b: list[int]) -> list[int]:\n",
    "    \"\"\"\n",
    "    Merge two sorted lists in one sorted list using `sorted`\n",
    "    :param lst_a: first sorted list\n",
    "    :param lst_b: second sorted list\n",
    "    :return: merged sorted list\n",
    "    \"\"\"\n",
    "    # YOUR CODE HERE"
   ]
  },
  {
   "cell_type": "code",
   "execution_count": 130,
   "id": "8e5c2253",
   "metadata": {},
   "outputs": [],
   "source": [
    "assert merge_sorted([],[]) == []\n",
    "assert merge_iterative([],[]) == []\n",
    "assert merge_sorted([1],[]) == [1]\n",
    "assert merge_iterative([1],[]) == [1]\n",
    "assert merge_sorted([],[1]) == [1]\n",
    "assert merge_iterative([],[1]) == [1]\n",
    "assert merge_sorted([1],[1]) == [1, 1]\n",
    "assert merge_iterative([1],[1]) == [1, 1]\n",
    "assert merge_sorted([2],[1]) == [1, 2]\n",
    "assert merge_iterative([2],[1]) == [1, 2]\n",
    "assert merge_sorted([1],[2]) == [1, 2]\n",
    "assert merge_iterative([1],[2]) == [1, 2]\n",
    "assert merge_sorted([1, 3],[2, 4]) == [1, 2, 3, 4]\n",
    "assert merge_iterative([1, 3],[2, 4]) == [1, 2, 3, 4]\n",
    "assert merge_sorted([1, 3, 3, 4],[2, 3,  4]) == [1, 2, 3, 3, 3, 4, 4]\n",
    "assert merge_iterative([1, 3, 3, 4],[2, 3, 4]) == [1, 2, 3, 3, 3, 4, 4]"
   ]
  },
  {
   "cell_type": "markdown",
   "id": "d0c7a94d",
   "metadata": {},
   "source": [
    "**Exercise 4.** Using [binary search](https://en.wikipedia.org/wiki/Binary_search_algorithm), determine wether a value is present in a sorted list."
   ]
  },
  {
   "cell_type": "code",
   "execution_count": 57,
   "id": "9a6d54c2",
   "metadata": {},
   "outputs": [],
   "source": [
    "def find_value(l: list[int], v: int):\n",
    "    \"\"\"\n",
    "        Returns True iff the value v is present in the increasingly sorted list l.\n",
    "    \"\"\"\n",
    "    if len(l) == 0:\n",
    "        return False\n",
    "    if len(l) == 1:\n",
    "        return l[0] == v\n",
    "    middle = len(l) // 2\n",
    "    if v < l[middle]:\n",
    "        return find_value(l[:middle], v)\n",
    "    else:\n",
    "        return find_value(l[middle:], v)     "
   ]
  },
  {
   "cell_type": "code",
   "execution_count": 60,
   "id": "3d33e6cc",
   "metadata": {},
   "outputs": [],
   "source": [
    "# Run this and the next cell to test your solution\n",
    "import copy\n",
    "import dataclasses\n",
    "\n",
    "@dataclasses.dataclass\n",
    "class Case:\n",
    "    nums: list[int] | range\n",
    "    value: int\n",
    "    result: bool\n",
    "    name: str | None = None\n",
    "\n",
    "    def __str__(self) -> str:\n",
    "        if self.name is not None:\n",
    "            return self.name\n",
    "        return 'find_{}_in_{}'.format(self.value, self.nums)\n",
    "\n",
    "BIG_VALUE = 10**15\n",
    "\n",
    "TEST_CASES = [\n",
    "    Case(nums=[], value=2, result=False),\n",
    "    Case(nums=[1], value=2, result=False),\n",
    "    Case(nums=[1, 3, 5], value=0, result=False),\n",
    "    Case(nums=[1, 3, 5], value=2, result=False),\n",
    "    Case(nums=[1, 3, 5], value=4, result=False),\n",
    "    Case(nums=[1, 3, 5], value=6, result=False),\n",
    "    Case(nums=[1, 3, 5], value=1, result=True),\n",
    "    Case(nums=[1, 3, 5], value=3, result=True),\n",
    "    Case(nums=[1, 3, 5], value=5, result=True),\n",
    "    Case(nums=[3], value=3, result=True),\n",
    "    Case(nums=[1, 3], value=1, result=True),\n",
    "    Case(nums=[1, 3], value=3, result=True),\n",
    "    Case(nums=[1, 3, 5, 7], value=0, result=False),\n",
    "    Case(nums=[1, 3, 5, 7], value=2, result=False),\n",
    "    Case(nums=[1, 3, 5, 7], value=4, result=False),\n",
    "    Case(nums=[1, 3, 5, 7], value=6, result=False),\n",
    "    Case(nums=[1, 3, 5, 7], value=8, result=False),\n",
    "    Case(nums=[1, 3, 5, 7], value=1, result=True),\n",
    "    Case(nums=[1, 3, 5, 7], value=3, result=True),\n",
    "    Case(nums=[1, 3, 5, 7], value=5, result=True),\n",
    "    Case(nums=[1, 3, 5, 7], value=7, result=True),\n",
    "    Case(nums=[1, 3, 5, 7, 9], value=0, result=False),\n",
    "    Case(nums=[1, 3, 5, 7, 9], value=2, result=False),\n",
    "    Case(nums=[1, 3, 5, 7, 9], value=4, result=False),\n",
    "    Case(nums=[1, 3, 5, 7, 9], value=6, result=False),\n",
    "    Case(nums=[1, 3, 5, 7, 9], value=8, result=False),\n",
    "    Case(nums=[1, 3, 5, 7, 9], value=10, result=False),\n",
    "    Case(nums=[1, 3, 5, 7, 9], value=1, result=True),\n",
    "    Case(nums=[1, 3, 5, 7, 9], value=3, result=True),\n",
    "    Case(nums=[1, 3, 5, 7, 9], value=5, result=True),\n",
    "    Case(nums=[1, 3, 5, 7, 9], value=7, result=True),\n",
    "    Case(nums=[1, 3, 5, 7, 9], value=9, result=True),\n",
    "    Case(nums=[1, 5, 5, 5, 9], value=1, result=True),\n",
    "    Case(nums=[1, 5, 5, 5, 9], value=5, result=True),\n",
    "    Case(nums=[1, 5, 5, 5, 9], value=9, result=True),\n",
    "    Case(nums=[1, 5, 5, 5, 9], value=7, result=False),\n",
    "    Case(nums=range(0, BIG_VALUE, 2), value=BIG_VALUE - 2, result=True, name=\"max_in_big_range\"),\n",
    "    Case(nums=range(0, BIG_VALUE, 2), value=0, result=True, name=\"min_in_big_range\"),\n",
    "    Case(nums=range(0, BIG_VALUE, 2), value=BIG_VALUE, result=False, name=\"greater_than_max_in_big_range\"),\n",
    "    Case(nums=range(0, BIG_VALUE, 2), value=-1, result=False, name=\"less_than_min_in_big_range\"),\n",
    "    Case(nums=range(0, BIG_VALUE, 2), value=BIG_VALUE // 2, result=True, name=\"middle_in_big_range\"),\n",
    "    Case(nums=range(0, BIG_VALUE, 2), value=BIG_VALUE // 2 + 1, result=False, name=\"middle_not_exists_in_big_range\"),\n",
    "]\n",
    "\n",
    "def test_find_value(t: Case) -> None:\n",
    "    nums_copy = copy.deepcopy(t.nums)\n",
    "\n",
    "    answer = find_value(nums_copy, t.value)\n",
    "    assert answer == t.result, str(t)\n",
    "\n",
    "    assert t.nums == nums_copy, \"You shouldn't change inputs\""
   ]
  },
  {
   "cell_type": "code",
   "execution_count": 61,
   "id": "6c949218",
   "metadata": {},
   "outputs": [],
   "source": [
    "%%time\n",
    "for case in TEST_CASES:\n",
    "    test_find_value(case)"
   ]
  },
  {
   "cell_type": "markdown",
   "id": "ed4fb317",
   "metadata": {
    "slideshow": {
     "slide_type": "slide"
    }
   },
   "source": [
    "## Computer Programming"
   ]
  },
  {
   "cell_type": "markdown",
   "id": "bb27aea9",
   "metadata": {
    "slideshow": {
     "slide_type": "slide"
    }
   },
   "source": [
    "<img src=\"https://media.geeksforgeeks.org/wp-content/cdn-uploads/20191016135223/What-is-Algorithm_-1024x631.jpg\" style=\"height:500px\">"
   ]
  },
  {
   "cell_type": "code",
   "execution_count": 4,
   "id": "a08f4994",
   "metadata": {
    "slideshow": {
     "slide_type": "subslide"
    }
   },
   "outputs": [
    {
     "name": "stdout",
     "output_type": "stream",
     "text": [
      "314\n"
     ]
    }
   ],
   "source": [
    "def disk_area(radius: float) -> float:\n",
    "    \"\"\"\n",
    "    Input: radius of the disk, float\n",
    "    Output: area of the disk, float\n",
    "    \"\"\" \n",
    "    pi = 3.14159\n",
    "    return pi * radius**2\n",
    "\n",
    "print(disk_area(10))"
   ]
  },
  {
   "cell_type": "markdown",
   "id": "bec738f6",
   "metadata": {
    "slideshow": {
     "slide_type": "slide"
    }
   },
   "source": [
    "### Avoid Spaghetti Programming\n",
    "\n",
    "```{figure} ./images/Spaghetti.png\n",
    ":align: center\n",
    "```"
   ]
  },
  {
   "cell_type": "markdown",
   "id": "b720dac7",
   "metadata": {
    "slideshow": {
     "slide_type": "subslide"
    }
   },
   "source": [
    "<img src=\"https://encrypted-tbn0.gstatic.com/images?q=tbn:ANd9GcQZEIv7B3az3XIpfqU9qcw2mRw2ScmImPCuVA&usqp=CAU\" style=\"float:right\">\n",
    "\n",
    "[Go To Statement Considered Harmful](http://www.u.arizona.edu/~rubinson/copyright_violations/Go_To_Considered_Harmful.html)\n",
    "\n",
    "Edsger W. Dijkstra\n",
    "\n",
    "Communications of the ACM, Vol. 11, No. 3, March 1968, pp. 147-148."
   ]
  },
  {
   "cell_type": "markdown",
   "id": "54db43b7",
   "metadata": {
    "slideshow": {
     "slide_type": "subslide"
    }
   },
   "source": [
    "<img src=\"https://d3i71xaburhd42.cloudfront.net/95ef06ff1f473d6e0beb9d19653ac16967225aef/2-Figure1-1.png\" style=\"height:500px\">"
   ]
  },
  {
   "cell_type": "markdown",
   "id": "3f666b2e",
   "metadata": {
    "slideshow": {
     "slide_type": "subslide"
    }
   },
   "source": [
    "Niether Python nor R do have GOTO statement since both were created in 1990s"
   ]
  },
  {
   "cell_type": "code",
   "execution_count": 3,
   "id": "7bc6548c",
   "metadata": {
    "slideshow": {
     "slide_type": "fragment"
    }
   },
   "outputs": [],
   "source": [
    "print(\"This line prints first\")\n",
    "print(\"This line prints second\")"
   ]
  },
  {
   "cell_type": "markdown",
   "id": "0749f790",
   "metadata": {
    "slideshow": {
     "slide_type": "slide"
    }
   },
   "source": [
    "## Structured Programming"
   ]
  },
  {
   "cell_type": "markdown",
   "id": "59c2161a",
   "metadata": {
    "slideshow": {
     "slide_type": "slide"
    }
   },
   "source": [
    "### Sequence"
   ]
  },
  {
   "cell_type": "markdown",
   "id": "22449412",
   "metadata": {
    "slideshow": {
     "slide_type": "-"
    }
   },
   "source": [
    "<img src=\"images/Sequence.png\" style=\"height:150px\">"
   ]
  },
  {
   "cell_type": "code",
   "execution_count": 3,
   "id": "2481e2d3",
   "metadata": {
    "slideshow": {
     "slide_type": "fragment"
    }
   },
   "outputs": [
    {
     "name": "stdout",
     "output_type": "stream",
     "text": [
      "Enter the disk radius: 42\n",
      "Disk area: 5541.76476\n"
     ]
    }
   ],
   "source": [
    "radius = input(\"Enter the disk radius: \")\n",
    "area = disk_area(float(radius))\n",
    "print(\"Disk area:\", area)"
   ]
  },
  {
   "cell_type": "markdown",
   "id": "c7b4ff9a",
   "metadata": {
    "slideshow": {
     "slide_type": "slide"
    }
   },
   "source": [
    "### Branching"
   ]
  },
  {
   "cell_type": "markdown",
   "id": "24450c90",
   "metadata": {},
   "source": [
    "<img src=\"images/branch.png\" style=\"height:150px\">"
   ]
  },
  {
   "cell_type": "code",
   "execution_count": 6,
   "id": "9612a69b",
   "metadata": {
    "slideshow": {
     "slide_type": "skip"
    }
   },
   "outputs": [],
   "source": [
    "def is_prime_number(n):\n",
    "    if n == 1:\n",
    "        return False\n",
    "    i = 2\n",
    "    while i*i <= n:\n",
    "        if n % i == 0:\n",
    "            return False\n",
    "        i += 1\n",
    "    return True"
   ]
  },
  {
   "cell_type": "code",
   "execution_count": 14,
   "id": "9b82849a",
   "metadata": {
    "slideshow": {
     "slide_type": "fragment"
    }
   },
   "outputs": [
    {
     "name": "stdout",
     "output_type": "stream",
     "text": [
      "17 is prime\n"
     ]
    }
   ],
   "source": [
    "n = 17\n",
    "if n == 1:\n",
    "    print(\"Neither prime nor composit\")\n",
    "elif is_prime_number(n):\n",
    "    print(f\"{n} is prime\")\n",
    "else: \n",
    "    print(f\"{n} is composite\")"
   ]
  },
  {
   "cell_type": "markdown",
   "id": "bed615ae",
   "metadata": {
    "slideshow": {
     "slide_type": "subslide"
    }
   },
   "source": [
    "### Indentation matters in Python!"
   ]
  },
  {
   "cell_type": "code",
   "execution_count": 19,
   "id": "4631655a",
   "metadata": {},
   "outputs": [
    {
     "name": "stdout",
     "output_type": "stream",
     "text": [
      "pass\n",
      "congrats!\n",
      "prints always\n"
     ]
    }
   ],
   "source": [
    "mark = 60\n",
    "if mark >= 50: \n",
    "    print(\"pass\") \n",
    "    print(\"congrats!\") # Oops, didn't mean this\n",
    "    \n",
    "print(\"prints always\")"
   ]
  },
  {
   "cell_type": "markdown",
   "id": "a6b15cdd",
   "metadata": {
    "slideshow": {
     "slide_type": "slide"
    }
   },
   "source": [
    "## Loops"
   ]
  },
  {
   "cell_type": "markdown",
   "id": "dcb519d4",
   "metadata": {
    "slideshow": {
     "slide_type": "slide"
    }
   },
   "source": [
    "### while"
   ]
  },
  {
   "cell_type": "markdown",
   "id": "db428faa",
   "metadata": {},
   "source": [
    "```{figure} ./images/loop.png\n",
    ":align: center\n",
    "```"
   ]
  },
  {
   "cell_type": "code",
   "execution_count": null,
   "id": "bc0d40c9",
   "metadata": {
    "slideshow": {
     "slide_type": "fragment"
    }
   },
   "outputs": [],
   "source": [
    "while CONDITION_IS_TRUE:\n",
    "    DO_SOMETHING\n",
    "DO_THIS_WHEN_CONDITION_BECOMES_FALSE"
   ]
  },
  {
   "cell_type": "markdown",
   "id": "c35434bb",
   "metadata": {
    "slideshow": {
     "slide_type": "subslide"
    }
   },
   "source": [
    "### Once again indentation matters"
   ]
  },
  {
   "cell_type": "code",
   "execution_count": 21,
   "id": "4bca5a5e",
   "metadata": {},
   "outputs": [
    {
     "name": "stdout",
     "output_type": "stream",
     "text": [
      "Remove element 5\n",
      "Remove element 4\n",
      "Remove element 3\n",
      "Now the list is empty, it's size equal to 0\n"
     ]
    }
   ],
   "source": [
    "l = [3, 4, 5]\n",
    "while len(l) > 0:\n",
    "    print(f\"Remove element {l.pop()}\")\n",
    "\n",
    "print(\"Now the list is empty, it's size equal to\", len(l))"
   ]
  },
  {
   "cell_type": "markdown",
   "id": "00649c6c",
   "metadata": {
    "slideshow": {
     "slide_type": "subslide"
    }
   },
   "source": [
    "### Euclid's algorithm"
   ]
  },
  {
   "cell_type": "code",
   "execution_count": 22,
   "id": "1f8bce4e",
   "metadata": {
    "slideshow": {
     "slide_type": "-"
    }
   },
   "outputs": [
    {
     "data": {
      "text/plain": [
       "6"
      ]
     },
     "execution_count": 22,
     "metadata": {},
     "output_type": "execute_result"
    }
   ],
   "source": [
    "def gcd(a, b):\n",
    "    \"\"\"\n",
    "    Calculates the greatest common divisor of a and b\n",
    "    Uses properties gcd(0, b) = b, gcd(a, b) = gcd(a, b % a) if a <= b\n",
    "    NB: in Python b = (b // a)*a + b % a\n",
    "    \"\"\" \n",
    "    if a > b:\n",
    "        a, b = b, a\n",
    "    while a > 0: \n",
    "        a, b = b % a, a\n",
    "    return b\n",
    "\n",
    "gcd(18, 24)"
   ]
  },
  {
   "cell_type": "markdown",
   "id": "9eda37b1",
   "metadata": {
    "slideshow": {
     "slide_type": "subslide"
    }
   },
   "source": [
    "[Collatz conjecture](https://en.wikipedia.org/wiki/Collatz_conjecture) states that for any $n \\in \\mathbb N$ the iterative calculation of the function\n",
    "$$\n",
    "    f(n) = \\begin{cases}\n",
    "        \\frac n2,& n \\text{ is even,}\\\\\n",
    "        3n+1, & n \\text{ is odd.}\n",
    "    \\end{cases}\n",
    "$$\n",
    "finally reaches $1$. For example:\n",
    "* $f(2) = 1$ (one iteration);\n",
    "* $f(3) = 10$, $f(10) = 5$, $f(5) = 16$, $f(16) = 8$, $f(8) = 4$, $f(4) = 2$, $f(2) = 1$ (seven iterations); \n",
    "* $f(4) = 2$, $f(2) = 1$ (two iterations). "
   ]
  },
  {
   "cell_type": "markdown",
   "id": "1ad667f0",
   "metadata": {
    "slideshow": {
     "slide_type": "subslide"
    }
   },
   "source": [
    "**Excercise.**  Calculate the number of steps for n to reach 1."
   ]
  },
  {
   "cell_type": "code",
   "execution_count": 23,
   "id": "8b972616",
   "metadata": {
    "slideshow": {
     "slide_type": "-"
    }
   },
   "outputs": [],
   "source": [
    "def collatz_steps(n: int):\n",
    "    n_steps = 0 \n",
    "    while n > 1:\n",
    "        if n % 2 == 0: # n is even\n",
    "            n = n // 2\n",
    "        else:\n",
    "            n = 3*n + 1\n",
    "        n_steps += 1 # n_steps = n_steps + 1\n",
    "    return n_steps"
   ]
  },
  {
   "cell_type": "code",
   "execution_count": 27,
   "id": "87af6d20",
   "metadata": {
    "slideshow": {
     "slide_type": "subslide"
    }
   },
   "outputs": [],
   "source": [
    "# run this cell to test your solution\n",
    "ground_truth = {1: 0, 2: 1, 3: 7, 4: 2, 5: 5, 6: 8, 7: 16, 8: 3, 9: 19,\n",
    "                27: 111,\n",
    "                257: 122,\n",
    "                1000: 111,\n",
    "                100500: 66\n",
    "               }\n",
    "\n",
    "for n, steps in ground_truth.items():\n",
    "    got_steps = collatz_steps(n)\n",
    "    assert got_steps == steps, f\"Expected {steps}, got: {got_steps}\""
   ]
  },
  {
   "cell_type": "code",
   "execution_count": 29,
   "id": "c7b23d81",
   "metadata": {
    "slideshow": {
     "slide_type": "subslide"
    }
   },
   "outputs": [
    {
     "data": {
      "image/png": "[encoded data removed]",
      "text/plain": [
       "<Figure size 1008x504 with 1 Axes>"
      ]
     },
     "metadata": {
      "needs_background": "light"
     },
     "output_type": "display_data"
    }
   ],
   "source": [
    "# a piece of visualization\n",
    "\n",
    "import matplotlib.pyplot as plt\n",
    "\n",
    "N = 100\n",
    "plt.figure(figsize=(14, 7))\n",
    "steps = [collatz_steps(n) for n in range(1, 2)]\n",
    "plt.plot(steps, c='r', marker='o', markeredgecolor='b', ls='--')\n",
    "plt.xlim(0, N)\n",
    "plt.ylim(0)\n",
    "plt.grid(ls=':');"
   ]
  },
  {
   "cell_type": "markdown",
   "id": "234449fd",
   "metadata": {
    "slideshow": {
     "slide_type": "slide"
    }
   },
   "source": [
    "### for"
   ]
  },
  {
   "cell_type": "code",
   "execution_count": null,
   "id": "d7732667",
   "metadata": {},
   "outputs": [],
   "source": [
    "for ITEM in CONTAINER:\n",
    "    DO_SOMTHING(ITEM)"
   ]
  },
  {
   "cell_type": "code",
   "execution_count": 30,
   "id": "747b0228",
   "metadata": {
    "slideshow": {
     "slide_type": "fragment"
    }
   },
   "outputs": [
    {
     "name": "stdout",
     "output_type": "stream",
     "text": [
      "2 is prime\n",
      "3 is prime\n",
      "5 is prime\n",
      "7 is prime\n",
      "11 is prime\n",
      "13 is prime\n",
      "17 is prime\n",
      "19 is prime\n"
     ]
    }
   ],
   "source": [
    "for n in range(1, 20):\n",
    "    if is_prime_number(n):\n",
    "        print(f\"{n} is prime\")"
   ]
  },
  {
   "cell_type": "markdown",
   "id": "4daf5182",
   "metadata": {
    "slideshow": {
     "slide_type": "subslide"
    }
   },
   "source": [
    "**Exercise.** Reverse a list inplace, using for loop."
   ]
  },
  {
   "cell_type": "code",
   "execution_count": 39,
   "id": "992af213",
   "metadata": {
    "slideshow": {
     "slide_type": "-"
    }
   },
   "outputs": [],
   "source": [
    "def reverse_inplace_iterative(lst: list[int]) -> None:\n",
    "    \"\"\"\n",
    "    Revert list inplace. You can use only iteration\n",
    "    :param lst: input list\n",
    "    :return: None\n",
    "    \"\"\"\n",
    "    # [1, 2, 3] -> [3, 2, 1]\n",
    "    for i in range(len(lst) // 2):\n",
    "        lst[i], lst[len(lst) - i - 1] = lst[len(lst) - i - 1], lst[i]"
   ]
  },
  {
   "cell_type": "code",
   "execution_count": 40,
   "id": "9fb1a574",
   "metadata": {
    "slideshow": {
     "slide_type": "fragment"
    }
   },
   "outputs": [
    {
     "name": "stdout",
     "output_type": "stream",
     "text": [
      "[7, 42, 6, 5, 4]\n"
     ]
    }
   ],
   "source": [
    "l = [4, 5, 6, 42,  7]\n",
    "reverse_inplace_iterative(l)\n",
    "print(l)"
   ]
  },
  {
   "cell_type": "markdown",
   "id": "65885cb1",
   "metadata": {
    "slideshow": {
     "slide_type": "subslide"
    }
   },
   "source": [
    "**Excercise.** The legendary [FizzBuzz](http://wiki.c2.com/?FizzBuzzTest) (if you think that it is too easy, look [here](https://habr.com/ru/post/540136/))."
   ]
  },
  {
   "cell_type": "code",
   "execution_count": 41,
   "id": "feda22ef",
   "metadata": {},
   "outputs": [],
   "source": [
    "def FizzBuzz(n):\n",
    "    \"\"\"\n",
    "    Prints numbers from 1 to n.\n",
    "    But for the multiples of three print 'Fizz' instead of the number \n",
    "    and for the multiples of five print 'Buzz'.\n",
    "    For numbers which are multiples of both three and five print 'FizzBuzz'.\n",
    "    \"\"\"\n",
    "    for i in range(1, n + 1):\n",
    "        if i % 3 == 0:\n",
    "            if i % 5 == 0:\n",
    "                print(\"FizzBuzz\")\n",
    "            else:\n",
    "                print(\"Fizz\")\n",
    "        else:\n",
    "            if i % 5 == 0:\n",
    "                print(\"Buzz\")\n",
    "            else:\n",
    "                print(i)"
   ]
  },
  {
   "cell_type": "code",
   "execution_count": 44,
   "id": "79485733",
   "metadata": {},
   "outputs": [
    {
     "name": "stdout",
     "output_type": "stream",
     "text": [
      "1\n",
      "2\n",
      "Fizz\n",
      "4\n",
      "Buzz\n",
      "Fizz\n",
      "7\n",
      "8\n",
      "Fizz\n",
      "Buzz\n",
      "11\n",
      "Fizz\n",
      "13\n",
      "14\n",
      "FizzBuzz\n",
      "16\n",
      "17\n",
      "Fizz\n",
      "19\n",
      "Buzz\n"
     ]
    }
   ],
   "source": [
    "FizzBuzz(20)"
   ]
  },
  {
   "cell_type": "markdown",
   "id": "e8f231b1",
   "metadata": {
    "slideshow": {
     "slide_type": "slide"
    }
   },
   "source": [
    "### break"
   ]
  },
  {
   "cell_type": "code",
   "execution_count": null,
   "id": "5a207679",
   "metadata": {},
   "outputs": [],
   "source": [
    "while CONDITION:\n",
    "    ...\n",
    "    DO_SOME_WORK\n",
    "    ...\n",
    "    if ANOTHER_CONDITION:\n",
    "        break # finish loop immediately"
   ]
  },
  {
   "cell_type": "code",
   "execution_count": null,
   "id": "df331ac5",
   "metadata": {
    "slideshow": {
     "slide_type": "fragment"
    }
   },
   "outputs": [],
   "source": [
    "for ITEM in CONTAINER:\n",
    "    ...\n",
    "    if ANOTHER_CONDITION:\n",
    "        break # finish loop immediately"
   ]
  },
  {
   "cell_type": "code",
   "execution_count": 46,
   "id": "15295702",
   "metadata": {
    "slideshow": {
     "slide_type": "subslide"
    }
   },
   "outputs": [
    {
     "name": "stdout",
     "output_type": "stream",
     "text": [
      "1.0\n",
      "1.4142135623730951\n",
      "1.7320508075688772\n",
      "2.0\n",
      "can't extract root of negative number\n",
      "go here after break\n"
     ]
    }
   ],
   "source": [
    "from math import sqrt\n",
    "\n",
    "for natural in [1, 2, 3, 4, -1, 20]:\n",
    "    if natural < 0:\n",
    "        print(\"can't extract root of negative number\")\n",
    "        break\n",
    "    print(sqrt(natural))\n",
    "print(\"go here after break\")"
   ]
  },
  {
   "cell_type": "code",
   "execution_count": 47,
   "id": "6345729c",
   "metadata": {
    "slideshow": {
     "slide_type": "subslide"
    }
   },
   "outputs": [],
   "source": [
    "from datetime import datetime\n",
    "\n",
    "def guess():\n",
    "    secret_number = 1 + datetime.now().microsecond % 100\n",
    "    while True:\n",
    "        n = int(input(\"Enter your guess:\"))\n",
    "        if n > secret_number:\n",
    "            print(\"Too big!\")\n",
    "        elif n < secret_number:\n",
    "            print(\"Too small!\")\n",
    "        elif  n == secret_number:\n",
    "            print(f\"You win! The number was {secret_number}\")\n",
    "            break"
   ]
  },
  {
   "cell_type": "markdown",
   "id": "27de905d",
   "metadata": {
    "slideshow": {
     "slide_type": "subslide"
    }
   },
   "source": [
    "Can you guess the number in no more than 7 attempts?"
   ]
  },
  {
   "cell_type": "code",
   "execution_count": 49,
   "id": "b0be4a96",
   "metadata": {},
   "outputs": [
    {
     "name": "stdout",
     "output_type": "stream",
     "text": [
      "Enter your guess:50\n",
      "Too big!\n",
      "Enter your guess:25\n",
      "Too small!\n",
      "Enter your guess:37\n",
      "Too small!\n",
      "Enter your guess:43\n",
      "Too small!\n",
      "Enter your guess:45\n",
      "You win! The number was 45\n"
     ]
    }
   ],
   "source": [
    "guess()"
   ]
  },
  {
   "cell_type": "markdown",
   "id": "9f1462aa",
   "metadata": {
    "slideshow": {
     "slide_type": "subslide"
    }
   },
   "source": [
    "### return as break (early return)"
   ]
  },
  {
   "cell_type": "code",
   "execution_count": 50,
   "id": "c94cb0cf",
   "metadata": {
    "slideshow": {
     "slide_type": "-"
    }
   },
   "outputs": [],
   "source": [
    "def find_first_zero_index(lst):\n",
    "    \"\"\"\n",
    "        Returns the index of the first zero element in the list\n",
    "    \"\"\"\n",
    "    for i, item in enumerate(lst):\n",
    "        # lst[i] == item, item is i's element of lst\n",
    "        if item == 0:\n",
    "            return i\n",
    "    return None"
   ]
  },
  {
   "cell_type": "code",
   "execution_count": 51,
   "id": "a291a618",
   "metadata": {
    "slideshow": {
     "slide_type": "fragment"
    }
   },
   "outputs": [
    {
     "name": "stdout",
     "output_type": "stream",
     "text": [
      "2\n",
      "None\n"
     ]
    }
   ],
   "source": [
    "print(find_first_zero_index([3, 4, 0, -1]))\n",
    "print(find_first_zero_index([1, 5, 90]))"
   ]
  },
  {
   "cell_type": "markdown",
   "id": "9fbc810a",
   "metadata": {
    "slideshow": {
     "slide_type": "subslide"
    }
   },
   "source": [
    "**Exercise.** Write a function checking whether it's argument is prime."
   ]
  },
  {
   "cell_type": "code",
   "execution_count": 52,
   "id": "04e6799d",
   "metadata": {},
   "outputs": [],
   "source": [
    "def is_prime(n: int) -> bool:\n",
    "    \"\"\"\n",
    "    Returns True iff n is prime\n",
    "    \"\"\"\n",
    "    if n == 1:\n",
    "        return False\n",
    "    \n",
    "    for i in range(2, n):\n",
    "        if n % i == 0:\n",
    "            return False\n",
    "    return True"
   ]
  },
  {
   "cell_type": "code",
   "execution_count": 54,
   "id": "48fd25bf",
   "metadata": {
    "slideshow": {
     "slide_type": "subslide"
    }
   },
   "outputs": [
    {
     "name": "stdout",
     "output_type": "stream",
     "text": [
      "2 is prime\n",
      "3 is prime\n",
      "5 is prime\n",
      "7 is prime\n",
      "11 is prime\n",
      "13 is prime\n",
      "17 is prime\n",
      "19 is prime\n",
      "23 is prime\n",
      "29 is prime\n",
      "31 is prime\n",
      "37 is prime\n",
      "41 is prime\n",
      "43 is prime\n",
      "47 is prime\n"
     ]
    }
   ],
   "source": [
    "for n in range(1, 50):\n",
    "    if is_prime(n):\n",
    "        print(f\"{n} is prime\")"
   ]
  },
  {
   "cell_type": "markdown",
   "id": "bf333cc3",
   "metadata": {
    "slideshow": {
     "slide_type": "slide"
    }
   },
   "source": [
    "### continue"
   ]
  },
  {
   "cell_type": "code",
   "execution_count": null,
   "id": "8bb4cf09",
   "metadata": {},
   "outputs": [],
   "source": [
    "for ITEM in CONTAINER:\n",
    "    DO_SOME_WORK\n",
    "    if CONDITION:\n",
    "        # go to next iteration, don't do more work at this iteration\n",
    "        continue \n",
    "    DO_MORE_WORK"
   ]
  },
  {
   "cell_type": "code",
   "execution_count": 55,
   "id": "dc60f646",
   "metadata": {
    "slideshow": {
     "slide_type": "subslide"
    }
   },
   "outputs": [
    {
     "name": "stdout",
     "output_type": "stream",
     "text": [
      "1.0\n",
      "1.4142135623730951\n",
      "skip negative number\n",
      "1.7320508075688772\n",
      "2.0\n",
      "skip negative number\n",
      "4.47213595499958\n",
      "5.0\n"
     ]
    }
   ],
   "source": [
    "from math import sqrt\n",
    "\n",
    "for natural in [1, 2, -2, 3, 4, -1, 20, 25]:\n",
    "    if natural < 0:\n",
    "        print(\"skip negative number\")\n",
    "        continue\n",
    "    print(sqrt(natural)) "
   ]
  },
  {
   "cell_type": "markdown",
   "id": "22ebd273",
   "metadata": {
    "slideshow": {
     "slide_type": "slide"
    }
   },
   "source": [
    "### Sort list"
   ]
  },
  {
   "cell_type": "code",
   "execution_count": 57,
   "id": "1193c130",
   "metadata": {
    "slideshow": {
     "slide_type": "-"
    }
   },
   "outputs": [
    {
     "name": "stdout",
     "output_type": "stream",
     "text": [
      "[-3, -1, 0.15, 2.5, 5, 7.34]\n",
      "[7.34, 5, 2.5, 0.15, -1, -3]\n"
     ]
    }
   ],
   "source": [
    "lst = [-1, 5, 7.34, 0.15, 2.5, -3]\n",
    "print(sorted(lst))\n",
    "print(sorted(lst, reverse=True))"
   ]
  },
  {
   "cell_type": "markdown",
   "id": "49959553",
   "metadata": {
    "slideshow": {
     "slide_type": "subslide"
    }
   },
   "source": [
    "### Sort tuple"
   ]
  },
  {
   "cell_type": "code",
   "execution_count": 59,
   "id": "2edd5aa8",
   "metadata": {},
   "outputs": [
    {
     "name": "stdout",
     "output_type": "stream",
     "text": [
      "<class 'set'>\n",
      "['Alice', 'Ashley', 'Bob', 'Carl', 'Carl III']\n",
      "<class 'list'>\n"
     ]
    }
   ],
   "source": [
    "names = {\"Alice\", \"Carl III\", \"Bob\", \"Carl\", \"Ashley\"}\n",
    "print(type(names))\n",
    "print(sorted(names))\n",
    "print(type(sorted(names)))"
   ]
  },
  {
   "cell_type": "markdown",
   "id": "4a60cf34",
   "metadata": {
    "slideshow": {
     "slide_type": "subslide"
    }
   },
   "source": [
    "**Example .** Using [binary search](https://en.wikipedia.org/wiki/Binary_search_algorithm), determine wether a value is present in a sorted list."
   ]
  },
  {
   "cell_type": "code",
   "execution_count": 60,
   "id": "6db35da8",
   "metadata": {},
   "outputs": [],
   "source": [
    "def find_value(l: list[int], v: int):\n",
    "    \"\"\"\n",
    "        Returns True iff the value v is present in \n",
    "        the increasingly sorted list l.\n",
    "    \"\"\"\n",
    "    if len(l) == 0: # list is empty\n",
    "        return False\n",
    "    if len(l) == 1:\n",
    "        return l[0] == v\n",
    "    middle = len(l) // 2\n",
    "    if v < l[middle]:\n",
    "        return find_value(l[:middle], v)\n",
    "    else:\n",
    "        return find_value(l[middle:], v)  "
   ]
  },
  {
   "cell_type": "markdown",
   "id": "ad598220",
   "metadata": {
    "slideshow": {
     "slide_type": "subslide"
    }
   },
   "source": [
    "**Exercise**. The merging part of [Merge Sort](https://en.wikipedia.org/wiki/Merge_sort)."
   ]
  },
  {
   "cell_type": "code",
   "execution_count": null,
   "id": "bfd56232",
   "metadata": {},
   "outputs": [],
   "source": [
    "def merge_sorted(lst_a: list[int], lst_b: list[int]) -> list[int]:\n",
    "    \"\"\"\n",
    "    Merge two sorted lists in one sorted list using `sorted`\n",
    "    :param lst_a: first sorted list\n",
    "    :param lst_b: second sorted list\n",
    "    :return: merged sorted list\n",
    "    \"\"\"\n",
    "    # YOUR COD  E HERE"
   ]
  },
  {
   "cell_type": "code",
   "execution_count": null,
   "id": "70e49347",
   "metadata": {
    "slideshow": {
     "slide_type": "subslide"
    }
   },
   "outputs": [],
   "source": [
    "def merge_iterative(lst_a: list[int], lst_b: list[int]) -> list[int]:\n",
    "    \"\"\"\n",
    "    Merge two sorted lists in one sorted list\n",
    "    :param lst_a: first sorted list\n",
    "    :param lst_b: second sorted list\n",
    "    :return: merged sorted list\n",
    "    \"\"\"\n",
    "    # YOUR CODE HERE"
   ]
  },
  {
   "cell_type": "markdown",
   "id": "02288ce8",
   "metadata": {
    "slideshow": {
     "slide_type": "slide"
    }
   },
   "source": [
    "### dict sort"
   ]
  },
  {
   "cell_type": "code",
   "execution_count": 62,
   "id": "5f59a12a",
   "metadata": {},
   "outputs": [],
   "source": [
    "# dict {name: rating}\n",
    "atp_players = {\n",
    "    \"Carlos Alcaraz\": 6820,\n",
    "    \"Félix Auger-Aliassime\": 3995,\n",
    "    \"Casper Ruud\": 5020,\n",
    "    \"Stefanos Tsitsipas\": 5350,\n",
    "    \"Andrey Rublev\": 3530,\n",
    "    \"Daniil Medvedev\": 4065,\n",
    "    \"Novak Djoković\": 3320,\n",
    "    \"Rafael Nadal\": 5820\n",
    "}"
   ]
  },
  {
   "cell_type": "code",
   "execution_count": 63,
   "id": "f445dbb3",
   "metadata": {
    "slideshow": {
     "slide_type": "subslide"
    }
   },
   "outputs": [
    {
     "data": {
      "text/plain": [
       "['Andrey Rublev',\n",
       " 'Carlos Alcaraz',\n",
       " 'Casper Ruud',\n",
       " 'Daniil Medvedev',\n",
       " 'Félix Auger-Aliassime',\n",
       " 'Novak Djoković',\n",
       " 'Rafael Nadal',\n",
       " 'Stefanos Tsitsipas']"
      ]
     },
     "execution_count": 63,
     "metadata": {},
     "output_type": "execute_result"
    }
   ],
   "source": [
    "# converts keys to list and sorts them alphabetically\n",
    "sorted(atp_players)"
   ]
  },
  {
   "cell_type": "markdown",
   "id": "fcef5d6d",
   "metadata": {
    "slideshow": {
     "slide_type": "subslide"
    }
   },
   "source": [
    "How to sort by values?"
   ]
  },
  {
   "cell_type": "code",
   "execution_count": 65,
   "id": "9c7420b8",
   "metadata": {
    "slideshow": {
     "slide_type": "fragment"
    }
   },
   "outputs": [
    {
     "data": {
      "text/plain": [
       "{'Carlos Alcaraz': 6820,\n",
       " 'Rafael Nadal': 5820,\n",
       " 'Stefanos Tsitsipas': 5350,\n",
       " 'Casper Ruud': 5020,\n",
       " 'Daniil Medvedev': 4065,\n",
       " 'Félix Auger-Aliassime': 3995,\n",
       " 'Andrey Rublev': 3530,\n",
       " 'Novak Djoković': 3320}"
      ]
     },
     "execution_count": 65,
     "metadata": {},
     "output_type": "execute_result"
    }
   ],
   "source": [
    "dict(sorted(atp_players.items(), key=lambda item: -item[1]))"
   ]
  },
  {
   "cell_type": "code",
   "execution_count": 71,
   "id": "5011f7a3",
   "metadata": {},
   "outputs": [
    {
     "data": {
      "text/plain": [
       "'0.40'"
      ]
     },
     "execution_count": 71,
     "metadata": {},
     "output_type": "execute_result"
    }
   ],
   "source": [
    "\"{:.2f}\".format((3 - 1) / 5)"
   ]
  }
 ],
 "metadata": {
  "celltoolbar": "Слайд-шоу",
  "kernelspec": {
   "display_name": "Python 3 (ipykernel)",
   "language": "python",
   "name": "python3"
  },
  "language_info": {
   "codemirror_mode": {
    "name": "ipython",
    "version": 3
   },
   "file_extension": ".py",
   "mimetype": "text/x-python",
   "name": "python",
   "nbconvert_exporter": "python",
   "pygments_lexer": "ipython3",
   "version": "3.11.4"
  }
 },
 "nbformat": 4,
 "nbformat_minor": 5
}
