{
 "cells": [
  {
   "cell_type": "markdown",
   "id": "37708314",
   "metadata": {
    "pycharm": {
     "name": "#%% md\n"
    },
    "slideshow": {
     "slide_type": "slide"
    }
   },
   "source": [
    "# Basic Types\n",
    "\n",
    "## Zen of Python"
   ]
  },
  {
   "cell_type": "code",
   "execution_count": 1,
   "id": "6096161d",
   "metadata": {
    "pycharm": {
     "name": "#%%\n"
    }
   },
   "outputs": [
    {
     "name": "stdout",
     "output_type": "stream",
     "text": [
      "The Zen of Python, by Tim Peters\n",
      "\n",
      "Beautiful is better than ugly.\n",
      "Explicit is better than implicit.\n",
      "Simple is better than complex.\n",
      "Complex is better than complicated.\n",
      "Flat is better than nested.\n",
      "Sparse is better than dense.\n",
      "Readability counts.\n",
      "Special cases aren't special enough to break the rules.\n",
      "Although practicality beats purity.\n",
      "Errors should never pass silently.\n",
      "Unless explicitly silenced.\n",
      "In the face of ambiguity, refuse the temptation to guess.\n",
      "There should be one-- and preferably only one --obvious way to do it.\n",
      "Although that way may not be obvious at first unless you're Dutch.\n",
      "Now is better than never.\n",
      "Although never is often better than *right* now.\n",
      "If the implementation is hard to explain, it's a bad idea.\n",
      "If the implementation is easy to explain, it may be a good idea.\n",
      "Namespaces are one honking great idea -- let's do more of those!\n"
     ]
    }
   ],
   "source": [
    "import this"
   ]
  },
  {
   "cell_type": "markdown",
   "id": "1f3fa1d4",
   "metadata": {
    "pycharm": {
     "name": "#%% md\n"
    },
    "slideshow": {
     "slide_type": "slide"
    }
   },
   "source": [
    "## Numeric types: int, float, complex"
   ]
  },
  {
   "cell_type": "code",
   "execution_count": 2,
   "id": "471d672d",
   "metadata": {
    "pycharm": {
     "name": "#%%\n"
    },
    "slideshow": {
     "slide_type": "-"
    }
   },
   "outputs": [
    {
     "data": {
      "text/plain": [
       "(1, 1.0, 1j)"
      ]
     },
     "execution_count": 2,
     "metadata": {},
     "output_type": "execute_result"
    }
   ],
   "source": [
    "# int, float, complex\n",
    "1, 1.0, 1j"
   ]
  },
  {
   "cell_type": "code",
   "execution_count": 3,
   "id": "f0e05582",
   "metadata": {},
   "outputs": [
    {
     "data": {
      "text/plain": [
       "(-1+0j)"
      ]
     },
     "execution_count": 3,
     "metadata": {},
     "output_type": "execute_result"
    }
   ],
   "source": [
    "1j ** 2"
   ]
  },
  {
   "cell_type": "markdown",
   "id": "2bd3e39a",
   "metadata": {
    "pycharm": {
     "name": "#%% md\n"
    },
    "slideshow": {
     "slide_type": "slide"
    }
   },
   "source": [
    "### Variables"
   ]
  },
  {
   "cell_type": "code",
   "execution_count": 4,
   "id": "bf77f9e3",
   "metadata": {
    "pycharm": {
     "name": "#%%\n"
    }
   },
   "outputs": [
    {
     "data": {
      "text/plain": [
       "(2, int)"
      ]
     },
     "execution_count": 4,
     "metadata": {},
     "output_type": "execute_result"
    }
   ],
   "source": [
    "clicks = 2\n",
    "clicks, type(clicks)"
   ]
  },
  {
   "cell_type": "code",
   "execution_count": null,
   "id": "e86b0f60",
   "metadata": {
    "pycharm": {
     "name": "#%%\n"
    }
   },
   "outputs": [],
   "source": [
    "# type(object) == object's class"
   ]
  },
  {
   "cell_type": "code",
   "execution_count": 5,
   "id": "762a2fdd",
   "metadata": {
    "pycharm": {
     "name": "#%%\n"
    }
   },
   "outputs": [
    {
     "data": {
      "text/plain": [
       "3"
      ]
     },
     "execution_count": 5,
     "metadata": {},
     "output_type": "execute_result"
    }
   ],
   "source": [
    "1\n",
    "2\n",
    "3  # cell outputs the value of the last expression"
   ]
  },
  {
   "cell_type": "code",
   "execution_count": 6,
   "id": "3939612c",
   "metadata": {
    "pycharm": {
     "name": "#%%\n"
    },
    "slideshow": {
     "slide_type": "slide"
    }
   },
   "outputs": [],
   "source": [
    "# variable binding\n",
    "\n",
    "temperature = 10\n",
    "temperature = 20\n",
    "temperature = 36.6  # dynamic typing"
   ]
  },
  {
   "cell_type": "code",
   "execution_count": 7,
   "id": "68694164",
   "metadata": {},
   "outputs": [
    {
     "data": {
      "text/plain": [
       "(36.6, float)"
      ]
     },
     "execution_count": 7,
     "metadata": {},
     "output_type": "execute_result"
    }
   ],
   "source": [
    "temperature, type(temperature)"
   ]
  },
  {
   "cell_type": "code",
   "execution_count": 8,
   "id": "b1b5e2af",
   "metadata": {
    "pycharm": {
     "name": "#%%\n"
    },
    "slideshow": {
     "slide_type": "slide"
    }
   },
   "outputs": [],
   "source": [
    "shows = 50"
   ]
  },
  {
   "cell_type": "code",
   "execution_count": 9,
   "id": "1e3f8642",
   "metadata": {
    "pycharm": {
     "name": "#%%\n"
    }
   },
   "outputs": [
    {
     "ename": "NameError",
     "evalue": "name 's4ows' is not defined",
     "output_type": "error",
     "traceback": [
      "\u001b[0;31m---------------------------------------------------------------------------\u001b[0m",
      "\u001b[0;31mNameError\u001b[0m                                 Traceback (most recent call last)",
      "Cell \u001b[0;32mIn[9], line 1\u001b[0m\n\u001b[0;32m----> 1\u001b[0m \u001b[43ms4ows\u001b[49m\n",
      "\u001b[0;31mNameError\u001b[0m: name 's4ows' is not defined"
     ]
    }
   ],
   "source": [
    "s4ows"
   ]
  },
  {
   "cell_type": "markdown",
   "id": "afbbe021",
   "metadata": {
    "pycharm": {
     "name": "#%% md\n"
    },
    "slideshow": {
     "slide_type": "slide"
    }
   },
   "source": [
    "<div class=\"alert alert-danger\">\n",
    "    <b>Anti-pattern:</b> meaningless names of variables\n",
    "</div>"
   ]
  },
  {
   "cell_type": "code",
   "execution_count": 10,
   "id": "be1cb13e",
   "metadata": {
    "pycharm": {
     "name": "#%%\n"
    }
   },
   "outputs": [
    {
     "data": {
      "text/plain": [
       "5.0"
      ]
     },
     "execution_count": 10,
     "metadata": {},
     "output_type": "execute_result"
    }
   ],
   "source": [
    "a = 2\n",
    "b = 10\n",
    "c = b / a\n",
    "c"
   ]
  },
  {
   "cell_type": "markdown",
   "id": "68bd67e9",
   "metadata": {
    "pycharm": {
     "name": "#%% md\n"
    },
    "slideshow": {
     "slide_type": "slide"
    }
   },
   "source": [
    "### int, float, arithmetic operations"
   ]
  },
  {
   "cell_type": "code",
   "execution_count": 11,
   "id": "593d590d",
   "metadata": {
    "pycharm": {
     "name": "#%%\n"
    }
   },
   "outputs": [
    {
     "data": {
      "text/plain": [
       "17.0"
      ]
     },
     "execution_count": 11,
     "metadata": {},
     "output_type": "execute_result"
    }
   ],
   "source": [
    "5 + 6 * (7 - 1) / 3"
   ]
  },
  {
   "cell_type": "code",
   "execution_count": 12,
   "id": "95ca2544",
   "metadata": {
    "pycharm": {
     "name": "#%%\n"
    }
   },
   "outputs": [
    {
     "data": {
      "text/plain": [
       "1024"
      ]
     },
     "execution_count": 12,
     "metadata": {},
     "output_type": "execute_result"
    }
   ],
   "source": [
    "2**10"
   ]
  },
  {
   "cell_type": "code",
   "execution_count": 13,
   "id": "2aa1fd80",
   "metadata": {
    "pycharm": {
     "name": "#%%\n"
    },
    "slideshow": {
     "slide_type": "slide"
    }
   },
   "outputs": [
    {
     "data": {
      "text/plain": [
       "(float, 1.2)"
      ]
     },
     "execution_count": 13,
     "metadata": {},
     "output_type": "execute_result"
    }
   ],
   "source": [
    "# int / int = float\n",
    "\n",
    "clicks = 12\n",
    "shows = 10\n",
    "ctr = clicks / shows\n",
    "\n",
    "type(ctr), ctr"
   ]
  },
  {
   "cell_type": "markdown",
   "id": "fbe044ca",
   "metadata": {},
   "source": [
    "**Remark.** **CTR = [Clicks-through rate](https://en.wikipedia.org/wiki/Click-through_rate)** is a popular metric: a ratio showing how often people who see your ad or free product listing end up clicking it."
   ]
  },
  {
   "cell_type": "markdown",
   "id": "5d9876fd",
   "metadata": {
    "pycharm": {
     "name": "#%% md\n"
    }
   },
   "source": [
    "<div class=\"alert alert-warning\">\n",
    "    <b>Common mistake:</b> Divisions / and // lead to different results\n",
    "</div>"
   ]
  },
  {
   "cell_type": "code",
   "execution_count": 14,
   "id": "3cd41e29",
   "metadata": {
    "pycharm": {
     "name": "#%%\n"
    }
   },
   "outputs": [
    {
     "data": {
      "text/plain": [
       "1"
      ]
     },
     "execution_count": 14,
     "metadata": {},
     "output_type": "execute_result"
    }
   ],
   "source": [
    "clicks // shows  # integer division"
   ]
  },
  {
   "cell_type": "code",
   "execution_count": 15,
   "id": "25fc684c",
   "metadata": {
    "pycharm": {
     "name": "#%%\n"
    }
   },
   "outputs": [
    {
     "data": {
      "text/plain": [
       "2"
      ]
     },
     "execution_count": 15,
     "metadata": {},
     "output_type": "execute_result"
    }
   ],
   "source": [
    "clicks % shows  # remainder "
   ]
  },
  {
   "cell_type": "code",
   "execution_count": 16,
   "id": "29a4aceb",
   "metadata": {
    "pycharm": {
     "name": "#%%\n"
    },
    "slideshow": {
     "slide_type": "slide"
    }
   },
   "outputs": [
    {
     "data": {
      "text/plain": [
       "8.0"
      ]
     },
     "execution_count": 16,
     "metadata": {},
     "output_type": "execute_result"
    }
   ],
   "source": [
    "value = 1\n",
    "value += 1\n",
    "value *= 2\n",
    "value /= 2\n",
    "value **= 3\n",
    "\n",
    "value"
   ]
  },
  {
   "cell_type": "markdown",
   "id": "cc3ffc90",
   "metadata": {
    "pycharm": {
     "name": "#%% md\n"
    },
    "slideshow": {
     "slide_type": "slide"
    }
   },
   "source": [
    "### Bit operations"
   ]
  },
  {
   "cell_type": "code",
   "execution_count": 17,
   "id": "07f0b58b",
   "metadata": {
    "pycharm": {
     "name": "#%%\n"
    }
   },
   "outputs": [
    {
     "data": {
      "text/plain": [
       "(1024, 1)"
      ]
     },
     "execution_count": 17,
     "metadata": {},
     "output_type": "execute_result"
    }
   ],
   "source": [
    "1 << 10, 8 >> 3"
   ]
  },
  {
   "cell_type": "code",
   "execution_count": 18,
   "id": "7d149f7f",
   "metadata": {},
   "outputs": [
    {
     "data": {
      "text/plain": [
       "'0b1000'"
      ]
     },
     "execution_count": 18,
     "metadata": {},
     "output_type": "execute_result"
    }
   ],
   "source": [
    "bin(8)"
   ]
  },
  {
   "cell_type": "code",
   "execution_count": 19,
   "id": "2e6ad472",
   "metadata": {
    "pycharm": {
     "name": "#%%\n"
    }
   },
   "outputs": [
    {
     "data": {
      "text/plain": [
       "(6, 3, 2)"
      ]
     },
     "execution_count": 19,
     "metadata": {},
     "output_type": "execute_result"
    }
   ],
   "source": [
    "0b100 ^ 0b010, 0b011 | 0b010, 0b011 & 0b010"
   ]
  },
  {
   "cell_type": "code",
   "execution_count": 20,
   "id": "e884e717",
   "metadata": {
    "pycharm": {
     "name": "#%%\n"
    }
   },
   "outputs": [
    {
     "data": {
      "text/plain": [
       "'0b1111111111'"
      ]
     },
     "execution_count": 20,
     "metadata": {},
     "output_type": "execute_result"
    }
   ],
   "source": [
    "bin(1023)"
   ]
  },
  {
   "cell_type": "markdown",
   "id": "0ce83072",
   "metadata": {
    "pycharm": {
     "name": "#%% md\n"
    }
   },
   "source": [
    "<div class=\"alert alert-info\">\n",
    "    <b>Advice:</b> bit operations are hard to read, and it's better to avoid them\n",
    "</div>"
   ]
  },
  {
   "cell_type": "markdown",
   "id": "f1448c1e",
   "metadata": {
    "pycharm": {
     "name": "#%% md\n"
    },
    "slideshow": {
     "slide_type": "slide"
    }
   },
   "source": [
    "### Logical type: bool"
   ]
  },
  {
   "cell_type": "code",
   "execution_count": 21,
   "id": "4f962939",
   "metadata": {
    "pycharm": {
     "name": "#%%\n"
    }
   },
   "outputs": [
    {
     "data": {
      "text/plain": [
       "(True, False)"
      ]
     },
     "execution_count": 21,
     "metadata": {},
     "output_type": "execute_result"
    }
   ],
   "source": [
    "True, False"
   ]
  },
  {
   "cell_type": "code",
   "execution_count": 22,
   "id": "9a2e6e59",
   "metadata": {
    "pycharm": {
     "name": "#%%\n"
    }
   },
   "outputs": [
    {
     "data": {
      "text/plain": [
       "(bool, bool)"
      ]
     },
     "execution_count": 22,
     "metadata": {},
     "output_type": "execute_result"
    }
   ],
   "source": [
    "type(True), type(False)"
   ]
  },
  {
   "cell_type": "code",
   "execution_count": 23,
   "id": "e6ec613a",
   "metadata": {
    "pycharm": {
     "name": "#%%\n"
    }
   },
   "outputs": [
    {
     "data": {
      "text/plain": [
       "(False, True)"
      ]
     },
     "execution_count": 23,
     "metadata": {},
     "output_type": "execute_result"
    }
   ],
   "source": [
    "not True, not False"
   ]
  },
  {
   "cell_type": "code",
   "execution_count": 24,
   "id": "2d2605e2",
   "metadata": {
    "pycharm": {
     "name": "#%%\n"
    }
   },
   "outputs": [
    {
     "data": {
      "text/plain": [
       "(False, True, True)"
      ]
     },
     "execution_count": 24,
     "metadata": {},
     "output_type": "execute_result"
    }
   ],
   "source": [
    "True and False, True or False, (2 < 3)"
   ]
  },
  {
   "cell_type": "markdown",
   "id": "0b494761",
   "metadata": {
    "pycharm": {
     "name": "#%% md\n"
    },
    "slideshow": {
     "slide_type": "slide"
    }
   },
   "source": [
    "<div class=\"alert alert-danger\">\n",
    "    <b>Anti-pattern:</b> omit brackets in ambiguous places\n",
    "</div>"
   ]
  },
  {
   "cell_type": "code",
   "execution_count": null,
   "id": "4deda308",
   "metadata": {
    "pycharm": {
     "name": "#%%\n"
    },
    "slideshow": {
     "slide_type": "-"
    }
   },
   "outputs": [],
   "source": [
    "# Q: What's the result?\n",
    "False == False != True"
   ]
  },
  {
   "cell_type": "code",
   "execution_count": null,
   "id": "0b71c5c8",
   "metadata": {
    "pycharm": {
     "name": "#%%\n"
    },
    "slideshow": {
     "slide_type": "slide"
    }
   },
   "outputs": [],
   "source": [
    "# How it works:\n",
    "(False == False) and (False != True)"
   ]
  },
  {
   "cell_type": "code",
   "execution_count": null,
   "id": "b01616c4",
   "metadata": {
    "pycharm": {
     "name": "#%%\n"
    }
   },
   "outputs": [],
   "source": [
    "# A more obvious example:\n",
    "2 < 3 < 5 < 7 < 11"
   ]
  },
  {
   "cell_type": "code",
   "execution_count": null,
   "id": "91c657f8",
   "metadata": {
    "pycharm": {
     "name": "#%%\n"
    }
   },
   "outputs": [],
   "source": [
    "(2 < 3) and (3 < 5) and (5 < 7) and (7 < 11)"
   ]
  },
  {
   "cell_type": "markdown",
   "id": "31b5ad8b",
   "metadata": {
    "pycharm": {
     "name": "#%% md\n"
    },
    "slideshow": {
     "slide_type": "slide"
    }
   },
   "source": [
    "### String type: str"
   ]
  },
  {
   "cell_type": "code",
   "execution_count": 27,
   "id": "e337aab3",
   "metadata": {
    "pycharm": {
     "name": "#%%\n"
    }
   },
   "outputs": [
    {
     "data": {
      "text/plain": [
       "(str, str, str)"
      ]
     },
     "execution_count": 27,
     "metadata": {},
     "output_type": "execute_result"
    }
   ],
   "source": [
    "greeting = \"Hello\"\n",
    "goodbye = 'Bye-bye'\n",
    "\n",
    "poem = \"\"\"\n",
    "В сто сорок солнц закат пылал, \n",
    "    в июль катилось лето, \n",
    "        была жара, \n",
    "            жара плыла - \n",
    "                на даче было это. \n",
    "Пригорок Пушкино горбил \n",
    "   Акуловой горою, \n",
    "       а низ горы - \n",
    "           деревней был, \n",
    "       кривился крыш корою. \n",
    "\"\"\"\n",
    "\n",
    "type(greeting), type(goodbye), type(poem)   "
   ]
  },
  {
   "cell_type": "markdown",
   "id": "edb1bda2",
   "metadata": {},
   "source": [
    "## Functions"
   ]
  },
  {
   "cell_type": "code",
   "execution_count": 28,
   "id": "b90576a0",
   "metadata": {},
   "outputs": [],
   "source": [
    "def square(x):\n",
    "    return x*x"
   ]
  },
  {
   "cell_type": "code",
   "execution_count": 29,
   "id": "b0daecda",
   "metadata": {},
   "outputs": [
    {
     "data": {
      "text/plain": [
       "9.8596"
      ]
     },
     "execution_count": 29,
     "metadata": {},
     "output_type": "execute_result"
    }
   ],
   "source": [
    "square(3.14)"
   ]
  },
  {
   "cell_type": "code",
   "execution_count": 30,
   "id": "d032fcd3",
   "metadata": {},
   "outputs": [
    {
     "data": {
      "text/plain": [
       "(-1+0j)"
      ]
     },
     "execution_count": 30,
     "metadata": {},
     "output_type": "execute_result"
    }
   ],
   "source": [
    "square(1j)"
   ]
  },
  {
   "cell_type": "code",
   "execution_count": 31,
   "id": "8d9efe70",
   "metadata": {},
   "outputs": [
    {
     "ename": "TypeError",
     "evalue": "can't multiply sequence by non-int of type 'str'",
     "output_type": "error",
     "traceback": [
      "\u001b[0;31m---------------------------------------------------------------------------\u001b[0m",
      "\u001b[0;31mTypeError\u001b[0m                                 Traceback (most recent call last)",
      "Cell \u001b[0;32mIn[31], line 1\u001b[0m\n\u001b[0;32m----> 1\u001b[0m \u001b[43msquare\u001b[49m\u001b[43m(\u001b[49m\u001b[38;5;124;43m'\u001b[39;49m\u001b[38;5;124;43m123\u001b[39;49m\u001b[38;5;124;43m'\u001b[39;49m\u001b[43m)\u001b[49m\n",
      "Cell \u001b[0;32mIn[28], line 2\u001b[0m, in \u001b[0;36msquare\u001b[0;34m(x)\u001b[0m\n\u001b[1;32m      1\u001b[0m \u001b[38;5;28;01mdef\u001b[39;00m \u001b[38;5;21msquare\u001b[39m(x):\n\u001b[0;32m----> 2\u001b[0m     \u001b[38;5;28;01mreturn\u001b[39;00m \u001b[43mx\u001b[49m\u001b[38;5;241;43m*\u001b[39;49m\u001b[43mx\u001b[49m\n",
      "\u001b[0;31mTypeError\u001b[0m: can't multiply sequence by non-int of type 'str'"
     ]
    }
   ],
   "source": [
    "square('123')"
   ]
  },
  {
   "cell_type": "code",
   "execution_count": 32,
   "id": "5f240915",
   "metadata": {},
   "outputs": [
    {
     "data": {
      "text/plain": [
       "15129"
      ]
     },
     "execution_count": 32,
     "metadata": {},
     "output_type": "execute_result"
    }
   ],
   "source": [
    "square(int(\"123\"))"
   ]
  },
  {
   "cell_type": "code",
   "execution_count": 33,
   "id": "64414025",
   "metadata": {},
   "outputs": [
    {
     "data": {
      "text/plain": [
       "120"
      ]
     },
     "execution_count": 33,
     "metadata": {},
     "output_type": "execute_result"
    }
   ],
   "source": [
    "from math import factorial\n",
    "factorial(5)"
   ]
  },
  {
   "cell_type": "code",
   "execution_count": 34,
   "id": "adc966ae",
   "metadata": {},
   "outputs": [
    {
     "data": {
      "text/plain": [
       "2432902008176640000"
      ]
     },
     "execution_count": 34,
     "metadata": {},
     "output_type": "execute_result"
    }
   ],
   "source": [
    "factorial(20)"
   ]
  },
  {
   "cell_type": "code",
   "execution_count": 35,
   "id": "9f91b3ba",
   "metadata": {},
   "outputs": [
    {
     "data": {
      "text/plain": [
       "93326215443944152681699238856266700490715968264381621468592963895217599993229915608941463976156518286253697920827223758251185210916864000000000000000000000000"
      ]
     },
     "execution_count": 35,
     "metadata": {},
     "output_type": "execute_result"
    }
   ],
   "source": [
    "factorial(100)"
   ]
  },
  {
   "cell_type": "code",
   "execution_count": 36,
   "id": "17aabf6d",
   "metadata": {},
   "outputs": [
    {
     "name": "stdout",
     "output_type": "stream",
     "text": [
      "CPU times: user 61 µs, sys: 1 µs, total: 62 µs\n",
      "Wall time: 68.9 µs\n"
     ]
    },
    {
     "data": {
      "text/plain": [
       "402387260077093773543702433923003985719374864210714632543799910429938512398629020592044208486969404800479988610197196058631666872994808558901323829669944590997424504087073759918823627727188732519779505950995276120874975462497043601418278094646496291056393887437886487337119181045825783647849977012476632889835955735432513185323958463075557409114262417474349347553428646576611667797396668820291207379143853719588249808126867838374559731746136085379534524221586593201928090878297308431392844403281231558611036976801357304216168747609675871348312025478589320767169132448426236131412508780208000261683151027341827977704784635868170164365024153691398281264810213092761244896359928705114964975419909342221566832572080821333186116811553615836546984046708975602900950537616475847728421889679646244945160765353408198901385442487984959953319101723355556602139450399736280750137837615307127761926849034352625200015888535147331611702103968175921510907788019393178114194545257223865541461062892187960223838971476088506276862967146674697562911234082439208160153780889893964518263243671616762179168909779911903754031274622289988005195444414282012187361745992642956581746628302955570299024324153181617210465832036786906117260158783520751516284225540265170483304226143974286933061690897968482590125458327168226458066526769958652682272807075781391858178889652208164348344825993266043367660176999612831860788386150279465955131156552036093988180612138558600301435694527224206344631797460594682573103790084024432438465657245014402821885252470935190620929023136493273497565513958720559654228749774011413346962715422845862377387538230483865688976461927383814900140767310446640259899490222221765904339901886018566526485061799702356193897017860040811889729918311021171229845901641921068884387121855646124960798722908519296819372388642614839657382291123125024186649353143970137428531926649875337218940694281434118520158014123344828015051399694290153483077644569099073152433278288269864602789864321139083506217095002597389863554277196742822248757586765752344220207573630569498825087968928162753848863396909959826280956121450994871701244516461260379029309120889086942028510640182154399457156805941872748998094254742173582401063677404595741785160829230135358081840096996372524230560855903700624271243416909004153690105933983835777939410970027753472000000000000000000000000000000000000000000000000000000000000000000000000000000000000000000000000000000000000000000000000000000000000000000000000000000000000000000000000000000000000000000000000000000000000000000000000000000000000000000000000000000000"
      ]
     },
     "execution_count": 36,
     "metadata": {},
     "output_type": "execute_result"
    }
   ],
   "source": [
    "%%time\n",
    "factorial(1000)"
   ]
  },
  {
   "cell_type": "code",
   "execution_count": 37,
   "id": "8423b06b",
   "metadata": {},
   "outputs": [],
   "source": [
    "# A very inefficient recursive example, for education purposes only.\n",
    "def my_factorial(n):\n",
    "    if n == 0:\n",
    "        return 1\n",
    "    return n*my_factorial(n-1)"
   ]
  },
  {
   "cell_type": "code",
   "execution_count": 38,
   "id": "d0f5ff7f",
   "metadata": {},
   "outputs": [
    {
     "data": {
      "text/plain": [
       "120"
      ]
     },
     "execution_count": 38,
     "metadata": {},
     "output_type": "execute_result"
    }
   ],
   "source": [
    "my_factorial(5)"
   ]
  },
  {
   "cell_type": "code",
   "execution_count": 39,
   "id": "40191c95",
   "metadata": {},
   "outputs": [
    {
     "data": {
      "text/plain": [
       "3628800"
      ]
     },
     "execution_count": 39,
     "metadata": {},
     "output_type": "execute_result"
    }
   ],
   "source": [
    "my_factorial(10)"
   ]
  },
  {
   "cell_type": "code",
   "execution_count": 41,
   "id": "b1de6dc3",
   "metadata": {},
   "outputs": [
    {
     "ename": "RecursionError",
     "evalue": "maximum recursion depth exceeded",
     "output_type": "error",
     "traceback": [
      "\u001b[0;31m---------------------------------------------------------------------------\u001b[0m",
      "\u001b[0;31mRecursionError\u001b[0m                            Traceback (most recent call last)",
      "File \u001b[0;32m<timed eval>:1\u001b[0m\n",
      "Cell \u001b[0;32mIn[37], line 5\u001b[0m, in \u001b[0;36mmy_factorial\u001b[0;34m(n)\u001b[0m\n\u001b[1;32m      3\u001b[0m \u001b[38;5;28;01mif\u001b[39;00m n \u001b[38;5;241m==\u001b[39m \u001b[38;5;241m0\u001b[39m:\n\u001b[1;32m      4\u001b[0m     \u001b[38;5;28;01mreturn\u001b[39;00m \u001b[38;5;241m1\u001b[39m\n\u001b[0;32m----> 5\u001b[0m \u001b[38;5;28;01mreturn\u001b[39;00m n\u001b[38;5;241m*\u001b[39m\u001b[43mmy_factorial\u001b[49m\u001b[43m(\u001b[49m\u001b[43mn\u001b[49m\u001b[38;5;241;43m-\u001b[39;49m\u001b[38;5;241;43m1\u001b[39;49m\u001b[43m)\u001b[49m\n",
      "Cell \u001b[0;32mIn[37], line 5\u001b[0m, in \u001b[0;36mmy_factorial\u001b[0;34m(n)\u001b[0m\n\u001b[1;32m      3\u001b[0m \u001b[38;5;28;01mif\u001b[39;00m n \u001b[38;5;241m==\u001b[39m \u001b[38;5;241m0\u001b[39m:\n\u001b[1;32m      4\u001b[0m     \u001b[38;5;28;01mreturn\u001b[39;00m \u001b[38;5;241m1\u001b[39m\n\u001b[0;32m----> 5\u001b[0m \u001b[38;5;28;01mreturn\u001b[39;00m n\u001b[38;5;241m*\u001b[39m\u001b[43mmy_factorial\u001b[49m\u001b[43m(\u001b[49m\u001b[43mn\u001b[49m\u001b[38;5;241;43m-\u001b[39;49m\u001b[38;5;241;43m1\u001b[39;49m\u001b[43m)\u001b[49m\n",
      "    \u001b[0;31m[... skipping similar frames: my_factorial at line 5 (2967 times)]\u001b[0m\n",
      "Cell \u001b[0;32mIn[37], line 5\u001b[0m, in \u001b[0;36mmy_factorial\u001b[0;34m(n)\u001b[0m\n\u001b[1;32m      3\u001b[0m \u001b[38;5;28;01mif\u001b[39;00m n \u001b[38;5;241m==\u001b[39m \u001b[38;5;241m0\u001b[39m:\n\u001b[1;32m      4\u001b[0m     \u001b[38;5;28;01mreturn\u001b[39;00m \u001b[38;5;241m1\u001b[39m\n\u001b[0;32m----> 5\u001b[0m \u001b[38;5;28;01mreturn\u001b[39;00m n\u001b[38;5;241m*\u001b[39m\u001b[43mmy_factorial\u001b[49m\u001b[43m(\u001b[49m\u001b[43mn\u001b[49m\u001b[38;5;241;43m-\u001b[39;49m\u001b[38;5;241;43m1\u001b[39;49m\u001b[43m)\u001b[49m\n",
      "\u001b[0;31mRecursionError\u001b[0m: maximum recursion depth exceeded"
     ]
    }
   ],
   "source": [
    "%%time\n",
    "my_factorial(10000)"
   ]
  },
  {
   "cell_type": "markdown",
   "id": "eab74083",
   "metadata": {
    "pycharm": {
     "name": "#%% md\n"
    },
    "slideshow": {
     "slide_type": "slide"
    }
   },
   "source": [
    "### Function print"
   ]
  },
  {
   "cell_type": "code",
   "execution_count": 42,
   "id": "255db530",
   "metadata": {
    "pycharm": {
     "name": "#%%\n"
    },
    "slideshow": {
     "slide_type": "-"
    }
   },
   "outputs": [
    {
     "name": "stdout",
     "output_type": "stream",
     "text": [
      "\n",
      "В сто сорок солнц закат пылал, \n",
      "    в июль катилось лето, \n",
      "        была жара, \n",
      "            жара плыла - \n",
      "                на даче было это. \n",
      "Пригорок Пушкино горбил \n",
      "   Акуловой горою, \n",
      "       а низ горы - \n",
      "           деревней был, \n",
      "       кривился крыш корою. \n",
      "\n"
     ]
    }
   ],
   "source": [
    "print(poem)"
   ]
  },
  {
   "cell_type": "code",
   "execution_count": 46,
   "id": "570e7546",
   "metadata": {
    "pycharm": {
     "name": "#%%\n"
    }
   },
   "outputs": [
    {
     "name": "stdout",
     "output_type": "stream",
     "text": [
      "65536\n",
      "10 20 123 True False\n"
     ]
    }
   ],
   "source": [
    "print(65536)\n",
    "print(10, 20, '123', True, False)"
   ]
  },
  {
   "cell_type": "code",
   "execution_count": 47,
   "id": "0c1b068e",
   "metadata": {
    "pycharm": {
     "name": "#%%\n"
    }
   },
   "outputs": [
    {
     "name": "stdout",
     "output_type": "stream",
     "text": [
      "2 + 2\n",
      "2    +    2!"
     ]
    }
   ],
   "source": [
    "print('2', '+', 2)\n",
    "print('2', '+', 2, sep='    ', end='!')"
   ]
  },
  {
   "cell_type": "code",
   "execution_count": 48,
   "id": "a73b0550",
   "metadata": {
    "pycharm": {
     "name": "#%%\n"
    },
    "slideshow": {
     "slide_type": "slide"
    }
   },
   "outputs": [
    {
     "name": "stdout",
     "output_type": "stream",
     "text": [
      "Hello, world!\n",
      "TwoTwoTwoTwoTwo\n"
     ]
    },
    {
     "ename": "TypeError",
     "evalue": "can only concatenate str (not \"int\") to str",
     "output_type": "error",
     "traceback": [
      "\u001b[0;31m---------------------------------------------------------------------------\u001b[0m",
      "\u001b[0;31mTypeError\u001b[0m                                 Traceback (most recent call last)",
      "Cell \u001b[0;32mIn[48], line 4\u001b[0m\n\u001b[1;32m      2\u001b[0m \u001b[38;5;28mprint\u001b[39m(\u001b[38;5;124m\"\u001b[39m\u001b[38;5;124mHello\u001b[39m\u001b[38;5;124m\"\u001b[39m \u001b[38;5;241m+\u001b[39m \u001b[38;5;124m\"\u001b[39m\u001b[38;5;124m, world!\u001b[39m\u001b[38;5;124m\"\u001b[39m)\n\u001b[1;32m      3\u001b[0m \u001b[38;5;28mprint\u001b[39m(\u001b[38;5;124m'\u001b[39m\u001b[38;5;124mTwo\u001b[39m\u001b[38;5;124m'\u001b[39m \u001b[38;5;241m*\u001b[39m \u001b[38;5;241m5\u001b[39m)\n\u001b[0;32m----> 4\u001b[0m \u001b[38;5;28mprint\u001b[39m(\u001b[38;5;124;43m\"\u001b[39;49m\u001b[38;5;124;43mTwo\u001b[39;49m\u001b[38;5;124;43m\"\u001b[39;49m\u001b[43m \u001b[49m\u001b[38;5;241;43m+\u001b[39;49m\u001b[43m \u001b[49m\u001b[38;5;241;43m2\u001b[39;49m)\n",
      "\u001b[0;31mTypeError\u001b[0m: can only concatenate str (not \"int\") to str"
     ]
    }
   ],
   "source": [
    "# Q: What will happen?\n",
    "print(\"Hello\" + \", world!\")\n",
    "print('Two' * 5)\n",
    "print(\"Two\" + 2)"
   ]
  },
  {
   "cell_type": "markdown",
   "id": "ae8815c1",
   "metadata": {
    "pycharm": {
     "name": "#%% md\n"
    },
    "slideshow": {
     "slide_type": "slide"
    }
   },
   "source": [
    "## Slices and substrings"
   ]
  },
  {
   "cell_type": "code",
   "execution_count": 49,
   "id": "54e224e6",
   "metadata": {
    "pycharm": {
     "name": "#%%\n"
    },
    "slideshow": {
     "slide_type": "-"
    }
   },
   "outputs": [
    {
     "data": {
      "text/plain": [
       "(str, str, str)"
      ]
     },
     "execution_count": 49,
     "metadata": {},
     "output_type": "execute_result"
    }
   ],
   "source": [
    "string = \"Hello, world!\"\n",
    "character = string[10]  # NB: indexing starts from 0\n",
    "sub_string = string[7:10]\n",
    "\n",
    "type(string), type(character), type(sub_string)"
   ]
  },
  {
   "cell_type": "code",
   "execution_count": 50,
   "id": "105c9546",
   "metadata": {
    "pycharm": {
     "name": "#%%\n"
    }
   },
   "outputs": [
    {
     "data": {
      "text/plain": [
       "('l', 'wor')"
      ]
     },
     "execution_count": 50,
     "metadata": {},
     "output_type": "execute_result"
    }
   ],
   "source": [
    "character, sub_string"
   ]
  },
  {
   "cell_type": "code",
   "execution_count": 51,
   "id": "03288024",
   "metadata": {
    "pycharm": {
     "name": "#%%\n"
    }
   },
   "outputs": [
    {
     "data": {
      "text/plain": [
       "True"
      ]
     },
     "execution_count": 51,
     "metadata": {},
     "output_type": "execute_result"
    }
   ],
   "source": [
    "'закат' in poem"
   ]
  },
  {
   "cell_type": "code",
   "execution_count": 52,
   "id": "1e1a42d5",
   "metadata": {
    "pycharm": {
     "name": "#%%\n"
    },
    "slideshow": {
     "slide_type": "slide"
    }
   },
   "outputs": [
    {
     "name": "stdout",
     "output_type": "stream",
     "text": [
      "!\n",
      "H\n"
     ]
    }
   ],
   "source": [
    "string = \"Hello, world!\"\n",
    "print(string[-1])\n",
    "print(string[0])"
   ]
  },
  {
   "cell_type": "code",
   "execution_count": 53,
   "id": "86218059",
   "metadata": {
    "pycharm": {
     "name": "#%%\n"
    },
    "slideshow": {
     "slide_type": "-"
    }
   },
   "outputs": [
    {
     "name": "stdout",
     "output_type": "stream",
     "text": [
      "Hello\n",
      "world!\n",
      "o, w\n",
      "orld\n"
     ]
    }
   ],
   "source": [
    "print(string[:5])\n",
    "print(string[7:])\n",
    "print(string[4:8])\n",
    "print(string[-5:-1])"
   ]
  },
  {
   "cell_type": "code",
   "execution_count": 54,
   "id": "54335ec1",
   "metadata": {},
   "outputs": [
    {
     "data": {
      "text/plain": [
       "'Hello, world!'"
      ]
     },
     "execution_count": 54,
     "metadata": {},
     "output_type": "execute_result"
    }
   ],
   "source": [
    "string[:]"
   ]
  },
  {
   "cell_type": "code",
   "execution_count": 55,
   "id": "1c63173c",
   "metadata": {
    "pycharm": {
     "name": "#%%\n"
    }
   },
   "outputs": [
    {
     "name": "stdout",
     "output_type": "stream",
     "text": [
      "Hlo ol!\n",
      "!dlrow ,olleH\n"
     ]
    }
   ],
   "source": [
    "print(string[::2])  # every second symbol\n",
    "print(string[::-1])  # reversed string"
   ]
  },
  {
   "cell_type": "markdown",
   "id": "b80c9bb7",
   "metadata": {
    "pycharm": {
     "name": "#%% md\n"
    },
    "slideshow": {
     "slide_type": "slide"
    }
   },
   "source": [
    "## String literals"
   ]
  },
  {
   "cell_type": "code",
   "execution_count": 56,
   "id": "d34ae328",
   "metadata": {
    "pycharm": {
     "name": "#%%\n"
    }
   },
   "outputs": [
    {
     "data": {
      "text/plain": [
       "'Hello, world!'"
      ]
     },
     "execution_count": 56,
     "metadata": {},
     "output_type": "execute_result"
    }
   ],
   "source": [
    "(\n",
    "    'Hello'\n",
    "    ', world'\n",
    "    '!'\n",
    ")"
   ]
  },
  {
   "cell_type": "code",
   "execution_count": 57,
   "id": "455ccc41",
   "metadata": {
    "pycharm": {
     "name": "#%%\n"
    }
   },
   "outputs": [
    {
     "data": {
      "text/plain": [
       "'123456789'"
      ]
     },
     "execution_count": 57,
     "metadata": {},
     "output_type": "execute_result"
    }
   ],
   "source": [
    "'123' + \\\n",
    "'456' + \\\n",
    "'789'"
   ]
  },
  {
   "cell_type": "code",
   "execution_count": 58,
   "id": "d8335df2",
   "metadata": {
    "pycharm": {
     "name": "#%%\n"
    }
   },
   "outputs": [
    {
     "data": {
      "text/plain": [
       "'123456789'"
      ]
     },
     "execution_count": 58,
     "metadata": {},
     "output_type": "execute_result"
    }
   ],
   "source": [
    "'123' \\\n",
    "'456' \\\n",
    "'789'"
   ]
  },
  {
   "cell_type": "markdown",
   "id": "41e4cbc6",
   "metadata": {
    "pycharm": {
     "name": "#%% md\n"
    },
    "slideshow": {
     "slide_type": "slide"
    }
   },
   "source": [
    "## Dict"
   ]
  },
  {
   "cell_type": "code",
   "execution_count": 59,
   "id": "d2e6cec0",
   "metadata": {},
   "outputs": [
    {
     "data": {
      "text/plain": [
       "'1972-01-01'"
      ]
     },
     "execution_count": 59,
     "metadata": {},
     "output_type": "execute_result"
    }
   ],
   "source": [
    "birthdays = {'Alice': 123, 'Bob': '1999-12-31'}\n",
    "birthdays['Sam'] = '1972-01-01'\n",
    "birthdays['Sam']"
   ]
  },
  {
   "cell_type": "code",
   "execution_count": 60,
   "id": "a7ac7cb2",
   "metadata": {},
   "outputs": [
    {
     "data": {
      "text/plain": [
       "{'Alice': 123, 'Bob': '1999-12-31', 'Sam': '1972-01-01'}"
      ]
     },
     "execution_count": 60,
     "metadata": {},
     "output_type": "execute_result"
    }
   ],
   "source": [
    "birthdays"
   ]
  },
  {
   "cell_type": "code",
   "execution_count": 61,
   "id": "c2ae4319",
   "metadata": {},
   "outputs": [
    {
     "data": {
      "text/plain": [
       "True"
      ]
     },
     "execution_count": 61,
     "metadata": {},
     "output_type": "execute_result"
    }
   ],
   "source": [
    "birthdays.get(123) is None"
   ]
  },
  {
   "cell_type": "code",
   "execution_count": 62,
   "id": "286a62cd",
   "metadata": {},
   "outputs": [
    {
     "data": {
      "text/plain": [
       "123"
      ]
     },
     "execution_count": 62,
     "metadata": {},
     "output_type": "execute_result"
    }
   ],
   "source": [
    "birthdays.get('Alice')"
   ]
  },
  {
   "cell_type": "code",
   "execution_count": 63,
   "id": "aa68373a",
   "metadata": {},
   "outputs": [
    {
     "data": {
      "text/plain": [
       "{'Alice': 123, 'Sam': '1972-01-01'}"
      ]
     },
     "execution_count": 63,
     "metadata": {},
     "output_type": "execute_result"
    }
   ],
   "source": [
    "del birthdays['Bob']\n",
    "birthdays"
   ]
  },
  {
   "cell_type": "code",
   "execution_count": 64,
   "id": "01f206ef",
   "metadata": {},
   "outputs": [
    {
     "data": {
      "text/plain": [
       "True"
      ]
     },
     "execution_count": 64,
     "metadata": {},
     "output_type": "execute_result"
    }
   ],
   "source": [
    "'Alice' in birthdays"
   ]
  },
  {
   "cell_type": "code",
   "execution_count": 65,
   "id": "cadc12e8",
   "metadata": {},
   "outputs": [
    {
     "data": {
      "text/plain": [
       "False"
      ]
     },
     "execution_count": 65,
     "metadata": {},
     "output_type": "execute_result"
    }
   ],
   "source": [
    "'Bob' in birthdays"
   ]
  },
  {
   "cell_type": "code",
   "execution_count": 66,
   "id": "95984a68",
   "metadata": {},
   "outputs": [
    {
     "data": {
      "text/plain": [
       "0"
      ]
     },
     "execution_count": 66,
     "metadata": {},
     "output_type": "execute_result"
    }
   ],
   "source": [
    "empty_dict = dict()\n",
    "len(empty_dict)"
   ]
  },
  {
   "cell_type": "code",
   "execution_count": 67,
   "id": "f250cf81",
   "metadata": {},
   "outputs": [
    {
     "data": {
      "text/plain": [
       "{}"
      ]
     },
     "execution_count": 67,
     "metadata": {},
     "output_type": "execute_result"
    }
   ],
   "source": [
    "empty_dict"
   ]
  },
  {
   "cell_type": "code",
   "execution_count": 68,
   "id": "87c50aab",
   "metadata": {},
   "outputs": [
    {
     "data": {
      "text/plain": [
       "2"
      ]
     },
     "execution_count": 68,
     "metadata": {},
     "output_type": "execute_result"
    }
   ],
   "source": [
    "len(birthdays)"
   ]
  },
  {
   "cell_type": "markdown",
   "id": "545ab888",
   "metadata": {
    "pycharm": {
     "name": "#%% md\n"
    },
    "slideshow": {
     "slide_type": "slide"
    }
   },
   "source": [
    "## List"
   ]
  },
  {
   "cell_type": "code",
   "execution_count": 69,
   "id": "e86dd194",
   "metadata": {
    "pycharm": {
     "name": "#%%\n"
    }
   },
   "outputs": [
    {
     "data": {
      "text/plain": [
       "list"
      ]
     },
     "execution_count": 69,
     "metadata": {},
     "output_type": "execute_result"
    }
   ],
   "source": [
    "math_names = ['sin', 'cos', 'rot', 'div']\n",
    "type(math_names)"
   ]
  },
  {
   "cell_type": "code",
   "execution_count": 70,
   "id": "4189141f",
   "metadata": {},
   "outputs": [
    {
     "data": {
      "text/plain": [
       "4"
      ]
     },
     "execution_count": 70,
     "metadata": {},
     "output_type": "execute_result"
    }
   ],
   "source": [
    "len(math_names)"
   ]
  },
  {
   "cell_type": "code",
   "execution_count": 71,
   "id": "90815735",
   "metadata": {
    "pycharm": {
     "name": "#%%\n"
    }
   },
   "outputs": [
    {
     "data": {
      "text/plain": [
       "(True, False)"
      ]
     },
     "execution_count": 71,
     "metadata": {},
     "output_type": "execute_result"
    }
   ],
   "source": [
    "'cos' in math_names, 'sos' in math_names"
   ]
  },
  {
   "cell_type": "code",
   "execution_count": 72,
   "id": "68cc3ed7",
   "metadata": {
    "pycharm": {
     "name": "#%%\n"
    }
   },
   "outputs": [
    {
     "data": {
      "text/plain": [
       "('sin', 'cos', 'div')"
      ]
     },
     "execution_count": 72,
     "metadata": {},
     "output_type": "execute_result"
    }
   ],
   "source": [
    "math_names[0], math_names[1], math_names[-1]"
   ]
  },
  {
   "cell_type": "code",
   "execution_count": 73,
   "id": "a191ba4f",
   "metadata": {
    "pycharm": {
     "name": "#%%\n"
    }
   },
   "outputs": [
    {
     "data": {
      "text/plain": [
       "['cos', 'rot']"
      ]
     },
     "execution_count": 73,
     "metadata": {},
     "output_type": "execute_result"
    }
   ],
   "source": [
    "math_names[1:3]"
   ]
  },
  {
   "cell_type": "code",
   "execution_count": 74,
   "id": "3c9862a7",
   "metadata": {
    "pycharm": {
     "name": "#%%\n"
    }
   },
   "outputs": [
    {
     "data": {
      "text/plain": [
       "['div', 'rot', 'cos', 'sin']"
      ]
     },
     "execution_count": 74,
     "metadata": {},
     "output_type": "execute_result"
    }
   ],
   "source": [
    "math_names[::-1]"
   ]
  },
  {
   "cell_type": "code",
   "execution_count": 75,
   "id": "60f0fac5",
   "metadata": {
    "pycharm": {
     "name": "#%%\n"
    },
    "slideshow": {
     "slide_type": "slide"
    }
   },
   "outputs": [
    {
     "name": "stdout",
     "output_type": "stream",
     "text": [
      "[1, 2, 3, 4]\n",
      "[2, 3, 2, 3, 2, 3, 2, 3]\n"
     ]
    },
    {
     "ename": "TypeError",
     "evalue": "can only concatenate list (not \"int\") to list",
     "output_type": "error",
     "traceback": [
      "\u001b[0;31m---------------------------------------------------------------------------\u001b[0m",
      "\u001b[0;31mTypeError\u001b[0m                                 Traceback (most recent call last)",
      "Cell \u001b[0;32mIn[75], line 4\u001b[0m\n\u001b[1;32m      2\u001b[0m \u001b[38;5;28mprint\u001b[39m([\u001b[38;5;241m1\u001b[39m, \u001b[38;5;241m2\u001b[39m] \u001b[38;5;241m+\u001b[39m [\u001b[38;5;241m3\u001b[39m, \u001b[38;5;241m4\u001b[39m])\n\u001b[1;32m      3\u001b[0m \u001b[38;5;28mprint\u001b[39m([\u001b[38;5;241m2\u001b[39m, \u001b[38;5;241m3\u001b[39m] \u001b[38;5;241m*\u001b[39m \u001b[38;5;241m4\u001b[39m)\n\u001b[0;32m----> 4\u001b[0m \u001b[38;5;28mprint\u001b[39m(\u001b[43m[\u001b[49m\u001b[38;5;241;43m2\u001b[39;49m\u001b[43m,\u001b[49m\u001b[43m \u001b[49m\u001b[38;5;241;43m3\u001b[39;49m\u001b[43m]\u001b[49m\u001b[43m \u001b[49m\u001b[38;5;241;43m+\u001b[39;49m\u001b[43m \u001b[49m\u001b[38;5;241;43m4\u001b[39;49m)\n",
      "\u001b[0;31mTypeError\u001b[0m: can only concatenate list (not \"int\") to list"
     ]
    }
   ],
   "source": [
    "# Q: What will happen?\n",
    "print([1, 2] + [3, 4])\n",
    "print([2, 3] * 4)\n",
    "print([2, 3] + 4)"
   ]
  },
  {
   "cell_type": "code",
   "execution_count": 76,
   "id": "77698b39",
   "metadata": {
    "pycharm": {
     "name": "#%%\n"
    },
    "slideshow": {
     "slide_type": "slide"
    }
   },
   "outputs": [
    {
     "data": {
      "text/plain": [
       "['alpha', 'beta', 'gamma', 'delta']"
      ]
     },
     "execution_count": 76,
     "metadata": {},
     "output_type": "execute_result"
    }
   ],
   "source": [
    "letters = ['alpha', 'beta', 'gamma']\n",
    "letters.append('delta')\n",
    "\n",
    "letters"
   ]
  },
  {
   "cell_type": "code",
   "execution_count": 77,
   "id": "fffe2afd",
   "metadata": {
    "pycharm": {
     "name": "#%%\n"
    },
    "slideshow": {
     "slide_type": "-"
    }
   },
   "outputs": [
    {
     "data": {
      "text/plain": [
       "['Философский камень', 'Тайная комната', 'Узник Азкабана']"
      ]
     },
     "execution_count": 77,
     "metadata": {},
     "output_type": "execute_result"
    }
   ],
   "source": [
    "books = ['Философский камень', 'Тайная комната']\n",
    "books += ['Узник Азкабана']\n",
    "books"
   ]
  },
  {
   "cell_type": "code",
   "execution_count": 78,
   "id": "811c4ded",
   "metadata": {
    "pycharm": {
     "name": "#%%\n"
    }
   },
   "outputs": [
    {
     "data": {
      "text/plain": [
       "('delta', ['alpha', 'beta', 'gamma'])"
      ]
     },
     "execution_count": 78,
     "metadata": {},
     "output_type": "execute_result"
    }
   ],
   "source": [
    "letters.pop(), letters  # pop deletes the last element of the list and returns it"
   ]
  },
  {
   "cell_type": "code",
   "execution_count": 79,
   "id": "2d8226e2",
   "metadata": {
    "pycharm": {
     "name": "#%%\n"
    }
   },
   "outputs": [
    {
     "data": {
      "text/plain": [
       "('beta', ['alpha', 'gamma'])"
      ]
     },
     "execution_count": 79,
     "metadata": {},
     "output_type": "execute_result"
    }
   ],
   "source": [
    "letters.pop(1), letters  # delete element at position 1"
   ]
  },
  {
   "cell_type": "markdown",
   "id": "a3709646",
   "metadata": {
    "pycharm": {
     "name": "#%% md\n"
    },
    "slideshow": {
     "slide_type": "slide"
    }
   },
   "source": [
    "<div class=\"alert alert-info\">\n",
    "    <b>Advice:</b> use list as a mutable container of values of similar types\n",
    "</div>"
   ]
  },
  {
   "cell_type": "markdown",
   "id": "8b3615ce",
   "metadata": {
    "pycharm": {
     "name": "#%% md\n"
    },
    "slideshow": {
     "slide_type": "-"
    }
   },
   "source": [
    "<div class=\"alert alert-danger\">\n",
    "    <b>Anti-pattern:</b> mix values of different type in a list\n",
    "</div>"
   ]
  },
  {
   "cell_type": "code",
   "execution_count": 80,
   "id": "c0df36c2",
   "metadata": {
    "pycharm": {
     "name": "#%%\n"
    }
   },
   "outputs": [],
   "source": [
    "yyyyy = [555, \"World\", [1,2,3], True, 10.5]"
   ]
  },
  {
   "cell_type": "markdown",
   "id": "d620da3f",
   "metadata": {
    "pycharm": {
     "name": "#%% md\n"
    }
   },
   "source": [
    "<div class=\"alert alert-danger\">\n",
    "    <b>Anti-pattern:</b> self-referencing\n",
    "</div>"
   ]
  },
  {
   "cell_type": "code",
   "execution_count": 81,
   "id": "53cc7692",
   "metadata": {
    "pycharm": {
     "name": "#%%\n"
    }
   },
   "outputs": [],
   "source": [
    "inception = ['dream']\n",
    "inception.append(inception)"
   ]
  },
  {
   "cell_type": "code",
   "execution_count": 82,
   "id": "1cf26b7f",
   "metadata": {
    "pycharm": {
     "name": "#%%\n"
    }
   },
   "outputs": [
    {
     "data": {
      "text/plain": [
       "['dream', [...]]"
      ]
     },
     "execution_count": 82,
     "metadata": {},
     "output_type": "execute_result"
    }
   ],
   "source": [
    "inception"
   ]
  },
  {
   "cell_type": "code",
   "execution_count": 83,
   "id": "e258447a",
   "metadata": {
    "pycharm": {
     "name": "#%%\n"
    }
   },
   "outputs": [
    {
     "data": {
      "text/plain": [
       "['dream', [...]]"
      ]
     },
     "execution_count": 83,
     "metadata": {},
     "output_type": "execute_result"
    }
   ],
   "source": [
    "inception[1][1][1][1][1][1][1][1][1][1][1][1]"
   ]
  },
  {
   "cell_type": "code",
   "execution_count": 84,
   "id": "9228064e",
   "metadata": {},
   "outputs": [
    {
     "data": {
      "text/plain": [
       "list"
      ]
     },
     "execution_count": 84,
     "metadata": {},
     "output_type": "execute_result"
    }
   ],
   "source": [
    "type(inception)"
   ]
  },
  {
   "cell_type": "markdown",
   "id": "7b3f09c4",
   "metadata": {
    "pycharm": {
     "name": "#%% md\n"
    },
    "slideshow": {
     "slide_type": "slide"
    }
   },
   "source": [
    "## Tuple"
   ]
  },
  {
   "cell_type": "code",
   "execution_count": 85,
   "id": "b3d556c7",
   "metadata": {
    "pycharm": {
     "name": "#%%\n"
    }
   },
   "outputs": [
    {
     "data": {
      "text/plain": [
       "(1, 2, 3)"
      ]
     },
     "execution_count": 85,
     "metadata": {},
     "output_type": "execute_result"
    }
   ],
   "source": [
    "(1, 2, 3)"
   ]
  },
  {
   "cell_type": "code",
   "execution_count": 86,
   "id": "ea440670",
   "metadata": {
    "pycharm": {
     "name": "#%%\n"
    }
   },
   "outputs": [
    {
     "data": {
      "text/plain": [
       "(True, 100)"
      ]
     },
     "execution_count": 86,
     "metadata": {},
     "output_type": "execute_result"
    }
   ],
   "source": [
    "(True, 100)"
   ]
  },
  {
   "cell_type": "code",
   "execution_count": 87,
   "id": "0720ae40",
   "metadata": {
    "pycharm": {
     "name": "#%%\n"
    }
   },
   "outputs": [
    {
     "data": {
      "text/plain": [
       "(complex, 21, False)"
      ]
     },
     "execution_count": 87,
     "metadata": {},
     "output_type": "execute_result"
    }
   ],
   "source": [
    "(complex, 21, False)"
   ]
  },
  {
   "cell_type": "code",
   "execution_count": 88,
   "id": "3aae3e9a",
   "metadata": {
    "pycharm": {
     "name": "#%%\n"
    }
   },
   "outputs": [
    {
     "data": {
      "text/plain": [
       "True"
      ]
     },
     "execution_count": 88,
     "metadata": {},
     "output_type": "execute_result"
    }
   ],
   "source": [
    "21 in (complex, 21, False)"
   ]
  },
  {
   "cell_type": "code",
   "execution_count": 89,
   "id": "8f0d9adc",
   "metadata": {
    "pycharm": {
     "name": "#%%\n"
    },
    "slideshow": {
     "slide_type": "slide"
    }
   },
   "outputs": [
    {
     "name": "stdout",
     "output_type": "stream",
     "text": [
      "(1, 2, 3, 4)\n",
      "(True, False, True, False, True, False, True, False, True, False, True, False, True, False, True, False, True, False, True, False)\n"
     ]
    }
   ],
   "source": [
    "print((1, 2) + (3, 4))\n",
    "print((True, False) * 10)"
   ]
  },
  {
   "cell_type": "code",
   "execution_count": 90,
   "id": "e3fa145e",
   "metadata": {
    "pycharm": {
     "name": "#%%\n"
    },
    "slideshow": {
     "slide_type": "-"
    }
   },
   "outputs": [
    {
     "ename": "TypeError",
     "evalue": "can only concatenate tuple (not \"int\") to tuple",
     "output_type": "error",
     "traceback": [
      "\u001b[0;31m---------------------------------------------------------------------------\u001b[0m",
      "\u001b[0;31mTypeError\u001b[0m                                 Traceback (most recent call last)",
      "Cell \u001b[0;32mIn[90], line 1\u001b[0m\n\u001b[0;32m----> 1\u001b[0m \u001b[38;5;28mprint\u001b[39m(\u001b[43m(\u001b[49m\u001b[38;5;241;43m20\u001b[39;49m\u001b[43m,\u001b[49m\u001b[43m \u001b[49m\u001b[38;5;241;43m30\u001b[39;49m\u001b[43m)\u001b[49m\u001b[43m \u001b[49m\u001b[38;5;241;43m+\u001b[39;49m\u001b[43m \u001b[49m\u001b[38;5;241;43m40\u001b[39;49m)\n",
      "\u001b[0;31mTypeError\u001b[0m: can only concatenate tuple (not \"int\") to tuple"
     ]
    }
   ],
   "source": [
    "print((20, 30) + 40)"
   ]
  },
  {
   "cell_type": "code",
   "execution_count": 91,
   "id": "cfe759fc",
   "metadata": {},
   "outputs": [
    {
     "data": {
      "text/plain": [
       "[1, 2, 3]"
      ]
     },
     "execution_count": 91,
     "metadata": {},
     "output_type": "execute_result"
    }
   ],
   "source": [
    "ls = [1,2, 3]\n",
    "ls"
   ]
  },
  {
   "cell_type": "code",
   "execution_count": 92,
   "id": "261b44a1",
   "metadata": {},
   "outputs": [
    {
     "data": {
      "text/plain": [
       "[1, 10, 3]"
      ]
     },
     "execution_count": 92,
     "metadata": {},
     "output_type": "execute_result"
    }
   ],
   "source": [
    "ls[1] = 10\n",
    "ls"
   ]
  },
  {
   "cell_type": "code",
   "execution_count": 93,
   "id": "42473755",
   "metadata": {},
   "outputs": [
    {
     "data": {
      "text/plain": [
       "(4, 5, 6)"
      ]
     },
     "execution_count": 93,
     "metadata": {},
     "output_type": "execute_result"
    }
   ],
   "source": [
    "t = (4, 5, 6)\n",
    "t"
   ]
  },
  {
   "cell_type": "code",
   "execution_count": 94,
   "id": "2072381d",
   "metadata": {},
   "outputs": [
    {
     "ename": "TypeError",
     "evalue": "'tuple' object does not support item assignment",
     "output_type": "error",
     "traceback": [
      "\u001b[0;31m---------------------------------------------------------------------------\u001b[0m",
      "\u001b[0;31mTypeError\u001b[0m                                 Traceback (most recent call last)",
      "Cell \u001b[0;32mIn[94], line 1\u001b[0m\n\u001b[0;32m----> 1\u001b[0m \u001b[43mt\u001b[49m\u001b[43m[\u001b[49m\u001b[38;5;241;43m1\u001b[39;49m\u001b[43m]\u001b[49m \u001b[38;5;241m=\u001b[39m \u001b[38;5;241m20\u001b[39m\n",
      "\u001b[0;31mTypeError\u001b[0m: 'tuple' object does not support item assignment"
     ]
    }
   ],
   "source": [
    "t[1] = 20"
   ]
  },
  {
   "cell_type": "markdown",
   "id": "70ffbce5",
   "metadata": {},
   "source": [
    "## Set"
   ]
  },
  {
   "cell_type": "code",
   "execution_count": 95,
   "id": "25b3acf1",
   "metadata": {},
   "outputs": [
    {
     "data": {
      "text/plain": [
       "{'bar', 'foo', 'foobar'}"
      ]
     },
     "execution_count": 95,
     "metadata": {},
     "output_type": "execute_result"
    }
   ],
   "source": [
    "{'foo', 'bar', 'foobar'}"
   ]
  },
  {
   "cell_type": "code",
   "execution_count": 96,
   "id": "0d7f8287",
   "metadata": {},
   "outputs": [
    {
     "data": {
      "text/plain": [
       "{'bar', 'foo', 'foobar'}"
      ]
     },
     "execution_count": 96,
     "metadata": {},
     "output_type": "execute_result"
    }
   ],
   "source": [
    "{'foo', 'bar', 'foobar', 'foo', 'foo'}"
   ]
  },
  {
   "cell_type": "code",
   "execution_count": 97,
   "id": "5bc3b51c",
   "metadata": {},
   "outputs": [
    {
     "ename": "TypeError",
     "evalue": "'set' object is not subscriptable",
     "output_type": "error",
     "traceback": [
      "\u001b[0;31m---------------------------------------------------------------------------\u001b[0m",
      "\u001b[0;31mTypeError\u001b[0m                                 Traceback (most recent call last)",
      "Cell \u001b[0;32mIn[97], line 2\u001b[0m\n\u001b[1;32m      1\u001b[0m s \u001b[38;5;241m=\u001b[39m {\u001b[38;5;241m1\u001b[39m, \u001b[38;5;241m2\u001b[39m, \u001b[38;5;241m3\u001b[39m}\n\u001b[0;32m----> 2\u001b[0m \u001b[43ms\u001b[49m\u001b[43m[\u001b[49m\u001b[38;5;241;43m1\u001b[39;49m\u001b[43m]\u001b[49m\n",
      "\u001b[0;31mTypeError\u001b[0m: 'set' object is not subscriptable"
     ]
    }
   ],
   "source": [
    "s = {1, 2, 3}\n",
    "s[1]"
   ]
  },
  {
   "cell_type": "code",
   "execution_count": 107,
   "id": "aca6212c",
   "metadata": {},
   "outputs": [
    {
     "data": {
      "text/plain": [
       "{' ', ',', '-', 'A', 'P', 'a', 'c', 'l', 'm', 'n', 'p'}"
      ]
     },
     "execution_count": 107,
     "metadata": {},
     "output_type": "execute_result"
    }
   ],
   "source": [
    "set(\"A man, a plan, a canal, - Panama\")"
   ]
  },
  {
   "cell_type": "code",
   "execution_count": 108,
   "id": "ced56343",
   "metadata": {},
   "outputs": [
    {
     "name": "stdout",
     "output_type": "stream",
     "text": [
      "['1120', '1160', '963', '1210', '1160', '1160', '813', '1230', '1370', '1140']\n",
      "Size of list: 100\n"
     ]
    }
   ],
   "source": [
    "nile =\"\"\"\n",
    "    1120 1160 963 1210 1160 1160 813 1230 1370 1140 995 935 1110\n",
    "    994 1020 960 1180 799 958 1140 1100 1210 1150 1250 1260 1220\n",
    "    1030 1100 774 840 874 694 940 833 701 916 692 1020 1050 969\n",
    "    831 726 456 824 702 1120 1100 832 764 821 768 845 864 862 698\n",
    "    845 744 796 1040 759 781 865 845 944 984 897 822 1010 771 676\n",
    "    649 846 812 742 801 1040 860 874 848 890 744 749 838 1050 918\n",
    "    986 797 923 975 815 1020 906 901 1170 912 746 919 718 714 740\n",
    "\"\"\"\n",
    "nile_list = nile.split()\n",
    "print(nile_list[:10])\n",
    "print(\"Size of list:\", len(nile_list))"
   ]
  },
  {
   "cell_type": "code",
   "execution_count": 110,
   "id": "94a0f394",
   "metadata": {},
   "outputs": [
    {
     "name": "stdout",
     "output_type": "stream",
     "text": [
      "<class 'set'>\n",
      "<class 'list'>\n"
     ]
    },
    {
     "data": {
      "text/plain": [
       "85"
      ]
     },
     "execution_count": 110,
     "metadata": {},
     "output_type": "execute_result"
    }
   ],
   "source": [
    "#Q. How to get all unique values from the list?\n",
    "s = set(nile_list)\n",
    "print(type(s))\n",
    "l = list(s)\n",
    "print(type(l))\n",
    "len(list(set(nile_list)))"
   ]
  },
  {
   "cell_type": "code",
   "execution_count": 111,
   "id": "35428e2a",
   "metadata": {},
   "outputs": [
    {
     "name": "stdout",
     "output_type": "stream",
     "text": [
      "{'860', '846', '1370', '1210', '781', '1170', '801', '963', '742', '821', '897', '1100', '813', '822', '984', '698', '1050', '718', '759', '848', '824', '901', '940', '1260', '1020', '1250', '1220', '995', '1030', '916', '994', '694', '768', '1230', '771', '906', '1040', '1150', '1120', '831', '456', '740', '714', '749', '865', '701', '774', '890', '726', '815', '862', '1140', '692', '874', '944', '912', '840', '918', '1180', '864', '975', '764', '812', '833', '676', '796', '746', '1010', '1160', '1110', '838', '960', '923', '649', '744', '845', '958', '969', '799', '919', '702', '797', '935', '832', '986'}\n"
     ]
    }
   ],
   "source": [
    "print(s)"
   ]
  },
  {
   "cell_type": "code",
   "execution_count": 112,
   "id": "dff28569",
   "metadata": {},
   "outputs": [
    {
     "name": "stdout",
     "output_type": "stream",
     "text": [
      "['860', '846', '1370', '1210', '781', '1170', '801', '963', '742', '821']\n"
     ]
    }
   ],
   "source": [
    "print(list(s)[:10])"
   ]
  },
  {
   "cell_type": "markdown",
   "id": "4a6b75e7",
   "metadata": {
    "pycharm": {
     "name": "#%% md\n"
    },
    "slideshow": {
     "slide_type": "slide"
    }
   },
   "source": [
    "## Packing, unpacking"
   ]
  },
  {
   "cell_type": "code",
   "execution_count": 113,
   "id": "fed894f8",
   "metadata": {
    "pycharm": {
     "name": "#%%\n"
    }
   },
   "outputs": [
    {
     "data": {
      "text/plain": [
       "(int, 21, False)"
      ]
     },
     "execution_count": 113,
     "metadata": {},
     "output_type": "execute_result"
    }
   ],
   "source": [
    "int, 21, False"
   ]
  },
  {
   "cell_type": "code",
   "execution_count": 114,
   "id": "3b860ffb",
   "metadata": {
    "pycharm": {
     "name": "#%%\n"
    }
   },
   "outputs": [
    {
     "data": {
      "text/plain": [
       "tuple"
      ]
     },
     "execution_count": 114,
     "metadata": {},
     "output_type": "execute_result"
    }
   ],
   "source": [
    "type(_)  # the variable _ stores the result of the last expression evaluation"
   ]
  },
  {
   "cell_type": "code",
   "execution_count": 116,
   "id": "c34764e6",
   "metadata": {
    "pycharm": {
     "name": "#%%\n"
    },
    "slideshow": {
     "slide_type": "slide"
    }
   },
   "outputs": [],
   "source": [
    "numbers = (4, 8, 15, 16, 23, 42)\n",
    "a, b, c, d, e, f = numbers"
   ]
  },
  {
   "cell_type": "code",
   "execution_count": 117,
   "id": "8a494a8d",
   "metadata": {
    "pycharm": {
     "name": "#%%\n"
    }
   },
   "outputs": [
    {
     "data": {
      "text/plain": [
       "4"
      ]
     },
     "execution_count": 117,
     "metadata": {},
     "output_type": "execute_result"
    }
   ],
   "source": [
    "a"
   ]
  },
  {
   "cell_type": "code",
   "execution_count": 118,
   "id": "3cd935e4",
   "metadata": {
    "pycharm": {
     "name": "#%%\n"
    }
   },
   "outputs": [
    {
     "data": {
      "text/plain": [
       "23"
      ]
     },
     "execution_count": 118,
     "metadata": {},
     "output_type": "execute_result"
    }
   ],
   "source": [
    "e"
   ]
  },
  {
   "cell_type": "code",
   "execution_count": 119,
   "id": "71104a98",
   "metadata": {
    "pycharm": {
     "name": "#%%\n"
    },
    "slideshow": {
     "slide_type": "slide"
    }
   },
   "outputs": [],
   "source": [
    "colors = ('red', 'green', 'blue')\n",
    "red_variable, *other_colors = colors"
   ]
  },
  {
   "cell_type": "code",
   "execution_count": 120,
   "id": "1121ed3e",
   "metadata": {
    "pycharm": {
     "name": "#%%\n"
    }
   },
   "outputs": [
    {
     "data": {
      "text/plain": [
       "'red'"
      ]
     },
     "execution_count": 120,
     "metadata": {},
     "output_type": "execute_result"
    }
   ],
   "source": [
    "red_variable"
   ]
  },
  {
   "cell_type": "code",
   "execution_count": 121,
   "id": "9041e6a2",
   "metadata": {
    "pycharm": {
     "name": "#%%\n"
    }
   },
   "outputs": [
    {
     "data": {
      "text/plain": [
       "['green', 'blue']"
      ]
     },
     "execution_count": 121,
     "metadata": {},
     "output_type": "execute_result"
    }
   ],
   "source": [
    "other_colors"
   ]
  },
  {
   "cell_type": "code",
   "execution_count": 122,
   "id": "a4fb545d",
   "metadata": {
    "pycharm": {
     "name": "#%%\n"
    }
   },
   "outputs": [],
   "source": [
    "letters = 'abcdefgh'\n",
    "*other, prev, last = letters"
   ]
  },
  {
   "cell_type": "code",
   "execution_count": 123,
   "id": "7f3f0e35",
   "metadata": {
    "pycharm": {
     "name": "#%%\n"
    }
   },
   "outputs": [
    {
     "name": "stdout",
     "output_type": "stream",
     "text": [
      "['a', 'b', 'c', 'd', 'e', 'f'] g h\n"
     ]
    }
   ],
   "source": [
    "print(other, prev, last)"
   ]
  },
  {
   "cell_type": "code",
   "execution_count": 124,
   "id": "a781557b",
   "metadata": {
    "pycharm": {
     "name": "#%%\n"
    }
   },
   "outputs": [],
   "source": [
    "# pack, transfer, unpack\n",
    "\n",
    "type_of_object = float\n",
    "text = '-273.15'\n",
    "\n",
    "pack = (type_of_object, text)\n",
    "# ..."
   ]
  },
  {
   "cell_type": "code",
   "execution_count": null,
   "id": "3a29a28d",
   "metadata": {
    "pycharm": {
     "name": "#%%\n"
    }
   },
   "outputs": [],
   "source": [
    "call, value = pack\n",
    "call(value)"
   ]
  },
  {
   "cell_type": "code",
   "execution_count": null,
   "id": "cac6ec53",
   "metadata": {
    "pycharm": {
     "name": "#%%\n"
    }
   },
   "outputs": [],
   "source": [
    "# swap a and b\n",
    "a = 10\n",
    "b = 20\n",
    "print(a, b)\n",
    "\n",
    "a, b = b, a\n",
    "print(a, b)"
   ]
  },
  {
   "cell_type": "markdown",
   "id": "4dc417c9",
   "metadata": {
    "pycharm": {
     "name": "#%% md\n"
    },
    "slideshow": {
     "slide_type": "slide"
    }
   },
   "source": [
    "## Implicit type conversion"
   ]
  },
  {
   "cell_type": "code",
   "execution_count": 125,
   "id": "6f1f01b2",
   "metadata": {
    "pycharm": {
     "name": "#%%\n"
    }
   },
   "outputs": [
    {
     "data": {
      "text/plain": [
       "2"
      ]
     },
     "execution_count": 125,
     "metadata": {},
     "output_type": "execute_result"
    }
   ],
   "source": [
    "True + 1"
   ]
  },
  {
   "cell_type": "code",
   "execution_count": 126,
   "id": "3ab20166",
   "metadata": {
    "pycharm": {
     "name": "#%%\n"
    }
   },
   "outputs": [
    {
     "data": {
      "text/plain": [
       "2.0"
      ]
     },
     "execution_count": 126,
     "metadata": {},
     "output_type": "execute_result"
    }
   ],
   "source": [
    "1 + 1.0"
   ]
  },
  {
   "cell_type": "code",
   "execution_count": 127,
   "id": "fec29220",
   "metadata": {
    "pycharm": {
     "name": "#%%\n"
    }
   },
   "outputs": [
    {
     "data": {
      "text/plain": [
       "2.0"
      ]
     },
     "execution_count": 127,
     "metadata": {},
     "output_type": "execute_result"
    }
   ],
   "source": [
    "True + 1.0"
   ]
  },
  {
   "cell_type": "code",
   "execution_count": 128,
   "id": "6e9e7fa5",
   "metadata": {
    "pycharm": {
     "name": "#%%\n"
    }
   },
   "outputs": [
    {
     "data": {
      "text/plain": [
       "(True, True, False)"
      ]
     },
     "execution_count": 128,
     "metadata": {},
     "output_type": "execute_result"
    }
   ],
   "source": [
    "True == 1, \\\n",
    "1.0 == 1, \\\n",
    "\"1\" == 1"
   ]
  },
  {
   "cell_type": "markdown",
   "id": "500a6f75",
   "metadata": {
    "pycharm": {
     "name": "#%% md\n"
    },
    "slideshow": {
     "slide_type": "slide"
    }
   },
   "source": [
    "## Explicit type conversion"
   ]
  },
  {
   "cell_type": "code",
   "execution_count": 129,
   "id": "10dec09e",
   "metadata": {
    "pycharm": {
     "name": "#%%\n"
    }
   },
   "outputs": [
    {
     "data": {
      "text/plain": [
       "(4, 345, -7.0, 1.4)"
      ]
     },
     "execution_count": 129,
     "metadata": {},
     "output_type": "execute_result"
    }
   ],
   "source": [
    "int(4.9), int(\"345\"), float(-7), float(\"1.4\")"
   ]
  },
  {
   "cell_type": "code",
   "execution_count": 130,
   "id": "1cd796fd",
   "metadata": {
    "pycharm": {
     "name": "#%%\n"
    }
   },
   "outputs": [
    {
     "data": {
      "text/plain": [
       "(-inf, inf, nan)"
      ]
     },
     "execution_count": 130,
     "metadata": {},
     "output_type": "execute_result"
    }
   ],
   "source": [
    "float(\"-inf\"), float(\"inf\"), float(\"nan\")"
   ]
  },
  {
   "cell_type": "code",
   "execution_count": 131,
   "id": "a5189016",
   "metadata": {
    "pycharm": {
     "name": "#%%\n"
    }
   },
   "outputs": [
    {
     "data": {
      "text/plain": [
       "['a', 'b', 'c']"
      ]
     },
     "execution_count": 131,
     "metadata": {},
     "output_type": "execute_result"
    }
   ],
   "source": [
    "list(\"abc\")"
   ]
  },
  {
   "cell_type": "code",
   "execution_count": 132,
   "id": "c012524b",
   "metadata": {
    "pycharm": {
     "name": "#%%\n"
    }
   },
   "outputs": [
    {
     "data": {
      "text/plain": [
       "'[1, 2, 3]'"
      ]
     },
     "execution_count": 132,
     "metadata": {},
     "output_type": "execute_result"
    }
   ],
   "source": [
    "str([1,2,3])"
   ]
  },
  {
   "cell_type": "code",
   "execution_count": 133,
   "id": "1860085e",
   "metadata": {
    "pycharm": {
     "name": "#%%\n"
    }
   },
   "outputs": [
    {
     "data": {
      "text/plain": [
       "('Obi', 'Wan', 'Kenobi')"
      ]
     },
     "execution_count": 133,
     "metadata": {},
     "output_type": "execute_result"
    }
   ],
   "source": [
    "tuple([\"Obi\", \"Wan\", \"Kenobi\"])"
   ]
  },
  {
   "cell_type": "code",
   "execution_count": 134,
   "id": "97cbfacb",
   "metadata": {
    "pycharm": {
     "name": "#%%\n"
    },
    "slideshow": {
     "slide_type": "slide"
    }
   },
   "outputs": [
    {
     "data": {
      "text/plain": [
       "(True, True, False, True, True)"
      ]
     },
     "execution_count": 134,
     "metadata": {},
     "output_type": "execute_result"
    }
   ],
   "source": [
    "bool(-2), bool(-1), bool(0), bool(1), bool(2)"
   ]
  },
  {
   "cell_type": "code",
   "execution_count": null,
   "id": "99ef8420",
   "metadata": {
    "pycharm": {
     "name": "#%%\n"
    }
   },
   "outputs": [],
   "source": [
    "bool(-100.0), bool(0.0), bool(1000.0)"
   ]
  },
  {
   "cell_type": "code",
   "execution_count": null,
   "id": "66a057fc",
   "metadata": {
    "pycharm": {
     "name": "#%%\n"
    }
   },
   "outputs": [],
   "source": [
    "bool(-1j), bool(0j+0), bool(3j)"
   ]
  },
  {
   "cell_type": "code",
   "execution_count": null,
   "id": "61b37ed8",
   "metadata": {
    "pycharm": {
     "name": "#%%\n"
    },
    "slideshow": {
     "slide_type": "slide"
    }
   },
   "outputs": [],
   "source": [
    "bool(\"\"), bool(\"True\"), bool(\"False\"), bool(\"[]\")"
   ]
  },
  {
   "cell_type": "code",
   "execution_count": null,
   "id": "e95cace6",
   "metadata": {
    "pycharm": {
     "name": "#%%\n"
    },
    "slideshow": {
     "slide_type": "-"
    }
   },
   "outputs": [],
   "source": [
    "bool([]), bool([10, 20, 30]), bool([True]), bool([False])"
   ]
  },
  {
   "cell_type": "code",
   "execution_count": null,
   "id": "c98b3f14",
   "metadata": {
    "pycharm": {
     "name": "#%%\n"
    }
   },
   "outputs": [],
   "source": [
    "bool(()), bool((False)), bool((False,))"
   ]
  },
  {
   "cell_type": "markdown",
   "id": "79eb3c77",
   "metadata": {
    "pycharm": {
     "name": "#%% md\n"
    },
    "slideshow": {
     "slide_type": "slide"
    }
   },
   "source": [
    "## Control flow"
   ]
  },
  {
   "cell_type": "markdown",
   "id": "af5dbf94",
   "metadata": {
    "pycharm": {
     "name": "#%% md\n"
    },
    "slideshow": {
     "slide_type": "slide"
    }
   },
   "source": [
    "### Condition operator, if, elif, else"
   ]
  },
  {
   "cell_type": "code",
   "execution_count": 139,
   "id": "b0734349",
   "metadata": {
    "pycharm": {
     "name": "#%%\n"
    },
    "slideshow": {
     "slide_type": "slide"
    }
   },
   "outputs": [],
   "source": [
    "x = 35"
   ]
  },
  {
   "cell_type": "code",
   "execution_count": 140,
   "id": "e7e53f98",
   "metadata": {
    "pycharm": {
     "name": "#%%\n"
    },
    "slideshow": {
     "slide_type": "-"
    }
   },
   "outputs": [
    {
     "name": "stdout",
     "output_type": "stream",
     "text": [
      "35 Divisible by 5\n"
     ]
    }
   ],
   "source": [
    "if x % 10 == 0:  # semicolon emphasizes the beginning of еру new code block\n",
    "    \n",
    "    # indentation is important!\n",
    "\n",
    "    print(x, \"Divisible by 10\")\n",
    "elif x % 5 == 0:\n",
    "    print(x, \"Divisible by 5\")\n",
    "else:\n",
    "    print(x, \"Not divisible by 5\")"
   ]
  },
  {
   "cell_type": "code",
   "execution_count": 141,
   "id": "b7b7d901",
   "metadata": {
    "pycharm": {
     "name": "#%%\n"
    },
    "slideshow": {
     "slide_type": "slide"
    }
   },
   "outputs": [
    {
     "name": "stdout",
     "output_type": "stream",
     "text": [
      "< 5\n"
     ]
    }
   ],
   "source": [
    "value = 4\n",
    "\n",
    "if value > 5:\n",
    "    print('> 5')\n",
    "elif value == 5:\n",
    "    print('5')\n",
    "elif value < 5:\n",
    "    print('< 5')\n",
    "else:\n",
    "    print('HOW?!')  # Q: for which value \"HOW?!\" will be printed?"
   ]
  },
  {
   "cell_type": "markdown",
   "id": "6c2384b6",
   "metadata": {
    "pycharm": {
     "name": "#%% md\n"
    },
    "slideshow": {
     "slide_type": "slide"
    }
   },
   "source": [
    "<div class=\"alert alert-danger\">\n",
    "<b>Anti-pattern:</b> redundant brackets\n",
    "</div>"
   ]
  },
  {
   "cell_type": "code",
   "execution_count": 142,
   "id": "451ce466",
   "metadata": {
    "pycharm": {
     "name": "#%%\n"
    }
   },
   "outputs": [
    {
     "name": "stdout",
     "output_type": "stream",
     "text": [
      "35 Divisible by 5\n"
     ]
    }
   ],
   "source": [
    "if (x % 10 == 0):  # unnecessary brackets impede reading of this code\n",
    "    print(x, \"Divisible by 10\")\n",
    "elif (x % 5 == 0):\n",
    "    print(x, \"Divisible by 5\")\n",
    "else:\n",
    "    print(x, \"Not divisible by 5\")"
   ]
  },
  {
   "cell_type": "markdown",
   "id": "acfcee5e",
   "metadata": {
    "pycharm": {
     "name": "#%% md\n"
    },
    "slideshow": {
     "slide_type": "slide"
    }
   },
   "source": [
    "### Ternary operator"
   ]
  },
  {
   "cell_type": "code",
   "execution_count": 143,
   "id": "6285879c",
   "metadata": {
    "pycharm": {
     "name": "#%%\n"
    }
   },
   "outputs": [],
   "source": [
    "if x % 10 == 0:\n",
    "    answer = \"Divisible by 10\"\n",
    "else:\n",
    "    answer = \"Not divisible by 10\""
   ]
  },
  {
   "cell_type": "code",
   "execution_count": 144,
   "id": "9cc6c327",
   "metadata": {
    "pycharm": {
     "name": "#%%\n"
    }
   },
   "outputs": [],
   "source": [
    "answer = \"Divisible by 10\" if x % 10 == 0 else \"Not divisible by 10\""
   ]
  },
  {
   "cell_type": "markdown",
   "id": "661e2ffb",
   "metadata": {
    "pycharm": {
     "name": "#%% md\n"
    },
    "slideshow": {
     "slide_type": "slide"
    }
   },
   "source": [
    "<div class=\"alert alert-danger\">\n",
    "<b>Anti-pattern:</b> use a ternary operator for large expressions\n",
    "</div>"
   ]
  },
  {
   "cell_type": "markdown",
   "id": "45884346",
   "metadata": {
    "pycharm": {
     "name": "#%% md\n"
    }
   },
   "source": [
    "<img src=\"./images/big_ternary.png\" />"
   ]
  },
  {
   "cell_type": "markdown",
   "id": "51dcbc6c",
   "metadata": {
    "pycharm": {
     "name": "#%% md\n"
    },
    "slideshow": {
     "slide_type": "slide"
    }
   },
   "source": [
    "<div class=\"alert alert-danger\">\n",
    "<b>Anti-pattern:</b> return different types depending on the condition\n",
    "</div>"
   ]
  },
  {
   "cell_type": "code",
   "execution_count": 145,
   "id": "a496830c",
   "metadata": {
    "pycharm": {
     "name": "#%%\n"
    }
   },
   "outputs": [],
   "source": [
    "x = 13\n",
    "\n",
    "answer = x % 10 if x > 0 else \"Wrong value!\""
   ]
  },
  {
   "cell_type": "markdown",
   "id": "36769e3f",
   "metadata": {},
   "source": [
    "**Execsice -1**. Write a function, which returns the middle of three given integers."
   ]
  },
  {
   "cell_type": "code",
   "execution_count": null,
   "id": "6765bf44",
   "metadata": {},
   "outputs": [],
   "source": [
    "def get_middle_value(a: int, b: int, c: int) -> int:\n",
    "    \"\"\"\n",
    "    Takes three values and returns middle value.\n",
    "    \"\"\"\n",
    "    pass"
   ]
  },
  {
   "cell_type": "code",
   "execution_count": null,
   "id": "69f62f9c",
   "metadata": {},
   "outputs": [],
   "source": [
    "assert get_middle_value(1, 2, 3) == 2\n",
    "assert get_middle_value(1, 3, 2) == 2\n",
    "assert get_middle_value(2, 1, 3) == 2\n",
    "assert get_middle_value(2, 3, 1) == 2\n",
    "assert get_middle_value(3, 1, 2) == 2\n",
    "assert get_middle_value(3, 2, 1) == 2\n",
    "assert get_middle_value(-100, -10, 100) == -10\n",
    "assert get_middle_value(100, -100, -10) == -10\n",
    "assert get_middle_value(-10, -10, -5) == -10\n",
    "assert get_middle_value(-10, -10, -10) == -10\n",
    "assert get_middle_value(-100, 10, 100) == 10\n",
    "assert get_middle_value(0, 0, 0) == 0\n",
    "assert get_middle_value(10**12, -10**12, 10**10) == 10**10"
   ]
  },
  {
   "cell_type": "markdown",
   "id": "85f8d3f2",
   "metadata": {
    "pycharm": {
     "name": "#%% md\n"
    },
    "slideshow": {
     "slide_type": "slide"
    }
   },
   "source": [
    "### or, and"
   ]
  },
  {
   "cell_type": "code",
   "execution_count": 146,
   "id": "ae44a14e",
   "metadata": {
    "pycharm": {
     "name": "#%%\n"
    }
   },
   "outputs": [
    {
     "data": {
      "text/plain": [
       "(True, False)"
      ]
     },
     "execution_count": 146,
     "metadata": {},
     "output_type": "execute_result"
    }
   ],
   "source": [
    "bool(20), bool(0)"
   ]
  },
  {
   "cell_type": "code",
   "execution_count": 147,
   "id": "a7a2a1cf",
   "metadata": {
    "pycharm": {
     "name": "#%%\n"
    }
   },
   "outputs": [
    {
     "data": {
      "text/plain": [
       "(True, False)"
      ]
     },
     "execution_count": 147,
     "metadata": {},
     "output_type": "execute_result"
    }
   ],
   "source": [
    "bool(20 or 0), bool(20 and 0)"
   ]
  },
  {
   "cell_type": "code",
   "execution_count": 148,
   "id": "921257d9",
   "metadata": {
    "pycharm": {
     "name": "#%%\n"
    }
   },
   "outputs": [
    {
     "data": {
      "text/plain": [
       "(int, int)"
      ]
     },
     "execution_count": 148,
     "metadata": {},
     "output_type": "execute_result"
    }
   ],
   "source": [
    "type(20 or 0), type(20 and 0)"
   ]
  },
  {
   "cell_type": "code",
   "execution_count": 150,
   "id": "c6d5fef0",
   "metadata": {
    "pycharm": {
     "name": "#%%\n"
    },
    "slideshow": {
     "slide_type": "slide"
    }
   },
   "outputs": [
    {
     "data": {
      "text/plain": [
       "'default'"
      ]
     },
     "execution_count": 150,
     "metadata": {},
     "output_type": "execute_result"
    }
   ],
   "source": [
    "x = \"\"\n",
    "if x:\n",
    "    pass  # pass just does nothing\n",
    "else:\n",
    "    x = \"default\"\n",
    "    \n",
    "x"
   ]
  },
  {
   "cell_type": "code",
   "execution_count": null,
   "id": "d4b7838b",
   "metadata": {
    "pycharm": {
     "name": "#%%\n"
    }
   },
   "outputs": [],
   "source": [
    "x = \"\"\n",
    "x = x or \"default\"  # often pattern to substitute empty value\n",
    "\n",
    "x"
   ]
  },
  {
   "cell_type": "markdown",
   "id": "2010077a",
   "metadata": {
    "pycharm": {
     "name": "#%% md\n"
    },
    "slideshow": {
     "slide_type": "slide"
    }
   },
   "source": [
    "### Lazy evaluation"
   ]
  },
  {
   "cell_type": "code",
   "execution_count": 151,
   "id": "cc9f50a7",
   "metadata": {
    "pycharm": {
     "name": "#%%\n"
    }
   },
   "outputs": [
    {
     "name": "stdout",
     "output_type": "stream",
     "text": [
      "0\n",
      "[10]\n"
     ]
    }
   ],
   "source": [
    "#Q: what will happen?\n",
    "print(0 and NEVER_EXISTED_VARIABLE)\n",
    "print([10] or NEVER_EXISTED_VARIABLE)"
   ]
  },
  {
   "cell_type": "code",
   "execution_count": 152,
   "id": "75b7547c",
   "metadata": {
    "pycharm": {
     "name": "#%%\n"
    }
   },
   "outputs": [
    {
     "ename": "NameError",
     "evalue": "name 'NEVER_EXISTED_VARIABLE' is not defined",
     "output_type": "error",
     "traceback": [
      "\u001b[0;31m---------------------------------------------------------------------------\u001b[0m",
      "\u001b[0;31mNameError\u001b[0m                                 Traceback (most recent call last)",
      "Cell \u001b[0;32mIn[152], line 1\u001b[0m\n\u001b[0;32m----> 1\u001b[0m \u001b[38;5;28mprint\u001b[39m(\u001b[38;5;241m10\u001b[39m \u001b[38;5;129;01mand\u001b[39;00m \u001b[43mNEVER_EXISTED_VARIABLE\u001b[49m)\n",
      "\u001b[0;31mNameError\u001b[0m: name 'NEVER_EXISTED_VARIABLE' is not defined"
     ]
    }
   ],
   "source": [
    "print(10 and NEVER_EXISTED_VARIABLE)"
   ]
  },
  {
   "cell_type": "code",
   "execution_count": 153,
   "id": "e8fdda50",
   "metadata": {
    "pycharm": {
     "name": "#%%\n"
    }
   },
   "outputs": [
    {
     "data": {
      "text/plain": [
       "10"
      ]
     },
     "execution_count": 153,
     "metadata": {},
     "output_type": "execute_result"
    }
   ],
   "source": [
    "10 or print(\"lazy\")"
   ]
  },
  {
   "cell_type": "code",
   "execution_count": 154,
   "id": "92ffd304",
   "metadata": {
    "pycharm": {
     "name": "#%%\n"
    }
   },
   "outputs": [
    {
     "name": "stdout",
     "output_type": "stream",
     "text": [
      "start\n",
      "end\n"
     ]
    }
   ],
   "source": [
    "print(\"start\") or print(\"end\")"
   ]
  },
  {
   "cell_type": "code",
   "execution_count": null,
   "id": "a5d67ad9",
   "metadata": {},
   "outputs": [],
   "source": [
    "print(\"start\")"
   ]
  },
  {
   "cell_type": "markdown",
   "id": "39dbec55",
   "metadata": {
    "pycharm": {
     "name": "#%% md\n"
    },
    "slideshow": {
     "slide_type": "slide"
    }
   },
   "source": [
    "### None"
   ]
  },
  {
   "cell_type": "code",
   "execution_count": 155,
   "id": "4d569c71",
   "metadata": {
    "pycharm": {
     "name": "#%%\n"
    }
   },
   "outputs": [],
   "source": [
    "# None means the value is missing\n",
    "None"
   ]
  },
  {
   "cell_type": "code",
   "execution_count": 156,
   "id": "e56cd60b",
   "metadata": {
    "pycharm": {
     "name": "#%%\n"
    }
   },
   "outputs": [
    {
     "data": {
      "text/plain": [
       "int"
      ]
     },
     "execution_count": 156,
     "metadata": {},
     "output_type": "execute_result"
    }
   ],
   "source": [
    "type(_)  # sic! None is not stored to _ (because \"value is missing\")\n",
    "         # so _ contains one of previous values"
   ]
  },
  {
   "cell_type": "code",
   "execution_count": 157,
   "id": "89bdaf3a",
   "metadata": {
    "pycharm": {
     "name": "#%%\n"
    }
   },
   "outputs": [
    {
     "data": {
      "text/plain": [
       "NoneType"
      ]
     },
     "execution_count": 157,
     "metadata": {},
     "output_type": "execute_result"
    }
   ],
   "source": [
    "type(None)"
   ]
  },
  {
   "cell_type": "code",
   "execution_count": 158,
   "id": "8b9f8abe",
   "metadata": {
    "pycharm": {
     "name": "#%%\n"
    }
   },
   "outputs": [
    {
     "data": {
      "text/plain": [
       "(False, 'None')"
      ]
     },
     "execution_count": 158,
     "metadata": {},
     "output_type": "execute_result"
    }
   ],
   "source": [
    "bool(None), str(None)"
   ]
  },
  {
   "cell_type": "markdown",
   "id": "2f4031aa",
   "metadata": {
    "pycharm": {
     "name": "#%% md\n"
    },
    "slideshow": {
     "slide_type": "slide"
    }
   },
   "source": [
    "### None usage"
   ]
  },
  {
   "cell_type": "code",
   "execution_count": 159,
   "id": "8dba4159",
   "metadata": {
    "pycharm": {
     "name": "#%%\n"
    }
   },
   "outputs": [],
   "source": [
    "# Turning video on...\n",
    "\n",
    "is_working = False  # something is broken\n",
    "\n",
    "if is_working:\n",
    "    channel = 'Megasuper Channel'\n",
    "else:\n",
    "    channel = None "
   ]
  },
  {
   "cell_type": "code",
   "execution_count": 160,
   "id": "eaf7a4b2",
   "metadata": {
    "pycharm": {
     "name": "#%%\n"
    }
   },
   "outputs": [
    {
     "name": "stdout",
     "output_type": "stream",
     "text": [
      "I am print!\n",
      "value = None\n"
     ]
    }
   ],
   "source": [
    "value = print(\"I am print!\")  # print just prints objects, and returns None\n",
    "    \n",
    "print(\"value\", \"=\", value)"
   ]
  },
  {
   "cell_type": "markdown",
   "id": "a83a793a",
   "metadata": {
    "pycharm": {
     "name": "#%% md\n"
    },
    "slideshow": {
     "slide_type": "slide"
    }
   },
   "source": [
    "<div class=\"alert alert-danger\">\n",
    "<b>Аnti-pattern:</b> checking `== None` instead of `is None`\n",
    "</div>"
   ]
  },
  {
   "cell_type": "code",
   "execution_count": null,
   "id": "8fbadab9",
   "metadata": {
    "pycharm": {
     "name": "#%%\n"
    }
   },
   "outputs": [],
   "source": [
    "# print size of value, if value is not None\n",
    "\n",
    "value = None\n",
    "# value = \"Football\"\n",
    "# value = \"\"\n",
    "\n",
    "# Newbie\n",
    "if value != None:  # works for basic types, but \n",
    "                   # nonstandard objects could equal None,\n",
    "                   # not beeing None\n",
    "    print(len(value))\n",
    "\n",
    "# Newbie 2\n",
    "if value:  # empty list coerced to False \n",
    "    print(len(value))\n",
    "    \n",
    "# Expert\n",
    "if value is not None:  # is checks if value is the same object\n",
    "    print(len(value))"
   ]
  },
  {
   "cell_type": "markdown",
   "id": "0768ea06",
   "metadata": {
    "pycharm": {
     "name": "#%% md\n"
    },
    "slideshow": {
     "slide_type": "slide"
    }
   },
   "source": [
    "### Loops: for"
   ]
  },
  {
   "cell_type": "code",
   "execution_count": 161,
   "id": "e86f2806",
   "metadata": {
    "pycharm": {
     "name": "#%%\n"
    }
   },
   "outputs": [
    {
     "name": "stdout",
     "output_type": "stream",
     "text": [
      "1\n",
      "2\n",
      "3\n",
      "4\n",
      "5\n",
      "6\n",
      "7\n",
      "8\n",
      "9\n",
      "10\n"
     ]
    }
   ],
   "source": [
    "# print numbers from 1 to 10\n",
    "print(1)\n",
    "print(2)\n",
    "print(3)\n",
    "print(4)\n",
    "print(5)\n",
    "print(6)\n",
    "print(7)\n",
    "print(8)\n",
    "print(9)\n",
    "print(10)"
   ]
  },
  {
   "cell_type": "code",
   "execution_count": 162,
   "id": "34ba49df",
   "metadata": {
    "pycharm": {
     "name": "#%%\n"
    },
    "slideshow": {
     "slide_type": "slide"
    }
   },
   "outputs": [
    {
     "name": "stdout",
     "output_type": "stream",
     "text": [
      "1\n",
      "2\n",
      "3\n",
      "4\n",
      "5\n",
      "6\n",
      "7\n",
      "8\n",
      "9\n",
      "10\n"
     ]
    }
   ],
   "source": [
    "for n in [1, 2, 3, 4, 5, 6, 7, 8, 9, 10]:\n",
    "    print(n)"
   ]
  },
  {
   "cell_type": "code",
   "execution_count": 163,
   "id": "627ca93e",
   "metadata": {
    "pycharm": {
     "name": "#%%\n"
    },
    "slideshow": {
     "slide_type": "slide"
    }
   },
   "outputs": [
    {
     "name": "stdout",
     "output_type": "stream",
     "text": [
      "Letter A\n",
      "Letter B\n",
      "Letter C\n",
      "Letter D\n",
      "Letter E\n"
     ]
    }
   ],
   "source": [
    "for letter in \"ABCDE\":\n",
    "    print(\"Letter\", letter)"
   ]
  },
  {
   "cell_type": "code",
   "execution_count": 164,
   "id": "90fc8723",
   "metadata": {
    "pycharm": {
     "name": "#%%\n"
    }
   },
   "outputs": [
    {
     "name": "stdout",
     "output_type": "stream",
     "text": [
      "<class 'int'>\n",
      "10.1\n",
      "True\n",
      "None\n"
     ]
    }
   ],
   "source": [
    "for obj in (int, 10.1, True, None):\n",
    "    print(obj)"
   ]
  },
  {
   "cell_type": "code",
   "execution_count": 165,
   "id": "a6a3db74",
   "metadata": {},
   "outputs": [
    {
     "name": "stdout",
     "output_type": "stream",
     "text": [
      "a\n",
      "b\n"
     ]
    }
   ],
   "source": [
    "for k in {\"a\": 1, \"b\": 2}:\n",
    "    print(k)"
   ]
  },
  {
   "cell_type": "code",
   "execution_count": 166,
   "id": "b23978b0",
   "metadata": {},
   "outputs": [
    {
     "name": "stdout",
     "output_type": "stream",
     "text": [
      "a 1\n",
      "b 2\n"
     ]
    }
   ],
   "source": [
    "d = {\"a\": 1, \"b\": 2}\n",
    "for k, v in d.items():\n",
    "    print(k ,v)"
   ]
  },
  {
   "cell_type": "code",
   "execution_count": null,
   "id": "f409bdc5",
   "metadata": {
    "pycharm": {
     "name": "#%%\n"
    },
    "slideshow": {
     "slide_type": "slide"
    }
   },
   "outputs": [],
   "source": [
    "# print numbers 1 to 1000000\n",
    "\n",
    "for n in [1, 2, 3, ]:  # too long to type...\n",
    "    print(n)"
   ]
  },
  {
   "cell_type": "markdown",
   "id": "87fc6fbc",
   "metadata": {
    "pycharm": {
     "name": "#%% md\n"
    },
    "slideshow": {
     "slide_type": "slide"
    }
   },
   "source": [
    "### range"
   ]
  },
  {
   "cell_type": "code",
   "execution_count": 167,
   "id": "d55531c4",
   "metadata": {
    "pycharm": {
     "name": "#%%\n"
    }
   },
   "outputs": [],
   "source": [
    "numbers = range(10)"
   ]
  },
  {
   "cell_type": "code",
   "execution_count": 168,
   "id": "c9c63412",
   "metadata": {
    "pycharm": {
     "name": "#%%\n"
    }
   },
   "outputs": [
    {
     "data": {
      "text/plain": [
       "range"
      ]
     },
     "execution_count": 168,
     "metadata": {},
     "output_type": "execute_result"
    }
   ],
   "source": [
    "type(numbers)"
   ]
  },
  {
   "cell_type": "code",
   "execution_count": 169,
   "id": "197bb6d6",
   "metadata": {
    "pycharm": {
     "name": "#%%\n"
    }
   },
   "outputs": [
    {
     "data": {
      "text/plain": [
       "(0, 9)"
      ]
     },
     "execution_count": 169,
     "metadata": {},
     "output_type": "execute_result"
    }
   ],
   "source": [
    "numbers[0], numbers[-1]"
   ]
  },
  {
   "cell_type": "code",
   "execution_count": null,
   "id": "6c3a67da",
   "metadata": {
    "pycharm": {
     "name": "#%%\n"
    }
   },
   "outputs": [],
   "source": [
    "reversed_numbers = numbers[::-1]\n",
    "reversed_numbers"
   ]
  },
  {
   "cell_type": "code",
   "execution_count": null,
   "id": "e790b365",
   "metadata": {
    "pycharm": {
     "name": "#%%\n"
    },
    "slideshow": {
     "slide_type": "slide"
    }
   },
   "outputs": [],
   "source": [
    "list(range(10))"
   ]
  },
  {
   "cell_type": "code",
   "execution_count": null,
   "id": "7b2c2c8b",
   "metadata": {
    "pycharm": {
     "name": "#%%\n"
    }
   },
   "outputs": [],
   "source": [
    "list(range(4, 14))  # half-open interval [4, 14)"
   ]
  },
  {
   "cell_type": "code",
   "execution_count": null,
   "id": "1614641d",
   "metadata": {
    "pycharm": {
     "name": "#%%\n"
    }
   },
   "outputs": [],
   "source": [
    "list(range(4, 14, 3))"
   ]
  },
  {
   "cell_type": "code",
   "execution_count": null,
   "id": "f22a6ce2",
   "metadata": {
    "pycharm": {
     "name": "#%%\n"
    }
   },
   "outputs": [],
   "source": [
    "list(range(14, 4, -2))"
   ]
  },
  {
   "cell_type": "code",
   "execution_count": null,
   "id": "a498800d",
   "metadata": {
    "pycharm": {
     "name": "#%%\n"
    }
   },
   "outputs": [],
   "source": [
    "range(10**100)  # does not fit in memory, but range can handle it"
   ]
  },
  {
   "cell_type": "code",
   "execution_count": null,
   "id": "3f522cb4",
   "metadata": {
    "pycharm": {
     "name": "#%%\n"
    },
    "slideshow": {
     "slide_type": "-"
    }
   },
   "outputs": [],
   "source": [
    "range('a', 'f', 2)  # Q: will it work?"
   ]
  },
  {
   "cell_type": "markdown",
   "id": "0e7f730b",
   "metadata": {
    "pycharm": {
     "name": "#%% md\n"
    },
    "slideshow": {
     "slide_type": "slide"
    }
   },
   "source": [
    "### Loops: for"
   ]
  },
  {
   "cell_type": "code",
   "execution_count": 170,
   "id": "ea394d46",
   "metadata": {
    "pycharm": {
     "name": "#%%\n"
    },
    "slideshow": {
     "slide_type": "-"
    }
   },
   "outputs": [],
   "source": [
    "# Print numbers from 0 to 1000000\n",
    "\n",
    "for n in range(1000000):\n",
    "    # print(n)  # закомментировано, чтоб случайно не напечатать и не подвесить jupyter ;]\n",
    "    pass"
   ]
  },
  {
   "cell_type": "code",
   "execution_count": 171,
   "id": "a045dfd3",
   "metadata": {
    "pycharm": {
     "name": "#%%\n"
    },
    "slideshow": {
     "slide_type": "slide"
    }
   },
   "outputs": [
    {
     "name": "stdout",
     "output_type": "stream",
     "text": [
      "a b c d e f g h i j k l m n o p q r s t u v w x y z \n",
      "z y x w v u t s r q p o n m l k j i h g f e d c b a "
     ]
    }
   ],
   "source": [
    "# print alphabet in direct and reversed orders\n",
    "alphabet = 'abcdefghijklmnopqrstuvwxyz'\n",
    "for letter in alphabet:\n",
    "    print(letter, end=' ')\n",
    "    \n",
    "print()\n",
    "    \n",
    "for letter in alphabet[::-1]:\n",
    "    print(letter, end=' ')"
   ]
  },
  {
   "cell_type": "markdown",
   "id": "f3121500",
   "metadata": {
    "pycharm": {
     "name": "#%% md\n"
    },
    "slideshow": {
     "slide_type": "slide"
    }
   },
   "source": [
    "<div class=\"alert alert-danger\">\n",
    "<b>Anti-pattern:</b> [::-1] is read poorly. It's better to use reversed\n",
    "</div>"
   ]
  },
  {
   "cell_type": "code",
   "execution_count": 172,
   "id": "9a0e3ad8",
   "metadata": {
    "pycharm": {
     "name": "#%%\n"
    }
   },
   "outputs": [
    {
     "data": {
      "text/plain": [
       "<reversed at 0x10e1cda20>"
      ]
     },
     "execution_count": 172,
     "metadata": {},
     "output_type": "execute_result"
    }
   ],
   "source": [
    "reversed(alphabet)"
   ]
  },
  {
   "cell_type": "code",
   "execution_count": 173,
   "id": "75223b0c",
   "metadata": {
    "pycharm": {
     "name": "#%%\n"
    }
   },
   "outputs": [
    {
     "name": "stdout",
     "output_type": "stream",
     "text": [
      "z y x w v u t s r q p o n m l k j i h g f e d c b a "
     ]
    }
   ],
   "source": [
    "for letter in reversed(alphabet):\n",
    "    print(letter, end=' ')"
   ]
  },
  {
   "cell_type": "code",
   "execution_count": 174,
   "id": "a017c6c4",
   "metadata": {
    "pycharm": {
     "name": "#%%\n"
    }
   },
   "outputs": [
    {
     "name": "stdout",
     "output_type": "stream",
     "text": [
      "9 8 7 6 5 4 3 2 1 0 \n",
      "9 8 7 6 5 4 3 2 1 0 "
     ]
    }
   ],
   "source": [
    "for value in range(9, -1, -1):\n",
    "    print(value, end=' ')\n",
    "\n",
    "print()\n",
    "\n",
    "for value in reversed(range(10)):\n",
    "    print(value, end=' ')"
   ]
  },
  {
   "cell_type": "markdown",
   "id": "18e78b35",
   "metadata": {},
   "source": [
    "**Exersice 0.** Write five versions of reversing list program."
   ]
  },
  {
   "cell_type": "code",
   "execution_count": null,
   "id": "89e7ddd5",
   "metadata": {},
   "outputs": [],
   "source": [
    "def reverse_iterative(lst: list[int]) -> list[int]:\n",
    "    \"\"\"\n",
    "    Return reversed list. You can use only iteration\n",
    "    :param lst: input list\n",
    "    :return: reversed list\n",
    "    \"\"\"\n",
    "    # lst = [1, 5, 7, 8, -54] -> [-54, 8, 7, 5, 1]\n",
    "    result = list()\n",
    "    for i in range(len(lst)):\n",
    "        result.append(lst[len(lst) - i - 1])\n",
    "    return result\n",
    "\n",
    "def reverse_inplace_iterative(lst: list[int]) -> None:\n",
    "    \"\"\"\n",
    "    Revert list inplace. You can use only iteration\n",
    "    :param lst: input list\n",
    "    :return: None\n",
    "    \"\"\"\n",
    "    # YOUR CODE HERE\n",
    "\n",
    "\n",
    "def reverse_inplace(lst: list[int]) -> None:\n",
    "    \"\"\"\n",
    "    Revert list inplace with reverse method\n",
    "    :param lst: input list\n",
    "    :return: None\n",
    "    \"\"\"\n",
    "    # YOUR CODE HERE\n",
    "\n",
    "\n",
    "def reverse_reversed(lst: list[int]) -> list[int]:\n",
    "    \"\"\"\n",
    "    Revert list with `reversed`\n",
    "    :param lst: input list\n",
    "    :return: reversed list\n",
    "    \"\"\"\n",
    "    # YOUR CODE HERE\n",
    "\n",
    "def reverse_slice(lst: list[int]) -> list[int]:\n",
    "    \"\"\"\n",
    "    Revert list with slicing\n",
    "    :param lst: input list\n",
    "    :return: reversed list\n",
    "    \"\"\"\n",
    "    # YOUR CODE HERE"
   ]
  },
  {
   "cell_type": "code",
   "execution_count": null,
   "id": "ec534fdd",
   "metadata": {},
   "outputs": [],
   "source": [
    "reverse_iterative([1, 5, 7, 8, -54])"
   ]
  },
  {
   "cell_type": "code",
   "execution_count": null,
   "id": "30fb2637",
   "metadata": {},
   "outputs": [],
   "source": [
    "reverse_slice([1, 5, 7, 8, -54])"
   ]
  },
  {
   "cell_type": "markdown",
   "id": "1b2168c1",
   "metadata": {},
   "source": [
    "**Excercise 1.** The legendary [FizzBuzz](http://wiki.c2.com/?FizzBuzzTest) (if you think that it is too easy, look [here](https://habr.com/ru/post/540136/))."
   ]
  },
  {
   "cell_type": "code",
   "execution_count": null,
   "id": "ae997e8f",
   "metadata": {},
   "outputs": [],
   "source": [
    "def FizzBuzz(n):\n",
    "    \"\"\"\n",
    "    Prints numbers from 1 to n.\n",
    "    But for the multiples of three print 'Fizz' instead of the number \n",
    "    and for the multiples of five print 'Buzz'.\n",
    "    For numbers which are multiples of both three and five print 'FizzBuzz'.\n",
    "    \"\"\"\n",
    "    # YOUR CODE HERE"
   ]
  },
  {
   "cell_type": "code",
   "execution_count": null,
   "id": "484196ac",
   "metadata": {},
   "outputs": [],
   "source": [
    "FizzBuzz(5)"
   ]
  },
  {
   "cell_type": "code",
   "execution_count": null,
   "id": "838258fa",
   "metadata": {},
   "outputs": [],
   "source": [
    "FizzBuzz(15)"
   ]
  },
  {
   "cell_type": "markdown",
   "id": "1b856149",
   "metadata": {
    "pycharm": {
     "name": "#%% md\n"
    },
    "slideshow": {
     "slide_type": "slide"
    }
   },
   "source": [
    "### Loops: while"
   ]
  },
  {
   "cell_type": "code",
   "execution_count": 175,
   "id": "e0d21df0",
   "metadata": {
    "pycharm": {
     "name": "#%%\n"
    },
    "slideshow": {
     "slide_type": "slide"
    }
   },
   "outputs": [
    {
     "name": "stdout",
     "output_type": "stream",
     "text": [
      "[0.0, 0.0, 0.0, 1.2, 1.44]\n",
      "[0.0, 0.0, 0.0, 1.2, 1.44, 2.0736]\n",
      "[0.0, 0.0, 0.0, 1.2, 1.44, 2.0736, 4.299816959999999]\n",
      "[0.0, 0.0, 0.0, 1.2, 1.44, 2.0736, 4.299816959999999, 18.488425889503635]\n"
     ]
    }
   ],
   "source": [
    "data = [.0, .0, .0, 1.2]\n",
    "\n",
    "while len(data) > data[-1]:\n",
    "    last = data[-1]\n",
    "    data.append(last * last)\n",
    "    \n",
    "    print(data)"
   ]
  },
  {
   "cell_type": "code",
   "execution_count": 176,
   "id": "744f9675",
   "metadata": {},
   "outputs": [
    {
     "data": {
      "text/plain": [
       "110"
      ]
     },
     "execution_count": 176,
     "metadata": {},
     "output_type": "execute_result"
    }
   ],
   "source": [
    "def gcd(a, b):\n",
    "    # Euclid's algorithm\n",
    "    while a > 0:\n",
    "        if a > b:\n",
    "            a, b = b, a\n",
    "        a, b = b % a, a\n",
    "    return b\n",
    "\n",
    "gcd(10010, 1100)"
   ]
  },
  {
   "cell_type": "markdown",
   "id": "82866a75",
   "metadata": {
    "pycharm": {
     "name": "#%% md\n"
    },
    "slideshow": {
     "slide_type": "slide"
    }
   },
   "source": [
    "<div class=\"alert alert-info\">\n",
    "    <b>Advice:</b> use <b>for</b> when elements are handled sequentially and independently\n",
    "</div>"
   ]
  },
  {
   "cell_type": "code",
   "execution_count": null,
   "id": "b0aa3219",
   "metadata": {
    "pycharm": {
     "name": "#%%\n"
    }
   },
   "outputs": [],
   "source": [
    "data = [10, 20, 30, 40]\n",
    "\n",
    "print(\"Print every element in the list\")\n",
    "\n",
    "for value in data:\n",
    "    print(value, end=', ')\n",
    "\n",
    "print()\n",
    "print(\"For every element in the list print: (index, element)\")\n",
    "\n",
    "for i, value in enumerate(data):\n",
    "    # enumerate maps data objects to the tuple (index, object)\n",
    "    print(i, value, end=', ')\n",
    "\n",
    "print()\n",
    "print(\"Print index every element in the list\")\n",
    "\n",
    "for i in range(len(data)):\n",
    "    print(i, end=', ')"
   ]
  },
  {
   "cell_type": "markdown",
   "id": "69348eb1",
   "metadata": {
    "pycharm": {
     "name": "#%% md\n"
    },
    "slideshow": {
     "slide_type": "slide"
    }
   },
   "source": [
    "<div class=\"alert alert-danger\">\n",
    "<b>Anti-pattern:</b> alter the object being iterated by in for loop\n",
    "</div>"
   ]
  },
  {
   "cell_type": "code",
   "execution_count": null,
   "id": "f6341c2d",
   "metadata": {
    "pycharm": {
     "name": "#%%\n"
    }
   },
   "outputs": [],
   "source": [
    "data = [0,1,2,3,4,5,6,7,8,9,10]\n",
    "\n",
    "for value in data:\n",
    "    print(value, end=', ')\n",
    "    data.pop(0)  # delete the first element"
   ]
  },
  {
   "cell_type": "markdown",
   "id": "3efd1703",
   "metadata": {
    "pycharm": {
     "name": "#%% md\n"
    },
    "slideshow": {
     "slide_type": "slide"
    }
   },
   "source": [
    "<div class=\"alert alert-info\">\n",
    "    <b>Рекомендация:</b> use <b>while</b> if the list changes at each iteration, or if the number of iterations is unpredictible\n",
    "</div>"
   ]
  },
  {
   "cell_type": "code",
   "execution_count": null,
   "id": "2ca51c85",
   "metadata": {
    "pycharm": {
     "name": "#%%\n"
    }
   },
   "outputs": [],
   "source": [
    "data = [0,1,2,3,4,5,6,7,8,9,10]\n",
    "\n",
    "while data:\n",
    "    value = data.pop(0)\n",
    "    print(value, end=', ')"
   ]
  },
  {
   "cell_type": "markdown",
   "id": "782d0128",
   "metadata": {},
   "source": [
    "**Excercise 2.** [Collatz conjecture](https://en.wikipedia.org/wiki/Collatz_conjecture) states that for any $n \\in \\mathbb N$ the iterative calculation of the function\n",
    "$$\n",
    "    f(n) = \\begin{cases}\n",
    "        \\frac n2,& n \\text{ is even,}\\\\\n",
    "        3n+1, & n \\text{ is odd.}\n",
    "    \\end{cases}\n",
    "$$\n",
    "finally reaches $1$. For example:\n",
    "* $f(2) = 1$ (one iteration);\n",
    "* $f(3) = 10$, $f(10) = 5$, $f(5) = 16$, $f(16) = 8$, $f(8) = 4$, $f(4) = 2$, $f(2) = 1$ (seven iterations); \n",
    "* $f(4) = 2$, $f(2) = 1$ (two iterations). \n",
    "\n",
    "Calculate the number of steps for n to reach 1."
   ]
  },
  {
   "cell_type": "code",
   "execution_count": null,
   "id": "2a9330e4",
   "metadata": {},
   "outputs": [],
   "source": [
    "def collatz_steps(n):\n",
    "    # YOUR CODE HERE"
   ]
  },
  {
   "cell_type": "code",
   "execution_count": null,
   "id": "b33431ab",
   "metadata": {},
   "outputs": [],
   "source": [
    "# run this cell to test your solution\n",
    "\n",
    "ground_truth = {1: 0,\n",
    "                2: 1,\n",
    "                3: 7,\n",
    "                4: 2,\n",
    "                5: 5,\n",
    "                6: 8,\n",
    "                7: 16,\n",
    "                8: 3,\n",
    "                9: 19,\n",
    "                27: 111,\n",
    "                257: 122,\n",
    "                1000: 111,\n",
    "                100500: 66\n",
    "               }\n",
    "\n",
    "for n, steps in ground_truth.items():\n",
    "    got_steps = collatz_steps(n)\n",
    "    assert got_steps == steps, f\"Expected {steps}, got: {got_steps}\""
   ]
  },
  {
   "cell_type": "markdown",
   "id": "8455860e",
   "metadata": {
    "pycharm": {
     "name": "#%% md\n"
    },
    "slideshow": {
     "slide_type": "slide"
    }
   },
   "source": [
    "### Loops: break, continue, else"
   ]
  },
  {
   "cell_type": "markdown",
   "id": "3de4c070",
   "metadata": {
    "pycharm": {
     "name": "#%% md\n"
    }
   },
   "source": [
    "#### contnue"
   ]
  },
  {
   "cell_type": "code",
   "execution_count": null,
   "id": "9e99e5a8",
   "metadata": {
    "pycharm": {
     "name": "#%%\n"
    }
   },
   "outputs": [],
   "source": [
    "# continue stops the execution of the current iteration and goes to the next one"
   ]
  },
  {
   "cell_type": "code",
   "execution_count": null,
   "id": "7b3ddab5",
   "metadata": {
    "pycharm": {
     "name": "#%%\n"
    }
   },
   "outputs": [],
   "source": [
    "skip = 7\n",
    "\n",
    "for n in range(10):\n",
    "    if n == skip:\n",
    "        print('*', end=', ')\n",
    "        continue\n",
    "    print(n, end=', ')"
   ]
  },
  {
   "cell_type": "code",
   "execution_count": null,
   "id": "d6f82cd0",
   "metadata": {
    "pycharm": {
     "name": "#%%\n"
    }
   },
   "outputs": [],
   "source": [
    "data = [1, 2, 3, 4, 5, 6, 7]\n",
    "\n",
    "while data:\n",
    "    value = data.pop()  # remove the last element\n",
    "    if 2 <= len(data) <= 4:\n",
    "        continue\n",
    "    print(value, end=', ')"
   ]
  },
  {
   "cell_type": "markdown",
   "id": "b1975132",
   "metadata": {
    "pycharm": {
     "name": "#%% md\n"
    },
    "slideshow": {
     "slide_type": "slide"
    }
   },
   "source": [
    "#### break"
   ]
  },
  {
   "cell_type": "code",
   "execution_count": null,
   "id": "a105c4da",
   "metadata": {
    "pycharm": {
     "name": "#%%\n"
    }
   },
   "outputs": [],
   "source": [
    "# break interrupts the loop execution"
   ]
  },
  {
   "cell_type": "code",
   "execution_count": 177,
   "id": "ea600005",
   "metadata": {
    "pycharm": {
     "name": "#%%\n"
    }
   },
   "outputs": [
    {
     "name": "stdout",
     "output_type": "stream",
     "text": [
      "ERROR\n"
     ]
    }
   ],
   "source": [
    "# break interrupts the loop execution\n",
    "\n",
    "for natural in [1, 2, 3, 4, -1, 20]:\n",
    "    if natural < 0:\n",
    "        print(\"ERROR\")\n",
    "        break\n",
    "    "
   ]
  },
  {
   "cell_type": "code",
   "execution_count": null,
   "id": "c9a8d42d",
   "metadata": {
    "pycharm": {
     "name": "#%%\n"
    }
   },
   "outputs": [],
   "source": [
    "from datetime import datetime\n",
    "\n",
    "secret_number = 1 + datetime.now().microsecond % 100\n",
    "\n",
    "while True:\n",
    "    n = int(input(\"Enter your guess:\"))\n",
    "    if n == secret_number:\n",
    "        print(\"You win!\")\n",
    "        break\n",
    "    if n == 0:\n",
    "        print(\"The secret number was\", secret_number)\n",
    "        break"
   ]
  },
  {
   "cell_type": "markdown",
   "id": "adeeab3e",
   "metadata": {
    "pycharm": {
     "name": "#%% md\n"
    },
    "slideshow": {
     "slide_type": "slide"
    }
   },
   "source": [
    "#### else"
   ]
  },
  {
   "cell_type": "code",
   "execution_count": null,
   "id": "2fdc2764",
   "metadata": {
    "pycharm": {
     "name": "#%%\n"
    }
   },
   "outputs": [],
   "source": [
    "# if the loop was not finished by break then else-block executes"
   ]
  },
  {
   "cell_type": "code",
   "execution_count": null,
   "id": "446ea51d",
   "metadata": {
    "pycharm": {
     "name": "#%%\n"
    }
   },
   "outputs": [],
   "source": [
    "for line in ['Hello', 'World', 'Library']:\n",
    "    if len(line) > 7:\n",
    "        print(\"Found long line!\")\n",
    "        break\n",
    "else:\n",
    "    print(\"All lines are short\")"
   ]
  },
  {
   "cell_type": "markdown",
   "id": "3d9f8ffb",
   "metadata": {
    "pycharm": {
     "name": "#%% md\n"
    },
    "slideshow": {
     "slide_type": "slide"
    }
   },
   "source": [
    "## Built-ins"
   ]
  },
  {
   "cell_type": "code",
   "execution_count": 178,
   "id": "0c388fcc",
   "metadata": {
    "pycharm": {
     "name": "#%%\n"
    },
    "slideshow": {
     "slide_type": "slide"
    }
   },
   "outputs": [
    {
     "data": {
      "text/plain": [
       "['ArithmeticError',\n",
       " 'AssertionError',\n",
       " 'AttributeError',\n",
       " 'BaseException',\n",
       " 'BaseExceptionGroup',\n",
       " 'BlockingIOError',\n",
       " 'BrokenPipeError',\n",
       " 'BufferError',\n",
       " 'BytesWarning',\n",
       " 'ChildProcessError',\n",
       " 'ConnectionAbortedError',\n",
       " 'ConnectionError',\n",
       " 'ConnectionRefusedError',\n",
       " 'ConnectionResetError',\n",
       " 'DeprecationWarning',\n",
       " 'EOFError',\n",
       " 'Ellipsis',\n",
       " 'EncodingWarning',\n",
       " 'EnvironmentError',\n",
       " 'Exception',\n",
       " 'ExceptionGroup',\n",
       " 'False',\n",
       " 'FileExistsError',\n",
       " 'FileNotFoundError',\n",
       " 'FloatingPointError',\n",
       " 'FutureWarning',\n",
       " 'GeneratorExit',\n",
       " 'IOError',\n",
       " 'ImportError',\n",
       " 'ImportWarning',\n",
       " 'IndentationError',\n",
       " 'IndexError',\n",
       " 'InterruptedError',\n",
       " 'IsADirectoryError',\n",
       " 'KeyError',\n",
       " 'KeyboardInterrupt',\n",
       " 'LookupError',\n",
       " 'MemoryError',\n",
       " 'ModuleNotFoundError',\n",
       " 'NameError',\n",
       " 'None',\n",
       " 'NotADirectoryError',\n",
       " 'NotImplemented',\n",
       " 'NotImplementedError',\n",
       " 'OSError',\n",
       " 'OverflowError',\n",
       " 'PendingDeprecationWarning',\n",
       " 'PermissionError',\n",
       " 'ProcessLookupError',\n",
       " 'RecursionError',\n",
       " 'ReferenceError',\n",
       " 'ResourceWarning',\n",
       " 'RuntimeError',\n",
       " 'RuntimeWarning',\n",
       " 'StopAsyncIteration',\n",
       " 'StopIteration',\n",
       " 'SyntaxError',\n",
       " 'SyntaxWarning',\n",
       " 'SystemError',\n",
       " 'SystemExit',\n",
       " 'TabError',\n",
       " 'TimeoutError',\n",
       " 'True',\n",
       " 'TypeError',\n",
       " 'UnboundLocalError',\n",
       " 'UnicodeDecodeError',\n",
       " 'UnicodeEncodeError',\n",
       " 'UnicodeError',\n",
       " 'UnicodeTranslateError',\n",
       " 'UnicodeWarning',\n",
       " 'UserWarning',\n",
       " 'ValueError',\n",
       " 'Warning',\n",
       " 'ZeroDivisionError',\n",
       " '__IPYTHON__',\n",
       " '__build_class__',\n",
       " '__debug__',\n",
       " '__doc__',\n",
       " '__import__',\n",
       " '__loader__',\n",
       " '__name__',\n",
       " '__package__',\n",
       " '__spec__',\n",
       " 'abs',\n",
       " 'aiter',\n",
       " 'all',\n",
       " 'anext',\n",
       " 'any',\n",
       " 'ascii',\n",
       " 'bin',\n",
       " 'bool',\n",
       " 'breakpoint',\n",
       " 'bytearray',\n",
       " 'bytes',\n",
       " 'callable',\n",
       " 'chr',\n",
       " 'classmethod',\n",
       " 'compile',\n",
       " 'complex',\n",
       " 'copyright',\n",
       " 'credits',\n",
       " 'delattr',\n",
       " 'dict',\n",
       " 'dir',\n",
       " 'display',\n",
       " 'divmod',\n",
       " 'enumerate',\n",
       " 'eval',\n",
       " 'exec',\n",
       " 'execfile',\n",
       " 'filter',\n",
       " 'float',\n",
       " 'format',\n",
       " 'frozenset',\n",
       " 'get_ipython',\n",
       " 'getattr',\n",
       " 'globals',\n",
       " 'hasattr',\n",
       " 'hash',\n",
       " 'help',\n",
       " 'hex',\n",
       " 'id',\n",
       " 'input',\n",
       " 'int',\n",
       " 'isinstance',\n",
       " 'issubclass',\n",
       " 'iter',\n",
       " 'len',\n",
       " 'license',\n",
       " 'list',\n",
       " 'locals',\n",
       " 'map',\n",
       " 'max',\n",
       " 'memoryview',\n",
       " 'min',\n",
       " 'next',\n",
       " 'object',\n",
       " 'oct',\n",
       " 'open',\n",
       " 'ord',\n",
       " 'pow',\n",
       " 'print',\n",
       " 'property',\n",
       " 'range',\n",
       " 'repr',\n",
       " 'reversed',\n",
       " 'round',\n",
       " 'runfile',\n",
       " 'set',\n",
       " 'setattr',\n",
       " 'slice',\n",
       " 'sorted',\n",
       " 'staticmethod',\n",
       " 'str',\n",
       " 'sum',\n",
       " 'super',\n",
       " 'tuple',\n",
       " 'type',\n",
       " 'vars',\n",
       " 'zip']"
      ]
     },
     "execution_count": 178,
     "metadata": {},
     "output_type": "execute_result"
    }
   ],
   "source": [
    "dir(__builtins__)"
   ]
  },
  {
   "cell_type": "markdown",
   "id": "c77381a1",
   "metadata": {
    "pycharm": {
     "name": "#%% md\n"
    },
    "slideshow": {
     "slide_type": "slide"
    }
   },
   "source": [
    "<div class=\"alert alert-danger\">\n",
    "<b>Anti-pattern:</b> use builtins as names for variables\n",
    "</div>"
   ]
  },
  {
   "cell_type": "code",
   "execution_count": 179,
   "id": "a1405f6f",
   "metadata": {
    "pycharm": {
     "name": "#%%\n"
    },
    "slideshow": {
     "slide_type": "-"
    }
   },
   "outputs": [
    {
     "ename": "TypeError",
     "evalue": "'str' object is not callable",
     "output_type": "error",
     "traceback": [
      "\u001b[0;31m---------------------------------------------------------------------------\u001b[0m",
      "\u001b[0;31mTypeError\u001b[0m                                 Traceback (most recent call last)",
      "Cell \u001b[0;32mIn[179], line 3\u001b[0m\n\u001b[1;32m      1\u001b[0m \u001b[38;5;66;03m# Q: What will happen?\u001b[39;00m\n\u001b[1;32m      2\u001b[0m \u001b[38;5;28mstr\u001b[39m \u001b[38;5;241m=\u001b[39m \u001b[38;5;124m'\u001b[39m\u001b[38;5;124mhello\u001b[39m\u001b[38;5;124m'\u001b[39m\n\u001b[0;32m----> 3\u001b[0m \u001b[38;5;28;43mstr\u001b[39;49m\u001b[43m(\u001b[49m\u001b[38;5;241;43m1\u001b[39;49m\u001b[43m)\u001b[49m\n",
      "\u001b[0;31mTypeError\u001b[0m: 'str' object is not callable"
     ]
    }
   ],
   "source": [
    "# Q: What will happen?\n",
    "str = 'hello'\n",
    "str(1)"
   ]
  },
  {
   "cell_type": "code",
   "execution_count": 180,
   "id": "81e0ba06",
   "metadata": {
    "pycharm": {
     "name": "#%%\n"
    }
   },
   "outputs": [],
   "source": [
    "str = __builtins__.str  # Recovering"
   ]
  },
  {
   "cell_type": "code",
   "execution_count": null,
   "id": "29ad217e",
   "metadata": {
    "pycharm": {
     "name": "#%%\n"
    },
    "slideshow": {
     "slide_type": "slide"
    }
   },
   "outputs": [],
   "source": [
    "print, reversed, enumerate"
   ]
  },
  {
   "cell_type": "code",
   "execution_count": null,
   "id": "71311282",
   "metadata": {
    "pycharm": {
     "name": "#%%\n"
    }
   },
   "outputs": [],
   "source": [
    "# built-in functions\n",
    "min, max, sum, ..."
   ]
  },
  {
   "cell_type": "markdown",
   "id": "12ab2ad1",
   "metadata": {
    "pycharm": {
     "name": "#%% md\n"
    },
    "slideshow": {
     "slide_type": "slide"
    }
   },
   "source": [
    "<div class=\"alert alert-danger\">\n",
    "<b>Anti-pattern:</b> do not use built-ins for simple operations\n",
    "</div>"
   ]
  },
  {
   "cell_type": "code",
   "execution_count": null,
   "id": "2cef30bd",
   "metadata": {
    "pycharm": {
     "name": "#%%\n"
    }
   },
   "outputs": [],
   "source": [
    "data = [1, 2, 3, 4, 5]\n",
    "\n",
    "# Newbie\n",
    "total = 0\n",
    "for el in data:\n",
    "    total += el\n",
    "    \n",
    "# Expert\n",
    "total = sum(data)\n",
    "\n",
    "total"
   ]
  },
  {
   "cell_type": "code",
   "execution_count": null,
   "id": "1d9467d5",
   "metadata": {
    "pycharm": {
     "name": "#%%\n"
    },
    "slideshow": {
     "slide_type": "slide"
    }
   },
   "outputs": [],
   "source": [
    "data = [1, 2, 3, 4, 5]\n",
    "\n",
    "# Newbie\n",
    "\n",
    "min_value = None\n",
    "\n",
    "for el in data:\n",
    "    if min_value is None:\n",
    "        min_value = el\n",
    "    else:\n",
    "        if el < min_value:\n",
    "            min_value = el\n",
    "    \n",
    "# Expert\n",
    "min_value = min(data)"
   ]
  },
  {
   "cell_type": "code",
   "execution_count": null,
   "id": "fbbbaa1d",
   "metadata": {
    "pycharm": {
     "name": "#%%\n"
    },
    "slideshow": {
     "slide_type": "-"
    }
   },
   "outputs": [],
   "source": [
    "# Q: What's the value of this expression?\n",
    "max([])"
   ]
  },
  {
   "cell_type": "code",
   "execution_count": null,
   "id": "5a384c6e",
   "metadata": {
    "pycharm": {
     "name": "#%%\n"
    },
    "slideshow": {
     "slide_type": "slide"
    }
   },
   "outputs": [],
   "source": [
    "# newbie\n",
    "for value in [1, 2, 3, 4, 5]:\n",
    "    print(value, end=', ')\n",
    "\n",
    "print()\n",
    "\n",
    "# expert\n",
    "for value in range(1, 6):\n",
    "    print(value, end=', ')"
   ]
  },
  {
   "cell_type": "code",
   "execution_count": null,
   "id": "2da13193",
   "metadata": {
    "pycharm": {
     "name": "#%%\n"
    }
   },
   "outputs": [],
   "source": [
    "data = [1, 2, 3, 4, 5]\n",
    "\n",
    "# newbie\n",
    "for i in range(len(data)):\n",
    "    print(i, data[i], end=', ')\n",
    "\n",
    "print()\n",
    "    \n",
    "# expert\n",
    "for i, value in enumerate(data):\n",
    "    print(i, value, end=', ')"
   ]
  },
  {
   "cell_type": "code",
   "execution_count": null,
   "id": "311068ca",
   "metadata": {
    "pycharm": {
     "name": "#%%\n"
    }
   },
   "outputs": [],
   "source": [
    "data = [1, 2, 3, 4, 5]\n",
    "letters = ['a', 'b', 'c', 'd', 'e']\n",
    "\n",
    "# newbie\n",
    "for i in range(len(data)):\n",
    "    print(i, (data[i], letters[i]), end=', ')\n",
    "\n",
    "print()\n",
    "    \n",
    "# expert\n",
    "for i, value in enumerate(zip(data, letters)):\n",
    "    print(i, value, end=', ')"
   ]
  },
  {
   "cell_type": "code",
   "execution_count": null,
   "id": "d50c65e5",
   "metadata": {
    "pycharm": {
     "name": "#%%\n"
    },
    "slideshow": {
     "slide_type": "slide"
    }
   },
   "outputs": [],
   "source": [
    "math_vector_first = [1.0, -3.5, 4.1]\n",
    "math_vector_second = [7.0, -1.1, -1.4]\n",
    "#math_vector_sum = ? Using numpy is a better choice!\n",
    "\n",
    "math_vector_sum = []\n",
    "for element_first, element_second in zip(math_vector_first, math_vector_second):\n",
    "    # теперь на каждой итерации мы видим пару элементов и можем их сложить\n",
    "    math_vector_sum.append(\n",
    "        element_first + element_second\n",
    "    )\n",
    "    \n",
    "math_vector_sum"
   ]
  },
  {
   "cell_type": "markdown",
   "id": "d194bee5",
   "metadata": {},
   "source": [
    "### Sorting"
   ]
  },
  {
   "cell_type": "code",
   "execution_count": 181,
   "id": "bc8b8c37",
   "metadata": {},
   "outputs": [],
   "source": [
    "lst = [-1, 5, 7.34, 0.15, 2.5, -3]"
   ]
  },
  {
   "cell_type": "code",
   "execution_count": 182,
   "id": "9ff4af1d",
   "metadata": {},
   "outputs": [
    {
     "data": {
      "text/plain": [
       "[-3, -1, 0.15, 2.5, 5, 7.34]"
      ]
     },
     "execution_count": 182,
     "metadata": {},
     "output_type": "execute_result"
    }
   ],
   "source": [
    "sorted(lst)"
   ]
  },
  {
   "cell_type": "code",
   "execution_count": 183,
   "id": "9f4abad1",
   "metadata": {},
   "outputs": [
    {
     "data": {
      "text/plain": [
       "[7.34, 5, 2.5, 0.15, -1, -3]"
      ]
     },
     "execution_count": 183,
     "metadata": {},
     "output_type": "execute_result"
    }
   ],
   "source": [
    "sorted(lst, reverse=True)"
   ]
  },
  {
   "cell_type": "code",
   "execution_count": null,
   "id": "22141d04",
   "metadata": {},
   "outputs": [],
   "source": [
    "# make list of ints from nile.txt file, using list comprehension\n",
    "nile_lst = [int(s) for s in nile.split()]\n",
    "\n",
    "print(sorted(nile_lst))"
   ]
  },
  {
   "cell_type": "markdown",
   "id": "f736fa64",
   "metadata": {},
   "source": [
    "**Exercise 3**. The merging part of [Merge Sort](https://en.wikipedia.org/wiki/Merge_sort)."
   ]
  },
  {
   "cell_type": "code",
   "execution_count": null,
   "id": "cfe3684d",
   "metadata": {},
   "outputs": [],
   "source": [
    "def merge_iterative(lst_a: list[int], lst_b: list[int]) -> list[int]:\n",
    "    \"\"\"\n",
    "    Merge two sorted lists in one sorted list\n",
    "    :param lst_a: first sorted list\n",
    "    :param lst_b: second sorted list\n",
    "    :return: merged sorted list\n",
    "    \"\"\"\n",
    "    # YOUR CODE HERE\n",
    "    \n",
    "\n",
    "def merge_sorted(lst_a: list[int], lst_b: list[int]) -> list[int]:\n",
    "    \"\"\"\n",
    "    Merge two sorted lists in one sorted list using `sorted`\n",
    "    :param lst_a: first sorted list\n",
    "    :param lst_b: second sorted list\n",
    "    :return: merged sorted list\n",
    "    \"\"\"\n",
    "    # YOUR CODE HERE"
   ]
  },
  {
   "cell_type": "code",
   "execution_count": null,
   "id": "8e5c2253",
   "metadata": {},
   "outputs": [],
   "source": [
    "assert merge_sorted([],[]) == []\n",
    "assert merge_iterative([],[]) == []\n",
    "assert merge_sorted([1],[]) == [1]\n",
    "assert merge_iterative([1],[]) == [1]\n",
    "assert merge_sorted([],[1]) == [1]\n",
    "assert merge_iterative([],[1]) == [1]\n",
    "assert merge_sorted([1],[1]) == [1, 1]\n",
    "assert merge_iterative([1],[1]) == [1, 1]\n",
    "assert merge_sorted([2],[1]) == [1, 2]\n",
    "assert merge_iterative([2],[1]) == [1, 2]\n",
    "assert merge_sorted([1],[2]) == [1, 2]\n",
    "assert merge_iterative([1],[2]) == [1, 2]\n",
    "assert merge_sorted([1, 3],[2, 4]) == [1, 2, 3, 4]\n",
    "assert merge_iterative([1, 3],[2, 4]) == [1, 2, 3, 4]\n",
    "assert merge_sorted([1, 3, 3, 4],[2, 3,  4]) == [1, 2, 3, 3, 3, 4, 4]\n",
    "assert merge_iterative([1, 3, 3, 4],[2, 3, 4]) == [1, 2, 3, 3, 3, 4, 4]"
   ]
  },
  {
   "cell_type": "markdown",
   "id": "d0c7a94d",
   "metadata": {},
   "source": [
    "**Exercise 4.** Using [binary search](https://en.wikipedia.org/wiki/Binary_search_algorithm), determine wether a value is present in a sorted list."
   ]
  },
  {
   "cell_type": "code",
   "execution_count": 1,
   "id": "9a6d54c2",
   "metadata": {},
   "outputs": [],
   "source": [
    "def find_value(l: list[int], v: int):\n",
    "    \"\"\"\n",
    "        Returns True iff the value v is present in the increasingly sorted list l.\n",
    "    \"\"\"\n",
    "    # YOUR CODE HERE    "
   ]
  },
  {
   "cell_type": "code",
   "execution_count": null,
   "id": "3d33e6cc",
   "metadata": {},
   "outputs": [],
   "source": [
    "# Run this and the next cell to test your solution\n",
    "import copy\n",
    "import dataclasses\n",
    "\n",
    "@dataclasses.dataclass\n",
    "class Case:\n",
    "    nums: list[int] | range\n",
    "    value: int\n",
    "    result: bool\n",
    "    name: str | None = None\n",
    "\n",
    "    def __str__(self) -> str:\n",
    "        if self.name is not None:\n",
    "            return self.name\n",
    "        return 'find_{}_in_{}'.format(self.value, self.nums)\n",
    "\n",
    "BIG_VALUE = 10**15\n",
    "\n",
    "TEST_CASES = [\n",
    "    Case(nums=[], value=2, result=False),\n",
    "    Case(nums=[1], value=2, result=False),\n",
    "    Case(nums=[1, 3, 5], value=0, result=False),\n",
    "    Case(nums=[1, 3, 5], value=2, result=False),\n",
    "    Case(nums=[1, 3, 5], value=4, result=False),\n",
    "    Case(nums=[1, 3, 5], value=6, result=False),\n",
    "    Case(nums=[1, 3, 5], value=1, result=True),\n",
    "    Case(nums=[1, 3, 5], value=3, result=True),\n",
    "    Case(nums=[1, 3, 5], value=5, result=True),\n",
    "    Case(nums=[3], value=3, result=True),\n",
    "    Case(nums=[1, 3], value=1, result=True),\n",
    "    Case(nums=[1, 3], value=3, result=True),\n",
    "    Case(nums=[1, 3, 5, 7], value=0, result=False),\n",
    "    Case(nums=[1, 3, 5, 7], value=2, result=False),\n",
    "    Case(nums=[1, 3, 5, 7], value=4, result=False),\n",
    "    Case(nums=[1, 3, 5, 7], value=6, result=False),\n",
    "    Case(nums=[1, 3, 5, 7], value=8, result=False),\n",
    "    Case(nums=[1, 3, 5, 7], value=1, result=True),\n",
    "    Case(nums=[1, 3, 5, 7], value=3, result=True),\n",
    "    Case(nums=[1, 3, 5, 7], value=5, result=True),\n",
    "    Case(nums=[1, 3, 5, 7], value=7, result=True),\n",
    "    Case(nums=[1, 3, 5, 7, 9], value=0, result=False),\n",
    "    Case(nums=[1, 3, 5, 7, 9], value=2, result=False),\n",
    "    Case(nums=[1, 3, 5, 7, 9], value=4, result=False),\n",
    "    Case(nums=[1, 3, 5, 7, 9], value=6, result=False),\n",
    "    Case(nums=[1, 3, 5, 7, 9], value=8, result=False),\n",
    "    Case(nums=[1, 3, 5, 7, 9], value=10, result=False),\n",
    "    Case(nums=[1, 3, 5, 7, 9], value=1, result=True),\n",
    "    Case(nums=[1, 3, 5, 7, 9], value=3, result=True),\n",
    "    Case(nums=[1, 3, 5, 7, 9], value=5, result=True),\n",
    "    Case(nums=[1, 3, 5, 7, 9], value=7, result=True),\n",
    "    Case(nums=[1, 3, 5, 7, 9], value=9, result=True),\n",
    "    Case(nums=[1, 5, 5, 5, 9], value=1, result=True),\n",
    "    Case(nums=[1, 5, 5, 5, 9], value=5, result=True),\n",
    "    Case(nums=[1, 5, 5, 5, 9], value=9, result=True),\n",
    "    Case(nums=[1, 5, 5, 5, 9], value=7, result=False),\n",
    "    Case(nums=range(0, BIG_VALUE, 2), value=BIG_VALUE - 2, result=True, name=\"max_in_big_range\"),\n",
    "    Case(nums=range(0, BIG_VALUE, 2), value=0, result=True, name=\"min_in_big_range\"),\n",
    "    Case(nums=range(0, BIG_VALUE, 2), value=BIG_VALUE, result=False, name=\"greater_than_max_in_big_range\"),\n",
    "    Case(nums=range(0, BIG_VALUE, 2), value=-1, result=False, name=\"less_than_min_in_big_range\"),\n",
    "    Case(nums=range(0, BIG_VALUE, 2), value=BIG_VALUE // 2, result=True, name=\"middle_in_big_range\"),\n",
    "    Case(nums=range(0, BIG_VALUE, 2), value=BIG_VALUE // 2 + 1, result=False, name=\"middle_not_exists_in_big_range\"),\n",
    "]\n",
    "\n",
    "def test_find_value(t: Case) -> None:\n",
    "    nums_copy = copy.deepcopy(t.nums)\n",
    "\n",
    "    answer = find_value(nums_copy, t.value)\n",
    "    assert answer == t.result, str(t)\n",
    "\n",
    "    assert t.nums == nums_copy, \"You shouldn't change inputs\""
   ]
  },
  {
   "cell_type": "code",
   "execution_count": null,
   "id": "6c949218",
   "metadata": {},
   "outputs": [],
   "source": [
    "%%time\n",
    "for case in TEST_CASES:\n",
    "    test_find_value(case)"
   ]
  },
  {
   "cell_type": "markdown",
   "id": "2c9938e1",
   "metadata": {
    "pycharm": {
     "name": "#%% md\n"
    },
    "slideshow": {
     "slide_type": "slide"
    }
   },
   "source": [
    "### Functions"
   ]
  },
  {
   "cell_type": "code",
   "execution_count": null,
   "id": "a3bc8684",
   "metadata": {
    "pycharm": {
     "name": "#%%\n"
    }
   },
   "outputs": [],
   "source": [
    "print(\"Welcome to Moscow!\")\n",
    "print(\"Welcome to Samara!\")\n",
    "print(\"Welcome to Novosibirsk!\")\n",
    "print(\"Welcome to Sochi!\")\n",
    "print(\"Welcome to Khabarovsk!\")"
   ]
  },
  {
   "cell_type": "code",
   "execution_count": null,
   "id": "b14f18a9",
   "metadata": {
    "pycharm": {
     "name": "#%%\n"
    }
   },
   "outputs": [],
   "source": [
    "# can write as a loop\n",
    "for city in ['Moscow', 'Samara', 'Novosibirsk', 'Sochi', 'Khabarovsk']:\n",
    "    print(\"Welcome to \", city, '!', sep='')"
   ]
  },
  {
   "cell_type": "code",
   "execution_count": null,
   "id": "e2eba316",
   "metadata": {
    "pycharm": {
     "name": "#%%\n"
    }
   },
   "outputs": [],
   "source": [
    "# and wrap into a function\n",
    "def print_wellcome(location):\n",
    "    print(\"Welcome to \", city, '!', sep='')\n",
    "\n",
    "for city in ['Moscow', 'Samara', 'Novosibirsk', 'Sochi', 'Khabarovsk']:\n",
    "    print_wellcome(city)"
   ]
  },
  {
   "cell_type": "markdown",
   "id": "d581391c",
   "metadata": {
    "pycharm": {
     "name": "#%% md\n"
    },
    "slideshow": {
     "slide_type": "slide"
    }
   },
   "source": [
    "### Typing"
   ]
  },
  {
   "cell_type": "code",
   "execution_count": null,
   "id": "c62b4887",
   "metadata": {
    "pycharm": {
     "name": "#%%\n"
    }
   },
   "outputs": [],
   "source": [
    "import typing as tp\n",
    "\n",
    "\n",
    "def f(\n",
    "    int_value: int,\n",
    "    float_value: float,\n",
    "    str_value: str,\n",
    "    list_value: list[str],\n",
    "    tuple_value: tuple[str, str],\n",
    "    optional_str_value: str | None,\n",
    "    str_or_int_value: str | int,\n",
    "    type_value: type,\n",
    "    any_value: tp.Any\n",
    ") -> None:\n",
    "    pass\n",
    "\n",
    "f(\n",
    "    int_value=10, \n",
    "    float_value=10.1, \n",
    "    str_value=str, \n",
    "    list_value=[\"a\", \"b\"],\n",
    "    tuple_value=(\"a\", \"b\"),\n",
    "    optional_str_value=\"hello\",  # or None\n",
    "    str_or_int_value=\"world\",  # or 1\n",
    "    type_value=int,\n",
    "    any_value=12345  # or any other type\n",
    ")\n"
   ]
  },
  {
   "cell_type": "markdown",
   "id": "f185b11b",
   "metadata": {
    "pycharm": {
     "name": "#%% md\n"
    },
    "slideshow": {
     "slide_type": "slide"
    }
   },
   "source": [
    "<div class=\"alert alert-danger\">\n",
    "<b>Anti-pattern:</b> not using type hints\n",
    "</div>"
   ]
  },
  {
   "cell_type": "code",
   "execution_count": null,
   "id": "8a6ba216",
   "metadata": {
    "pycharm": {
     "name": "#%%\n"
    },
    "slideshow": {
     "slide_type": "-"
    }
   },
   "outputs": [],
   "source": [
    "# Newbie\n",
    "def ctr(clicks, shows):\n",
    "    return clicks / shows\n",
    "    \n",
    "# Expert\n",
    "def ctr(clicks: int, shows: int) -> float:\n",
    "    return clicks / shows"
   ]
  },
  {
   "cell_type": "markdown",
   "id": "415bf6fc",
   "metadata": {
    "pycharm": {
     "name": "#%% md\n"
    },
    "slideshow": {
     "slide_type": "slide"
    }
   },
   "source": [
    "<div class=\"alert alert-danger\">\n",
    "<b>Anti-pattern:</b> write functions with crazy inputs\n",
    "</div>"
   ]
  },
  {
   "cell_type": "code",
   "execution_count": null,
   "id": "76033538",
   "metadata": {
    "pycharm": {
     "name": "#%%\n"
    }
   },
   "outputs": [],
   "source": [
    "# Tried to figure out what are the types of the arguments of this function...\n",
    "\n",
    "def _update_input_fields(input_fields, output_fields):\n",
    "    \n",
    "    for output_field_name, output_field_type in dict(output_fields).iteritems():\n",
    "        if output_field_name not in input_fields:\n",
    "            input_fields[output_field_name] = output_field_type\n",
    "        elif init_to_string(input_fields[output_field_name]) != init_to_string(output_field_type):\n",
    "            input_fields[output_field_name] = _merge_field_type(input_fields[output_field_name], output_field_type)\n"
   ]
  },
  {
   "cell_type": "code",
   "execution_count": null,
   "id": "51d37299",
   "metadata": {
    "pycharm": {
     "name": "#%%\n"
    }
   },
   "outputs": [],
   "source": [
    "# Done. Do not do like this\n",
    "\n",
    "import typing as tp\n",
    "\n",
    "def _update_input_fields(\n",
    "        input_fields: tp.Mapping[str, tp.Union[tp.Tuple[tp.Union[tp.Callable[tp.Any, tp.Any], str], tp.Union[tp.Callable[tp.Any, tp.Any], str]], tp.Union[tp.Callable[tp.Any, tp.Any], str]]], \n",
    "        output_fields: tp.Union[tp.Mapping[str, tp.Union[tp.Tuple[tp.Union[tp.Callable[tp.Any, tp.Any], str], tp.Union[tp.Callable[tp.Any, tp.Any], str]], tp.Union[tp.Callable[tp.Any, tp.Any], str]]], tp.Sequence[tp.Tuple[str,  tp.Union[tp.Tuple[ tp.Union[tp.Callable[tp.Any, tp.Any], str],  tp.Union[tp.Callable[tp.Any, tp.Any], str]],  tp.Union[tp.Callable[tp.Any, tp.Any], str]]]]]\n",
    "        ) -> None:\n",
    "    \n",
    "    for output_field_name, output_field_type in dict(output_fields).iteritems():\n",
    "        if output_field_name not in input_fields:\n",
    "            input_fields[output_field_name] = output_field_type\n",
    "        elif init_to_string(input_fields[output_field_name]) != init_to_string(output_field_type):\n",
    "            input_fields[output_field_name] = _merge_field_type(input_fields[output_field_name], output_field_type)\n"
   ]
  },
  {
   "cell_type": "markdown",
   "id": "6a2208a3",
   "metadata": {
    "pycharm": {
     "name": "#%% md\n"
    },
    "slideshow": {
     "slide_type": "slide"
    }
   },
   "source": [
    "<div class=\"alert alert-danger\">\n",
    "<b>Anti-pattern:</b> do not return values from some branches\n",
    "</div>"
   ]
  },
  {
   "cell_type": "code",
   "execution_count": null,
   "id": "e9f40ffe",
   "metadata": {
    "pycharm": {
     "name": "#%%\n"
    }
   },
   "outputs": [],
   "source": [
    "# newbie\n",
    "def ctr(clicks: int, shows: int) -> float | None:\n",
    "    if shows != 0:\n",
    "        return clicks / shows\n",
    "    \n",
    "# expert\n",
    "def ctr(clicks: int, shows: int) -> float:\n",
    "    if shows != 0:\n",
    "        return clicks / shows\n",
    "    return 0.0"
   ]
  },
  {
   "cell_type": "markdown",
   "id": "0186a83b",
   "metadata": {
    "pycharm": {
     "name": "#%% md\n"
    },
    "slideshow": {
     "slide_type": "slide"
    }
   },
   "source": [
    "### Comments"
   ]
  },
  {
   "cell_type": "code",
   "execution_count": null,
   "id": "ba8fcf64",
   "metadata": {
    "pycharm": {
     "name": "#%%\n"
    }
   },
   "outputs": [],
   "source": [
    "# comments begin with symbol #\n",
    "\n",
    "def function():  # can write a comment here\n",
    "    pass"
   ]
  },
  {
   "cell_type": "markdown",
   "id": "1b459ec2",
   "metadata": {
    "pycharm": {
     "name": "#%% md\n"
    },
    "slideshow": {
     "slide_type": "slide"
    }
   },
   "source": [
    "<div class=\"alert alert-danger\">\n",
    "<b>Anti-pattern:</b> duplicate obvious code with comments\n",
    "</div>"
   ]
  },
  {
   "cell_type": "code",
   "execution_count": null,
   "id": "50a6127f",
   "metadata": {
    "pycharm": {
     "name": "#%%\n"
    }
   },
   "outputs": [],
   "source": [
    "def product_three(a, b, c):\n",
    "    return a * b * c  # multiply three numbers in order to return the result"
   ]
  },
  {
   "cell_type": "markdown",
   "id": "668f5e64",
   "metadata": {
    "pycharm": {
     "name": "#%% md\n"
    },
    "slideshow": {
     "slide_type": "slide"
    }
   },
   "source": [
    "<div class=\"alert alert-danger\">\n",
    "<b>Anti-pattern:</b> write comments instead of clear code\n",
    "</div>"
   ]
  },
  {
   "cell_type": "code",
   "execution_count": null,
   "id": "9f49aa9c",
   "metadata": {
    "pycharm": {
     "name": "#%%\n"
    }
   },
   "outputs": [],
   "source": [
    "def f(u, b):\n",
    "    return u * b\n",
    "\n",
    "def g(ub, c):\n",
    "    return ub * c\n",
    "\n",
    "def h(c, b, u):  # the button a was broken on my keybord,\n",
    "                 # and I just like the order of these variables\n",
    "    # this function multiplies three numbers\n",
    "    return g(f(c, b), u)  # first, multiply c and b;\n",
    "                          # then pass the result to the function g,\n",
    "                          # which multipies it with the third number "
   ]
  },
  {
   "cell_type": "markdown",
   "id": "c701bcf7",
   "metadata": {
    "pycharm": {
     "name": "#%% md\n"
    },
    "slideshow": {
     "slide_type": "slide"
    }
   },
   "source": [
    "<div class=\"alert alert-info\">\n",
    "<b>Advice:</b> A good comment:<br/>\n",
    "1. is abscent because the clear code made it unnecessary<br/>\n",
    "2. answers the question \"why?\"\n",
    "</div>\n"
   ]
  },
  {
   "cell_type": "markdown",
   "id": "97b00d31",
   "metadata": {
    "pycharm": {
     "name": "#%% md\n"
    },
    "slideshow": {
     "slide_type": "slide"
    }
   },
   "source": [
    "### Documentation"
   ]
  },
  {
   "cell_type": "code",
   "execution_count": null,
   "id": "81b7308e",
   "metadata": {
    "pycharm": {
     "name": "#%%\n"
    }
   },
   "outputs": [],
   "source": [
    "def print_message(message: tp.Optional[str]):\n",
    "    # Prints the passed message\n",
    "    # Handles the cases of empty and missing messages separately\n",
    "    if message is None:\n",
    "        print(\"No message!\")\n",
    "    elif not message:\n",
    "        print(\"Empty message!\")\n",
    "    else:\n",
    "        print(message)"
   ]
  },
  {
   "cell_type": "code",
   "execution_count": null,
   "id": "e403c4b8",
   "metadata": {
    "pycharm": {
     "name": "#%%\n"
    }
   },
   "outputs": [],
   "source": [
    "help(print_message)  # help – one more builtin"
   ]
  },
  {
   "cell_type": "code",
   "execution_count": null,
   "id": "c837c82a",
   "metadata": {
    "pycharm": {
     "name": "#%%\n"
    },
    "slideshow": {
     "slide_type": "slide"
    }
   },
   "outputs": [],
   "source": [
    "def print_message(message: tp.Optional[str]):\n",
    "    \"\"\"\n",
    "        Prints the passed message.\n",
    "        Handles the cases of empty and missing messages separately.\n",
    "    \"\"\"\n",
    "    if message is None:\n",
    "        print(\"No message!\")\n",
    "    elif not message:\n",
    "        print(\"Empty message!\")\n",
    "    else:\n",
    "        print(message)"
   ]
  },
  {
   "cell_type": "code",
   "execution_count": null,
   "id": "9f78095c",
   "metadata": {},
   "outputs": [],
   "source": [
    "print_message.__doc__"
   ]
  },
  {
   "cell_type": "code",
   "execution_count": null,
   "id": "97a93f57",
   "metadata": {
    "pycharm": {
     "name": "#%%\n"
    }
   },
   "outputs": [],
   "source": [
    "help(print_message)"
   ]
  },
  {
   "cell_type": "code",
   "execution_count": null,
   "id": "c8a81bd0",
   "metadata": {
    "pycharm": {
     "name": "#%%\n"
    },
    "slideshow": {
     "slide_type": "-"
    }
   },
   "outputs": [],
   "source": [
    "print_message  # in Jupyter use shift + tab for docs"
   ]
  },
  {
   "cell_type": "markdown",
   "id": "bca1562f",
   "metadata": {
    "pycharm": {
     "name": "#%% md\n"
    },
    "slideshow": {
     "slide_type": "slide"
    }
   },
   "source": [
    "<div class=\"alert alert-danger\">\n",
    "<b>Anti-pattern:</b> not to write docstrings\n",
    "</div>"
   ]
  },
  {
   "cell_type": "code",
   "execution_count": null,
   "id": "4ac83f98",
   "metadata": {
    "pycharm": {
     "name": "#%%\n"
    }
   },
   "outputs": [],
   "source": [
    "# newbie\n",
    "def ctr1(clicks: int, shows: int) -> float:\n",
    "    if shows != 0:\n",
    "        return clicks / shows\n",
    "    return 0.0\n",
    "    \n",
    "# expert\n",
    "def ctr2(clicks: int, shows: int) -> float:\n",
    "    \"\"\"\n",
    "    Calculate ctr. If there are no shows, return 0.\n",
    "    :param clicks: number of clicks on banner\n",
    "    :param shows: number of banners shows\n",
    "    :return: clicks-through rate\n",
    "    \"\"\"\n",
    "    if shows != 0:\n",
    "        return clicks / shows\n",
    "    return 0.0"
   ]
  },
  {
   "cell_type": "markdown",
   "id": "501906c4",
   "metadata": {
    "pycharm": {
     "name": "#%% md\n"
    },
    "slideshow": {
     "slide_type": "slide"
    }
   },
   "source": [
    "<div class=\"alert alert-success\">\n",
    "<b>Advice:</b> document the nontrivial logic\n",
    "</div>\n",
    "<img src=\"./images/untrivial_logic_doc.png\">"
   ]
  },
  {
   "cell_type": "markdown",
   "id": "ab9bce10",
   "metadata": {
    "pycharm": {
     "name": "#%% md\n"
    },
    "slideshow": {
     "slide_type": "slide"
    }
   },
   "source": [
    "<div class=\"alert alert-success\">\n",
    "<b>Advice:</b> document cautions\n",
    "</div>\n",
    "<img src=\"./images/careful_logic_doc.png\">"
   ]
  },
  {
   "cell_type": "markdown",
   "id": "6e4fca57",
   "metadata": {
    "pycharm": {
     "name": "#%% md\n"
    },
    "slideshow": {
     "slide_type": "slide"
    }
   },
   "source": [
    "### assert"
   ]
  },
  {
   "cell_type": "code",
   "execution_count": null,
   "id": "d727a274",
   "metadata": {
    "pycharm": {
     "name": "#%%\n"
    }
   },
   "outputs": [],
   "source": [
    "assert True  # assert"
   ]
  },
  {
   "cell_type": "code",
   "execution_count": null,
   "id": "c27cd8f0",
   "metadata": {
    "pycharm": {
     "name": "#%%\n"
    }
   },
   "outputs": [],
   "source": [
    "assert False # this always fails"
   ]
  },
  {
   "cell_type": "code",
   "execution_count": null,
   "id": "52c7a7a4",
   "metadata": {
    "pycharm": {
     "name": "#%%\n"
    }
   },
   "outputs": [],
   "source": [
    "assert 2 + 2 == 4  # assert expresses the confidence that the expression is always true \n",
    "                   # during the normal program execution. Mainly used for debugging"
   ]
  },
  {
   "cell_type": "code",
   "execution_count": null,
   "id": "a04750b4",
   "metadata": {
    "pycharm": {
     "name": "#%%\n"
    }
   },
   "outputs": [],
   "source": [
    "allways_filled_list = []\n",
    "assert allways_filled_list, \"List must not be empty!\""
   ]
  },
  {
   "cell_type": "code",
   "execution_count": null,
   "id": "84242f75",
   "metadata": {
    "pycharm": {
     "name": "#%%\n"
    },
    "slideshow": {
     "slide_type": "slide"
    }
   },
   "outputs": [],
   "source": [
    "import typing as tp\n",
    "\n",
    "def _dot_product(first: tp.Sequence[float], second: tp.Sequence[float]) -> float:  \n",
    "    \n",
    "    result = 0\n",
    "    for i in range(len(first)):\n",
    "        result += first[i] * second[i]\n",
    "        \n",
    "    return result\n",
    "\n",
    "\n",
    "def length(vector: tp.List[float]) -> float:\n",
    "    return _dot_product(vector, vector) ** 0.5\n",
    "\n",
    "\n",
    "length([1, 2, 3, 4, 5])"
   ]
  },
  {
   "cell_type": "code",
   "execution_count": null,
   "id": "0c48dff0",
   "metadata": {
    "pycharm": {
     "name": "#%%\n"
    },
    "slideshow": {
     "slide_type": "slide"
    }
   },
   "outputs": [],
   "source": [
    "import typing as tp\n",
    "\n",
    "def _dot_product(first: tp.List[float], second: tp.List[float]) -> float:    \n",
    "    assert len(first) == len(second), \"First and second should be equal length\"\n",
    "    \n",
    "    result = 0\n",
    "    for el_first, el_second in zip(first, second):\n",
    "        result += el_first * el_second\n",
    "        \n",
    "    return result\n",
    "\n",
    "\n",
    "def length(vector: tp.List[float]) -> float:\n",
    "    return _dot_product(vector, vector) ** 0.5\n",
    "\n",
    "\n",
    "length([1, 2, 3, 4, 5])"
   ]
  },
  {
   "cell_type": "markdown",
   "id": "8540df58",
   "metadata": {
    "pycharm": {
     "name": "#%% md\n"
    },
    "slideshow": {
     "slide_type": "slide"
    }
   },
   "source": [
    "### assert in tests"
   ]
  },
  {
   "cell_type": "code",
   "execution_count": null,
   "id": "84da0677",
   "metadata": {
    "pycharm": {
     "name": "#%%\n"
    }
   },
   "outputs": [],
   "source": [
    "def dummy_function(a) -> str:\n",
    "    return \"hello\"\n",
    "\n",
    "def test_dummy_function(value) -> None:\n",
    "    assert dummy_function(value) == value, \"Function doesn't return the same value as passed\""
   ]
  },
  {
   "cell_type": "code",
   "execution_count": null,
   "id": "e3702fbf",
   "metadata": {
    "pycharm": {
     "name": "#%%\n"
    }
   },
   "outputs": [],
   "source": [
    "test_dummy_function(\"hello\")\n",
    "test_dummy_function(\"hi\")"
   ]
  },
  {
   "cell_type": "code",
   "execution_count": null,
   "id": "c18665a7",
   "metadata": {},
   "outputs": [],
   "source": []
  }
 ],
 "metadata": {
  "celltoolbar": "Slideshow",
  "kernelspec": {
   "display_name": "Python 3 (ipykernel)",
   "language": "python",
   "name": "python3"
  },
  "language_info": {
   "codemirror_mode": {
    "name": "ipython",
    "version": 3
   },
   "file_extension": ".py",
   "mimetype": "text/x-python",
   "name": "python",
   "nbconvert_exporter": "python",
   "pygments_lexer": "ipython3",
   "version": "3.11.4"
  },
  "rise": {
   "enable_chalkboard": true,
   "footer": "<p style=\"margin: 5px; color: #a0a0a0\">YSDA Python Course</p>",
   "scroll": true,
   "start_slideshow_at": "selected",
   "theme": "serif"
  }
 },
 "nbformat": 4,
 "nbformat_minor": 5
}
