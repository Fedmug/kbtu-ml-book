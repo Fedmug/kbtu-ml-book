{
 "cells": [
  {
   "cell_type": "markdown",
   "metadata": {},
   "source": [
    "# Positive definite matrices\n",
    "\n",
    "A square matrix $\\boldsymbol A \\in \\mathbb R^n$ is called\n",
    "\n",
    "* **positive definite** if $\\boldsymbol x^\\mathsf{T}\\boldsymbol{Ax} > 0$ for all $\\boldsymbol x \\in \\mathbb R^n$, $\\boldsymbol x \\ne \\boldsymbol 0$;\n",
    "\n",
    "* **positive semidefinite** if $\\boldsymbol x^\\mathsf{T}\\boldsymbol{Ax} \\geqslant 0$ for all $\\boldsymbol x \\in \\mathbb R^n$;\n",
    "\n",
    "* **negative definite** if $\\boldsymbol x^\\mathsf{T}\\boldsymbol{Ax} < 0$ for all $\\boldsymbol x \\in \\mathbb R^n$, $\\boldsymbol x \\ne \\boldsymbol 0$;\n",
    "\n",
    "* **negative semidefinite** if $\\boldsymbol x^\\mathsf{T}\\boldsymbol{Ax} \\leqslant 0$ for all $\\boldsymbol x \\in \\mathbb R^n$.\n",
    "\n",
    "For example, matrix $\\boldsymbol A  = \\begin{pmatrix} 1 & 0 \\\\ -1 & 2 \\end{pmatrix}$ is positive definite since for any nonzero vector $\\begin{pmatrix} x \\\\ y \\end{pmatrix}$ we have\n",
    "\n",
    "$$\n",
    "    (x \\; y) \\begin{pmatrix} 1 & 0 \\\\ -1 & 2 \\end{pmatrix} \\begin{pmatrix} x \\\\ y \\end{pmatrix} = x^2 - xy + 2y^2 = \\Big(x - \\frac y2\\Big)^2 + \\frac 74 y^2 > 0.\n",
    "$$\n",
    "\n",
    "## Symmetric matrices\n",
    "\n",
    "The positive definiteness of a symmetric matrix $\\boldsymbol A = \\boldsymbol A^\\mathsf{T}$ of shape $n\\times n$ is equivalent to any of the following statements:\n",
    "\n",
    "1. all $n$ eigenvalues of $\\boldsymbol A$ are positive\n",
    "2. all $n$ pivots of $\\boldsymbol A$ are positive\n",
    "3. all $n$ upper left determinants are positive\n",
    "4. $\\boldsymbol A = \\boldsymbol B^\\mathsf{T} \\boldsymbol B$ for some full column rank matrix $\\boldsymbol B$\n",
    "\n",
    "```{admonition} Proof of statement 1\n",
    ":class: tip, dropdown\n",
    "According to spectral theorem\n",
    "\n",
    "$$\n",
    "    \\boldsymbol A = \\boldsymbol Q^\\mathsf{T} \\boldsymbol \\Lambda \\boldsymbol Q,\n",
    "$$\n",
    "\n",
    "where $\\boldsymbol Q$ is orthogonal, and diagonal matrix $\\boldsymbol \\Lambda$ consists of eigenvalues of $\\boldsymbol A$. Hence,\n",
    "\n",
    "$$\n",
    "    \\boldsymbol x^\\mathsf{T}\\boldsymbol{Ax} = \\boldsymbol x^\\mathsf{T}\\boldsymbol Q^\\mathsf{T} \\boldsymbol {\\Lambda Q x} = (\\boldsymbol{Qx})^\\mathsf{T}\\boldsymbol {\\Lambda Q x} = \\boldsymbol{y}^\\mathsf{T}\\boldsymbol {\\Lambda y}, \\quad \\boldsymbol y = \\boldsymbol{Qx}.\n",
    "$$\n",
    "\n",
    "Note that $\\boldsymbol x \\ne \\boldsymbol 0$ iff $\\boldsymbol y \\ne \\boldsymbol 0$ (why?). Finally observe that expression\n",
    "\n",
    "$$\n",
    "    \\boldsymbol{y}^\\mathsf{T}\\boldsymbol {\\Lambda y} = \\sum \\limits_{i=1}^n \\lambda_i y_i^2\n",
    "$$\n",
    "\n",
    "is positive for any $\\boldsymbol y \\ne \\boldsymbol 0$ iff $\\lambda_i>0$ for all $i$. \n",
    "```"
   ]
  },
  {
   "cell_type": "markdown",
   "metadata": {},
   "source": [
    "## Numeric example\n",
    "\n",
    "Create some random positive definite matrix using statement 4, and check theat all other statements are fulfilled:"
   ]
  },
  {
   "cell_type": "code",
   "execution_count": 5,
   "metadata": {},
   "outputs": [
    {
     "name": "stdout",
     "output_type": "stream",
     "text": [
      "eigenvalues: [8.3450636  2.98702351 0.76122108 0.48962739]\n",
      "left upper determinants: [1.0, 2.195774261287806, 13.876758598100098, 8.106837599831954]\n"
     ]
    }
   ],
   "source": [
    "import numpy as np\n",
    "\n",
    "A = np.random.normal(size=(5, 4))\n",
    "B = A.T @ A\n",
    "eigvals, _ = np.linalg.eig(B)\n",
    "print(\"eigenvalues:\", eigvals)\n",
    "print(\"left upper determinants:\", [float(np.linalg.det(B[:i, :i])) for i in range(4)])"
   ]
  },
  {
   "cell_type": "markdown",
   "metadata": {},
   "source": [
    "To find pivots use LU-decomposition from [scipy](https://docs.scipy.org/doc/scipy/reference/generated/scipy.linalg.lu.html):"
   ]
  },
  {
   "cell_type": "code",
   "execution_count": 7,
   "metadata": {},
   "outputs": [
    {
     "name": "stdout",
     "output_type": "stream",
     "text": [
      "Echelon form:\n",
      "[[ 2.19577426 -0.30395801  0.36388171  1.38597395]\n",
      " [ 0.          6.31975647  0.6802934  -2.76674215]\n",
      " [ 0.          0.          0.58420254  0.20999453]\n",
      " [ 0.          0.          0.          1.14602299]]\n"
     ]
    }
   ],
   "source": [
    "from scipy.linalg import lu\n",
    "_, _, U = lu(B)\n",
    "print(\"Echelon form:\")\n",
    "print(U)"
   ]
  },
  {
   "cell_type": "markdown",
   "metadata": {},
   "source": [
    "## Ellipses and ellipsoids\n",
    "\n",
    "The canonical ellipse equation is\n",
    "\n",
    "$$\n",
    "    \\frac{x^2}{a^2} + \\frac{y^2}{b^2} = 1 \\iff \n",
    "    (x \\; y) \\begin{pmatrix} a^{-2} & 0 \\\\ 0 & b^{-2} \\end{pmatrix} \\begin{pmatrix} x \\\\ y \\end{pmatrix} = 1.\n",
    "$$\n",
    "\n",
    "```{figure} https://www.woodmagazine.com/thmb/k6ynCG6JLv9AexVDBkQR0sCHJtQ=/1500x0/filters:no_upscale():max_bytes(150000):strip_icc()/ellipse-02af21fcb7514a7e95bb11d13f65fdf2.jpg\n",
    ":align: center\n",
    "```\n",
    "\n",
    "It is specified by a diagonal matrix $\\mathrm{diag}\\{\\frac 1{a^2}, \\frac 1{b^2}\\}$ with positive diagonal elements. $a$ and $b$ are the axis lengths of the ellipse.\n",
    "\n",
    "\n",
    "A tilted ellipse is defined by equations\n",
    "\n",
    "$$\n",
    "    a x^2 + 2bxy + cy^2 = 1 \\iff \\boldsymbol x^{\\mathsf T}\\boldsymbol{Ax} = 1\n",
    "$$\n",
    "\n",
    "where $\\boldsymbol x = (x, y)^\\mathsf T$, and matrix\n",
    "\n",
    "$$\n",
    "    \\boldsymbol A = \\begin{pmatrix} a & b \\\\ b & c \\end{pmatrix}\n",
    "$$\n",
    "\n",
    "is positive definite. The axis of such ellipse come from the spectral theorem:\n",
    "\n",
    "$$\n",
    "   \\boldsymbol x^{\\mathsf T} \\boldsymbol Q \\boldsymbol{\\Lambda} \\boldsymbol Q^{\\mathsf T} \\boldsymbol x = 1 \\iff \\boldsymbol y^{\\mathsf T}\\boldsymbol{\\Lambda}\\boldsymbol y = 1, \\quad \\boldsymbol y = \\boldsymbol Q^{\\mathsf T} \\boldsymbol x.\n",
    "$$\n",
    "\n",
    "The lined-up ellipse $\\boldsymbol y^{\\mathsf T}\\boldsymbol{\\Lambda}\\boldsymbol y = 1$ has axes of $\\frac 1{\\sqrt \\lambda_i}$, and then it is rotated by (orthogonal) rotation matrix $\\boldsymbol Q$. This also works for $n$-dimensional ellipsoids."
   ]
  },
  {
   "cell_type": "markdown",
   "metadata": {},
   "source": [
    "## Exercises\n",
    "\n",
    "1. Show that diagonal matrix $\\mathrm{diag}\\{\\lambda_1, \\ldots, \\lambda_n\\}$ is positive definite iff all $\\lambda_i >0$.\n",
    "\n",
    "2. Prove that matrix $\\boldsymbol A^\\mathsf{T} \\boldsymbol A$ is always semipositive definite, and it is positive definit iff $\\boldsymbol A$ has full column rank.\n",
    "\n",
    "3. Prove that matrix $\\boldsymbol A$ is positive definite if\n",
    "\n",
    "$$\n",
    "    \\boldsymbol A = \\begin{pmatrix}\n",
    "\t\t2 & -1 & 0 & 0 & \\dots & 0 & 0 \\\\\n",
    "\t\t-1 & 2 & -1 & 0 & \\dots & 0 & 0 \\\\\n",
    "\t\t0 & -1 & 2 & -1 &\\dots & 0 & 0 \\\\\n",
    "\t\t\\vdots & \\vdots & \\ddots & \\ddots & \\ddots & \\vdots & \\vdots \\\\\n",
    "\t\t0 & 0 & \\dots & -1 & 2 & -1 & 0 \\\\\n",
    "\t\t0 & 0 & \\dots & 0 & -1 & 2 & -1 \\\\\n",
    "\t\t0 & 0 & \\dots & 0 & 0 & -1 & 2 \\\\\n",
    "\t\\end{pmatrix}\n",
    "$$\n",
    "\n",
    "4. Prove that inverse to a positive definite symmetric matrix is also symmetric and positive definite.\n",
    "\n",
    "5. Find the axes of this tilted ellipse $5x^2 + 8xy + 5y^2 = 1$.\n",
    "\n",
    "6. Show that $\\boldsymbol A^\\mathsf{T} \\boldsymbol A$ and $\\boldsymbol{AA}^\\mathsf{T}$ have same positive eigenvalues $\\sigma_1, \\ldots, \\sigma_r$ for any $\\boldsymbol A \\in \\mathbb R^{m\\times n}$ of rank $r$."
   ]
  }
 ],
 "metadata": {
  "kernelspec": {
   "display_name": "jupyter",
   "language": "python",
   "name": "python3"
  },
  "language_info": {
   "codemirror_mode": {
    "name": "ipython",
    "version": 3
   },
   "file_extension": ".py",
   "mimetype": "text/x-python",
   "name": "python",
   "nbconvert_exporter": "python",
   "pygments_lexer": "ipython3",
   "version": "3.12.4"
  }
 },
 "nbformat": 4,
 "nbformat_minor": 2
}
