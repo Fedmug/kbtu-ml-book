{
 "cells": [
  {
   "cell_type": "markdown",
   "metadata": {},
   "source": [
    "# Eigenvalues and eigenvectors\n",
    "\n",
    "Любая квадратная матрица $\\boldsymbol A$ задаёт линейное преобразование пространства $\\mathbb R^n$ по правилу $\\boldsymbol x \\mapsto \\boldsymbol{Ax}$. В результате такого преобразования векторы обычно меняют как направление, так и длину. Однако бывает так, что у некоторые векторов направление сохраняется, либо же меняется на противоположное. Такие векторы называются **собственными векторами** матрицы.\n",
    "\n",
    "Пусть $\\boldsymbol A \\in \\mathbb R^{n\\times n}$. Если $\\boldsymbol{Ax} = \\lambda \\boldsymbol x$ при некотором $\\boldsymbol x \\ne \\boldsymbol 0$, то число $\\lambda$ называют **собственным значением** (**числом**) матрицы $\\boldsymbol A$, а вектор $\\boldsymbol x \\in \\mathbb R^n$ — собственным вектором. Множество всех собственных значений матрицы $\\boldsymbol A$ называют её **спектром** и обозначают $\\sigma(\\boldsymbol A)$ или $\\mathrm{spec}(\\boldsymbol A)$. Поскольку первое обозначение конфликтует с применением сигмоиды к матрице $\\boldsymbol A$, далее будем пользоваться вторым.\n",
    "\n",
    "Равенство $\\boldsymbol{Ax} = \\lambda \\boldsymbol x$ эквивалентно равенству $(\\boldsymbol A - \\lambda \\boldsymbol I)\\boldsymbol x = \\boldsymbol 0$. Таким образом, собственный вектор $\\boldsymbol x$, отвечающий собственному значению $\\lambda$, лежит в ядре матрицы $\\boldsymbol A - \\lambda \\boldsymbol I$, и поэтому эта матрица должна быть вырожденной. Итак,\n",
    "\n",
    "$$\n",
    "    \\lambda \\in \\mathrm{spec}(\\boldsymbol A) \\iff \\vert\\boldsymbol A - \\lambda \\boldsymbol I\\vert = 0.\n",
    "$$"
   ]
  },
  {
   "cell_type": "markdown",
   "metadata": {},
   "source": [
    "In NumPy both eigenvalues and eigenvectors are computed by the function `np.linalg.eig`:"
   ]
  },
  {
   "cell_type": "code",
   "execution_count": 29,
   "metadata": {},
   "outputs": [
    {
     "name": "stdout",
     "output_type": "stream",
     "text": [
      "Eigenvalues: [-1.  5.]\n",
      "Eigenvectors: [-0.89442719  0.4472136 ] [-0.70710678 -0.70710678]\n"
     ]
    }
   ],
   "source": [
    "import numpy as np\n",
    "A = np.array([[1, 4], [2, 3]])\n",
    "eig_result = np.linalg.eig(A)\n",
    "print(\"Eigenvalues:\", eig_result.eigenvalues)\n",
    "print(\"Eigenvectors:\", eig_result.eigenvectors[:, 0], eig_result.eigenvectors[:, 1])"
   ]
  },
  {
   "cell_type": "markdown",
   "metadata": {},
   "source": [
    "<!--\n",
    "## Eigenvalues of special matrices\n",
    "\n",
    "1. Собственные числа диагональной матрицы $\\boldsymbol \\Lambda = \\mathrm{diag}\\{\\lambda_1, \\ldots, \\lambda_n\\}$ — это в точности элементы её главной диагонали, поскольку $\\boldsymbol {\\Lambda e}_k = \\lambda_k \\boldsymbol e_k$, и каждый вектор $\\boldsymbol e_k$ стандартного ортонормированного базиса в $\\mathbb R^n$ является собственным для матрицы $\\boldsymbol \\Lambda$. Если $\\vert \\lambda_k\\vert > 1$, то вектор $\\boldsymbol e_k$ растягивается в результате умножения на него матрицы $\\boldsymbol \\Lambda$, а если $\\vert \\lambda_k\\vert < 1$, то сжимается (в точку при $\\lambda_k = 0$).\n",
    "\n",
    "2. Спектр верхней/нижней треугольной матрицы $\\boldsymbol A$ также состоит из её диагональных элементов $\\lambda_1, \\ldots, \\lambda_n$, поскольку\n",
    "\n",
    "    $$\n",
    "    \\vert\\boldsymbol A - \\lambda \\boldsymbol I\\vert = (\\lambda_1-\\lambda)\\ldots (\\lambda_n - \\lambda) = 0 \\iff \\lambda \\in \\{\\lambda_1, \\ldots, \\lambda_n\\}.\n",
    "    $$\n",
    "\n",
    "3. Матрица проекции $\\boldsymbol P$ может иметь только два различных собственных значения: $0$ и $1$. В самом деле, если $\\boldsymbol{Px} = \\lambda \\boldsymbol x$, то в силу равенства $\\boldsymbol P^2 = \\boldsymbol P$ получаем   \n",
    "\n",
    "    $$\n",
    "        \\lambda \\boldsymbol x = \\boldsymbol{Px} = \\boldsymbol P(\\boldsymbol{Px}) = \\boldsymbol P(\\lambda\\boldsymbol x) = \\lambda^2\\boldsymbol x.\n",
    "    $$\n",
    "\n",
    "    Отсюда следует, что $(\\lambda - \\lambda^2)\\boldsymbol x =\\boldsymbol 0$, и поскольку собственный вектор всегда ненулевой, $\\lambda(1-\\lambda) = 0$.\n",
    "\n",
    "4. Если матрица $\\boldsymbol Q$ ортогональна и $\\lambda \\in \\mathrm{spec}(\\boldsymbol Q)$, то $\\vert \\lambda\\vert= 1$. Действительно, ортогональные матрицы сохраняют длины, поэтому из равенства $\\boldsymbol{Qx} = \\lambda \\boldsymbol x$ следует, что\n",
    "\n",
    "    $$\n",
    "        \\Vert \\boldsymbol x \\Vert = \\Vert \\boldsymbol{Qx} \\Vert = \\Vert \\lambda \\boldsymbol x\\Vert = \\vert \\lambda\\vert \\Vert \\boldsymbol x \\Vert.\n",
    "    $$\n",
    "\n",
    "    Сокращая на $\\Vert \\boldsymbol x \\Vert \\ne 0$, получаем $\\vert \\lambda\\vert= 1$.\n",
    "\n",
    "\n",
    "5. Если $\\mathrm{spec}(\\boldsymbol A) = \\{\\lambda_1, \\ldots, \\lambda_n\\}$, то $\\mathrm{spec}(\\boldsymbol A^k) = \\{\\lambda^k_1, \\ldots, \\lambda^k_n\\}$ при всех $k\\in \\mathbb N$. Достаточно проверить это свойство для $k=2$. Если $\\boldsymbol{Ax} = \\lambda \\boldsymbol x$, то\n",
    "\n",
    "    $$\n",
    "    \\boldsymbol A^2\\boldsymbol x = \\boldsymbol A(\\boldsymbol{Ax}) = \\boldsymbol A(\\lambda\\boldsymbol x) = \\lambda\\boldsymbol{Ax} = \\lambda^2 \\boldsymbol x.\n",
    "    $$\n",
    "\n",
    "    То есть вектор $\\boldsymbol x$ является собственным как для матрицы $\\boldsymbol A$, так и для матрицы $\\boldsymbol A^2$, а вот собственное число возвелось в квадрат.\n",
    "\n",
    "6. Если $\\mathrm{spec}(\\boldsymbol A) = \\{\\lambda_1, \\ldots, \\lambda_n\\}$ и $\\lambda_k \\ne 0$, $1\\leqslant k \\leqslant n$, то матрица $\\boldsymbol A$ обратима и\n",
    "\n",
    "    $$\n",
    "        \\mathrm{spec}(\\boldsymbol A^{-1}) = \\Big\\{\\frac 1{\\lambda_1}, \\ldots, \\frac 1{\\lambda_n}\\Big\\}.\n",
    "    $$ \n",
    "\n",
    "    Прежде всего заметим, что матрица $\\boldsymbol A$ невырождена, поскольку $0 \\notin \\mathrm{spec}(\\boldsymbol A)$. Далее, если $\\boldsymbol{Ax} = \\lambda \\boldsymbol x$, $\\lambda \\ne 0$, то\n",
    "\n",
    "    $$\n",
    "    \\boldsymbol A^{-1}\\boldsymbol x = \\frac 1\\lambda\\boldsymbol A^{-1}(\\lambda\\boldsymbol x) = \\frac 1\\lambda\\boldsymbol A^{-1}(\\boldsymbol {Ax}) = \\frac 1\\lambda\\boldsymbol x.\n",
    "    $$\n",
    "\n",
    "    И здесь мы видим, что матрица и её обратная имеют один и тот же набор собственных векторов.\n",
    "\n",
    "**Упражнение**. Докажите, что спектры подобных матриц совпадают.\n",
    "\n",
    "```{admonition} Proof\n",
    ":class: dropdown\n",
    "Если $\\boldsymbol A \\sim \\boldsymbol B$, то $ \\boldsymbol B = \\boldsymbol M^{-1}\\boldsymbol {AM}$ для некоторой невырожденной матрицы $\\boldsymbol M$. Пусть $\\boldsymbol {Ax} = \\lambda \\boldsymbol x$, $\\boldsymbol x \\ne \\boldsymbol 0$. Обозначим $\\boldsymbol y = \\boldsymbol M^{-1}\\boldsymbol x$. Тогда $\\boldsymbol y \\ne \\boldsymbol 0$ и\n",
    "\n",
    "$$\n",
    "    \\boldsymbol{By} = \\boldsymbol M^{-1}\\boldsymbol {AMM}^{-1} \\boldsymbol x = \n",
    "    \\boldsymbol M^{-1}\\boldsymbol {Ax} = \\lambda \\boldsymbol M^{-1}\\boldsymbol x = \\lambda \\boldsymbol y.\n",
    "$$\n",
    "\n",
    "Таким образом, вектор $\\boldsymbol y = \\boldsymbol M^{-1}\\boldsymbol x$ является собственным вектором матрицы $\\boldsymbol B$, отвечающим собственному значению $\\lambda$. Следовательно, $\\mathrm{spec}(\\boldsymbol A) = \\mathrm{spec}(\\boldsymbol B)$. Отметим, что в отличие от собственных чисел собственные векторы подобных матриц совпадать не обязаны.\n",
    "```\n",
    "-->"
   ]
  },
  {
   "cell_type": "markdown",
   "metadata": {},
   "source": [
    "## Characteristic polynomial\n",
    "\n",
    "Собственные значения матрицы $\\boldsymbol A$ — это в точности корни её **характеристического многочлена** \n",
    "\n",
    "$$\n",
    "\\chi_{\\boldsymbol A} (\\lambda) = \\det(\\boldsymbol A - \\lambda \\boldsymbol I),\n",
    "$$\n",
    "\n",
    "представляющего собой многочлен степени $n$ от $\\lambda$.\n",
    "[Основная теорема алгебры](https://ru.wikipedia.org/wiki/%D0%9E%D1%81%D0%BD%D0%BE%D0%B2%D0%BD%D0%B0%D1%8F_%D1%82%D0%B5%D0%BE%D1%80%D0%B5%D0%BC%D0%B0_%D0%B0%D0%BB%D0%B3%D0%B5%D0%B1%D1%80%D1%8B) гласит, что всякий многочлен степени $n$ имеет $n$ комплексных корней, однако, действительных среди них может быть меньше или не быть вовсе.  Например, у матрицы поворота на 90° градусов \n",
    "\n",
    "$$\n",
    "    \\boldsymbol A = \\begin{pmatrix}\n",
    "        0 & -1 \\\\\n",
    "        1 & 0 \\\\\n",
    "    \\end{pmatrix}\n",
    "$$\n",
    "\n",
    "нет действительных собственных значений и векторов, поскольку нет таких векторов на плоскости, которые после поворота на 90° градусов остались бы лежать на той же прямой. И действительно,\n",
    "\n",
    "$$\n",
    "    \\vert\\boldsymbol A - \\lambda \\boldsymbol I\\vert = \n",
    "    \\begin{vmatrix}\n",
    "        -\\lambda & -1 \\\\\n",
    "        1 & -\\lambda \\\\\n",
    "    \\end{vmatrix} = \\lambda^2 + 1 = 0 \\text{ при } \\lambda = \\pm i.\n",
    "$$ \n",
    "\n",
    "Получилось два сопряжённых мнимых собственных значения. Похожее верно для любой вещественной матрицы: если у неё есть комплексные собственные числа, то они разбиваются на пары взаимно сопряжённый значений.\n",
    "\n",
    "<!--\n",
    "```{admonition} Замечание о зависимости спектра от поля скаляров\n",
    ":class: important, dropdown\n",
    "\n",
    "В предыдущих главах на самом деле было не так важно, состоят у нас векторы и матрицы из рациональных, действительных или комплексных чисел, а также на какие именно числа мы их умножаем. Однако когда речь заходит о собственных значениях, поле скаляров приобретает существенное значение, поскольку его выбор влияет на разрешимость уравнения $\\chi_{\\boldsymbol A} (\\lambda) = 0$. Как мы видели в предыдущем примере, характеристический многочлен матрицы поворота имеет два комплексных корня, но не имеет действительных. Если же в качестве поля $F$ взять рациональные числа, то, например, матрица\n",
    "\n",
    "$$\n",
    "    \\boldsymbol A = \\begin{pmatrix}\n",
    "        0 & 2 \\\\\n",
    "        1 & 0 \\\\\n",
    "    \\end{pmatrix}\n",
    "$$\n",
    "\n",
    "не имеет собственных значений, поскольку $\\chi_{\\boldsymbol A} (\\lambda) = \\lambda^2-2 = 0$ при $\\lambda = \\pm\\sqrt 2 \\notin \\mathbb Q$.\n",
    "\n",
    "По-хорошему стоило бы обозначать спектр матрицы $\\boldsymbol A$ над полем $F$ через $\\mathrm{spec}_F(\\boldsymbol A)$. По умолчанию у нас везде поле $F = \\mathbb R$ и $\\mathrm{spec}(\\boldsymbol A) = \\mathrm{spec}_{\\mathbb R}(\\boldsymbol A)$.\n",
    "Однако в контексте собственных значений выбор поля $F =\\mathbb C$ имеет неоспоримое преимущество: любая матрица размера $n\\times n$ имеет $n$ комплексных собственных значений (с учётом кратности), некоторые из которых могут случайно оказаться действительными, рациональными или даже целыми. Хотя на практике обычно хочется избежать комплексных чисел, полезно иметь в виду такое теоретическое свойство. Кроме того, комплексные векторные пространства находят приложение в квантовой механике и квантовых вычислениях.\n",
    "```\n",
    "-->\n",
    "\n",
    "Применяя [теорему Виета](https://ru.wikipedia.org/wiki/%D0%A4%D0%BE%D1%80%D0%BC%D1%83%D0%BB%D1%8B_%D0%92%D0%B8%D0%B5%D1%82%D0%B0) к характеристическому многочлену матрицы $\\boldsymbol A\\in \\mathbb R^{n\\times n}$, получаем, что её собственные значения $\\lambda_1, \\ldots, \\lambda_n$ удовлетворяют соотношениям\n",
    "\n",
    "$$\n",
    "    \\lambda_1\\cdot \\ldots\\cdot \\lambda_n = \\det \\boldsymbol A, \\quad \\lambda_1 + \\ldots + \\lambda_n = \\mathrm{tr}(\\boldsymbol A).\n",
    "$$"
   ]
  },
  {
   "cell_type": "markdown",
   "metadata": {},
   "source": [
    "Complex eigenvalues also can be calculated in NumPy:"
   ]
  },
  {
   "cell_type": "code",
   "execution_count": 30,
   "metadata": {},
   "outputs": [
    {
     "name": "stdout",
     "output_type": "stream",
     "text": [
      "Eigenvalues: [2.5+1.93649167j 2.5-1.93649167j]\n",
      "Eigenvectors: [ 0.38729833-0.5j -0.77459667+0.j ] [ 0.38729833+0.5j -0.77459667-0.j ]\n"
     ]
    }
   ],
   "source": [
    "A = np.array([[1, -2], [3, 4]])\n",
    "np.linalg.eig(A)\n",
    "eig_result = np.linalg.eig(A)\n",
    "print(\"Eigenvalues:\", eig_result.eigenvalues)\n",
    "print(\"Eigenvectors:\", eig_result.eigenvectors[:, 0], eig_result.eigenvectors[:, 1])"
   ]
  },
  {
   "cell_type": "markdown",
   "metadata": {},
   "source": [
    "## Multiplicity of eigenvalues\n",
    "\n",
    "**Геометрическая кратность** собственного значения $\\lambda \\in \\mathrm{spec}(\\boldsymbol A)$ равна размерности ядра матрицы $\\boldsymbol A - \\lambda \\boldsymbol I$:\n",
    "\n",
    "$$\n",
    "\\gamma_{\\boldsymbol A}(\\lambda) = \\dim N(\\boldsymbol A - \\lambda \\boldsymbol I).\n",
    "$$ \n",
    "\n",
    "<!--\n",
    "**Упражнение**. Докажите, что $\\gamma_{\\boldsymbol A}(\\lambda)  = \\gamma_{\\boldsymbol B}(\\lambda)$, если $\\boldsymbol A \\sim \\boldsymbol B$.\n",
    "\n",
    "```{admonition} Proof\n",
    ":class: dropdown\n",
    "\n",
    "Если $\\boldsymbol A \\sim \\boldsymbol B$, то $ \\boldsymbol B = \\boldsymbol M^{-1}\\boldsymbol {AM}$ для некоторой невырожденной матрицы $\\boldsymbol M$, и тогда\n",
    "\n",
    "$$\n",
    "    \\boldsymbol B - \\lambda \\boldsymbol I = \\boldsymbol M^{-1}\\boldsymbol {AM} - \\boldsymbol M^{-1}\\lambda \\boldsymbol I\\boldsymbol {M} = \\boldsymbol M^{-1}(\\boldsymbol A - \\lambda \\boldsymbol I)\\boldsymbol {M}.\n",
    "$$\n",
    "\n",
    "Умножение справа или слева на невырожденную матрицу не меняет ранг матрицы, поэтому и размерность ядра остаётся неизменной:\n",
    "\n",
    "$$\n",
    "\\gamma_{\\boldsymbol A}(\\lambda) = \\dim N(\\boldsymbol A - \\lambda \\boldsymbol I) =  \\dim N(\\boldsymbol B - \\lambda \\boldsymbol I) = \\gamma_{\\boldsymbol B}(\\lambda).\n",
    "$$\n",
    "``` \n",
    "-->\n",
    "\n",
    "**Алгебраическая кратность** $\\mu_{\\boldsymbol A}(\\lambda)$ собственного числа $\\lambda \\in \\mathrm{spec}(\\boldsymbol A)$ — это его кратность как корня характеристического многочлена $\\chi_{\\boldsymbol A}(\\lambda)$. \n",
    "\n",
    "\n",
    "**Теорема**. Если $\\lambda \\in \\mathrm{spec}(\\boldsymbol A)$, $\\boldsymbol A \\in \\mathbb R^{n\\times n}$, то $1 \\leqslant \\gamma_{\\boldsymbol A}(\\lambda) \\leqslant \\mu_{\\boldsymbol A}(\\lambda) \\leqslant n$.\n",
    "\n",
    "<!--\n",
    "Например, у единичной матрицы $\\boldsymbol A = \\boldsymbol I_2$ обе кратности собственного значения $\\lambda = 1$ равны двум. А вот для матрицы\n",
    "\n",
    "$$ \n",
    "\\boldsymbol A =\n",
    "\\begin{pmatrix}\n",
    "        1 & 1 \\\\\n",
    "        0 & 1 \\\\\n",
    "    \\end{pmatrix}\n",
    "$$\n",
    "\n",
    "имеем $1 = \\gamma_{\\boldsymbol A}(1) < \\mu_{\\boldsymbol A}(1) = 2$.\n",
    "-->"
   ]
  },
  {
   "cell_type": "markdown",
   "metadata": {},
   "source": [
    "## Exercises\n",
    "\n",
    "1. Find all eigenvalues of the following matrices:\n",
    "  * zero matrix $\\boldsymbol 0_n$\n",
    "  * identity matrix $\\boldsymbol I_n$\n",
    "  * diagonal matrix $\\mathrm{diag}\\{\\lambda_1, \\ldots, \\lambda_n\\}$\n",
    "  * upper/lower triangular matrix\n",
    "  * ones matrix $\\boldsymbol 1_n$\n",
    "\n",
    "2. Find all eigenvalues of a one-rank matrix $\\boldsymbol A = \\boldsymbol{uv}^\\mathsf{T}$, $\\boldsymbol u, \\boldsymbol v \\in \\mathbb R^n$.\n",
    "\n",
    "3. Prove that all eigenvalues of a projection matrix $\\boldsymbol P$ are equal to $0$ or $1$.\n",
    "\n",
    "4. Prove that if $\\lambda$ is an eigenvalue of an orthogonal matrix $\\boldsymbol Q$ then $\\vert \\lambda\\vert= 1$.\n",
    "\n",
    "5. Let $\\mathrm{spec}(\\boldsymbol A) = \\{\\lambda_1, \\ldots, \\lambda_n\\}$. Show that $\\mathrm{spec}(\\boldsymbol A^k) = \\{\\lambda^k_1, \\ldots, \\lambda^k_n\\}$ for all $k\\in \\mathbb N.$\n",
    "\n",
    "6. Prove that $\\mathrm{spec}(\\boldsymbol A) = \\mathrm{spec}(\\boldsymbol B)$ if $\\boldsymbol A \\sim \\boldsymbol B$.\n",
    "\n",
    "7. Give an example of a $2\\times 2$ matrix $\\boldsymbol A$ and its eigenvalue $\\lambda$ such that  $\\gamma_{\\boldsymbol A}(\\lambda) < \\mu_{\\boldsymbol A}(\\lambda)$."
   ]
  }
 ],
 "metadata": {
  "kernelspec": {
   "display_name": "Python 3 (ipykernel)",
   "language": "python",
   "name": "python3"
  },
  "language_info": {
   "codemirror_mode": {
    "name": "ipython",
    "version": 3
   },
   "file_extension": ".py",
   "mimetype": "text/x-python",
   "name": "python",
   "nbconvert_exporter": "python",
   "pygments_lexer": "ipython3",
   "version": "3.11.4"
  }
 },
 "nbformat": 4,
 "nbformat_minor": 2
}
