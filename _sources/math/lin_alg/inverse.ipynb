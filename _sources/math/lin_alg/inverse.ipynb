{
 "cells": [
  {
   "cell_type": "markdown",
   "metadata": {},
   "source": [
    "# Inverse matrix\n",
    "\n",
    "## Linear systems\n",
    "\n",
    "**Система линейных алгебраических уравнений (СЛАУ)** из $m$ уравнений с $n$ неизвестными имеет вид\n",
    "\n",
    "$$\n",
    "\\begin{align*}\n",
    "a_{11}x_1 &+ a_{12}x_2+ \\ldots +a_{1n}x_n = b_1 \\\\\n",
    "a_{21}x_1 &+ a_{22}x_2 + \\ldots +a_{2n}x_n = b_2 \\\\\n",
    "\\ldots &\\ldots \\ldots \\ldots \\ldots \\ldots \\ldots \\ldots \\ldots \\ldots \\ldots \\\\\n",
    "a_{m1}x_1 &+ a_{m2}x_2 +\\ldots + a_{mn}x_n = b_m \\\\\n",
    "\\end{align*},\n",
    "$$\n",
    "\n",
    "где коэффициенты $a_{ij}$ и числа в правой части $b_i$ считаются известными, а найти надо неизвестные переменные $x_j$. Записывать систему линейных уравнений в таком громоздком виде не очень удобно, вместо этого чаще используют матричную запись. Коэффициенты $a_{ij}$ естественным образом образуют матрицу $\\boldsymbol A\\in\\mathbb R^{m\\times n}$, правая часть — вектор $\\boldsymbol b \\in \\mathbb R^m$, а искомые переменные — вектор $\\boldsymbol x \\in \\mathbb R^n$. И тогда СЛАУ переписывается в чрезвычайно простом и коротком виде \n",
    "\n",
    "$$\n",
    "\\boldsymbol{Ax} = \\boldsymbol b.\n",
    "$$\n",
    "\n",
    "If $\\boldsymbol b = \\boldsymbol 0$, then the linear system is called **homogeneous**.\n",
    "\n",
    "A square matrix $\\boldsymbol A$ is called **singular** if the homogeneous linear system $\\boldsymbol{Ax} = \\boldsymbol 0$ has nonzero solution $\\boldsymbol x \\ne \\boldsymbol 0$. Otherwise $\\boldsymbol A$ is called **non-singular** or **invertible**. If $\\boldsymbol A$ is invertible, then the linear system $\\boldsymbol{Ax} = \\boldsymbol b$ has unique solution for any $\\boldsymbol b$ which can be written as $\\boldsymbol x =\\boldsymbol A^{-1} \\boldsymbol b$. \n",
    "\n",
    "In NumPy a linear system of equations with $m=n$ can be solved by `np.linalg.solve`:"
   ]
  },
  {
   "cell_type": "code",
   "execution_count": 1,
   "metadata": {},
   "outputs": [
    {
     "data": {
      "text/plain": [
       "array([[1, 0, 0, 0],\n",
       "       [1, 1, 0, 0],\n",
       "       [1, 2, 1, 0],\n",
       "       [1, 3, 3, 1]], dtype=uint64)"
      ]
     },
     "execution_count": 1,
     "metadata": {},
     "output_type": "execute_result"
    }
   ],
   "source": [
    "import numpy as np\n",
    "from scipy.linalg import pascal\n",
    "A = pascal(4, kind='lower')\n",
    "A"
   ]
  },
  {
   "cell_type": "code",
   "execution_count": 2,
   "metadata": {},
   "outputs": [
    {
     "data": {
      "text/plain": [
       "array([ 1., -2.,  4., -8.])"
      ]
     },
     "execution_count": 2,
     "metadata": {},
     "output_type": "execute_result"
    }
   ],
   "source": [
    "b = np.array([1, -1, 1, -1])\n",
    "np.linalg.solve(A, b)"
   ]
  },
  {
   "cell_type": "markdown",
   "metadata": {},
   "source": [
    "## Inverse matrix\n",
    "\n",
    "Квадратная матрица $\\boldsymbol A \\in \\mathbb R^{n\\times n}$ называется **обратимой**, или **невырожденной**, если\n",
    "существует такая матрица $\\boldsymbol B \\in \\mathbb R^{n\\times n}$, что $\\boldsymbol{AB} = \\boldsymbol{BA} = \\boldsymbol I$. Если такая матрица $\\boldsymbol B$ существует, то она называется **обратной** к матрице $\\boldsymbol A$ и обозначается $\\boldsymbol A^{-1}$; если же нет, то матрица $\\boldsymbol A$ называется **вырожденной** (или **сингулярной**).\n",
    "\n",
    "Всякая система линейных уравнений $\\boldsymbol{Ax} = \\boldsymbol b$ с обратимой матрицей имеет единственное решение, которое может быть получено домножением на $\\boldsymbol A^{-1}$ слева:\n",
    "\n",
    "$$\n",
    "    \\boldsymbol{Ax} = \\boldsymbol b \\iff \\underbrace{\\boldsymbol A^{-1}\\boldsymbol A}_{\\boldsymbol I} \\boldsymbol x = \\boldsymbol A^{-1}\\boldsymbol b \\iff \\boldsymbol x = \\boldsymbol A^{-1}\\boldsymbol b.\n",
    "$$\n",
    "\n",
    "В частности, **однородная** система уравнений $\\boldsymbol{Ax} = \\boldsymbol 0$ с невырожденной матрицей имеет только нулевое решение $\\boldsymbol A^{-1} \\boldsymbol 0 = \\boldsymbol 0$."
   ]
  },
  {
   "cell_type": "markdown",
   "metadata": {},
   "source": [
    "In NumPy the inversed matrix can be found via `np.linalg.inv`:"
   ]
  },
  {
   "cell_type": "code",
   "execution_count": 2,
   "metadata": {},
   "outputs": [
    {
     "data": {
      "text/plain": [
       "array([[5.        , 0.        , 0.        , 0.        , 0.        ],\n",
       "       [0.        , 2.5       , 0.        , 0.        , 0.        ],\n",
       "       [0.        , 0.        , 1.66666667, 0.        , 0.        ],\n",
       "       [0.        , 0.        , 0.        , 1.25      , 0.        ],\n",
       "       [0.        , 0.        , 0.        , 0.        , 1.        ]])"
      ]
     },
     "execution_count": 2,
     "metadata": {},
     "output_type": "execute_result"
    }
   ],
   "source": [
    "import numpy as np\n",
    "A = np.diag(np.linspace(0.2, 1, num=5))\n",
    "np.linalg.inv(A)"
   ]
  },
  {
   "cell_type": "markdown",
   "metadata": {},
   "source": [
    "## Properties of inverse matrices\n",
    "\n",
    "1. Если обратная матрица существует, то она единственна.\n",
    "\n",
    "    ```{admonition} Proof\n",
    "    :class: dropdown\n",
    "    Пусть $\\boldsymbol{AB} = \\boldsymbol{CA} = \\boldsymbol I$, тогда\n",
    "\n",
    "    $$\n",
    "        \\boldsymbol C(\\boldsymbol{AB}) = (\\boldsymbol{CA})\\boldsymbol B \\iff \\boldsymbol{CI} = \\boldsymbol {IB} \\iff \\boldsymbol C = \\boldsymbol B.\n",
    "    $$\n",
    "\n",
    "    Таким образом, для обратимой матрицы $\\boldsymbol A$ её правая обратная матрица $\\boldsymbol B$ и левая обратная матрица $\\boldsymbol C$ совпадают.\n",
    "   ```\n",
    "\n",
    "2. Если матрица $\\boldsymbol A$ обратима, то $(\\lambda \\boldsymbol A)^{-1} = \\frac 1\\lambda \\boldsymbol A^{-1}$ при $\\lambda \\ne 0$.\n",
    "\n",
    "3. Если $\\boldsymbol A$ и $\\boldsymbol B$ — две обратимые матрицы одинакового размера, то\n",
    "    \n",
    "    $$\n",
    "    (\\boldsymbol{AB})^{-1} = \\boldsymbol B^{-1} \\boldsymbol A^{-1}.\n",
    "    $$\n",
    "\n",
    "    ```{admonition} Proof\n",
    "    :class: dropdown\n",
    "    Пользуясь ассоциативностью матричного умножения, получаем\n",
    "\n",
    "    $$\n",
    "        \\boldsymbol{AB}\\boldsymbol B^{-1} \\boldsymbol A^{-1} = \\boldsymbol A(\\boldsymbol{BB}^{-1}) \\boldsymbol A^{-1} = \\boldsymbol A \\boldsymbol A^{-1} = \\boldsymbol I.\n",
    "    $$\n",
    "\n",
    "    Аналогично проверяется, что $\\boldsymbol B^{-1} \\boldsymbol A^{-1} \\boldsymbol{AB} = \\boldsymbol I$.\n",
    "    ```\n",
    "\n",
    "4. Обращение блочной матрицы: если матрицы $\\boldsymbol A\\in\\mathbb R^{m\\times m}$ и $\\boldsymbol B\\in\\mathbb R^{n\\times n}$ обратимы, то\n",
    "\n",
    "    $$\n",
    "        \\begin{pmatrix}\n",
    "            \\boldsymbol A & \\boldsymbol 0_{m\\times n} \\\\\n",
    "            \\boldsymbol 0_{n\\times m} & \\boldsymbol B \n",
    "        \\end{pmatrix}^{-1} = \n",
    "        \\begin{pmatrix}\n",
    "            \\boldsymbol A^{-1} & \\boldsymbol 0_{m\\times n} \\\\\n",
    "            \\boldsymbol 0_{n\\times m} & \\boldsymbol B^{-1}\n",
    "        \\end{pmatrix}.\n",
    "    $$\n",
    "\n",
    "5. Обратная матрица к верхней (нижней) треугольной матрице с ненулевыми диагональными элементами $d_1, \\ldots, d_n$ также является верхней (нижней) треугольной с элементами $\\frac 1{d_1}, \\ldots, \\frac 1{d_n}$ на главной диагонали.\n",
    "\n",
    "    ````{admonition} Proof\n",
    "    :class: dropdown\n",
    "    Пусть $\\boldsymbol U$ — верхняя треугольная матрицы размера $n\\times n$. При $n=1$ утверждение тривиально, при $n=2$ оно следует из явной формулы для обратной матрицы размера $2\\times 2$. Далее воспользуемся индукцией и запишем матрицу $\\boldsymbol U$ в блочном виде\n",
    "\n",
    "    $$\n",
    "        \\boldsymbol U = \\begin{pmatrix}\n",
    "            d_1 & \\boldsymbol u^\\top \\\\\n",
    "            \\boldsymbol 0 & \\boldsymbol U_{n-1}\n",
    "        \\end{pmatrix},\n",
    "    $$\n",
    "\n",
    "    где $\\boldsymbol u \\in \\mathbb R^{n-1}$, верхняя треугольная матрица $\\boldsymbol U_{n-1}$ имеет размер $(n-1)\\times(n-1)$, а её обратная матрица $ \\boldsymbol U_{n-1}^{-1}$ тоже верхняя треугольная с элементами $\\frac 1{d_2}, \\ldots, \\frac 1{d_n}$ на главной диагонали. Поищем обратную матрицу $\\boldsymbol U^{-1}$ в таком же виде:\n",
    "\n",
    "    ```{math}\n",
    "        :label: u-inv\n",
    "        \\boldsymbol U^{-1} = \\begin{pmatrix}\n",
    "            \\frac 1{d_{1}} & \\boldsymbol v^\\top \\\\\n",
    "            \\boldsymbol 0 & \\boldsymbol U_{n-1}^{-1}\n",
    "        \\end{pmatrix}. \n",
    "    ```\n",
    "\n",
    "    По правилу перемножения блочных матриц получаем\n",
    "\n",
    "    $$\n",
    "        \\boldsymbol U \\boldsymbol U^{-1} = \\begin{pmatrix}\n",
    "            1 & d_{1} \\boldsymbol v^\\top + \\boldsymbol u^\\top \\boldsymbol U_{n-1}^{-1} \\\\\n",
    "            \\boldsymbol 0 & \\boldsymbol I_{n-1}\n",
    "        \\end{pmatrix}.\n",
    "    $$\n",
    "\n",
    "    Таким образом, полагая $\\boldsymbol v^\\top = -\\frac 1{d_1} \\boldsymbol u^\\top \\boldsymbol U_{n-1}^{-1}$, убеждаемся, что верхняя треугольная матрица {eq}`u-inv` действительно является обратной к матрице $\\boldsymbol U$. Для нижних треугольных матриц доказательство аналогично.\n",
    "    ````\n",
    "\n",
    "6. Если матрица обратима, то транспонированная к ней матрица также обратима, причём\n",
    "\n",
    "    $$\n",
    "        \\big(\\boldsymbol A^\\mathsf{T}\\big)^{-1} = \\big(\\boldsymbol A^{-1}\\big)^\\mathsf{T}.\n",
    "    $$\n",
    "\n",
    "    Таким образом, операции транспонирония и взятия обратной матрицы коммутируют; применение подряд (в любом порядке) этих двух операций к матрице $\\boldsymbol A$ обозначают через $\\boldsymbol A^{-\\mathsf{T}}$.\n",
    "    \n",
    "    ```{admonition} Proof\n",
    "    :class: dropdown\n",
    "    Транспонируя равенства $\\boldsymbol{AA}^{-1} = \\boldsymbol{A}^{-1} \\boldsymbol A = \\boldsymbol I$, получаем\n",
    "\n",
    "    $$\n",
    "        (\\boldsymbol{A}^{-1})^\\mathsf{T} \\boldsymbol A^\\mathsf{T} = \\boldsymbol A^\\mathsf{T} (\\boldsymbol{A}^{-1})^\\mathsf{T} = \\boldsymbol I,\n",
    "    $$\n",
    "\n",
    "    откуда следует, то $(\\boldsymbol A^\\mathsf{T})^{-1} = (\\boldsymbol A^{-1})^\\mathsf{T}$.\n",
    "    ```\n",
    "\n",
    "7. Если симметричная матрица обратима, то обратная к ней также симметрична."
   ]
  },
  {
   "cell_type": "markdown",
   "metadata": {},
   "source": [
    "## Gauss—Jordan method\n",
    "\n",
    "Чтобы обратить невырожденную матрицу $\\boldsymbol A \\in \\mathbb R^{n\\times n}$, нужно решить $n$ систем линейных уравнений\n",
    "\n",
    "```{math}\n",
    "    :label: inv-systems\n",
    "    \\boldsymbol{Ax}_1 = \\boldsymbol e_1, \\ldots, \\boldsymbol{Ax}_n = \\boldsymbol e_n,\n",
    "```\n",
    "\n",
    "и тогда $\\boldsymbol A^{-1} = [\\boldsymbol x_1 \\ldots \\boldsymbol x_n]$. \n",
    "\n",
    "Решение СЛАУ размера $n\\times n$ методом Гаусса требует $O(n^3)$ арифметических операций. Если решать каждую систему из {eq}`inv-systems` по отдельности, то суммарная сложность составит $O(n^4)$. Однако **метод Гаусса—Жордана** позволяет решить все СЛАУ {eq}`inv-systems` одновременно за $O(n^3)$ операций. \n",
    "Для этого составляют блочную матрицу \n",
    "\n",
    "```{math}\n",
    ":label: GJ-matrix\n",
    "(\\;\\boldsymbol A \\;\\vert\\;\\boldsymbol I\\;)\n",
    "```\n",
    "\n",
    "и проводят с ней следующие шаги:\n",
    "\n",
    "1. методом Гаусса превращают матрицу $\\boldsymbol A$ в вернюю треугольную матрицу $\\boldsymbol U$;\n",
    "\n",
    "2. обратным ходом метода Гаусса из матрицы $\\boldsymbol U$ получают диагональную матрицу $\\boldsymbol D$;\n",
    "\n",
    "3. после деления на диагональные элементы $\\boldsymbol D$ становится единичной.\n",
    "\n",
    "Шаги 1—3 применяются также и правому блоку матрицы {eq}`GJ-matrix`, и после завершения работы метода Гаусса—Жордана на месте единичной матрицы оказывается обратная матрица $\\boldsymbol A^{-1}$.\n"
   ]
  },
  {
   "cell_type": "markdown",
   "metadata": {},
   "source": [
    "## Exercises\n",
    "\n",
    "1. Prove  that \n",
    "\n",
    "    $$\n",
    "        \\begin{pmatrix}\n",
    "            a & b \\\\\n",
    "            c & d \\\\\n",
    "        \\end{pmatrix}^{-1}\n",
    "        =\\frac1{ad -bc} \\begin{pmatrix}\n",
    "            d & -b \\\\\n",
    "            -c & a \\\\\n",
    "        \\end{pmatrix}.\n",
    "    $$\n",
    "    \n",
    "    if $ad \\ne bc$.\n",
    "\n",
    "2. Let $\\boldsymbol \\Lambda = \\mathrm{diag}\\{\\lambda_1, \\ldots, \\lambda_n\\}$ be a diagonal matrix. Prove that $\\boldsymbol \\Lambda^{-1} = \\mathrm{diag}\\big\\{\\frac 1{\\lambda_1}, \\ldots, \\frac 1{\\lambda_n}\\big\\}$ if $\\lambda_i \\ne 0$ for all $i$.\n",
    "\n",
    "3. Prove that $\\boldsymbol Q^{-1} = \\boldsymbol Q^\\mathsf{T}$ if $\\boldsymbol Q$ is orthogonal.\n",
    "\n",
    "4. (Sherman—Morrison formula) Let $\\boldsymbol A \\in \\mathbb R^{n\\times n}$ be an invertible matrix and $\\boldsymbol u, \\boldsymbol v \\in \\mathbb R^n$. Prove that\n",
    "\n",
    "$$\n",
    "    (\\boldsymbol A + \\boldsymbol u \\boldsymbol v^\\mathsf{T})^{-1} =\n",
    "    \\boldsymbol A^{-1} - \\frac{\\boldsymbol A^{-1} \\boldsymbol u \\boldsymbol v^\\mathsf{T} \\boldsymbol A^{-1}}{1 + \\boldsymbol v^\\mathsf{T}\\boldsymbol A^{-1} \\boldsymbol u }.\n",
    "$$\n"
   ]
  }
 ],
 "metadata": {
  "kernelspec": {
   "display_name": "Python 3 (ipykernel)",
   "language": "python",
   "name": "python3"
  },
  "language_info": {
   "codemirror_mode": {
    "name": "ipython",
    "version": 3
   },
   "file_extension": ".py",
   "mimetype": "text/x-python",
   "name": "python",
   "nbconvert_exporter": "python",
   "pygments_lexer": "ipython3",
   "version": "3.11.4"
  }
 },
 "nbformat": 4,
 "nbformat_minor": 2
}
