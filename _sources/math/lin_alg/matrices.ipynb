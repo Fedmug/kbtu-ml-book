{
 "cells": [
  {
   "cell_type": "markdown",
   "metadata": {},
   "source": [
    "# Matrices\n",
    "\n",
    "Табличный способ хранения данных чрезвычайно широко распространён, и если эти данные числовые, то с математической точки зрения они образуют **матрицу** — двумерный массив из чисел. Для эффективной обработки и анализа таких данных, а также обучения моделей машинного обучения на них, важно хорошо ориентироваться в матричных операциях и разложениях и их свойствах.\n",
    "\n",
    " Матрицы принято обозначать заглавными жирными буквами: $\\boldsymbol A$, $\\boldsymbol B$, $\\boldsymbol C$, $\\boldsymbol X$, $\\boldsymbol Y$ и т.п. Множество матриц, имеющих $m$ строк и $n$ столбцов обозначается через $\\mathbb R^{m\\times n}$. Элемент $i$-й строки и $j$-го столбца матрицы $\\boldsymbol A \\in \\mathbb R^{m\\times n}$ будем обозначать $A_{ij}$. Допустимо также обозначение $a_{ij}$, особенно когда дело доходит до подробной записи\n",
    "\n",
    "$$\n",
    "    \\boldsymbol A  = \\begin{pmatrix}\n",
    "        a_{11} & a_{12} & \\dots & a_{1n} \\\\\n",
    "        a_{21} & a_{22} & \\dots & a_{2n} \\\\\n",
    "        \\vdots & \\vdots & \\ddots & \\vdots \\\\\n",
    "        a_{m1} & a_{m2} & \\dots & a_{mn} \\\\\n",
    "    \\end{pmatrix}.\n",
    "$$\n",
    "\n",
    "Эту же матрицу можно представить как набор строк или столбцов:\n",
    "\n",
    "$$\n",
    "    \\boldsymbol A  = \\begin{pmatrix}\n",
    "        \\boldsymbol b_1^\\mathsf{T} \\\\\n",
    "        \\boldsymbol b_2^\\mathsf{T} \\\\\n",
    "        \\vdots\\\\\n",
    "        \\boldsymbol b_m^\\mathsf{T} \\\\\n",
    "    \\end{pmatrix} = \n",
    "    [\\boldsymbol c_1 \\boldsymbol c_2 \\dots \\boldsymbol c_n], \\quad\n",
    "    \\boldsymbol b_i = \\begin{pmatrix}\n",
    "    a_{i1} \\\\\n",
    "    a_{i2} \\\\\n",
    "    \\vdots \\\\\n",
    "    a_{in}\n",
    "    \\end{pmatrix},\n",
    "    \\quad\n",
    "    \\boldsymbol c_j = \\begin{pmatrix}\n",
    "    a_{1j} \\\\\n",
    "    a_{2j} \\\\\n",
    "    \\vdots \\\\\n",
    "    a_{mj}\n",
    "    \\end{pmatrix}\n",
    "$$\n",
    "\n",
    "Если $m=n$, то матрица $\\boldsymbol A$ называется **квадратной**, в противном случае — **прямоугольной**. Вектор $\\boldsymbol x \\in \\mathbb R^n$ можно считать матрицей размера $n\\times 1$ (столбец) или $1\\times n$ (строка).\n",
    "\n",
    "**Транспонированная** матрица $\\boldsymbol A^\\mathsf{T} \\in \\mathbb R^{n\\times m}$ в качестве строк содержит столбцы матрицы $\\boldsymbol A$: $A^\\mathsf{T}_{ij} = A_{ji}$. В частности, вектор-столбец получается транспонированием из вектора-строки, и наоборот, чем и объясняется обозначение $\\boldsymbol x^\\mathsf{T}$ для векторов-строк.\n",
    "\n",
    "```{admonition} Feature matrix\n",
    ":class: tip\n",
    "\n",
    "In machine learning a numeric dataset is usually represented by the {ref}`feature matrix <feature-matrix>` $\\boldsymbol X$ in which each training sample is represented by a row vector $\\boldsymbol x_i^\\mathsf{T}$. Hence,\n",
    "\n",
    "$$\n",
    "    \\boldsymbol X  = \\begin{pmatrix}\n",
    "        \\boldsymbol x_1^\\mathsf{T} \\\\\n",
    "        \\boldsymbol x_2^\\mathsf{T} \\\\\n",
    "        \\vdots\\\\\n",
    "        \\boldsymbol x_n^\\mathsf{T} \\\\\n",
    "    \\end{pmatrix}\n",
    "$$\n",
    "```"
   ]
  },
  {
   "cell_type": "markdown",
   "metadata": {},
   "source": [
    "`np.array` can handle multidimenstional arrays including matrices. For example, let's generate a random matrix of shape $2\\times 3$"
   ]
  },
  {
   "cell_type": "code",
   "execution_count": 2,
   "metadata": {},
   "outputs": [
    {
     "data": {
      "text/plain": [
       "array([[0.4495285 , 0.3634043 , 0.67298861],\n",
       "       [0.67521062, 0.10220722, 0.69235149]])"
      ]
     },
     "execution_count": 2,
     "metadata": {},
     "output_type": "execute_result"
    }
   ],
   "source": [
    "import numpy as np\n",
    "A = np.random.rand(2, 3)\n",
    "A"
   ]
  },
  {
   "cell_type": "markdown",
   "metadata": {},
   "source": [
    "For transposing use attribute `.T`:"
   ]
  },
  {
   "cell_type": "code",
   "execution_count": 3,
   "metadata": {},
   "outputs": [
    {
     "data": {
      "text/plain": [
       "array([[0.89698755, 0.52984442],\n",
       "       [0.59051524, 0.76303108],\n",
       "       [0.22936288, 0.33085304]])"
      ]
     },
     "execution_count": 3,
     "metadata": {},
     "output_type": "execute_result"
    }
   ],
   "source": [
    "A.T"
   ]
  },
  {
   "cell_type": "markdown",
   "metadata": {},
   "source": [
    "## Square matrices\n",
    "\n",
    "A **square matrix** $\\boldsymbol A \\in \\mathbb R^{n\\times n}$ has the same number of rows and columns.\n",
    "Each square matrix has two diagonals: **main** (**primaty**, **principle**) and **secondary** (**side**, **antidiagonal**).\n",
    "\n",
    "```{figure} https://learnetutorials.com/assets/images/programs/diagonal1.png\n",
    ":class: figure\n",
    "```\n",
    "\n",
    "\n",
    "**Trace** of a matrix is equal to the sum of the elements on its main diagonal: $\\mathrm{tr}(\\boldsymbol A) = \\sum\\limits_{i=1}^n a_{ii}$.\n",
    "\n",
    "### Identity matrix\n",
    "\n",
    "All ones on the main diagonal, all zeros outside it. Identity matrix is denoted as $\\boldsymbol I$ or $\\boldsymbol I_n$ if we want to underscore its shape:\n",
    "\n",
    "$$\n",
    "    \\boldsymbol I_2 = \\begin{pmatrix}\n",
    "        1 & 0 \\\\\n",
    "        0 & 1 \\\\\n",
    "    \\end{pmatrix}, \\quad\n",
    "    \\boldsymbol I_3 = \\begin{pmatrix}\n",
    "        1 & 0 & 0 \\\\\n",
    "        0 & 1 & 0 \\\\\n",
    "        0 & 0 & 1 \\\\\n",
    "    \\end{pmatrix}, \\quad\n",
    "    \\boldsymbol I_n = \\begin{pmatrix}\n",
    "        1 & 0 & \\dots & 0 \\\\\n",
    "        0 & 1 & \\dots & 0 \\\\\n",
    "        \\vdots & \\vdots & \\ddots & \\vdots \\\\\n",
    "        0 & 0 &\\dots & 1 \\\\\n",
    "    \\end{pmatrix}.\n",
    "$$\n",
    "\n"
   ]
  },
  {
   "cell_type": "markdown",
   "metadata": {},
   "source": [
    "Identity matrix in NumPy is created by `np.eye`:"
   ]
  },
  {
   "cell_type": "code",
   "execution_count": 4,
   "metadata": {},
   "outputs": [
    {
     "data": {
      "text/plain": [
       "array([[1, 0, 0, 0],\n",
       "       [0, 1, 0, 0],\n",
       "       [0, 0, 1, 0],\n",
       "       [0, 0, 0, 1]], dtype=int32)"
      ]
     },
     "execution_count": 4,
     "metadata": {},
     "output_type": "execute_result"
    }
   ],
   "source": [
    "I = np.eye(4, dtype=np.int32)\n",
    "I"
   ]
  },
  {
   "cell_type": "markdown",
   "metadata": {},
   "source": [
    "By default the underlying type is float:"
   ]
  },
  {
   "cell_type": "code",
   "execution_count": 5,
   "metadata": {},
   "outputs": [
    {
     "data": {
      "text/plain": [
       "array([[1., 0., 0.],\n",
       "       [0., 1., 0.],\n",
       "       [0., 0., 1.]])"
      ]
     },
     "execution_count": 5,
     "metadata": {},
     "output_type": "execute_result"
    }
   ],
   "source": [
    "np.eye(3)"
   ]
  },
  {
   "cell_type": "markdown",
   "metadata": {},
   "source": [
    "### Diagonal matrix\n",
    "\n",
    "Can have nonzero elements only on the main diagonal:\n",
    "\n",
    "$$\n",
    "    \\boldsymbol \\Lambda = \\mathrm{diag}\\{\\lambda_1, \\lambda_2, \\ldots, \\lambda_n\\} = \\begin{pmatrix}\n",
    "        \\lambda_1 & 0 & \\dots & 0 \\\\\n",
    "        0 & \\lambda_2 & \\dots & 0 \\\\\n",
    "        \\vdots & \\vdots & \\ddots & \\vdots \\\\\n",
    "        0 & 0 & \\dots & \\lambda_n \\\\\n",
    "    \\end{pmatrix}.$$\n",
    "\n",
    "Identity matrix is a special case of a diagonal matrix: \n",
    "\n",
    "$$\n",
    "    \\boldsymbol I = \\mathrm{diag}\\{1, 1, \\dots, 1\\}.\n",
    "$$"
   ]
  },
  {
   "cell_type": "markdown",
   "metadata": {},
   "source": [
    "`np.diag` can either create a diagonal matrix or extract the main diagonal of a matrix. Here we create a diagonal matrix:"
   ]
  },
  {
   "cell_type": "code",
   "execution_count": 6,
   "metadata": {},
   "outputs": [
    {
     "data": {
      "text/plain": [
       "array([[1, 0, 0],\n",
       "       [0, 2, 0],\n",
       "       [0, 0, 3]])"
      ]
     },
     "execution_count": 6,
     "metadata": {},
     "output_type": "execute_result"
    }
   ],
   "source": [
    "D = np.diag([1, 2, 3])\n",
    "D"
   ]
  },
  {
   "cell_type": "code",
   "execution_count": 9,
   "metadata": {},
   "outputs": [
    {
     "data": {
      "text/plain": [
       "array([[-0.44717254,  1.4078295 , -0.6438964 ],\n",
       "       [ 0.30502598,  1.0711746 ,  1.15591706],\n",
       "       [ 1.51407551,  1.83549146, -1.7051814 ]])"
      ]
     },
     "execution_count": 9,
     "metadata": {},
     "output_type": "execute_result"
    }
   ],
   "source": [
    "A = np.random.normal(size=(3, 3))\n",
    "A"
   ]
  },
  {
   "cell_type": "markdown",
   "metadata": {},
   "source": [
    "And here the extraction of the main diagonal happens:"
   ]
  },
  {
   "cell_type": "code",
   "execution_count": 11,
   "metadata": {},
   "outputs": [
    {
     "data": {
      "text/plain": [
       "array([-0.44717254,  1.0711746 , -1.7051814 ])"
      ]
     },
     "execution_count": 11,
     "metadata": {},
     "output_type": "execute_result"
    }
   ],
   "source": [
    "np.diag(A)"
   ]
  },
  {
   "cell_type": "markdown",
   "metadata": {},
   "source": [
    "<!--\n",
    "3. **Матрица перестановки**. Такая матрица состоит из нулей и единиц, и содержит ровно одну единицу в каждой строке и в каждом столбце. Любая матрица перестановки получается некоторой перестановкой строк/столбцов единичной матрицы. Существует $n!$ различных матриц перестановок размера $n\\times n$. Например, ниже перечислены все $3!=6$ матрицы перестановок размера $3\\times3$:\n",
    "\n",
    "    $$\n",
    "    \\begin{pmatrix}\n",
    "    1 & 0 & 0 \\\\\n",
    "    0 & 1 & 0 \\\\\n",
    "    0 & 0 & 1 \\\\\n",
    "    \\end{pmatrix},\n",
    "    \\quad\n",
    "    \\begin{pmatrix}\n",
    "    1 & 0 & 0 \\\\\n",
    "    0 & 0 & 1 \\\\\n",
    "    0 & 1 & 0 \\\\\n",
    "    \\end{pmatrix},\n",
    "    \\quad\n",
    "    \\begin{pmatrix}\n",
    "    0 & 1 & 0 \\\\\n",
    "    1 & 0 & 0 \\\\\n",
    "    0 & 0 & 1 \\\\\n",
    "    \\end{pmatrix},\n",
    "    $$\n",
    "\n",
    "    $$\n",
    "    \\begin{pmatrix}\n",
    "    0 & 1 & 0 \\\\\n",
    "    0 & 0 & 1 \\\\\n",
    "    1 & 0 & 0 \\\\\n",
    "    \\end{pmatrix},\n",
    "    \\quad\n",
    "    \\begin{pmatrix}\n",
    "    0 & 0 & 1 \\\\\n",
    "    1 & 0 & 0 \\\\\n",
    "    0 & 1 & 0 \\\\\n",
    "    \\end{pmatrix},\n",
    "    \\quad\n",
    "    \\begin{pmatrix}\n",
    "    0 & 0 & 1 \\\\\n",
    "    0 & 1 & 0 \\\\\n",
    "    1 & 0 & 0 \\\\\n",
    "    \\end{pmatrix}.\n",
    "    $$\n",
    "-->\n",
    "\n",
    "### Triangular matrices\n",
    "\n",
    "An **upper triangular** matrix $\\boldsymbol U$ has all zeros **above** the main diagonal: $U_{ij} = 0$ if $i > j$, \n",
    "    \n",
    "$$\n",
    "    \\boldsymbol U  = \\begin{pmatrix}\n",
    "        u_1 & * & * & \\dots & * \\\\\n",
    "        0 & u_2 & * & \\dots & * \\\\\n",
    "        0 & 0 & u_3 & \\dots & * \\\\\n",
    "        \\vdots & \\vdots & \\vdots & \\ddots & \\vdots \\\\\n",
    "        0 & 0 & 0 & \\dots & u_n \\\\\n",
    "    \\end{pmatrix}.\n",
    "$$\n",
    "\n",
    "A **lower triangular** matrix $\\boldsymbol L$, on the other hand, has all zeros **below** the main diagonal: $L_{ij} = 0$ if $i < j$,\n",
    "\n",
    "$$\n",
    "    \\boldsymbol L = \\begin{pmatrix}\n",
    "        \\ell_1 & 0 & 0 & \\dots & 0 \\\\\n",
    "        * & \\ell_2 & 0 & \\dots & 0 \\\\\n",
    "        * & * & \\ell_3 & \\dots & 0 \\\\\n",
    "        \\vdots & \\vdots & \\vdots & \\ddots & \\vdots \\\\\n",
    "        * & * & * & \\dots & \\ell_n \\\\\n",
    "    \\end{pmatrix}. \n",
    "$$\n",
    "\n",
    "Note that $\\boldsymbol U$ is upper triangular iff $\\boldsymbol U^\\mathsf{T}$ is lower triangular."
   ]
  },
  {
   "cell_type": "markdown",
   "metadata": {},
   "source": [
    "### Symmetric matrices\n",
    "\n",
    "A square matrix $\\boldsymbol A$ is called \n",
    "\n",
    "* **symmetric** if $\\boldsymbol A^\\mathsf{T}  = \\boldsymbol A$;\n",
    "\n",
    "* **skew-symmetric** if $\\boldsymbol A^\\mathsf{T}  = -\\boldsymbol A$.\n",
    "\n",
    "Any square matrix $\\boldsymbol A$ can be represented as a sum of a symmetric and a skew-symmetric matrix:\n",
    "\n",
    "$$\n",
    "    \\boldsymbol A = \\frac{\\boldsymbol A + \\boldsymbol A^\\top}2 + \\frac{\\boldsymbol A - \\boldsymbol A^\\top}2.\n",
    "$$\n",
    "\n",
    "### Orthogonal matrices\n",
    "\n",
    "A square matrix $\\boldsymbol Q = [\\boldsymbol q_1 \\ldots \\boldsymbol q_n]$ is **orthogonal** if its columns are orthonormal, i.e., $\\langle \\boldsymbol q_i, \\boldsymbol q_j\\rangle = \\delta_{ij}$, where $\\delta_{ij}$ is [Kronecker delta](https://en.wikipedia.org/wiki/Kronecker_delta).\n",
    "\n",
    "An example of orthogonal matrix is given by the **rotation matrix**\n",
    "\n",
    "```{math}\n",
    "    :label: rotation-matrix\n",
    "    \\boldsymbol Q = \\begin{pmatrix}\n",
    "        \\cos \\theta & -\\sin\\theta \\\\\n",
    "        \\sin \\theta & \\cos\\theta \\\\\n",
    "    \\end{pmatrix}.\n",
    "```\n",
    "\n",
    "<!--\n",
    "* Иногда бывает полезна матрица из одних нулей или одних единиц; такие матрицы размера $m\\times n$ будем обозначать $$\\boldsymbol 0_{m\\times n}$$ и $$\\boldsymbol 1_{m\\times n}$$ соответственно.\n",
    "\n",
    "* **Блочная матрица** имеет вид\n",
    "\n",
    "    $$\n",
    "        \\begin{pmatrix}\n",
    "        \\boldsymbol A & \\boldsymbol B \\\\\n",
    "        \\boldsymbol C & \\boldsymbol D \n",
    "        \\end{pmatrix} =\n",
    "        \\left(\\begin{array}{@{}c|c@{}}\n",
    "        \\begin{matrix}\n",
    "            a_{11} & \\dots & a_{1m} \\\\\n",
    "            \\vdots & \\ddots & \\vdots \\\\\n",
    "            a_{k1} & \\dots & a_{km}\n",
    "        \\end{matrix}\n",
    "        &\n",
    "        \\begin{matrix}\n",
    "            b_{11} & \\dots & b_{1n} \\\\\n",
    "            \\vdots & \\ddots & \\vdots \\\\\n",
    "            b_{k1} & \\dots & b_{kn}\n",
    "        \\end{matrix} \\\\\n",
    "        \\hline\n",
    "        \\begin{matrix}\n",
    "            c_{11} & \\dots & c_{1m} \\\\\n",
    "            \\vdots & \\ddots & \\vdots \\\\\n",
    "            c_{\\ell 1} & \\dots & c_{\\ell m}\n",
    "        \\end{matrix} \n",
    "        &\n",
    "        \\begin{matrix}\n",
    "            d_{11} & \\dots & d_{1n} \\\\\n",
    "            \\vdots & \\ddots & \\vdots \\\\\n",
    "            d_{\\ell 1} & \\dots & d_{\\ell n}\n",
    "        \\end{matrix}\n",
    "        \\end{array}\\right).\n",
    "    $$\n",
    "\n",
    "    Блочные матрицы могут иметь произвольное число матричных блоков по каждому измерению.\n",
    "\n",
    "<!--\n",
    "    где $\\boldsymbol A \\in \\mathbb R^{k\\times m}$, $\\boldsymbol B \\in \\mathbb R^{k\\times n}$, $\\boldsymbol C \\in \\mathbb R^{\\ell\\times m}$, $\\boldsymbol D \\in \\mathbb R^{\\ell\\times n}$. \n",
    "\n",
    "    \n",
    "Квадратные матрицы — очень важный класс матриц, среди них в свою очередь выделяют несколько часто встречающихся семейств\n",
    "-->"
   ]
  },
  {
   "cell_type": "markdown",
   "metadata": {},
   "source": [
    "## Matrix operations\n",
    "\n",
    "Перечислим поэлементные операции с матрицами. Пусть матрицы $\\boldsymbol A, \\boldsymbol B \\in \\mathbb R^{m\\times n}$, $\\alpha \\in \\mathbb R$, $1 \\leqslant i \\leqslant m$, $1\\leqslant j \\leqslant n$.\n",
    "\n",
    "* Сложение матриц: \n",
    "\n",
    "$$\n",
    "\\boldsymbol С = \\boldsymbol A + \\boldsymbol B \\iff  C_{ij} = A_{ij} + B_{ij}.\n",
    "$$\n",
    "\n",
    "* Умножение матрицы на скаляр: \n",
    "\n",
    "$$\n",
    "    \\boldsymbol B = \\alpha \\boldsymbol A \\iff B_{ij} = \\alpha A_{ij}.\n",
    "$$\n",
    "\n",
    "* Поэлементное умножение (**произведение Адамара**) и деление матриц:\n",
    "\n",
    "    $$\n",
    "        \\boldsymbol C = \\boldsymbol A \\odot \\boldsymbol B \\iff C_{ij} = A_{ij} B_{ij},\\quad\n",
    "        \\boldsymbol D = \\boldsymbol A \\oslash \\boldsymbol B \\iff D_{ij} = \\frac{A_{ij}}{B_{ij}}\n",
    "    $$\n",
    "\n",
    "    (последнее возможно, разумеется, только если все элементы матрицы $\\boldsymbol B$ не равны нулю). Стоит отметить, что под произведением матриц обычно понимают совсем иную операцию, нежели поэлементное умножение, и о ней предстоит отдельный разговор.\n",
    "\n",
    "Первые два свойства указывают на то, что матрицы можно рассматривать как вектора особого вида. Можно даже пойти дальше и записать матрицу размера $m\\times n$ в виде одномерного массива длины $mn$ (например, построчно), и получится вектор в чистом виде. Такая операция применяется, к примеру, в свёрточных нейронных сетях, когда на определённом этапе представленная матрицей или тензором картинка выпрямляется (flatten) в вектор для дальнейшего прохождения через один или несколько полносвязных слоёв.\n"
   ]
  },
  {
   "cell_type": "markdown",
   "metadata": {},
   "source": [
    "Matrix operations in NumPy are quite natural:"
   ]
  },
  {
   "cell_type": "code",
   "execution_count": 15,
   "metadata": {},
   "outputs": [
    {
     "name": "stdout",
     "output_type": "stream",
     "text": [
      "[[ 0 -2  0]\n",
      " [ 1  1 -1]]\n",
      "[[1 2 3]\n",
      " [4 5 6]]\n"
     ]
    }
   ],
   "source": [
    "A = np.random.randint(-2, 3, size=(2, 3))\n",
    "B = np.arange(1, 7).reshape(2, 3)\n",
    "print(A)\n",
    "print(B)"
   ]
  },
  {
   "cell_type": "code",
   "execution_count": 16,
   "metadata": {},
   "outputs": [
    {
     "data": {
      "text/plain": [
       "array([[1, 0, 3],\n",
       "       [5, 6, 5]])"
      ]
     },
     "execution_count": 16,
     "metadata": {},
     "output_type": "execute_result"
    }
   ],
   "source": [
    "A + B"
   ]
  },
  {
   "cell_type": "code",
   "execution_count": 17,
   "metadata": {},
   "outputs": [
    {
     "data": {
      "text/plain": [
       "array([[-1, -4, -3],\n",
       "       [-3, -4, -7]])"
      ]
     },
     "execution_count": 17,
     "metadata": {},
     "output_type": "execute_result"
    }
   ],
   "source": [
    "A - B"
   ]
  },
  {
   "cell_type": "code",
   "execution_count": 18,
   "metadata": {},
   "outputs": [
    {
     "data": {
      "text/plain": [
       "array([[ 0, -4,  0],\n",
       "       [ 4,  5, -6]])"
      ]
     },
     "execution_count": 18,
     "metadata": {},
     "output_type": "execute_result"
    }
   ],
   "source": [
    "A * B"
   ]
  },
  {
   "cell_type": "code",
   "execution_count": 19,
   "metadata": {},
   "outputs": [
    {
     "data": {
      "text/plain": [
       "array([[ 0.        , -1.        ,  0.        ],\n",
       "       [ 0.25      ,  0.2       , -0.16666667]])"
      ]
     },
     "execution_count": 19,
     "metadata": {},
     "output_type": "execute_result"
    }
   ],
   "source": [
    "A / B"
   ]
  },
  {
   "cell_type": "markdown",
   "metadata": {},
   "source": [
    "\n",
    "## Matrix-vector product\n",
    "\n",
    "### Matrix times column = column\n",
    "\n",
    "If $\\boldsymbol A \\in \\mathbb R^{m\\times n}$,  $\\boldsymbol x \\in \\mathbb R^n$, then  $\\boldsymbol A\\boldsymbol x =  \\boldsymbol b \\in \\mathbb R^m$, and its coordinates are\n",
    "\n",
    "$$\n",
    "    b_i = \\sum\\limits_{j=1}^n A_{ij} x_j, \\quad 1 \\leqslant i \\leqslant m.\n",
    "$$\n",
    "\n",
    "Observe that $b_i =  \\boldsymbol a_i^\\mathsf{T}  \\boldsymbol x$ where $\\boldsymbol a_i^\\mathsf{T}$ — $i$-th row of $\\boldsymbol A$. Alternatively, if we denote $j$-th column of $\\boldsymbol A$ as $\\boldsymbol a_j$, then\n",
    "\n",
    "$$\n",
    "   \\boldsymbol b =  \\boldsymbol A\\boldsymbol x =  \\sum\\limits_{j=1}^n x_j \\boldsymbol a_j.\n",
    "$$\n",
    "\n",
    "Hence, $\\boldsymbol b =  \\boldsymbol A\\boldsymbol x$ is a linear combination of columns of $\\boldsymbol A$.\n",
    "\n",
    "\n",
    "\n",
    "<!--\n",
    "Чтобы матрицу $\\boldsymbol A$ можно было умножить на вектор $\\boldsymbol x$, число её столбцов должно совпадать с размерностью вектора $\\boldsymbol x$. Если $\\boldsymbol A \\in \\mathbb R^{m\\times n}$,  $\\boldsymbol x \\in \\mathbb R^n$, то  $\\boldsymbol A\\boldsymbol x =  \\boldsymbol b \\in \\mathbb R^m$; координаты вектора  $\\boldsymbol b$ вычисляются по формуле\n",
    "-->\n",
    "\n",
    "<!--\n",
    "Таким образом, для умножения матрицы на вектор требуется вычислить $m$ скалярных произведений $n$-мерных векторов, поэтому сложность этих вычислений составляет $O(mn)$. Если матрица  $\\boldsymbol A$ квадратная размера $n\\times n$, то эта сложность равна $O(n^2)$.\n",
    "\n",
    "\n",
    "На матрично-векторное умножение можно взглянуть с другой стороны. А именно, если обозначить $j$-й столбец через $\\boldsymbol a_j$, то получается, что\n",
    "\n",
    "$$\n",
    "   \\boldsymbol b =  \\boldsymbol A\\boldsymbol x =  \\sum\\limits_{j=1}^n x_j \\boldsymbol a_j.\n",
    "$$\n",
    "\n",
    "Таким образом, вектор $\\boldsymbol b =  \\boldsymbol A\\boldsymbol x$ является линейной комбинацией столбцов матрицы $\\boldsymbol A$ с координатами вектора $\\boldsymbol x$ в качестве коэффициентов.\n",
    "-->\n"
   ]
  },
  {
   "cell_type": "markdown",
   "metadata": {},
   "source": [
    "Since matrix times vector operation is quite similar to inner products, the Python syntax is the same as {ref}`here <inner-python>`:"
   ]
  },
  {
   "cell_type": "code",
   "execution_count": 19,
   "metadata": {},
   "outputs": [
    {
     "data": {
      "text/plain": [
       "array([[0, 1, 2, 3, 4],\n",
       "       [5, 6, 7, 8, 9]])"
      ]
     },
     "execution_count": 19,
     "metadata": {},
     "output_type": "execute_result"
    }
   ],
   "source": [
    "A = np.arange(10).reshape(2, -1)\n",
    "b = np.array([2, 1, -1, 0, -2])\n",
    "A"
   ]
  },
  {
   "cell_type": "code",
   "execution_count": 20,
   "metadata": {},
   "outputs": [
    {
     "data": {
      "text/plain": [
       "(array([-9, -9]), array([-9, -9]), array([-9, -9]))"
      ]
     },
     "execution_count": 20,
     "metadata": {},
     "output_type": "execute_result"
    }
   ],
   "source": [
    "A.dot(b), np.dot(A, b), A @ b"
   ]
  },
  {
   "cell_type": "markdown",
   "metadata": {},
   "source": [
    "If the number of columns of $\\boldsymbol A$ is different form the size of $\\boldsymbol b$, the try to multiply them will result in an error:"
   ]
  },
  {
   "cell_type": "code",
   "execution_count": 21,
   "metadata": {},
   "outputs": [
    {
     "ename": "ValueError",
     "evalue": "matmul: Input operand 1 has a mismatch in its core dimension 0, with gufunc signature (n?,k),(k,m?)->(n?,m?) (size 4 is different from 5)",
     "output_type": "error",
     "traceback": [
      "\u001b[0;31m---------------------------------------------------------------------------\u001b[0m",
      "\u001b[0;31mValueError\u001b[0m                                Traceback (most recent call last)",
      "Cell \u001b[0;32mIn[21], line 1\u001b[0m\n\u001b[0;32m----> 1\u001b[0m \u001b[43mA\u001b[49m\u001b[43m \u001b[49m\u001b[38;5;241;43m@\u001b[39;49m\u001b[43m \u001b[49m\u001b[43mnp\u001b[49m\u001b[38;5;241;43m.\u001b[39;49m\u001b[43mones\u001b[49m\u001b[43m(\u001b[49m\u001b[38;5;241;43m4\u001b[39;49m\u001b[43m)\u001b[49m\n",
      "\u001b[0;31mValueError\u001b[0m: matmul: Input operand 1 has a mismatch in its core dimension 0, with gufunc signature (n?,k),(k,m?)->(n?,m?) (size 4 is different from 5)"
     ]
    }
   ],
   "source": [
    "A @ np.ones(4)"
   ]
  },
  {
   "cell_type": "markdown",
   "metadata": {},
   "source": [
    "### Row times matrix = row\n",
    "\n",
    "Умножая матрицу на вектор-столбец, мы получаем снова вектор-столбец; умножение матрицы на вектор-строку записывают в обратном порядке:\n",
    "\n",
    "$$\n",
    "    \\boldsymbol y^\\top \\boldsymbol A = \\boldsymbol c^\\top,\\quad \\boldsymbol y \\in \\mathbb R^m, \\quad \\boldsymbol A \\in \\mathbb R^{m\\times n}, \\quad \\boldsymbol c \\in \\mathbb R^n, \\quad\n",
    "    c_j = \\sum\\limits_{i=1}^m y_i A_{ij}.\n",
    "$$\n",
    "\n",
    "Результат такого умножения представляет собой линейную комбинацию строк матрицы $\\boldsymbol A$:  $\\boldsymbol c^\\top = \\sum\\limits_{i=1}^m y_i \\boldsymbol a_i^\\top$. "
   ]
  },
  {
   "cell_type": "code",
   "execution_count": 16,
   "metadata": {},
   "outputs": [
    {
     "data": {
      "text/plain": [
       "array([[-2, -1],\n",
       "       [ 0,  1],\n",
       "       [ 2,  3]])"
      ]
     },
     "execution_count": 16,
     "metadata": {},
     "output_type": "execute_result"
    }
   ],
   "source": [
    "A = np.arange(-2, 4).reshape(3, 2)\n",
    "b = np.array([2, 1, -1])\n",
    "A"
   ]
  },
  {
   "cell_type": "code",
   "execution_count": 17,
   "metadata": {},
   "outputs": [
    {
     "data": {
      "text/plain": [
       "array([-6, -4])"
      ]
     },
     "execution_count": 17,
     "metadata": {},
     "output_type": "execute_result"
    }
   ],
   "source": [
    "b.T @ A"
   ]
  },
  {
   "cell_type": "markdown",
   "metadata": {},
   "source": [
    "Without transposition $\\boldsymbol b$ is treated as a column vector, and attempt to multiply it by $\\boldsymbol A$ fails:"
   ]
  },
  {
   "cell_type": "code",
   "execution_count": 22,
   "metadata": {},
   "outputs": [
    {
     "ename": "ValueError",
     "evalue": "matmul: Input operand 1 has a mismatch in its core dimension 0, with gufunc signature (n?,k),(k,m?)->(n?,m?) (size 2 is different from 5)",
     "output_type": "error",
     "traceback": [
      "\u001b[0;31m---------------------------------------------------------------------------\u001b[0m",
      "\u001b[0;31mValueError\u001b[0m                                Traceback (most recent call last)",
      "Cell \u001b[0;32mIn[22], line 1\u001b[0m\n\u001b[0;32m----> 1\u001b[0m \u001b[43mb\u001b[49m\u001b[43m \u001b[49m\u001b[38;5;241;43m@\u001b[39;49m\u001b[43m \u001b[49m\u001b[43mA\u001b[49m\n",
      "\u001b[0;31mValueError\u001b[0m: matmul: Input operand 1 has a mismatch in its core dimension 0, with gufunc signature (n?,k),(k,m?)->(n?,m?) (size 2 is different from 5)"
     ]
    }
   ],
   "source": [
    "b @ A"
   ]
  },
  {
   "cell_type": "markdown",
   "metadata": {},
   "source": [
    "### Row times column\n",
    "\n",
    "Заметим, что матрицу $\\boldsymbol A$ размера $1 \\times n$ можно представить в виде вектора-строки $\\boldsymbol a^\\mathsf{T}$. С другой стороны, согласно определению результат её умножения на вектор $\\boldsymbol x \\in \\mathbb R^n$ равен числу \n",
    "\n",
    "$$\n",
    "\\boldsymbol A \\boldsymbol x = \\boldsymbol a^\\mathsf{T} \\boldsymbol x = \\sum\\limits_{j=1}^n a_j x_j,\n",
    "$$\n",
    "\n",
    "а это в точности скалярное произведение $\\langle \\boldsymbol a, \\boldsymbol x\\rangle$. Отсюда и проистекает его весьма популярное обозначение через матрично-векторное произведение $\\boldsymbol a^\\mathsf{T} \\boldsymbol x$, которым мы также будем активно пользоваться в дальнейшем."
   ]
  },
  {
   "cell_type": "markdown",
   "metadata": {},
   "source": [
    "## Matrix product\n",
    "\n",
    "Матрицу $\\boldsymbol A$ можно умножить на матрицу $\\boldsymbol B$, если количество столбцов матрицы $\\boldsymbol A$ равно числу строк матрицы $\\boldsymbol B$. А именно, **произведением** матриц $\\boldsymbol A \\in\\mathbb R^{m\\times n}$ и $\\boldsymbol B \\in\\mathbb R^{n\\times p}$ является матрица $\\boldsymbol C = \\boldsymbol A \\boldsymbol B \\in\\mathbb R^{m\\times p}$, каждый элемент которой равен\n",
    "\n",
    "$$\n",
    "    C_{ik} = \\sum\\limits_{j=1}^n A_{ij}B_{jk},\\quad 1\\leqslant i \\leqslant m, \\quad 1\\leqslant k \\leqslant p.\n",
    "$$\n",
    "\n",
    "Элементы матрицы $\\boldsymbol C$ можно записать в виде $C_{ik} = \\boldsymbol a_i^\\mathsf{T} \\boldsymbol b_k$, где $\\boldsymbol a_i^\\mathsf{T}$ — строки матрицы $\\boldsymbol A$, а $\\boldsymbol b_k$ — столбцы матрицы $\\boldsymbol B$. Вычисление каждого элемента $C_{ik}$ требует $O(n)$ арифметических операций, поэтому общая сложность подсчёта произведения матриц составляет $O(mnp)$. Если все матрицы квадратные размера $n\\times n$, то сложность будет $O(n^3)$.\n",
    "\n",
    "```{admonition} А быстрее можно?\n",
    ":class: dropdown\n",
    "\n",
    "[Алгоритм Штрассена](https://ru.wikipedia.org/wiki/%D0%90%D0%BB%D0%B3%D0%BE%D1%80%D0%B8%D1%82%D0%BC_%D0%A8%D1%82%D1%80%D0%B0%D1%81%D1%81%D0%B5%D0%BD%D0%B0) позволяет перемножать квадратные матрицы чуть быстрее, а именно за $O(n^{\\log_2 7})$, что примерно составляет $O(n^{2.81})$. Алгоритм Штрассена был разработан ещё в 1969 году, и с тех пор было предложено множество алгоритмов с лучшей асимптотикой. Подробнее про эту гонку можно почитать в этой [статье](https://www.quantamagazine.org/mathematicians-inch-closer-to-matrix-multiplication-goal-20210323/), где текущая SoTA указана как $O(n^{2.3728596})$. Математики не оставляют надежд добиться асимптотики $O(n^2)$ или хотя бы $O(n^{2+\\varepsilon})$ для любого сколь угодно малого $\\varepsilon > 0$, однако, все эти изыскания носят сугубо теоретический характер из-за гигантских констант в O-большом и сложности реализации подобных алгоритмов.\n",
    "\n",
    "Впрочем, сегодня новые алгоритмы перемножения матриц придумывают не только математики, но и нейронные сети.  Например, компания DeepMind с помощью глубокого обучения подкрепления разработала алгоритм [AlphaTensor](https://www.deepmind.com/blog/discovering-novel-algorithms-with-alphatensor) способный перемножать матрицы размера $5\\times 5$ эффективнее, чем алгоритм Штрассена ($76$ умножений против $80$).\n",
    "```\n",
    "\n",
    "Произведение матриц $\\boldsymbol A \\boldsymbol B$ можно представить также в виде набора столбцов, получающихся умножением матрицы $\\boldsymbol A$ на столбцы матрицы $\\boldsymbol B$: если $\\boldsymbol B = [\\boldsymbol b_1 \\ldots \\boldsymbol b_p]$, то\n",
    "\n",
    "$$\n",
    "\\boldsymbol A \\boldsymbol B = [\\boldsymbol A\\boldsymbol b_1 \\ldots \\boldsymbol A\\boldsymbol b_p].\n",
    "$$ \n",
    "\n",
    "Или же можно строки матрицы $\\boldsymbol A$ умножать на матрицу $\\boldsymbol B$: если\n",
    "\n",
    "$$\n",
    "    \\boldsymbol A  = \\begin{pmatrix}\n",
    "        \\boldsymbol a_1^\\mathsf{T} \\\\\n",
    "        \\boldsymbol a_2^\\mathsf{T} \\\\\n",
    "        \\vdots\\\\\n",
    "        \\boldsymbol a_m^\\mathsf{T} \\\\\n",
    "    \\end{pmatrix},\n",
    "    \\text{ то }\n",
    "    \\boldsymbol A \\boldsymbol B = \n",
    "    \\begin{pmatrix}\n",
    "        \\boldsymbol a_1^\\mathsf{T} \\boldsymbol B \\\\\n",
    "        \\boldsymbol a_2^\\mathsf{T} \\boldsymbol B \\\\\n",
    "        \\vdots\\\\\n",
    "        \\boldsymbol a_m^\\mathsf{T} \\boldsymbol B \\\\\n",
    "    \\end{pmatrix}.\n",
    "$$"
   ]
  },
  {
   "cell_type": "markdown",
   "metadata": {},
   "source": [
    "Matrix product in NumPy is similar to that of vectors:"
   ]
  },
  {
   "cell_type": "code",
   "execution_count": 26,
   "metadata": {},
   "outputs": [
    {
     "name": "stdout",
     "output_type": "stream",
     "text": [
      "(2, 3) (3, 4)\n"
     ]
    }
   ],
   "source": [
    "A = np.array([[1, 2, 3], [4, 5, 6]])\n",
    "B = np.arange(12).reshape(3, 4)\n",
    "print(A.shape, B.shape)"
   ]
  },
  {
   "cell_type": "code",
   "execution_count": 27,
   "metadata": {},
   "outputs": [
    {
     "data": {
      "text/plain": [
       "array([[ 32,  38,  44,  50],\n",
       "       [ 68,  83,  98, 113]])"
      ]
     },
     "execution_count": 27,
     "metadata": {},
     "output_type": "execute_result"
    }
   ],
   "source": [
    "A.dot(B)"
   ]
  },
  {
   "cell_type": "markdown",
   "metadata": {},
   "source": [
    "### Properties of matrix product\n",
    "\n",
    "1. $(\\boldsymbol{AB})\\boldsymbol{C} = \\boldsymbol{A}(\\boldsymbol{BC})$ (ассоциативность)\n",
    "\n",
    "2. $(\\boldsymbol A + \\boldsymbol B)\\boldsymbol{C} = \\boldsymbol{AC} + \\boldsymbol{BC}$, $\\boldsymbol{C}(\\boldsymbol A + \\boldsymbol B) = \\boldsymbol{CA} + \\boldsymbol{CB}$ (дистрибутивность)\n",
    "\n",
    "3. $(\\boldsymbol{AB})^\\mathsf{T} = \\boldsymbol B^\\mathsf{T} \\boldsymbol A^\\mathsf{T}$\n",
    "\n",
    "4. $\\mathrm{tr}(\\boldsymbol{AB}) = \\mathrm{tr}(\\boldsymbol{BA})$ \n",
    "\n",
    "Последнее свойство обобщается до равенства $\\mathrm{tr}(\\boldsymbol{ABC}) = \\mathrm{tr}(\\boldsymbol{CAB})$, которое справедливо для любого числа сомножителей с согласованными размерами. Это так называемое **циклическое свойство** следа матрицы."
   ]
  },
  {
   "cell_type": "markdown",
   "metadata": {},
   "source": [
    "Let's check this properties for random matrices. Start with associativity:"
   ]
  },
  {
   "cell_type": "code",
   "execution_count": 23,
   "metadata": {},
   "outputs": [
    {
     "data": {
      "text/plain": [
       "True"
      ]
     },
     "execution_count": 23,
     "metadata": {},
     "output_type": "execute_result"
    }
   ],
   "source": [
    "m, n, p, q = 2, 3, 4, 5\n",
    "A = np.random.randn(m, n)\n",
    "B = np.random.randn(n, p)\n",
    "C = np.random.randn(p, q)\n",
    "np.allclose((A @ B).dot(C), A.dot(B @ C))"
   ]
  },
  {
   "cell_type": "markdown",
   "metadata": {},
   "source": [
    "Distributivity:"
   ]
  },
  {
   "cell_type": "code",
   "execution_count": 24,
   "metadata": {},
   "outputs": [
    {
     "data": {
      "text/plain": [
       "True"
      ]
     },
     "execution_count": 24,
     "metadata": {},
     "output_type": "execute_result"
    }
   ],
   "source": [
    "np.allclose((A + B) @ C, A @ C + B @ C)"
   ]
  },
  {
   "cell_type": "markdown",
   "metadata": {},
   "source": [
    "Transposing:"
   ]
  },
  {
   "cell_type": "code",
   "execution_count": 26,
   "metadata": {},
   "outputs": [
    {
     "data": {
      "text/plain": [
       "True"
      ]
     },
     "execution_count": 26,
     "metadata": {},
     "output_type": "execute_result"
    }
   ],
   "source": [
    "A = np.random.randn(m, n)\n",
    "B = np.random.randn(n, p)\n",
    "np.allclose((A @ B).T, B.T @ A.T)"
   ]
  },
  {
   "cell_type": "markdown",
   "metadata": {},
   "source": [
    "Trace:"
   ]
  },
  {
   "cell_type": "code",
   "execution_count": 25,
   "metadata": {},
   "outputs": [
    {
     "data": {
      "text/plain": [
       "(0.6484650575676159, 0.6484650575676162)"
      ]
     },
     "execution_count": 25,
     "metadata": {},
     "output_type": "execute_result"
    }
   ],
   "source": [
    "A = np.random.randn(m, n)\n",
    "B = np.random.randn(n, m)\n",
    "np.trace(A @ B), np.trace(B @ A)"
   ]
  },
  {
   "cell_type": "markdown",
   "metadata": {},
   "source": [
    "Несколько дополнительных свойств для квадратных матриц:\n",
    "\n",
    "* $\\boldsymbol{AI} = \\boldsymbol{IA} = \\boldsymbol A$;\n",
    "\n",
    "* если $\\boldsymbol P$ — матрица перестановки, то матрица $\\boldsymbol{PA}$ получается из матрицы $\\boldsymbol A$ перестановкой строк, а матрица $\\boldsymbol{AP}$ — перестановкой столбцов;\n",
    "\n",
    "* произведение двух верхних (нижних) треугольных матриц тоже верхняя (нижняя) треугольная матрица;\n",
    "\n",
    "* если матрица $\\boldsymbol Q$ ортогональна, то $\\boldsymbol{QQ}^\\mathsf{T} = \\boldsymbol Q^\\mathsf{T} \\boldsymbol Q = \\boldsymbol I$.\n",
    "\n",
    "А вот коммутировать квадратные матрицы не обязаны: в общем случае $\\boldsymbol{AB} \\ne \\boldsymbol{BA}$.\n"
   ]
  },
  {
   "cell_type": "code",
   "execution_count": 28,
   "metadata": {},
   "outputs": [
    {
     "data": {
      "text/plain": [
       "False"
      ]
     },
     "execution_count": 28,
     "metadata": {},
     "output_type": "execute_result"
    }
   ],
   "source": [
    "A = np.random.randn(n, n)\n",
    "B = np.random.randn(n, n)\n",
    "np.allclose(A @ B, B @ A)"
   ]
  },
  {
   "cell_type": "markdown",
   "metadata": {},
   "source": [
    "### Powers of matrices\n",
    "\n",
    "Квадратные матрицы можно возводить в натуральную степень так же, как и обычные числа. Вот, например, индуктивное определение степени матрицы:\n",
    "\n",
    "$$\n",
    "    \\boldsymbol A^n = \\boldsymbol A^{n-1} \\boldsymbol A, \\quad n\\in\\mathbb N,\\quad \\boldsymbol A^0 = \\boldsymbol I.\n",
    "$$\n",
    "\n",
    "Справедливы равенства \n",
    "\n",
    "$$\n",
    "    \\boldsymbol A^{m+n} = \\boldsymbol A^m\\boldsymbol A^n,\\quad \\boldsymbol A^{mn} = \\boldsymbol (\\boldsymbol A^m)^n, \\quad m, n \\in \\mathbb N.\n",
    "$$\n",
    "\n",
    "Можно даже пойти дальше, и определить взятие экспоненты или синуса от матрицы через ряд Тейлора:\n",
    "\n",
    "$$\n",
    "    \\exp(\\boldsymbol A) = \\sum\\limits_{n=0}^\\infty \\frac{\\boldsymbol A^n}{n!},\\quad\n",
    "    \\sin(\\boldsymbol A) = \\sum\\limits_{n=0}^\\infty (-1)^n\\frac{\\boldsymbol A^{2n+1}}{(2n+1)!}\n",
    "$$\n",
    "\n",
    "(можно доказать, что эти ряды сходятся).\n",
    "\n",
    "```{warning}\n",
    "В машинном (и особенно глубинном) обучении часто берут числовую функцию от матрицы, например $\\log(\\boldsymbol A)$, $\\tanh(\\boldsymbol A)$ или $\\sigma(\\boldsymbol A)$, где $\\sigma(x) = \\frac 1{1+e^{-x}}$ — сигмоида. Такая запись почти наверное подразумевает поэлементное применение функции к каждой ячейке матрицы $\\boldsymbol A$, а вовсе не матричные ряды! Тем более что матрицы в машинном обучении чаще всего прямоугольные, а для них нельзя определить ни степень, ни ряд.\n",
    "```"
   ]
  },
  {
   "cell_type": "markdown",
   "metadata": {},
   "source": [
    "Exponent in `numpy` is elementwise:"
   ]
  },
  {
   "cell_type": "code",
   "execution_count": 28,
   "metadata": {},
   "outputs": [
    {
     "data": {
      "text/plain": [
       "array([[1.00000000e+00, 2.71828183e+00, 7.38905610e+00, 2.00855369e+01],\n",
       "       [5.45981500e+01, 1.48413159e+02, 4.03428793e+02, 1.09663316e+03],\n",
       "       [2.98095799e+03, 8.10308393e+03, 2.20264658e+04, 5.98741417e+04]])"
      ]
     },
     "execution_count": 28,
     "metadata": {},
     "output_type": "execute_result"
    }
   ],
   "source": [
    "np.exp(B)"
   ]
  },
  {
   "cell_type": "markdown",
   "metadata": {},
   "source": [
    "## One-rank matrix\n",
    "\n",
    "**Одноранговая матрица** задаётся произведением столбца на строку: $\\boldsymbol A = \\boldsymbol {uv}^\\mathsf{T}$, $\\boldsymbol u \\in \\mathbb R^m$, $\\boldsymbol v \\in \\mathbb R^n$. Элементы этой прямоугольной матрицы равны $A_{ij} = u_i v_j$, а все её строки/столбцы пропорциональны. Отметим также, что если $m=n$, то \n",
    "\n",
    "$$\n",
    "    \\mathrm{tr}(\\boldsymbol {uv}^\\mathsf{T}) = \\sum\\limits_{i=1}^n u_i v_i = \\boldsymbol v^\\mathsf{T} \\boldsymbol u = \\mathrm{tr}(\\boldsymbol v^\\mathsf{T} \\boldsymbol u).\n",
    "$$\n",
    "\n",
    "Произведение матриц $\\boldsymbol A \\in\\mathbb R^{m\\times n}$ и $\\boldsymbol B \\in\\mathbb R^{n\\times p}$ можно записать в виде суммы одноранговых матриц:\n",
    "\n",
    "$$\n",
    "    \\boldsymbol {AB} = [\\boldsymbol a_1, \\ldots, \\boldsymbol a_n] \\begin{pmatrix}\n",
    "        \\boldsymbol b_1^\\mathsf{T} \\\\\n",
    "        \\boldsymbol b_2^\\mathsf{T} \\\\\n",
    "        \\vdots\\\\\n",
    "        \\boldsymbol b_n^\\mathsf{T} \\\\\n",
    "    \\end{pmatrix} = \n",
    "    \\sum\\limits_{j=1}^n \\boldsymbol a_j  \\boldsymbol b_j^\\mathsf{T}.\n",
    "$$\n",
    "\n",
    "В англоязычной литературе умножение столбца на строку $\\boldsymbol {uv}^\\mathsf{T}$ называется **outer product** («внешнее произведение»), по аналогии со скалярным произведением  $\\boldsymbol u^\\mathsf{T}\\boldsymbol v$, называемым **inner product** («внутреннее произведение»).\n"
   ]
  },
  {
   "cell_type": "markdown",
   "metadata": {},
   "source": [
    "## Block matrices\n",
    "\n",
    "**Блочная матрица** имеет вид\n",
    "\n",
    "$$\n",
    "        \\begin{pmatrix}\n",
    "        \\boldsymbol A & \\boldsymbol B \\\\\n",
    "        \\boldsymbol C & \\boldsymbol D \n",
    "        \\end{pmatrix} =\n",
    "        \\left(\\begin{array}{@{}c|c@{}}\n",
    "        \\begin{matrix}\n",
    "            a_{11} & \\dots & a_{1m} \\\\\n",
    "            \\vdots & \\ddots & \\vdots \\\\\n",
    "            a_{k1} & \\dots & a_{km}\n",
    "        \\end{matrix}\n",
    "        &\n",
    "        \\begin{matrix}\n",
    "            b_{11} & \\dots & b_{1n} \\\\\n",
    "            \\vdots & \\ddots & \\vdots \\\\\n",
    "            b_{k1} & \\dots & b_{kn}\n",
    "        \\end{matrix} \\\\\n",
    "        \\hline\n",
    "        \\begin{matrix}\n",
    "            c_{11} & \\dots & c_{1m} \\\\\n",
    "            \\vdots & \\ddots & \\vdots \\\\\n",
    "            c_{\\ell 1} & \\dots & c_{\\ell m}\n",
    "        \\end{matrix} \n",
    "        &\n",
    "        \\begin{matrix}\n",
    "            d_{11} & \\dots & d_{1n} \\\\\n",
    "            \\vdots & \\ddots & \\vdots \\\\\n",
    "            d_{\\ell 1} & \\dots & d_{\\ell n}\n",
    "        \\end{matrix}\n",
    "        \\end{array}\\right).\n",
    "$$\n",
    "\n",
    "<!--\n",
    "<details>\n",
    " <summary markdown=\"span\">Ответ </summary>\n",
    "<div>\n",
    "Блоки $\\boldsymbol B$ и $\\boldsymbol C$ надо переставить, и не забыть ещё транспонировать каждый блок:\n",
    "\n",
    "$$\n",
    "    \\begin{pmatrix}\n",
    "        \\boldsymbol A^\\top & \\boldsymbol C^\\top \\\\\n",
    "        \\boldsymbol B^\\top & \\boldsymbol D^\\top \n",
    "    \\end{pmatrix}.\n",
    "$$\n",
    "\n",
    "</div>\n",
    "</details>\n",
    "-->\n",
    "\n",
    "Блочные матрицы могут иметь произвольное число матричных блоков по каждому измерению. Интересно, что перемножать блочные матрицы можно по тем же правилам, что и матрицы из чисел, например\n",
    "\n",
    "$$\n",
    "    \\begin{pmatrix}\n",
    "        \\boldsymbol A_{11} & \\boldsymbol A_{12} \\\\\n",
    "        \\boldsymbol A_{21} & \\boldsymbol A_{22} \n",
    "    \\end{pmatrix}\n",
    "    \\begin{pmatrix}\n",
    "        \\boldsymbol B_1 \\\\\n",
    "        \\boldsymbol B_2 \n",
    "    \\end{pmatrix} = \n",
    "    \\begin{pmatrix}\n",
    "        \\boldsymbol A_{11} \\boldsymbol B_1 + \\boldsymbol A_{12} \\boldsymbol B_2 \\\\\n",
    "        \\boldsymbol A_{21} \\boldsymbol B_1 + \\boldsymbol A_{22} \\boldsymbol B_2\n",
    "    \\end{pmatrix}\n",
    "$$\n",
    "\n",
    "(при условии, что размеры матриц позволяют корректно произвести все матричные умножения).\n"
   ]
  },
  {
   "cell_type": "markdown",
   "metadata": {},
   "source": [
    "## Exercises\n",
    "\n",
    "1. Calculate $\\mathrm{tr}(\\boldsymbol I_n)$.\n",
    "\n",
    "2. Prove that the main diagonal of a skew-symmetric matrix contains only zeros.\n",
    "\n",
    "3. Prove that the rotation matrix {eq}`rotation-matrix` is orthogonal.\n",
    "\n",
    "4. Prove that any **reflection matrix** $\\boldsymbol I - 2\\boldsymbol u \\boldsymbol u^\\top$, $\\boldsymbol u \\in\\mathbb R^n$, $\\Vert \\boldsymbol u \\Vert_2 = 1$, is orthogonal.\n",
    "\n",
    "5. How many arithmetic operations is required for calculation $\\boldsymbol{Ax}$ if $\\boldsymbol A \\in \\mathbb R^{m\\times n}$,  $\\boldsymbol x \\in \\mathbb R^n$? What if $m=n$?\n",
    "\n",
    "6. Give an example of two square matrices $\\boldsymbol A$ and $\\boldsymbol B$ such that $\\boldsymbol{AB} \\ne \\boldsymbol{BA}$.\n",
    "\n",
    "7. Prove that $\\mathrm{tr}(\\boldsymbol{A} + \\boldsymbol{B}) = \\mathrm{tr}(\\boldsymbol{A}) + \\mathrm{tr}(\\boldsymbol{B})$, $\\mathrm{tr}(\\lambda\\boldsymbol{A}) = \\lambda\\mathrm{tr}(\\boldsymbol{A})$,  $\\mathrm{tr}(\\boldsymbol{AB}) = \\mathrm{tr}(\\boldsymbol{BA})$.\n",
    "\n",
    "8. Let $\\boldsymbol A$ and $\\boldsymbol B$ be two symmetric matrices of the same shape. Is their product is necessarily symmetric?\n",
    "\n",
    "9. Find the transpose to the block matrix\n",
    "\n",
    "$$\n",
    "    \\begin{pmatrix}\n",
    "        \\boldsymbol A & \\boldsymbol B \\\\\n",
    "        \\boldsymbol C & \\boldsymbol D \n",
    "    \\end{pmatrix},\n",
    "$$\n",
    "\n",
    "where $\\boldsymbol A \\in \\mathbb R^{k\\times m}$, $\\boldsymbol B \\in \\mathbb R^{k\\times n}$, $\\boldsymbol C \\in \\mathbb R^{\\ell\\times m}$, $\\boldsymbol D \\in \\mathbb R^{\\ell\\times n}$."
   ]
  }
 ],
 "metadata": {
  "kernelspec": {
   "display_name": "Python 3 (ipykernel)",
   "language": "python",
   "name": "python3"
  },
  "language_info": {
   "codemirror_mode": {
    "name": "ipython",
    "version": 3
   },
   "file_extension": ".py",
   "mimetype": "text/x-python",
   "name": "python",
   "nbconvert_exporter": "python",
   "pygments_lexer": "ipython3",
   "version": "3.11.4"
  }
 },
 "nbformat": 4,
 "nbformat_minor": 2
}
