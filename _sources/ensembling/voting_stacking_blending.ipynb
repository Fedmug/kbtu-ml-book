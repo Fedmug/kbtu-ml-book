{
 "cells": [
  {
   "cell_type": "markdown",
   "id": "60f7a5b5",
   "metadata": {},
   "source": [
    "# Voting, stacking and blending\n",
    "\n",
    "Ensembling techniques like boosting, stacking, and blending are powerful strategies for combining the predictions of multiple base models to improve overall model performance. "
   ]
  },
  {
   "cell_type": "markdown",
   "id": "51db9620",
   "metadata": {},
   "source": [
    "1. <h4>Boosting:</h4>\n",
    "\n",
    "* Basic Idea: Boosting is an ensemble method that combines multiple weak base models (models that perform slightly better than random chance) into a strong ensemble model. It focuses on correcting errors made by previous models by assigning higher weights to misclassified data points.\n",
    "* Training Process: Boosting trains base models sequentially, with each model giving more weight to data points that previous models struggled with. The final prediction is typically obtained by weighted averaging or voting.\n",
    "* Strengths: Boosting is highly effective at reducing bias and improving predictive accuracy. It can adapt to complex relationships in the data.\n",
    "* Weaknesses: It can be sensitive to noisy data and outliers. The sequential nature of boosting can make it computationally expensive.\n",
    "\n",
    "2. <h4>Stacking (Stacked Generalization):</h4>\n",
    "\n",
    "* Basic Idea: Stacking is an ensemble method that combines the predictions of multiple base models by training a meta-model (also called a meta-learner) on top of them. The meta-model learns to weigh the predictions of the base models.\n",
    "* Training Process: Stacking involves two stages:\n",
    "    * Training the base models on the original data.\n",
    "    * Using the base models' predictions as input features to train the meta-model.\n",
    "* Strengths: Stacking can capture complex relationships between base models and often leads to improved performance. It is flexible and can accommodate various base models.\n",
    "* Weaknesses: It may require more computational resources and tuning compared to simpler ensemble methods.\n",
    "\n",
    "3. <h4>Blending:</h4>\n",
    "\n",
    "* Basic Idea: Blending is a simplified version of stacking that combines the predictions of base models without the need for a separate meta-model. Instead, blending typically uses a simple rule, such as averaging, to combine the predictions.\n",
    "* Training Process: Blending involves training the base models on the original data and then combining their predictions using a predefined rule.\n",
    "* Strengths: Blending is easy to implement and can yield improvements by leveraging the diversity of base models.\n",
    "* Weaknesses: It may not capture complex interactions between base models as effectively as stacking. The choice of the combining rule is critical.\n",
    "\n",
    "4. <h4>Ensemble Characteristics:</h4>\n",
    "\n",
    "* All three ensembling techniques aim to reduce bias and variance, leading to better generalization performance.\n",
    "* The success of these methods often depends on the diversity of the base models. More diverse models tend to result in better ensembles.\n",
    "* Careful hyperparameter tuning and cross-validation are crucial for optimizing ensemble performance.\n",
    "* In practice, the choice between boosting, stacking, and blending depends on the specific problem, dataset, and computational resources available. Each method has its own strengths and weaknesses, and the selection should be guided by the problem's requirements and constraints. Experimentation and testing different ensemble approaches are often necessary to determine the most effective strategy for a particular machine learning task.\n",
    "\n",
    "\n",
    "\n",
    "In practice, the choice between boosting, stacking, and blending depends on the specific problem, dataset, and computational resources available. Each method has its own strengths and weaknesses, and the selection should be guided by the problem's requirements and constraints. Experimentation and testing different ensemble approaches are often necessary to determine the most effective strategy for a particular machine learning task."
   ]
  },
  {
   "cell_type": "markdown",
   "id": "90cac094",
   "metadata": {},
   "source": [
    "### Python implementation\n",
    "\n",
    "The code example that demonstrates how to implement boosting, stacking, and blending using scikit-learn for a classification problem. In this example, we'll use three different base models and ensemble them using these techniques."
   ]
  },
  {
   "cell_type": "code",
   "execution_count": 2,
   "id": "3bb75e7f",
   "metadata": {},
   "outputs": [
    {
     "name": "stdout",
     "output_type": "stream",
     "text": [
      "Individual Model 1 Accuracy: 1.0\n",
      "Individual Model 2 Accuracy: 1.0\n",
      "Individual Model 3 Accuracy: 1.0\n",
      "Boosting Accuracy: 1.0\n",
      "Stacking Accuracy: 1.0\n",
      "Blending Accuracy: 1.0\n"
     ]
    }
   ],
   "source": [
    "import numpy as np\n",
    "from sklearn.datasets import load_iris\n",
    "from sklearn.model_selection import train_test_split\n",
    "from sklearn.ensemble import AdaBoostClassifier, RandomForestClassifier\n",
    "from sklearn.linear_model import LogisticRegression\n",
    "from sklearn.metrics import accuracy_score\n",
    "\n",
    "# Load the Iris dataset as an example classification dataset\n",
    "data = load_iris()\n",
    "X = data.data\n",
    "y = data.target\n",
    "\n",
    "# Split the data into training and testing sets\n",
    "X_train, X_test, y_train, y_test = train_test_split(X, y, test_size=0.2, random_state=42)\n",
    "\n",
    "# Base models\n",
    "model1 = AdaBoostClassifier(n_estimators=50, random_state=42)\n",
    "model2 = RandomForestClassifier(n_estimators=100, random_state=42)\n",
    "model3 = LogisticRegression(random_state=42)\n",
    "\n",
    "# Fit base models on the training data\n",
    "model1.fit(X_train, y_train)\n",
    "model2.fit(X_train, y_train)\n",
    "model3.fit(X_train, y_train)\n",
    "\n",
    "# Make predictions using base models\n",
    "pred1 = model1.predict(X_test)\n",
    "pred2 = model2.predict(X_test)\n",
    "pred3 = model3.predict(X_test)\n",
    "\n",
    "# Ensemble methods\n",
    "\n",
    "# Boosting (AdaBoost)\n",
    "ensemble_pred_boosting = np.round((pred1 + pred2 + pred3) / 3).astype(int)\n",
    "\n",
    "# Stacking\n",
    "stacking_X_train = np.column_stack((pred1, pred2, pred3))\n",
    "stacking_model = LogisticRegression(random_state=42)\n",
    "stacking_model.fit(stacking_X_train, y_test.reshape(-1))\n",
    "\n",
    "stacking_X_test = np.column_stack((model1.predict(X_test), model2.predict(X_test), model3.predict(X_test)))\n",
    "ensemble_pred_stacking = stacking_model.predict(stacking_X_test)\n",
    "\n",
    "# Blending (Simple Averaging)\n",
    "ensemble_pred_blending = np.round((pred1 + pred2 + pred3) / 3).astype(int)\n",
    "\n",
    "# Evaluate individual models and ensembles\n",
    "individual_model1_accuracy = accuracy_score(y_test, pred1)\n",
    "individual_model2_accuracy = accuracy_score(y_test, pred2)\n",
    "individual_model3_accuracy = accuracy_score(y_test, pred3)\n",
    "boosting_accuracy = accuracy_score(y_test, ensemble_pred_boosting)\n",
    "stacking_accuracy = accuracy_score(y_test, ensemble_pred_stacking)\n",
    "blending_accuracy = accuracy_score(y_test, ensemble_pred_blending)\n",
    "\n",
    "print(\"Individual Model 1 Accuracy:\", individual_model1_accuracy)\n",
    "print(\"Individual Model 2 Accuracy:\", individual_model2_accuracy)\n",
    "print(\"Individual Model 3 Accuracy:\", individual_model3_accuracy)\n",
    "print(\"Boosting Accuracy:\", boosting_accuracy)\n",
    "print(\"Stacking Accuracy:\", stacking_accuracy)\n",
    "print(\"Blending Accuracy:\", blending_accuracy)"
   ]
  },
  {
   "cell_type": "markdown",
   "id": "071665f3",
   "metadata": {},
   "source": [
    "In this code:\n",
    "\n",
    "* We load the Iris dataset as an example classification dataset and split it into training and testing sets.\n",
    "* We create three different base models: AdaBoostClassifier, RandomForestClassifier, and LogisticRegression.\n",
    "* Each base model is trained on the training data, and predictions are made on the test data.\n",
    "* We demonstrate three ensemble methods:\n",
    "    * Boosting: We average the predictions of the three base models for the ensemble.\n",
    "    * Stacking: We use LogisticRegression as a meta-model to learn to combine the predictions of the base models.\n",
    "    * Blending: We simply average the predictions of the three base models for the ensemble.\n",
    "\n",
    "Finally, we evaluate the accuracy of the individual models and the ensembles. Note that this is a simplified example, and in practice, you may need to fine-tune hyperparameters and use more diverse base models to achieve optimal performance.\n"
   ]
  },
  {
   "cell_type": "code",
   "execution_count": null,
   "id": "fc43f9bd",
   "metadata": {},
   "outputs": [],
   "source": []
  }
 ],
 "metadata": {
  "kernelspec": {
   "display_name": "Python 3 (ipykernel)",
   "language": "python",
   "name": "python3"
  },
  "language_info": {
   "codemirror_mode": {
    "name": "ipython",
    "version": 3
   },
   "file_extension": ".py",
   "mimetype": "text/x-python",
   "name": "python",
   "nbconvert_exporter": "python",
   "pygments_lexer": "ipython3",
   "version": "3.11.4"
  }
 },
 "nbformat": 4,
 "nbformat_minor": 5
}
