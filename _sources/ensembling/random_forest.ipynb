{
 "cells": [
  {
   "cell_type": "markdown",
   "id": "ccd19d51",
   "metadata": {},
   "source": [
    "# Random forests\n",
    "\n",
    "```{admonition} ChatGPT stuff\n",
    ":class: important, dropdown\n",
    "\n",
    "Bagging (Bootstrap Aggregating) and Random Forests are ensemble learning techniques that improve the predictive performance and robustness of decision tree models. Both methods leverage the power of combining multiple decision trees to reduce overfitting and improve generalization. However, they differ in some key aspects. Let's explore Bagging and Random Forests in more detail:\n",
    "\n",
    "1. Bagging (Bootstrap Aggregating)\n",
    "\n",
    "* <h6>Basic Idea:</h6> Bagging is an ensemble technique that involves training multiple decision trees independently on different bootstrap samples (randomly sampled subsets with replacement) from the training data and then aggregating their predictions.\n",
    "<br>\n",
    "\n",
    "* <h6>Base Models:</h6> In a Bagging ensemble, the base models are typically decision trees. Each decision tree is trained on a different subset of the training data, which introduces diversity among the base models.\n",
    "<br>\n",
    "\n",
    "* <h6>Aggregation:</h6> For regression tasks, the predictions of individual trees are averaged to obtain the ensemble prediction. For classification tasks, the majority vote (mode) of the individual tree predictions is taken as the final prediction.\n",
    "<br>\n",
    "\n",
    "* <h6>Variance Reduction:</h6> Bagging primarily aims to reduce variance. By averaging or voting over multiple models, it reduces the impact of random noise and fluctuations in the training data. This makes the ensemble more robust and less prone to overfitting.\n",
    "<br>\n",
    "\n",
    "* <h6>Randomness:</h6> While bagging introduces randomness through bootstrap sampling, it does not introduce additional randomness when growing individual trees. Each tree is trained using the same set of features as the original dataset.\n",
    "\n",
    "\n",
    "2. Random Forests\n",
    "\n",
    "* <h6>Basic Idea:</h6> Random Forests is an extension of Bagging that introduces additional randomness during the construction of individual decision trees. It combines the concept of bagging with feature selection randomness.\n",
    "<br>\n",
    "    \n",
    "* <h6>Base Models:</h6> The base models in Random Forests are also decision trees, but they are constructed using a random subset of features at each node (typically the square root of the total number of features). This feature selection randomness introduces diversity among the base models.\n",
    "<br>\n",
    "    \n",
    "* <h6>Aggregation:</h6> Similar to Bagging, Random Forests aggregate the predictions of individual trees by averaging (for regression) or majority vote (for classification) to obtain the final prediction.\n",
    "<br>\n",
    "    \n",
    "* <h6>Variance Reduction:</h6> Random Forests aim to reduce both bias and variance. The feature selection randomness during tree construction helps decorrelate the trees and further reduce the risk of overfitting.\n",
    "<br>\n",
    "    \n",
    "* <h6>Randomness:</h6> In addition to the bootstrap sampling, Random Forests introduce randomness by selecting a random subset of features at each node when growing decision trees. This increases diversity among the trees.\n",
    "<br>\n",
    "    \n",
    "* <h6>Out-of-Bag (OOB) Error:</h6> Random Forests have a built-in mechanism for estimating the generalization error without the need for a separate validation set. The OOB error is calculated based on the samples not included in the bootstrap sample for each tree.\n",
    "```"
   ]
  },
  {
   "cell_type": "markdown",
   "id": "77f39850",
   "metadata": {},
   "source": [
    "In summary, both Bagging and Random Forests are ensemble methods that reduce overfitting and improve predictive performance by combining multiple decision trees. However, Random Forests go a step further by introducing feature selection randomness during tree construction, making them more robust and less prone to overfitting. As a result, Random Forests are often preferred when working with decision tree-based ensembles for a wide range of tasks."
   ]
  },
  {
   "cell_type": "markdown",
   "id": "d2782066",
   "metadata": {},
   "source": [
    "## Boston dataset"
   ]
  },
  {
   "cell_type": "code",
   "execution_count": 1,
   "id": "98331431",
   "metadata": {},
   "outputs": [],
   "source": [
    "import pandas as pd\n",
    "from sklearn.model_selection import train_test_split\n",
    "\n",
    "boston = pd.read_csv(\"../ISLP_datasets/Boston.csv\").drop(\"Unnamed: 0\", axis=1)\n",
    "y = boston['medv']\n",
    "X = boston.drop('medv', axis=1)\n",
    "X_train, X_test, y_train, y_test = train_test_split(X, y, test_size=0.2)"
   ]
  },
  {
   "cell_type": "markdown",
   "id": "b27a2acf",
   "metadata": {},
   "source": [
    "Train a random forest model:"
   ]
  },
  {
   "cell_type": "code",
   "execution_count": 7,
   "id": "132724f7",
   "metadata": {},
   "outputs": [
    {
     "name": "stdout",
     "output_type": "stream",
     "text": [
      "Train score: 0.9819899024023991\n",
      "Train score: 0.8233943436830142\n"
     ]
    }
   ],
   "source": [
    "from sklearn.ensemble import RandomForestRegressor\n",
    "\n",
    "rf = RandomForestRegressor()\n",
    "rf.fit(X_train, y_train)\n",
    "print(\"Train score:\", rf.score(X_train, y_train))\n",
    "print(\"Train score:\", rf.score(X_test, y_test))"
   ]
  },
  {
   "cell_type": "markdown",
   "id": "325600e9",
   "metadata": {},
   "source": [
    "### Bagging"
   ]
  },
  {
   "cell_type": "code",
   "execution_count": 7,
   "id": "3af27114",
   "metadata": {},
   "outputs": [
    {
     "name": "stdout",
     "output_type": "stream",
     "text": [
      "Mean Squared Error: 0.26\n"
     ]
    }
   ],
   "source": [
    "from sklearn.datasets import fetch_california_housing\n",
    "from sklearn.model_selection import train_test_split\n",
    "from sklearn.tree import DecisionTreeRegressor\n",
    "from sklearn.ensemble import BaggingRegressor\n",
    "from sklearn.metrics import mean_squared_error\n",
    "\n",
    "# Load the California Housing dataset as an example\n",
    "data = fetch_california_housing()\n",
    "X = data.data\n",
    "y = data.target\n",
    "\n",
    "# Split the data into training and testing sets\n",
    "X_train, X_test, y_train, y_test = train_test_split(X, y, test_size=0.2, random_state=42)\n",
    "\n",
    "# Create a base decision tree regressor\n",
    "base_model = DecisionTreeRegressor(random_state=42)\n",
    "\n",
    "# Create a Bagging Regressor with 100 base models (decision trees)\n",
    "bagging_model = BaggingRegressor(base_model, n_estimators=100, random_state=42)\n",
    "\n",
    "# Train the Bagging Regressor on the training data\n",
    "bagging_model.fit(X_train, y_train)\n",
    "\n",
    "# Make predictions on the test data\n",
    "y_pred = bagging_model.predict(X_test)\n",
    "\n",
    "# Evaluate the model's performance\n",
    "mse = mean_squared_error(y_test, y_pred)\n",
    "print(f\"Mean Squared Error: {mse:.2f}\")"
   ]
  },
  {
   "cell_type": "markdown",
   "id": "ff73b20c",
   "metadata": {},
   "source": [
    "In this code:\n",
    "\n",
    "* We load the California Housing dataset from scikit-learn as an example regression dataset.\n",
    "* The dataset is split into training and testing sets using train_test_split.\n",
    "* We create a base model, which is a decision tree regressor.\n",
    "* We create a Bagging Regressor with 100 base models (decision trees) using BaggingRegressor.\n",
    "* The Bagging Regressor is trained on the training data using fit.\n",
    "* We make predictions on the test data using predict.\n",
    "* Finally, we evaluate the model's performance using the mean squared error (MSE).\n",
    "\n",
    "You can modify this code to work with your own dataset and adjust hyperparameters as needed. Bagging can also be applied to classification tasks using BaggingClassifier in scikit-learn."
   ]
  },
  {
   "cell_type": "markdown",
   "id": "7187fed8",
   "metadata": {},
   "source": [
    "### Random forest"
   ]
  },
  {
   "cell_type": "code",
   "execution_count": 8,
   "id": "660dde41",
   "metadata": {},
   "outputs": [
    {
     "name": "stdout",
     "output_type": "stream",
     "text": [
      "Mean Squared Error: 0.26\n",
      "R-squared (R2) Score: 0.81\n"
     ]
    }
   ],
   "source": [
    "from sklearn.datasets import fetch_california_housing\n",
    "from sklearn.model_selection import train_test_split\n",
    "from sklearn.ensemble import RandomForestRegressor\n",
    "from sklearn.metrics import mean_squared_error, r2_score\n",
    "\n",
    "# Load the California Housing dataset as an example\n",
    "data = fetch_california_housing()\n",
    "X = data.data\n",
    "y = data.target\n",
    "\n",
    "# Split the data into training and testing sets\n",
    "X_train, X_test, y_train, y_test = train_test_split(X, y, test_size=0.2, random_state=42)\n",
    "\n",
    "# Create a Random Forest Regressor with 100 trees (estimators)\n",
    "rf_regressor = RandomForestRegressor(n_estimators=100, random_state=42)\n",
    "\n",
    "# Train the Random Forest Regressor on the training data\n",
    "rf_regressor.fit(X_train, y_train)\n",
    "\n",
    "# Make predictions on the test data\n",
    "y_pred = rf_regressor.predict(X_test)\n",
    "\n",
    "# Evaluate the model's performance\n",
    "mse = mean_squared_error(y_test, y_pred)\n",
    "r2 = r2_score(y_test, y_pred)\n",
    "\n",
    "print(f\"Mean Squared Error: {mse:.2f}\")\n",
    "print(f\"R-squared (R2) Score: {r2:.2f}\")"
   ]
  },
  {
   "cell_type": "markdown",
   "id": "115c3a27",
   "metadata": {},
   "source": [
    "In this code:\n",
    "\n",
    "* We load the California Housing dataset from scikit-learn as an example regression dataset.\n",
    "\n",
    "* The dataset is split into training and testing sets using train_test_split.\n",
    "\n",
    "* We create a Random Forest Regressor with 100 decision trees (estimators) using RandomForestRegressor. You can adjust the n_estimators parameter to change the number of trees in the forest.\n",
    "\n",
    "* The Random Forest Regressor is trained on the training data using fit.\n",
    "\n",
    "* We make predictions on the test data using predict.\n",
    "\n",
    "* Finally, we evaluate the model's performance using metrics such as mean squared error (MSE) and R-squared (R2) score.\n",
    "\n",
    "You can modify this code to work with your own dataset and adjust hyperparameters as needed. Random Forest Regression is a powerful technique for solving regression tasks, as it combines the strengths of multiple decision trees while mitigating their weaknesses, such as overfitting."
   ]
  },
  {
   "cell_type": "code",
   "execution_count": null,
   "id": "9386f408",
   "metadata": {},
   "outputs": [],
   "source": []
  }
 ],
 "metadata": {
  "kernelspec": {
   "display_name": "Python 3 (ipykernel)",
   "language": "python",
   "name": "python3"
  },
  "language_info": {
   "codemirror_mode": {
    "name": "ipython",
    "version": 3
   },
   "file_extension": ".py",
   "mimetype": "text/x-python",
   "name": "python",
   "nbconvert_exporter": "python",
   "pygments_lexer": "ipython3",
   "version": "3.11.4"
  }
 },
 "nbformat": 4,
 "nbformat_minor": 5
}
