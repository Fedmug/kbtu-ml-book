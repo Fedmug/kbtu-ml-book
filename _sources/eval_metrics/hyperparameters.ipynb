{
 "cells": [
  {
   "cell_type": "markdown",
   "metadata": {},
   "source": [
    "# Hyperparameters tuning\n",
    "\n",
    "See [here](https://academy.yandex.ru/handbook/ml/article/beta-podbor-giperparametrov) for a quick start.\n",
    "\n",
    "## Grid search\n",
    "\n",
    "## Random search\n",
    "\n",
    "## Bayesian optimization"
   ]
  }
 ],
 "metadata": {
  "language_info": {
   "name": "python"
  },
  "orig_nbformat": 4
 },
 "nbformat": 4,
 "nbformat_minor": 2
}
