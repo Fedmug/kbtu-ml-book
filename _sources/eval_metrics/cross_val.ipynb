{
 "cells": [
  {
   "cell_type": "markdown",
   "id": "90558006",
   "metadata": {},
   "source": [
    "# Cross-validation\n",
    "\n",
    "Cross-validation is a widely used technique in machine learning and statistics for assessing the performance and generalization of a predictive model. The basic idea is to split the dataset into multiple subsets, train and test the model on different combinations of these subsets, and then aggregate the results to get a more comprehensive performance evaluation. \n",
    "\n",
    "A good source in Russian: [ML Handbook chapter](https://academy.yandex.ru/handbook/ml/article/beta-kross-validaciya).\n",
    "\n",
    "## Hold-out\n",
    "\n",
    "Divide the dataset into train and test, using [`train_test_split()`](https://scikit-learn.org/stable/modules/generated/sklearn.model_selection.train_test_split.html)\n",
    "\n",
    "\n",
    "### Stratify\n",
    "\n",
    "If the dataset has unbalanced classes, it's important to verify that proportion of classes is correct in both train and test."
   ]
  },
  {
   "cell_type": "code",
   "execution_count": 30,
   "id": "cf0a81f5",
   "metadata": {},
   "outputs": [
    {
     "data": {
      "text/plain": [
       "class\n",
       "good    700\n",
       "bad     300\n",
       "Name: count, dtype: int64"
      ]
     },
     "execution_count": 30,
     "metadata": {},
     "output_type": "execute_result"
    }
   ],
   "source": [
    "from sklearn.datasets import fetch_openml\n",
    "credit_g = fetch_openml(name=\"credit-g\", version=1, parser='auto')\n",
    "credit_g['target'].value_counts()"
   ]
  },
  {
   "cell_type": "markdown",
   "id": "9be9ae81",
   "metadata": {},
   "source": [
    "Split into train and test:"
   ]
  },
  {
   "cell_type": "code",
   "execution_count": 51,
   "id": "be8c9ae3",
   "metadata": {},
   "outputs": [
    {
     "data": {
      "text/plain": [
       "class\n",
       "good    151\n",
       "bad      49\n",
       "Name: count, dtype: int64"
      ]
     },
     "execution_count": 51,
     "metadata": {},
     "output_type": "execute_result"
    }
   ],
   "source": [
    "from sklearn.model_selection import train_test_split \n",
    "*_, y_test = train_test_split(credit_g['data'], credit_g['target'], test_size=0.2, random_state=9)\n",
    "y_test.value_counts()"
   ]
  },
  {
   "cell_type": "markdown",
   "id": "a08ca58c",
   "metadata": {},
   "source": [
    "Add stratification:"
   ]
  },
  {
   "cell_type": "code",
   "execution_count": 52,
   "id": "1fad016e",
   "metadata": {},
   "outputs": [
    {
     "data": {
      "text/plain": [
       "class\n",
       "good    140\n",
       "bad      60\n",
       "Name: count, dtype: int64"
      ]
     },
     "execution_count": 52,
     "metadata": {},
     "output_type": "execute_result"
    }
   ],
   "source": [
    "*_, y_test = train_test_split(\n",
    "    credit_g['data'],\n",
    "    credit_g['target'],\n",
    "    test_size=0.2,\n",
    "    random_state=9,\n",
    "    stratify=credit_g['target']\n",
    ")\n",
    "y_test.value_counts()"
   ]
  },
  {
   "cell_type": "code",
   "execution_count": 13,
   "id": "e30d585e",
   "metadata": {},
   "outputs": [
    {
     "data": {
      "text/plain": [
       "Class\n",
       "0    71079\n",
       "1      123\n",
       "Name: count, dtype: int64"
      ]
     },
     "execution_count": 13,
     "metadata": {},
     "output_type": "execute_result"
    }
   ],
   "source": [
    "\n",
    "import pandas as pd\n",
    "credit_df = pd.read_csv(\"../ISLP_datsets/creditcard.csv.zip\")\n",
    "y = credit_df['Class']\n",
    "X = credit_df.drop(\"Class\", axis=1)\n",
    "\n",
    "from sklearn.model_selection import train_test_split \n",
    "X_train, X_test, y_train, y_test = train_test_split(X, y, stratify=y)\n",
    "y_test.value_counts()"
   ]
  },
  {
   "cell_type": "markdown",
   "id": "8b4e08d9",
   "metadata": {},
   "source": [
    "\n",
    "## K-Fold\n",
    "\n",
    "```{figure} https://i0.wp.com/neptune.ai/wp-content/uploads/2022/10/Cross-validation-k-fold.jpg?resize=525%2C525&ssl=1\n",
    ":align: center\n",
    "```"
   ]
  },
  {
   "cell_type": "code",
   "execution_count": 14,
   "id": "e6c6a2f4",
   "metadata": {},
   "outputs": [
    {
     "name": "stdout",
     "output_type": "stream",
     "text": [
      "TRAIN: [0 1 3 6 7 8] TEST: [2 4 5]\n",
      "TRAIN: [0 1 2 3 4 5] TEST: [6 7 8]\n",
      "TRAIN: [2 4 5 6 7 8] TEST: [0 1 3]\n"
     ]
    }
   ],
   "source": [
    "import numpy as np\n",
    "from sklearn.model_selection import KFold\n",
    " \n",
    "X = np.arange(27).reshape(9, 3)\n",
    "y = np.array([1, 2, 3, 4, 5, 6 , 7, 8, 9])\n",
    "kf = KFold(n_splits=3, shuffle=True)\n",
    " \n",
    "for train_index, test_index in kf.split(X):\n",
    "    print(\"TRAIN:\", train_index, \"TEST:\", test_index)"
   ]
  },
  {
   "cell_type": "markdown",
   "id": "b28e81e4",
   "metadata": {},
   "source": [
    "Apply K-fold cross validation for training of logistic regression on credict card fraud dataset:"
   ]
  },
  {
   "cell_type": "code",
   "execution_count": 16,
   "id": "35a0cfaa",
   "metadata": {},
   "outputs": [
    {
     "name": "stdout",
     "output_type": "stream",
     "text": [
      "Cross validation scores: [0.73529412 0.66666667 0.672      0.75590551 0.76335878]\n"
     ]
    }
   ],
   "source": [
    "from sklearn.model_selection import cross_val_score\n",
    "from sklearn.linear_model import LogisticRegression\n",
    "from sklearn.metrics import f1_score\n",
    " \n",
    "clf = LogisticRegression(max_iter=5000)\n",
    "scores = cross_val_score(clf, X_train, y_train, cv=5, scoring='f1')\n",
    "print(\"Cross validation scores:\", scores)"
   ]
  },
  {
   "cell_type": "markdown",
   "id": "f827e22c",
   "metadata": {},
   "source": [
    "## Leave-one-out\n",
    "\n",
    "A special case of K-fold when $K=n$ — number of samples. On each iteration train set has $n-1$ elements, validation set — only one element."
   ]
  },
  {
   "cell_type": "code",
   "execution_count": 6,
   "id": "0233902c",
   "metadata": {},
   "outputs": [
    {
     "name": "stdout",
     "output_type": "stream",
     "text": [
      "TRAIN: [1 2 3] TEST: [0]\n",
      "TRAIN: [0 2 3] TEST: [1]\n",
      "TRAIN: [0 1 3] TEST: [2]\n",
      "TRAIN: [0 1 2] TEST: [3]\n"
     ]
    }
   ],
   "source": [
    "import numpy as np\n",
    "from sklearn.model_selection import LeaveOneOut\n",
    " \n",
    "X = np.array([[1, 2], [3, 4], [5, 6], [7, 8]])\n",
    "y = np.array([1, 2, 3, 4])\n",
    "loo = LeaveOneOut()\n",
    " \n",
    "for train_index, test_index in loo.split(X):\n",
    "    print(\"TRAIN:\", train_index, \"TEST:\", test_index)\n",
    "    X_train, X_test = X[train_index], X[test_index]\n",
    "    y_train, y_test = y[train_index], y[test_index]"
   ]
  }
 ],
 "metadata": {
  "kernelspec": {
   "display_name": "Python 3 (ipykernel)",
   "language": "python",
   "name": "python3"
  },
  "language_info": {
   "codemirror_mode": {
    "name": "ipython",
    "version": 3
   },
   "file_extension": ".py",
   "mimetype": "text/x-python",
   "name": "python",
   "nbconvert_exporter": "python",
   "pygments_lexer": "ipython3",
   "version": "3.11.4"
  }
 },
 "nbformat": 4,
 "nbformat_minor": 5
}
