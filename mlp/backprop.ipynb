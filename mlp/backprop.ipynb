{
 "cells": [
  {
   "cell_type": "markdown",
   "metadata": {},
   "source": [
    "(backprop)=\n",
    "# Back propagation"
   ]
  },
  {
   "cell_type": "markdown",
   "metadata": {},
   "source": [
    "* Make the forward pass and calculate all hidden representations along with output and loss function:\n",
    "\n",
    "$$\n",
    "\\boldsymbol X_1, \\boldsymbol X_2, \\ldots \\boldsymbol X_{L-1}, \\boldsymbol X_L = \\boldsymbol{\\widehat Y}, \\mathcal L(\\boldsymbol {\\widehat Y}, \\boldsymbol Y) \n",
    "$$\n",
    "\n",
    "* Calculate the gradient of the loss function with respect to the output:\n",
    "\n",
    "$$\n",
    "\\nabla_{\\boldsymbol X_L} \\mathcal L(\\boldsymbol X_L, \\boldsymbol Y) \n",
    "$$\n",
    "\n",
    "* Make the **backward pass** from $\\boldsymbol X_{L-1}$ to $\\boldsymbol X_1$ and calculate $\\nabla_{\\boldsymbol X_i}\\mathcal L$, $\\nabla_{\\boldsymbol W_i} \\mathcal L$, $\\nabla_{\\boldsymbol B_i}\\mathcal L$ on each step\n",
    "\n",
    "### Backprop through one layer\n",
    "\n",
    "```{figure} backprop.png\n",
    ":align: center\n",
    "```"
   ]
  }
 ],
 "metadata": {
  "kernelspec": {
   "display_name": "Python 3 (ipykernel)",
   "language": "python",
   "name": "python3"
  },
  "language_info": {
   "codemirror_mode": {
    "name": "ipython",
    "version": 3
   },
   "file_extension": ".py",
   "mimetype": "text/x-python",
   "name": "python",
   "nbconvert_exporter": "python",
   "pygments_lexer": "ipython3",
   "version": "3.11.4"
  }
 },
 "nbformat": 4,
 "nbformat_minor": 2
}
