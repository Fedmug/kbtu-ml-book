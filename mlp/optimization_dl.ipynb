{
 "cells": [
  {
   "cell_type": "markdown",
   "metadata": {
    "id": "pEWFktkAA7sn"
   },
   "source": [
    "# Optimization in DL\n",
    "\n",
    "Optimization in deep learning is necessary to achieve high accuracy and efficient model execution. For this task, there are some algorithms that are responsible for adjusting the parameters of neural networks in order to minimize the loss function. These algorithms affect not only the speed and quality of training, but also how well the model performs with new data. Many optimization algorithms have their own unique characteristics and methods for solving learning problems. Here we will look at some of the most important and widely used algorithms such as Stochastic Gradient Descent, Momentum, RMSprop, Adam and others."
   ]
  },
  {
   "cell_type": "markdown",
   "metadata": {
    "id": "rj7CV4ilJKyX"
   },
   "source": [
    "def plot_results(results):\n",
    "    optimizers = list(results.keys())\n",
    "    losses = [results[opt][0] for opt in optimizers]\n",
    "    accuracies = [results[opt][1] for opt in optimizers]\n",
    "\n",
    "    fig, ax1 = plt.subplots()\n",
    "    color = 'tab:red'\n",
    "    ax1.set_xlabel('Optimizer')\n",
    "    ax1.set_ylabel('Loss', color=color)\n",
    "    ax1.bar(optimizers, losses, color=color)\n",
    "    ax1.tick_params(axis='y', labelcolor=color)\n",
    "\n",
    "    ax2 = ax1.twinx()\n",
    "    color = 'tab:blue'\n",
    "    ax2.set_ylabel('Accuracy', color=color)\n",
    "    ax2.plot(optimizers, accuracies, color=color, marker='o')\n",
    "    ax2.tick_params(axis='y', labelcolor=color)\n",
    "\n",
    "    plt.title('Comparison of Different Optimizers')\n",
    "    plt.show()"
   ]
  },
  {
   "cell_type": "markdown",
   "metadata": {
    "id": "PXtpjQFbBI_L"
   },
   "source": [
    "## **Stochastic gradient descent (SGD)**\n",
    "---\n",
    "\n",
    "Theory:\n",
    "Stochastic gradient descent (SGD) is one of the main and simplest optimization algorithms in machine learning and deep learning. SGD uses the principle of gradient descent to minimize the loss function. This is achieved by sequentially updating the model's weight in the direction opposite to the gradient of the loss function. SGD updates weights using the gradient computed from one or more training examples, as opposed to classical gradient descent, which computes the gradient on each data set. This makes SGD more efficient and faster, especially when dealing with big data. However, the stochastic nature of the algorithm can lead to increased fluctuations during the training process, making it difficult to achieve an accurate minimum of the loss function in some cases. Decreasing the learning rate over time and applying momentum are techniques that are often used to improve the convergence and robustness of the learning process in SGD. SGD is used in a wide range of deep learning tasks, despite its simplicity.\n",
    "\n",
    "Simple implementation of SGD\n",
    "\n",
    "\n",
    "```\n",
    "def gradient_descent(gradient, start, learn_rate, n_iter):\n",
    "    vector = start\n",
    "    for _ in range(n_iter):\n",
    "        diff = -learn_rate * gradient(vector)\n",
    "        vector += diff\n",
    "    return vector\n",
    "```\n",
    "gradient_descent() takes four arguments:\n",
    "\n",
    "\n",
    "1. Gradient is the function or any Python callable object that takes a vector and returns the gradient of the function you’re trying to minimize\n",
    "2. Start is the point where the algorithm starts its search, given as a sequence (tuple, list, NumPy array, and so on) or scalar (in the case of a one-dimensional problem).\n",
    "3. learn_rate is the learning rate that controls the magnitude of the vector update.\n",
    "4. n_iter is the number of iterations.\n",
    "\n",
    "Before you apply gradient_descent(), you can add another termination criterion:\n",
    "\n",
    "```\n",
    "import numpy as np\n",
    "\n",
    "def gradient_descent(\n",
    "    gradient, start, learn_rate, n_iter=50, tolerance=1e-06\n",
    "):\n",
    "    vector = start\n",
    "    for _ in range(n_iter):\n",
    "        diff = -learn_rate * gradient(vector)\n",
    "        if np.all(np.abs(diff) <= tolerance):\n",
    "            break\n",
    "        vector += diff\n",
    "    return vector\n",
    "```\n",
    "You now have the additional parameter tolerance (line 4), which specifies the minimal allowed movement in each iteration. You’ve also defined the default values for tolerance and n_iter, so you don’t have to specify them each time you call gradient_descent().\n",
    "\n",
    "Lines 9 and 10 enable gradient_descent() to stop iterating and return the result before n_iter is reached if the vector update in the current iteration is less than or equal to tolerance. This often happens near the minimum, where gradients are usually very small. Unfortunately, it can also happen near a local minimum or a saddle point.\n",
    "\n",
    "Line 9 uses the convenient NumPy functions numpy.all() and numpy.abs() to compare the absolute values of diff and tolerance in a single statement. That’s why you import numpy on line 1.\n",
    "\n",
    "Now that you have the first version of gradient_descent(), it’s time to test your function. You’ll start with a small example and find the minimum of the function $𝐶 = 𝑣²$.\n",
    "\n",
    "This function has only one independent variable ($𝑣$), and its gradient is the derivative 2$𝑣$. It’s a differentiable convex function, and the analytical way to find its minimum is straightforward. However, in practice, analytical differentiation can be difficult or even impossible and is often approximated with numerical methods.\n",
    "\n",
    "You need only one statement to test your gradient descent implementation:\n",
    "\n",
    "```\n",
    ">>> gradient_descent(\n",
    "...     gradient=lambda v: 2 * v, start=10.0, learn_rate=0.2\n",
    "... )\n",
    "2.210739197207331e-06\n",
    "```\n",
    "You use the lambda function lambda v: 2 * v to provide the gradient of $𝑣²$. You start from the value 10.0 and set the learning rate to 0.2. You get a result that’s very close to zero, which is the correct minimum.\n",
    "\n",
    "The figure below shows the movement of the solution through the iterations:\n",
    "![gd-1.webp](data:image/webp;base64,UklGRuIuAABXRUJQVlA4TNUuAAAvNoOFAFWL47aNJMly/lnvlLsO7D8iJkCdzOr/AmxxpJhR2yYNZn/yFb6hlN8NjoUkKOisJJ6LQVsHrYN+ofyg3ZIEuNBGf3zyuUMXT/hZZDQX1CJVt2e7XGux53vUyWODFVIL5X7yzhevjWxbu/3dQ6cluU6ASt3WWirChDwJF7TqJO144P9fN8dNmBnNzMzMzA4zMzMzo5mZ7TuHzXaYmZmZmZmf51lJT/T8/7/fTxlrG1Wmm6vMJFXhfxUyqzL9gqpCCm3QrMqkyqzKpNnmKqkKXWVWFdKYtrrZwFVmvMqMqjTf4qPKjKp2dkajKky6ynSj5qqtTlWY9sJws2FQdarCdBNSpa1MqnRVSPMUGpMq005I1c02V8lMqkKakCqNmZnCpLB5m63M26i60cyOqvA2V21zc5WZpCpM6yqsyqT5FacqTApedapCV52qkJldaauQKs02qkKa0FZ+KtNVGmMlg8akynMzz6jaoGkrkyakynMzO1eF1VwV0qgyk1SZbpzGtu0qq/Sfv81JZvpAZap4Eo1knMa27Sqr9J+/zUlm+kBlqngSjWT6PwF++v+TG03bPpxzbtkW7md0IpjJJjvX8MxODhuXfSVwRqo5+xxZLnnONRKm2RrDl5JCoyoClYhSh2LyAzNb42gYxiAwBaKic3N2kBGAjkzAuQAobFRFxjTM5Iuh8yZgZGJxYGgCDUi5mTSGygRDWUT/JwAP///HbTuKnVS2bdu27cq2dbHW3sfWxTq2betah/ue3I1YFftnn/Xkde5Z+3n+TxVWTip7VfFTxcm6OVXsKi/bVpfKOVVsrXOq2LbT39e+aW9WjMpZUXXPt/il4l0ZVdF5TWWdkyrdvWlvFacaxanubu7YtnmqORhPZc/ssaro7PRetxq79kxnnTJO1tgKx2bY2xjbZmVPZXvW9J7qVsM91b3VsLKnip1Tje3Knm5VY1udWdpGxfM6/WhX42es6qIdo/JLwrZtZ5vdf/3D0Ly1bSWr29m2a7ezEW1N0kjYtu1ss/uvfxiat7atZHU723btdjairUma/k/AI5AYqveGlT8UpFl9rau+1lVf66qdrDyx/xL7L7H/xm+ne2U8XD2Cz4gYDfeINrsHLpBzYHwIPfdMj8GNoc3oMsFlI/Q0B3rBvaDRyuKCcBV5LgpcFaTRjD6BtxZ47orzBLeOVqNrBUNC4BkOGCCk2W6fc+ZcuGPEnQGBYaHdaLDguhB2bgOcB3eJhhsZ6DvCzlWDgqTh7o4LADeDoGP0EmTRcnTp4PIQdG4C9IgwTTdOcKF4ijmXCK4E0nRG78HoEHLulvMBt4S2o2sGQ0HIGSHoN6Txbo9z4ty4E0ScQYDrQ+vRoMH1IuDcDudI8TtF840E9BMB5xrBUCHNF3R+4OYRbozegdGj/ehSwBUi3DRDuXtCB4wNXBj+os3mEE46wOgNGCOCjd/5ghR6gK4BDB3BZuooSbogKuDcuTPEmoGCG0AfUGZcP0LNbYK4u0AnZEVJoaYlFCSd4Ld/VBJoHD0DzaMX6JJAjEDzoZiFQzfcFMjmL85cJHhD0g1Gu0gizNw5cZibfqBrAkNGmPkUDAzSEe073e4IUaZfYOp6ggYPCgsyNwcy+umKt0YLhhgTjkuFdIVnOYwdIcbzgkEzfUHLQGrx5fZDGN/tdvPX6/But56F0EcM20TjYvhcORfHxdLE0s+2n+uq8Kc3WG9jVwVZkEo4b+4aseVe/v+b+3xGOM/XEUWm1z7P6RZrk0aLNLX0XZT9qxGvieKEsjcRjSwG9Q9MVGhxlaRRHcdULI/6OLLZoptllbfGfXDtWJrw+Z+Tf/gybGKCe0HePMAuyLDBABBZtlFlKi7d9GJtkKkLKvyYJEc4IVmhJckRThaj0XmB5Qss6c/ODC5PZ+N+i7NP8IvYk/c4+wQfsV8MugRwNQgsLfB4Kxs34JtUGgRywEylQVgQd/QIf2HF38D3522bhVFtUJAWRrVBsSBGDQQLKy/FK/XhoW77EQ6qH+Lb5A4H1du4VtwMHh7Kbt2viHe1a1XxuipeV8Xr5tx4Zdje9i1Cs+v1CzxdxJSs+w5xOu8A0qi+1lVf66qvdfOleKU+PEQRmlUWRrVBQVoY1QbFotC74tFEFX9e/rptwKxqEMgBs6pBWJiPR28xBBW0wCO0ywXd9hucveJL+IC8xdkrLvHBwjwYdeEuqpTgUULHcUabGOGE5Iw2McLJwtivGFw8oso2qmj1ttvQdRPckfzjV2BJcoI7knfPsFycWwa+VQQVuEpSLdGoFm9bGjooKDo6+r/llREd/ZIkTyj7JsJIgieUfRNhZIGoGkqLKkjWbg9bpxuC0+lJCyW2AV1UQVpOcP2t2M1BqF5fxW4OwkWaKPqLsDKSQKBb19f9Bvxv9Ztu1R9FdJZYvfXdDaWwPkGljsFgmGZzW8bjgwO+KMI1ilIjXFBxika7f3b2Dg5BM2/UunuElPru7kZoMLRVUcpB0Bh9BXsRUsLTdE+Pjr7/hoUNpcFAEFEafHoauVbbNlnuCwCBkzMOfy+gREml+rG3RxMSOlQUyxBP8ry91UBR7RiN7uBxBc8XIGmkcBIjnx/85ib9AQSP0WcwUkST/F9fNWs0HRDFyrkB4UPXAwaOaBJndnYUKyvUWwACKFUctiqWFGRZ1fR0t3ieIgJCiCRixJL4i4thFhaog8B4BZE7CrmKJIUEQaXRDOL7m4YEQBAZBbAJkSTR2lrUUmn5lBUQRnSdYJAIJKP++VFRVM0fH9QzAAKpQmU0EUeSbW1Fz2ZfhWYhlKggrhRhxHU0UhOS8PWVTvzQgumnUddTFEm5vx95ZubtacIQTEYNjApBxE2WnXW6XE9PD0QZAOFE9TAYBJG0R0e1JRJqgM4PARV4bgTkEUI8FCWw0ejfdYAuREjRYtC5EJLh4iJSOJwEoKlVFVS7R4/wF0A8VDWoxVJXvz9b2gkEldwuggWQLOVyOL//UAF0BGGFwnhp8WM0qhrC4cjVbo8CoANBYC2/eEQe4SN7vR7a7XY8Nv210KKLACsRPeTQHk+2ej0OQB0FvAXXT6OQq+CRq9MJYbebrob+AILLKIC9CB7hAoHM5fJXzf8lPkp4URq0InbUNRgENZsnWo6WBQG2YV+kEDoiRSIZzs8ft1MARQOEGHWJHYoc9d7dBTYY3BXlemhPDkF2M6BpI4Gj9kQizfExWqJTQ5BR/8ANIm408PjYhJsk1QG8RNuBYgJt6liuIWxEmZlJubeHt6T+ABBokUnxBaJGntdX8114dwSg3Qs1KoKLRtSInssl3drCW9FHyIKtakDlQDEj3+en9Uhoii4Mgo1SorCYEbtUSrS6ilsBccfVccHoFQ4Ro+D3t7VhQcAUUJR0XFhPwZgRMeItLu4HD10LzfQceWCICBiPaC3IsnhW9A1D1x02R0SIeJFoZSX27CxwDyhNuo5+HyWEi1GLojX/5yc2RaF+Ou/jUddVtEi6uRkjlwNmS1MgnWcUQKxg4ToamfO8vWGXb1y5qt6jNGhFsHijKKkUcGq6aNJ9G/bF+oSKO3DS6Rp4esLjVqMn0n+0OVwWQkWao6M3BC6VWnMwgJsG+68iUJQKZDDUe3cHTIe+GwyAqiGNQJH+/DxSNAq8Li3/50SBGaOGIUxs41f+B/ggGgQAUcAzG5pDmMh8fR0+EABaORPdqjhAZ8aPiBKm4HZ77k4HKE7nh0iQvHhAVUEiW60W2uORIXcZoF8WC+hiQNdihPzw2RsN4Adpzt6iwbjB+ZNeiMjVaoV0OEzA+9ABIRpQf8ApRAg5nM+XpVwGjvv9879hESErOjEEiDr7/VfwUFVgD/QJEBFc6+JGESAihsMZz8+BqtuhRICYQC1hn+KD/58cGJgFdR2QRYX23SJChIfa4vG0x8cAWqYrh1fox0bNSlKnnk6b94m5n21jVwXJJpoUYkSHBh4enPV6C3AtdE0+XqHIy0BO4RSn6Fp2uWGTE8r+1YhGsmlsoJaf4LClFgHsir4IXqFHkzN+GJQ68l7kthQ5wf2cvHmAzSajH2CiYkNDr69OhLhKElDsjSsfwStkl/I1lFLq/pDyISErtCQ5wkkm0XBBB4bQEC2bTba9DeChqM8AvEJHrijvH5M5yM09PLzHKz7BR+yzKSgp3EWGfB8fKopq5OcHGO+3UGzAS6QayhkfWakj70W+teKAmUqDkE00HXQkMsQqFhOvrQH4evoK2WvUzUrkFDJk6Hpzo+XIihZGtUGRUVFO5+0iLhT4/ra+LyAvhk4Er5F6IF5RSinzzk0p7nBQvY3rjKLTooS4EG9+Pv7SEoAV0tR8vEgbvhxWEvXA7DskRj6zydNFbgYPD2W3cvFvcnnUPb3dRovXVfG66m23tWPjOLVGM1aWtdvtBZHXnqDFpzyzHpQJbK4bpZT6Fp+Ka6GFUW1QKEzJyn39Jhu1MTzIRvtaV32tq3aytQlXVr4ARHki3BZOCdrXKc+sv5cvpsw+hVwdB8yqBiGrqCY6MMSEQqJo/T4QLQMFSSP9tHwHcxnkTcJbnL3iEh9kVlAhtC4mJNncjFEoAJS+PcxbK90CchlHNjnyFORWyRltYoSTzKKWMESEhEZGIzVF5X17A+gV0T9IK33O5mT3D41Su9+EzF2GnOCO5N0zLLPrsMUDbhURIcXubtR0GoBjZ4jVTCp7URn+q58SLlPnUSRPKPsmwkiGUVFUFxDuwEmrbfD5GUDH6An+2kkFTb1I6tQxsQ5ldn0VuzkIs2x18E0lHqQ+PKydpgHgm/BopKESfMKHvhqFhQN3WQ6k19d3fw/gjhBXgWmMDjTwFw3Sn55WAYC3R5fENBy9AbGCgcd4HMRsrns4BPBqAVgf26A06EIwyHR1FSEYBICp0zcR40gfii8QCkzBrdY6Oh0A3h0DaJWsg74D7yoUZK1Ww3i9MoBfpsd2MI8oN2eIQCCHcjpzNBoAUIL2ScyDJoVlCAQ5m81TygA2RddUkoHMGxkbCQNyWK83S6UCAJ9AMwYDof6DhsJAHb1eMKt1ogCu8Pvnf1xRZBNo7BAFIoRCGS8uAOAG6eYgioS1hWBBoJ7hMLDJ5KEoABb7QKQXR6geWhEE3jbdyQkATJ16CUAkyVkKyYSA+h8eAul07rIMYLwdBeiJxBKaAOoIAZFpOtXBAQA8K92QLJpUjcjRogDQ4MvLFl0lCYD8FTRpiCZ0WhQRAKJlMsm3twEgJkDfUlVEaYamG+Z++d7f/Rr5/eUciMpBRKEeUJj7xSwWk6yvA0BagJb/aqLKb2E9rpyvwNeXtZAgcGZLHwRRxdECPoDzxZ2fT7C8DACTKvsS7yiu0ERR2+B6Lhxn/RzOy9M/QWSJfHJ0zPX2GGd+HgBauSZKCogtdE3gq3ne+1rnzrkwOjZEl1SlMF44XlMxCwUiIv9Z4DnYC4VjmPC7e1FRVN73d5ORgF4TxmBC3CKacLvkOztrBREZbeBTiMFQQVTndW6StMVNcD4eSf2YzOqQNpDTpT440DAMuIMH/0JMhr4JVwufO0SF+h8eOOtD5eSMpnlQyI/LXWOtsRi4RbE5YjRG38Cv8rgDBzGZNsCJyhGRi9XQiMFcwjhcxsvLCKEQuOF4V2I2/rNA9/xtoi9cR7fLqeCLP2E3VAz9hb9lrVSalTkHwyAghtMoFO68TT5lzmYTAHyWiA9lObQS/AhvO+IJZU5xzMhgOsnjcHS+Jof1eLJWqwBQfk9ok5gO5UZBvlZHpxPcZjNxWqS5hDGeuTmdTbjadDJdXgKAPHPKQIyHdov/5mn/8Jvb4DwRfUsQ80mByp1ytCqXD27jNHViPjR7xPCz+u7vN+Yuy5yz0H80w4AOiKY5uZmGplMfHoK7LHp5MCDKh7y8rNIW74DzPBTwVaJQc6CQHyfbePLdXXC3To8GUcj4W6ThY837NfL7y9nzS8z/uOIQbQKz8ORir5BkYwPc5ui2IRI5doZd8LD8X1/WB+V8VNnK1cUimigW6uBgcebmLh7cJulqIBq5dobu+ZcLy1pdeJ6zywBKA4hHlAbfa3CvBEtLcRcWwN0D9RGAiORXF6vkXe9r/WZOMx0AaN9iEhXGfxqcq+lYxSK45eg6ISo1qoWxwrfeWUVR+T4+OD7boZiAuERnRj6+9V7Rsllw75zuQRaZcmaEO88q7UTInX6/JpE9BsHEmKhzpORZqfb3IzMMmf4qajuYU6AvyvIry7/9kIlrA8yYmBMtA6/GryrWGo/DdFhgoQ4G1WkcyvOqA/9JPTc3HP+u0CExKKqOYcKrMp6fRwyFwP0AtBvGpEJyBFTiUxMNarHU2etxwnoNPoB0g909b8s+RWrmNLPexq4KsrzIB3X41BeG8/lkTlZ05a8b7ovpyAWcombeiq2bnFD2JqKR5dXELWJWPMp07TlbLQAU1gJqkl54CGJk8xxZKXV6UuQE93Py5gF2edGJUIdH7TWUyyVzYjELT91wCDl15cIKLUmOcLK8qro5c/EnOYzHk61WAwBHJzgF6YUjV5cOF9zj7BN8xH550Ykg+VPuTuf6TZxfwHoidUMVOQW14UO0uecqJgNmKg3CEqvqdObiTo1lvroCALmvIA3ZulujxPcWylHoOBO9fyw0CfCItzI9It06rOFmkC+WVZqWtitaGNUGxRKjivDiTf8T1Gz2GI85tQN48iAb93S7BXb2WV7VnEjayMw62mlvDvGmpo7RYQ3dyYpeY+Bb3j2qa9mh4g4H1du4Vvy7quhTLj4DczqdqewJYfG6Kl5XxWdo5Egk99mZr6+v77iBxaC0PWEoPuVaUQGUXJ9SSnVTJKBbM4dAYRUf7dk6s1vBx0sZq5RSfl5e3XCHp4sk65T7OguLoiglhH2tq77WVV9nZ313d626KwoA/DVl86OEoa9Tro29DbxaGWV+ycpsOwGu8UNtCx1bwXtLmd5E5ZVHp4VRbVAsta06nVW5Uu3J5I0CgOMr6Hog2/ZlmEW3Kh5DMCiUaX1kNudaOfTHlApEPiuIknLfZmrKj+eAWdUgLDXyQkWe9Izjc5Mkzr1T6SDbdt/4or6K12g0NFMFtcx5oTWllHrygJdNcN1KaZh5Cjlv3uIVr7jEB8stl9OtKkeKmkql2NsDAMfTUnGybZ+CrtYRT/lwdDPepUAmVbHQ3ZtMCntOcCpaljV5EFqWGyZntIkRTpYbSZyIH+V5fVUTUobzy/Q6VW1cZvyLimdfrMWMqoZkSql19IADKtNo5LWCKLkAV6XsrUmPdZAT3JG8e4blksvldG6VG8XI5SYCAI+7eXp32Lj943Hj6d0Bu7lwlFZKHQI/osyWxg6tQLUqT3RtZAiXXa9FkTyh7JsII8uOiqIOL1qkSqM5KycsQEser44rA2SPJ0JlZb5D5FZqMlt2BprbBBZjDSrPU+Q+0XSS7FuZXV/Fbg7CpdfELaISJ3qyhKurAPC4H0HrhY6bTPwoAyzWXC6kUyoNlqHMl0Z1q0jgNoo2h474UEGWtTbM85xZ0OG8dZ3Khth4UqWwFnOnD/D17qZp6Edb+DLk1W4hxVGeC8VfXIy3sAAA5TsPUBAAOi8/+svDYsFxenMDB+XNqXaRfgGoqSz+PuprN6qOz+JBj2idNecm6R28dZ9rRvi8hol/dLkjm/taXDcWFoMXc7awe0tPHvCyGq79OPwJB9pdrFIJALxbo0lD96lK5eD70j4ddQIcXJlvH2u28BRwom1lcfnIpzQcdY2X5j9HUlFUvs9PznrpCsp7BdRHf3+10BzZ2kj9W6e3oHoIcDXXHZBSWX5DdKzplu+LscN9zm0EgIfuGECvDS9B/GwOFDbncnu2zuyajmLw2LzHdTQy53l95VwYfYXDq7KO7YfOIT5MHb+ltF2Fpvh4zpNyb+9GAKDkLVPtALwqam4BHvFWJlu6dWg8agk9GFzHTZKcdbrn45Sje5C9Lpluy3KGIgvX2fRoLhciolTtIQsxNvoyzMjgOKUCGwx3EIJJCbRiMLf05fALHCfD+XmkcJiIaPml4E7MjdKghTBu4zEeBzWbN2MSjpTE4Fy3jIlym8zl8pfLRNRiZSRjcbQLNIjkNKYnzdVug4i6xGmJyYUVQDFOk61eD+12yyCq6haxPjZHb41CjbiMvO/s9TpAtBjUIUZndIEzc5nST2oCKBmK52F1VB8ZK3AYeY5PBoCOgwUQs6PMKMJhNvMrEwXwzNh/IMN7b8TdHvxlIssCIJfEtojh0T6xOe7ye2stBeCvUagR01tfhPPvecudbRpA+Y9AQ2J65IN9cpbna+IOAJyIunJlfAuPwxfwlRt5IwA+HQUoKzE+mg6qGTzlCsx3AWBH1LSD+eWshWCeYjw3gMWemJ6ImB+9GBbqz09+UkVRRwLw49S4zAEit4zS/OTZdwfguAF0FnAA6hDZ/HjJrK2PCGC2dDVgAo7vRV5eEm9hIf7iIoA0QOWy78gGqDnQNJCPNMzz1i8E0BQ1CUZAa8YC+MicYs/OAvhc2sShmEGygBxVechZrYsEHvcraEdgBrRbDA0eknRzM0YuB2DStOSHZgghcXDnH2X88ry9AT6laRZgCLQSdGFwjxR7e1FSKQD/Ra/iYApVymEvvOMOxtfA0xNQ7Ez0g2AKdAq0FcQ5Uh8d1Z5MAlgDXTQYg38BZOIbpVqt7+4OeN3vf4m5sAY6BDIGco30Z2f3BWCe1ByYA30TdsgztvErdQ2HwPToTMUYxNEj3CpxjLk3BpS/IZo6GAT5YAjwC9P15+50gH3SO1RlEp2WQn1uka1W24uMxU6N7h1Mgg6GqYVxCrmFvQIzpv+XGYVfA5yCU1x8SIfDhD2XrXxSMAqKRdJUXEIO6/NlKZeB+6VdgVkY1RDOJers9YJZLBPFAmlfW2QXlCzArRKPmOIl4HG7AdA5wTAoNV6aQ/z9n3goCk5Er+PDNA7bFKvkD3eX9vgYi90OtQimQYVRw5M31P/4+G8W3CAdW2YcrnPBi/GGyAyTcn8fFzr/l9CDcdBoQXuBfKGhlxcnQlwlSZ4OvT2Yh7FmdMkXomUyyba3sWo68aHYB2V3RiTjCfne31UU9c4+e6LiYCC0APQPgyN8b+K1NTwUfUV5JpKzHD6AHxT4+lJpNIUE4bgBtEAwEfoAlMvJDeIuLMRfWsLV0NWAkTjSIT8vcOF564wWSAHHZSWULMJ5dE6QYGUlztxc+a+ghwIzoZbRisEFComide7fTYfzEWaHkHJsmFtvY1cF0aMKtbAXLpBkYyNGobDFM5EGgCBLX9TLwgllbyIa0SJ6B/SIRhzgXvya/wT6TQiy3f9LeAZzE9zPyZsHWD1ytIEiHODuN/6SFLAOYbZKGZXVXIWWJEc40SKad0COSszvDpy02nqenz+C/guCrFHRXShz93jFJ/iIvR5RauQzWF/qw0MNTX8OdR6oKsjsJSawbwsDZioNgiYF1sLUGd8hKqS9v18+xQQgyJLIrSoLFka1QaFJNFEUOi7bS3d6WuV9aMMQZBv2yqAs7XBQvY1r1c3g4aHsVu5tt62TOTjC7dYqXlfF66r4NI5rPA5uNMYYDumBHtpXx4pPeVbZV5J7Di56upApWbmdbGwKt4BmZKW+1lVf66qv07iIcMFga3Rb0LW+TnlWBcsUygUWRrVBoU30Hegb/uzOFNxqHW63S5v3FmZFvOqZLkDG1ItVA2ZVg6BP6WeB64TdZa1Wg3i97VBVelMINOnCbalbnL3iEh/oEwVj/y2yOjmk09mvZpOWBIFmMatsWynFGW1ihBONoiGC52V1OZrNUTmdtJ1XEwcmuCN59wxLnQpJi47ZnBzC6+1RpUKzgDjAE8q+iTCiVZQJW/ZjcnV0uyOwWtusqk3JYgHXV7Gbg1CvPGtjGawt3dmZJpn8YLviHAx25/Iy4AgQeglWg6hZgPNPWJrFWMPEhIE78j9/+pfNDl+WwXhoAujAn525CIKKEEPh9ZfKeho1QGFmZtEbtNVbGA+1iriqrMxo0N7Ieuj3kdlgZDYeNuZz2FDsgo0pBr4K66GJotbymZidl4ZhmI8xUFCQiX0wr4iRCPOhXHFYJQuz8zKzH3o09JicDEzhpTAg/zbgw8Bg42EDA6IUxdE8DMzIw8iE6MxoqxH7sqgoSis1IRY25NkBcrMvk3MkMuKJCS3Mlwo2RDeNG1pnXnHX14fg97ddkkacy9k8sRktYEXUEhr7Ma79jNhgaC/PdxsoD0XDMEc3K9DVbMq1NhbAthp8ebnujt/f3+VcoOPZFP2JM8CdZZ01sNnc68tL+hwwKZoO5pKeXU20ylAXF+keyjOqyNrYIbuakzocbst4/MavC0ZF4yMHmoNVncrZZOqMINBtgVnRmbGeVGzq+fwG8fhIJR6XYfmXRB0mVUgQAptMocplCqgOhkWV4vAcDMpjPI4YCkVfXt4OzRVMi4phicnZU7zFxfvqk6rSGRyMy5EPr2awpkUENZudRJGu6bhgXJRn//gAxlTf/b1fqufnfVEYAMyLJoqmeZiSC8+3mrlWa5k+AQzMeDUMkDCG5KEojTX9UFT651gYBdaFB0M6ZW3xeDJV/X46OJgYPS7cmjGj33rhvL+/j01NgpFRfjRuxIj81YTkeX29LNq8DzMLqo1LhA25sGyFPT4CldWDmVGKOGyCBbnLcrPnrhv4VLotMDS6HhAaxX7kmIWChmHcVPUMdCAHUzNS4qsdzKfik5Y5Nd3y04Op0WGXiGjWU9dw6ERI3vf3s3w/PREYG7UKt7bZztyddbpcnU4zh6OnAHOjrtHguCzHTZJCu90pdnflrdOrVGVwriXxWQa7kY1RUin5Jmlf1cHgqGpTpGE3qQ8OrtRVkpa6L5o0mBzNGMWTsZo6ej0nrXaRPl0H6BNkRkddYi5V2MwYPz+3OEXywVw2TLzOrzYKGizmDsI6nS+FqaNyMuJ2VCktJspg5KipVLxcTn5dX5yCOB61hrjy7OUtQns8Y5dlnxtCQYPrkRfmkpO15Gq3nXW6ufvuimo0Ir7nNzXs02Ary77V98JbUcDRifNRrqb4WqZS5knTHh/j25ZPkybuR88B59EZiklD0zGLRfmeHpt2BQGAiqDHdMpOzt3sIeT7pW4AJSUB/q2gFX9WkqPRqFCQZXFq6gDwc5AEUKc9At/BSK5ATYg/pvcSpAF8JQJU3onumcg7v/BvYR0nppVBMmAvjFIpGIiptnj8lPB5FZqnQ0JgTAqNj8s+Eq+vhw8GDyzvit7h5yAhIL/l4jhhrCNbrRbYYPh4HJUC0gKQFFCepLgSGEclv/oeHrDCsjQLSAyovhOxTOMLh9M006OQQpgACQdUDGlvGoYx0U9/HUq/XDy2v4BgSLQVyC7mO4plWazjtGhcgQQECmoD+TxZRZZyuaW7+/1oW2haiYQEiqoLH4NN/JDf89EmELBKYiRHXn6S6PwVw4dFBQs/28auCpJjqFkc6jGJ923pC5EsLQoTK0kuZf5PmWhLUjaPmRPK3kQ0kmNoJCBgdDCIbUQIhRKurKBYA9QxmElg6VRKKbXVi0cGKnKC+zl58wCbZ2hbKLU69hBvYaHKRB+6BLoIImZiOVbuRZEVWpIc4STPGJNCg8OyhoyXl79yVsfVUGftE3spKxsq/hav+AQfsc8zFNQFuvBjC/Xd3/s1+PKCH6czlScGM1pkVsUBM5UGIdfQYRtgmBgswYXnW81Wr+PK6funRwzmNVqWUYoWRvUDFPmGVlcK02EI7ory5UnW17Hj76f1gsE8cTFZTCnucFC9jWvFv6uKPuXitVX8nz82nJi6XSN6221/4tnZaInEuFX1hjsA0AF9+Xrbtar4lGdcrJzCa5h5/SLJOuW+1lZfX/AdEBFM2tBONv/yg1ut9/L01eifHOBrJ63q65Rn21vL/GtRStHCqDYocg/9C9I2YwMbUBNyBX+2GGrZByJMEjkBhzIdMKsahPxjeGGJW2UBBVn233I2m94vTocrBhFmlbK6qzJ7i7NXXOKD/APvA6Hx8vXfIcJ6PMm2thw3R1OrDhGmY5k7Ulmc0SZGOMlBaGW56MJP78mvEJmm5RnTvjYFESaLzB2kLE9wR/LuGZZ5CO03wEd56rxnuPa7uC2a//QgwkRJmTer2e4UyRPKvokwko9ofaEo6NB1dQ0GToRcwtcTzQJiTHZpuZ4J11exm4MwJ1EzX0zA0HFzbyJ3p/O586fvhihjjfqGshTHtvSbmySFdrvf6D/3RTuBJIN+IQIN9ZocLZPZeBrgxPRcDokGDQtg6jot1cHBCTNK0i3Tsrwh1aBMcCbRZXV0u+PL+PnZMYB6DVSFdIO+A3HNo8PyfX5uMXWv1xoduySkHMbmENe67nKVpJAOR8LDw83TzzQDSQc5isLXXWfJN6LJ5bqpqnRDh4LEg8IKYv/N9NXdh/R4eiTL1NoNQ/JB/h0hY1k9lavdVut0vfj+pmpXCAkIee4ToUvWT82rCOnTcEjV3hGSEHIdPEhaXi+VCWq39+/khKq1AYkIRaZE6J/oHcX+wXYFpkjJ5GBLJeok0AYkIxQ0WNDeAfWMxWgzcG3BXK6her1tVZQlrwMSEnL9LOy/O/3iIgh6Q+GHR1Fd4rh1QFJCnr+PtPX1ikVv0LYmirJITChMIu4QOsVo0N4oNSGHD86NYH1i42GTnJBRHc4P0COKga8iOSEjBvhaHaJJJnlpGEZ6QlQP+A5Dd3wwr6NLUehIbqjorzfsvMySFGo1DrP30xkKL0WaQu7toYfj6gvU8P8/DxskKnT0HoEaTXRFzsFgpJOTPIySFQopgCWOHf1gire1NUKttiuNxvAoSis1IRbpCuXMjLg29YILz4eKRIYUCLSfZUsn43m9FuZLhYSFPH2ATIYuqKPXq1Gv7/v6+pwncVxYjDZPbEYLJC2Qpw74eGq/iSbZ2BilTtflbpcOtFhwFQ3DHN2soIgVN4AZV8bACNR6MwofCo0oGGwfx9GEy6PRKHLQFxRCWzeDtmt6i4Pb3Hy6+b87Gp1CB4X8LdLOWMNtY3cqvb7XvR6d+AchwSG/3QIxYVrtmxtzikY7xvP0EXuGJIeMF3MiZSptlrPV2uIItrefji56sZDoEH1oLczlptFgHoqSYHnZSa/v72BAlc/pgHSH5jY1xGUwtNbcw/p8wWOxLgoCnXh6aDQLIOTnAyymirY6olqrrXl3t52qSou5Qkh8iKbui96wOg3lrijxFhacDYaB3d4SNffQkP5QpU4Q9w6GVvrJMB5PsESiC6JI+9oaGu2CCPmdCHjXCtooW62mJmREBwdtVVV6leqQCBHtwhfZsmigQ1yZs8nUl/t7oi8aL6RDdGukA6r7aZ1lP7yKYToiivTcn4uioUBC/h5uqFFW22Qpl2smZHDHx0TzLAaJEdF4aQFu2/LULm6S9Ow1WCxdfXhoE7Cvo8qQHpHfBIDa89YUiiaZ/GC74lme19dgDsfQUql2/v7SGdaBoqVgQvShXSHickmvFSzGGiYmDFyb0QJkvLoaFUX15vSU9lXcAakS+S0jAm09rja4VL2h8OZFRsrnh2e1duTpiRpvA0VR8YSobF8B6iTXABa9QduR//07wFTqMzaxTwekTeQZHYeMxTxtntGgfX9zuZt7ehRdhRSiWQ0aoMBYsXU2HqOcmEDRVlAhY7R0Bewzj01TDHwVaRRRkEdaxHW+YRtm56VhGKkUUdSkgFr1gmzWB/M6unSKyL0doMFEw2yUnZdZSkVGktrAQp/DsEkKL0VSRRR2pLaA2iMhzObIcXq9ocXjp+dhg8SKyPW6yQY0HhauCTXF/sF2RatStV1eDtfpHLLNNvkBZjI8jNIrosgMXQE95sXSJ6wsRpuBazNaPHMRxSA7O8PX6wcdDnex3W6Xqn5R3bKs10pNiEWKReSftQCQMX+uhNKl6g2FN18qgLo/PkY5NzdCjWaJHXl6OvHCnh64VL0WakIuFdIsIsdo6C9AQMpVOhI6Fr1BW72rLCceDodP08MjpA+rq9/XWvGS4FqMNk9sRgskWwDKelUGGhc+bMIg3dmZ/YPtimdGg/YjpKihmc09Oj6+4hJ//bjQUtEwzNHNCorKIg1RYHQDwDlYYoMeZVmMNgPXZrQAsPEYyf//7RuPm9sUdKRYQxT2HCd3AzL6uDusTLF/sF2BYv9gu+IiCHpD4dWEXCoUA9/kZ2fQmcxlvY1dFWR1Q0TJi30vgGwtZ/G0BgO3hunpcxnG43qLnZeGYVjFCWVvIhpZ5RDRzVFkPQDaK7iJRgkm/u6uoQg0fjCvozOKCe7n5M0D7IqHyHjvlSwUgFs7nbceGd+GNU2GInEU//8Px+XiZWYUFVqSHOFk1WP695nSRQCIy5y3eVLFj8NMpchsnJfCJu5x9gk+Yr8KIqK7IHgCtWHaaxZz7XSXKh6mYqU10PSoJiZ42MAmBsxUGoQVkWnyveQuWRmmhbZ/okcbDUcPNKzq6EYeRkZhYVQbFCskU9fxkcGnb8TBfI7OSp7cZ6XWYraoCNFKTYiFUexwUL2Nb6+YzDpCPjTNBFLWyAjTa0sSa1HgIgh6LcyXCmbxdIF/VxV9ysVrq3iN/JwNV9rzLqZipTVOTPj6+o5DluNls+/pyXue4UC+utTbrlXFp9xGWBjVD1AkknXKfa2tvtZNazHCU0XDMEc3K9CxdtKqvk65jRgwq15DeGtATYjFM53MVm5x9opLfLDyIqswuwgCGAlntIkRTt4CsBktYCYT3JG8e4bl6uswCcB8qYqGYY5uVmDjGQtPKPsmwsgKjGYXv2xGC7yErIXrq9jNQbgKo8PEww1X1U0/HlDMRzcr8Coyl78gyyIiM9dbli803L5f8n+S5hSciOykVRP7L7H/HtWTRGQ9tEulLZW2eGiW6h9CrU67/Ftb/q0tq9Ms/84p4w/tQ/D3wZl85Ke4gHYRfqJlbOL+0Q4VpMUq2mG9jV0VRDuySvMltAPNexclvGSTN1pvY1cFyRGu0tQFx/WRZ26tczkB0hALyGr2WzTDCWVvIhrRj0xZTQ+hHYKlqaUTyt5ENJIfvmUv4yP9TeOCyeSXZZVSSeSZ16Ed6iltOcG9IG8eYPUju9KY5Ve51W+pZ2mCe0HePMDmB9PsLigrn0Ippbxj5O3BKiq0JDnCyarD1AUVWpIc4SSnFJNHN1FZ5IwZxT3OPsFH7Fcp9zj7BB+xzyk7lJ5mQmRe7dB5/RkHH/2B0QwDZioNgnZM/bdmnKVTb40yYKbSIOSTMlKWMRMpq2sHs5t7b61gYVQ/QKEdZv/FX5tYGNUGRT7pVsonNrMWeSKtEPlbOV9jMpGxXnJ1GmGHg+ptXGtGs/d2TGYOC9+WXEC3mmSHg+ptXOvaKku4vFvtscoSLu9WWX5vucPda4UnXTF/5GjZvUZ50r5dSJc/XTyVkbKMmUhZ3UbtQrr86VzgXV0eVxtYGNUGhZaoKPkdmsTCqDYodC0+u0DtUHqaiZIeNioBPpqclTYYMKsaBD0heSJNMmBWNQg5pZg8upksMlZrrERGaYNbnL3iEh/oSRW5Q01yi7NXXOKDnPLe8ilMvGPkwjWGq/SagzbgjDYxwomeBMuGmoQz2sQIJzllMvllWaVUq/LM69AK8z69SZXpyNaURpzgjuTdMyz10rVFb6XUEx/QS3aqTSa4I3n3DMv8mCE6Okbmjo6OXrhSSh3XR3q01rmsTkortlzxDV9x2GzLS2YqoxV4Qtk3EUY0I4/cYXTNhuHSy11pxqDo6Oj/lit5+fIlSZ5Q9k2EkRxRRFrMbqJoFws40RTanIPSjGPjV2P+u+ICGmb3VtpxfRW7OQg18+mCHy08derpdBiktGMFaTnB9VXs5iD8l/8T+3/8i6yPzOZcK4f+WKIUVVDLnBdaU4lSepcCmVTFQnefSIWqhmRKqXX0gAOqRCvDUVopdQj8iErEskPkVmoyvcAZmKhFLqRTKg2WoRK1PH2Ar3c350voRydyoXoD0i8ANVWil4vBizlb2H0iGE8BJ9pWiWB2B6RUif3/D/EBAA==)\n",
    "\n",
    "\n",
    "Stochastic gradient descent (SGD) in contrast performs a parameter update for each training example xⁱ and label yⁱ:\n",
    "\n",
    "$ \\theta=\\theta-\\eta\\cdot\\nabla_\\theta J\\left( \\theta;x^{(i)};y^{(i)} \\right) $\n",
    "\n"
   ]
  },
  {
   "cell_type": "code",
   "execution_count": null,
   "metadata": {
    "colab": {
     "base_uri": "https://localhost:8080/",
     "height": 234,
     "referenced_widgets": [
      "aa0e2cba8abd485682b207aa60568f79",
      "3fbf19ef1dc24db692cf06cce2f907a4",
      "0f44ad76c4744db78d7f2d0ade3e26da",
      "fde8f2bf55454182b93eb7919a80702d",
      "fd539b045ba74b88a8defad36b29ba65",
      "5715a9976e2c4b59acc31166080a264b",
      "a6073406094a4b1bbe6838ddab1e7e79",
      "134ddae4aef941e9a095e17980ebcd93",
      "037980e7e7674c28ac751046867300f3",
      "82dd2bf3b6b34bf89383596b494c75af",
      "5c9ee030298f40daa26f86f24bbd4e0b",
      "7f525a6be0e74cfeb9e75b4cb39d4243"
     ]
    },
    "id": "e8c9u8kYavbc",
    "outputId": "a8260ec7-dccb-41a1-fc66-34f84c0f8fba"
   },
   "outputs": [
    {
     "name": "stdout",
     "output_type": "stream",
     "text": [
      "Question 1. What is the main purpose of stochastic gradient descent (SGD) in machine learning and deep learning?\n",
      "\n"
     ]
    },
    {
     "data": {
      "application/vnd.jupyter.widget-view+json": {
       "model_id": "aa0e2cba8abd485682b207aa60568f79",
       "version_major": 2,
       "version_minor": 0
      },
      "text/plain": [
       "Button(description='Maximizing the loss function', layout=Layout(height='auto', overflow='hidden', width='100%…"
      ]
     },
     "metadata": {},
     "output_type": "display_data"
    },
    {
     "data": {
      "application/vnd.jupyter.widget-view+json": {
       "model_id": "fde8f2bf55454182b93eb7919a80702d",
       "version_major": 2,
       "version_minor": 0
      },
      "text/plain": [
       "Button(description='Reducing the learning rate', layout=Layout(height='auto', overflow='hidden', width='100%')…"
      ]
     },
     "metadata": {},
     "output_type": "display_data"
    },
    {
     "data": {
      "application/vnd.jupyter.widget-view+json": {
       "model_id": "a6073406094a4b1bbe6838ddab1e7e79",
       "version_major": 2,
       "version_minor": 0
      },
      "text/plain": [
       "Button(description='Minimizing the loss function', layout=Layout(height='auto', overflow='hidden', width='100%…"
      ]
     },
     "metadata": {},
     "output_type": "display_data"
    },
    {
     "data": {
      "application/vnd.jupyter.widget-view+json": {
       "model_id": "82dd2bf3b6b34bf89383596b494c75af",
       "version_major": 2,
       "version_minor": 0
      },
      "text/plain": [
       "Button(description='Increasing the efficiency of model training', layout=Layout(height='auto', overflow='hidde…"
      ]
     },
     "metadata": {},
     "output_type": "display_data"
    },
    {
     "name": "stdout",
     "output_type": "stream",
     "text": [
      "\n",
      "\n"
     ]
    }
   ],
   "source": [
    "import json\n",
    "import ipywidgets as widgets\n",
    "from IPython.display import display, clear_output\n",
    "\n",
    "# Загрузка данных теста из JSON файла\n",
    "with open('Stochastic1.json', 'r') as f:\n",
    "    data = json.load(f)\n",
    "\n",
    "def create_test(questions):\n",
    "    for i, question in enumerate(questions):\n",
    "        print(f\"Question {i+1}. {question['question']}\\n\")\n",
    "\n",
    "        # Создание кнопок для вариантов ответов\n",
    "        for key, option in question['options'].items():\n",
    "            button = widgets.Button(\n",
    "                description=option,\n",
    "                layout=widgets.Layout(width='100%', height='auto', overflow='hidden')\n",
    "            )\n",
    "            button.style.button_color = 'lightgray'\n",
    "            button.on_click(lambda b, ans=key, q=question: on_button_click(b, ans, q['answer']))\n",
    "            display(button)\n",
    "\n",
    "        print(\"\\n\")\n",
    "\n",
    "def on_button_click(button, chosen_answer, correct_answer):\n",
    "    if chosen_answer == correct_answer:\n",
    "        button.style.button_color = 'lightgreen'\n",
    "        print(\"Correct!\")\n",
    "    else:\n",
    "        button.style.button_color = 'red'\n",
    "        print(\"Incorrect!\")\n",
    "\n",
    "# Вызов функции для создания теста\n",
    "create_test(data['questions'])\n"
   ]
  },
  {
   "cell_type": "code",
   "execution_count": null,
   "metadata": {
    "colab": {
     "base_uri": "https://localhost:8080/",
     "height": 304,
     "referenced_widgets": [
      "397f6e2e298640f28dcaf69398ab97a2",
      "2d4b5bf755764902a98e7a4ff7603d38",
      "f49fa78b67db440a97b2111a4a0032d2",
      "17d9644ffdd7430d89ff8880e31186de",
      "8605341432a24de2910a489cd5e1cc9e",
      "cdd24a5703fe4e228a2508c655ab36ae",
      "5e2f1698387840288fb78fdac5fcdbf5",
      "0e39fde0016244c581883d740ccbb59a",
      "05575ae4a6864e0baae251bb98f455e1",
      "f610e41afc0643169b512eeaf615d0e4",
      "cc15a3aa2d454fd4a4b7ac3ddbf691fb",
      "1489406758fb44e5812530db9c8b0bc8"
     ]
    },
    "id": "eQU3RLJozumH",
    "outputId": "81d1d4c9-d0af-4377-afa9-c4137e88d15e"
   },
   "outputs": [
    {
     "name": "stdout",
     "output_type": "stream",
     "text": [
      "Question 1. What is the key difference between stochastic gradient descent (SGD) and classical gradient descent?\n",
      "\n"
     ]
    },
    {
     "data": {
      "application/vnd.jupyter.widget-view+json": {
       "model_id": "397f6e2e298640f28dcaf69398ab97a2",
       "version_major": 2,
       "version_minor": 0
      },
      "text/plain": [
       "Button(description='SGD calculates the gradient on each data set', layout=Layout(height='auto', overflow='hidd…"
      ]
     },
     "metadata": {},
     "output_type": "display_data"
    },
    {
     "data": {
      "application/vnd.jupyter.widget-view+json": {
       "model_id": "17d9644ffdd7430d89ff8880e31186de",
       "version_major": 2,
       "version_minor": 0
      },
      "text/plain": [
       "Button(description='SGD updates the weights using the gradient computed from one or more training examples', l…"
      ]
     },
     "metadata": {},
     "output_type": "display_data"
    },
    {
     "data": {
      "application/vnd.jupyter.widget-view+json": {
       "model_id": "5e2f1698387840288fb78fdac5fcdbf5",
       "version_major": 2,
       "version_minor": 0
      },
      "text/plain": [
       "Button(description='SGD always uses less training data', layout=Layout(height='auto', overflow='hidden', width…"
      ]
     },
     "metadata": {},
     "output_type": "display_data"
    },
    {
     "data": {
      "application/vnd.jupyter.widget-view+json": {
       "model_id": "f610e41afc0643169b512eeaf615d0e4",
       "version_major": 2,
       "version_minor": 0
      },
      "text/plain": [
       "Button(description='SGD is slower than classical gradient descent', layout=Layout(height='auto', overflow='hid…"
      ]
     },
     "metadata": {},
     "output_type": "display_data"
    },
    {
     "name": "stdout",
     "output_type": "stream",
     "text": [
      "\n",
      "\n",
      "Incorrect!\n",
      "Correct!\n",
      "Incorrect!\n",
      "Incorrect!\n"
     ]
    }
   ],
   "source": [
    "import json\n",
    "import ipywidgets as widgets\n",
    "from IPython.display import display, clear_output\n",
    "\n",
    "# Загрузка данных теста из JSON файла\n",
    "with open('Stochastic2.json', 'r') as f:\n",
    "    data = json.load(f)\n",
    "\n",
    "def create_test(questions):\n",
    "    for i, question in enumerate(questions):\n",
    "        print(f\"Question {i+1}. {question['question']}\\n\")\n",
    "\n",
    "        # Создание кнопок для вариантов ответов\n",
    "        for key, option in question['options'].items():\n",
    "            button = widgets.Button(\n",
    "                description=option,\n",
    "                layout=widgets.Layout(width='100%', height='auto', overflow='hidden')\n",
    "            )\n",
    "            button.style.button_color = 'lightgray'\n",
    "            button.on_click(lambda b, ans=key, q=question: on_button_click(b, ans, q['answer']))\n",
    "            display(button)\n",
    "\n",
    "        print(\"\\n\")\n",
    "\n",
    "def on_button_click(button, chosen_answer, correct_answer):\n",
    "    if chosen_answer == correct_answer:\n",
    "        button.style.button_color = 'lightgreen'\n",
    "        print(\"Correct!\")\n",
    "    else:\n",
    "        button.style.button_color = 'red'\n",
    "        print(\"Incorrect!\")\n",
    "\n",
    "# Вызов функции для создания теста\n",
    "create_test(data['questions'])\n"
   ]
  },
  {
   "cell_type": "code",
   "execution_count": null,
   "metadata": {
    "colab": {
     "base_uri": "https://localhost:8080/",
     "height": 234,
     "referenced_widgets": [
      "c90b73ab5dfb4e6d934dd0d4eda6ad23",
      "dc8faff627c141428e750b4b0996a59e",
      "cc50b8a0bfb74ee989ff35db565ef53a",
      "9b3e4cdc08304de3b709b3d1f27226de",
      "58cf8ef28aa6485caffe981945b3141d",
      "d63e50bdcc3e4c40b138837079825a8d",
      "577fe4e65ba7494d8da689f463eb1dd6",
      "dfce30c7614c497f99dac9749384db98",
      "1eb144d4772348219169ccb35869073b",
      "b5fc90ffa39045969d095d7d99bf8ebc",
      "5479f5211bd2409388b019dd432d2c80",
      "e20c3a6439e448f3bc8c777067fedcff"
     ]
    },
    "id": "kdhRdwL7zuUn",
    "outputId": "c6b6fcfd-b8f5-4db8-ba17-1d02e62c7cae"
   },
   "outputs": [
    {
     "name": "stdout",
     "output_type": "stream",
     "text": [
      "Question 1. What techniques are often used to improve the convergence and robustness of the learning process in SGD?\n",
      "\n"
     ]
    },
    {
     "data": {
      "application/vnd.jupyter.widget-view+json": {
       "model_id": "c90b73ab5dfb4e6d934dd0d4eda6ad23",
       "version_major": 2,
       "version_minor": 0
      },
      "text/plain": [
       "Button(description='Increase in learning rate over time', layout=Layout(height='auto', overflow='hidden', widt…"
      ]
     },
     "metadata": {},
     "output_type": "display_data"
    },
    {
     "data": {
      "application/vnd.jupyter.widget-view+json": {
       "model_id": "9b3e4cdc08304de3b709b3d1f27226de",
       "version_major": 2,
       "version_minor": 0
      },
      "text/plain": [
       "Button(description='Application of stochasticity', layout=Layout(height='auto', overflow='hidden', width='100%…"
      ]
     },
     "metadata": {},
     "output_type": "display_data"
    },
    {
     "data": {
      "application/vnd.jupyter.widget-view+json": {
       "model_id": "577fe4e65ba7494d8da689f463eb1dd6",
       "version_major": 2,
       "version_minor": 0
      },
      "text/plain": [
       "Button(description='Reducing the learning rate over time and applying momentum', layout=Layout(height='auto', …"
      ]
     },
     "metadata": {},
     "output_type": "display_data"
    },
    {
     "data": {
      "application/vnd.jupyter.widget-view+json": {
       "model_id": "b5fc90ffa39045969d095d7d99bf8ebc",
       "version_major": 2,
       "version_minor": 0
      },
      "text/plain": [
       "Button(description='Using more training examples for each update', layout=Layout(height='auto', overflow='hidd…"
      ]
     },
     "metadata": {},
     "output_type": "display_data"
    },
    {
     "name": "stdout",
     "output_type": "stream",
     "text": [
      "\n",
      "\n"
     ]
    }
   ],
   "source": [
    "import json\n",
    "import ipywidgets as widgets\n",
    "from IPython.display import display, clear_output\n",
    "\n",
    "# Загрузка данных теста из JSON файла\n",
    "with open('Stochastic3.json', 'r') as f:\n",
    "    data = json.load(f)\n",
    "\n",
    "def create_test(questions):\n",
    "    for i, question in enumerate(questions):\n",
    "        print(f\"Question {i+1}. {question['question']}\\n\")\n",
    "\n",
    "        # Создание кнопок для вариантов ответов\n",
    "        for key, option in question['options'].items():\n",
    "            button = widgets.Button(\n",
    "                description=option,\n",
    "                layout=widgets.Layout(width='100%', height='auto', overflow='hidden')\n",
    "            )\n",
    "            button.style.button_color = 'lightgray'\n",
    "            button.on_click(lambda b, ans=key, q=question: on_button_click(b, ans, q['answer']))\n",
    "            display(button)\n",
    "\n",
    "        print(\"\\n\")\n",
    "\n",
    "def on_button_click(button, chosen_answer, correct_answer):\n",
    "    if chosen_answer == correct_answer:\n",
    "        button.style.button_color = 'lightgreen'\n",
    "        print(\"Correct!\")\n",
    "    else:\n",
    "        button.style.button_color = 'red'\n",
    "        print(\"Incorrect!\")\n",
    "\n",
    "# Вызов функции для создания теста\n",
    "create_test(data['questions'])\n"
   ]
  },
  {
   "cell_type": "markdown",
   "metadata": {
    "id": "EbCOJNh4iEZv"
   },
   "source": [
    "## Nesterov\n",
    "---\n",
    "Nesterov Accelerated Gradient (NAG) takes Stochastic Gradient Descent (SGD) optimization to the next level by utilizing the accumulated gradient in a more effective way. Unlike standard momentum, which simply takes a large step in the direction of the accumulated gradient, NAG takes a peek into where the parameters would be after the step, calculates the gradient at that point, and then makes a more informed update. This results in quicker convergence and improved overall performance. In simpler terms, NAG starts with the current momentum and takes a big leap in that direction, calculates the gradient at the new position, and then makes a correction based on this updated information. This approach is similar to \"looking ahead\" and adjusting accordingly.\n",
    "\n",
    "The update formula for NAG is as follows:\n",
    "\n",
    "1. Speed update:\n",
    "\n",
    "$$v_{t+1} = \\mu \\cdot v_t - \\eta \\cdot \\nabla_{\\theta} J(\\theta - \\mu \\cdot v_t)$$\n",
    "\n",
    "Where:\n",
    "\n",
    "$v_t$ — speed at step t,\n",
    "$\\mu$ is the torque coefficient,\n",
    "$\\eta$ — learning rate,\n",
    "$\\nabla_{\\theta} J(\\theta - \\mu \\cdot v_t)$ is the gradient loss function J over the parameters $\\theta$, calculated in the structure predicted by the subsequent velocity.\n",
    "\n",
    "2. Updating parameters:\n",
    "\n",
    "$$\\theta_{t+1} = \\theta_t + v_{t+1}$$\n",
    "\n",
    "Where:\n",
    "\n",
    "$\\theta_t$ — model parameters at step t."
   ]
  },
  {
   "cell_type": "code",
   "execution_count": null,
   "metadata": {
    "colab": {
     "base_uri": "https://localhost:8080/",
     "height": 304,
     "referenced_widgets": [
      "497edbd7635447c3b3af4fad093668ac",
      "cf7f70b70ec44f8bae162ed311303dcf",
      "f377641c067647b292ceaa71c73c3d2b",
      "0dbbf039102646898775c3e8f213ba1f",
      "b044ce4190224d70bb4d7ff720465180",
      "94b108e267004efc9d4c82ce347212ec",
      "b9c7d02efff348728cbb94c5c3d664f0",
      "e0c4881ff97a4eecb5c6dbbca78f288c",
      "e4f901dbd7bc40bdb2305c16bee987e1",
      "878f5bbc429d4371b63d08243dff3349",
      "a456fd249d4048b8a0449a29d0df3f00",
      "2cdc5d5f1e9b441da8df930414373544"
     ]
    },
    "id": "LaQJo1D45sNt",
    "outputId": "4fcb3e97-e3fc-49b1-ff19-909b6cca2ff4"
   },
   "outputs": [
    {
     "name": "stdout",
     "output_type": "stream",
     "text": [
      "Question 1. How does Nesterov Accelerated Gradient (NAG) differ from standard momentum in SGD optimization?\n",
      "\n"
     ]
    },
    {
     "data": {
      "application/vnd.jupyter.widget-view+json": {
       "model_id": "497edbd7635447c3b3af4fad093668ac",
       "version_major": 2,
       "version_minor": 0
      },
      "text/plain": [
       "Button(description='NAG uses a smaller step size than standard momentum.', layout=Layout(height='auto', overfl…"
      ]
     },
     "metadata": {},
     "output_type": "display_data"
    },
    {
     "data": {
      "application/vnd.jupyter.widget-view+json": {
       "model_id": "0dbbf039102646898775c3e8f213ba1f",
       "version_major": 2,
       "version_minor": 0
      },
      "text/plain": [
       "Button(description='NAG takes a leap in the direction opposite to the accumulated gradient.', layout=Layout(he…"
      ]
     },
     "metadata": {},
     "output_type": "display_data"
    },
    {
     "data": {
      "application/vnd.jupyter.widget-view+json": {
       "model_id": "b9c7d02efff348728cbb94c5c3d664f0",
       "version_major": 2,
       "version_minor": 0
      },
      "text/plain": [
       "Button(description='NAG calculates the gradient at the future parameter position and makes an informed update.…"
      ]
     },
     "metadata": {},
     "output_type": "display_data"
    },
    {
     "data": {
      "application/vnd.jupyter.widget-view+json": {
       "model_id": "878f5bbc429d4371b63d08243dff3349",
       "version_major": 2,
       "version_minor": 0
      },
      "text/plain": [
       "Button(description='NAG ignores the accumulated gradient for making updates.', layout=Layout(height='auto', ov…"
      ]
     },
     "metadata": {},
     "output_type": "display_data"
    },
    {
     "name": "stdout",
     "output_type": "stream",
     "text": [
      "\n",
      "\n",
      "Incorrect!\n",
      "Incorrect!\n",
      "Correct!\n",
      "Incorrect!\n"
     ]
    }
   ],
   "source": [
    "import json\n",
    "import ipywidgets as widgets\n",
    "from IPython.display import display, clear_output\n",
    "\n",
    "# Загрузка данных теста из JSON файла\n",
    "with open('Nesterov1.json', 'r') as f:\n",
    "    data = json.load(f)\n",
    "\n",
    "def create_test(questions):\n",
    "    for i, question in enumerate(questions):\n",
    "        print(f\"Question {i+1}. {question['question']}\\n\")\n",
    "\n",
    "        # Создание кнопок для вариантов ответов\n",
    "        for key, option in question['options'].items():\n",
    "            button = widgets.Button(\n",
    "                description=option,\n",
    "                layout=widgets.Layout(width='100%', height='auto', overflow='hidden')\n",
    "            )\n",
    "            button.style.button_color = 'lightgray'\n",
    "            button.on_click(lambda b, ans=key, q=question: on_button_click(b, ans, q['answer']))\n",
    "            display(button)\n",
    "\n",
    "        print(\"\\n\")\n",
    "\n",
    "def on_button_click(button, chosen_answer, correct_answer):\n",
    "    if chosen_answer == correct_answer:\n",
    "        button.style.button_color = 'lightgreen'\n",
    "        print(\"Correct!\")\n",
    "    else:\n",
    "        button.style.button_color = 'red'\n",
    "        print(\"Incorrect!\")\n",
    "\n",
    "# Вызов функции для создания теста\n",
    "create_test(data['questions'])\n"
   ]
  },
  {
   "cell_type": "code",
   "execution_count": null,
   "metadata": {
    "colab": {
     "base_uri": "https://localhost:8080/",
     "height": 304,
     "referenced_widgets": [
      "4d3e28d8960f45c5948a7c359c6a1bad",
      "1417158d24b14aae8e4a85b5a4778854",
      "0c2c4a3268c34a229c1e92f05bbfa5f4",
      "d57b06ab4d78421abe8b544281517a02",
      "985738e5b3314882b62cde95bb09cd7b",
      "d0c256bd9022472786eee90b32faea80",
      "72609b0156214bf1a7587b893551bcf4",
      "5487e41de014493284d44e2918f2fbc6",
      "3162539cd81647a4913d6c9d241e9110",
      "a774dcf682b0400daaab947e93460dcc",
      "0b4caa40a14e43aab55c6928bc48c1e9",
      "ccfb351d983849698162da6cff3bc8ae"
     ]
    },
    "id": "e4Ol9N585sCv",
    "outputId": "7ce2435a-858c-4446-f096-a603868c9217"
   },
   "outputs": [
    {
     "name": "stdout",
     "output_type": "stream",
     "text": [
      "Question 1. What is the result of Nesterov Accelerated Gradient's approach to optimization?\n",
      "\n"
     ]
    },
    {
     "data": {
      "application/vnd.jupyter.widget-view+json": {
       "model_id": "4d3e28d8960f45c5948a7c359c6a1bad",
       "version_major": 2,
       "version_minor": 0
      },
      "text/plain": [
       "Button(description='Slower convergence and degraded performance.', layout=Layout(height='auto', overflow='hidd…"
      ]
     },
     "metadata": {},
     "output_type": "display_data"
    },
    {
     "data": {
      "application/vnd.jupyter.widget-view+json": {
       "model_id": "d57b06ab4d78421abe8b544281517a02",
       "version_major": 2,
       "version_minor": 0
      },
      "text/plain": [
       "Button(description='Quicker convergence and improved overall performance.', layout=Layout(height='auto', overf…"
      ]
     },
     "metadata": {},
     "output_type": "display_data"
    },
    {
     "data": {
      "application/vnd.jupyter.widget-view+json": {
       "model_id": "72609b0156214bf1a7587b893551bcf4",
       "version_major": 2,
       "version_minor": 0
      },
      "text/plain": [
       "Button(description='No significant change in convergence speed.', layout=Layout(height='auto', overflow='hidde…"
      ]
     },
     "metadata": {},
     "output_type": "display_data"
    },
    {
     "data": {
      "application/vnd.jupyter.widget-view+json": {
       "model_id": "a774dcf682b0400daaab947e93460dcc",
       "version_major": 2,
       "version_minor": 0
      },
      "text/plain": [
       "Button(description='More frequent oscillations in parameter updates.', layout=Layout(height='auto', overflow='…"
      ]
     },
     "metadata": {},
     "output_type": "display_data"
    },
    {
     "name": "stdout",
     "output_type": "stream",
     "text": [
      "\n",
      "\n",
      "Incorrect!\n",
      "Correct!\n",
      "Incorrect!\n",
      "Incorrect!\n"
     ]
    }
   ],
   "source": [
    "import json\n",
    "import ipywidgets as widgets\n",
    "from IPython.display import display, clear_output\n",
    "\n",
    "# Загрузка данных теста из JSON файла\n",
    "with open('Nesterov2.json', 'r') as f:\n",
    "    data = json.load(f)\n",
    "\n",
    "def create_test(questions):\n",
    "    for i, question in enumerate(questions):\n",
    "        print(f\"Question {i+1}. {question['question']}\\n\")\n",
    "\n",
    "        # Создание кнопок для вариантов ответов\n",
    "        for key, option in question['options'].items():\n",
    "            button = widgets.Button(\n",
    "                description=option,\n",
    "                layout=widgets.Layout(width='100%', height='auto', overflow='hidden')\n",
    "            )\n",
    "            button.style.button_color = 'lightgray'\n",
    "            button.on_click(lambda b, ans=key, q=question: on_button_click(b, ans, q['answer']))\n",
    "            display(button)\n",
    "\n",
    "        print(\"\\n\")\n",
    "\n",
    "def on_button_click(button, chosen_answer, correct_answer):\n",
    "    if chosen_answer == correct_answer:\n",
    "        button.style.button_color = 'lightgreen'\n",
    "        print(\"Correct!\")\n",
    "    else:\n",
    "        button.style.button_color = 'red'\n",
    "        print(\"Incorrect!\")\n",
    "\n",
    "# Вызов функции для создания теста\n",
    "create_test(data['questions'])\n"
   ]
  },
  {
   "cell_type": "code",
   "execution_count": null,
   "metadata": {
    "colab": {
     "base_uri": "https://localhost:8080/",
     "height": 269,
     "referenced_widgets": [
      "e59f69ca65474978b65d4c0a34276ea3",
      "bb95b9aa90414c9698b1649f02baecbd",
      "0f9e84f1245a4a64ae25b077388f5ce8",
      "05750af67c134dd3b88a84ba6fee60ff",
      "bee50694b6e64136a5fbddf4fa4f16f4",
      "0aab3bc81d8c4d5684741491eaedc664",
      "599748a724734cd2a60f7967c2b8d2c7",
      "e3bf3084f14d444e9b0dc0a36a335140",
      "9b0504517caf46d790063de6b6ab4f07",
      "03f456aa50b04caa8d3079c5ccfb185c",
      "d55b905a99644ebba7824bbcf2874071",
      "f3ee376267214df380e40aa61ebdec71"
     ]
    },
    "id": "oqZUgLTD5r2n",
    "outputId": "ded73c1f-6c7c-4fbe-8b57-46352f5a65df"
   },
   "outputs": [
    {
     "name": "stdout",
     "output_type": "stream",
     "text": [
      "Question 1. What does the NAG method do before making a parameter update?\n",
      "\n"
     ]
    },
    {
     "data": {
      "application/vnd.jupyter.widget-view+json": {
       "model_id": "e59f69ca65474978b65d4c0a34276ea3",
       "version_major": 2,
       "version_minor": 0
      },
      "text/plain": [
       "Button(description='It recalculates the previous gradients.', layout=Layout(height='auto', overflow='hidden', …"
      ]
     },
     "metadata": {},
     "output_type": "display_data"
    },
    {
     "data": {
      "application/vnd.jupyter.widget-view+json": {
       "model_id": "05750af67c134dd3b88a84ba6fee60ff",
       "version_major": 2,
       "version_minor": 0
      },
      "text/plain": [
       "Button(description='It starts with the current momentum and makes a correction based on updated gradient infor…"
      ]
     },
     "metadata": {},
     "output_type": "display_data"
    },
    {
     "data": {
      "application/vnd.jupyter.widget-view+json": {
       "model_id": "599748a724734cd2a60f7967c2b8d2c7",
       "version_major": 2,
       "version_minor": 0
      },
      "text/plain": [
       "Button(description='It reduces the learning rate for a more conservative update.', layout=Layout(height='auto'…"
      ]
     },
     "metadata": {},
     "output_type": "display_data"
    },
    {
     "data": {
      "application/vnd.jupyter.widget-view+json": {
       "model_id": "03f456aa50b04caa8d3079c5ccfb185c",
       "version_major": 2,
       "version_minor": 0
      },
      "text/plain": [
       "Button(description='It doubles the accumulated gradient to ensure a larger step.', layout=Layout(height='auto'…"
      ]
     },
     "metadata": {},
     "output_type": "display_data"
    },
    {
     "name": "stdout",
     "output_type": "stream",
     "text": [
      "\n",
      "\n",
      "Incorrect!\n",
      "Correct!\n"
     ]
    }
   ],
   "source": [
    "import json\n",
    "import ipywidgets as widgets\n",
    "from IPython.display import display, clear_output\n",
    "\n",
    "# Загрузка данных теста из JSON файла\n",
    "with open('Nesterov3.json', 'r') as f:\n",
    "    data = json.load(f)\n",
    "\n",
    "def create_test(questions):\n",
    "    for i, question in enumerate(questions):\n",
    "        print(f\"Question {i+1}. {question['question']}\\n\")\n",
    "\n",
    "        # Создание кнопок для вариантов ответов\n",
    "        for key, option in question['options'].items():\n",
    "            button = widgets.Button(\n",
    "                description=option,\n",
    "                layout=widgets.Layout(width='100%', height='auto', overflow='hidden')\n",
    "            )\n",
    "            button.style.button_color = 'lightgray'\n",
    "            button.on_click(lambda b, ans=key, q=question: on_button_click(b, ans, q['answer']))\n",
    "            display(button)\n",
    "\n",
    "        print(\"\\n\")\n",
    "\n",
    "def on_button_click(button, chosen_answer, correct_answer):\n",
    "    if chosen_answer == correct_answer:\n",
    "        button.style.button_color = 'lightgreen'\n",
    "        print(\"Correct!\")\n",
    "    else:\n",
    "        button.style.button_color = 'red'\n",
    "        print(\"Incorrect!\")\n",
    "\n",
    "# Вызов функции для создания теста\n",
    "create_test(data['questions'])\n"
   ]
  },
  {
   "cell_type": "markdown",
   "metadata": {
    "id": "fR3GN5mI9F_E"
   },
   "source": [
    "## Adagrad\n",
    "---\n",
    "Adagrad is an algorithm for gradient-based optimization that does just this: It adapts the learning rate to the parameters, performing smaller updates\n",
    "(i.e. low learning rates) for parameters associated with frequently occurring features, and larger updates (i.e. high learning rates) for parameters associated with infrequent features. For this reason, it is well-suited for dealing with sparse data. have found that Adagrad greatly improved the robustness of SGD and used it for training large-scale neural nets at Google, which -- among other things -- learned to recognize cats in Youtube videos. Moreover, used Adagrad to train GloVe word embeddings, as infrequent words require much larger updates than frequent ones.\n",
    "\n",
    "Previously, we performed an update for all parameters θ at once as every parameter $\\theta_i$ used the same learning rate $η$ Adagrad uses a different learning rate for every parameter $θ_i$ at every time step $t$ we first show Adagrad's per-parameter update, which we then vectorize. For brevity, we use $g_t$ to denote the gradient at time step $t$. $g_{t,i}$\n",
    "is then the partial derivative of the objective function w.r.t. to the parameter $\\theta_i$ at time step $t$:\n",
    "\n",
    "$g_{t,i}=\\nabla_\\theta J(\\theta_{t,i})$\n",
    "\n",
    "The SGD update for every parameter $\\theta_i$ at each time step $t$ then becomes:\n",
    "\n",
    "$\\theta_{t+1,i}=\\theta_{t,i}−\\eta\\cdot g_{t,i}$\n",
    "\n",
    "In its update rule, Adagrad modifies the general learning rate $\\eta$ at each time step $t$ for every parameter $\\theta_i$ based on the past gradients that have been computed for $\\theta_i$:\n",
    "\n",
    "$\\theta_{t+1,i}=\\theta_{t,i}−\\frac{\\eta}{\\sqrt{G_{t,ii}+ϵ}}⋅g_{t,i}$\n",
    "\n",
    "$G_t$ $∈$ $ℝ^{d×d}$ here is a diagonal matrix where each diagonal element $i$, $i$ is the sum of the squares of the gradients w.r.t. $\\theta_i$ up to time step $t$, while $ϵ$ is a smoothing term that avoids division by zero (usually on the order of 1$e$−8). Interestingly, without the square root operation, the algorithm performs much worse. As $G_t$ contains the sum of the squares of the past gradients w.r.t. to all parameters $\\theta$ along its diagonal, we can now vectorize our implementation by performing a matrix-vector product $⊙$ between\n",
    "$G_t$ and $g_t$:\n",
    "\n",
    "$\\theta_{t+1}=\\theta_t−\\frac{\\eta}{\\sqrt{G_t+\\epsilon}}\\odot g_t$\n",
    "\n",
    "Adagrad's main weakness is its accumulation of the squared gradients in the denominator: Since every added term is positive, the accumulated sum keeps growing during training. This in turn causes the learning rate to shrink and eventually become infinitesimally small, at which point the algorithm is no longer able to acquire additional knowledge.\n",
    "\n"
   ]
  },
  {
   "cell_type": "code",
   "execution_count": null,
   "metadata": {
    "colab": {
     "base_uri": "https://localhost:8080/",
     "height": 507
    },
    "id": "VrsOyx8Rm13F",
    "outputId": "ec561b20-0cb6-4024-afbc-d9f19e2f0820"
   },
   "outputs": [
    {
     "name": "stdout",
     "output_type": "stream",
     "text": [
      "Optimizer: SGD, Loss: 0.0796, Accuracy: 0.9753\n",
      "Optimizer: SGD, Loss: 0.0751, Accuracy: 0.9760\n"
     ]
    },
    {
     "data": {
      "image/png": "[encoded data removed]",
      "text/plain": [
       "<Figure size 640x480 with 2 Axes>"
      ]
     },
     "metadata": {},
     "output_type": "display_data"
    }
   ],
   "source": [
    "import tensorflow as tf\n",
    "from tensorflow.keras.datasets import mnist\n",
    "from tensorflow.keras.models import Sequential\n",
    "from tensorflow.keras.layers import Dense, Flatten\n",
    "from tensorflow.keras.optimizers import Adam, Adadelta, Nadam\n",
    "import matplotlib.pyplot as plt\n",
    "\n",
    "(x_train, y_train), (x_test, y_test) = mnist.load_data()\n",
    "x_train, x_test = x_train / 255.0, x_test / 255.0\n",
    "\n",
    "def create_model():\n",
    "    model = Sequential([\n",
    "        Flatten(input_shape=(28, 28)),\n",
    "        Dense(128, activation='relu'),\n",
    "        Dense(10, activation='softmax')\n",
    "    ])\n",
    "    return model\n",
    "\n",
    "def train_evaluate(optimizer):\n",
    "    model = create_model()\n",
    "    model.compile(optimizer=optimizer,\n",
    "                  loss='sparse_categorical_crossentropy',\n",
    "                  metrics=['accuracy'])\n",
    "    model.fit(x_train, y_train, epochs=5, verbose=0)\n",
    "    loss, accuracy = model.evaluate(x_test, y_test, verbose=0)\n",
    "    return loss, accuracy\n",
    "\n",
    "\n",
    "results = {}\n",
    "for opt in [tf.keras.optimizers.SGD(momentum=0.9), tf.keras.optimizers.SGD(momentum=0.9, nesterov=True)]:\n",
    "    loss, accuracy = train_evaluate(opt)\n",
    "    results[opt.__class__.__name__] = (loss, accuracy)\n",
    "    print(f'Optimizer: {opt.__class__.__name__}, Loss: {loss:.4f}, Accuracy: {accuracy:.4f}')\n",
    "plot_results(results)"
   ]
  },
  {
   "cell_type": "code",
   "execution_count": null,
   "metadata": {
    "id": "AKiV8MkoCgtA"
   },
   "outputs": [],
   "source": []
  },
  {
   "cell_type": "code",
   "execution_count": null,
   "metadata": {
    "colab": {
     "base_uri": "https://localhost:8080/",
     "height": 564
    },
    "id": "G8Z21z4JXepx",
    "outputId": "cd083cd0-d030-45c3-d234-391f4a93f41b"
   },
   "outputs": [
    {
     "data": {
      "image/png": "[encoded data removed]",
      "text/plain": [
       "<Figure size 1000x600 with 1 Axes>"
      ]
     },
     "metadata": {},
     "output_type": "display_data"
    }
   ],
   "source": [
    "import numpy as np\n",
    "\n",
    "def gradient_descent(gradient, start, learn_rate, n_iter=50, tolerance=1e-06):\n",
    "    vector = start\n",
    "    trajectory = [vector]\n",
    "    for _ in range(n_iter):\n",
    "        diff = -learn_rate * gradient(vector)\n",
    "        if np.all(np.abs(diff) <= tolerance):\n",
    "            break\n",
    "        vector += diff\n",
    "        trajectory.append(vector)\n",
    "    return vector, trajectory\n",
    "\n",
    "def gradient(v):\n",
    "    return 2 * v\n",
    "\n",
    "start = 10.0\n",
    "\n",
    "learn_rate = 0.2\n",
    "\n",
    "minimum, trajectory = gradient_descent(gradient, start, learn_rate)\n",
    "\n",
    "v_values = np.linspace(-10, 10, 100)\n",
    "C_values = v_values**2\n",
    "\n",
    "plt.figure(figsize=(10, 6))\n",
    "plt.plot(v_values, C_values, label='Cost Function $C(v) = v^2$')\n",
    "plt.scatter(trajectory, [t**2 for t in trajectory], color='red', label='Trajectory', zorder=5)\n",
    "plt.plot(trajectory, [t**2 for t in trajectory], color='red', linestyle='--')\n",
    "plt.title('Movement of the Solution Through Iterations')\n",
    "plt.xlabel('v')\n",
    "plt.ylabel('C(v)')\n",
    "plt.legend()\n",
    "plt.grid(True)\n",
    "plt.show()\n"
   ]
  },
  {
   "cell_type": "code",
   "execution_count": null,
   "metadata": {
    "colab": {
     "base_uri": "https://localhost:8080/",
     "height": 252,
     "referenced_widgets": [
      "6ced88cfec2546cdbe5d3b1d31bfc5ff",
      "f0bed2f65e27476ba5a4042355478df2",
      "a662e09e206c4076812f4366415da670",
      "006a00ce7a5a4312a4a27ee2efad49d8",
      "71191a09484841eb94329bdff68ba325",
      "e8ffe3574f72426cb4d4ef32d9e0a269",
      "ff521d256715491a8e489f6106de5941",
      "2b6c830db1af4a718bddb66e023f4c68",
      "1ed515c79a004955b5bff084d12c4e6b",
      "d448554ead47438484219cd1ec82d906",
      "6836c352aa8d4c1ba2fdc0bfa9e53f23",
      "46865004407249499806ccc8185e5964"
     ]
    },
    "id": "JebsNuXANWDB",
    "outputId": "c2a8c83b-436a-444e-c696-32f5837f2913"
   },
   "outputs": [
    {
     "name": "stdout",
     "output_type": "stream",
     "text": [
      "Question 1. What does Adagrad do differently for each parameter in terms of learning rates?\n",
      "\n"
     ]
    },
    {
     "data": {
      "application/vnd.jupyter.widget-view+json": {
       "model_id": "6ced88cfec2546cdbe5d3b1d31bfc5ff",
       "version_major": 2,
       "version_minor": 0
      },
      "text/plain": [
       "Button(description='It uses the same learning rate for all parameters', layout=Layout(height='auto', overflow=…"
      ]
     },
     "metadata": {},
     "output_type": "display_data"
    },
    {
     "data": {
      "application/vnd.jupyter.widget-view+json": {
       "model_id": "006a00ce7a5a4312a4a27ee2efad49d8",
       "version_major": 2,
       "version_minor": 0
      },
      "text/plain": [
       "Button(description='It increases the learning rate for frequently occurring features', layout=Layout(height='a…"
      ]
     },
     "metadata": {},
     "output_type": "display_data"
    },
    {
     "data": {
      "application/vnd.jupyter.widget-view+json": {
       "model_id": "ff521d256715491a8e489f6106de5941",
       "version_major": 2,
       "version_minor": 0
      },
      "text/plain": [
       "Button(description='It performs smaller updates for parameters associated with infrequently occurring features…"
      ]
     },
     "metadata": {},
     "output_type": "display_data"
    },
    {
     "data": {
      "application/vnd.jupyter.widget-view+json": {
       "model_id": "d448554ead47438484219cd1ec82d906",
       "version_major": 2,
       "version_minor": 0
      },
      "text/plain": [
       "Button(description='It adapts the learning rate to the parameters, performing smaller updates for frequently o…"
      ]
     },
     "metadata": {},
     "output_type": "display_data"
    },
    {
     "name": "stdout",
     "output_type": "stream",
     "text": [
      "\n",
      "\n",
      "Correct!\n"
     ]
    }
   ],
   "source": [
    "import json\n",
    "import ipywidgets as widgets\n",
    "from IPython.display import display, clear_output\n",
    "\n",
    "# Загрузка данных теста из JSON файла\n",
    "with open('Adagrad1.json', 'r') as f:\n",
    "    data = json.load(f)\n",
    "\n",
    "def create_test(questions):\n",
    "    for i, question in enumerate(questions):\n",
    "        print(f\"Question {i+1}. {question['question']}\\n\")\n",
    "\n",
    "        # Создание кнопок для вариантов ответов\n",
    "        for key, option in question['options'].items():\n",
    "            button = widgets.Button(\n",
    "                description=option,\n",
    "                layout=widgets.Layout(width='100%', height='auto', overflow='hidden')\n",
    "            )\n",
    "            button.style.button_color = 'lightgray'\n",
    "            button.on_click(lambda b, ans=key, q=question: on_button_click(b, ans, q['answer']))\n",
    "            display(button)\n",
    "\n",
    "        print(\"\\n\")\n",
    "\n",
    "def on_button_click(button, chosen_answer, correct_answer):\n",
    "    if chosen_answer == correct_answer:\n",
    "        button.style.button_color = 'lightgreen'\n",
    "        print(\"Correct!\")\n",
    "    else:\n",
    "        button.style.button_color = 'red'\n",
    "        print(\"Incorrect!\")\n",
    "\n",
    "# Вызов функции для создания теста\n",
    "create_test(data['questions'])\n"
   ]
  },
  {
   "cell_type": "code",
   "execution_count": null,
   "metadata": {
    "colab": {
     "base_uri": "https://localhost:8080/",
     "height": 252,
     "referenced_widgets": [
      "ef0fc0b01cf34a7190d1c11c0d6b2bb3",
      "906af7e9de934c4daaa21397184a73a2",
      "ec5aafb77cab4f99b37ace1cd56d8857",
      "f0e758310aa04b9bb18a07d246d527f8",
      "08a111f7f91a423a8714748ca3d5d233",
      "21b2ef486c494707bebec98fe602892d",
      "81c1e8d7409648b0bd3aaa66a254d457",
      "3680d5533061445e88a43b675058a9fb",
      "6a5551f40b0f4745a7d3b2a7e513013e",
      "f713130b2eea436eb0c5ba308b2c5986",
      "5f9a40115c1545c4bdbd10a775e69431",
      "996452aa6b6f4e0fbce79ed8d7824ef3"
     ]
    },
    "id": "uNsXO7taNV4f",
    "outputId": "a00eba7d-6b42-4987-98c9-7cbc0c847a68"
   },
   "outputs": [
    {
     "name": "stdout",
     "output_type": "stream",
     "text": [
      "Question 1. How does Adagrad's update rule modify the general learning rate at each time step for every parameter?\n",
      "\n"
     ]
    },
    {
     "data": {
      "application/vnd.jupyter.widget-view+json": {
       "model_id": "ef0fc0b01cf34a7190d1c11c0d6b2bb3",
       "version_major": 2,
       "version_minor": 0
      },
      "text/plain": [
       "Button(description='By multiplying it with the gradient at that time step', layout=Layout(height='auto', overf…"
      ]
     },
     "metadata": {},
     "output_type": "display_data"
    },
    {
     "data": {
      "application/vnd.jupyter.widget-view+json": {
       "model_id": "f0e758310aa04b9bb18a07d246d527f8",
       "version_major": 2,
       "version_minor": 0
      },
      "text/plain": [
       "Button(description='By dividing it by the sum of the squares of the gradients up to that time step', layout=La…"
      ]
     },
     "metadata": {},
     "output_type": "display_data"
    },
    {
     "data": {
      "application/vnd.jupyter.widget-view+json": {
       "model_id": "81c1e8d7409648b0bd3aaa66a254d457",
       "version_major": 2,
       "version_minor": 0
      },
      "text/plain": [
       "Button(description='By adding a smoothing term that avoids division by zero', layout=Layout(height='auto', ove…"
      ]
     },
     "metadata": {},
     "output_type": "display_data"
    },
    {
     "data": {
      "application/vnd.jupyter.widget-view+json": {
       "model_id": "f713130b2eea436eb0c5ba308b2c5986",
       "version_major": 2,
       "version_minor": 0
      },
      "text/plain": [
       "Button(description='By dividing it by the square root of the sum of the squares of the gradients plus a smooth…"
      ]
     },
     "metadata": {},
     "output_type": "display_data"
    },
    {
     "name": "stdout",
     "output_type": "stream",
     "text": [
      "\n",
      "\n",
      "Correct!\n"
     ]
    }
   ],
   "source": [
    "import json\n",
    "import ipywidgets as widgets\n",
    "from IPython.display import display, clear_output\n",
    "\n",
    "# Загрузка данных теста из JSON файла\n",
    "with open('Adagrad2.json', 'r') as f:\n",
    "    data = json.load(f)\n",
    "\n",
    "def create_test(questions):\n",
    "    for i, question in enumerate(questions):\n",
    "        print(f\"Question {i+1}. {question['question']}\\n\")\n",
    "\n",
    "        # Создание кнопок для вариантов ответов\n",
    "        for key, option in question['options'].items():\n",
    "            button = widgets.Button(\n",
    "                description=option,\n",
    "                layout=widgets.Layout(width='100%', height='auto', overflow='hidden')\n",
    "            )\n",
    "            button.style.button_color = 'lightgray'\n",
    "            button.on_click(lambda b, ans=key, q=question: on_button_click(b, ans, q['answer']))\n",
    "            display(button)\n",
    "\n",
    "        print(\"\\n\")\n",
    "\n",
    "def on_button_click(button, chosen_answer, correct_answer):\n",
    "    if chosen_answer == correct_answer:\n",
    "        button.style.button_color = 'lightgreen'\n",
    "        print(\"Correct!\")\n",
    "    else:\n",
    "        button.style.button_color = 'red'\n",
    "        print(\"Incorrect!\")\n",
    "\n",
    "# Вызов функции для создания теста\n",
    "create_test(data['questions'])\n"
   ]
  },
  {
   "cell_type": "code",
   "execution_count": null,
   "metadata": {
    "colab": {
     "base_uri": "https://localhost:8080/",
     "height": 252,
     "referenced_widgets": [
      "fda0b770afbb44f8bcbfe7a5949e84e9",
      "9b22a9ba61d64eaf9c45046c98d7c97f",
      "693d8046f98646a5ac6d57735743a331",
      "4847ce4df4d64344b0c9837faa25830a",
      "38411f9eb4d642a0ad056731ae315b9a",
      "2a49f7cdfbc9482f8ea6248346bb00b1",
      "cb9714c920554eeaab2679dabe0a1681",
      "28482b87d3f842d8a75a82215bba8246",
      "40297b5aada7422193135576eff0792c",
      "c300bcb0c8e44fafb449ef45d1475b87",
      "5ef107191d244134a580fcb4f4bc0939",
      "f1e4f152e0d04a398bf759709b9ca7ee"
     ]
    },
    "id": "j__gkQrrNVsQ",
    "outputId": "192a4e3d-1db9-4349-81e1-94cb8db1f950"
   },
   "outputs": [
    {
     "name": "stdout",
     "output_type": "stream",
     "text": [
      "Question 1. What is the main weakness of Adagrad according to the text?\n",
      "\n"
     ]
    },
    {
     "data": {
      "application/vnd.jupyter.widget-view+json": {
       "model_id": "fda0b770afbb44f8bcbfe7a5949e84e9",
       "version_major": 2,
       "version_minor": 0
      },
      "text/plain": [
       "Button(description='It does not adapt the learning rate to the parameters', layout=Layout(height='auto', overf…"
      ]
     },
     "metadata": {},
     "output_type": "display_data"
    },
    {
     "data": {
      "application/vnd.jupyter.widget-view+json": {
       "model_id": "4847ce4df4d64344b0c9837faa25830a",
       "version_major": 2,
       "version_minor": 0
      },
      "text/plain": [
       "Button(description='Its accumulated sum of squared gradients causes the learning rate to shrink over time', la…"
      ]
     },
     "metadata": {},
     "output_type": "display_data"
    },
    {
     "data": {
      "application/vnd.jupyter.widget-view+json": {
       "model_id": "cb9714c920554eeaab2679dabe0a1681",
       "version_major": 2,
       "version_minor": 0
      },
      "text/plain": [
       "Button(description='It requires a large smoothing term to avoid division by zero', layout=Layout(height='auto'…"
      ]
     },
     "metadata": {},
     "output_type": "display_data"
    },
    {
     "data": {
      "application/vnd.jupyter.widget-view+json": {
       "model_id": "c300bcb0c8e44fafb449ef45d1475b87",
       "version_major": 2,
       "version_minor": 0
      },
      "text/plain": [
       "Button(description='It performs much worse without the square root operation', layout=Layout(height='auto', ov…"
      ]
     },
     "metadata": {},
     "output_type": "display_data"
    },
    {
     "name": "stdout",
     "output_type": "stream",
     "text": [
      "\n",
      "\n",
      "Correct!\n"
     ]
    }
   ],
   "source": [
    "import json\n",
    "import ipywidgets as widgets\n",
    "from IPython.display import display, clear_output\n",
    "\n",
    "# Загрузка данных теста из JSON файла\n",
    "with open('Adagrad3.json', 'r') as f:\n",
    "    data = json.load(f)\n",
    "\n",
    "def create_test(questions):\n",
    "    for i, question in enumerate(questions):\n",
    "        print(f\"Question {i+1}. {question['question']}\\n\")\n",
    "\n",
    "        # Создание кнопок для вариантов ответов\n",
    "        for key, option in question['options'].items():\n",
    "            button = widgets.Button(\n",
    "                description=option,\n",
    "                layout=widgets.Layout(width='100%', height='auto', overflow='hidden')\n",
    "            )\n",
    "            button.style.button_color = 'lightgray'\n",
    "            button.on_click(lambda b, ans=key, q=question: on_button_click(b, ans, q['answer']))\n",
    "            display(button)\n",
    "\n",
    "        print(\"\\n\")\n",
    "\n",
    "def on_button_click(button, chosen_answer, correct_answer):\n",
    "    if chosen_answer == correct_answer:\n",
    "        button.style.button_color = 'lightgreen'\n",
    "        print(\"Correct!\")\n",
    "    else:\n",
    "        button.style.button_color = 'red'\n",
    "        print(\"Incorrect!\")\n",
    "\n",
    "# Вызов функции для создания теста\n",
    "create_test(data['questions'])\n"
   ]
  },
  {
   "cell_type": "markdown",
   "metadata": {
    "id": "ibGOO41KA9Ed"
   },
   "source": []
  },
  {
   "cell_type": "markdown",
   "metadata": {
    "id": "gvoqz7KPBSR_"
   },
   "source": [
    "## Adam (Adaptive Moment Estimation)\n",
    "\n",
    "---\n",
    "\n",
    "\n",
    "Theory:\n",
    "Adam combines the principles of Momentum and RMSprop, two well-known algorithms. First-order (average of gradients) and second-order (average of squared gradients) moving averages are used in Adam. With this torque system, Adam can adjust the learning rate for each model parameter, making him more efficient at handling differences between parameters. This is especially useful when working with data with large variations in gradients. The Adam algorithm also has a bias correction mechanism that helps smooth out the moment estimates during the initial stages of training. This ensures a more reliable and sustainable start to learning. Adam's main advantage is that it can efficiently determine the ideal model weights while minimizing the loss function as much as possible. It is widely recognized for its high efficiency and versatility, which allows it to successfully perform a wide variety of deep learning tasks. However, Adam, like any other algorithm, has its drawbacks and may not be the ideal choice for a particular problem. In some situations, other algorithms such as SGD or RMSprop may perform better. In addition to storing an exponentially decaying average of past squared gradients $v_t$ like Adadelta and RMSprop, Adam also keeps an exponentially decaying average of past gradients $m_t$ similar to momentum. Whereas momentum can be seen as a ball running down a slope, Adam behaves like a heavy ball with friction, which thus prefers flat minima in the error surface. We compute the decaying averages of past and past squared gradients $m_t$ and $v_t$ respectively as follows:\n",
    "\n",
    "$$m_t=\\beta_1 m_{t−1}+(1−\\beta_1)g_t\n",
    "\\\\\n",
    "v_t=\\beta_2 v_{t−1}+(1−\\beta_2)g^2_t$$\n",
    "\n",
    "$m_t$ and $v_t$ are estimates of the first moment (the mean) and the second moment (the uncentered variance) of the gradients respectively, hence the name of the method. As $m_t$ and $v_t$ are initialized as vectors of 0's, the authors of Adam observe that they are biased towards zero, especially during the initial time steps, and especially when the decay rates are small (i.e. $β_1$ and $β_2$ are close to 1). They counteract these biases by computing bias-corrected first and second moment estimates:\n",
    "\n",
    "$$\\hat m_t=\\frac{m_t}{1-\\beta^t_1}\n",
    "\\\\\n",
    "\\hat v_t=\\frac{v_t}{1-\\beta^t_2}\n",
    "$$\n",
    "\n",
    "They then use these to update the parameters just as we have seen in Adadelta and RMSprop, which yields the Adam update rule:\n",
    "\n",
    "$$\\theta_{t+1}=\\theta-\\frac{\\eta}{\\sqrt{\\hat v_t}+\\epsilon}\\hat m_t$$ .\n",
    "\n",
    "## Nadam\n",
    "---\n",
    "\n",
    "\n",
    "\n",
    "Nadam (Nesterov-accelerated Adaptive Moment Estimation) is one of the deep learning optimization algorithms that is a combination of the concepts contained in Adam and Nesterov's method. The main goal of Nadam is to improve Adam by using Nesterov momentum, which predicts future gradients and allows for more precise steps to be taken to minimize the loss function. Nadam and Adam use estimates of the first moment, which is the average of all previous gradients, and the second moment, which is the mean square of all previous gradients. However, the main difference is how Nadam adjusts the weight update steps using the position of the parameters in the future, which increases efficiency and convergence speed. This integration of Nesterov momentum helps avoid problems with excessive fluctuations and poor convergence that can occur with the conventional momentum method. Nadam provides a smoother, more stable ride, reducing wastage. Nadam is often used in problems where fast convergence and high accuracy are required, especially when standard Adam may not perform correctly. Working on large amounts of data, it is well suited for complex deep neural network architectures. However, Nadam, like any other optimization algorithm, has its drawbacks and may not be suitable for a particular problem. It is important to experimentally select the optimal optimizer, taking into account the specifics of the problem.\n",
    "\n",
    "\n",
    "\n",
    "Nadam (Accelerated Adaptive Nesterov Moment Estimation) is combined with elements of two other popular optimization algorithms: Adam and Nesterov Accelerated Gradient (NAG). The basic formula of Nadam is as follows:\n",
    "\n",
    "1. Updating moments:\n",
    "- First moment (average of gradients), similar to Adam:\n",
    "\n",
    "$$m_t = \\beta_1 \\cdot m_{t-1} + (1 - \\beta_1) \\cdot g_t$$\n",
    "\n",
    "- Second moment (mean square of gradients), same as in Adam:\n",
    "\n",
    "$$v_t = \\beta_2 \\cdot v_{t-1} + (1 - \\beta_2) \\cdot g_t^2$$\n",
    "\n",
    "Where $m_t$ and $v_t$ are the first and second moments, respectively, $\\beta_1$ and $\\beta_2$ are the forgetting coefficients for these moments, $g_t$ is the gradient at step t.\n",
    "\n",
    "2. Offset correction:\n",
    "- As in Adam, for the first and second moments:\n",
    "\n",
    "$$\\hat{m}_t = \\frac{m_t}{1 - \\beta_1^t}\n",
    "\\\\\n",
    "\\hat{v}_t = \\frac{v_t}{1 - \\beta_2^t}$$\n",
    "\n",
    "3. Nesterov Momentum integration:\n",
    "- Unlike Adam, Nadam includes the Nesterov step:\n",
    "\n",
    "$$\\theta_{t+1} = \\theta_t - \\frac{\\eta}{\\sqrt{\\hat{v}_t} + \\epsilon} \\left( \\beta_1 \\cdot \\hat{m}_t + \\frac{(1 - \\beta_1) \\cdot g_t}{1 - \\beta_1^t} \\right)$$\n",
    "\n",
    "Where $\\theta_{t+1}$ is the updated model parameters, $\\eta$ is the learning rate, $\\epsilon$ is a small constant added for stability (avoiding division by zero)."
   ]
  },
  {
   "cell_type": "code",
   "execution_count": null,
   "metadata": {
    "colab": {
     "base_uri": "https://localhost:8080/",
     "height": 524
    },
    "id": "LnjIp6xiv19N",
    "outputId": "c181625d-0307-4ab9-e70c-6c273db37d3a"
   },
   "outputs": [
    {
     "name": "stdout",
     "output_type": "stream",
     "text": [
      "Optimizer: Adam, Loss: 0.0928, Accuracy: 0.9727\n",
      "Optimizer: AdamW, Loss: 0.0877, Accuracy: 0.9735\n",
      "Optimizer: Nadam, Loss: 0.0793, Accuracy: 0.9759\n"
     ]
    },
    {
     "data": {
      "image/png": "[encoded data removed]",
      "text/plain": [
       "<Figure size 640x480 with 2 Axes>"
      ]
     },
     "metadata": {},
     "output_type": "display_data"
    }
   ],
   "source": [
    "for opt in [Adam(), tf.keras.optimizers.AdamW(learning_rate=0.001, weight_decay=0.01), Nadam()]:\n",
    "    loss, accuracy = train_evaluate(opt)\n",
    "    results[opt.__class__.__name__] = (loss, accuracy)\n",
    "    print(f'Optimizer: {opt.__class__.__name__}, Loss: {loss:.4f}, Accuracy: {accuracy:.4f}')\n",
    "\n",
    "optimizers = list(results.keys())\n",
    "losses = [results[opt][0] for opt in optimizers]\n",
    "accuracies = [results[opt][1] for opt in optimizers]\n",
    "\n",
    "plot_results(results)"
   ]
  },
  {
   "cell_type": "markdown",
   "metadata": {
    "id": "w9DXdkGiG_LN"
   },
   "source": [
    "This chart illustrates the performance results of a machine learning model trained with various optimizers. It showcases two important metrics – loss and accuracy – for each optimizer. The red bar graph represents the loss metric for each optimizer, plotted on the left vertical axis. A lower value indicates better performance, meaning the model's predictions are closer to the true labels on average. On the other hand, the blue line depicts the accuracy metric, plotted on the right vertical axis. A higher accuracy value indicates superior performance, with a larger proportion of the model's predictions being correct. The three optimizers evaluated are Adam, Adadelta, and Nadam. The annotations above the graph indicate that both Adam and Nadam achieve comparably high accuracy, with a slight edge for Adam."
   ]
  },
  {
   "cell_type": "code",
   "execution_count": null,
   "metadata": {
    "colab": {
     "base_uri": "https://localhost:8080/",
     "height": 304,
     "referenced_widgets": [
      "b3966fcb4fdd4b97951f3bdbf969461f",
      "88d661cfefb14cab95600518156bc8a8",
      "85f2f6980ebc4c9e8eb6d198bb54b4d4",
      "476132c0cfb04e12a92478b11001d2fb",
      "18cadf39d13e4eac80393389b78e7a55",
      "ebcb5841fd554300869ffd9b50e01bf1",
      "6cc5707b216e4bbd8a0477024988bed2",
      "aca018fe726140f49e42812d7608cc84",
      "1ce3fb965aa545aaa7db246a8cabafe5",
      "ebd443917739414ba1db1976f59ea8a2",
      "c0750a6f359e49ab8261689e41632e8b",
      "91085c93286a44808173997fe12a8b61"
     ]
    },
    "id": "uhJgnVYEQMSM",
    "outputId": "a7a29de3-d273-4e9c-ac6a-513a7fb92a02"
   },
   "outputs": [
    {
     "name": "stdout",
     "output_type": "stream",
     "text": [
      "Question 1. What two well-known algorithms does Adam combine?\n",
      "\n"
     ]
    },
    {
     "data": {
      "application/vnd.jupyter.widget-view+json": {
       "model_id": "b3966fcb4fdd4b97951f3bdbf969461f",
       "version_major": 2,
       "version_minor": 0
      },
      "text/plain": [
       "Button(description='SGD and Bias Correction', layout=Layout(height='auto', overflow='hidden', width='100%'), s…"
      ]
     },
     "metadata": {},
     "output_type": "display_data"
    },
    {
     "data": {
      "application/vnd.jupyter.widget-view+json": {
       "model_id": "476132c0cfb04e12a92478b11001d2fb",
       "version_major": 2,
       "version_minor": 0
      },
      "text/plain": [
       "Button(description='Momentum and RMSprop', layout=Layout(height='auto', overflow='hidden', width='100%'), styl…"
      ]
     },
     "metadata": {},
     "output_type": "display_data"
    },
    {
     "data": {
      "application/vnd.jupyter.widget-view+json": {
       "model_id": "6cc5707b216e4bbd8a0477024988bed2",
       "version_major": 2,
       "version_minor": 0
      },
      "text/plain": [
       "Button(description='First-order and Second-order Averages', layout=Layout(height='auto', overflow='hidden', wi…"
      ]
     },
     "metadata": {},
     "output_type": "display_data"
    },
    {
     "data": {
      "application/vnd.jupyter.widget-view+json": {
       "model_id": "ebd443917739414ba1db1976f59ea8a2",
       "version_major": 2,
       "version_minor": 0
      },
      "text/plain": [
       "Button(description='Bias Correction and Momentum', layout=Layout(height='auto', overflow='hidden', width='100%…"
      ]
     },
     "metadata": {},
     "output_type": "display_data"
    },
    {
     "name": "stdout",
     "output_type": "stream",
     "text": [
      "\n",
      "\n",
      "Incorrect!\n",
      "Correct!\n",
      "Incorrect!\n",
      "Incorrect!\n"
     ]
    }
   ],
   "source": [
    "import json\n",
    "import ipywidgets as widgets\n",
    "from IPython.display import display, clear_output\n",
    "\n",
    "# Загрузка данных теста из JSON файла\n",
    "with open('Adam1.json', 'r') as f:\n",
    "    data = json.load(f)\n",
    "\n",
    "def create_test(questions):\n",
    "    for i, question in enumerate(questions):\n",
    "        print(f\"Question {i+1}. {question['question']}\\n\")\n",
    "\n",
    "        # Создание кнопок для вариантов ответов\n",
    "        for key, option in question['options'].items():\n",
    "            button = widgets.Button(\n",
    "                description=option,\n",
    "                layout=widgets.Layout(width='100%', height='auto', overflow='hidden')\n",
    "            )\n",
    "            button.style.button_color = 'lightgray'\n",
    "            button.on_click(lambda b, ans=key, q=question: on_button_click(b, ans, q['answer']))\n",
    "            display(button)\n",
    "\n",
    "        print(\"\\n\")\n",
    "\n",
    "def on_button_click(button, chosen_answer, correct_answer):\n",
    "    if chosen_answer == correct_answer:\n",
    "        button.style.button_color = 'lightgreen'\n",
    "        print(\"Correct!\")\n",
    "    else:\n",
    "        button.style.button_color = 'red'\n",
    "        print(\"Incorrect!\")\n",
    "\n",
    "# Вызов функции для создания теста\n",
    "create_test(data['questions'])\n"
   ]
  },
  {
   "cell_type": "code",
   "execution_count": null,
   "metadata": {
    "colab": {
     "base_uri": "https://localhost:8080/",
     "height": 252,
     "referenced_widgets": [
      "dc947593c6744f538e4379cdff4c5da8",
      "0ef11000645041b397607f58e9fd9f77",
      "4bd79761bba04b5eb2a932320d2f6e5b",
      "d9b65bfa4f174bee89479552337f1684",
      "7f9beb1bcbe04a50841bdca9d0eadd5d",
      "df0573c48b7f4406bf1302d2e37553c2",
      "26a642b87c7746dcba17d8bbae406b9b",
      "a459e511fd224396b113cf3e1fa1f126",
      "33afdaf48ec2492e94d63c75ee3439b8",
      "698970839d764f32950434911d24c943",
      "16d9b7eaa643449db05837dcc72490de",
      "9bd142fa5922487cbad07c58b9e3f55a"
     ]
    },
    "id": "EvDFuEGxQMNc",
    "outputId": "7248a977-db8d-4c28-a039-075560bd0b35"
   },
   "outputs": [
    {
     "name": "stdout",
     "output_type": "stream",
     "text": [
      "Question 1. What does the bias correction mechanism in Adam help with?\n",
      "\n"
     ]
    },
    {
     "data": {
      "application/vnd.jupyter.widget-view+json": {
       "model_id": "dc947593c6744f538e4379cdff4c5da8",
       "version_major": 2,
       "version_minor": 0
      },
      "text/plain": [
       "Button(description='Adjusting the learning rate for each parameter', layout=Layout(height='auto', overflow='hi…"
      ]
     },
     "metadata": {},
     "output_type": "display_data"
    },
    {
     "data": {
      "application/vnd.jupyter.widget-view+json": {
       "model_id": "d9b65bfa4f174bee89479552337f1684",
       "version_major": 2,
       "version_minor": 0
      },
      "text/plain": [
       "Button(description='Handling differences between parameters', layout=Layout(height='auto', overflow='hidden', …"
      ]
     },
     "metadata": {},
     "output_type": "display_data"
    },
    {
     "data": {
      "application/vnd.jupyter.widget-view+json": {
       "model_id": "26a642b87c7746dcba17d8bbae406b9b",
       "version_major": 2,
       "version_minor": 0
      },
      "text/plain": [
       "Button(description='Smoothing out the moment estimates during initial training stages', layout=Layout(height='…"
      ]
     },
     "metadata": {},
     "output_type": "display_data"
    },
    {
     "data": {
      "application/vnd.jupyter.widget-view+json": {
       "model_id": "698970839d764f32950434911d24c943",
       "version_major": 2,
       "version_minor": 0
      },
      "text/plain": [
       "Button(description='Minimizing the loss function', layout=Layout(height='auto', overflow='hidden', width='100%…"
      ]
     },
     "metadata": {},
     "output_type": "display_data"
    },
    {
     "name": "stdout",
     "output_type": "stream",
     "text": [
      "\n",
      "\n",
      "Correct!\n"
     ]
    }
   ],
   "source": [
    "import json\n",
    "import ipywidgets as widgets\n",
    "from IPython.display import display, clear_output\n",
    "\n",
    "# Загрузка данных теста из JSON файла\n",
    "with open('Adam2.json', 'r') as f:\n",
    "    data = json.load(f)\n",
    "\n",
    "def create_test(questions):\n",
    "    for i, question in enumerate(questions):\n",
    "        print(f\"Question {i+1}. {question['question']}\\n\")\n",
    "\n",
    "        # Создание кнопок для вариантов ответов\n",
    "        for key, option in question['options'].items():\n",
    "            button = widgets.Button(\n",
    "                description=option,\n",
    "                layout=widgets.Layout(width='100%', height='auto', overflow='hidden')\n",
    "            )\n",
    "            button.style.button_color = 'lightgray'\n",
    "            button.on_click(lambda b, ans=key, q=question: on_button_click(b, ans, q['answer']))\n",
    "            display(button)\n",
    "\n",
    "        print(\"\\n\")\n",
    "\n",
    "def on_button_click(button, chosen_answer, correct_answer):\n",
    "    if chosen_answer == correct_answer:\n",
    "        button.style.button_color = 'lightgreen'\n",
    "        print(\"Correct!\")\n",
    "    else:\n",
    "        button.style.button_color = 'red'\n",
    "        print(\"Incorrect!\")\n",
    "\n",
    "# Вызов функции для создания теста\n",
    "create_test(data['questions'])\n"
   ]
  },
  {
   "cell_type": "code",
   "execution_count": null,
   "metadata": {
    "colab": {
     "base_uri": "https://localhost:8080/",
     "height": 252,
     "referenced_widgets": [
      "ee5d8cc094b9495cae0020847332d283",
      "d401008cb7c7476d92af38cfa9716957",
      "1e0403d2213d40ed93b58fbbbd1dda73",
      "772a93a9cc854c83a72f95c6c951b197",
      "b0e9a034b77146a6a3341acb9f5f113a",
      "561a1e65d8ed40dc9d926b05cc98fcab",
      "a4b803d6c337453aa58819f52b2aae0d",
      "3aefe23cf1ee42a1ae1788d180b09e72",
      "419090ac83e147e18b580111bd80c9b9",
      "f4378c48aefe424a8fd23e3a137e39c0",
      "df9a4a7fc6ec4802ae6223f29b02ae97",
      "2d7e272794e144d38cac4e5c868533f1"
     ]
    },
    "id": "f1IqMTQUQMI9",
    "outputId": "7aea1f61-e0f7-4e6f-c35f-90d0823d3629"
   },
   "outputs": [
    {
     "name": "stdout",
     "output_type": "stream",
     "text": [
      "Question 1. In which situation might Adam not be the best choice?\n",
      "\n"
     ]
    },
    {
     "data": {
      "application/vnd.jupyter.widget-view+json": {
       "model_id": "ee5d8cc094b9495cae0020847332d283",
       "version_major": 2,
       "version_minor": 0
      },
      "text/plain": [
       "Button(description='When working with large variations in gradients', layout=Layout(height='auto', overflow='h…"
      ]
     },
     "metadata": {},
     "output_type": "display_data"
    },
    {
     "data": {
      "application/vnd.jupyter.widget-view+json": {
       "model_id": "772a93a9cc854c83a72f95c6c951b197",
       "version_major": 2,
       "version_minor": 0
      },
      "text/plain": [
       "Button(description='When a high efficiency and versatility is required', layout=Layout(height='auto', overflow…"
      ]
     },
     "metadata": {},
     "output_type": "display_data"
    },
    {
     "data": {
      "application/vnd.jupyter.widget-view+json": {
       "model_id": "a4b803d6c337453aa58819f52b2aae0d",
       "version_major": 2,
       "version_minor": 0
      },
      "text/plain": [
       "Button(description='When determining the ideal model weights', layout=Layout(height='auto', overflow='hidden',…"
      ]
     },
     "metadata": {},
     "output_type": "display_data"
    },
    {
     "data": {
      "application/vnd.jupyter.widget-view+json": {
       "model_id": "f4378c48aefe424a8fd23e3a137e39c0",
       "version_major": 2,
       "version_minor": 0
      },
      "text/plain": [
       "Button(description='When other algorithms like SGD or RMSprop may perform better', layout=Layout(height='auto'…"
      ]
     },
     "metadata": {},
     "output_type": "display_data"
    },
    {
     "name": "stdout",
     "output_type": "stream",
     "text": [
      "\n",
      "\n",
      "Correct!\n"
     ]
    }
   ],
   "source": [
    "import json\n",
    "import ipywidgets as widgets\n",
    "from IPython.display import display, clear_output\n",
    "\n",
    "# Загрузка данных теста из JSON файла\n",
    "with open('Adam3.json', 'r') as f:\n",
    "    data = json.load(f)\n",
    "\n",
    "def create_test(questions):\n",
    "    for i, question in enumerate(questions):\n",
    "        print(f\"Question {i+1}. {question['question']}\\n\")\n",
    "\n",
    "        # Создание кнопок для вариантов ответов\n",
    "        for key, option in question['options'].items():\n",
    "            button = widgets.Button(\n",
    "                description=option,\n",
    "                layout=widgets.Layout(width='100%', height='auto', overflow='hidden')\n",
    "            )\n",
    "            button.style.button_color = 'lightgray'\n",
    "            button.on_click(lambda b, ans=key, q=question: on_button_click(b, ans, q['answer']))\n",
    "            display(button)\n",
    "\n",
    "        print(\"\\n\")\n",
    "\n",
    "def on_button_click(button, chosen_answer, correct_answer):\n",
    "    if chosen_answer == correct_answer:\n",
    "        button.style.button_color = 'lightgreen'\n",
    "        print(\"Correct!\")\n",
    "    else:\n",
    "        button.style.button_color = 'red'\n",
    "        print(\"Incorrect!\")\n",
    "\n",
    "# Вызов функции для создания теста\n",
    "create_test(data['questions'])\n"
   ]
  },
  {
   "cell_type": "code",
   "execution_count": null,
   "metadata": {
    "colab": {
     "base_uri": "https://localhost:8080/",
     "height": 252,
     "referenced_widgets": [
      "2f081abd016d4db5aaebc8cf1887d051",
      "a241eb34e7ca4feab7ad717f28e0e872",
      "adc75f519f2746588db7738f3f650f9b",
      "7579ba914a674ebfafb3af88b531763e",
      "38bfba474d9e4bac9fb098e08155a2ad",
      "fa8d0eaa17014574b437f8cc1e099923",
      "de5e8101c7704d878f0df33246d67411",
      "075468b9b2e8497f91dc5fb990343a6b",
      "8b66d9a1d6fa4a53a42ae9b0e582d96b",
      "fb575affd7d1459fb6ba1365604816f7",
      "498e1c20ee184c5094e63dea5572ef46",
      "cd149aa6e3984c14a72eebeeef947fb2"
     ]
    },
    "id": "fvQ30druQL_a",
    "outputId": "79f63546-caab-4233-f824-ff3508e83ad6"
   },
   "outputs": [
    {
     "name": "stdout",
     "output_type": "stream",
     "text": [
      "Question 1. What is the main goal of Nadam?\n",
      "\n"
     ]
    },
    {
     "data": {
      "application/vnd.jupyter.widget-view+json": {
       "model_id": "2f081abd016d4db5aaebc8cf1887d051",
       "version_major": 2,
       "version_minor": 0
      },
      "text/plain": [
       "Button(description='To increase the learning rate', layout=Layout(height='auto', overflow='hidden', width='100…"
      ]
     },
     "metadata": {},
     "output_type": "display_data"
    },
    {
     "data": {
      "application/vnd.jupyter.widget-view+json": {
       "model_id": "7579ba914a674ebfafb3af88b531763e",
       "version_major": 2,
       "version_minor": 0
      },
      "text/plain": [
       "Button(description='To reduce the amount of data needed', layout=Layout(height='auto', overflow='hidden', widt…"
      ]
     },
     "metadata": {},
     "output_type": "display_data"
    },
    {
     "data": {
      "application/vnd.jupyter.widget-view+json": {
       "model_id": "de5e8101c7704d878f0df33246d67411",
       "version_major": 2,
       "version_minor": 0
      },
      "text/plain": [
       "Button(description='To improve Adam by using Nesterov momentum', layout=Layout(height='auto', overflow='hidden…"
      ]
     },
     "metadata": {},
     "output_type": "display_data"
    },
    {
     "data": {
      "application/vnd.jupyter.widget-view+json": {
       "model_id": "fb575affd7d1459fb6ba1365604816f7",
       "version_major": 2,
       "version_minor": 0
      },
      "text/plain": [
       "Button(description='To simplify the optimization process', layout=Layout(height='auto', overflow='hidden', wid…"
      ]
     },
     "metadata": {},
     "output_type": "display_data"
    },
    {
     "name": "stdout",
     "output_type": "stream",
     "text": [
      "\n",
      "\n",
      "Correct!\n"
     ]
    }
   ],
   "source": [
    "import json\n",
    "import ipywidgets as widgets\n",
    "from IPython.display import display, clear_output\n",
    "\n",
    "# Загрузка данных теста из JSON файла\n",
    "with open('Nadam1.json', 'r') as f:\n",
    "    data = json.load(f)\n",
    "\n",
    "def create_test(questions):\n",
    "    for i, question in enumerate(questions):\n",
    "        print(f\"Question {i+1}. {question['question']}\\n\")\n",
    "\n",
    "        # Создание кнопок для вариантов ответов\n",
    "        for key, option in question['options'].items():\n",
    "            button = widgets.Button(\n",
    "                description=option,\n",
    "                layout=widgets.Layout(width='100%', height='auto', overflow='hidden')\n",
    "            )\n",
    "            button.style.button_color = 'lightgray'\n",
    "            button.on_click(lambda b, ans=key, q=question: on_button_click(b, ans, q['answer']))\n",
    "            display(button)\n",
    "\n",
    "        print(\"\\n\")\n",
    "\n",
    "def on_button_click(button, chosen_answer, correct_answer):\n",
    "    if chosen_answer == correct_answer:\n",
    "        button.style.button_color = 'lightgreen'\n",
    "        print(\"Correct!\")\n",
    "    else:\n",
    "        button.style.button_color = 'red'\n",
    "        print(\"Incorrect!\")\n",
    "\n",
    "# Вызов функции для создания теста\n",
    "create_test(data['questions'])\n"
   ]
  },
  {
   "cell_type": "code",
   "execution_count": null,
   "metadata": {
    "colab": {
     "base_uri": "https://localhost:8080/",
     "height": 252,
     "referenced_widgets": [
      "4b2246df7c2741ed89d3562f49648594",
      "7a709c5566464fbe9e8b01e1f41c5b87",
      "5fa2f84065a049deb06c91a6eec4f092",
      "eb23215b42614181b86fe1a45c95dd1a",
      "30b3fef6e15248fb9dc07e89772a85e5",
      "4bf5851372c64c0eb1b6b97b6408f230",
      "c88bb39574f14a0ba9628003dcbb9335",
      "bde90a84e86d4403813e93c7d0885b60",
      "2795a2ef08524799a570ba2937bf32e8",
      "187e741b27134d2b848eac986f052b28",
      "36f5cf02b40a46048df4e44fa96b0ba1",
      "d0fef8d9d243484c88796384ffd5ea3a"
     ]
    },
    "id": "cCudu-WqQL6T",
    "outputId": "1be1c128-9597-453b-baaa-df888492d4c6"
   },
   "outputs": [
    {
     "name": "stdout",
     "output_type": "stream",
     "text": [
      "Question 1. What does Nadam use to adjust the weight update steps?\n",
      "\n"
     ]
    },
    {
     "data": {
      "application/vnd.jupyter.widget-view+json": {
       "model_id": "4b2246df7c2741ed89d3562f49648594",
       "version_major": 2,
       "version_minor": 0
      },
      "text/plain": [
       "Button(description='The average of all previous gradients', layout=Layout(height='auto', overflow='hidden', wi…"
      ]
     },
     "metadata": {},
     "output_type": "display_data"
    },
    {
     "data": {
      "application/vnd.jupyter.widget-view+json": {
       "model_id": "eb23215b42614181b86fe1a45c95dd1a",
       "version_major": 2,
       "version_minor": 0
      },
      "text/plain": [
       "Button(description='The position of the parameters in the future', layout=Layout(height='auto', overflow='hidd…"
      ]
     },
     "metadata": {},
     "output_type": "display_data"
    },
    {
     "data": {
      "application/vnd.jupyter.widget-view+json": {
       "model_id": "c88bb39574f14a0ba9628003dcbb9335",
       "version_major": 2,
       "version_minor": 0
      },
      "text/plain": [
       "Button(description='The mean square of all previous gradients', layout=Layout(height='auto', overflow='hidden'…"
      ]
     },
     "metadata": {},
     "output_type": "display_data"
    },
    {
     "data": {
      "application/vnd.jupyter.widget-view+json": {
       "model_id": "187e741b27134d2b848eac986f052b28",
       "version_major": 2,
       "version_minor": 0
      },
      "text/plain": [
       "Button(description='The current learning rate', layout=Layout(height='auto', overflow='hidden', width='100%'),…"
      ]
     },
     "metadata": {},
     "output_type": "display_data"
    },
    {
     "name": "stdout",
     "output_type": "stream",
     "text": [
      "\n",
      "\n",
      "Correct!\n"
     ]
    }
   ],
   "source": [
    "import json\n",
    "import ipywidgets as widgets\n",
    "from IPython.display import display, clear_output\n",
    "\n",
    "# Загрузка данных теста из JSON файла\n",
    "with open('Nadam2.json', 'r') as f:\n",
    "    data = json.load(f)\n",
    "\n",
    "def create_test(questions):\n",
    "    for i, question in enumerate(questions):\n",
    "        print(f\"Question {i+1}. {question['question']}\\n\")\n",
    "\n",
    "        # Создание кнопок для вариантов ответов\n",
    "        for key, option in question['options'].items():\n",
    "            button = widgets.Button(\n",
    "                description=option,\n",
    "                layout=widgets.Layout(width='100%', height='auto', overflow='hidden')\n",
    "            )\n",
    "            button.style.button_color = 'lightgray'\n",
    "            button.on_click(lambda b, ans=key, q=question: on_button_click(b, ans, q['answer']))\n",
    "            display(button)\n",
    "\n",
    "        print(\"\\n\")\n",
    "\n",
    "def on_button_click(button, chosen_answer, correct_answer):\n",
    "    if chosen_answer == correct_answer:\n",
    "        button.style.button_color = 'lightgreen'\n",
    "        print(\"Correct!\")\n",
    "    else:\n",
    "        button.style.button_color = 'red'\n",
    "        print(\"Incorrect!\")\n",
    "\n",
    "# Вызов функции для создания теста\n",
    "create_test(data['questions'])\n"
   ]
  },
  {
   "cell_type": "code",
   "execution_count": null,
   "metadata": {
    "colab": {
     "base_uri": "https://localhost:8080/",
     "height": 252,
     "referenced_widgets": [
      "8545e8dbffb84cf4a931ce639d925d88",
      "c7efa4b2d71f4627a7558d5dc76e3072",
      "fa653ea7d14a4e379f5f06ca63263ea2",
      "a0cb220c767344868fe1e057df0e66c5",
      "cd1c8c9b171343119c10b39e6453020b",
      "4ca33583b255445bb3d2f5e4e59fc4bb",
      "53ba38875d434492a1c0921afd0e275f",
      "81051781d7fc4812a8779b683d55b09f",
      "1b8da59111294163b2269bab3d9086bd",
      "82cec8f198224302bb2b1061945aff5f",
      "2556a4a6de7f4f3cb0ce4a67d8e475fe",
      "167a9fea65dc434190883a08944f259c"
     ]
    },
    "id": "F_SNKpmfQL1U",
    "outputId": "47dd44f3-0796-46d7-9b7d-b8c5d026e0a5"
   },
   "outputs": [
    {
     "name": "stdout",
     "output_type": "stream",
     "text": [
      "Question 1. In which situations is Nadam often used?\n",
      "\n"
     ]
    },
    {
     "data": {
      "application/vnd.jupyter.widget-view+json": {
       "model_id": "8545e8dbffb84cf4a931ce639d925d88",
       "version_major": 2,
       "version_minor": 0
      },
      "text/plain": [
       "Button(description='When large amounts of data and complex deep neural network architectures are involved', la…"
      ]
     },
     "metadata": {},
     "output_type": "display_data"
    },
    {
     "data": {
      "application/vnd.jupyter.widget-view+json": {
       "model_id": "a0cb220c767344868fe1e057df0e66c5",
       "version_major": 2,
       "version_minor": 0
      },
      "text/plain": [
       "Button(description='When a simple neural network architecture is used', layout=Layout(height='auto', overflow=…"
      ]
     },
     "metadata": {},
     "output_type": "display_data"
    },
    {
     "data": {
      "application/vnd.jupyter.widget-view+json": {
       "model_id": "53ba38875d434492a1c0921afd0e275f",
       "version_major": 2,
       "version_minor": 0
      },
      "text/plain": [
       "Button(description='When minimal data processing is required', layout=Layout(height='auto', overflow='hidden',…"
      ]
     },
     "metadata": {},
     "output_type": "display_data"
    },
    {
     "data": {
      "application/vnd.jupyter.widget-view+json": {
       "model_id": "82cec8f198224302bb2b1061945aff5f",
       "version_major": 2,
       "version_minor": 0
      },
      "text/plain": [
       "Button(description='When the conventional momentum method is preferred', layout=Layout(height='auto', overflow…"
      ]
     },
     "metadata": {},
     "output_type": "display_data"
    },
    {
     "name": "stdout",
     "output_type": "stream",
     "text": [
      "\n",
      "\n",
      "Correct!\n"
     ]
    }
   ],
   "source": [
    "import json\n",
    "import ipywidgets as widgets\n",
    "from IPython.display import display, clear_output\n",
    "\n",
    "# Загрузка данных теста из JSON файла\n",
    "with open('Nadam3.json', 'r') as f:\n",
    "    data = json.load(f)\n",
    "\n",
    "def create_test(questions):\n",
    "    for i, question in enumerate(questions):\n",
    "        print(f\"Question {i+1}. {question['question']}\\n\")\n",
    "\n",
    "        # Создание кнопок для вариантов ответов\n",
    "        for key, option in question['options'].items():\n",
    "            button = widgets.Button(\n",
    "                description=option,\n",
    "                layout=widgets.Layout(width='100%', height='auto', overflow='hidden')\n",
    "            )\n",
    "            button.style.button_color = 'lightgray'\n",
    "            button.on_click(lambda b, ans=key, q=question: on_button_click(b, ans, q['answer']))\n",
    "            display(button)\n",
    "\n",
    "        print(\"\\n\")\n",
    "\n",
    "def on_button_click(button, chosen_answer, correct_answer):\n",
    "    if chosen_answer == correct_answer:\n",
    "        button.style.button_color = 'lightgreen'\n",
    "        print(\"Correct!\")\n",
    "    else:\n",
    "        button.style.button_color = 'red'\n",
    "        print(\"Incorrect!\")\n",
    "\n",
    "# Вызов функции для создания теста\n",
    "create_test(data['questions'])\n"
   ]
  },
  {
   "cell_type": "markdown",
   "metadata": {
    "id": "6eIk_eBPRyf3"
   },
   "source": [
    "## RMSprop Root Mean Square Propagation\n",
    "---\n",
    "\n",
    "\n",
    "Theory:\n",
    "Adagrad algorithm slows down learning for frequently occurring parameters. Root Mean Square Propagation intended to rectify this shortcoming.\n",
    "The goal of RMSprop is to normalize the learning rate by dividing the learning rate for weight by the average of the magnitudes of recent gradients for that weight. This adaptive learning rate helps prevent the learning rates from growing too large or becoming too small. An essential property of RMSprop is that you are not constrained solely by the sum of past gradients, but rather limited by the gradients of recent time steps.\n",
    "\n",
    "The main idea of RMSprop is to adaptively adjust the learning rate for each parameter. Here is the basic formula for RMSprop:\n",
    "\n",
    "1. Updated moving mean squares of gradients:\n",
    "\n",
    "$$v_t = \\beta \\cdot v_{t-1} + (1 - \\beta) \\cdot g_t^2$$\n",
    "\n",
    "Where $v_t$ is the moving mean squares of the gradients at step t, $\\beta$ is the forgetting coefficient (often close to 0.9), $g_t$ is the gradient at step t.\n",
    "\n",
    "2. Updating scales:\n",
    "\n",
    "$$\\theta_{t+1} = \\theta_t - \\frac{\\eta}{\\sqrt{v_t + \\epsilon}} \\cdot g_t$$\n",
    "\n",
    "Where $\\theta_{t+1}$ is the updated parameters, $\\theta_t$ is the current parameters, $\\eta$ is the learning rate, $\\epsilon$ is a small constant to prevent division by zero.\n",
    "\n",
    "## AdamW\n",
    "---\n",
    "\n",
    "\n",
    "Theory:\n",
    "AdamW is a modification of the regular Adam optimization algorithm. It was designed to address some of the shortcomings of the original Adam, in particular regarding the handling of weight regularization. The main difference between AdamW and Adam is how it uses weight regularization, also known as weight loss. Although Adam adds weight regularization directly to gradients, AdamW uses regularization separately from the gradient updating process. This separation improves the generalization ability of the model and allows for more efficient control of weight scaling. This is especially important for tasks where overfitting is a big problem. AdamW applies weight regularization directly to model parameters rather than to gradients. This helps avoid excessive weight reduction caused by over-regularization. AdamW uses estimates of the first and second moments of gradients to adaptively scale the learning rate, just like the original Adam, but it handles the regularization more efficiently. This makes AdamW ideal for tasks where large amounts of data need to be taken into account to avoid model overtraining. Consequently, AdamW offers a more balanced approach to optimization, addressing some of Adam's weaknesses and providing improved stability and performance on a variety of deep learning tasks. However, AdamW, like any other optimization algorithm, may require careful tuning of hyperparameters depending on the problem.\n",
    "\n",
    "AdamW is a modification of the Adam optimization algorithm that includes weight regularization (weight decay). The main difference between AdamW and Adam is how it handles weight regularization. Here are the basic formulas for AdamW:\n",
    "\n",
    "1. Updating moments (same as Adam):\n",
    "- First moment (average of gradients):\n",
    "\n",
    "$$m_t = \\beta_1 \\cdot m_{t-1} + (1 - \\beta_1) \\cdot g_t$$\n",
    "\n",
    "- Second moment (mean square of gradients):\n",
    "\n",
    "$$v_t = \\beta_2 \\cdot v_{t-1} + (1 - \\beta_2) \\cdot g_t^2$$\n",
    "\n",
    "2. Offset correction:\n",
    "- For the first and second moments:\n",
    "\n",
    "$$\\hat{m}_t = \\frac{m_t}{1 - \\beta_1^t}\n",
    "\\\\\n",
    "\\hat{v}_t = \\frac{v_t}{1 - \\beta_2^t}$$\n",
    "\n",
    "3. Updating weights taking into account regularization:\n",
    "\n",
    "$$\\theta_{t+1} = \\theta_t - \\frac{\\eta}{\\sqrt{\\hat{v}_t} + \\epsilon} \\cdot \\hat{m}_t - \\eta \\cdot \\lambda \\cdot \\theta_t$$\n",
    "\n",
    "Where $\\theta_{t+1}$ are the updated model parameters, $\\eta$ is the learning rate, $\\lambda$ is the weight decay coefficient, $\\epsilon$ is a small constant for stability."
   ]
  },
  {
   "cell_type": "code",
   "execution_count": null,
   "metadata": {
    "colab": {
     "base_uri": "https://localhost:8080/",
     "height": 507
    },
    "id": "VKgRKAqhvP1s",
    "outputId": "8fab4aff-c1b8-4e48-b7fb-318240a4acfb"
   },
   "outputs": [
    {
     "name": "stdout",
     "output_type": "stream",
     "text": [
      "Optimizer: RMSprop, Loss: 0.0816, Accuracy: 0.9758\n",
      "Optimizer: Adagrad, Loss: 0.3881, Accuracy: 0.8993\n"
     ]
    },
    {
     "data": {
      "image/png": "[encoded data removed]",
      "text/plain": [
       "<Figure size 640x480 with 2 Axes>"
      ]
     },
     "metadata": {},
     "output_type": "display_data"
    }
   ],
   "source": [
    "for opt in [tf.keras.optimizers.RMSprop(), tf.keras.optimizers.Adagrad()]:\n",
    "    loss, accuracy = train_evaluate(opt)\n",
    "    results[opt.__class__.__name__] = (loss, accuracy)\n",
    "    print(f'Optimizer: {opt.__class__.__name__}, Loss: {loss:.4f}, Accuracy: {accuracy:.4f}')\n",
    "\n",
    "plot_results(results)"
   ]
  },
  {
   "cell_type": "code",
   "execution_count": null,
   "metadata": {
    "colab": {
     "base_uri": "https://localhost:8080/",
     "height": 252,
     "referenced_widgets": [
      "0da78d2a7754406ea1646085d7367d7f",
      "441766a391314824bdc5d337959b5f37",
      "1a48bb1feb014fc0ac0ea41f5ba15177",
      "774b36d7245a4f839f252e193fec925c",
      "7cf3efbd0c67456d911c87aca5e3bc4d",
      "1dc31671540c468980b71fe6cbfa10e0",
      "324b4873041c4dba88c4818e54b6faaa",
      "1863f5d4b8cf44a08e27a78e74e02004",
      "9f10878c5b444fd8903dc906f70cf9d7",
      "758d21ca46934381a608c472b9ce135e",
      "5efff0cc389f433faa75274aa2e47343",
      "e1fdd47ac6a74401bb9f627094832a71"
     ]
    },
    "id": "H7dTHGTdSlYU",
    "outputId": "2df7239b-6e9a-4b66-bd3e-8e5079f0e7e7"
   },
   "outputs": [
    {
     "name": "stdout",
     "output_type": "stream",
     "text": [
      "Question 1. How does RMSprop adjust the learning rate for each weight parameter?\n",
      "\n"
     ]
    },
    {
     "data": {
      "application/vnd.jupyter.widget-view+json": {
       "model_id": "0da78d2a7754406ea1646085d7367d7f",
       "version_major": 2,
       "version_minor": 0
      },
      "text/plain": [
       "Button(description='By dividing the learning rate by the sum of past gradients for that weight', layout=Layout…"
      ]
     },
     "metadata": {},
     "output_type": "display_data"
    },
    {
     "data": {
      "application/vnd.jupyter.widget-view+json": {
       "model_id": "774b36d7245a4f839f252e193fec925c",
       "version_major": 2,
       "version_minor": 0
      },
      "text/plain": [
       "Button(description='By multiplying the learning rate by the average of recent gradients for that weight', layo…"
      ]
     },
     "metadata": {},
     "output_type": "display_data"
    },
    {
     "data": {
      "application/vnd.jupyter.widget-view+json": {
       "model_id": "324b4873041c4dba88c4818e54b6faaa",
       "version_major": 2,
       "version_minor": 0
      },
      "text/plain": [
       "Button(description='By dividing the learning rate by the average of recent gradients for that weight', layout=…"
      ]
     },
     "metadata": {},
     "output_type": "display_data"
    },
    {
     "data": {
      "application/vnd.jupyter.widget-view+json": {
       "model_id": "758d21ca46934381a608c472b9ce135e",
       "version_major": 2,
       "version_minor": 0
      },
      "text/plain": [
       "Button(description='By adding the learning rate to the average of recent gradients for that weight', layout=La…"
      ]
     },
     "metadata": {},
     "output_type": "display_data"
    },
    {
     "name": "stdout",
     "output_type": "stream",
     "text": [
      "\n",
      "\n",
      "Correct!\n"
     ]
    }
   ],
   "source": [
    "import json\n",
    "import ipywidgets as widgets\n",
    "from IPython.display import display, clear_output\n",
    "\n",
    "# Загрузка данных теста из JSON файла\n",
    "with open('RMSprop1.json', 'r') as f:\n",
    "    data = json.load(f)\n",
    "\n",
    "def create_test(questions):\n",
    "    for i, question in enumerate(questions):\n",
    "        print(f\"Question {i+1}. {question['question']}\\n\")\n",
    "\n",
    "        # Создание кнопок для вариантов ответов\n",
    "        for key, option in question['options'].items():\n",
    "            button = widgets.Button(\n",
    "                description=option,\n",
    "                layout=widgets.Layout(width='100%', height='auto', overflow='hidden')\n",
    "            )\n",
    "            button.style.button_color = 'lightgray'\n",
    "            button.on_click(lambda b, ans=key, q=question: on_button_click(b, ans, q['answer']))\n",
    "            display(button)\n",
    "\n",
    "        print(\"\\n\")\n",
    "\n",
    "def on_button_click(button, chosen_answer, correct_answer):\n",
    "    if chosen_answer == correct_answer:\n",
    "        button.style.button_color = 'lightgreen'\n",
    "        print(\"Correct!\")\n",
    "    else:\n",
    "        button.style.button_color = 'red'\n",
    "        print(\"Incorrect!\")\n",
    "\n",
    "# Вызов функции для создания теста\n",
    "create_test(data['questions'])\n"
   ]
  },
  {
   "cell_type": "code",
   "execution_count": null,
   "metadata": {
    "colab": {
     "base_uri": "https://localhost:8080/",
     "height": 252,
     "referenced_widgets": [
      "954690ef8e9044bb85be8a50e619c9d3",
      "8dc4a35476e04e13a0abe9620391b491",
      "2f287cd211f3440db5de8575846d4457",
      "ab1496e4a29c40048b6f3b4798018006",
      "6a62a20807414726b341db8b4e5686e7",
      "87a0fcef6df048a7b4af09ab93abe5b5",
      "27618520d79e4bcbb34ecadfc80107e2",
      "e1fcd075347e47308079162e8bf24c06",
      "dd525376fde445cdae1cf13b6d5372ac",
      "1332de192cb049259f0472591690a8ab",
      "d72f8ee8b0cc4a5a8167255795c5853a",
      "0181cd8ed31a40228af12e1721bd1750"
     ]
    },
    "id": "PsYzwSISSlUc",
    "outputId": "08ebefc0-88c6-4e67-9d03-a35c8c0777fa"
   },
   "outputs": [
    {
     "name": "stdout",
     "output_type": "stream",
     "text": [
      "Question 1. Which algorithm does RMSprop intend to improve upon by addressing the issue of slowed down learning for frequently occurring parameters?\n",
      "\n"
     ]
    },
    {
     "data": {
      "application/vnd.jupyter.widget-view+json": {
       "model_id": "954690ef8e9044bb85be8a50e619c9d3",
       "version_major": 2,
       "version_minor": 0
      },
      "text/plain": [
       "Button(description='Gradient Descent', layout=Layout(height='auto', overflow='hidden', width='100%'), style=Bu…"
      ]
     },
     "metadata": {},
     "output_type": "display_data"
    },
    {
     "data": {
      "application/vnd.jupyter.widget-view+json": {
       "model_id": "ab1496e4a29c40048b6f3b4798018006",
       "version_major": 2,
       "version_minor": 0
      },
      "text/plain": [
       "Button(description='Adadelta', layout=Layout(height='auto', overflow='hidden', width='100%'), style=ButtonStyl…"
      ]
     },
     "metadata": {},
     "output_type": "display_data"
    },
    {
     "data": {
      "application/vnd.jupyter.widget-view+json": {
       "model_id": "27618520d79e4bcbb34ecadfc80107e2",
       "version_major": 2,
       "version_minor": 0
      },
      "text/plain": [
       "Button(description='Adagrad', layout=Layout(height='auto', overflow='hidden', width='100%'), style=ButtonStyle…"
      ]
     },
     "metadata": {},
     "output_type": "display_data"
    },
    {
     "data": {
      "application/vnd.jupyter.widget-view+json": {
       "model_id": "1332de192cb049259f0472591690a8ab",
       "version_major": 2,
       "version_minor": 0
      },
      "text/plain": [
       "Button(description='Momentum', layout=Layout(height='auto', overflow='hidden', width='100%'), style=ButtonStyl…"
      ]
     },
     "metadata": {},
     "output_type": "display_data"
    },
    {
     "name": "stdout",
     "output_type": "stream",
     "text": [
      "\n",
      "\n",
      "Correct!\n"
     ]
    }
   ],
   "source": [
    "import json\n",
    "import ipywidgets as widgets\n",
    "from IPython.display import display, clear_output\n",
    "\n",
    "# Загрузка данных теста из JSON файла\n",
    "with open('RMSprop2.json', 'r') as f:\n",
    "    data = json.load(f)\n",
    "\n",
    "def create_test(questions):\n",
    "    for i, question in enumerate(questions):\n",
    "        print(f\"Question {i+1}. {question['question']}\\n\")\n",
    "\n",
    "        # Создание кнопок для вариантов ответов\n",
    "        for key, option in question['options'].items():\n",
    "            button = widgets.Button(\n",
    "                description=option,\n",
    "                layout=widgets.Layout(width='100%', height='auto', overflow='hidden')\n",
    "            )\n",
    "            button.style.button_color = 'lightgray'\n",
    "            button.on_click(lambda b, ans=key, q=question: on_button_click(b, ans, q['answer']))\n",
    "            display(button)\n",
    "\n",
    "        print(\"\\n\")\n",
    "\n",
    "def on_button_click(button, chosen_answer, correct_answer):\n",
    "    if chosen_answer == correct_answer:\n",
    "        button.style.button_color = 'lightgreen'\n",
    "        print(\"Correct!\")\n",
    "    else:\n",
    "        button.style.button_color = 'red'\n",
    "        print(\"Incorrect!\")\n",
    "\n",
    "# Вызов функции для создания теста\n",
    "create_test(data['questions'])\n"
   ]
  },
  {
   "cell_type": "code",
   "execution_count": null,
   "metadata": {
    "colab": {
     "base_uri": "https://localhost:8080/",
     "height": 252,
     "referenced_widgets": [
      "7d36834f2c0e4960b6f668e39c043554",
      "b03de5ddca1b42ff8ab347e5a6165951",
      "329330f4984048fb95deee65ba4f2f41",
      "12957ec830424f0298953cafca4f020a",
      "aa7b66a8a33746dfb3f99be680c15ed0",
      "5b9d7905a8cb478391049fade1abd992",
      "ad197f79b3ab43bcb93677a1120c0547",
      "8dc52a5e05c74932aa6f99b79468fd16",
      "23116ee6f70347dc986e5b309fbb4807",
      "0ac3939d2926413bb90dd62212fbf0d9",
      "334b49576f0245179d162aa9feaa5ef6",
      "c48ff374e5ab417b82b6efddc2ede3e5"
     ]
    },
    "id": "9pwz3QuISlE_",
    "outputId": "1380859a-60fc-4892-81d8-3a05788602f3"
   },
   "outputs": [
    {
     "name": "stdout",
     "output_type": "stream",
     "text": [
      "Question 1. In RMSprop, which factor influences the limitation of learning rates for individual parameters?\n",
      "\n"
     ]
    },
    {
     "data": {
      "application/vnd.jupyter.widget-view+json": {
       "model_id": "7d36834f2c0e4960b6f668e39c043554",
       "version_major": 2,
       "version_minor": 0
      },
      "text/plain": [
       "Button(description='Gradients of recent time steps', layout=Layout(height='auto', overflow='hidden', width='10…"
      ]
     },
     "metadata": {},
     "output_type": "display_data"
    },
    {
     "data": {
      "application/vnd.jupyter.widget-view+json": {
       "model_id": "12957ec830424f0298953cafca4f020a",
       "version_major": 2,
       "version_minor": 0
      },
      "text/plain": [
       "Button(description='Sum of past gradients', layout=Layout(height='auto', overflow='hidden', width='100%'), sty…"
      ]
     },
     "metadata": {},
     "output_type": "display_data"
    },
    {
     "data": {
      "application/vnd.jupyter.widget-view+json": {
       "model_id": "ad197f79b3ab43bcb93677a1120c0547",
       "version_major": 2,
       "version_minor": 0
      },
      "text/plain": [
       "Button(description='Number of epochs', layout=Layout(height='auto', overflow='hidden', width='100%'), style=Bu…"
      ]
     },
     "metadata": {},
     "output_type": "display_data"
    },
    {
     "data": {
      "application/vnd.jupyter.widget-view+json": {
       "model_id": "0ac3939d2926413bb90dd62212fbf0d9",
       "version_major": 2,
       "version_minor": 0
      },
      "text/plain": [
       "Button(description='Magnitude of weight updates', layout=Layout(height='auto', overflow='hidden', width='100%'…"
      ]
     },
     "metadata": {},
     "output_type": "display_data"
    },
    {
     "name": "stdout",
     "output_type": "stream",
     "text": [
      "\n",
      "\n",
      "Correct!\n"
     ]
    }
   ],
   "source": [
    "import json\n",
    "import ipywidgets as widgets\n",
    "from IPython.display import display, clear_output\n",
    "\n",
    "# Загрузка данных теста из JSON файла\n",
    "with open('RMSprop3.json', 'r') as f:\n",
    "    data = json.load(f)\n",
    "\n",
    "def create_test(questions):\n",
    "    for i, question in enumerate(questions):\n",
    "        print(f\"Question {i+1}. {question['question']}\\n\")\n",
    "\n",
    "        # Создание кнопок для вариантов ответов\n",
    "        for key, option in question['options'].items():\n",
    "            button = widgets.Button(\n",
    "                description=option,\n",
    "                layout=widgets.Layout(width='100%', height='auto', overflow='hidden')\n",
    "            )\n",
    "            button.style.button_color = 'lightgray'\n",
    "            button.on_click(lambda b, ans=key, q=question: on_button_click(b, ans, q['answer']))\n",
    "            display(button)\n",
    "\n",
    "        print(\"\\n\")\n",
    "\n",
    "def on_button_click(button, chosen_answer, correct_answer):\n",
    "    if chosen_answer == correct_answer:\n",
    "        button.style.button_color = 'lightgreen'\n",
    "        print(\"Correct!\")\n",
    "    else:\n",
    "        button.style.button_color = 'red'\n",
    "        print(\"Incorrect!\")\n",
    "\n",
    "# Вызов функции для создания теста\n",
    "create_test(data['questions'])\n"
   ]
  },
  {
   "cell_type": "code",
   "execution_count": null,
   "metadata": {
    "colab": {
     "base_uri": "https://localhost:8080/",
     "height": 252,
     "referenced_widgets": [
      "af2ad906b6f64a269479119374a0ec92",
      "cf97ce85e25a400780c26a4c18b22fbd",
      "5e709438a18c4c49bc9fbfa8f9170046",
      "b6df5e22061f4fc895db4bee07a7834b",
      "7e0c8fec85f04891a5b286f20460856a",
      "eec8564f5a2743a4bf77dcd2f37c93aa",
      "6a9efac6cec14d4688a2dbe66f1d53bd",
      "ad585385965346bd8071d85456aa6177",
      "541eae43b346438eba040ee57cb89de9",
      "807d0d6f366241a2bcfd06679459a13a",
      "10d8b127c67448889d0c3b381d06e768",
      "c6dae455f03045bd920cfde7d29877ae"
     ]
    },
    "id": "kLX6tLJvSlBq",
    "outputId": "67899f1a-34b2-4c83-8b14-afaf60cbd09d"
   },
   "outputs": [
    {
     "name": "stdout",
     "output_type": "stream",
     "text": [
      "Question 1. What is the main difference between AdamW and the regular Adam algorithm?\n",
      "\n"
     ]
    },
    {
     "data": {
      "application/vnd.jupyter.widget-view+json": {
       "model_id": "af2ad906b6f64a269479119374a0ec92",
       "version_major": 2,
       "version_minor": 0
      },
      "text/plain": [
       "Button(description='AdamW applies weight regularization separately from the gradient updating process', layout…"
      ]
     },
     "metadata": {},
     "output_type": "display_data"
    },
    {
     "data": {
      "application/vnd.jupyter.widget-view+json": {
       "model_id": "b6df5e22061f4fc895db4bee07a7834b",
       "version_major": 2,
       "version_minor": 0
      },
      "text/plain": [
       "Button(description='AdamW uses a different method for estimating the first and second moments of gradients', l…"
      ]
     },
     "metadata": {},
     "output_type": "display_data"
    },
    {
     "data": {
      "application/vnd.jupyter.widget-view+json": {
       "model_id": "6a9efac6cec14d4688a2dbe66f1d53bd",
       "version_major": 2,
       "version_minor": 0
      },
      "text/plain": [
       "Button(description='AdamW has a different way of handling learning rate', layout=Layout(height='auto', overflo…"
      ]
     },
     "metadata": {},
     "output_type": "display_data"
    },
    {
     "data": {
      "application/vnd.jupyter.widget-view+json": {
       "model_id": "807d0d6f366241a2bcfd06679459a13a",
       "version_major": 2,
       "version_minor": 0
      },
      "text/plain": [
       "Button(description='AdamW uses a completely different approach to optimize model parameters', layout=Layout(he…"
      ]
     },
     "metadata": {},
     "output_type": "display_data"
    },
    {
     "name": "stdout",
     "output_type": "stream",
     "text": [
      "\n",
      "\n",
      "Correct!\n"
     ]
    }
   ],
   "source": [
    "import json\n",
    "import ipywidgets as widgets\n",
    "from IPython.display import display, clear_output\n",
    "\n",
    "# Загрузка данных теста из JSON файла\n",
    "with open('AdamW1.json', 'r') as f:\n",
    "    data = json.load(f)\n",
    "\n",
    "def create_test(questions):\n",
    "    for i, question in enumerate(questions):\n",
    "        print(f\"Question {i+1}. {question['question']}\\n\")\n",
    "\n",
    "        # Создание кнопок для вариантов ответов\n",
    "        for key, option in question['options'].items():\n",
    "            button = widgets.Button(\n",
    "                description=option,\n",
    "                layout=widgets.Layout(width='100%', height='auto', overflow='hidden')\n",
    "            )\n",
    "            button.style.button_color = 'lightgray'\n",
    "            button.on_click(lambda b, ans=key, q=question: on_button_click(b, ans, q['answer']))\n",
    "            display(button)\n",
    "\n",
    "        print(\"\\n\")\n",
    "\n",
    "def on_button_click(button, chosen_answer, correct_answer):\n",
    "    if chosen_answer == correct_answer:\n",
    "        button.style.button_color = 'lightgreen'\n",
    "        print(\"Correct!\")\n",
    "    else:\n",
    "        button.style.button_color = 'red'\n",
    "        print(\"Incorrect!\")\n",
    "\n",
    "# Вызов функции для создания теста\n",
    "create_test(data['questions'])\n"
   ]
  },
  {
   "cell_type": "code",
   "execution_count": null,
   "metadata": {
    "colab": {
     "base_uri": "https://localhost:8080/",
     "height": 252,
     "referenced_widgets": [
      "dae21b36a5a64481a1b931bb768b3763",
      "8e5c84dcabd642aa87d7085dd5c22c62",
      "4c201e01cc7a47f08d8c93d4dcf00d9f",
      "876e45d9bf4f41eab84d6bf616b374cb",
      "08cd208fd64f4e9f8720dddc8c03dd15",
      "9d8477d464e64e4f8f9c65677f27c71d",
      "87e9c8257bd74abfbc903261c8f1b168",
      "cd709f66a8f140198e0fa86042d743c7",
      "7a2f115e227f4a30b406d16753491ec1",
      "d6f53e11f84045178c67b4e801a21697",
      "e0c9cf09f21c48ad89d8c98786024fbe",
      "c0565910f77b409286e2e4bd732a8b1e"
     ]
    },
    "id": "ZcjzIf9jSk-F",
    "outputId": "fb82a5e4-e6d0-44a1-fd8e-f67cd07dccc6"
   },
   "outputs": [
    {
     "name": "stdout",
     "output_type": "stream",
     "text": [
      "Question 1. Why is AdamW particularly important for tasks prone to overfitting?\n",
      "\n"
     ]
    },
    {
     "data": {
      "application/vnd.jupyter.widget-view+json": {
       "model_id": "dae21b36a5a64481a1b931bb768b3763",
       "version_major": 2,
       "version_minor": 0
      },
      "text/plain": [
       "Button(description='It reduces the learning rate more efficiently', layout=Layout(height='auto', overflow='hid…"
      ]
     },
     "metadata": {},
     "output_type": "display_data"
    },
    {
     "data": {
      "application/vnd.jupyter.widget-view+json": {
       "model_id": "876e45d9bf4f41eab84d6bf616b374cb",
       "version_major": 2,
       "version_minor": 0
      },
      "text/plain": [
       "Button(description='It applies weight regularization directly to model parameters rather than to gradients', l…"
      ]
     },
     "metadata": {},
     "output_type": "display_data"
    },
    {
     "data": {
      "application/vnd.jupyter.widget-view+json": {
       "model_id": "87e9c8257bd74abfbc903261c8f1b168",
       "version_major": 2,
       "version_minor": 0
      },
      "text/plain": [
       "Button(description='It changes the way gradients are calculated', layout=Layout(height='auto', overflow='hidde…"
      ]
     },
     "metadata": {},
     "output_type": "display_data"
    },
    {
     "data": {
      "application/vnd.jupyter.widget-view+json": {
       "model_id": "d6f53e11f84045178c67b4e801a21697",
       "version_major": 2,
       "version_minor": 0
      },
      "text/plain": [
       "Button(description='It uses a different first and second moment estimation technique', layout=Layout(height='a…"
      ]
     },
     "metadata": {},
     "output_type": "display_data"
    },
    {
     "name": "stdout",
     "output_type": "stream",
     "text": [
      "\n",
      "\n",
      "Correct!\n"
     ]
    }
   ],
   "source": [
    "import json\n",
    "import ipywidgets as widgets\n",
    "from IPython.display import display, clear_output\n",
    "\n",
    "# Загрузка данных теста из JSON файла\n",
    "with open('AdamW2.json', 'r') as f:\n",
    "    data = json.load(f)\n",
    "\n",
    "def create_test(questions):\n",
    "    for i, question in enumerate(questions):\n",
    "        print(f\"Question {i+1}. {question['question']}\\n\")\n",
    "\n",
    "        # Создание кнопок для вариантов ответов\n",
    "        for key, option in question['options'].items():\n",
    "            button = widgets.Button(\n",
    "                description=option,\n",
    "                layout=widgets.Layout(width='100%', height='auto', overflow='hidden')\n",
    "            )\n",
    "            button.style.button_color = 'lightgray'\n",
    "            button.on_click(lambda b, ans=key, q=question: on_button_click(b, ans, q['answer']))\n",
    "            display(button)\n",
    "\n",
    "        print(\"\\n\")\n",
    "\n",
    "def on_button_click(button, chosen_answer, correct_answer):\n",
    "    if chosen_answer == correct_answer:\n",
    "        button.style.button_color = 'lightgreen'\n",
    "        print(\"Correct!\")\n",
    "    else:\n",
    "        button.style.button_color = 'red'\n",
    "        print(\"Incorrect!\")\n",
    "\n",
    "# Вызов функции для создания теста\n",
    "create_test(data['questions'])\n"
   ]
  },
  {
   "cell_type": "code",
   "execution_count": null,
   "metadata": {
    "colab": {
     "base_uri": "https://localhost:8080/",
     "height": 252,
     "referenced_widgets": [
      "1bb0ec1a10744bbabe027c0ce90f3ae0",
      "a018c84082374f4f9d5857d8cc1054f6",
      "65a50853eb364e4d906c0a96ae560adf",
      "f18dd4aad0d644459ab871db6303d228",
      "4e89191401ce4e999721f042e96918a7",
      "b8db3477c12c4e159fe78dbfce33bbbb",
      "1a090e8baf3449f0b2baf4056e5850bd",
      "dab4f6a1b80f4b99861b78fe13ed22f9",
      "5333c7a513ab4418930f33e69f727a6f",
      "d90f4cca10ca4271ae10d2dfbad8d79a",
      "cbd30eb8ab2e4cdc96908f9bab343450",
      "c067959458d14cc6bf2c4f9b84533f15"
     ]
    },
    "id": "AWJTMPM1Sk6d",
    "outputId": "bc5b68e4-4e1d-44f4-d730-7e5b82695642"
   },
   "outputs": [
    {
     "name": "stdout",
     "output_type": "stream",
     "text": [
      "Question 1. What does AdamW improve compared to the original Adam?\n",
      "\n"
     ]
    },
    {
     "data": {
      "application/vnd.jupyter.widget-view+json": {
       "model_id": "1bb0ec1a10744bbabe027c0ce90f3ae0",
       "version_major": 2,
       "version_minor": 0
      },
      "text/plain": [
       "Button(description='The process of calculating gradients', layout=Layout(height='auto', overflow='hidden', wid…"
      ]
     },
     "metadata": {},
     "output_type": "display_data"
    },
    {
     "data": {
      "application/vnd.jupyter.widget-view+json": {
       "model_id": "f18dd4aad0d644459ab871db6303d228",
       "version_major": 2,
       "version_minor": 0
      },
      "text/plain": [
       "Button(description='The efficiency of the first and second moment estimates', layout=Layout(height='auto', ove…"
      ]
     },
     "metadata": {},
     "output_type": "display_data"
    },
    {
     "data": {
      "application/vnd.jupyter.widget-view+json": {
       "model_id": "1a090e8baf3449f0b2baf4056e5850bd",
       "version_major": 2,
       "version_minor": 0
      },
      "text/plain": [
       "Button(description='The method of applying the learning rate', layout=Layout(height='auto', overflow='hidden',…"
      ]
     },
     "metadata": {},
     "output_type": "display_data"
    },
    {
     "data": {
      "application/vnd.jupyter.widget-view+json": {
       "model_id": "d90f4cca10ca4271ae10d2dfbad8d79a",
       "version_major": 2,
       "version_minor": 0
      },
      "text/plain": [
       "Button(description='Generalization ability of the model and control of weight scaling', layout=Layout(height='…"
      ]
     },
     "metadata": {},
     "output_type": "display_data"
    },
    {
     "name": "stdout",
     "output_type": "stream",
     "text": [
      "\n",
      "\n",
      "Correct!\n"
     ]
    }
   ],
   "source": [
    "import json\n",
    "import ipywidgets as widgets\n",
    "from IPython.display import display, clear_output\n",
    "\n",
    "# Загрузка данных теста из JSON файла\n",
    "with open('AdamW3.json', 'r') as f:\n",
    "    data = json.load(f)\n",
    "\n",
    "def create_test(questions):\n",
    "    for i, question in enumerate(questions):\n",
    "        print(f\"Question {i+1}. {question['question']}\\n\")\n",
    "\n",
    "        # Создание кнопок для вариантов ответов\n",
    "        for key, option in question['options'].items():\n",
    "            button = widgets.Button(\n",
    "                description=option,\n",
    "                layout=widgets.Layout(width='100%', height='auto', overflow='hidden')\n",
    "            )\n",
    "            button.style.button_color = 'lightgray'\n",
    "            button.on_click(lambda b, ans=key, q=question: on_button_click(b, ans, q['answer']))\n",
    "            display(button)\n",
    "\n",
    "        print(\"\\n\")\n",
    "\n",
    "def on_button_click(button, chosen_answer, correct_answer):\n",
    "    if chosen_answer == correct_answer:\n",
    "        button.style.button_color = 'lightgreen'\n",
    "        print(\"Correct!\")\n",
    "    else:\n",
    "        button.style.button_color = 'red'\n",
    "        print(\"Incorrect!\")\n",
    "\n",
    "# Вызов функции для создания теста\n",
    "create_test(data['questions'])\n"
   ]
  },
  {
   "cell_type": "markdown",
   "metadata": {
    "id": "OhYGbo1v1LOC"
   },
   "source": [
    "## Basic Optimizers on the MNIST Dataset\n",
    "---\n",
    "\n",
    "This section presents visualizations demonstrating the effectiveness of four key optimization algorithms: SGD (Stochastic Gradient Descent), RMSprop, Adam and Nesterov Accelerated Gradient. These optimizers were applied to train a simple neural network on the well-known MNIST dataset, which consists of handwritten digits from 0 to 9. MNIST is a standard dataset in the field of machine learning and deep learning, often used for benchmarking classification algorithms. The graphs presented below display the dynamics of changes in the loss function during the learning process for each of the optimizers."
   ]
  },
  {
   "cell_type": "code",
   "execution_count": null,
   "metadata": {
    "id": "pkx2OIacl61s"
   },
   "outputs": [],
   "source": [
    "import matplotlib.pyplot as plt\n",
    "import numpy as np\n",
    "import tensorflow as tf\n",
    "from tensorflow.keras.datasets import mnist\n",
    "from tensorflow.keras.models import Sequential\n",
    "from tensorflow.keras.layers import Dense, Flatten\n",
    "from tensorflow.keras.optimizers import SGD, RMSprop, Adam\n",
    "\n",
    "# Загрузка и предобработка данных MNIST\n",
    "(x_train, y_train), (x_test, y_test) = mnist.load_data()\n",
    "x_train, x_test = x_train / 255.0, x_test / 255.0\n",
    "\n",
    "# Функция для создания модели\n",
    "def create_model():\n",
    "    model = Sequential([\n",
    "        Flatten(input_shape=(28, 28)),\n",
    "        Dense(128, activation='relu'),\n",
    "        Dense(10, activation='softmax')\n",
    "    ])\n",
    "    return model\n",
    "\n",
    "# Функция для обучения модели\n",
    "def train_model(optimizer):\n",
    "    model = create_model()\n",
    "    model.compile(optimizer=optimizer, loss='sparse_categorical_crossentropy', metrics=['accuracy'])\n",
    "    history = model.fit(x_train, y_train, epochs=5, validation_data=(x_test, y_test), verbose=0)\n",
    "    return history\n",
    "\n",
    "def plot_and_save_history(history, optimizer_name, file_name):\n",
    "    plt.figure(figsize=(10, 4))\n",
    "    plt.plot(history.history['loss'], label='Training Loss')\n",
    "    plt.plot(history.history['val_loss'], label='Validation Loss')\n",
    "    plt.title(f'Loss over Epochs ({optimizer_name})')\n",
    "    plt.xlabel('Epochs')\n",
    "    plt.ylabel('Loss')\n",
    "    plt.legend()\n",
    "    plt.savefig(file_name)\n",
    "    plt.close()\n",
    "\n",
    "# Обучение модели с различными оптимизаторами и сохранение графиков\n",
    "for opt_name, opt in [(\"SGD\", SGD()), (\"RMSprop\", RMSprop()), (\"Adam\", Adam()), (\"Nesterov\", SGD(momentum=0.9, nesterov=True))]:\n",
    "    history = train_model(opt)\n",
    "    plot_and_save_history(history, opt_name, f\"optimizer_{opt_name.lower()}.png\")"
   ]
  },
  {
   "cell_type": "code",
   "execution_count": null,
   "metadata": {
    "colab": {
     "base_uri": "https://localhost:8080/",
     "height": 449,
     "referenced_widgets": [
      "faf1fc1e14c84ee4b369699139ac5055",
      "d947ba86bf664ed7b8cd45454c97f624",
      "c110cabc638d42e28a9db9cd50f41ad4",
      "65feff206d964eac8179b4c312ca8856",
      "877cb73c6c6b4c2aa9100dc227f2f5fa",
      "b173bcf0c4504fabbe3d20436568f1c4",
      "005aa12356bc449fac214c8498a169e0",
      "8fe5e185479f45a1b4a16f9617c9c4e0",
      "3daf067018fb48c69ebdd307e677a8eb",
      "3b63c6cfb28347518c48bfb9a18bb4ac",
      "0fdbd98f165a493cb8e79fc4f7eedfdf",
      "ce95f06990f74d5298368b92c6e97940",
      "551731e9a45f4844bc7acc422f6c0414",
      "8bc86d308234441a821fbd1a73fb3d92"
     ]
    },
    "id": "7UAq5ERqnXxJ",
    "outputId": "1ada4566-5e63-4ffd-fab5-e41a0b4a2b14"
   },
   "outputs": [
    {
     "data": {
      "application/vnd.jupyter.widget-view+json": {
       "model_id": "faf1fc1e14c84ee4b369699139ac5055",
       "version_major": 2,
       "version_minor": 0
      },
      "text/plain": [
       "HBox(children=(Button(description='SGD', style=ButtonStyle()), Button(description='RMSprop', style=ButtonStyle…"
      ]
     },
     "metadata": {},
     "output_type": "display_data"
    },
    {
     "data": {
      "image/png": "[encoded data removed]",
      "text/plain": [
       "<IPython.core.display.Image object>"
      ]
     },
     "metadata": {},
     "output_type": "display_data"
    }
   ],
   "source": [
    "import ipywidgets as widgets\n",
    "from IPython.display import display, clear_output, Image\n",
    "\n",
    "# Функция для отображения изображения графика\n",
    "def show_graph(optimizer_name):\n",
    "    file_path = f\"optimizer_{optimizer_name.lower()}.png\"  # Путь к файлу графика\n",
    "    display(Image(filename=file_path))\n",
    "\n",
    "# Функция обработки нажатия кнопки\n",
    "def on_button_clicked(b):\n",
    "    clear_output(wait=True)\n",
    "    display(buttons_box)\n",
    "    show_graph(b.description)\n",
    "\n",
    "# Создание кнопок для каждого оптимизатора\n",
    "button_sgd = widgets.Button(description=\"SGD\")\n",
    "button_rmsprop = widgets.Button(description=\"RMSprop\")\n",
    "button_adam = widgets.Button(description=\"Adam\")\n",
    "button_nesterov = widgets.Button(description=\"Nesterov\")\n",
    "\n",
    "# Добавление обработчика событий для кнопок\n",
    "button_sgd.on_click(on_button_clicked)\n",
    "button_rmsprop.on_click(on_button_clicked)\n",
    "button_adam.on_click(on_button_clicked)\n",
    "button_nesterov.on_click(on_button_clicked)\n",
    "\n",
    "# Отображение кнопок\n",
    "buttons_box = widgets.HBox([button_sgd, button_rmsprop, button_adam, button_nesterov])\n",
    "display(buttons_box)\n"
   ]
  },
  {
   "cell_type": "code",
   "execution_count": null,
   "metadata": {
    "colab": {
     "base_uri": "https://localhost:8080/",
     "height": 449,
     "referenced_widgets": [
      "ad991407fe804eaa99f36926b23d9d31",
      "1ab0ab30400a4a5eabfe9876ac8f81cf",
      "a738dedfb2c24ce49660e63c9d9bf800",
      "f915c6806c854e51b30d7d200f2dadb2",
      "56f2f03b4a494d61bf817d2182c1103b",
      "ee69712618b84eac8d20cacaa225a480",
      "8aee710282aa476dbba9a52bf0906b44",
      "dbc103242c50411a8c97b7dbae372358",
      "4ec3fe36f6bb47d0b84287082dfd28fe",
      "4aeeaba248be499480a27845f795003c",
      "e0e64d3924a4419ebc1a0ceeed018c9b",
      "edc674e090a94fe2af556e687ebb7784",
      "711f58f250c64fdfa5230293df9c331d",
      "22733d5bda384610b16fbb9ea31bd186"
     ]
    },
    "id": "kKTO-a9iQuQn",
    "outputId": "74939e8e-8286-45b6-bbe0-4716a6b8fa22"
   },
   "outputs": [
    {
     "data": {
      "application/vnd.jupyter.widget-view+json": {
       "model_id": "ad991407fe804eaa99f36926b23d9d31",
       "version_major": 2,
       "version_minor": 0
      },
      "text/plain": [
       "HBox(children=(Button(description='SGD', style=ButtonStyle()), Button(description='RMSprop', style=ButtonStyle…"
      ]
     },
     "metadata": {},
     "output_type": "display_data"
    },
    {
     "data": {
      "image/png": "[encoded data removed]",
      "text/plain": [
       "<IPython.core.display.Image object>"
      ]
     },
     "metadata": {},
     "output_type": "display_data"
    }
   ],
   "source": [
    "import ipywidgets as widgets\n",
    "from IPython.display import display, clear_output, Image\n",
    "\n",
    "# Функция для отображения изображения графика\n",
    "def show_graph(optimizer_name):\n",
    "    file_path = f\"optimizer_{optimizer_name}.png\"  # Путь к файлу графика\n",
    "    display(Image(filename=file_path))\n",
    "\n",
    "# Функция обработки нажатия кнопки\n",
    "def on_button_clicked(b):\n",
    "    clear_output(wait=True)\n",
    "    display(buttons_box)\n",
    "    show_graph(b.description.lower())\n",
    "\n",
    "# Создание кнопок для каждого оптимизатора\n",
    "button_sgd = widgets.Button(description=\"SGD\")\n",
    "button_rmsprop = widgets.Button(description=\"RMSprop\")\n",
    "button_adam = widgets.Button(description=\"Adam\")\n",
    "button_nesterov = widgets.Button(description=\"Nesterov\")\n",
    "\n",
    "# Добавление обработчика событий для кнопок\n",
    "button_sgd.on_click(on_button_clicked)\n",
    "button_rmsprop.on_click(on_button_clicked)\n",
    "button_adam.on_click(on_button_clicked)\n",
    "button_nesterov.on_click(on_button_clicked)\n",
    "\n",
    "# Отображение кнопок\n",
    "buttons_box = widgets.HBox([button_sgd, button_rmsprop, button_adam, button_nesterov])\n",
    "display(buttons_box)\n"
   ]
  }
 ],
 "metadata": {
  "colab": {
   "provenance": []
  },
  "kernelspec": {
   "display_name": "Python 3 (ipykernel)",
   "language": "python",
   "name": "python3"
  },
  "language_info": {
   "codemirror_mode": {
    "name": "ipython",
    "version": 3
   },
   "file_extension": ".py",
   "mimetype": "text/x-python",
   "name": "python",
   "nbconvert_exporter": "python",
   "pygments_lexer": "ipython3",
   "version": "3.11.5"
  },
  "widgets": {
   "application/vnd.jupyter.widget-state+json": {
    "005aa12356bc449fac214c8498a169e0": {
     "model_module": "@jupyter-widgets/base",
     "model_module_version": "1.2.0",
     "model_name": "LayoutModel",
     "state": {
      "_model_module": "@jupyter-widgets/base",
      "_model_module_version": "1.2.0",
      "_model_name": "LayoutModel",
      "_view_count": null,
      "_view_module": "@jupyter-widgets/base",
      "_view_module_version": "1.2.0",
      "_view_name": "LayoutView",
      "align_content": null,
      "align_items": null,
      "align_self": null,
      "border": null,
      "bottom": null,
      "display": null,
      "flex": null,
      "flex_flow": null,
      "grid_area": null,
      "grid_auto_columns": null,
      "grid_auto_flow": null,
      "grid_auto_rows": null,
      "grid_column": null,
      "grid_gap": null,
      "grid_row": null,
      "grid_template_areas": null,
      "grid_template_columns": null,
      "grid_template_rows": null,
      "height": null,
      "justify_content": null,
      "justify_items": null,
      "left": null,
      "margin": null,
      "max_height": null,
      "max_width": null,
      "min_height": null,
      "min_width": null,
      "object_fit": null,
      "object_position": null,
      "order": null,
      "overflow": null,
      "overflow_x": null,
      "overflow_y": null,
      "padding": null,
      "right": null,
      "top": null,
      "visibility": null,
      "width": null
     }
    },
    "006a00ce7a5a4312a4a27ee2efad49d8": {
     "model_module": "@jupyter-widgets/controls",
     "model_module_version": "1.5.0",
     "model_name": "ButtonModel",
     "state": {
      "_dom_classes": [],
      "_model_module": "@jupyter-widgets/controls",
      "_model_module_version": "1.5.0",
      "_model_name": "ButtonModel",
      "_view_count": null,
      "_view_module": "@jupyter-widgets/controls",
      "_view_module_version": "1.5.0",
      "_view_name": "ButtonView",
      "button_style": "",
      "description": "It increases the learning rate for frequently occurring features",
      "disabled": false,
      "icon": "",
      "layout": "IPY_MODEL_71191a09484841eb94329bdff68ba325",
      "style": "IPY_MODEL_e8ffe3574f72426cb4d4ef32d9e0a269",
      "tooltip": ""
     }
    },
    "0181cd8ed31a40228af12e1721bd1750": {
     "model_module": "@jupyter-widgets/controls",
     "model_module_version": "1.5.0",
     "model_name": "ButtonStyleModel",
     "state": {
      "_model_module": "@jupyter-widgets/controls",
      "_model_module_version": "1.5.0",
      "_model_name": "ButtonStyleModel",
      "_view_count": null,
      "_view_module": "@jupyter-widgets/base",
      "_view_module_version": "1.2.0",
      "_view_name": "StyleView",
      "button_color": "lightgray",
      "font_weight": ""
     }
    },
    "037980e7e7674c28ac751046867300f3": {
     "model_module": "@jupyter-widgets/controls",
     "model_module_version": "1.5.0",
     "model_name": "ButtonStyleModel",
     "state": {
      "_model_module": "@jupyter-widgets/controls",
      "_model_module_version": "1.5.0",
      "_model_name": "ButtonStyleModel",
      "_view_count": null,
      "_view_module": "@jupyter-widgets/base",
      "_view_module_version": "1.2.0",
      "_view_name": "StyleView",
      "button_color": "lightgray",
      "font_weight": ""
     }
    },
    "03f456aa50b04caa8d3079c5ccfb185c": {
     "model_module": "@jupyter-widgets/controls",
     "model_module_version": "1.5.0",
     "model_name": "ButtonModel",
     "state": {
      "_dom_classes": [],
      "_model_module": "@jupyter-widgets/controls",
      "_model_module_version": "1.5.0",
      "_model_name": "ButtonModel",
      "_view_count": null,
      "_view_module": "@jupyter-widgets/controls",
      "_view_module_version": "1.5.0",
      "_view_name": "ButtonView",
      "button_style": "",
      "description": "It doubles the accumulated gradient to ensure a larger step.",
      "disabled": false,
      "icon": "",
      "layout": "IPY_MODEL_d55b905a99644ebba7824bbcf2874071",
      "style": "IPY_MODEL_f3ee376267214df380e40aa61ebdec71",
      "tooltip": ""
     }
    },
    "05575ae4a6864e0baae251bb98f455e1": {
     "model_module": "@jupyter-widgets/controls",
     "model_module_version": "1.5.0",
     "model_name": "ButtonStyleModel",
     "state": {
      "_model_module": "@jupyter-widgets/controls",
      "_model_module_version": "1.5.0",
      "_model_name": "ButtonStyleModel",
      "_view_count": null,
      "_view_module": "@jupyter-widgets/base",
      "_view_module_version": "1.2.0",
      "_view_name": "StyleView",
      "button_color": "red",
      "font_weight": ""
     }
    },
    "05750af67c134dd3b88a84ba6fee60ff": {
     "model_module": "@jupyter-widgets/controls",
     "model_module_version": "1.5.0",
     "model_name": "ButtonModel",
     "state": {
      "_dom_classes": [],
      "_model_module": "@jupyter-widgets/controls",
      "_model_module_version": "1.5.0",
      "_model_name": "ButtonModel",
      "_view_count": null,
      "_view_module": "@jupyter-widgets/controls",
      "_view_module_version": "1.5.0",
      "_view_name": "ButtonView",
      "button_style": "",
      "description": "It starts with the current momentum and makes a correction based on updated gradient information.",
      "disabled": false,
      "icon": "",
      "layout": "IPY_MODEL_bee50694b6e64136a5fbddf4fa4f16f4",
      "style": "IPY_MODEL_0aab3bc81d8c4d5684741491eaedc664",
      "tooltip": ""
     }
    },
    "075468b9b2e8497f91dc5fb990343a6b": {
     "model_module": "@jupyter-widgets/base",
     "model_module_version": "1.2.0",
     "model_name": "LayoutModel",
     "state": {
      "_model_module": "@jupyter-widgets/base",
      "_model_module_version": "1.2.0",
      "_model_name": "LayoutModel",
      "_view_count": null,
      "_view_module": "@jupyter-widgets/base",
      "_view_module_version": "1.2.0",
      "_view_name": "LayoutView",
      "align_content": null,
      "align_items": null,
      "align_self": null,
      "border": null,
      "bottom": null,
      "display": null,
      "flex": null,
      "flex_flow": null,
      "grid_area": null,
      "grid_auto_columns": null,
      "grid_auto_flow": null,
      "grid_auto_rows": null,
      "grid_column": null,
      "grid_gap": null,
      "grid_row": null,
      "grid_template_areas": null,
      "grid_template_columns": null,
      "grid_template_rows": null,
      "height": "auto",
      "justify_content": null,
      "justify_items": null,
      "left": null,
      "margin": null,
      "max_height": null,
      "max_width": null,
      "min_height": null,
      "min_width": null,
      "object_fit": null,
      "object_position": null,
      "order": null,
      "overflow": "hidden",
      "overflow_x": null,
      "overflow_y": null,
      "padding": null,
      "right": null,
      "top": null,
      "visibility": null,
      "width": "100%"
     }
    },
    "08a111f7f91a423a8714748ca3d5d233": {
     "model_module": "@jupyter-widgets/base",
     "model_module_version": "1.2.0",
     "model_name": "LayoutModel",
     "state": {
      "_model_module": "@jupyter-widgets/base",
      "_model_module_version": "1.2.0",
      "_model_name": "LayoutModel",
      "_view_count": null,
      "_view_module": "@jupyter-widgets/base",
      "_view_module_version": "1.2.0",
      "_view_name": "LayoutView",
      "align_content": null,
      "align_items": null,
      "align_self": null,
      "border": null,
      "bottom": null,
      "display": null,
      "flex": null,
      "flex_flow": null,
      "grid_area": null,
      "grid_auto_columns": null,
      "grid_auto_flow": null,
      "grid_auto_rows": null,
      "grid_column": null,
      "grid_gap": null,
      "grid_row": null,
      "grid_template_areas": null,
      "grid_template_columns": null,
      "grid_template_rows": null,
      "height": "auto",
      "justify_content": null,
      "justify_items": null,
      "left": null,
      "margin": null,
      "max_height": null,
      "max_width": null,
      "min_height": null,
      "min_width": null,
      "object_fit": null,
      "object_position": null,
      "order": null,
      "overflow": "hidden",
      "overflow_x": null,
      "overflow_y": null,
      "padding": null,
      "right": null,
      "top": null,
      "visibility": null,
      "width": "100%"
     }
    },
    "08cd208fd64f4e9f8720dddc8c03dd15": {
     "model_module": "@jupyter-widgets/base",
     "model_module_version": "1.2.0",
     "model_name": "LayoutModel",
     "state": {
      "_model_module": "@jupyter-widgets/base",
      "_model_module_version": "1.2.0",
      "_model_name": "LayoutModel",
      "_view_count": null,
      "_view_module": "@jupyter-widgets/base",
      "_view_module_version": "1.2.0",
      "_view_name": "LayoutView",
      "align_content": null,
      "align_items": null,
      "align_self": null,
      "border": null,
      "bottom": null,
      "display": null,
      "flex": null,
      "flex_flow": null,
      "grid_area": null,
      "grid_auto_columns": null,
      "grid_auto_flow": null,
      "grid_auto_rows": null,
      "grid_column": null,
      "grid_gap": null,
      "grid_row": null,
      "grid_template_areas": null,
      "grid_template_columns": null,
      "grid_template_rows": null,
      "height": "auto",
      "justify_content": null,
      "justify_items": null,
      "left": null,
      "margin": null,
      "max_height": null,
      "max_width": null,
      "min_height": null,
      "min_width": null,
      "object_fit": null,
      "object_position": null,
      "order": null,
      "overflow": "hidden",
      "overflow_x": null,
      "overflow_y": null,
      "padding": null,
      "right": null,
      "top": null,
      "visibility": null,
      "width": "100%"
     }
    },
    "0aab3bc81d8c4d5684741491eaedc664": {
     "model_module": "@jupyter-widgets/controls",
     "model_module_version": "1.5.0",
     "model_name": "ButtonStyleModel",
     "state": {
      "_model_module": "@jupyter-widgets/controls",
      "_model_module_version": "1.5.0",
      "_model_name": "ButtonStyleModel",
      "_view_count": null,
      "_view_module": "@jupyter-widgets/base",
      "_view_module_version": "1.2.0",
      "_view_name": "StyleView",
      "button_color": "lightgreen",
      "font_weight": ""
     }
    },
    "0ac3939d2926413bb90dd62212fbf0d9": {
     "model_module": "@jupyter-widgets/controls",
     "model_module_version": "1.5.0",
     "model_name": "ButtonModel",
     "state": {
      "_dom_classes": [],
      "_model_module": "@jupyter-widgets/controls",
      "_model_module_version": "1.5.0",
      "_model_name": "ButtonModel",
      "_view_count": null,
      "_view_module": "@jupyter-widgets/controls",
      "_view_module_version": "1.5.0",
      "_view_name": "ButtonView",
      "button_style": "",
      "description": "Magnitude of weight updates",
      "disabled": false,
      "icon": "",
      "layout": "IPY_MODEL_334b49576f0245179d162aa9feaa5ef6",
      "style": "IPY_MODEL_c48ff374e5ab417b82b6efddc2ede3e5",
      "tooltip": ""
     }
    },
    "0b4caa40a14e43aab55c6928bc48c1e9": {
     "model_module": "@jupyter-widgets/base",
     "model_module_version": "1.2.0",
     "model_name": "LayoutModel",
     "state": {
      "_model_module": "@jupyter-widgets/base",
      "_model_module_version": "1.2.0",
      "_model_name": "LayoutModel",
      "_view_count": null,
      "_view_module": "@jupyter-widgets/base",
      "_view_module_version": "1.2.0",
      "_view_name": "LayoutView",
      "align_content": null,
      "align_items": null,
      "align_self": null,
      "border": null,
      "bottom": null,
      "display": null,
      "flex": null,
      "flex_flow": null,
      "grid_area": null,
      "grid_auto_columns": null,
      "grid_auto_flow": null,
      "grid_auto_rows": null,
      "grid_column": null,
      "grid_gap": null,
      "grid_row": null,
      "grid_template_areas": null,
      "grid_template_columns": null,
      "grid_template_rows": null,
      "height": "auto",
      "justify_content": null,
      "justify_items": null,
      "left": null,
      "margin": null,
      "max_height": null,
      "max_width": null,
      "min_height": null,
      "min_width": null,
      "object_fit": null,
      "object_position": null,
      "order": null,
      "overflow": "hidden",
      "overflow_x": null,
      "overflow_y": null,
      "padding": null,
      "right": null,
      "top": null,
      "visibility": null,
      "width": "100%"
     }
    },
    "0c2c4a3268c34a229c1e92f05bbfa5f4": {
     "model_module": "@jupyter-widgets/controls",
     "model_module_version": "1.5.0",
     "model_name": "ButtonStyleModel",
     "state": {
      "_model_module": "@jupyter-widgets/controls",
      "_model_module_version": "1.5.0",
      "_model_name": "ButtonStyleModel",
      "_view_count": null,
      "_view_module": "@jupyter-widgets/base",
      "_view_module_version": "1.2.0",
      "_view_name": "StyleView",
      "button_color": "red",
      "font_weight": ""
     }
    },
    "0da78d2a7754406ea1646085d7367d7f": {
     "model_module": "@jupyter-widgets/controls",
     "model_module_version": "1.5.0",
     "model_name": "ButtonModel",
     "state": {
      "_dom_classes": [],
      "_model_module": "@jupyter-widgets/controls",
      "_model_module_version": "1.5.0",
      "_model_name": "ButtonModel",
      "_view_count": null,
      "_view_module": "@jupyter-widgets/controls",
      "_view_module_version": "1.5.0",
      "_view_name": "ButtonView",
      "button_style": "",
      "description": "By dividing the learning rate by the sum of past gradients for that weight",
      "disabled": false,
      "icon": "",
      "layout": "IPY_MODEL_441766a391314824bdc5d337959b5f37",
      "style": "IPY_MODEL_1a48bb1feb014fc0ac0ea41f5ba15177",
      "tooltip": ""
     }
    },
    "0dbbf039102646898775c3e8f213ba1f": {
     "model_module": "@jupyter-widgets/controls",
     "model_module_version": "1.5.0",
     "model_name": "ButtonModel",
     "state": {
      "_dom_classes": [],
      "_model_module": "@jupyter-widgets/controls",
      "_model_module_version": "1.5.0",
      "_model_name": "ButtonModel",
      "_view_count": null,
      "_view_module": "@jupyter-widgets/controls",
      "_view_module_version": "1.5.0",
      "_view_name": "ButtonView",
      "button_style": "",
      "description": "NAG takes a leap in the direction opposite to the accumulated gradient.",
      "disabled": false,
      "icon": "",
      "layout": "IPY_MODEL_b044ce4190224d70bb4d7ff720465180",
      "style": "IPY_MODEL_94b108e267004efc9d4c82ce347212ec",
      "tooltip": ""
     }
    },
    "0e39fde0016244c581883d740ccbb59a": {
     "model_module": "@jupyter-widgets/base",
     "model_module_version": "1.2.0",
     "model_name": "LayoutModel",
     "state": {
      "_model_module": "@jupyter-widgets/base",
      "_model_module_version": "1.2.0",
      "_model_name": "LayoutModel",
      "_view_count": null,
      "_view_module": "@jupyter-widgets/base",
      "_view_module_version": "1.2.0",
      "_view_name": "LayoutView",
      "align_content": null,
      "align_items": null,
      "align_self": null,
      "border": null,
      "bottom": null,
      "display": null,
      "flex": null,
      "flex_flow": null,
      "grid_area": null,
      "grid_auto_columns": null,
      "grid_auto_flow": null,
      "grid_auto_rows": null,
      "grid_column": null,
      "grid_gap": null,
      "grid_row": null,
      "grid_template_areas": null,
      "grid_template_columns": null,
      "grid_template_rows": null,
      "height": "auto",
      "justify_content": null,
      "justify_items": null,
      "left": null,
      "margin": null,
      "max_height": null,
      "max_width": null,
      "min_height": null,
      "min_width": null,
      "object_fit": null,
      "object_position": null,
      "order": null,
      "overflow": "hidden",
      "overflow_x": null,
      "overflow_y": null,
      "padding": null,
      "right": null,
      "top": null,
      "visibility": null,
      "width": "100%"
     }
    },
    "0ef11000645041b397607f58e9fd9f77": {
     "model_module": "@jupyter-widgets/base",
     "model_module_version": "1.2.0",
     "model_name": "LayoutModel",
     "state": {
      "_model_module": "@jupyter-widgets/base",
      "_model_module_version": "1.2.0",
      "_model_name": "LayoutModel",
      "_view_count": null,
      "_view_module": "@jupyter-widgets/base",
      "_view_module_version": "1.2.0",
      "_view_name": "LayoutView",
      "align_content": null,
      "align_items": null,
      "align_self": null,
      "border": null,
      "bottom": null,
      "display": null,
      "flex": null,
      "flex_flow": null,
      "grid_area": null,
      "grid_auto_columns": null,
      "grid_auto_flow": null,
      "grid_auto_rows": null,
      "grid_column": null,
      "grid_gap": null,
      "grid_row": null,
      "grid_template_areas": null,
      "grid_template_columns": null,
      "grid_template_rows": null,
      "height": "auto",
      "justify_content": null,
      "justify_items": null,
      "left": null,
      "margin": null,
      "max_height": null,
      "max_width": null,
      "min_height": null,
      "min_width": null,
      "object_fit": null,
      "object_position": null,
      "order": null,
      "overflow": "hidden",
      "overflow_x": null,
      "overflow_y": null,
      "padding": null,
      "right": null,
      "top": null,
      "visibility": null,
      "width": "100%"
     }
    },
    "0f44ad76c4744db78d7f2d0ade3e26da": {
     "model_module": "@jupyter-widgets/controls",
     "model_module_version": "1.5.0",
     "model_name": "ButtonStyleModel",
     "state": {
      "_model_module": "@jupyter-widgets/controls",
      "_model_module_version": "1.5.0",
      "_model_name": "ButtonStyleModel",
      "_view_count": null,
      "_view_module": "@jupyter-widgets/base",
      "_view_module_version": "1.2.0",
      "_view_name": "StyleView",
      "button_color": "lightgray",
      "font_weight": ""
     }
    },
    "0f9e84f1245a4a64ae25b077388f5ce8": {
     "model_module": "@jupyter-widgets/controls",
     "model_module_version": "1.5.0",
     "model_name": "ButtonStyleModel",
     "state": {
      "_model_module": "@jupyter-widgets/controls",
      "_model_module_version": "1.5.0",
      "_model_name": "ButtonStyleModel",
      "_view_count": null,
      "_view_module": "@jupyter-widgets/base",
      "_view_module_version": "1.2.0",
      "_view_name": "StyleView",
      "button_color": "lightgray",
      "font_weight": ""
     }
    },
    "0fdbd98f165a493cb8e79fc4f7eedfdf": {
     "model_module": "@jupyter-widgets/base",
     "model_module_version": "1.2.0",
     "model_name": "LayoutModel",
     "state": {
      "_model_module": "@jupyter-widgets/base",
      "_model_module_version": "1.2.0",
      "_model_name": "LayoutModel",
      "_view_count": null,
      "_view_module": "@jupyter-widgets/base",
      "_view_module_version": "1.2.0",
      "_view_name": "LayoutView",
      "align_content": null,
      "align_items": null,
      "align_self": null,
      "border": null,
      "bottom": null,
      "display": null,
      "flex": null,
      "flex_flow": null,
      "grid_area": null,
      "grid_auto_columns": null,
      "grid_auto_flow": null,
      "grid_auto_rows": null,
      "grid_column": null,
      "grid_gap": null,
      "grid_row": null,
      "grid_template_areas": null,
      "grid_template_columns": null,
      "grid_template_rows": null,
      "height": null,
      "justify_content": null,
      "justify_items": null,
      "left": null,
      "margin": null,
      "max_height": null,
      "max_width": null,
      "min_height": null,
      "min_width": null,
      "object_fit": null,
      "object_position": null,
      "order": null,
      "overflow": null,
      "overflow_x": null,
      "overflow_y": null,
      "padding": null,
      "right": null,
      "top": null,
      "visibility": null,
      "width": null
     }
    },
    "10d8b127c67448889d0c3b381d06e768": {
     "model_module": "@jupyter-widgets/base",
     "model_module_version": "1.2.0",
     "model_name": "LayoutModel",
     "state": {
      "_model_module": "@jupyter-widgets/base",
      "_model_module_version": "1.2.0",
      "_model_name": "LayoutModel",
      "_view_count": null,
      "_view_module": "@jupyter-widgets/base",
      "_view_module_version": "1.2.0",
      "_view_name": "LayoutView",
      "align_content": null,
      "align_items": null,
      "align_self": null,
      "border": null,
      "bottom": null,
      "display": null,
      "flex": null,
      "flex_flow": null,
      "grid_area": null,
      "grid_auto_columns": null,
      "grid_auto_flow": null,
      "grid_auto_rows": null,
      "grid_column": null,
      "grid_gap": null,
      "grid_row": null,
      "grid_template_areas": null,
      "grid_template_columns": null,
      "grid_template_rows": null,
      "height": "auto",
      "justify_content": null,
      "justify_items": null,
      "left": null,
      "margin": null,
      "max_height": null,
      "max_width": null,
      "min_height": null,
      "min_width": null,
      "object_fit": null,
      "object_position": null,
      "order": null,
      "overflow": "hidden",
      "overflow_x": null,
      "overflow_y": null,
      "padding": null,
      "right": null,
      "top": null,
      "visibility": null,
      "width": "100%"
     }
    },
    "12957ec830424f0298953cafca4f020a": {
     "model_module": "@jupyter-widgets/controls",
     "model_module_version": "1.5.0",
     "model_name": "ButtonModel",
     "state": {
      "_dom_classes": [],
      "_model_module": "@jupyter-widgets/controls",
      "_model_module_version": "1.5.0",
      "_model_name": "ButtonModel",
      "_view_count": null,
      "_view_module": "@jupyter-widgets/controls",
      "_view_module_version": "1.5.0",
      "_view_name": "ButtonView",
      "button_style": "",
      "description": "Sum of past gradients",
      "disabled": false,
      "icon": "",
      "layout": "IPY_MODEL_aa7b66a8a33746dfb3f99be680c15ed0",
      "style": "IPY_MODEL_5b9d7905a8cb478391049fade1abd992",
      "tooltip": ""
     }
    },
    "1332de192cb049259f0472591690a8ab": {
     "model_module": "@jupyter-widgets/controls",
     "model_module_version": "1.5.0",
     "model_name": "ButtonModel",
     "state": {
      "_dom_classes": [],
      "_model_module": "@jupyter-widgets/controls",
      "_model_module_version": "1.5.0",
      "_model_name": "ButtonModel",
      "_view_count": null,
      "_view_module": "@jupyter-widgets/controls",
      "_view_module_version": "1.5.0",
      "_view_name": "ButtonView",
      "button_style": "",
      "description": "Momentum",
      "disabled": false,
      "icon": "",
      "layout": "IPY_MODEL_d72f8ee8b0cc4a5a8167255795c5853a",
      "style": "IPY_MODEL_0181cd8ed31a40228af12e1721bd1750",
      "tooltip": ""
     }
    },
    "134ddae4aef941e9a095e17980ebcd93": {
     "model_module": "@jupyter-widgets/base",
     "model_module_version": "1.2.0",
     "model_name": "LayoutModel",
     "state": {
      "_model_module": "@jupyter-widgets/base",
      "_model_module_version": "1.2.0",
      "_model_name": "LayoutModel",
      "_view_count": null,
      "_view_module": "@jupyter-widgets/base",
      "_view_module_version": "1.2.0",
      "_view_name": "LayoutView",
      "align_content": null,
      "align_items": null,
      "align_self": null,
      "border": null,
      "bottom": null,
      "display": null,
      "flex": null,
      "flex_flow": null,
      "grid_area": null,
      "grid_auto_columns": null,
      "grid_auto_flow": null,
      "grid_auto_rows": null,
      "grid_column": null,
      "grid_gap": null,
      "grid_row": null,
      "grid_template_areas": null,
      "grid_template_columns": null,
      "grid_template_rows": null,
      "height": "auto",
      "justify_content": null,
      "justify_items": null,
      "left": null,
      "margin": null,
      "max_height": null,
      "max_width": null,
      "min_height": null,
      "min_width": null,
      "object_fit": null,
      "object_position": null,
      "order": null,
      "overflow": "hidden",
      "overflow_x": null,
      "overflow_y": null,
      "padding": null,
      "right": null,
      "top": null,
      "visibility": null,
      "width": "100%"
     }
    },
    "1417158d24b14aae8e4a85b5a4778854": {
     "model_module": "@jupyter-widgets/base",
     "model_module_version": "1.2.0",
     "model_name": "LayoutModel",
     "state": {
      "_model_module": "@jupyter-widgets/base",
      "_model_module_version": "1.2.0",
      "_model_name": "LayoutModel",
      "_view_count": null,
      "_view_module": "@jupyter-widgets/base",
      "_view_module_version": "1.2.0",
      "_view_name": "LayoutView",
      "align_content": null,
      "align_items": null,
      "align_self": null,
      "border": null,
      "bottom": null,
      "display": null,
      "flex": null,
      "flex_flow": null,
      "grid_area": null,
      "grid_auto_columns": null,
      "grid_auto_flow": null,
      "grid_auto_rows": null,
      "grid_column": null,
      "grid_gap": null,
      "grid_row": null,
      "grid_template_areas": null,
      "grid_template_columns": null,
      "grid_template_rows": null,
      "height": "auto",
      "justify_content": null,
      "justify_items": null,
      "left": null,
      "margin": null,
      "max_height": null,
      "max_width": null,
      "min_height": null,
      "min_width": null,
      "object_fit": null,
      "object_position": null,
      "order": null,
      "overflow": "hidden",
      "overflow_x": null,
      "overflow_y": null,
      "padding": null,
      "right": null,
      "top": null,
      "visibility": null,
      "width": "100%"
     }
    },
    "1489406758fb44e5812530db9c8b0bc8": {
     "model_module": "@jupyter-widgets/controls",
     "model_module_version": "1.5.0",
     "model_name": "ButtonStyleModel",
     "state": {
      "_model_module": "@jupyter-widgets/controls",
      "_model_module_version": "1.5.0",
      "_model_name": "ButtonStyleModel",
      "_view_count": null,
      "_view_module": "@jupyter-widgets/base",
      "_view_module_version": "1.2.0",
      "_view_name": "StyleView",
      "button_color": "red",
      "font_weight": ""
     }
    },
    "167a9fea65dc434190883a08944f259c": {
     "model_module": "@jupyter-widgets/controls",
     "model_module_version": "1.5.0",
     "model_name": "ButtonStyleModel",
     "state": {
      "_model_module": "@jupyter-widgets/controls",
      "_model_module_version": "1.5.0",
      "_model_name": "ButtonStyleModel",
      "_view_count": null,
      "_view_module": "@jupyter-widgets/base",
      "_view_module_version": "1.2.0",
      "_view_name": "StyleView",
      "button_color": "lightgray",
      "font_weight": ""
     }
    },
    "16d9b7eaa643449db05837dcc72490de": {
     "model_module": "@jupyter-widgets/base",
     "model_module_version": "1.2.0",
     "model_name": "LayoutModel",
     "state": {
      "_model_module": "@jupyter-widgets/base",
      "_model_module_version": "1.2.0",
      "_model_name": "LayoutModel",
      "_view_count": null,
      "_view_module": "@jupyter-widgets/base",
      "_view_module_version": "1.2.0",
      "_view_name": "LayoutView",
      "align_content": null,
      "align_items": null,
      "align_self": null,
      "border": null,
      "bottom": null,
      "display": null,
      "flex": null,
      "flex_flow": null,
      "grid_area": null,
      "grid_auto_columns": null,
      "grid_auto_flow": null,
      "grid_auto_rows": null,
      "grid_column": null,
      "grid_gap": null,
      "grid_row": null,
      "grid_template_areas": null,
      "grid_template_columns": null,
      "grid_template_rows": null,
      "height": "auto",
      "justify_content": null,
      "justify_items": null,
      "left": null,
      "margin": null,
      "max_height": null,
      "max_width": null,
      "min_height": null,
      "min_width": null,
      "object_fit": null,
      "object_position": null,
      "order": null,
      "overflow": "hidden",
      "overflow_x": null,
      "overflow_y": null,
      "padding": null,
      "right": null,
      "top": null,
      "visibility": null,
      "width": "100%"
     }
    },
    "17d9644ffdd7430d89ff8880e31186de": {
     "model_module": "@jupyter-widgets/controls",
     "model_module_version": "1.5.0",
     "model_name": "ButtonModel",
     "state": {
      "_dom_classes": [],
      "_model_module": "@jupyter-widgets/controls",
      "_model_module_version": "1.5.0",
      "_model_name": "ButtonModel",
      "_view_count": null,
      "_view_module": "@jupyter-widgets/controls",
      "_view_module_version": "1.5.0",
      "_view_name": "ButtonView",
      "button_style": "",
      "description": "SGD updates the weights using the gradient computed from one or more training examples",
      "disabled": false,
      "icon": "",
      "layout": "IPY_MODEL_8605341432a24de2910a489cd5e1cc9e",
      "style": "IPY_MODEL_cdd24a5703fe4e228a2508c655ab36ae",
      "tooltip": ""
     }
    },
    "1863f5d4b8cf44a08e27a78e74e02004": {
     "model_module": "@jupyter-widgets/base",
     "model_module_version": "1.2.0",
     "model_name": "LayoutModel",
     "state": {
      "_model_module": "@jupyter-widgets/base",
      "_model_module_version": "1.2.0",
      "_model_name": "LayoutModel",
      "_view_count": null,
      "_view_module": "@jupyter-widgets/base",
      "_view_module_version": "1.2.0",
      "_view_name": "LayoutView",
      "align_content": null,
      "align_items": null,
      "align_self": null,
      "border": null,
      "bottom": null,
      "display": null,
      "flex": null,
      "flex_flow": null,
      "grid_area": null,
      "grid_auto_columns": null,
      "grid_auto_flow": null,
      "grid_auto_rows": null,
      "grid_column": null,
      "grid_gap": null,
      "grid_row": null,
      "grid_template_areas": null,
      "grid_template_columns": null,
      "grid_template_rows": null,
      "height": "auto",
      "justify_content": null,
      "justify_items": null,
      "left": null,
      "margin": null,
      "max_height": null,
      "max_width": null,
      "min_height": null,
      "min_width": null,
      "object_fit": null,
      "object_position": null,
      "order": null,
      "overflow": "hidden",
      "overflow_x": null,
      "overflow_y": null,
      "padding": null,
      "right": null,
      "top": null,
      "visibility": null,
      "width": "100%"
     }
    },
    "187e741b27134d2b848eac986f052b28": {
     "model_module": "@jupyter-widgets/controls",
     "model_module_version": "1.5.0",
     "model_name": "ButtonModel",
     "state": {
      "_dom_classes": [],
      "_model_module": "@jupyter-widgets/controls",
      "_model_module_version": "1.5.0",
      "_model_name": "ButtonModel",
      "_view_count": null,
      "_view_module": "@jupyter-widgets/controls",
      "_view_module_version": "1.5.0",
      "_view_name": "ButtonView",
      "button_style": "",
      "description": "The current learning rate",
      "disabled": false,
      "icon": "",
      "layout": "IPY_MODEL_36f5cf02b40a46048df4e44fa96b0ba1",
      "style": "IPY_MODEL_d0fef8d9d243484c88796384ffd5ea3a",
      "tooltip": ""
     }
    },
    "18cadf39d13e4eac80393389b78e7a55": {
     "model_module": "@jupyter-widgets/base",
     "model_module_version": "1.2.0",
     "model_name": "LayoutModel",
     "state": {
      "_model_module": "@jupyter-widgets/base",
      "_model_module_version": "1.2.0",
      "_model_name": "LayoutModel",
      "_view_count": null,
      "_view_module": "@jupyter-widgets/base",
      "_view_module_version": "1.2.0",
      "_view_name": "LayoutView",
      "align_content": null,
      "align_items": null,
      "align_self": null,
      "border": null,
      "bottom": null,
      "display": null,
      "flex": null,
      "flex_flow": null,
      "grid_area": null,
      "grid_auto_columns": null,
      "grid_auto_flow": null,
      "grid_auto_rows": null,
      "grid_column": null,
      "grid_gap": null,
      "grid_row": null,
      "grid_template_areas": null,
      "grid_template_columns": null,
      "grid_template_rows": null,
      "height": "auto",
      "justify_content": null,
      "justify_items": null,
      "left": null,
      "margin": null,
      "max_height": null,
      "max_width": null,
      "min_height": null,
      "min_width": null,
      "object_fit": null,
      "object_position": null,
      "order": null,
      "overflow": "hidden",
      "overflow_x": null,
      "overflow_y": null,
      "padding": null,
      "right": null,
      "top": null,
      "visibility": null,
      "width": "100%"
     }
    },
    "1a090e8baf3449f0b2baf4056e5850bd": {
     "model_module": "@jupyter-widgets/controls",
     "model_module_version": "1.5.0",
     "model_name": "ButtonModel",
     "state": {
      "_dom_classes": [],
      "_model_module": "@jupyter-widgets/controls",
      "_model_module_version": "1.5.0",
      "_model_name": "ButtonModel",
      "_view_count": null,
      "_view_module": "@jupyter-widgets/controls",
      "_view_module_version": "1.5.0",
      "_view_name": "ButtonView",
      "button_style": "",
      "description": "The method of applying the learning rate",
      "disabled": false,
      "icon": "",
      "layout": "IPY_MODEL_dab4f6a1b80f4b99861b78fe13ed22f9",
      "style": "IPY_MODEL_5333c7a513ab4418930f33e69f727a6f",
      "tooltip": ""
     }
    },
    "1a48bb1feb014fc0ac0ea41f5ba15177": {
     "model_module": "@jupyter-widgets/controls",
     "model_module_version": "1.5.0",
     "model_name": "ButtonStyleModel",
     "state": {
      "_model_module": "@jupyter-widgets/controls",
      "_model_module_version": "1.5.0",
      "_model_name": "ButtonStyleModel",
      "_view_count": null,
      "_view_module": "@jupyter-widgets/base",
      "_view_module_version": "1.2.0",
      "_view_name": "StyleView",
      "button_color": "lightgray",
      "font_weight": ""
     }
    },
    "1ab0ab30400a4a5eabfe9876ac8f81cf": {
     "model_module": "@jupyter-widgets/controls",
     "model_module_version": "1.5.0",
     "model_name": "ButtonModel",
     "state": {
      "_dom_classes": [],
      "_model_module": "@jupyter-widgets/controls",
      "_model_module_version": "1.5.0",
      "_model_name": "ButtonModel",
      "_view_count": null,
      "_view_module": "@jupyter-widgets/controls",
      "_view_module_version": "1.5.0",
      "_view_name": "ButtonView",
      "button_style": "",
      "description": "SGD",
      "disabled": false,
      "icon": "",
      "layout": "IPY_MODEL_8aee710282aa476dbba9a52bf0906b44",
      "style": "IPY_MODEL_dbc103242c50411a8c97b7dbae372358",
      "tooltip": ""
     }
    },
    "1b8da59111294163b2269bab3d9086bd": {
     "model_module": "@jupyter-widgets/controls",
     "model_module_version": "1.5.0",
     "model_name": "ButtonStyleModel",
     "state": {
      "_model_module": "@jupyter-widgets/controls",
      "_model_module_version": "1.5.0",
      "_model_name": "ButtonStyleModel",
      "_view_count": null,
      "_view_module": "@jupyter-widgets/base",
      "_view_module_version": "1.2.0",
      "_view_name": "StyleView",
      "button_color": "lightgray",
      "font_weight": ""
     }
    },
    "1bb0ec1a10744bbabe027c0ce90f3ae0": {
     "model_module": "@jupyter-widgets/controls",
     "model_module_version": "1.5.0",
     "model_name": "ButtonModel",
     "state": {
      "_dom_classes": [],
      "_model_module": "@jupyter-widgets/controls",
      "_model_module_version": "1.5.0",
      "_model_name": "ButtonModel",
      "_view_count": null,
      "_view_module": "@jupyter-widgets/controls",
      "_view_module_version": "1.5.0",
      "_view_name": "ButtonView",
      "button_style": "",
      "description": "The process of calculating gradients",
      "disabled": false,
      "icon": "",
      "layout": "IPY_MODEL_a018c84082374f4f9d5857d8cc1054f6",
      "style": "IPY_MODEL_65a50853eb364e4d906c0a96ae560adf",
      "tooltip": ""
     }
    },
    "1ce3fb965aa545aaa7db246a8cabafe5": {
     "model_module": "@jupyter-widgets/controls",
     "model_module_version": "1.5.0",
     "model_name": "ButtonStyleModel",
     "state": {
      "_model_module": "@jupyter-widgets/controls",
      "_model_module_version": "1.5.0",
      "_model_name": "ButtonStyleModel",
      "_view_count": null,
      "_view_module": "@jupyter-widgets/base",
      "_view_module_version": "1.2.0",
      "_view_name": "StyleView",
      "button_color": "red",
      "font_weight": ""
     }
    },
    "1dc31671540c468980b71fe6cbfa10e0": {
     "model_module": "@jupyter-widgets/controls",
     "model_module_version": "1.5.0",
     "model_name": "ButtonStyleModel",
     "state": {
      "_model_module": "@jupyter-widgets/controls",
      "_model_module_version": "1.5.0",
      "_model_name": "ButtonStyleModel",
      "_view_count": null,
      "_view_module": "@jupyter-widgets/base",
      "_view_module_version": "1.2.0",
      "_view_name": "StyleView",
      "button_color": "lightgray",
      "font_weight": ""
     }
    },
    "1e0403d2213d40ed93b58fbbbd1dda73": {
     "model_module": "@jupyter-widgets/controls",
     "model_module_version": "1.5.0",
     "model_name": "ButtonStyleModel",
     "state": {
      "_model_module": "@jupyter-widgets/controls",
      "_model_module_version": "1.5.0",
      "_model_name": "ButtonStyleModel",
      "_view_count": null,
      "_view_module": "@jupyter-widgets/base",
      "_view_module_version": "1.2.0",
      "_view_name": "StyleView",
      "button_color": "lightgray",
      "font_weight": ""
     }
    },
    "1eb144d4772348219169ccb35869073b": {
     "model_module": "@jupyter-widgets/controls",
     "model_module_version": "1.5.0",
     "model_name": "ButtonStyleModel",
     "state": {
      "_model_module": "@jupyter-widgets/controls",
      "_model_module_version": "1.5.0",
      "_model_name": "ButtonStyleModel",
      "_view_count": null,
      "_view_module": "@jupyter-widgets/base",
      "_view_module_version": "1.2.0",
      "_view_name": "StyleView",
      "button_color": "lightgray",
      "font_weight": ""
     }
    },
    "1ed515c79a004955b5bff084d12c4e6b": {
     "model_module": "@jupyter-widgets/controls",
     "model_module_version": "1.5.0",
     "model_name": "ButtonStyleModel",
     "state": {
      "_model_module": "@jupyter-widgets/controls",
      "_model_module_version": "1.5.0",
      "_model_name": "ButtonStyleModel",
      "_view_count": null,
      "_view_module": "@jupyter-widgets/base",
      "_view_module_version": "1.2.0",
      "_view_name": "StyleView",
      "button_color": "lightgray",
      "font_weight": ""
     }
    },
    "21b2ef486c494707bebec98fe602892d": {
     "model_module": "@jupyter-widgets/controls",
     "model_module_version": "1.5.0",
     "model_name": "ButtonStyleModel",
     "state": {
      "_model_module": "@jupyter-widgets/controls",
      "_model_module_version": "1.5.0",
      "_model_name": "ButtonStyleModel",
      "_view_count": null,
      "_view_module": "@jupyter-widgets/base",
      "_view_module_version": "1.2.0",
      "_view_name": "StyleView",
      "button_color": "lightgray",
      "font_weight": ""
     }
    },
    "22733d5bda384610b16fbb9ea31bd186": {
     "model_module": "@jupyter-widgets/controls",
     "model_module_version": "1.5.0",
     "model_name": "ButtonStyleModel",
     "state": {
      "_model_module": "@jupyter-widgets/controls",
      "_model_module_version": "1.5.0",
      "_model_name": "ButtonStyleModel",
      "_view_count": null,
      "_view_module": "@jupyter-widgets/base",
      "_view_module_version": "1.2.0",
      "_view_name": "StyleView",
      "button_color": null,
      "font_weight": ""
     }
    },
    "23116ee6f70347dc986e5b309fbb4807": {
     "model_module": "@jupyter-widgets/controls",
     "model_module_version": "1.5.0",
     "model_name": "ButtonStyleModel",
     "state": {
      "_model_module": "@jupyter-widgets/controls",
      "_model_module_version": "1.5.0",
      "_model_name": "ButtonStyleModel",
      "_view_count": null,
      "_view_module": "@jupyter-widgets/base",
      "_view_module_version": "1.2.0",
      "_view_name": "StyleView",
      "button_color": "lightgray",
      "font_weight": ""
     }
    },
    "2556a4a6de7f4f3cb0ce4a67d8e475fe": {
     "model_module": "@jupyter-widgets/base",
     "model_module_version": "1.2.0",
     "model_name": "LayoutModel",
     "state": {
      "_model_module": "@jupyter-widgets/base",
      "_model_module_version": "1.2.0",
      "_model_name": "LayoutModel",
      "_view_count": null,
      "_view_module": "@jupyter-widgets/base",
      "_view_module_version": "1.2.0",
      "_view_name": "LayoutView",
      "align_content": null,
      "align_items": null,
      "align_self": null,
      "border": null,
      "bottom": null,
      "display": null,
      "flex": null,
      "flex_flow": null,
      "grid_area": null,
      "grid_auto_columns": null,
      "grid_auto_flow": null,
      "grid_auto_rows": null,
      "grid_column": null,
      "grid_gap": null,
      "grid_row": null,
      "grid_template_areas": null,
      "grid_template_columns": null,
      "grid_template_rows": null,
      "height": "auto",
      "justify_content": null,
      "justify_items": null,
      "left": null,
      "margin": null,
      "max_height": null,
      "max_width": null,
      "min_height": null,
      "min_width": null,
      "object_fit": null,
      "object_position": null,
      "order": null,
      "overflow": "hidden",
      "overflow_x": null,
      "overflow_y": null,
      "padding": null,
      "right": null,
      "top": null,
      "visibility": null,
      "width": "100%"
     }
    },
    "26a642b87c7746dcba17d8bbae406b9b": {
     "model_module": "@jupyter-widgets/controls",
     "model_module_version": "1.5.0",
     "model_name": "ButtonModel",
     "state": {
      "_dom_classes": [],
      "_model_module": "@jupyter-widgets/controls",
      "_model_module_version": "1.5.0",
      "_model_name": "ButtonModel",
      "_view_count": null,
      "_view_module": "@jupyter-widgets/controls",
      "_view_module_version": "1.5.0",
      "_view_name": "ButtonView",
      "button_style": "",
      "description": "Smoothing out the moment estimates during initial training stages",
      "disabled": false,
      "icon": "",
      "layout": "IPY_MODEL_a459e511fd224396b113cf3e1fa1f126",
      "style": "IPY_MODEL_33afdaf48ec2492e94d63c75ee3439b8",
      "tooltip": ""
     }
    },
    "27618520d79e4bcbb34ecadfc80107e2": {
     "model_module": "@jupyter-widgets/controls",
     "model_module_version": "1.5.0",
     "model_name": "ButtonModel",
     "state": {
      "_dom_classes": [],
      "_model_module": "@jupyter-widgets/controls",
      "_model_module_version": "1.5.0",
      "_model_name": "ButtonModel",
      "_view_count": null,
      "_view_module": "@jupyter-widgets/controls",
      "_view_module_version": "1.5.0",
      "_view_name": "ButtonView",
      "button_style": "",
      "description": "Adagrad",
      "disabled": false,
      "icon": "",
      "layout": "IPY_MODEL_e1fcd075347e47308079162e8bf24c06",
      "style": "IPY_MODEL_dd525376fde445cdae1cf13b6d5372ac",
      "tooltip": ""
     }
    },
    "2795a2ef08524799a570ba2937bf32e8": {
     "model_module": "@jupyter-widgets/controls",
     "model_module_version": "1.5.0",
     "model_name": "ButtonStyleModel",
     "state": {
      "_model_module": "@jupyter-widgets/controls",
      "_model_module_version": "1.5.0",
      "_model_name": "ButtonStyleModel",
      "_view_count": null,
      "_view_module": "@jupyter-widgets/base",
      "_view_module_version": "1.2.0",
      "_view_name": "StyleView",
      "button_color": "lightgray",
      "font_weight": ""
     }
    },
    "28482b87d3f842d8a75a82215bba8246": {
     "model_module": "@jupyter-widgets/base",
     "model_module_version": "1.2.0",
     "model_name": "LayoutModel",
     "state": {
      "_model_module": "@jupyter-widgets/base",
      "_model_module_version": "1.2.0",
      "_model_name": "LayoutModel",
      "_view_count": null,
      "_view_module": "@jupyter-widgets/base",
      "_view_module_version": "1.2.0",
      "_view_name": "LayoutView",
      "align_content": null,
      "align_items": null,
      "align_self": null,
      "border": null,
      "bottom": null,
      "display": null,
      "flex": null,
      "flex_flow": null,
      "grid_area": null,
      "grid_auto_columns": null,
      "grid_auto_flow": null,
      "grid_auto_rows": null,
      "grid_column": null,
      "grid_gap": null,
      "grid_row": null,
      "grid_template_areas": null,
      "grid_template_columns": null,
      "grid_template_rows": null,
      "height": "auto",
      "justify_content": null,
      "justify_items": null,
      "left": null,
      "margin": null,
      "max_height": null,
      "max_width": null,
      "min_height": null,
      "min_width": null,
      "object_fit": null,
      "object_position": null,
      "order": null,
      "overflow": "hidden",
      "overflow_x": null,
      "overflow_y": null,
      "padding": null,
      "right": null,
      "top": null,
      "visibility": null,
      "width": "100%"
     }
    },
    "2a49f7cdfbc9482f8ea6248346bb00b1": {
     "model_module": "@jupyter-widgets/controls",
     "model_module_version": "1.5.0",
     "model_name": "ButtonStyleModel",
     "state": {
      "_model_module": "@jupyter-widgets/controls",
      "_model_module_version": "1.5.0",
      "_model_name": "ButtonStyleModel",
      "_view_count": null,
      "_view_module": "@jupyter-widgets/base",
      "_view_module_version": "1.2.0",
      "_view_name": "StyleView",
      "button_color": "lightgreen",
      "font_weight": ""
     }
    },
    "2b6c830db1af4a718bddb66e023f4c68": {
     "model_module": "@jupyter-widgets/base",
     "model_module_version": "1.2.0",
     "model_name": "LayoutModel",
     "state": {
      "_model_module": "@jupyter-widgets/base",
      "_model_module_version": "1.2.0",
      "_model_name": "LayoutModel",
      "_view_count": null,
      "_view_module": "@jupyter-widgets/base",
      "_view_module_version": "1.2.0",
      "_view_name": "LayoutView",
      "align_content": null,
      "align_items": null,
      "align_self": null,
      "border": null,
      "bottom": null,
      "display": null,
      "flex": null,
      "flex_flow": null,
      "grid_area": null,
      "grid_auto_columns": null,
      "grid_auto_flow": null,
      "grid_auto_rows": null,
      "grid_column": null,
      "grid_gap": null,
      "grid_row": null,
      "grid_template_areas": null,
      "grid_template_columns": null,
      "grid_template_rows": null,
      "height": "auto",
      "justify_content": null,
      "justify_items": null,
      "left": null,
      "margin": null,
      "max_height": null,
      "max_width": null,
      "min_height": null,
      "min_width": null,
      "object_fit": null,
      "object_position": null,
      "order": null,
      "overflow": "hidden",
      "overflow_x": null,
      "overflow_y": null,
      "padding": null,
      "right": null,
      "top": null,
      "visibility": null,
      "width": "100%"
     }
    },
    "2cdc5d5f1e9b441da8df930414373544": {
     "model_module": "@jupyter-widgets/controls",
     "model_module_version": "1.5.0",
     "model_name": "ButtonStyleModel",
     "state": {
      "_model_module": "@jupyter-widgets/controls",
      "_model_module_version": "1.5.0",
      "_model_name": "ButtonStyleModel",
      "_view_count": null,
      "_view_module": "@jupyter-widgets/base",
      "_view_module_version": "1.2.0",
      "_view_name": "StyleView",
      "button_color": "red",
      "font_weight": ""
     }
    },
    "2d4b5bf755764902a98e7a4ff7603d38": {
     "model_module": "@jupyter-widgets/base",
     "model_module_version": "1.2.0",
     "model_name": "LayoutModel",
     "state": {
      "_model_module": "@jupyter-widgets/base",
      "_model_module_version": "1.2.0",
      "_model_name": "LayoutModel",
      "_view_count": null,
      "_view_module": "@jupyter-widgets/base",
      "_view_module_version": "1.2.0",
      "_view_name": "LayoutView",
      "align_content": null,
      "align_items": null,
      "align_self": null,
      "border": null,
      "bottom": null,
      "display": null,
      "flex": null,
      "flex_flow": null,
      "grid_area": null,
      "grid_auto_columns": null,
      "grid_auto_flow": null,
      "grid_auto_rows": null,
      "grid_column": null,
      "grid_gap": null,
      "grid_row": null,
      "grid_template_areas": null,
      "grid_template_columns": null,
      "grid_template_rows": null,
      "height": "auto",
      "justify_content": null,
      "justify_items": null,
      "left": null,
      "margin": null,
      "max_height": null,
      "max_width": null,
      "min_height": null,
      "min_width": null,
      "object_fit": null,
      "object_position": null,
      "order": null,
      "overflow": "hidden",
      "overflow_x": null,
      "overflow_y": null,
      "padding": null,
      "right": null,
      "top": null,
      "visibility": null,
      "width": "100%"
     }
    },
    "2d7e272794e144d38cac4e5c868533f1": {
     "model_module": "@jupyter-widgets/controls",
     "model_module_version": "1.5.0",
     "model_name": "ButtonStyleModel",
     "state": {
      "_model_module": "@jupyter-widgets/controls",
      "_model_module_version": "1.5.0",
      "_model_name": "ButtonStyleModel",
      "_view_count": null,
      "_view_module": "@jupyter-widgets/base",
      "_view_module_version": "1.2.0",
      "_view_name": "StyleView",
      "button_color": "lightgreen",
      "font_weight": ""
     }
    },
    "2f081abd016d4db5aaebc8cf1887d051": {
     "model_module": "@jupyter-widgets/controls",
     "model_module_version": "1.5.0",
     "model_name": "ButtonModel",
     "state": {
      "_dom_classes": [],
      "_model_module": "@jupyter-widgets/controls",
      "_model_module_version": "1.5.0",
      "_model_name": "ButtonModel",
      "_view_count": null,
      "_view_module": "@jupyter-widgets/controls",
      "_view_module_version": "1.5.0",
      "_view_name": "ButtonView",
      "button_style": "",
      "description": "To increase the learning rate",
      "disabled": false,
      "icon": "",
      "layout": "IPY_MODEL_a241eb34e7ca4feab7ad717f28e0e872",
      "style": "IPY_MODEL_adc75f519f2746588db7738f3f650f9b",
      "tooltip": ""
     }
    },
    "2f287cd211f3440db5de8575846d4457": {
     "model_module": "@jupyter-widgets/controls",
     "model_module_version": "1.5.0",
     "model_name": "ButtonStyleModel",
     "state": {
      "_model_module": "@jupyter-widgets/controls",
      "_model_module_version": "1.5.0",
      "_model_name": "ButtonStyleModel",
      "_view_count": null,
      "_view_module": "@jupyter-widgets/base",
      "_view_module_version": "1.2.0",
      "_view_name": "StyleView",
      "button_color": "lightgray",
      "font_weight": ""
     }
    },
    "30b3fef6e15248fb9dc07e89772a85e5": {
     "model_module": "@jupyter-widgets/base",
     "model_module_version": "1.2.0",
     "model_name": "LayoutModel",
     "state": {
      "_model_module": "@jupyter-widgets/base",
      "_model_module_version": "1.2.0",
      "_model_name": "LayoutModel",
      "_view_count": null,
      "_view_module": "@jupyter-widgets/base",
      "_view_module_version": "1.2.0",
      "_view_name": "LayoutView",
      "align_content": null,
      "align_items": null,
      "align_self": null,
      "border": null,
      "bottom": null,
      "display": null,
      "flex": null,
      "flex_flow": null,
      "grid_area": null,
      "grid_auto_columns": null,
      "grid_auto_flow": null,
      "grid_auto_rows": null,
      "grid_column": null,
      "grid_gap": null,
      "grid_row": null,
      "grid_template_areas": null,
      "grid_template_columns": null,
      "grid_template_rows": null,
      "height": "auto",
      "justify_content": null,
      "justify_items": null,
      "left": null,
      "margin": null,
      "max_height": null,
      "max_width": null,
      "min_height": null,
      "min_width": null,
      "object_fit": null,
      "object_position": null,
      "order": null,
      "overflow": "hidden",
      "overflow_x": null,
      "overflow_y": null,
      "padding": null,
      "right": null,
      "top": null,
      "visibility": null,
      "width": "100%"
     }
    },
    "3162539cd81647a4913d6c9d241e9110": {
     "model_module": "@jupyter-widgets/controls",
     "model_module_version": "1.5.0",
     "model_name": "ButtonStyleModel",
     "state": {
      "_model_module": "@jupyter-widgets/controls",
      "_model_module_version": "1.5.0",
      "_model_name": "ButtonStyleModel",
      "_view_count": null,
      "_view_module": "@jupyter-widgets/base",
      "_view_module_version": "1.2.0",
      "_view_name": "StyleView",
      "button_color": "red",
      "font_weight": ""
     }
    },
    "324b4873041c4dba88c4818e54b6faaa": {
     "model_module": "@jupyter-widgets/controls",
     "model_module_version": "1.5.0",
     "model_name": "ButtonModel",
     "state": {
      "_dom_classes": [],
      "_model_module": "@jupyter-widgets/controls",
      "_model_module_version": "1.5.0",
      "_model_name": "ButtonModel",
      "_view_count": null,
      "_view_module": "@jupyter-widgets/controls",
      "_view_module_version": "1.5.0",
      "_view_name": "ButtonView",
      "button_style": "",
      "description": "By dividing the learning rate by the average of recent gradients for that weight",
      "disabled": false,
      "icon": "",
      "layout": "IPY_MODEL_1863f5d4b8cf44a08e27a78e74e02004",
      "style": "IPY_MODEL_9f10878c5b444fd8903dc906f70cf9d7",
      "tooltip": ""
     }
    },
    "329330f4984048fb95deee65ba4f2f41": {
     "model_module": "@jupyter-widgets/controls",
     "model_module_version": "1.5.0",
     "model_name": "ButtonStyleModel",
     "state": {
      "_model_module": "@jupyter-widgets/controls",
      "_model_module_version": "1.5.0",
      "_model_name": "ButtonStyleModel",
      "_view_count": null,
      "_view_module": "@jupyter-widgets/base",
      "_view_module_version": "1.2.0",
      "_view_name": "StyleView",
      "button_color": "lightgreen",
      "font_weight": ""
     }
    },
    "334b49576f0245179d162aa9feaa5ef6": {
     "model_module": "@jupyter-widgets/base",
     "model_module_version": "1.2.0",
     "model_name": "LayoutModel",
     "state": {
      "_model_module": "@jupyter-widgets/base",
      "_model_module_version": "1.2.0",
      "_model_name": "LayoutModel",
      "_view_count": null,
      "_view_module": "@jupyter-widgets/base",
      "_view_module_version": "1.2.0",
      "_view_name": "LayoutView",
      "align_content": null,
      "align_items": null,
      "align_self": null,
      "border": null,
      "bottom": null,
      "display": null,
      "flex": null,
      "flex_flow": null,
      "grid_area": null,
      "grid_auto_columns": null,
      "grid_auto_flow": null,
      "grid_auto_rows": null,
      "grid_column": null,
      "grid_gap": null,
      "grid_row": null,
      "grid_template_areas": null,
      "grid_template_columns": null,
      "grid_template_rows": null,
      "height": "auto",
      "justify_content": null,
      "justify_items": null,
      "left": null,
      "margin": null,
      "max_height": null,
      "max_width": null,
      "min_height": null,
      "min_width": null,
      "object_fit": null,
      "object_position": null,
      "order": null,
      "overflow": "hidden",
      "overflow_x": null,
      "overflow_y": null,
      "padding": null,
      "right": null,
      "top": null,
      "visibility": null,
      "width": "100%"
     }
    },
    "33afdaf48ec2492e94d63c75ee3439b8": {
     "model_module": "@jupyter-widgets/controls",
     "model_module_version": "1.5.0",
     "model_name": "ButtonStyleModel",
     "state": {
      "_model_module": "@jupyter-widgets/controls",
      "_model_module_version": "1.5.0",
      "_model_name": "ButtonStyleModel",
      "_view_count": null,
      "_view_module": "@jupyter-widgets/base",
      "_view_module_version": "1.2.0",
      "_view_name": "StyleView",
      "button_color": "lightgreen",
      "font_weight": ""
     }
    },
    "3680d5533061445e88a43b675058a9fb": {
     "model_module": "@jupyter-widgets/base",
     "model_module_version": "1.2.0",
     "model_name": "LayoutModel",
     "state": {
      "_model_module": "@jupyter-widgets/base",
      "_model_module_version": "1.2.0",
      "_model_name": "LayoutModel",
      "_view_count": null,
      "_view_module": "@jupyter-widgets/base",
      "_view_module_version": "1.2.0",
      "_view_name": "LayoutView",
      "align_content": null,
      "align_items": null,
      "align_self": null,
      "border": null,
      "bottom": null,
      "display": null,
      "flex": null,
      "flex_flow": null,
      "grid_area": null,
      "grid_auto_columns": null,
      "grid_auto_flow": null,
      "grid_auto_rows": null,
      "grid_column": null,
      "grid_gap": null,
      "grid_row": null,
      "grid_template_areas": null,
      "grid_template_columns": null,
      "grid_template_rows": null,
      "height": "auto",
      "justify_content": null,
      "justify_items": null,
      "left": null,
      "margin": null,
      "max_height": null,
      "max_width": null,
      "min_height": null,
      "min_width": null,
      "object_fit": null,
      "object_position": null,
      "order": null,
      "overflow": "hidden",
      "overflow_x": null,
      "overflow_y": null,
      "padding": null,
      "right": null,
      "top": null,
      "visibility": null,
      "width": "100%"
     }
    },
    "36f5cf02b40a46048df4e44fa96b0ba1": {
     "model_module": "@jupyter-widgets/base",
     "model_module_version": "1.2.0",
     "model_name": "LayoutModel",
     "state": {
      "_model_module": "@jupyter-widgets/base",
      "_model_module_version": "1.2.0",
      "_model_name": "LayoutModel",
      "_view_count": null,
      "_view_module": "@jupyter-widgets/base",
      "_view_module_version": "1.2.0",
      "_view_name": "LayoutView",
      "align_content": null,
      "align_items": null,
      "align_self": null,
      "border": null,
      "bottom": null,
      "display": null,
      "flex": null,
      "flex_flow": null,
      "grid_area": null,
      "grid_auto_columns": null,
      "grid_auto_flow": null,
      "grid_auto_rows": null,
      "grid_column": null,
      "grid_gap": null,
      "grid_row": null,
      "grid_template_areas": null,
      "grid_template_columns": null,
      "grid_template_rows": null,
      "height": "auto",
      "justify_content": null,
      "justify_items": null,
      "left": null,
      "margin": null,
      "max_height": null,
      "max_width": null,
      "min_height": null,
      "min_width": null,
      "object_fit": null,
      "object_position": null,
      "order": null,
      "overflow": "hidden",
      "overflow_x": null,
      "overflow_y": null,
      "padding": null,
      "right": null,
      "top": null,
      "visibility": null,
      "width": "100%"
     }
    },
    "38411f9eb4d642a0ad056731ae315b9a": {
     "model_module": "@jupyter-widgets/base",
     "model_module_version": "1.2.0",
     "model_name": "LayoutModel",
     "state": {
      "_model_module": "@jupyter-widgets/base",
      "_model_module_version": "1.2.0",
      "_model_name": "LayoutModel",
      "_view_count": null,
      "_view_module": "@jupyter-widgets/base",
      "_view_module_version": "1.2.0",
      "_view_name": "LayoutView",
      "align_content": null,
      "align_items": null,
      "align_self": null,
      "border": null,
      "bottom": null,
      "display": null,
      "flex": null,
      "flex_flow": null,
      "grid_area": null,
      "grid_auto_columns": null,
      "grid_auto_flow": null,
      "grid_auto_rows": null,
      "grid_column": null,
      "grid_gap": null,
      "grid_row": null,
      "grid_template_areas": null,
      "grid_template_columns": null,
      "grid_template_rows": null,
      "height": "auto",
      "justify_content": null,
      "justify_items": null,
      "left": null,
      "margin": null,
      "max_height": null,
      "max_width": null,
      "min_height": null,
      "min_width": null,
      "object_fit": null,
      "object_position": null,
      "order": null,
      "overflow": "hidden",
      "overflow_x": null,
      "overflow_y": null,
      "padding": null,
      "right": null,
      "top": null,
      "visibility": null,
      "width": "100%"
     }
    },
    "38bfba474d9e4bac9fb098e08155a2ad": {
     "model_module": "@jupyter-widgets/base",
     "model_module_version": "1.2.0",
     "model_name": "LayoutModel",
     "state": {
      "_model_module": "@jupyter-widgets/base",
      "_model_module_version": "1.2.0",
      "_model_name": "LayoutModel",
      "_view_count": null,
      "_view_module": "@jupyter-widgets/base",
      "_view_module_version": "1.2.0",
      "_view_name": "LayoutView",
      "align_content": null,
      "align_items": null,
      "align_self": null,
      "border": null,
      "bottom": null,
      "display": null,
      "flex": null,
      "flex_flow": null,
      "grid_area": null,
      "grid_auto_columns": null,
      "grid_auto_flow": null,
      "grid_auto_rows": null,
      "grid_column": null,
      "grid_gap": null,
      "grid_row": null,
      "grid_template_areas": null,
      "grid_template_columns": null,
      "grid_template_rows": null,
      "height": "auto",
      "justify_content": null,
      "justify_items": null,
      "left": null,
      "margin": null,
      "max_height": null,
      "max_width": null,
      "min_height": null,
      "min_width": null,
      "object_fit": null,
      "object_position": null,
      "order": null,
      "overflow": "hidden",
      "overflow_x": null,
      "overflow_y": null,
      "padding": null,
      "right": null,
      "top": null,
      "visibility": null,
      "width": "100%"
     }
    },
    "397f6e2e298640f28dcaf69398ab97a2": {
     "model_module": "@jupyter-widgets/controls",
     "model_module_version": "1.5.0",
     "model_name": "ButtonModel",
     "state": {
      "_dom_classes": [],
      "_model_module": "@jupyter-widgets/controls",
      "_model_module_version": "1.5.0",
      "_model_name": "ButtonModel",
      "_view_count": null,
      "_view_module": "@jupyter-widgets/controls",
      "_view_module_version": "1.5.0",
      "_view_name": "ButtonView",
      "button_style": "",
      "description": "SGD calculates the gradient on each data set",
      "disabled": false,
      "icon": "",
      "layout": "IPY_MODEL_2d4b5bf755764902a98e7a4ff7603d38",
      "style": "IPY_MODEL_f49fa78b67db440a97b2111a4a0032d2",
      "tooltip": ""
     }
    },
    "3aefe23cf1ee42a1ae1788d180b09e72": {
     "model_module": "@jupyter-widgets/base",
     "model_module_version": "1.2.0",
     "model_name": "LayoutModel",
     "state": {
      "_model_module": "@jupyter-widgets/base",
      "_model_module_version": "1.2.0",
      "_model_name": "LayoutModel",
      "_view_count": null,
      "_view_module": "@jupyter-widgets/base",
      "_view_module_version": "1.2.0",
      "_view_name": "LayoutView",
      "align_content": null,
      "align_items": null,
      "align_self": null,
      "border": null,
      "bottom": null,
      "display": null,
      "flex": null,
      "flex_flow": null,
      "grid_area": null,
      "grid_auto_columns": null,
      "grid_auto_flow": null,
      "grid_auto_rows": null,
      "grid_column": null,
      "grid_gap": null,
      "grid_row": null,
      "grid_template_areas": null,
      "grid_template_columns": null,
      "grid_template_rows": null,
      "height": "auto",
      "justify_content": null,
      "justify_items": null,
      "left": null,
      "margin": null,
      "max_height": null,
      "max_width": null,
      "min_height": null,
      "min_width": null,
      "object_fit": null,
      "object_position": null,
      "order": null,
      "overflow": "hidden",
      "overflow_x": null,
      "overflow_y": null,
      "padding": null,
      "right": null,
      "top": null,
      "visibility": null,
      "width": "100%"
     }
    },
    "3b63c6cfb28347518c48bfb9a18bb4ac": {
     "model_module": "@jupyter-widgets/controls",
     "model_module_version": "1.5.0",
     "model_name": "ButtonStyleModel",
     "state": {
      "_model_module": "@jupyter-widgets/controls",
      "_model_module_version": "1.5.0",
      "_model_name": "ButtonStyleModel",
      "_view_count": null,
      "_view_module": "@jupyter-widgets/base",
      "_view_module_version": "1.2.0",
      "_view_name": "StyleView",
      "button_color": null,
      "font_weight": ""
     }
    },
    "3daf067018fb48c69ebdd307e677a8eb": {
     "model_module": "@jupyter-widgets/base",
     "model_module_version": "1.2.0",
     "model_name": "LayoutModel",
     "state": {
      "_model_module": "@jupyter-widgets/base",
      "_model_module_version": "1.2.0",
      "_model_name": "LayoutModel",
      "_view_count": null,
      "_view_module": "@jupyter-widgets/base",
      "_view_module_version": "1.2.0",
      "_view_name": "LayoutView",
      "align_content": null,
      "align_items": null,
      "align_self": null,
      "border": null,
      "bottom": null,
      "display": null,
      "flex": null,
      "flex_flow": null,
      "grid_area": null,
      "grid_auto_columns": null,
      "grid_auto_flow": null,
      "grid_auto_rows": null,
      "grid_column": null,
      "grid_gap": null,
      "grid_row": null,
      "grid_template_areas": null,
      "grid_template_columns": null,
      "grid_template_rows": null,
      "height": null,
      "justify_content": null,
      "justify_items": null,
      "left": null,
      "margin": null,
      "max_height": null,
      "max_width": null,
      "min_height": null,
      "min_width": null,
      "object_fit": null,
      "object_position": null,
      "order": null,
      "overflow": null,
      "overflow_x": null,
      "overflow_y": null,
      "padding": null,
      "right": null,
      "top": null,
      "visibility": null,
      "width": null
     }
    },
    "3fbf19ef1dc24db692cf06cce2f907a4": {
     "model_module": "@jupyter-widgets/base",
     "model_module_version": "1.2.0",
     "model_name": "LayoutModel",
     "state": {
      "_model_module": "@jupyter-widgets/base",
      "_model_module_version": "1.2.0",
      "_model_name": "LayoutModel",
      "_view_count": null,
      "_view_module": "@jupyter-widgets/base",
      "_view_module_version": "1.2.0",
      "_view_name": "LayoutView",
      "align_content": null,
      "align_items": null,
      "align_self": null,
      "border": null,
      "bottom": null,
      "display": null,
      "flex": null,
      "flex_flow": null,
      "grid_area": null,
      "grid_auto_columns": null,
      "grid_auto_flow": null,
      "grid_auto_rows": null,
      "grid_column": null,
      "grid_gap": null,
      "grid_row": null,
      "grid_template_areas": null,
      "grid_template_columns": null,
      "grid_template_rows": null,
      "height": "auto",
      "justify_content": null,
      "justify_items": null,
      "left": null,
      "margin": null,
      "max_height": null,
      "max_width": null,
      "min_height": null,
      "min_width": null,
      "object_fit": null,
      "object_position": null,
      "order": null,
      "overflow": "hidden",
      "overflow_x": null,
      "overflow_y": null,
      "padding": null,
      "right": null,
      "top": null,
      "visibility": null,
      "width": "100%"
     }
    },
    "40297b5aada7422193135576eff0792c": {
     "model_module": "@jupyter-widgets/controls",
     "model_module_version": "1.5.0",
     "model_name": "ButtonStyleModel",
     "state": {
      "_model_module": "@jupyter-widgets/controls",
      "_model_module_version": "1.5.0",
      "_model_name": "ButtonStyleModel",
      "_view_count": null,
      "_view_module": "@jupyter-widgets/base",
      "_view_module_version": "1.2.0",
      "_view_name": "StyleView",
      "button_color": "lightgray",
      "font_weight": ""
     }
    },
    "419090ac83e147e18b580111bd80c9b9": {
     "model_module": "@jupyter-widgets/controls",
     "model_module_version": "1.5.0",
     "model_name": "ButtonStyleModel",
     "state": {
      "_model_module": "@jupyter-widgets/controls",
      "_model_module_version": "1.5.0",
      "_model_name": "ButtonStyleModel",
      "_view_count": null,
      "_view_module": "@jupyter-widgets/base",
      "_view_module_version": "1.2.0",
      "_view_name": "StyleView",
      "button_color": "lightgray",
      "font_weight": ""
     }
    },
    "441766a391314824bdc5d337959b5f37": {
     "model_module": "@jupyter-widgets/base",
     "model_module_version": "1.2.0",
     "model_name": "LayoutModel",
     "state": {
      "_model_module": "@jupyter-widgets/base",
      "_model_module_version": "1.2.0",
      "_model_name": "LayoutModel",
      "_view_count": null,
      "_view_module": "@jupyter-widgets/base",
      "_view_module_version": "1.2.0",
      "_view_name": "LayoutView",
      "align_content": null,
      "align_items": null,
      "align_self": null,
      "border": null,
      "bottom": null,
      "display": null,
      "flex": null,
      "flex_flow": null,
      "grid_area": null,
      "grid_auto_columns": null,
      "grid_auto_flow": null,
      "grid_auto_rows": null,
      "grid_column": null,
      "grid_gap": null,
      "grid_row": null,
      "grid_template_areas": null,
      "grid_template_columns": null,
      "grid_template_rows": null,
      "height": "auto",
      "justify_content": null,
      "justify_items": null,
      "left": null,
      "margin": null,
      "max_height": null,
      "max_width": null,
      "min_height": null,
      "min_width": null,
      "object_fit": null,
      "object_position": null,
      "order": null,
      "overflow": "hidden",
      "overflow_x": null,
      "overflow_y": null,
      "padding": null,
      "right": null,
      "top": null,
      "visibility": null,
      "width": "100%"
     }
    },
    "46865004407249499806ccc8185e5964": {
     "model_module": "@jupyter-widgets/controls",
     "model_module_version": "1.5.0",
     "model_name": "ButtonStyleModel",
     "state": {
      "_model_module": "@jupyter-widgets/controls",
      "_model_module_version": "1.5.0",
      "_model_name": "ButtonStyleModel",
      "_view_count": null,
      "_view_module": "@jupyter-widgets/base",
      "_view_module_version": "1.2.0",
      "_view_name": "StyleView",
      "button_color": "lightgreen",
      "font_weight": ""
     }
    },
    "476132c0cfb04e12a92478b11001d2fb": {
     "model_module": "@jupyter-widgets/controls",
     "model_module_version": "1.5.0",
     "model_name": "ButtonModel",
     "state": {
      "_dom_classes": [],
      "_model_module": "@jupyter-widgets/controls",
      "_model_module_version": "1.5.0",
      "_model_name": "ButtonModel",
      "_view_count": null,
      "_view_module": "@jupyter-widgets/controls",
      "_view_module_version": "1.5.0",
      "_view_name": "ButtonView",
      "button_style": "",
      "description": "Momentum and RMSprop",
      "disabled": false,
      "icon": "",
      "layout": "IPY_MODEL_18cadf39d13e4eac80393389b78e7a55",
      "style": "IPY_MODEL_ebcb5841fd554300869ffd9b50e01bf1",
      "tooltip": ""
     }
    },
    "4847ce4df4d64344b0c9837faa25830a": {
     "model_module": "@jupyter-widgets/controls",
     "model_module_version": "1.5.0",
     "model_name": "ButtonModel",
     "state": {
      "_dom_classes": [],
      "_model_module": "@jupyter-widgets/controls",
      "_model_module_version": "1.5.0",
      "_model_name": "ButtonModel",
      "_view_count": null,
      "_view_module": "@jupyter-widgets/controls",
      "_view_module_version": "1.5.0",
      "_view_name": "ButtonView",
      "button_style": "",
      "description": "Its accumulated sum of squared gradients causes the learning rate to shrink over time",
      "disabled": false,
      "icon": "",
      "layout": "IPY_MODEL_38411f9eb4d642a0ad056731ae315b9a",
      "style": "IPY_MODEL_2a49f7cdfbc9482f8ea6248346bb00b1",
      "tooltip": ""
     }
    },
    "497edbd7635447c3b3af4fad093668ac": {
     "model_module": "@jupyter-widgets/controls",
     "model_module_version": "1.5.0",
     "model_name": "ButtonModel",
     "state": {
      "_dom_classes": [],
      "_model_module": "@jupyter-widgets/controls",
      "_model_module_version": "1.5.0",
      "_model_name": "ButtonModel",
      "_view_count": null,
      "_view_module": "@jupyter-widgets/controls",
      "_view_module_version": "1.5.0",
      "_view_name": "ButtonView",
      "button_style": "",
      "description": "NAG uses a smaller step size than standard momentum.",
      "disabled": false,
      "icon": "",
      "layout": "IPY_MODEL_cf7f70b70ec44f8bae162ed311303dcf",
      "style": "IPY_MODEL_f377641c067647b292ceaa71c73c3d2b",
      "tooltip": ""
     }
    },
    "498e1c20ee184c5094e63dea5572ef46": {
     "model_module": "@jupyter-widgets/base",
     "model_module_version": "1.2.0",
     "model_name": "LayoutModel",
     "state": {
      "_model_module": "@jupyter-widgets/base",
      "_model_module_version": "1.2.0",
      "_model_name": "LayoutModel",
      "_view_count": null,
      "_view_module": "@jupyter-widgets/base",
      "_view_module_version": "1.2.0",
      "_view_name": "LayoutView",
      "align_content": null,
      "align_items": null,
      "align_self": null,
      "border": null,
      "bottom": null,
      "display": null,
      "flex": null,
      "flex_flow": null,
      "grid_area": null,
      "grid_auto_columns": null,
      "grid_auto_flow": null,
      "grid_auto_rows": null,
      "grid_column": null,
      "grid_gap": null,
      "grid_row": null,
      "grid_template_areas": null,
      "grid_template_columns": null,
      "grid_template_rows": null,
      "height": "auto",
      "justify_content": null,
      "justify_items": null,
      "left": null,
      "margin": null,
      "max_height": null,
      "max_width": null,
      "min_height": null,
      "min_width": null,
      "object_fit": null,
      "object_position": null,
      "order": null,
      "overflow": "hidden",
      "overflow_x": null,
      "overflow_y": null,
      "padding": null,
      "right": null,
      "top": null,
      "visibility": null,
      "width": "100%"
     }
    },
    "4aeeaba248be499480a27845f795003c": {
     "model_module": "@jupyter-widgets/controls",
     "model_module_version": "1.5.0",
     "model_name": "ButtonStyleModel",
     "state": {
      "_model_module": "@jupyter-widgets/controls",
      "_model_module_version": "1.5.0",
      "_model_name": "ButtonStyleModel",
      "_view_count": null,
      "_view_module": "@jupyter-widgets/base",
      "_view_module_version": "1.2.0",
      "_view_name": "StyleView",
      "button_color": null,
      "font_weight": ""
     }
    },
    "4b2246df7c2741ed89d3562f49648594": {
     "model_module": "@jupyter-widgets/controls",
     "model_module_version": "1.5.0",
     "model_name": "ButtonModel",
     "state": {
      "_dom_classes": [],
      "_model_module": "@jupyter-widgets/controls",
      "_model_module_version": "1.5.0",
      "_model_name": "ButtonModel",
      "_view_count": null,
      "_view_module": "@jupyter-widgets/controls",
      "_view_module_version": "1.5.0",
      "_view_name": "ButtonView",
      "button_style": "",
      "description": "The average of all previous gradients",
      "disabled": false,
      "icon": "",
      "layout": "IPY_MODEL_7a709c5566464fbe9e8b01e1f41c5b87",
      "style": "IPY_MODEL_5fa2f84065a049deb06c91a6eec4f092",
      "tooltip": ""
     }
    },
    "4bd79761bba04b5eb2a932320d2f6e5b": {
     "model_module": "@jupyter-widgets/controls",
     "model_module_version": "1.5.0",
     "model_name": "ButtonStyleModel",
     "state": {
      "_model_module": "@jupyter-widgets/controls",
      "_model_module_version": "1.5.0",
      "_model_name": "ButtonStyleModel",
      "_view_count": null,
      "_view_module": "@jupyter-widgets/base",
      "_view_module_version": "1.2.0",
      "_view_name": "StyleView",
      "button_color": "lightgray",
      "font_weight": ""
     }
    },
    "4bf5851372c64c0eb1b6b97b6408f230": {
     "model_module": "@jupyter-widgets/controls",
     "model_module_version": "1.5.0",
     "model_name": "ButtonStyleModel",
     "state": {
      "_model_module": "@jupyter-widgets/controls",
      "_model_module_version": "1.5.0",
      "_model_name": "ButtonStyleModel",
      "_view_count": null,
      "_view_module": "@jupyter-widgets/base",
      "_view_module_version": "1.2.0",
      "_view_name": "StyleView",
      "button_color": "lightgreen",
      "font_weight": ""
     }
    },
    "4c201e01cc7a47f08d8c93d4dcf00d9f": {
     "model_module": "@jupyter-widgets/controls",
     "model_module_version": "1.5.0",
     "model_name": "ButtonStyleModel",
     "state": {
      "_model_module": "@jupyter-widgets/controls",
      "_model_module_version": "1.5.0",
      "_model_name": "ButtonStyleModel",
      "_view_count": null,
      "_view_module": "@jupyter-widgets/base",
      "_view_module_version": "1.2.0",
      "_view_name": "StyleView",
      "button_color": "lightgray",
      "font_weight": ""
     }
    },
    "4ca33583b255445bb3d2f5e4e59fc4bb": {
     "model_module": "@jupyter-widgets/controls",
     "model_module_version": "1.5.0",
     "model_name": "ButtonStyleModel",
     "state": {
      "_model_module": "@jupyter-widgets/controls",
      "_model_module_version": "1.5.0",
      "_model_name": "ButtonStyleModel",
      "_view_count": null,
      "_view_module": "@jupyter-widgets/base",
      "_view_module_version": "1.2.0",
      "_view_name": "StyleView",
      "button_color": "lightgray",
      "font_weight": ""
     }
    },
    "4d3e28d8960f45c5948a7c359c6a1bad": {
     "model_module": "@jupyter-widgets/controls",
     "model_module_version": "1.5.0",
     "model_name": "ButtonModel",
     "state": {
      "_dom_classes": [],
      "_model_module": "@jupyter-widgets/controls",
      "_model_module_version": "1.5.0",
      "_model_name": "ButtonModel",
      "_view_count": null,
      "_view_module": "@jupyter-widgets/controls",
      "_view_module_version": "1.5.0",
      "_view_name": "ButtonView",
      "button_style": "",
      "description": "Slower convergence and degraded performance.",
      "disabled": false,
      "icon": "",
      "layout": "IPY_MODEL_1417158d24b14aae8e4a85b5a4778854",
      "style": "IPY_MODEL_0c2c4a3268c34a229c1e92f05bbfa5f4",
      "tooltip": ""
     }
    },
    "4e89191401ce4e999721f042e96918a7": {
     "model_module": "@jupyter-widgets/base",
     "model_module_version": "1.2.0",
     "model_name": "LayoutModel",
     "state": {
      "_model_module": "@jupyter-widgets/base",
      "_model_module_version": "1.2.0",
      "_model_name": "LayoutModel",
      "_view_count": null,
      "_view_module": "@jupyter-widgets/base",
      "_view_module_version": "1.2.0",
      "_view_name": "LayoutView",
      "align_content": null,
      "align_items": null,
      "align_self": null,
      "border": null,
      "bottom": null,
      "display": null,
      "flex": null,
      "flex_flow": null,
      "grid_area": null,
      "grid_auto_columns": null,
      "grid_auto_flow": null,
      "grid_auto_rows": null,
      "grid_column": null,
      "grid_gap": null,
      "grid_row": null,
      "grid_template_areas": null,
      "grid_template_columns": null,
      "grid_template_rows": null,
      "height": "auto",
      "justify_content": null,
      "justify_items": null,
      "left": null,
      "margin": null,
      "max_height": null,
      "max_width": null,
      "min_height": null,
      "min_width": null,
      "object_fit": null,
      "object_position": null,
      "order": null,
      "overflow": "hidden",
      "overflow_x": null,
      "overflow_y": null,
      "padding": null,
      "right": null,
      "top": null,
      "visibility": null,
      "width": "100%"
     }
    },
    "4ec3fe36f6bb47d0b84287082dfd28fe": {
     "model_module": "@jupyter-widgets/base",
     "model_module_version": "1.2.0",
     "model_name": "LayoutModel",
     "state": {
      "_model_module": "@jupyter-widgets/base",
      "_model_module_version": "1.2.0",
      "_model_name": "LayoutModel",
      "_view_count": null,
      "_view_module": "@jupyter-widgets/base",
      "_view_module_version": "1.2.0",
      "_view_name": "LayoutView",
      "align_content": null,
      "align_items": null,
      "align_self": null,
      "border": null,
      "bottom": null,
      "display": null,
      "flex": null,
      "flex_flow": null,
      "grid_area": null,
      "grid_auto_columns": null,
      "grid_auto_flow": null,
      "grid_auto_rows": null,
      "grid_column": null,
      "grid_gap": null,
      "grid_row": null,
      "grid_template_areas": null,
      "grid_template_columns": null,
      "grid_template_rows": null,
      "height": null,
      "justify_content": null,
      "justify_items": null,
      "left": null,
      "margin": null,
      "max_height": null,
      "max_width": null,
      "min_height": null,
      "min_width": null,
      "object_fit": null,
      "object_position": null,
      "order": null,
      "overflow": null,
      "overflow_x": null,
      "overflow_y": null,
      "padding": null,
      "right": null,
      "top": null,
      "visibility": null,
      "width": null
     }
    },
    "5333c7a513ab4418930f33e69f727a6f": {
     "model_module": "@jupyter-widgets/controls",
     "model_module_version": "1.5.0",
     "model_name": "ButtonStyleModel",
     "state": {
      "_model_module": "@jupyter-widgets/controls",
      "_model_module_version": "1.5.0",
      "_model_name": "ButtonStyleModel",
      "_view_count": null,
      "_view_module": "@jupyter-widgets/base",
      "_view_module_version": "1.2.0",
      "_view_name": "StyleView",
      "button_color": "lightgray",
      "font_weight": ""
     }
    },
    "53ba38875d434492a1c0921afd0e275f": {
     "model_module": "@jupyter-widgets/controls",
     "model_module_version": "1.5.0",
     "model_name": "ButtonModel",
     "state": {
      "_dom_classes": [],
      "_model_module": "@jupyter-widgets/controls",
      "_model_module_version": "1.5.0",
      "_model_name": "ButtonModel",
      "_view_count": null,
      "_view_module": "@jupyter-widgets/controls",
      "_view_module_version": "1.5.0",
      "_view_name": "ButtonView",
      "button_style": "",
      "description": "When minimal data processing is required",
      "disabled": false,
      "icon": "",
      "layout": "IPY_MODEL_81051781d7fc4812a8779b683d55b09f",
      "style": "IPY_MODEL_1b8da59111294163b2269bab3d9086bd",
      "tooltip": ""
     }
    },
    "541eae43b346438eba040ee57cb89de9": {
     "model_module": "@jupyter-widgets/controls",
     "model_module_version": "1.5.0",
     "model_name": "ButtonStyleModel",
     "state": {
      "_model_module": "@jupyter-widgets/controls",
      "_model_module_version": "1.5.0",
      "_model_name": "ButtonStyleModel",
      "_view_count": null,
      "_view_module": "@jupyter-widgets/base",
      "_view_module_version": "1.2.0",
      "_view_name": "StyleView",
      "button_color": "lightgray",
      "font_weight": ""
     }
    },
    "5479f5211bd2409388b019dd432d2c80": {
     "model_module": "@jupyter-widgets/base",
     "model_module_version": "1.2.0",
     "model_name": "LayoutModel",
     "state": {
      "_model_module": "@jupyter-widgets/base",
      "_model_module_version": "1.2.0",
      "_model_name": "LayoutModel",
      "_view_count": null,
      "_view_module": "@jupyter-widgets/base",
      "_view_module_version": "1.2.0",
      "_view_name": "LayoutView",
      "align_content": null,
      "align_items": null,
      "align_self": null,
      "border": null,
      "bottom": null,
      "display": null,
      "flex": null,
      "flex_flow": null,
      "grid_area": null,
      "grid_auto_columns": null,
      "grid_auto_flow": null,
      "grid_auto_rows": null,
      "grid_column": null,
      "grid_gap": null,
      "grid_row": null,
      "grid_template_areas": null,
      "grid_template_columns": null,
      "grid_template_rows": null,
      "height": "auto",
      "justify_content": null,
      "justify_items": null,
      "left": null,
      "margin": null,
      "max_height": null,
      "max_width": null,
      "min_height": null,
      "min_width": null,
      "object_fit": null,
      "object_position": null,
      "order": null,
      "overflow": "hidden",
      "overflow_x": null,
      "overflow_y": null,
      "padding": null,
      "right": null,
      "top": null,
      "visibility": null,
      "width": "100%"
     }
    },
    "5487e41de014493284d44e2918f2fbc6": {
     "model_module": "@jupyter-widgets/base",
     "model_module_version": "1.2.0",
     "model_name": "LayoutModel",
     "state": {
      "_model_module": "@jupyter-widgets/base",
      "_model_module_version": "1.2.0",
      "_model_name": "LayoutModel",
      "_view_count": null,
      "_view_module": "@jupyter-widgets/base",
      "_view_module_version": "1.2.0",
      "_view_name": "LayoutView",
      "align_content": null,
      "align_items": null,
      "align_self": null,
      "border": null,
      "bottom": null,
      "display": null,
      "flex": null,
      "flex_flow": null,
      "grid_area": null,
      "grid_auto_columns": null,
      "grid_auto_flow": null,
      "grid_auto_rows": null,
      "grid_column": null,
      "grid_gap": null,
      "grid_row": null,
      "grid_template_areas": null,
      "grid_template_columns": null,
      "grid_template_rows": null,
      "height": "auto",
      "justify_content": null,
      "justify_items": null,
      "left": null,
      "margin": null,
      "max_height": null,
      "max_width": null,
      "min_height": null,
      "min_width": null,
      "object_fit": null,
      "object_position": null,
      "order": null,
      "overflow": "hidden",
      "overflow_x": null,
      "overflow_y": null,
      "padding": null,
      "right": null,
      "top": null,
      "visibility": null,
      "width": "100%"
     }
    },
    "551731e9a45f4844bc7acc422f6c0414": {
     "model_module": "@jupyter-widgets/base",
     "model_module_version": "1.2.0",
     "model_name": "LayoutModel",
     "state": {
      "_model_module": "@jupyter-widgets/base",
      "_model_module_version": "1.2.0",
      "_model_name": "LayoutModel",
      "_view_count": null,
      "_view_module": "@jupyter-widgets/base",
      "_view_module_version": "1.2.0",
      "_view_name": "LayoutView",
      "align_content": null,
      "align_items": null,
      "align_self": null,
      "border": null,
      "bottom": null,
      "display": null,
      "flex": null,
      "flex_flow": null,
      "grid_area": null,
      "grid_auto_columns": null,
      "grid_auto_flow": null,
      "grid_auto_rows": null,
      "grid_column": null,
      "grid_gap": null,
      "grid_row": null,
      "grid_template_areas": null,
      "grid_template_columns": null,
      "grid_template_rows": null,
      "height": null,
      "justify_content": null,
      "justify_items": null,
      "left": null,
      "margin": null,
      "max_height": null,
      "max_width": null,
      "min_height": null,
      "min_width": null,
      "object_fit": null,
      "object_position": null,
      "order": null,
      "overflow": null,
      "overflow_x": null,
      "overflow_y": null,
      "padding": null,
      "right": null,
      "top": null,
      "visibility": null,
      "width": null
     }
    },
    "561a1e65d8ed40dc9d926b05cc98fcab": {
     "model_module": "@jupyter-widgets/controls",
     "model_module_version": "1.5.0",
     "model_name": "ButtonStyleModel",
     "state": {
      "_model_module": "@jupyter-widgets/controls",
      "_model_module_version": "1.5.0",
      "_model_name": "ButtonStyleModel",
      "_view_count": null,
      "_view_module": "@jupyter-widgets/base",
      "_view_module_version": "1.2.0",
      "_view_name": "StyleView",
      "button_color": "lightgray",
      "font_weight": ""
     }
    },
    "56f2f03b4a494d61bf817d2182c1103b": {
     "model_module": "@jupyter-widgets/controls",
     "model_module_version": "1.5.0",
     "model_name": "ButtonModel",
     "state": {
      "_dom_classes": [],
      "_model_module": "@jupyter-widgets/controls",
      "_model_module_version": "1.5.0",
      "_model_name": "ButtonModel",
      "_view_count": null,
      "_view_module": "@jupyter-widgets/controls",
      "_view_module_version": "1.5.0",
      "_view_name": "ButtonView",
      "button_style": "",
      "description": "Nesterov",
      "disabled": false,
      "icon": "",
      "layout": "IPY_MODEL_711f58f250c64fdfa5230293df9c331d",
      "style": "IPY_MODEL_22733d5bda384610b16fbb9ea31bd186",
      "tooltip": ""
     }
    },
    "5715a9976e2c4b59acc31166080a264b": {
     "model_module": "@jupyter-widgets/controls",
     "model_module_version": "1.5.0",
     "model_name": "ButtonStyleModel",
     "state": {
      "_model_module": "@jupyter-widgets/controls",
      "_model_module_version": "1.5.0",
      "_model_name": "ButtonStyleModel",
      "_view_count": null,
      "_view_module": "@jupyter-widgets/base",
      "_view_module_version": "1.2.0",
      "_view_name": "StyleView",
      "button_color": "lightgray",
      "font_weight": ""
     }
    },
    "577fe4e65ba7494d8da689f463eb1dd6": {
     "model_module": "@jupyter-widgets/controls",
     "model_module_version": "1.5.0",
     "model_name": "ButtonModel",
     "state": {
      "_dom_classes": [],
      "_model_module": "@jupyter-widgets/controls",
      "_model_module_version": "1.5.0",
      "_model_name": "ButtonModel",
      "_view_count": null,
      "_view_module": "@jupyter-widgets/controls",
      "_view_module_version": "1.5.0",
      "_view_name": "ButtonView",
      "button_style": "",
      "description": "Reducing the learning rate over time and applying momentum",
      "disabled": false,
      "icon": "",
      "layout": "IPY_MODEL_dfce30c7614c497f99dac9749384db98",
      "style": "IPY_MODEL_1eb144d4772348219169ccb35869073b",
      "tooltip": ""
     }
    },
    "58cf8ef28aa6485caffe981945b3141d": {
     "model_module": "@jupyter-widgets/base",
     "model_module_version": "1.2.0",
     "model_name": "LayoutModel",
     "state": {
      "_model_module": "@jupyter-widgets/base",
      "_model_module_version": "1.2.0",
      "_model_name": "LayoutModel",
      "_view_count": null,
      "_view_module": "@jupyter-widgets/base",
      "_view_module_version": "1.2.0",
      "_view_name": "LayoutView",
      "align_content": null,
      "align_items": null,
      "align_self": null,
      "border": null,
      "bottom": null,
      "display": null,
      "flex": null,
      "flex_flow": null,
      "grid_area": null,
      "grid_auto_columns": null,
      "grid_auto_flow": null,
      "grid_auto_rows": null,
      "grid_column": null,
      "grid_gap": null,
      "grid_row": null,
      "grid_template_areas": null,
      "grid_template_columns": null,
      "grid_template_rows": null,
      "height": "auto",
      "justify_content": null,
      "justify_items": null,
      "left": null,
      "margin": null,
      "max_height": null,
      "max_width": null,
      "min_height": null,
      "min_width": null,
      "object_fit": null,
      "object_position": null,
      "order": null,
      "overflow": "hidden",
      "overflow_x": null,
      "overflow_y": null,
      "padding": null,
      "right": null,
      "top": null,
      "visibility": null,
      "width": "100%"
     }
    },
    "599748a724734cd2a60f7967c2b8d2c7": {
     "model_module": "@jupyter-widgets/controls",
     "model_module_version": "1.5.0",
     "model_name": "ButtonModel",
     "state": {
      "_dom_classes": [],
      "_model_module": "@jupyter-widgets/controls",
      "_model_module_version": "1.5.0",
      "_model_name": "ButtonModel",
      "_view_count": null,
      "_view_module": "@jupyter-widgets/controls",
      "_view_module_version": "1.5.0",
      "_view_name": "ButtonView",
      "button_style": "",
      "description": "It reduces the learning rate for a more conservative update.",
      "disabled": false,
      "icon": "",
      "layout": "IPY_MODEL_e3bf3084f14d444e9b0dc0a36a335140",
      "style": "IPY_MODEL_9b0504517caf46d790063de6b6ab4f07",
      "tooltip": ""
     }
    },
    "5b9d7905a8cb478391049fade1abd992": {
     "model_module": "@jupyter-widgets/controls",
     "model_module_version": "1.5.0",
     "model_name": "ButtonStyleModel",
     "state": {
      "_model_module": "@jupyter-widgets/controls",
      "_model_module_version": "1.5.0",
      "_model_name": "ButtonStyleModel",
      "_view_count": null,
      "_view_module": "@jupyter-widgets/base",
      "_view_module_version": "1.2.0",
      "_view_name": "StyleView",
      "button_color": "lightgray",
      "font_weight": ""
     }
    },
    "5c9ee030298f40daa26f86f24bbd4e0b": {
     "model_module": "@jupyter-widgets/base",
     "model_module_version": "1.2.0",
     "model_name": "LayoutModel",
     "state": {
      "_model_module": "@jupyter-widgets/base",
      "_model_module_version": "1.2.0",
      "_model_name": "LayoutModel",
      "_view_count": null,
      "_view_module": "@jupyter-widgets/base",
      "_view_module_version": "1.2.0",
      "_view_name": "LayoutView",
      "align_content": null,
      "align_items": null,
      "align_self": null,
      "border": null,
      "bottom": null,
      "display": null,
      "flex": null,
      "flex_flow": null,
      "grid_area": null,
      "grid_auto_columns": null,
      "grid_auto_flow": null,
      "grid_auto_rows": null,
      "grid_column": null,
      "grid_gap": null,
      "grid_row": null,
      "grid_template_areas": null,
      "grid_template_columns": null,
      "grid_template_rows": null,
      "height": "auto",
      "justify_content": null,
      "justify_items": null,
      "left": null,
      "margin": null,
      "max_height": null,
      "max_width": null,
      "min_height": null,
      "min_width": null,
      "object_fit": null,
      "object_position": null,
      "order": null,
      "overflow": "hidden",
      "overflow_x": null,
      "overflow_y": null,
      "padding": null,
      "right": null,
      "top": null,
      "visibility": null,
      "width": "100%"
     }
    },
    "5e2f1698387840288fb78fdac5fcdbf5": {
     "model_module": "@jupyter-widgets/controls",
     "model_module_version": "1.5.0",
     "model_name": "ButtonModel",
     "state": {
      "_dom_classes": [],
      "_model_module": "@jupyter-widgets/controls",
      "_model_module_version": "1.5.0",
      "_model_name": "ButtonModel",
      "_view_count": null,
      "_view_module": "@jupyter-widgets/controls",
      "_view_module_version": "1.5.0",
      "_view_name": "ButtonView",
      "button_style": "",
      "description": "SGD always uses less training data",
      "disabled": false,
      "icon": "",
      "layout": "IPY_MODEL_0e39fde0016244c581883d740ccbb59a",
      "style": "IPY_MODEL_05575ae4a6864e0baae251bb98f455e1",
      "tooltip": ""
     }
    },
    "5e709438a18c4c49bc9fbfa8f9170046": {
     "model_module": "@jupyter-widgets/controls",
     "model_module_version": "1.5.0",
     "model_name": "ButtonStyleModel",
     "state": {
      "_model_module": "@jupyter-widgets/controls",
      "_model_module_version": "1.5.0",
      "_model_name": "ButtonStyleModel",
      "_view_count": null,
      "_view_module": "@jupyter-widgets/base",
      "_view_module_version": "1.2.0",
      "_view_name": "StyleView",
      "button_color": "lightgreen",
      "font_weight": ""
     }
    },
    "5ef107191d244134a580fcb4f4bc0939": {
     "model_module": "@jupyter-widgets/base",
     "model_module_version": "1.2.0",
     "model_name": "LayoutModel",
     "state": {
      "_model_module": "@jupyter-widgets/base",
      "_model_module_version": "1.2.0",
      "_model_name": "LayoutModel",
      "_view_count": null,
      "_view_module": "@jupyter-widgets/base",
      "_view_module_version": "1.2.0",
      "_view_name": "LayoutView",
      "align_content": null,
      "align_items": null,
      "align_self": null,
      "border": null,
      "bottom": null,
      "display": null,
      "flex": null,
      "flex_flow": null,
      "grid_area": null,
      "grid_auto_columns": null,
      "grid_auto_flow": null,
      "grid_auto_rows": null,
      "grid_column": null,
      "grid_gap": null,
      "grid_row": null,
      "grid_template_areas": null,
      "grid_template_columns": null,
      "grid_template_rows": null,
      "height": "auto",
      "justify_content": null,
      "justify_items": null,
      "left": null,
      "margin": null,
      "max_height": null,
      "max_width": null,
      "min_height": null,
      "min_width": null,
      "object_fit": null,
      "object_position": null,
      "order": null,
      "overflow": "hidden",
      "overflow_x": null,
      "overflow_y": null,
      "padding": null,
      "right": null,
      "top": null,
      "visibility": null,
      "width": "100%"
     }
    },
    "5efff0cc389f433faa75274aa2e47343": {
     "model_module": "@jupyter-widgets/base",
     "model_module_version": "1.2.0",
     "model_name": "LayoutModel",
     "state": {
      "_model_module": "@jupyter-widgets/base",
      "_model_module_version": "1.2.0",
      "_model_name": "LayoutModel",
      "_view_count": null,
      "_view_module": "@jupyter-widgets/base",
      "_view_module_version": "1.2.0",
      "_view_name": "LayoutView",
      "align_content": null,
      "align_items": null,
      "align_self": null,
      "border": null,
      "bottom": null,
      "display": null,
      "flex": null,
      "flex_flow": null,
      "grid_area": null,
      "grid_auto_columns": null,
      "grid_auto_flow": null,
      "grid_auto_rows": null,
      "grid_column": null,
      "grid_gap": null,
      "grid_row": null,
      "grid_template_areas": null,
      "grid_template_columns": null,
      "grid_template_rows": null,
      "height": "auto",
      "justify_content": null,
      "justify_items": null,
      "left": null,
      "margin": null,
      "max_height": null,
      "max_width": null,
      "min_height": null,
      "min_width": null,
      "object_fit": null,
      "object_position": null,
      "order": null,
      "overflow": "hidden",
      "overflow_x": null,
      "overflow_y": null,
      "padding": null,
      "right": null,
      "top": null,
      "visibility": null,
      "width": "100%"
     }
    },
    "5f9a40115c1545c4bdbd10a775e69431": {
     "model_module": "@jupyter-widgets/base",
     "model_module_version": "1.2.0",
     "model_name": "LayoutModel",
     "state": {
      "_model_module": "@jupyter-widgets/base",
      "_model_module_version": "1.2.0",
      "_model_name": "LayoutModel",
      "_view_count": null,
      "_view_module": "@jupyter-widgets/base",
      "_view_module_version": "1.2.0",
      "_view_name": "LayoutView",
      "align_content": null,
      "align_items": null,
      "align_self": null,
      "border": null,
      "bottom": null,
      "display": null,
      "flex": null,
      "flex_flow": null,
      "grid_area": null,
      "grid_auto_columns": null,
      "grid_auto_flow": null,
      "grid_auto_rows": null,
      "grid_column": null,
      "grid_gap": null,
      "grid_row": null,
      "grid_template_areas": null,
      "grid_template_columns": null,
      "grid_template_rows": null,
      "height": "auto",
      "justify_content": null,
      "justify_items": null,
      "left": null,
      "margin": null,
      "max_height": null,
      "max_width": null,
      "min_height": null,
      "min_width": null,
      "object_fit": null,
      "object_position": null,
      "order": null,
      "overflow": "hidden",
      "overflow_x": null,
      "overflow_y": null,
      "padding": null,
      "right": null,
      "top": null,
      "visibility": null,
      "width": "100%"
     }
    },
    "5fa2f84065a049deb06c91a6eec4f092": {
     "model_module": "@jupyter-widgets/controls",
     "model_module_version": "1.5.0",
     "model_name": "ButtonStyleModel",
     "state": {
      "_model_module": "@jupyter-widgets/controls",
      "_model_module_version": "1.5.0",
      "_model_name": "ButtonStyleModel",
      "_view_count": null,
      "_view_module": "@jupyter-widgets/base",
      "_view_module_version": "1.2.0",
      "_view_name": "StyleView",
      "button_color": "lightgray",
      "font_weight": ""
     }
    },
    "65a50853eb364e4d906c0a96ae560adf": {
     "model_module": "@jupyter-widgets/controls",
     "model_module_version": "1.5.0",
     "model_name": "ButtonStyleModel",
     "state": {
      "_model_module": "@jupyter-widgets/controls",
      "_model_module_version": "1.5.0",
      "_model_name": "ButtonStyleModel",
      "_view_count": null,
      "_view_module": "@jupyter-widgets/base",
      "_view_module_version": "1.2.0",
      "_view_name": "StyleView",
      "button_color": "lightgray",
      "font_weight": ""
     }
    },
    "65feff206d964eac8179b4c312ca8856": {
     "model_module": "@jupyter-widgets/controls",
     "model_module_version": "1.5.0",
     "model_name": "ButtonModel",
     "state": {
      "_dom_classes": [],
      "_model_module": "@jupyter-widgets/controls",
      "_model_module_version": "1.5.0",
      "_model_name": "ButtonModel",
      "_view_count": null,
      "_view_module": "@jupyter-widgets/controls",
      "_view_module_version": "1.5.0",
      "_view_name": "ButtonView",
      "button_style": "",
      "description": "Adam",
      "disabled": false,
      "icon": "",
      "layout": "IPY_MODEL_0fdbd98f165a493cb8e79fc4f7eedfdf",
      "style": "IPY_MODEL_ce95f06990f74d5298368b92c6e97940",
      "tooltip": ""
     }
    },
    "6836c352aa8d4c1ba2fdc0bfa9e53f23": {
     "model_module": "@jupyter-widgets/base",
     "model_module_version": "1.2.0",
     "model_name": "LayoutModel",
     "state": {
      "_model_module": "@jupyter-widgets/base",
      "_model_module_version": "1.2.0",
      "_model_name": "LayoutModel",
      "_view_count": null,
      "_view_module": "@jupyter-widgets/base",
      "_view_module_version": "1.2.0",
      "_view_name": "LayoutView",
      "align_content": null,
      "align_items": null,
      "align_self": null,
      "border": null,
      "bottom": null,
      "display": null,
      "flex": null,
      "flex_flow": null,
      "grid_area": null,
      "grid_auto_columns": null,
      "grid_auto_flow": null,
      "grid_auto_rows": null,
      "grid_column": null,
      "grid_gap": null,
      "grid_row": null,
      "grid_template_areas": null,
      "grid_template_columns": null,
      "grid_template_rows": null,
      "height": "auto",
      "justify_content": null,
      "justify_items": null,
      "left": null,
      "margin": null,
      "max_height": null,
      "max_width": null,
      "min_height": null,
      "min_width": null,
      "object_fit": null,
      "object_position": null,
      "order": null,
      "overflow": "hidden",
      "overflow_x": null,
      "overflow_y": null,
      "padding": null,
      "right": null,
      "top": null,
      "visibility": null,
      "width": "100%"
     }
    },
    "693d8046f98646a5ac6d57735743a331": {
     "model_module": "@jupyter-widgets/controls",
     "model_module_version": "1.5.0",
     "model_name": "ButtonStyleModel",
     "state": {
      "_model_module": "@jupyter-widgets/controls",
      "_model_module_version": "1.5.0",
      "_model_name": "ButtonStyleModel",
      "_view_count": null,
      "_view_module": "@jupyter-widgets/base",
      "_view_module_version": "1.2.0",
      "_view_name": "StyleView",
      "button_color": "lightgray",
      "font_weight": ""
     }
    },
    "698970839d764f32950434911d24c943": {
     "model_module": "@jupyter-widgets/controls",
     "model_module_version": "1.5.0",
     "model_name": "ButtonModel",
     "state": {
      "_dom_classes": [],
      "_model_module": "@jupyter-widgets/controls",
      "_model_module_version": "1.5.0",
      "_model_name": "ButtonModel",
      "_view_count": null,
      "_view_module": "@jupyter-widgets/controls",
      "_view_module_version": "1.5.0",
      "_view_name": "ButtonView",
      "button_style": "",
      "description": "Minimizing the loss function",
      "disabled": false,
      "icon": "",
      "layout": "IPY_MODEL_16d9b7eaa643449db05837dcc72490de",
      "style": "IPY_MODEL_9bd142fa5922487cbad07c58b9e3f55a",
      "tooltip": ""
     }
    },
    "6a5551f40b0f4745a7d3b2a7e513013e": {
     "model_module": "@jupyter-widgets/controls",
     "model_module_version": "1.5.0",
     "model_name": "ButtonStyleModel",
     "state": {
      "_model_module": "@jupyter-widgets/controls",
      "_model_module_version": "1.5.0",
      "_model_name": "ButtonStyleModel",
      "_view_count": null,
      "_view_module": "@jupyter-widgets/base",
      "_view_module_version": "1.2.0",
      "_view_name": "StyleView",
      "button_color": "lightgray",
      "font_weight": ""
     }
    },
    "6a62a20807414726b341db8b4e5686e7": {
     "model_module": "@jupyter-widgets/base",
     "model_module_version": "1.2.0",
     "model_name": "LayoutModel",
     "state": {
      "_model_module": "@jupyter-widgets/base",
      "_model_module_version": "1.2.0",
      "_model_name": "LayoutModel",
      "_view_count": null,
      "_view_module": "@jupyter-widgets/base",
      "_view_module_version": "1.2.0",
      "_view_name": "LayoutView",
      "align_content": null,
      "align_items": null,
      "align_self": null,
      "border": null,
      "bottom": null,
      "display": null,
      "flex": null,
      "flex_flow": null,
      "grid_area": null,
      "grid_auto_columns": null,
      "grid_auto_flow": null,
      "grid_auto_rows": null,
      "grid_column": null,
      "grid_gap": null,
      "grid_row": null,
      "grid_template_areas": null,
      "grid_template_columns": null,
      "grid_template_rows": null,
      "height": "auto",
      "justify_content": null,
      "justify_items": null,
      "left": null,
      "margin": null,
      "max_height": null,
      "max_width": null,
      "min_height": null,
      "min_width": null,
      "object_fit": null,
      "object_position": null,
      "order": null,
      "overflow": "hidden",
      "overflow_x": null,
      "overflow_y": null,
      "padding": null,
      "right": null,
      "top": null,
      "visibility": null,
      "width": "100%"
     }
    },
    "6a9efac6cec14d4688a2dbe66f1d53bd": {
     "model_module": "@jupyter-widgets/controls",
     "model_module_version": "1.5.0",
     "model_name": "ButtonModel",
     "state": {
      "_dom_classes": [],
      "_model_module": "@jupyter-widgets/controls",
      "_model_module_version": "1.5.0",
      "_model_name": "ButtonModel",
      "_view_count": null,
      "_view_module": "@jupyter-widgets/controls",
      "_view_module_version": "1.5.0",
      "_view_name": "ButtonView",
      "button_style": "",
      "description": "AdamW has a different way of handling learning rate",
      "disabled": false,
      "icon": "",
      "layout": "IPY_MODEL_ad585385965346bd8071d85456aa6177",
      "style": "IPY_MODEL_541eae43b346438eba040ee57cb89de9",
      "tooltip": ""
     }
    },
    "6cc5707b216e4bbd8a0477024988bed2": {
     "model_module": "@jupyter-widgets/controls",
     "model_module_version": "1.5.0",
     "model_name": "ButtonModel",
     "state": {
      "_dom_classes": [],
      "_model_module": "@jupyter-widgets/controls",
      "_model_module_version": "1.5.0",
      "_model_name": "ButtonModel",
      "_view_count": null,
      "_view_module": "@jupyter-widgets/controls",
      "_view_module_version": "1.5.0",
      "_view_name": "ButtonView",
      "button_style": "",
      "description": "First-order and Second-order Averages",
      "disabled": false,
      "icon": "",
      "layout": "IPY_MODEL_aca018fe726140f49e42812d7608cc84",
      "style": "IPY_MODEL_1ce3fb965aa545aaa7db246a8cabafe5",
      "tooltip": ""
     }
    },
    "6ced88cfec2546cdbe5d3b1d31bfc5ff": {
     "model_module": "@jupyter-widgets/controls",
     "model_module_version": "1.5.0",
     "model_name": "ButtonModel",
     "state": {
      "_dom_classes": [],
      "_model_module": "@jupyter-widgets/controls",
      "_model_module_version": "1.5.0",
      "_model_name": "ButtonModel",
      "_view_count": null,
      "_view_module": "@jupyter-widgets/controls",
      "_view_module_version": "1.5.0",
      "_view_name": "ButtonView",
      "button_style": "",
      "description": "It uses the same learning rate for all parameters",
      "disabled": false,
      "icon": "",
      "layout": "IPY_MODEL_f0bed2f65e27476ba5a4042355478df2",
      "style": "IPY_MODEL_a662e09e206c4076812f4366415da670",
      "tooltip": ""
     }
    },
    "71191a09484841eb94329bdff68ba325": {
     "model_module": "@jupyter-widgets/base",
     "model_module_version": "1.2.0",
     "model_name": "LayoutModel",
     "state": {
      "_model_module": "@jupyter-widgets/base",
      "_model_module_version": "1.2.0",
      "_model_name": "LayoutModel",
      "_view_count": null,
      "_view_module": "@jupyter-widgets/base",
      "_view_module_version": "1.2.0",
      "_view_name": "LayoutView",
      "align_content": null,
      "align_items": null,
      "align_self": null,
      "border": null,
      "bottom": null,
      "display": null,
      "flex": null,
      "flex_flow": null,
      "grid_area": null,
      "grid_auto_columns": null,
      "grid_auto_flow": null,
      "grid_auto_rows": null,
      "grid_column": null,
      "grid_gap": null,
      "grid_row": null,
      "grid_template_areas": null,
      "grid_template_columns": null,
      "grid_template_rows": null,
      "height": "auto",
      "justify_content": null,
      "justify_items": null,
      "left": null,
      "margin": null,
      "max_height": null,
      "max_width": null,
      "min_height": null,
      "min_width": null,
      "object_fit": null,
      "object_position": null,
      "order": null,
      "overflow": "hidden",
      "overflow_x": null,
      "overflow_y": null,
      "padding": null,
      "right": null,
      "top": null,
      "visibility": null,
      "width": "100%"
     }
    },
    "711f58f250c64fdfa5230293df9c331d": {
     "model_module": "@jupyter-widgets/base",
     "model_module_version": "1.2.0",
     "model_name": "LayoutModel",
     "state": {
      "_model_module": "@jupyter-widgets/base",
      "_model_module_version": "1.2.0",
      "_model_name": "LayoutModel",
      "_view_count": null,
      "_view_module": "@jupyter-widgets/base",
      "_view_module_version": "1.2.0",
      "_view_name": "LayoutView",
      "align_content": null,
      "align_items": null,
      "align_self": null,
      "border": null,
      "bottom": null,
      "display": null,
      "flex": null,
      "flex_flow": null,
      "grid_area": null,
      "grid_auto_columns": null,
      "grid_auto_flow": null,
      "grid_auto_rows": null,
      "grid_column": null,
      "grid_gap": null,
      "grid_row": null,
      "grid_template_areas": null,
      "grid_template_columns": null,
      "grid_template_rows": null,
      "height": null,
      "justify_content": null,
      "justify_items": null,
      "left": null,
      "margin": null,
      "max_height": null,
      "max_width": null,
      "min_height": null,
      "min_width": null,
      "object_fit": null,
      "object_position": null,
      "order": null,
      "overflow": null,
      "overflow_x": null,
      "overflow_y": null,
      "padding": null,
      "right": null,
      "top": null,
      "visibility": null,
      "width": null
     }
    },
    "72609b0156214bf1a7587b893551bcf4": {
     "model_module": "@jupyter-widgets/controls",
     "model_module_version": "1.5.0",
     "model_name": "ButtonModel",
     "state": {
      "_dom_classes": [],
      "_model_module": "@jupyter-widgets/controls",
      "_model_module_version": "1.5.0",
      "_model_name": "ButtonModel",
      "_view_count": null,
      "_view_module": "@jupyter-widgets/controls",
      "_view_module_version": "1.5.0",
      "_view_name": "ButtonView",
      "button_style": "",
      "description": "No significant change in convergence speed.",
      "disabled": false,
      "icon": "",
      "layout": "IPY_MODEL_5487e41de014493284d44e2918f2fbc6",
      "style": "IPY_MODEL_3162539cd81647a4913d6c9d241e9110",
      "tooltip": ""
     }
    },
    "7579ba914a674ebfafb3af88b531763e": {
     "model_module": "@jupyter-widgets/controls",
     "model_module_version": "1.5.0",
     "model_name": "ButtonModel",
     "state": {
      "_dom_classes": [],
      "_model_module": "@jupyter-widgets/controls",
      "_model_module_version": "1.5.0",
      "_model_name": "ButtonModel",
      "_view_count": null,
      "_view_module": "@jupyter-widgets/controls",
      "_view_module_version": "1.5.0",
      "_view_name": "ButtonView",
      "button_style": "",
      "description": "To reduce the amount of data needed",
      "disabled": false,
      "icon": "",
      "layout": "IPY_MODEL_38bfba474d9e4bac9fb098e08155a2ad",
      "style": "IPY_MODEL_fa8d0eaa17014574b437f8cc1e099923",
      "tooltip": ""
     }
    },
    "758d21ca46934381a608c472b9ce135e": {
     "model_module": "@jupyter-widgets/controls",
     "model_module_version": "1.5.0",
     "model_name": "ButtonModel",
     "state": {
      "_dom_classes": [],
      "_model_module": "@jupyter-widgets/controls",
      "_model_module_version": "1.5.0",
      "_model_name": "ButtonModel",
      "_view_count": null,
      "_view_module": "@jupyter-widgets/controls",
      "_view_module_version": "1.5.0",
      "_view_name": "ButtonView",
      "button_style": "",
      "description": "By adding the learning rate to the average of recent gradients for that weight",
      "disabled": false,
      "icon": "",
      "layout": "IPY_MODEL_5efff0cc389f433faa75274aa2e47343",
      "style": "IPY_MODEL_e1fdd47ac6a74401bb9f627094832a71",
      "tooltip": ""
     }
    },
    "772a93a9cc854c83a72f95c6c951b197": {
     "model_module": "@jupyter-widgets/controls",
     "model_module_version": "1.5.0",
     "model_name": "ButtonModel",
     "state": {
      "_dom_classes": [],
      "_model_module": "@jupyter-widgets/controls",
      "_model_module_version": "1.5.0",
      "_model_name": "ButtonModel",
      "_view_count": null,
      "_view_module": "@jupyter-widgets/controls",
      "_view_module_version": "1.5.0",
      "_view_name": "ButtonView",
      "button_style": "",
      "description": "When a high efficiency and versatility is required",
      "disabled": false,
      "icon": "",
      "layout": "IPY_MODEL_b0e9a034b77146a6a3341acb9f5f113a",
      "style": "IPY_MODEL_561a1e65d8ed40dc9d926b05cc98fcab",
      "tooltip": ""
     }
    },
    "774b36d7245a4f839f252e193fec925c": {
     "model_module": "@jupyter-widgets/controls",
     "model_module_version": "1.5.0",
     "model_name": "ButtonModel",
     "state": {
      "_dom_classes": [],
      "_model_module": "@jupyter-widgets/controls",
      "_model_module_version": "1.5.0",
      "_model_name": "ButtonModel",
      "_view_count": null,
      "_view_module": "@jupyter-widgets/controls",
      "_view_module_version": "1.5.0",
      "_view_name": "ButtonView",
      "button_style": "",
      "description": "By multiplying the learning rate by the average of recent gradients for that weight",
      "disabled": false,
      "icon": "",
      "layout": "IPY_MODEL_7cf3efbd0c67456d911c87aca5e3bc4d",
      "style": "IPY_MODEL_1dc31671540c468980b71fe6cbfa10e0",
      "tooltip": ""
     }
    },
    "7a2f115e227f4a30b406d16753491ec1": {
     "model_module": "@jupyter-widgets/controls",
     "model_module_version": "1.5.0",
     "model_name": "ButtonStyleModel",
     "state": {
      "_model_module": "@jupyter-widgets/controls",
      "_model_module_version": "1.5.0",
      "_model_name": "ButtonStyleModel",
      "_view_count": null,
      "_view_module": "@jupyter-widgets/base",
      "_view_module_version": "1.2.0",
      "_view_name": "StyleView",
      "button_color": "lightgray",
      "font_weight": ""
     }
    },
    "7a709c5566464fbe9e8b01e1f41c5b87": {
     "model_module": "@jupyter-widgets/base",
     "model_module_version": "1.2.0",
     "model_name": "LayoutModel",
     "state": {
      "_model_module": "@jupyter-widgets/base",
      "_model_module_version": "1.2.0",
      "_model_name": "LayoutModel",
      "_view_count": null,
      "_view_module": "@jupyter-widgets/base",
      "_view_module_version": "1.2.0",
      "_view_name": "LayoutView",
      "align_content": null,
      "align_items": null,
      "align_self": null,
      "border": null,
      "bottom": null,
      "display": null,
      "flex": null,
      "flex_flow": null,
      "grid_area": null,
      "grid_auto_columns": null,
      "grid_auto_flow": null,
      "grid_auto_rows": null,
      "grid_column": null,
      "grid_gap": null,
      "grid_row": null,
      "grid_template_areas": null,
      "grid_template_columns": null,
      "grid_template_rows": null,
      "height": "auto",
      "justify_content": null,
      "justify_items": null,
      "left": null,
      "margin": null,
      "max_height": null,
      "max_width": null,
      "min_height": null,
      "min_width": null,
      "object_fit": null,
      "object_position": null,
      "order": null,
      "overflow": "hidden",
      "overflow_x": null,
      "overflow_y": null,
      "padding": null,
      "right": null,
      "top": null,
      "visibility": null,
      "width": "100%"
     }
    },
    "7cf3efbd0c67456d911c87aca5e3bc4d": {
     "model_module": "@jupyter-widgets/base",
     "model_module_version": "1.2.0",
     "model_name": "LayoutModel",
     "state": {
      "_model_module": "@jupyter-widgets/base",
      "_model_module_version": "1.2.0",
      "_model_name": "LayoutModel",
      "_view_count": null,
      "_view_module": "@jupyter-widgets/base",
      "_view_module_version": "1.2.0",
      "_view_name": "LayoutView",
      "align_content": null,
      "align_items": null,
      "align_self": null,
      "border": null,
      "bottom": null,
      "display": null,
      "flex": null,
      "flex_flow": null,
      "grid_area": null,
      "grid_auto_columns": null,
      "grid_auto_flow": null,
      "grid_auto_rows": null,
      "grid_column": null,
      "grid_gap": null,
      "grid_row": null,
      "grid_template_areas": null,
      "grid_template_columns": null,
      "grid_template_rows": null,
      "height": "auto",
      "justify_content": null,
      "justify_items": null,
      "left": null,
      "margin": null,
      "max_height": null,
      "max_width": null,
      "min_height": null,
      "min_width": null,
      "object_fit": null,
      "object_position": null,
      "order": null,
      "overflow": "hidden",
      "overflow_x": null,
      "overflow_y": null,
      "padding": null,
      "right": null,
      "top": null,
      "visibility": null,
      "width": "100%"
     }
    },
    "7d36834f2c0e4960b6f668e39c043554": {
     "model_module": "@jupyter-widgets/controls",
     "model_module_version": "1.5.0",
     "model_name": "ButtonModel",
     "state": {
      "_dom_classes": [],
      "_model_module": "@jupyter-widgets/controls",
      "_model_module_version": "1.5.0",
      "_model_name": "ButtonModel",
      "_view_count": null,
      "_view_module": "@jupyter-widgets/controls",
      "_view_module_version": "1.5.0",
      "_view_name": "ButtonView",
      "button_style": "",
      "description": "Gradients of recent time steps",
      "disabled": false,
      "icon": "",
      "layout": "IPY_MODEL_b03de5ddca1b42ff8ab347e5a6165951",
      "style": "IPY_MODEL_329330f4984048fb95deee65ba4f2f41",
      "tooltip": ""
     }
    },
    "7e0c8fec85f04891a5b286f20460856a": {
     "model_module": "@jupyter-widgets/base",
     "model_module_version": "1.2.0",
     "model_name": "LayoutModel",
     "state": {
      "_model_module": "@jupyter-widgets/base",
      "_model_module_version": "1.2.0",
      "_model_name": "LayoutModel",
      "_view_count": null,
      "_view_module": "@jupyter-widgets/base",
      "_view_module_version": "1.2.0",
      "_view_name": "LayoutView",
      "align_content": null,
      "align_items": null,
      "align_self": null,
      "border": null,
      "bottom": null,
      "display": null,
      "flex": null,
      "flex_flow": null,
      "grid_area": null,
      "grid_auto_columns": null,
      "grid_auto_flow": null,
      "grid_auto_rows": null,
      "grid_column": null,
      "grid_gap": null,
      "grid_row": null,
      "grid_template_areas": null,
      "grid_template_columns": null,
      "grid_template_rows": null,
      "height": "auto",
      "justify_content": null,
      "justify_items": null,
      "left": null,
      "margin": null,
      "max_height": null,
      "max_width": null,
      "min_height": null,
      "min_width": null,
      "object_fit": null,
      "object_position": null,
      "order": null,
      "overflow": "hidden",
      "overflow_x": null,
      "overflow_y": null,
      "padding": null,
      "right": null,
      "top": null,
      "visibility": null,
      "width": "100%"
     }
    },
    "7f525a6be0e74cfeb9e75b4cb39d4243": {
     "model_module": "@jupyter-widgets/controls",
     "model_module_version": "1.5.0",
     "model_name": "ButtonStyleModel",
     "state": {
      "_model_module": "@jupyter-widgets/controls",
      "_model_module_version": "1.5.0",
      "_model_name": "ButtonStyleModel",
      "_view_count": null,
      "_view_module": "@jupyter-widgets/base",
      "_view_module_version": "1.2.0",
      "_view_name": "StyleView",
      "button_color": "lightgray",
      "font_weight": ""
     }
    },
    "7f9beb1bcbe04a50841bdca9d0eadd5d": {
     "model_module": "@jupyter-widgets/base",
     "model_module_version": "1.2.0",
     "model_name": "LayoutModel",
     "state": {
      "_model_module": "@jupyter-widgets/base",
      "_model_module_version": "1.2.0",
      "_model_name": "LayoutModel",
      "_view_count": null,
      "_view_module": "@jupyter-widgets/base",
      "_view_module_version": "1.2.0",
      "_view_name": "LayoutView",
      "align_content": null,
      "align_items": null,
      "align_self": null,
      "border": null,
      "bottom": null,
      "display": null,
      "flex": null,
      "flex_flow": null,
      "grid_area": null,
      "grid_auto_columns": null,
      "grid_auto_flow": null,
      "grid_auto_rows": null,
      "grid_column": null,
      "grid_gap": null,
      "grid_row": null,
      "grid_template_areas": null,
      "grid_template_columns": null,
      "grid_template_rows": null,
      "height": "auto",
      "justify_content": null,
      "justify_items": null,
      "left": null,
      "margin": null,
      "max_height": null,
      "max_width": null,
      "min_height": null,
      "min_width": null,
      "object_fit": null,
      "object_position": null,
      "order": null,
      "overflow": "hidden",
      "overflow_x": null,
      "overflow_y": null,
      "padding": null,
      "right": null,
      "top": null,
      "visibility": null,
      "width": "100%"
     }
    },
    "807d0d6f366241a2bcfd06679459a13a": {
     "model_module": "@jupyter-widgets/controls",
     "model_module_version": "1.5.0",
     "model_name": "ButtonModel",
     "state": {
      "_dom_classes": [],
      "_model_module": "@jupyter-widgets/controls",
      "_model_module_version": "1.5.0",
      "_model_name": "ButtonModel",
      "_view_count": null,
      "_view_module": "@jupyter-widgets/controls",
      "_view_module_version": "1.5.0",
      "_view_name": "ButtonView",
      "button_style": "",
      "description": "AdamW uses a completely different approach to optimize model parameters",
      "disabled": false,
      "icon": "",
      "layout": "IPY_MODEL_10d8b127c67448889d0c3b381d06e768",
      "style": "IPY_MODEL_c6dae455f03045bd920cfde7d29877ae",
      "tooltip": ""
     }
    },
    "81051781d7fc4812a8779b683d55b09f": {
     "model_module": "@jupyter-widgets/base",
     "model_module_version": "1.2.0",
     "model_name": "LayoutModel",
     "state": {
      "_model_module": "@jupyter-widgets/base",
      "_model_module_version": "1.2.0",
      "_model_name": "LayoutModel",
      "_view_count": null,
      "_view_module": "@jupyter-widgets/base",
      "_view_module_version": "1.2.0",
      "_view_name": "LayoutView",
      "align_content": null,
      "align_items": null,
      "align_self": null,
      "border": null,
      "bottom": null,
      "display": null,
      "flex": null,
      "flex_flow": null,
      "grid_area": null,
      "grid_auto_columns": null,
      "grid_auto_flow": null,
      "grid_auto_rows": null,
      "grid_column": null,
      "grid_gap": null,
      "grid_row": null,
      "grid_template_areas": null,
      "grid_template_columns": null,
      "grid_template_rows": null,
      "height": "auto",
      "justify_content": null,
      "justify_items": null,
      "left": null,
      "margin": null,
      "max_height": null,
      "max_width": null,
      "min_height": null,
      "min_width": null,
      "object_fit": null,
      "object_position": null,
      "order": null,
      "overflow": "hidden",
      "overflow_x": null,
      "overflow_y": null,
      "padding": null,
      "right": null,
      "top": null,
      "visibility": null,
      "width": "100%"
     }
    },
    "81c1e8d7409648b0bd3aaa66a254d457": {
     "model_module": "@jupyter-widgets/controls",
     "model_module_version": "1.5.0",
     "model_name": "ButtonModel",
     "state": {
      "_dom_classes": [],
      "_model_module": "@jupyter-widgets/controls",
      "_model_module_version": "1.5.0",
      "_model_name": "ButtonModel",
      "_view_count": null,
      "_view_module": "@jupyter-widgets/controls",
      "_view_module_version": "1.5.0",
      "_view_name": "ButtonView",
      "button_style": "",
      "description": "By adding a smoothing term that avoids division by zero",
      "disabled": false,
      "icon": "",
      "layout": "IPY_MODEL_3680d5533061445e88a43b675058a9fb",
      "style": "IPY_MODEL_6a5551f40b0f4745a7d3b2a7e513013e",
      "tooltip": ""
     }
    },
    "82cec8f198224302bb2b1061945aff5f": {
     "model_module": "@jupyter-widgets/controls",
     "model_module_version": "1.5.0",
     "model_name": "ButtonModel",
     "state": {
      "_dom_classes": [],
      "_model_module": "@jupyter-widgets/controls",
      "_model_module_version": "1.5.0",
      "_model_name": "ButtonModel",
      "_view_count": null,
      "_view_module": "@jupyter-widgets/controls",
      "_view_module_version": "1.5.0",
      "_view_name": "ButtonView",
      "button_style": "",
      "description": "When the conventional momentum method is preferred",
      "disabled": false,
      "icon": "",
      "layout": "IPY_MODEL_2556a4a6de7f4f3cb0ce4a67d8e475fe",
      "style": "IPY_MODEL_167a9fea65dc434190883a08944f259c",
      "tooltip": ""
     }
    },
    "82dd2bf3b6b34bf89383596b494c75af": {
     "model_module": "@jupyter-widgets/controls",
     "model_module_version": "1.5.0",
     "model_name": "ButtonModel",
     "state": {
      "_dom_classes": [],
      "_model_module": "@jupyter-widgets/controls",
      "_model_module_version": "1.5.0",
      "_model_name": "ButtonModel",
      "_view_count": null,
      "_view_module": "@jupyter-widgets/controls",
      "_view_module_version": "1.5.0",
      "_view_name": "ButtonView",
      "button_style": "",
      "description": "Increasing the efficiency of model training",
      "disabled": false,
      "icon": "",
      "layout": "IPY_MODEL_5c9ee030298f40daa26f86f24bbd4e0b",
      "style": "IPY_MODEL_7f525a6be0e74cfeb9e75b4cb39d4243",
      "tooltip": ""
     }
    },
    "8545e8dbffb84cf4a931ce639d925d88": {
     "model_module": "@jupyter-widgets/controls",
     "model_module_version": "1.5.0",
     "model_name": "ButtonModel",
     "state": {
      "_dom_classes": [],
      "_model_module": "@jupyter-widgets/controls",
      "_model_module_version": "1.5.0",
      "_model_name": "ButtonModel",
      "_view_count": null,
      "_view_module": "@jupyter-widgets/controls",
      "_view_module_version": "1.5.0",
      "_view_name": "ButtonView",
      "button_style": "",
      "description": "When large amounts of data and complex deep neural network architectures are involved",
      "disabled": false,
      "icon": "",
      "layout": "IPY_MODEL_c7efa4b2d71f4627a7558d5dc76e3072",
      "style": "IPY_MODEL_fa653ea7d14a4e379f5f06ca63263ea2",
      "tooltip": ""
     }
    },
    "85f2f6980ebc4c9e8eb6d198bb54b4d4": {
     "model_module": "@jupyter-widgets/controls",
     "model_module_version": "1.5.0",
     "model_name": "ButtonStyleModel",
     "state": {
      "_model_module": "@jupyter-widgets/controls",
      "_model_module_version": "1.5.0",
      "_model_name": "ButtonStyleModel",
      "_view_count": null,
      "_view_module": "@jupyter-widgets/base",
      "_view_module_version": "1.2.0",
      "_view_name": "StyleView",
      "button_color": "red",
      "font_weight": ""
     }
    },
    "8605341432a24de2910a489cd5e1cc9e": {
     "model_module": "@jupyter-widgets/base",
     "model_module_version": "1.2.0",
     "model_name": "LayoutModel",
     "state": {
      "_model_module": "@jupyter-widgets/base",
      "_model_module_version": "1.2.0",
      "_model_name": "LayoutModel",
      "_view_count": null,
      "_view_module": "@jupyter-widgets/base",
      "_view_module_version": "1.2.0",
      "_view_name": "LayoutView",
      "align_content": null,
      "align_items": null,
      "align_self": null,
      "border": null,
      "bottom": null,
      "display": null,
      "flex": null,
      "flex_flow": null,
      "grid_area": null,
      "grid_auto_columns": null,
      "grid_auto_flow": null,
      "grid_auto_rows": null,
      "grid_column": null,
      "grid_gap": null,
      "grid_row": null,
      "grid_template_areas": null,
      "grid_template_columns": null,
      "grid_template_rows": null,
      "height": "auto",
      "justify_content": null,
      "justify_items": null,
      "left": null,
      "margin": null,
      "max_height": null,
      "max_width": null,
      "min_height": null,
      "min_width": null,
      "object_fit": null,
      "object_position": null,
      "order": null,
      "overflow": "hidden",
      "overflow_x": null,
      "overflow_y": null,
      "padding": null,
      "right": null,
      "top": null,
      "visibility": null,
      "width": "100%"
     }
    },
    "876e45d9bf4f41eab84d6bf616b374cb": {
     "model_module": "@jupyter-widgets/controls",
     "model_module_version": "1.5.0",
     "model_name": "ButtonModel",
     "state": {
      "_dom_classes": [],
      "_model_module": "@jupyter-widgets/controls",
      "_model_module_version": "1.5.0",
      "_model_name": "ButtonModel",
      "_view_count": null,
      "_view_module": "@jupyter-widgets/controls",
      "_view_module_version": "1.5.0",
      "_view_name": "ButtonView",
      "button_style": "",
      "description": "It applies weight regularization directly to model parameters rather than to gradients",
      "disabled": false,
      "icon": "",
      "layout": "IPY_MODEL_08cd208fd64f4e9f8720dddc8c03dd15",
      "style": "IPY_MODEL_9d8477d464e64e4f8f9c65677f27c71d",
      "tooltip": ""
     }
    },
    "877cb73c6c6b4c2aa9100dc227f2f5fa": {
     "model_module": "@jupyter-widgets/controls",
     "model_module_version": "1.5.0",
     "model_name": "ButtonModel",
     "state": {
      "_dom_classes": [],
      "_model_module": "@jupyter-widgets/controls",
      "_model_module_version": "1.5.0",
      "_model_name": "ButtonModel",
      "_view_count": null,
      "_view_module": "@jupyter-widgets/controls",
      "_view_module_version": "1.5.0",
      "_view_name": "ButtonView",
      "button_style": "",
      "description": "Nesterov",
      "disabled": false,
      "icon": "",
      "layout": "IPY_MODEL_551731e9a45f4844bc7acc422f6c0414",
      "style": "IPY_MODEL_8bc86d308234441a821fbd1a73fb3d92",
      "tooltip": ""
     }
    },
    "878f5bbc429d4371b63d08243dff3349": {
     "model_module": "@jupyter-widgets/controls",
     "model_module_version": "1.5.0",
     "model_name": "ButtonModel",
     "state": {
      "_dom_classes": [],
      "_model_module": "@jupyter-widgets/controls",
      "_model_module_version": "1.5.0",
      "_model_name": "ButtonModel",
      "_view_count": null,
      "_view_module": "@jupyter-widgets/controls",
      "_view_module_version": "1.5.0",
      "_view_name": "ButtonView",
      "button_style": "",
      "description": "NAG ignores the accumulated gradient for making updates.",
      "disabled": false,
      "icon": "",
      "layout": "IPY_MODEL_a456fd249d4048b8a0449a29d0df3f00",
      "style": "IPY_MODEL_2cdc5d5f1e9b441da8df930414373544",
      "tooltip": ""
     }
    },
    "87a0fcef6df048a7b4af09ab93abe5b5": {
     "model_module": "@jupyter-widgets/controls",
     "model_module_version": "1.5.0",
     "model_name": "ButtonStyleModel",
     "state": {
      "_model_module": "@jupyter-widgets/controls",
      "_model_module_version": "1.5.0",
      "_model_name": "ButtonStyleModel",
      "_view_count": null,
      "_view_module": "@jupyter-widgets/base",
      "_view_module_version": "1.2.0",
      "_view_name": "StyleView",
      "button_color": "lightgray",
      "font_weight": ""
     }
    },
    "87e9c8257bd74abfbc903261c8f1b168": {
     "model_module": "@jupyter-widgets/controls",
     "model_module_version": "1.5.0",
     "model_name": "ButtonModel",
     "state": {
      "_dom_classes": [],
      "_model_module": "@jupyter-widgets/controls",
      "_model_module_version": "1.5.0",
      "_model_name": "ButtonModel",
      "_view_count": null,
      "_view_module": "@jupyter-widgets/controls",
      "_view_module_version": "1.5.0",
      "_view_name": "ButtonView",
      "button_style": "",
      "description": "It changes the way gradients are calculated",
      "disabled": false,
      "icon": "",
      "layout": "IPY_MODEL_cd709f66a8f140198e0fa86042d743c7",
      "style": "IPY_MODEL_7a2f115e227f4a30b406d16753491ec1",
      "tooltip": ""
     }
    },
    "88d661cfefb14cab95600518156bc8a8": {
     "model_module": "@jupyter-widgets/base",
     "model_module_version": "1.2.0",
     "model_name": "LayoutModel",
     "state": {
      "_model_module": "@jupyter-widgets/base",
      "_model_module_version": "1.2.0",
      "_model_name": "LayoutModel",
      "_view_count": null,
      "_view_module": "@jupyter-widgets/base",
      "_view_module_version": "1.2.0",
      "_view_name": "LayoutView",
      "align_content": null,
      "align_items": null,
      "align_self": null,
      "border": null,
      "bottom": null,
      "display": null,
      "flex": null,
      "flex_flow": null,
      "grid_area": null,
      "grid_auto_columns": null,
      "grid_auto_flow": null,
      "grid_auto_rows": null,
      "grid_column": null,
      "grid_gap": null,
      "grid_row": null,
      "grid_template_areas": null,
      "grid_template_columns": null,
      "grid_template_rows": null,
      "height": "auto",
      "justify_content": null,
      "justify_items": null,
      "left": null,
      "margin": null,
      "max_height": null,
      "max_width": null,
      "min_height": null,
      "min_width": null,
      "object_fit": null,
      "object_position": null,
      "order": null,
      "overflow": "hidden",
      "overflow_x": null,
      "overflow_y": null,
      "padding": null,
      "right": null,
      "top": null,
      "visibility": null,
      "width": "100%"
     }
    },
    "8aee710282aa476dbba9a52bf0906b44": {
     "model_module": "@jupyter-widgets/base",
     "model_module_version": "1.2.0",
     "model_name": "LayoutModel",
     "state": {
      "_model_module": "@jupyter-widgets/base",
      "_model_module_version": "1.2.0",
      "_model_name": "LayoutModel",
      "_view_count": null,
      "_view_module": "@jupyter-widgets/base",
      "_view_module_version": "1.2.0",
      "_view_name": "LayoutView",
      "align_content": null,
      "align_items": null,
      "align_self": null,
      "border": null,
      "bottom": null,
      "display": null,
      "flex": null,
      "flex_flow": null,
      "grid_area": null,
      "grid_auto_columns": null,
      "grid_auto_flow": null,
      "grid_auto_rows": null,
      "grid_column": null,
      "grid_gap": null,
      "grid_row": null,
      "grid_template_areas": null,
      "grid_template_columns": null,
      "grid_template_rows": null,
      "height": null,
      "justify_content": null,
      "justify_items": null,
      "left": null,
      "margin": null,
      "max_height": null,
      "max_width": null,
      "min_height": null,
      "min_width": null,
      "object_fit": null,
      "object_position": null,
      "order": null,
      "overflow": null,
      "overflow_x": null,
      "overflow_y": null,
      "padding": null,
      "right": null,
      "top": null,
      "visibility": null,
      "width": null
     }
    },
    "8b66d9a1d6fa4a53a42ae9b0e582d96b": {
     "model_module": "@jupyter-widgets/controls",
     "model_module_version": "1.5.0",
     "model_name": "ButtonStyleModel",
     "state": {
      "_model_module": "@jupyter-widgets/controls",
      "_model_module_version": "1.5.0",
      "_model_name": "ButtonStyleModel",
      "_view_count": null,
      "_view_module": "@jupyter-widgets/base",
      "_view_module_version": "1.2.0",
      "_view_name": "StyleView",
      "button_color": "lightgreen",
      "font_weight": ""
     }
    },
    "8bc86d308234441a821fbd1a73fb3d92": {
     "model_module": "@jupyter-widgets/controls",
     "model_module_version": "1.5.0",
     "model_name": "ButtonStyleModel",
     "state": {
      "_model_module": "@jupyter-widgets/controls",
      "_model_module_version": "1.5.0",
      "_model_name": "ButtonStyleModel",
      "_view_count": null,
      "_view_module": "@jupyter-widgets/base",
      "_view_module_version": "1.2.0",
      "_view_name": "StyleView",
      "button_color": null,
      "font_weight": ""
     }
    },
    "8dc4a35476e04e13a0abe9620391b491": {
     "model_module": "@jupyter-widgets/base",
     "model_module_version": "1.2.0",
     "model_name": "LayoutModel",
     "state": {
      "_model_module": "@jupyter-widgets/base",
      "_model_module_version": "1.2.0",
      "_model_name": "LayoutModel",
      "_view_count": null,
      "_view_module": "@jupyter-widgets/base",
      "_view_module_version": "1.2.0",
      "_view_name": "LayoutView",
      "align_content": null,
      "align_items": null,
      "align_self": null,
      "border": null,
      "bottom": null,
      "display": null,
      "flex": null,
      "flex_flow": null,
      "grid_area": null,
      "grid_auto_columns": null,
      "grid_auto_flow": null,
      "grid_auto_rows": null,
      "grid_column": null,
      "grid_gap": null,
      "grid_row": null,
      "grid_template_areas": null,
      "grid_template_columns": null,
      "grid_template_rows": null,
      "height": "auto",
      "justify_content": null,
      "justify_items": null,
      "left": null,
      "margin": null,
      "max_height": null,
      "max_width": null,
      "min_height": null,
      "min_width": null,
      "object_fit": null,
      "object_position": null,
      "order": null,
      "overflow": "hidden",
      "overflow_x": null,
      "overflow_y": null,
      "padding": null,
      "right": null,
      "top": null,
      "visibility": null,
      "width": "100%"
     }
    },
    "8dc52a5e05c74932aa6f99b79468fd16": {
     "model_module": "@jupyter-widgets/base",
     "model_module_version": "1.2.0",
     "model_name": "LayoutModel",
     "state": {
      "_model_module": "@jupyter-widgets/base",
      "_model_module_version": "1.2.0",
      "_model_name": "LayoutModel",
      "_view_count": null,
      "_view_module": "@jupyter-widgets/base",
      "_view_module_version": "1.2.0",
      "_view_name": "LayoutView",
      "align_content": null,
      "align_items": null,
      "align_self": null,
      "border": null,
      "bottom": null,
      "display": null,
      "flex": null,
      "flex_flow": null,
      "grid_area": null,
      "grid_auto_columns": null,
      "grid_auto_flow": null,
      "grid_auto_rows": null,
      "grid_column": null,
      "grid_gap": null,
      "grid_row": null,
      "grid_template_areas": null,
      "grid_template_columns": null,
      "grid_template_rows": null,
      "height": "auto",
      "justify_content": null,
      "justify_items": null,
      "left": null,
      "margin": null,
      "max_height": null,
      "max_width": null,
      "min_height": null,
      "min_width": null,
      "object_fit": null,
      "object_position": null,
      "order": null,
      "overflow": "hidden",
      "overflow_x": null,
      "overflow_y": null,
      "padding": null,
      "right": null,
      "top": null,
      "visibility": null,
      "width": "100%"
     }
    },
    "8e5c84dcabd642aa87d7085dd5c22c62": {
     "model_module": "@jupyter-widgets/base",
     "model_module_version": "1.2.0",
     "model_name": "LayoutModel",
     "state": {
      "_model_module": "@jupyter-widgets/base",
      "_model_module_version": "1.2.0",
      "_model_name": "LayoutModel",
      "_view_count": null,
      "_view_module": "@jupyter-widgets/base",
      "_view_module_version": "1.2.0",
      "_view_name": "LayoutView",
      "align_content": null,
      "align_items": null,
      "align_self": null,
      "border": null,
      "bottom": null,
      "display": null,
      "flex": null,
      "flex_flow": null,
      "grid_area": null,
      "grid_auto_columns": null,
      "grid_auto_flow": null,
      "grid_auto_rows": null,
      "grid_column": null,
      "grid_gap": null,
      "grid_row": null,
      "grid_template_areas": null,
      "grid_template_columns": null,
      "grid_template_rows": null,
      "height": "auto",
      "justify_content": null,
      "justify_items": null,
      "left": null,
      "margin": null,
      "max_height": null,
      "max_width": null,
      "min_height": null,
      "min_width": null,
      "object_fit": null,
      "object_position": null,
      "order": null,
      "overflow": "hidden",
      "overflow_x": null,
      "overflow_y": null,
      "padding": null,
      "right": null,
      "top": null,
      "visibility": null,
      "width": "100%"
     }
    },
    "8fe5e185479f45a1b4a16f9617c9c4e0": {
     "model_module": "@jupyter-widgets/controls",
     "model_module_version": "1.5.0",
     "model_name": "ButtonStyleModel",
     "state": {
      "_model_module": "@jupyter-widgets/controls",
      "_model_module_version": "1.5.0",
      "_model_name": "ButtonStyleModel",
      "_view_count": null,
      "_view_module": "@jupyter-widgets/base",
      "_view_module_version": "1.2.0",
      "_view_name": "StyleView",
      "button_color": null,
      "font_weight": ""
     }
    },
    "906af7e9de934c4daaa21397184a73a2": {
     "model_module": "@jupyter-widgets/base",
     "model_module_version": "1.2.0",
     "model_name": "LayoutModel",
     "state": {
      "_model_module": "@jupyter-widgets/base",
      "_model_module_version": "1.2.0",
      "_model_name": "LayoutModel",
      "_view_count": null,
      "_view_module": "@jupyter-widgets/base",
      "_view_module_version": "1.2.0",
      "_view_name": "LayoutView",
      "align_content": null,
      "align_items": null,
      "align_self": null,
      "border": null,
      "bottom": null,
      "display": null,
      "flex": null,
      "flex_flow": null,
      "grid_area": null,
      "grid_auto_columns": null,
      "grid_auto_flow": null,
      "grid_auto_rows": null,
      "grid_column": null,
      "grid_gap": null,
      "grid_row": null,
      "grid_template_areas": null,
      "grid_template_columns": null,
      "grid_template_rows": null,
      "height": "auto",
      "justify_content": null,
      "justify_items": null,
      "left": null,
      "margin": null,
      "max_height": null,
      "max_width": null,
      "min_height": null,
      "min_width": null,
      "object_fit": null,
      "object_position": null,
      "order": null,
      "overflow": "hidden",
      "overflow_x": null,
      "overflow_y": null,
      "padding": null,
      "right": null,
      "top": null,
      "visibility": null,
      "width": "100%"
     }
    },
    "91085c93286a44808173997fe12a8b61": {
     "model_module": "@jupyter-widgets/controls",
     "model_module_version": "1.5.0",
     "model_name": "ButtonStyleModel",
     "state": {
      "_model_module": "@jupyter-widgets/controls",
      "_model_module_version": "1.5.0",
      "_model_name": "ButtonStyleModel",
      "_view_count": null,
      "_view_module": "@jupyter-widgets/base",
      "_view_module_version": "1.2.0",
      "_view_name": "StyleView",
      "button_color": "red",
      "font_weight": ""
     }
    },
    "94b108e267004efc9d4c82ce347212ec": {
     "model_module": "@jupyter-widgets/controls",
     "model_module_version": "1.5.0",
     "model_name": "ButtonStyleModel",
     "state": {
      "_model_module": "@jupyter-widgets/controls",
      "_model_module_version": "1.5.0",
      "_model_name": "ButtonStyleModel",
      "_view_count": null,
      "_view_module": "@jupyter-widgets/base",
      "_view_module_version": "1.2.0",
      "_view_name": "StyleView",
      "button_color": "red",
      "font_weight": ""
     }
    },
    "954690ef8e9044bb85be8a50e619c9d3": {
     "model_module": "@jupyter-widgets/controls",
     "model_module_version": "1.5.0",
     "model_name": "ButtonModel",
     "state": {
      "_dom_classes": [],
      "_model_module": "@jupyter-widgets/controls",
      "_model_module_version": "1.5.0",
      "_model_name": "ButtonModel",
      "_view_count": null,
      "_view_module": "@jupyter-widgets/controls",
      "_view_module_version": "1.5.0",
      "_view_name": "ButtonView",
      "button_style": "",
      "description": "Gradient Descent",
      "disabled": false,
      "icon": "",
      "layout": "IPY_MODEL_8dc4a35476e04e13a0abe9620391b491",
      "style": "IPY_MODEL_2f287cd211f3440db5de8575846d4457",
      "tooltip": ""
     }
    },
    "985738e5b3314882b62cde95bb09cd7b": {
     "model_module": "@jupyter-widgets/base",
     "model_module_version": "1.2.0",
     "model_name": "LayoutModel",
     "state": {
      "_model_module": "@jupyter-widgets/base",
      "_model_module_version": "1.2.0",
      "_model_name": "LayoutModel",
      "_view_count": null,
      "_view_module": "@jupyter-widgets/base",
      "_view_module_version": "1.2.0",
      "_view_name": "LayoutView",
      "align_content": null,
      "align_items": null,
      "align_self": null,
      "border": null,
      "bottom": null,
      "display": null,
      "flex": null,
      "flex_flow": null,
      "grid_area": null,
      "grid_auto_columns": null,
      "grid_auto_flow": null,
      "grid_auto_rows": null,
      "grid_column": null,
      "grid_gap": null,
      "grid_row": null,
      "grid_template_areas": null,
      "grid_template_columns": null,
      "grid_template_rows": null,
      "height": "auto",
      "justify_content": null,
      "justify_items": null,
      "left": null,
      "margin": null,
      "max_height": null,
      "max_width": null,
      "min_height": null,
      "min_width": null,
      "object_fit": null,
      "object_position": null,
      "order": null,
      "overflow": "hidden",
      "overflow_x": null,
      "overflow_y": null,
      "padding": null,
      "right": null,
      "top": null,
      "visibility": null,
      "width": "100%"
     }
    },
    "996452aa6b6f4e0fbce79ed8d7824ef3": {
     "model_module": "@jupyter-widgets/controls",
     "model_module_version": "1.5.0",
     "model_name": "ButtonStyleModel",
     "state": {
      "_model_module": "@jupyter-widgets/controls",
      "_model_module_version": "1.5.0",
      "_model_name": "ButtonStyleModel",
      "_view_count": null,
      "_view_module": "@jupyter-widgets/base",
      "_view_module_version": "1.2.0",
      "_view_name": "StyleView",
      "button_color": "lightgreen",
      "font_weight": ""
     }
    },
    "9b0504517caf46d790063de6b6ab4f07": {
     "model_module": "@jupyter-widgets/controls",
     "model_module_version": "1.5.0",
     "model_name": "ButtonStyleModel",
     "state": {
      "_model_module": "@jupyter-widgets/controls",
      "_model_module_version": "1.5.0",
      "_model_name": "ButtonStyleModel",
      "_view_count": null,
      "_view_module": "@jupyter-widgets/base",
      "_view_module_version": "1.2.0",
      "_view_name": "StyleView",
      "button_color": "red",
      "font_weight": ""
     }
    },
    "9b22a9ba61d64eaf9c45046c98d7c97f": {
     "model_module": "@jupyter-widgets/base",
     "model_module_version": "1.2.0",
     "model_name": "LayoutModel",
     "state": {
      "_model_module": "@jupyter-widgets/base",
      "_model_module_version": "1.2.0",
      "_model_name": "LayoutModel",
      "_view_count": null,
      "_view_module": "@jupyter-widgets/base",
      "_view_module_version": "1.2.0",
      "_view_name": "LayoutView",
      "align_content": null,
      "align_items": null,
      "align_self": null,
      "border": null,
      "bottom": null,
      "display": null,
      "flex": null,
      "flex_flow": null,
      "grid_area": null,
      "grid_auto_columns": null,
      "grid_auto_flow": null,
      "grid_auto_rows": null,
      "grid_column": null,
      "grid_gap": null,
      "grid_row": null,
      "grid_template_areas": null,
      "grid_template_columns": null,
      "grid_template_rows": null,
      "height": "auto",
      "justify_content": null,
      "justify_items": null,
      "left": null,
      "margin": null,
      "max_height": null,
      "max_width": null,
      "min_height": null,
      "min_width": null,
      "object_fit": null,
      "object_position": null,
      "order": null,
      "overflow": "hidden",
      "overflow_x": null,
      "overflow_y": null,
      "padding": null,
      "right": null,
      "top": null,
      "visibility": null,
      "width": "100%"
     }
    },
    "9b3e4cdc08304de3b709b3d1f27226de": {
     "model_module": "@jupyter-widgets/controls",
     "model_module_version": "1.5.0",
     "model_name": "ButtonModel",
     "state": {
      "_dom_classes": [],
      "_model_module": "@jupyter-widgets/controls",
      "_model_module_version": "1.5.0",
      "_model_name": "ButtonModel",
      "_view_count": null,
      "_view_module": "@jupyter-widgets/controls",
      "_view_module_version": "1.5.0",
      "_view_name": "ButtonView",
      "button_style": "",
      "description": "Application of stochasticity",
      "disabled": false,
      "icon": "",
      "layout": "IPY_MODEL_58cf8ef28aa6485caffe981945b3141d",
      "style": "IPY_MODEL_d63e50bdcc3e4c40b138837079825a8d",
      "tooltip": ""
     }
    },
    "9bd142fa5922487cbad07c58b9e3f55a": {
     "model_module": "@jupyter-widgets/controls",
     "model_module_version": "1.5.0",
     "model_name": "ButtonStyleModel",
     "state": {
      "_model_module": "@jupyter-widgets/controls",
      "_model_module_version": "1.5.0",
      "_model_name": "ButtonStyleModel",
      "_view_count": null,
      "_view_module": "@jupyter-widgets/base",
      "_view_module_version": "1.2.0",
      "_view_name": "StyleView",
      "button_color": "lightgray",
      "font_weight": ""
     }
    },
    "9d8477d464e64e4f8f9c65677f27c71d": {
     "model_module": "@jupyter-widgets/controls",
     "model_module_version": "1.5.0",
     "model_name": "ButtonStyleModel",
     "state": {
      "_model_module": "@jupyter-widgets/controls",
      "_model_module_version": "1.5.0",
      "_model_name": "ButtonStyleModel",
      "_view_count": null,
      "_view_module": "@jupyter-widgets/base",
      "_view_module_version": "1.2.0",
      "_view_name": "StyleView",
      "button_color": "lightgreen",
      "font_weight": ""
     }
    },
    "9f10878c5b444fd8903dc906f70cf9d7": {
     "model_module": "@jupyter-widgets/controls",
     "model_module_version": "1.5.0",
     "model_name": "ButtonStyleModel",
     "state": {
      "_model_module": "@jupyter-widgets/controls",
      "_model_module_version": "1.5.0",
      "_model_name": "ButtonStyleModel",
      "_view_count": null,
      "_view_module": "@jupyter-widgets/base",
      "_view_module_version": "1.2.0",
      "_view_name": "StyleView",
      "button_color": "lightgreen",
      "font_weight": ""
     }
    },
    "a018c84082374f4f9d5857d8cc1054f6": {
     "model_module": "@jupyter-widgets/base",
     "model_module_version": "1.2.0",
     "model_name": "LayoutModel",
     "state": {
      "_model_module": "@jupyter-widgets/base",
      "_model_module_version": "1.2.0",
      "_model_name": "LayoutModel",
      "_view_count": null,
      "_view_module": "@jupyter-widgets/base",
      "_view_module_version": "1.2.0",
      "_view_name": "LayoutView",
      "align_content": null,
      "align_items": null,
      "align_self": null,
      "border": null,
      "bottom": null,
      "display": null,
      "flex": null,
      "flex_flow": null,
      "grid_area": null,
      "grid_auto_columns": null,
      "grid_auto_flow": null,
      "grid_auto_rows": null,
      "grid_column": null,
      "grid_gap": null,
      "grid_row": null,
      "grid_template_areas": null,
      "grid_template_columns": null,
      "grid_template_rows": null,
      "height": "auto",
      "justify_content": null,
      "justify_items": null,
      "left": null,
      "margin": null,
      "max_height": null,
      "max_width": null,
      "min_height": null,
      "min_width": null,
      "object_fit": null,
      "object_position": null,
      "order": null,
      "overflow": "hidden",
      "overflow_x": null,
      "overflow_y": null,
      "padding": null,
      "right": null,
      "top": null,
      "visibility": null,
      "width": "100%"
     }
    },
    "a0cb220c767344868fe1e057df0e66c5": {
     "model_module": "@jupyter-widgets/controls",
     "model_module_version": "1.5.0",
     "model_name": "ButtonModel",
     "state": {
      "_dom_classes": [],
      "_model_module": "@jupyter-widgets/controls",
      "_model_module_version": "1.5.0",
      "_model_name": "ButtonModel",
      "_view_count": null,
      "_view_module": "@jupyter-widgets/controls",
      "_view_module_version": "1.5.0",
      "_view_name": "ButtonView",
      "button_style": "",
      "description": "When a simple neural network architecture is used",
      "disabled": false,
      "icon": "",
      "layout": "IPY_MODEL_cd1c8c9b171343119c10b39e6453020b",
      "style": "IPY_MODEL_4ca33583b255445bb3d2f5e4e59fc4bb",
      "tooltip": ""
     }
    },
    "a241eb34e7ca4feab7ad717f28e0e872": {
     "model_module": "@jupyter-widgets/base",
     "model_module_version": "1.2.0",
     "model_name": "LayoutModel",
     "state": {
      "_model_module": "@jupyter-widgets/base",
      "_model_module_version": "1.2.0",
      "_model_name": "LayoutModel",
      "_view_count": null,
      "_view_module": "@jupyter-widgets/base",
      "_view_module_version": "1.2.0",
      "_view_name": "LayoutView",
      "align_content": null,
      "align_items": null,
      "align_self": null,
      "border": null,
      "bottom": null,
      "display": null,
      "flex": null,
      "flex_flow": null,
      "grid_area": null,
      "grid_auto_columns": null,
      "grid_auto_flow": null,
      "grid_auto_rows": null,
      "grid_column": null,
      "grid_gap": null,
      "grid_row": null,
      "grid_template_areas": null,
      "grid_template_columns": null,
      "grid_template_rows": null,
      "height": "auto",
      "justify_content": null,
      "justify_items": null,
      "left": null,
      "margin": null,
      "max_height": null,
      "max_width": null,
      "min_height": null,
      "min_width": null,
      "object_fit": null,
      "object_position": null,
      "order": null,
      "overflow": "hidden",
      "overflow_x": null,
      "overflow_y": null,
      "padding": null,
      "right": null,
      "top": null,
      "visibility": null,
      "width": "100%"
     }
    },
    "a456fd249d4048b8a0449a29d0df3f00": {
     "model_module": "@jupyter-widgets/base",
     "model_module_version": "1.2.0",
     "model_name": "LayoutModel",
     "state": {
      "_model_module": "@jupyter-widgets/base",
      "_model_module_version": "1.2.0",
      "_model_name": "LayoutModel",
      "_view_count": null,
      "_view_module": "@jupyter-widgets/base",
      "_view_module_version": "1.2.0",
      "_view_name": "LayoutView",
      "align_content": null,
      "align_items": null,
      "align_self": null,
      "border": null,
      "bottom": null,
      "display": null,
      "flex": null,
      "flex_flow": null,
      "grid_area": null,
      "grid_auto_columns": null,
      "grid_auto_flow": null,
      "grid_auto_rows": null,
      "grid_column": null,
      "grid_gap": null,
      "grid_row": null,
      "grid_template_areas": null,
      "grid_template_columns": null,
      "grid_template_rows": null,
      "height": "auto",
      "justify_content": null,
      "justify_items": null,
      "left": null,
      "margin": null,
      "max_height": null,
      "max_width": null,
      "min_height": null,
      "min_width": null,
      "object_fit": null,
      "object_position": null,
      "order": null,
      "overflow": "hidden",
      "overflow_x": null,
      "overflow_y": null,
      "padding": null,
      "right": null,
      "top": null,
      "visibility": null,
      "width": "100%"
     }
    },
    "a459e511fd224396b113cf3e1fa1f126": {
     "model_module": "@jupyter-widgets/base",
     "model_module_version": "1.2.0",
     "model_name": "LayoutModel",
     "state": {
      "_model_module": "@jupyter-widgets/base",
      "_model_module_version": "1.2.0",
      "_model_name": "LayoutModel",
      "_view_count": null,
      "_view_module": "@jupyter-widgets/base",
      "_view_module_version": "1.2.0",
      "_view_name": "LayoutView",
      "align_content": null,
      "align_items": null,
      "align_self": null,
      "border": null,
      "bottom": null,
      "display": null,
      "flex": null,
      "flex_flow": null,
      "grid_area": null,
      "grid_auto_columns": null,
      "grid_auto_flow": null,
      "grid_auto_rows": null,
      "grid_column": null,
      "grid_gap": null,
      "grid_row": null,
      "grid_template_areas": null,
      "grid_template_columns": null,
      "grid_template_rows": null,
      "height": "auto",
      "justify_content": null,
      "justify_items": null,
      "left": null,
      "margin": null,
      "max_height": null,
      "max_width": null,
      "min_height": null,
      "min_width": null,
      "object_fit": null,
      "object_position": null,
      "order": null,
      "overflow": "hidden",
      "overflow_x": null,
      "overflow_y": null,
      "padding": null,
      "right": null,
      "top": null,
      "visibility": null,
      "width": "100%"
     }
    },
    "a4b803d6c337453aa58819f52b2aae0d": {
     "model_module": "@jupyter-widgets/controls",
     "model_module_version": "1.5.0",
     "model_name": "ButtonModel",
     "state": {
      "_dom_classes": [],
      "_model_module": "@jupyter-widgets/controls",
      "_model_module_version": "1.5.0",
      "_model_name": "ButtonModel",
      "_view_count": null,
      "_view_module": "@jupyter-widgets/controls",
      "_view_module_version": "1.5.0",
      "_view_name": "ButtonView",
      "button_style": "",
      "description": "When determining the ideal model weights",
      "disabled": false,
      "icon": "",
      "layout": "IPY_MODEL_3aefe23cf1ee42a1ae1788d180b09e72",
      "style": "IPY_MODEL_419090ac83e147e18b580111bd80c9b9",
      "tooltip": ""
     }
    },
    "a6073406094a4b1bbe6838ddab1e7e79": {
     "model_module": "@jupyter-widgets/controls",
     "model_module_version": "1.5.0",
     "model_name": "ButtonModel",
     "state": {
      "_dom_classes": [],
      "_model_module": "@jupyter-widgets/controls",
      "_model_module_version": "1.5.0",
      "_model_name": "ButtonModel",
      "_view_count": null,
      "_view_module": "@jupyter-widgets/controls",
      "_view_module_version": "1.5.0",
      "_view_name": "ButtonView",
      "button_style": "",
      "description": "Minimizing the loss function",
      "disabled": false,
      "icon": "",
      "layout": "IPY_MODEL_134ddae4aef941e9a095e17980ebcd93",
      "style": "IPY_MODEL_037980e7e7674c28ac751046867300f3",
      "tooltip": ""
     }
    },
    "a662e09e206c4076812f4366415da670": {
     "model_module": "@jupyter-widgets/controls",
     "model_module_version": "1.5.0",
     "model_name": "ButtonStyleModel",
     "state": {
      "_model_module": "@jupyter-widgets/controls",
      "_model_module_version": "1.5.0",
      "_model_name": "ButtonStyleModel",
      "_view_count": null,
      "_view_module": "@jupyter-widgets/base",
      "_view_module_version": "1.2.0",
      "_view_name": "StyleView",
      "button_color": "lightgray",
      "font_weight": ""
     }
    },
    "a738dedfb2c24ce49660e63c9d9bf800": {
     "model_module": "@jupyter-widgets/controls",
     "model_module_version": "1.5.0",
     "model_name": "ButtonModel",
     "state": {
      "_dom_classes": [],
      "_model_module": "@jupyter-widgets/controls",
      "_model_module_version": "1.5.0",
      "_model_name": "ButtonModel",
      "_view_count": null,
      "_view_module": "@jupyter-widgets/controls",
      "_view_module_version": "1.5.0",
      "_view_name": "ButtonView",
      "button_style": "",
      "description": "RMSprop",
      "disabled": false,
      "icon": "",
      "layout": "IPY_MODEL_4ec3fe36f6bb47d0b84287082dfd28fe",
      "style": "IPY_MODEL_4aeeaba248be499480a27845f795003c",
      "tooltip": ""
     }
    },
    "a774dcf682b0400daaab947e93460dcc": {
     "model_module": "@jupyter-widgets/controls",
     "model_module_version": "1.5.0",
     "model_name": "ButtonModel",
     "state": {
      "_dom_classes": [],
      "_model_module": "@jupyter-widgets/controls",
      "_model_module_version": "1.5.0",
      "_model_name": "ButtonModel",
      "_view_count": null,
      "_view_module": "@jupyter-widgets/controls",
      "_view_module_version": "1.5.0",
      "_view_name": "ButtonView",
      "button_style": "",
      "description": "More frequent oscillations in parameter updates.",
      "disabled": false,
      "icon": "",
      "layout": "IPY_MODEL_0b4caa40a14e43aab55c6928bc48c1e9",
      "style": "IPY_MODEL_ccfb351d983849698162da6cff3bc8ae",
      "tooltip": ""
     }
    },
    "aa0e2cba8abd485682b207aa60568f79": {
     "model_module": "@jupyter-widgets/controls",
     "model_module_version": "1.5.0",
     "model_name": "ButtonModel",
     "state": {
      "_dom_classes": [],
      "_model_module": "@jupyter-widgets/controls",
      "_model_module_version": "1.5.0",
      "_model_name": "ButtonModel",
      "_view_count": null,
      "_view_module": "@jupyter-widgets/controls",
      "_view_module_version": "1.5.0",
      "_view_name": "ButtonView",
      "button_style": "",
      "description": "Maximizing the loss function",
      "disabled": false,
      "icon": "",
      "layout": "IPY_MODEL_3fbf19ef1dc24db692cf06cce2f907a4",
      "style": "IPY_MODEL_0f44ad76c4744db78d7f2d0ade3e26da",
      "tooltip": ""
     }
    },
    "aa7b66a8a33746dfb3f99be680c15ed0": {
     "model_module": "@jupyter-widgets/base",
     "model_module_version": "1.2.0",
     "model_name": "LayoutModel",
     "state": {
      "_model_module": "@jupyter-widgets/base",
      "_model_module_version": "1.2.0",
      "_model_name": "LayoutModel",
      "_view_count": null,
      "_view_module": "@jupyter-widgets/base",
      "_view_module_version": "1.2.0",
      "_view_name": "LayoutView",
      "align_content": null,
      "align_items": null,
      "align_self": null,
      "border": null,
      "bottom": null,
      "display": null,
      "flex": null,
      "flex_flow": null,
      "grid_area": null,
      "grid_auto_columns": null,
      "grid_auto_flow": null,
      "grid_auto_rows": null,
      "grid_column": null,
      "grid_gap": null,
      "grid_row": null,
      "grid_template_areas": null,
      "grid_template_columns": null,
      "grid_template_rows": null,
      "height": "auto",
      "justify_content": null,
      "justify_items": null,
      "left": null,
      "margin": null,
      "max_height": null,
      "max_width": null,
      "min_height": null,
      "min_width": null,
      "object_fit": null,
      "object_position": null,
      "order": null,
      "overflow": "hidden",
      "overflow_x": null,
      "overflow_y": null,
      "padding": null,
      "right": null,
      "top": null,
      "visibility": null,
      "width": "100%"
     }
    },
    "ab1496e4a29c40048b6f3b4798018006": {
     "model_module": "@jupyter-widgets/controls",
     "model_module_version": "1.5.0",
     "model_name": "ButtonModel",
     "state": {
      "_dom_classes": [],
      "_model_module": "@jupyter-widgets/controls",
      "_model_module_version": "1.5.0",
      "_model_name": "ButtonModel",
      "_view_count": null,
      "_view_module": "@jupyter-widgets/controls",
      "_view_module_version": "1.5.0",
      "_view_name": "ButtonView",
      "button_style": "",
      "description": "Adadelta",
      "disabled": false,
      "icon": "",
      "layout": "IPY_MODEL_6a62a20807414726b341db8b4e5686e7",
      "style": "IPY_MODEL_87a0fcef6df048a7b4af09ab93abe5b5",
      "tooltip": ""
     }
    },
    "aca018fe726140f49e42812d7608cc84": {
     "model_module": "@jupyter-widgets/base",
     "model_module_version": "1.2.0",
     "model_name": "LayoutModel",
     "state": {
      "_model_module": "@jupyter-widgets/base",
      "_model_module_version": "1.2.0",
      "_model_name": "LayoutModel",
      "_view_count": null,
      "_view_module": "@jupyter-widgets/base",
      "_view_module_version": "1.2.0",
      "_view_name": "LayoutView",
      "align_content": null,
      "align_items": null,
      "align_self": null,
      "border": null,
      "bottom": null,
      "display": null,
      "flex": null,
      "flex_flow": null,
      "grid_area": null,
      "grid_auto_columns": null,
      "grid_auto_flow": null,
      "grid_auto_rows": null,
      "grid_column": null,
      "grid_gap": null,
      "grid_row": null,
      "grid_template_areas": null,
      "grid_template_columns": null,
      "grid_template_rows": null,
      "height": "auto",
      "justify_content": null,
      "justify_items": null,
      "left": null,
      "margin": null,
      "max_height": null,
      "max_width": null,
      "min_height": null,
      "min_width": null,
      "object_fit": null,
      "object_position": null,
      "order": null,
      "overflow": "hidden",
      "overflow_x": null,
      "overflow_y": null,
      "padding": null,
      "right": null,
      "top": null,
      "visibility": null,
      "width": "100%"
     }
    },
    "ad197f79b3ab43bcb93677a1120c0547": {
     "model_module": "@jupyter-widgets/controls",
     "model_module_version": "1.5.0",
     "model_name": "ButtonModel",
     "state": {
      "_dom_classes": [],
      "_model_module": "@jupyter-widgets/controls",
      "_model_module_version": "1.5.0",
      "_model_name": "ButtonModel",
      "_view_count": null,
      "_view_module": "@jupyter-widgets/controls",
      "_view_module_version": "1.5.0",
      "_view_name": "ButtonView",
      "button_style": "",
      "description": "Number of epochs",
      "disabled": false,
      "icon": "",
      "layout": "IPY_MODEL_8dc52a5e05c74932aa6f99b79468fd16",
      "style": "IPY_MODEL_23116ee6f70347dc986e5b309fbb4807",
      "tooltip": ""
     }
    },
    "ad585385965346bd8071d85456aa6177": {
     "model_module": "@jupyter-widgets/base",
     "model_module_version": "1.2.0",
     "model_name": "LayoutModel",
     "state": {
      "_model_module": "@jupyter-widgets/base",
      "_model_module_version": "1.2.0",
      "_model_name": "LayoutModel",
      "_view_count": null,
      "_view_module": "@jupyter-widgets/base",
      "_view_module_version": "1.2.0",
      "_view_name": "LayoutView",
      "align_content": null,
      "align_items": null,
      "align_self": null,
      "border": null,
      "bottom": null,
      "display": null,
      "flex": null,
      "flex_flow": null,
      "grid_area": null,
      "grid_auto_columns": null,
      "grid_auto_flow": null,
      "grid_auto_rows": null,
      "grid_column": null,
      "grid_gap": null,
      "grid_row": null,
      "grid_template_areas": null,
      "grid_template_columns": null,
      "grid_template_rows": null,
      "height": "auto",
      "justify_content": null,
      "justify_items": null,
      "left": null,
      "margin": null,
      "max_height": null,
      "max_width": null,
      "min_height": null,
      "min_width": null,
      "object_fit": null,
      "object_position": null,
      "order": null,
      "overflow": "hidden",
      "overflow_x": null,
      "overflow_y": null,
      "padding": null,
      "right": null,
      "top": null,
      "visibility": null,
      "width": "100%"
     }
    },
    "ad991407fe804eaa99f36926b23d9d31": {
     "model_module": "@jupyter-widgets/controls",
     "model_module_version": "1.5.0",
     "model_name": "HBoxModel",
     "state": {
      "_dom_classes": [],
      "_model_module": "@jupyter-widgets/controls",
      "_model_module_version": "1.5.0",
      "_model_name": "HBoxModel",
      "_view_count": null,
      "_view_module": "@jupyter-widgets/controls",
      "_view_module_version": "1.5.0",
      "_view_name": "HBoxView",
      "box_style": "",
      "children": [
       "IPY_MODEL_1ab0ab30400a4a5eabfe9876ac8f81cf",
       "IPY_MODEL_a738dedfb2c24ce49660e63c9d9bf800",
       "IPY_MODEL_f915c6806c854e51b30d7d200f2dadb2",
       "IPY_MODEL_56f2f03b4a494d61bf817d2182c1103b"
      ],
      "layout": "IPY_MODEL_ee69712618b84eac8d20cacaa225a480"
     }
    },
    "adc75f519f2746588db7738f3f650f9b": {
     "model_module": "@jupyter-widgets/controls",
     "model_module_version": "1.5.0",
     "model_name": "ButtonStyleModel",
     "state": {
      "_model_module": "@jupyter-widgets/controls",
      "_model_module_version": "1.5.0",
      "_model_name": "ButtonStyleModel",
      "_view_count": null,
      "_view_module": "@jupyter-widgets/base",
      "_view_module_version": "1.2.0",
      "_view_name": "StyleView",
      "button_color": "lightgray",
      "font_weight": ""
     }
    },
    "af2ad906b6f64a269479119374a0ec92": {
     "model_module": "@jupyter-widgets/controls",
     "model_module_version": "1.5.0",
     "model_name": "ButtonModel",
     "state": {
      "_dom_classes": [],
      "_model_module": "@jupyter-widgets/controls",
      "_model_module_version": "1.5.0",
      "_model_name": "ButtonModel",
      "_view_count": null,
      "_view_module": "@jupyter-widgets/controls",
      "_view_module_version": "1.5.0",
      "_view_name": "ButtonView",
      "button_style": "",
      "description": "AdamW applies weight regularization separately from the gradient updating process",
      "disabled": false,
      "icon": "",
      "layout": "IPY_MODEL_cf97ce85e25a400780c26a4c18b22fbd",
      "style": "IPY_MODEL_5e709438a18c4c49bc9fbfa8f9170046",
      "tooltip": ""
     }
    },
    "b03de5ddca1b42ff8ab347e5a6165951": {
     "model_module": "@jupyter-widgets/base",
     "model_module_version": "1.2.0",
     "model_name": "LayoutModel",
     "state": {
      "_model_module": "@jupyter-widgets/base",
      "_model_module_version": "1.2.0",
      "_model_name": "LayoutModel",
      "_view_count": null,
      "_view_module": "@jupyter-widgets/base",
      "_view_module_version": "1.2.0",
      "_view_name": "LayoutView",
      "align_content": null,
      "align_items": null,
      "align_self": null,
      "border": null,
      "bottom": null,
      "display": null,
      "flex": null,
      "flex_flow": null,
      "grid_area": null,
      "grid_auto_columns": null,
      "grid_auto_flow": null,
      "grid_auto_rows": null,
      "grid_column": null,
      "grid_gap": null,
      "grid_row": null,
      "grid_template_areas": null,
      "grid_template_columns": null,
      "grid_template_rows": null,
      "height": "auto",
      "justify_content": null,
      "justify_items": null,
      "left": null,
      "margin": null,
      "max_height": null,
      "max_width": null,
      "min_height": null,
      "min_width": null,
      "object_fit": null,
      "object_position": null,
      "order": null,
      "overflow": "hidden",
      "overflow_x": null,
      "overflow_y": null,
      "padding": null,
      "right": null,
      "top": null,
      "visibility": null,
      "width": "100%"
     }
    },
    "b044ce4190224d70bb4d7ff720465180": {
     "model_module": "@jupyter-widgets/base",
     "model_module_version": "1.2.0",
     "model_name": "LayoutModel",
     "state": {
      "_model_module": "@jupyter-widgets/base",
      "_model_module_version": "1.2.0",
      "_model_name": "LayoutModel",
      "_view_count": null,
      "_view_module": "@jupyter-widgets/base",
      "_view_module_version": "1.2.0",
      "_view_name": "LayoutView",
      "align_content": null,
      "align_items": null,
      "align_self": null,
      "border": null,
      "bottom": null,
      "display": null,
      "flex": null,
      "flex_flow": null,
      "grid_area": null,
      "grid_auto_columns": null,
      "grid_auto_flow": null,
      "grid_auto_rows": null,
      "grid_column": null,
      "grid_gap": null,
      "grid_row": null,
      "grid_template_areas": null,
      "grid_template_columns": null,
      "grid_template_rows": null,
      "height": "auto",
      "justify_content": null,
      "justify_items": null,
      "left": null,
      "margin": null,
      "max_height": null,
      "max_width": null,
      "min_height": null,
      "min_width": null,
      "object_fit": null,
      "object_position": null,
      "order": null,
      "overflow": "hidden",
      "overflow_x": null,
      "overflow_y": null,
      "padding": null,
      "right": null,
      "top": null,
      "visibility": null,
      "width": "100%"
     }
    },
    "b0e9a034b77146a6a3341acb9f5f113a": {
     "model_module": "@jupyter-widgets/base",
     "model_module_version": "1.2.0",
     "model_name": "LayoutModel",
     "state": {
      "_model_module": "@jupyter-widgets/base",
      "_model_module_version": "1.2.0",
      "_model_name": "LayoutModel",
      "_view_count": null,
      "_view_module": "@jupyter-widgets/base",
      "_view_module_version": "1.2.0",
      "_view_name": "LayoutView",
      "align_content": null,
      "align_items": null,
      "align_self": null,
      "border": null,
      "bottom": null,
      "display": null,
      "flex": null,
      "flex_flow": null,
      "grid_area": null,
      "grid_auto_columns": null,
      "grid_auto_flow": null,
      "grid_auto_rows": null,
      "grid_column": null,
      "grid_gap": null,
      "grid_row": null,
      "grid_template_areas": null,
      "grid_template_columns": null,
      "grid_template_rows": null,
      "height": "auto",
      "justify_content": null,
      "justify_items": null,
      "left": null,
      "margin": null,
      "max_height": null,
      "max_width": null,
      "min_height": null,
      "min_width": null,
      "object_fit": null,
      "object_position": null,
      "order": null,
      "overflow": "hidden",
      "overflow_x": null,
      "overflow_y": null,
      "padding": null,
      "right": null,
      "top": null,
      "visibility": null,
      "width": "100%"
     }
    },
    "b173bcf0c4504fabbe3d20436568f1c4": {
     "model_module": "@jupyter-widgets/base",
     "model_module_version": "1.2.0",
     "model_name": "LayoutModel",
     "state": {
      "_model_module": "@jupyter-widgets/base",
      "_model_module_version": "1.2.0",
      "_model_name": "LayoutModel",
      "_view_count": null,
      "_view_module": "@jupyter-widgets/base",
      "_view_module_version": "1.2.0",
      "_view_name": "LayoutView",
      "align_content": null,
      "align_items": null,
      "align_self": null,
      "border": null,
      "bottom": null,
      "display": null,
      "flex": null,
      "flex_flow": null,
      "grid_area": null,
      "grid_auto_columns": null,
      "grid_auto_flow": null,
      "grid_auto_rows": null,
      "grid_column": null,
      "grid_gap": null,
      "grid_row": null,
      "grid_template_areas": null,
      "grid_template_columns": null,
      "grid_template_rows": null,
      "height": null,
      "justify_content": null,
      "justify_items": null,
      "left": null,
      "margin": null,
      "max_height": null,
      "max_width": null,
      "min_height": null,
      "min_width": null,
      "object_fit": null,
      "object_position": null,
      "order": null,
      "overflow": null,
      "overflow_x": null,
      "overflow_y": null,
      "padding": null,
      "right": null,
      "top": null,
      "visibility": null,
      "width": null
     }
    },
    "b3966fcb4fdd4b97951f3bdbf969461f": {
     "model_module": "@jupyter-widgets/controls",
     "model_module_version": "1.5.0",
     "model_name": "ButtonModel",
     "state": {
      "_dom_classes": [],
      "_model_module": "@jupyter-widgets/controls",
      "_model_module_version": "1.5.0",
      "_model_name": "ButtonModel",
      "_view_count": null,
      "_view_module": "@jupyter-widgets/controls",
      "_view_module_version": "1.5.0",
      "_view_name": "ButtonView",
      "button_style": "",
      "description": "SGD and Bias Correction",
      "disabled": false,
      "icon": "",
      "layout": "IPY_MODEL_88d661cfefb14cab95600518156bc8a8",
      "style": "IPY_MODEL_85f2f6980ebc4c9e8eb6d198bb54b4d4",
      "tooltip": ""
     }
    },
    "b5fc90ffa39045969d095d7d99bf8ebc": {
     "model_module": "@jupyter-widgets/controls",
     "model_module_version": "1.5.0",
     "model_name": "ButtonModel",
     "state": {
      "_dom_classes": [],
      "_model_module": "@jupyter-widgets/controls",
      "_model_module_version": "1.5.0",
      "_model_name": "ButtonModel",
      "_view_count": null,
      "_view_module": "@jupyter-widgets/controls",
      "_view_module_version": "1.5.0",
      "_view_name": "ButtonView",
      "button_style": "",
      "description": "Using more training examples for each update",
      "disabled": false,
      "icon": "",
      "layout": "IPY_MODEL_5479f5211bd2409388b019dd432d2c80",
      "style": "IPY_MODEL_e20c3a6439e448f3bc8c777067fedcff",
      "tooltip": ""
     }
    },
    "b6df5e22061f4fc895db4bee07a7834b": {
     "model_module": "@jupyter-widgets/controls",
     "model_module_version": "1.5.0",
     "model_name": "ButtonModel",
     "state": {
      "_dom_classes": [],
      "_model_module": "@jupyter-widgets/controls",
      "_model_module_version": "1.5.0",
      "_model_name": "ButtonModel",
      "_view_count": null,
      "_view_module": "@jupyter-widgets/controls",
      "_view_module_version": "1.5.0",
      "_view_name": "ButtonView",
      "button_style": "",
      "description": "AdamW uses a different method for estimating the first and second moments of gradients",
      "disabled": false,
      "icon": "",
      "layout": "IPY_MODEL_7e0c8fec85f04891a5b286f20460856a",
      "style": "IPY_MODEL_eec8564f5a2743a4bf77dcd2f37c93aa",
      "tooltip": ""
     }
    },
    "b8db3477c12c4e159fe78dbfce33bbbb": {
     "model_module": "@jupyter-widgets/controls",
     "model_module_version": "1.5.0",
     "model_name": "ButtonStyleModel",
     "state": {
      "_model_module": "@jupyter-widgets/controls",
      "_model_module_version": "1.5.0",
      "_model_name": "ButtonStyleModel",
      "_view_count": null,
      "_view_module": "@jupyter-widgets/base",
      "_view_module_version": "1.2.0",
      "_view_name": "StyleView",
      "button_color": "lightgray",
      "font_weight": ""
     }
    },
    "b9c7d02efff348728cbb94c5c3d664f0": {
     "model_module": "@jupyter-widgets/controls",
     "model_module_version": "1.5.0",
     "model_name": "ButtonModel",
     "state": {
      "_dom_classes": [],
      "_model_module": "@jupyter-widgets/controls",
      "_model_module_version": "1.5.0",
      "_model_name": "ButtonModel",
      "_view_count": null,
      "_view_module": "@jupyter-widgets/controls",
      "_view_module_version": "1.5.0",
      "_view_name": "ButtonView",
      "button_style": "",
      "description": "NAG calculates the gradient at the future parameter position and makes an informed update.",
      "disabled": false,
      "icon": "",
      "layout": "IPY_MODEL_e0c4881ff97a4eecb5c6dbbca78f288c",
      "style": "IPY_MODEL_e4f901dbd7bc40bdb2305c16bee987e1",
      "tooltip": ""
     }
    },
    "bb95b9aa90414c9698b1649f02baecbd": {
     "model_module": "@jupyter-widgets/base",
     "model_module_version": "1.2.0",
     "model_name": "LayoutModel",
     "state": {
      "_model_module": "@jupyter-widgets/base",
      "_model_module_version": "1.2.0",
      "_model_name": "LayoutModel",
      "_view_count": null,
      "_view_module": "@jupyter-widgets/base",
      "_view_module_version": "1.2.0",
      "_view_name": "LayoutView",
      "align_content": null,
      "align_items": null,
      "align_self": null,
      "border": null,
      "bottom": null,
      "display": null,
      "flex": null,
      "flex_flow": null,
      "grid_area": null,
      "grid_auto_columns": null,
      "grid_auto_flow": null,
      "grid_auto_rows": null,
      "grid_column": null,
      "grid_gap": null,
      "grid_row": null,
      "grid_template_areas": null,
      "grid_template_columns": null,
      "grid_template_rows": null,
      "height": "auto",
      "justify_content": null,
      "justify_items": null,
      "left": null,
      "margin": null,
      "max_height": null,
      "max_width": null,
      "min_height": null,
      "min_width": null,
      "object_fit": null,
      "object_position": null,
      "order": null,
      "overflow": "hidden",
      "overflow_x": null,
      "overflow_y": null,
      "padding": null,
      "right": null,
      "top": null,
      "visibility": null,
      "width": "100%"
     }
    },
    "bde90a84e86d4403813e93c7d0885b60": {
     "model_module": "@jupyter-widgets/base",
     "model_module_version": "1.2.0",
     "model_name": "LayoutModel",
     "state": {
      "_model_module": "@jupyter-widgets/base",
      "_model_module_version": "1.2.0",
      "_model_name": "LayoutModel",
      "_view_count": null,
      "_view_module": "@jupyter-widgets/base",
      "_view_module_version": "1.2.0",
      "_view_name": "LayoutView",
      "align_content": null,
      "align_items": null,
      "align_self": null,
      "border": null,
      "bottom": null,
      "display": null,
      "flex": null,
      "flex_flow": null,
      "grid_area": null,
      "grid_auto_columns": null,
      "grid_auto_flow": null,
      "grid_auto_rows": null,
      "grid_column": null,
      "grid_gap": null,
      "grid_row": null,
      "grid_template_areas": null,
      "grid_template_columns": null,
      "grid_template_rows": null,
      "height": "auto",
      "justify_content": null,
      "justify_items": null,
      "left": null,
      "margin": null,
      "max_height": null,
      "max_width": null,
      "min_height": null,
      "min_width": null,
      "object_fit": null,
      "object_position": null,
      "order": null,
      "overflow": "hidden",
      "overflow_x": null,
      "overflow_y": null,
      "padding": null,
      "right": null,
      "top": null,
      "visibility": null,
      "width": "100%"
     }
    },
    "bee50694b6e64136a5fbddf4fa4f16f4": {
     "model_module": "@jupyter-widgets/base",
     "model_module_version": "1.2.0",
     "model_name": "LayoutModel",
     "state": {
      "_model_module": "@jupyter-widgets/base",
      "_model_module_version": "1.2.0",
      "_model_name": "LayoutModel",
      "_view_count": null,
      "_view_module": "@jupyter-widgets/base",
      "_view_module_version": "1.2.0",
      "_view_name": "LayoutView",
      "align_content": null,
      "align_items": null,
      "align_self": null,
      "border": null,
      "bottom": null,
      "display": null,
      "flex": null,
      "flex_flow": null,
      "grid_area": null,
      "grid_auto_columns": null,
      "grid_auto_flow": null,
      "grid_auto_rows": null,
      "grid_column": null,
      "grid_gap": null,
      "grid_row": null,
      "grid_template_areas": null,
      "grid_template_columns": null,
      "grid_template_rows": null,
      "height": "auto",
      "justify_content": null,
      "justify_items": null,
      "left": null,
      "margin": null,
      "max_height": null,
      "max_width": null,
      "min_height": null,
      "min_width": null,
      "object_fit": null,
      "object_position": null,
      "order": null,
      "overflow": "hidden",
      "overflow_x": null,
      "overflow_y": null,
      "padding": null,
      "right": null,
      "top": null,
      "visibility": null,
      "width": "100%"
     }
    },
    "c0565910f77b409286e2e4bd732a8b1e": {
     "model_module": "@jupyter-widgets/controls",
     "model_module_version": "1.5.0",
     "model_name": "ButtonStyleModel",
     "state": {
      "_model_module": "@jupyter-widgets/controls",
      "_model_module_version": "1.5.0",
      "_model_name": "ButtonStyleModel",
      "_view_count": null,
      "_view_module": "@jupyter-widgets/base",
      "_view_module_version": "1.2.0",
      "_view_name": "StyleView",
      "button_color": "lightgray",
      "font_weight": ""
     }
    },
    "c067959458d14cc6bf2c4f9b84533f15": {
     "model_module": "@jupyter-widgets/controls",
     "model_module_version": "1.5.0",
     "model_name": "ButtonStyleModel",
     "state": {
      "_model_module": "@jupyter-widgets/controls",
      "_model_module_version": "1.5.0",
      "_model_name": "ButtonStyleModel",
      "_view_count": null,
      "_view_module": "@jupyter-widgets/base",
      "_view_module_version": "1.2.0",
      "_view_name": "StyleView",
      "button_color": "lightgreen",
      "font_weight": ""
     }
    },
    "c0750a6f359e49ab8261689e41632e8b": {
     "model_module": "@jupyter-widgets/base",
     "model_module_version": "1.2.0",
     "model_name": "LayoutModel",
     "state": {
      "_model_module": "@jupyter-widgets/base",
      "_model_module_version": "1.2.0",
      "_model_name": "LayoutModel",
      "_view_count": null,
      "_view_module": "@jupyter-widgets/base",
      "_view_module_version": "1.2.0",
      "_view_name": "LayoutView",
      "align_content": null,
      "align_items": null,
      "align_self": null,
      "border": null,
      "bottom": null,
      "display": null,
      "flex": null,
      "flex_flow": null,
      "grid_area": null,
      "grid_auto_columns": null,
      "grid_auto_flow": null,
      "grid_auto_rows": null,
      "grid_column": null,
      "grid_gap": null,
      "grid_row": null,
      "grid_template_areas": null,
      "grid_template_columns": null,
      "grid_template_rows": null,
      "height": "auto",
      "justify_content": null,
      "justify_items": null,
      "left": null,
      "margin": null,
      "max_height": null,
      "max_width": null,
      "min_height": null,
      "min_width": null,
      "object_fit": null,
      "object_position": null,
      "order": null,
      "overflow": "hidden",
      "overflow_x": null,
      "overflow_y": null,
      "padding": null,
      "right": null,
      "top": null,
      "visibility": null,
      "width": "100%"
     }
    },
    "c110cabc638d42e28a9db9cd50f41ad4": {
     "model_module": "@jupyter-widgets/controls",
     "model_module_version": "1.5.0",
     "model_name": "ButtonModel",
     "state": {
      "_dom_classes": [],
      "_model_module": "@jupyter-widgets/controls",
      "_model_module_version": "1.5.0",
      "_model_name": "ButtonModel",
      "_view_count": null,
      "_view_module": "@jupyter-widgets/controls",
      "_view_module_version": "1.5.0",
      "_view_name": "ButtonView",
      "button_style": "",
      "description": "RMSprop",
      "disabled": false,
      "icon": "",
      "layout": "IPY_MODEL_3daf067018fb48c69ebdd307e677a8eb",
      "style": "IPY_MODEL_3b63c6cfb28347518c48bfb9a18bb4ac",
      "tooltip": ""
     }
    },
    "c300bcb0c8e44fafb449ef45d1475b87": {
     "model_module": "@jupyter-widgets/controls",
     "model_module_version": "1.5.0",
     "model_name": "ButtonModel",
     "state": {
      "_dom_classes": [],
      "_model_module": "@jupyter-widgets/controls",
      "_model_module_version": "1.5.0",
      "_model_name": "ButtonModel",
      "_view_count": null,
      "_view_module": "@jupyter-widgets/controls",
      "_view_module_version": "1.5.0",
      "_view_name": "ButtonView",
      "button_style": "",
      "description": "It performs much worse without the square root operation",
      "disabled": false,
      "icon": "",
      "layout": "IPY_MODEL_5ef107191d244134a580fcb4f4bc0939",
      "style": "IPY_MODEL_f1e4f152e0d04a398bf759709b9ca7ee",
      "tooltip": ""
     }
    },
    "c48ff374e5ab417b82b6efddc2ede3e5": {
     "model_module": "@jupyter-widgets/controls",
     "model_module_version": "1.5.0",
     "model_name": "ButtonStyleModel",
     "state": {
      "_model_module": "@jupyter-widgets/controls",
      "_model_module_version": "1.5.0",
      "_model_name": "ButtonStyleModel",
      "_view_count": null,
      "_view_module": "@jupyter-widgets/base",
      "_view_module_version": "1.2.0",
      "_view_name": "StyleView",
      "button_color": "lightgray",
      "font_weight": ""
     }
    },
    "c6dae455f03045bd920cfde7d29877ae": {
     "model_module": "@jupyter-widgets/controls",
     "model_module_version": "1.5.0",
     "model_name": "ButtonStyleModel",
     "state": {
      "_model_module": "@jupyter-widgets/controls",
      "_model_module_version": "1.5.0",
      "_model_name": "ButtonStyleModel",
      "_view_count": null,
      "_view_module": "@jupyter-widgets/base",
      "_view_module_version": "1.2.0",
      "_view_name": "StyleView",
      "button_color": "lightgray",
      "font_weight": ""
     }
    },
    "c7efa4b2d71f4627a7558d5dc76e3072": {
     "model_module": "@jupyter-widgets/base",
     "model_module_version": "1.2.0",
     "model_name": "LayoutModel",
     "state": {
      "_model_module": "@jupyter-widgets/base",
      "_model_module_version": "1.2.0",
      "_model_name": "LayoutModel",
      "_view_count": null,
      "_view_module": "@jupyter-widgets/base",
      "_view_module_version": "1.2.0",
      "_view_name": "LayoutView",
      "align_content": null,
      "align_items": null,
      "align_self": null,
      "border": null,
      "bottom": null,
      "display": null,
      "flex": null,
      "flex_flow": null,
      "grid_area": null,
      "grid_auto_columns": null,
      "grid_auto_flow": null,
      "grid_auto_rows": null,
      "grid_column": null,
      "grid_gap": null,
      "grid_row": null,
      "grid_template_areas": null,
      "grid_template_columns": null,
      "grid_template_rows": null,
      "height": "auto",
      "justify_content": null,
      "justify_items": null,
      "left": null,
      "margin": null,
      "max_height": null,
      "max_width": null,
      "min_height": null,
      "min_width": null,
      "object_fit": null,
      "object_position": null,
      "order": null,
      "overflow": "hidden",
      "overflow_x": null,
      "overflow_y": null,
      "padding": null,
      "right": null,
      "top": null,
      "visibility": null,
      "width": "100%"
     }
    },
    "c88bb39574f14a0ba9628003dcbb9335": {
     "model_module": "@jupyter-widgets/controls",
     "model_module_version": "1.5.0",
     "model_name": "ButtonModel",
     "state": {
      "_dom_classes": [],
      "_model_module": "@jupyter-widgets/controls",
      "_model_module_version": "1.5.0",
      "_model_name": "ButtonModel",
      "_view_count": null,
      "_view_module": "@jupyter-widgets/controls",
      "_view_module_version": "1.5.0",
      "_view_name": "ButtonView",
      "button_style": "",
      "description": "The mean square of all previous gradients",
      "disabled": false,
      "icon": "",
      "layout": "IPY_MODEL_bde90a84e86d4403813e93c7d0885b60",
      "style": "IPY_MODEL_2795a2ef08524799a570ba2937bf32e8",
      "tooltip": ""
     }
    },
    "c90b73ab5dfb4e6d934dd0d4eda6ad23": {
     "model_module": "@jupyter-widgets/controls",
     "model_module_version": "1.5.0",
     "model_name": "ButtonModel",
     "state": {
      "_dom_classes": [],
      "_model_module": "@jupyter-widgets/controls",
      "_model_module_version": "1.5.0",
      "_model_name": "ButtonModel",
      "_view_count": null,
      "_view_module": "@jupyter-widgets/controls",
      "_view_module_version": "1.5.0",
      "_view_name": "ButtonView",
      "button_style": "",
      "description": "Increase in learning rate over time",
      "disabled": false,
      "icon": "",
      "layout": "IPY_MODEL_dc8faff627c141428e750b4b0996a59e",
      "style": "IPY_MODEL_cc50b8a0bfb74ee989ff35db565ef53a",
      "tooltip": ""
     }
    },
    "cb9714c920554eeaab2679dabe0a1681": {
     "model_module": "@jupyter-widgets/controls",
     "model_module_version": "1.5.0",
     "model_name": "ButtonModel",
     "state": {
      "_dom_classes": [],
      "_model_module": "@jupyter-widgets/controls",
      "_model_module_version": "1.5.0",
      "_model_name": "ButtonModel",
      "_view_count": null,
      "_view_module": "@jupyter-widgets/controls",
      "_view_module_version": "1.5.0",
      "_view_name": "ButtonView",
      "button_style": "",
      "description": "It requires a large smoothing term to avoid division by zero",
      "disabled": false,
      "icon": "",
      "layout": "IPY_MODEL_28482b87d3f842d8a75a82215bba8246",
      "style": "IPY_MODEL_40297b5aada7422193135576eff0792c",
      "tooltip": ""
     }
    },
    "cbd30eb8ab2e4cdc96908f9bab343450": {
     "model_module": "@jupyter-widgets/base",
     "model_module_version": "1.2.0",
     "model_name": "LayoutModel",
     "state": {
      "_model_module": "@jupyter-widgets/base",
      "_model_module_version": "1.2.0",
      "_model_name": "LayoutModel",
      "_view_count": null,
      "_view_module": "@jupyter-widgets/base",
      "_view_module_version": "1.2.0",
      "_view_name": "LayoutView",
      "align_content": null,
      "align_items": null,
      "align_self": null,
      "border": null,
      "bottom": null,
      "display": null,
      "flex": null,
      "flex_flow": null,
      "grid_area": null,
      "grid_auto_columns": null,
      "grid_auto_flow": null,
      "grid_auto_rows": null,
      "grid_column": null,
      "grid_gap": null,
      "grid_row": null,
      "grid_template_areas": null,
      "grid_template_columns": null,
      "grid_template_rows": null,
      "height": "auto",
      "justify_content": null,
      "justify_items": null,
      "left": null,
      "margin": null,
      "max_height": null,
      "max_width": null,
      "min_height": null,
      "min_width": null,
      "object_fit": null,
      "object_position": null,
      "order": null,
      "overflow": "hidden",
      "overflow_x": null,
      "overflow_y": null,
      "padding": null,
      "right": null,
      "top": null,
      "visibility": null,
      "width": "100%"
     }
    },
    "cc15a3aa2d454fd4a4b7ac3ddbf691fb": {
     "model_module": "@jupyter-widgets/base",
     "model_module_version": "1.2.0",
     "model_name": "LayoutModel",
     "state": {
      "_model_module": "@jupyter-widgets/base",
      "_model_module_version": "1.2.0",
      "_model_name": "LayoutModel",
      "_view_count": null,
      "_view_module": "@jupyter-widgets/base",
      "_view_module_version": "1.2.0",
      "_view_name": "LayoutView",
      "align_content": null,
      "align_items": null,
      "align_self": null,
      "border": null,
      "bottom": null,
      "display": null,
      "flex": null,
      "flex_flow": null,
      "grid_area": null,
      "grid_auto_columns": null,
      "grid_auto_flow": null,
      "grid_auto_rows": null,
      "grid_column": null,
      "grid_gap": null,
      "grid_row": null,
      "grid_template_areas": null,
      "grid_template_columns": null,
      "grid_template_rows": null,
      "height": "auto",
      "justify_content": null,
      "justify_items": null,
      "left": null,
      "margin": null,
      "max_height": null,
      "max_width": null,
      "min_height": null,
      "min_width": null,
      "object_fit": null,
      "object_position": null,
      "order": null,
      "overflow": "hidden",
      "overflow_x": null,
      "overflow_y": null,
      "padding": null,
      "right": null,
      "top": null,
      "visibility": null,
      "width": "100%"
     }
    },
    "cc50b8a0bfb74ee989ff35db565ef53a": {
     "model_module": "@jupyter-widgets/controls",
     "model_module_version": "1.5.0",
     "model_name": "ButtonStyleModel",
     "state": {
      "_model_module": "@jupyter-widgets/controls",
      "_model_module_version": "1.5.0",
      "_model_name": "ButtonStyleModel",
      "_view_count": null,
      "_view_module": "@jupyter-widgets/base",
      "_view_module_version": "1.2.0",
      "_view_name": "StyleView",
      "button_color": "lightgray",
      "font_weight": ""
     }
    },
    "ccfb351d983849698162da6cff3bc8ae": {
     "model_module": "@jupyter-widgets/controls",
     "model_module_version": "1.5.0",
     "model_name": "ButtonStyleModel",
     "state": {
      "_model_module": "@jupyter-widgets/controls",
      "_model_module_version": "1.5.0",
      "_model_name": "ButtonStyleModel",
      "_view_count": null,
      "_view_module": "@jupyter-widgets/base",
      "_view_module_version": "1.2.0",
      "_view_name": "StyleView",
      "button_color": "red",
      "font_weight": ""
     }
    },
    "cd149aa6e3984c14a72eebeeef947fb2": {
     "model_module": "@jupyter-widgets/controls",
     "model_module_version": "1.5.0",
     "model_name": "ButtonStyleModel",
     "state": {
      "_model_module": "@jupyter-widgets/controls",
      "_model_module_version": "1.5.0",
      "_model_name": "ButtonStyleModel",
      "_view_count": null,
      "_view_module": "@jupyter-widgets/base",
      "_view_module_version": "1.2.0",
      "_view_name": "StyleView",
      "button_color": "lightgray",
      "font_weight": ""
     }
    },
    "cd1c8c9b171343119c10b39e6453020b": {
     "model_module": "@jupyter-widgets/base",
     "model_module_version": "1.2.0",
     "model_name": "LayoutModel",
     "state": {
      "_model_module": "@jupyter-widgets/base",
      "_model_module_version": "1.2.0",
      "_model_name": "LayoutModel",
      "_view_count": null,
      "_view_module": "@jupyter-widgets/base",
      "_view_module_version": "1.2.0",
      "_view_name": "LayoutView",
      "align_content": null,
      "align_items": null,
      "align_self": null,
      "border": null,
      "bottom": null,
      "display": null,
      "flex": null,
      "flex_flow": null,
      "grid_area": null,
      "grid_auto_columns": null,
      "grid_auto_flow": null,
      "grid_auto_rows": null,
      "grid_column": null,
      "grid_gap": null,
      "grid_row": null,
      "grid_template_areas": null,
      "grid_template_columns": null,
      "grid_template_rows": null,
      "height": "auto",
      "justify_content": null,
      "justify_items": null,
      "left": null,
      "margin": null,
      "max_height": null,
      "max_width": null,
      "min_height": null,
      "min_width": null,
      "object_fit": null,
      "object_position": null,
      "order": null,
      "overflow": "hidden",
      "overflow_x": null,
      "overflow_y": null,
      "padding": null,
      "right": null,
      "top": null,
      "visibility": null,
      "width": "100%"
     }
    },
    "cd709f66a8f140198e0fa86042d743c7": {
     "model_module": "@jupyter-widgets/base",
     "model_module_version": "1.2.0",
     "model_name": "LayoutModel",
     "state": {
      "_model_module": "@jupyter-widgets/base",
      "_model_module_version": "1.2.0",
      "_model_name": "LayoutModel",
      "_view_count": null,
      "_view_module": "@jupyter-widgets/base",
      "_view_module_version": "1.2.0",
      "_view_name": "LayoutView",
      "align_content": null,
      "align_items": null,
      "align_self": null,
      "border": null,
      "bottom": null,
      "display": null,
      "flex": null,
      "flex_flow": null,
      "grid_area": null,
      "grid_auto_columns": null,
      "grid_auto_flow": null,
      "grid_auto_rows": null,
      "grid_column": null,
      "grid_gap": null,
      "grid_row": null,
      "grid_template_areas": null,
      "grid_template_columns": null,
      "grid_template_rows": null,
      "height": "auto",
      "justify_content": null,
      "justify_items": null,
      "left": null,
      "margin": null,
      "max_height": null,
      "max_width": null,
      "min_height": null,
      "min_width": null,
      "object_fit": null,
      "object_position": null,
      "order": null,
      "overflow": "hidden",
      "overflow_x": null,
      "overflow_y": null,
      "padding": null,
      "right": null,
      "top": null,
      "visibility": null,
      "width": "100%"
     }
    },
    "cdd24a5703fe4e228a2508c655ab36ae": {
     "model_module": "@jupyter-widgets/controls",
     "model_module_version": "1.5.0",
     "model_name": "ButtonStyleModel",
     "state": {
      "_model_module": "@jupyter-widgets/controls",
      "_model_module_version": "1.5.0",
      "_model_name": "ButtonStyleModel",
      "_view_count": null,
      "_view_module": "@jupyter-widgets/base",
      "_view_module_version": "1.2.0",
      "_view_name": "StyleView",
      "button_color": "lightgreen",
      "font_weight": ""
     }
    },
    "ce95f06990f74d5298368b92c6e97940": {
     "model_module": "@jupyter-widgets/controls",
     "model_module_version": "1.5.0",
     "model_name": "ButtonStyleModel",
     "state": {
      "_model_module": "@jupyter-widgets/controls",
      "_model_module_version": "1.5.0",
      "_model_name": "ButtonStyleModel",
      "_view_count": null,
      "_view_module": "@jupyter-widgets/base",
      "_view_module_version": "1.2.0",
      "_view_name": "StyleView",
      "button_color": null,
      "font_weight": ""
     }
    },
    "cf7f70b70ec44f8bae162ed311303dcf": {
     "model_module": "@jupyter-widgets/base",
     "model_module_version": "1.2.0",
     "model_name": "LayoutModel",
     "state": {
      "_model_module": "@jupyter-widgets/base",
      "_model_module_version": "1.2.0",
      "_model_name": "LayoutModel",
      "_view_count": null,
      "_view_module": "@jupyter-widgets/base",
      "_view_module_version": "1.2.0",
      "_view_name": "LayoutView",
      "align_content": null,
      "align_items": null,
      "align_self": null,
      "border": null,
      "bottom": null,
      "display": null,
      "flex": null,
      "flex_flow": null,
      "grid_area": null,
      "grid_auto_columns": null,
      "grid_auto_flow": null,
      "grid_auto_rows": null,
      "grid_column": null,
      "grid_gap": null,
      "grid_row": null,
      "grid_template_areas": null,
      "grid_template_columns": null,
      "grid_template_rows": null,
      "height": "auto",
      "justify_content": null,
      "justify_items": null,
      "left": null,
      "margin": null,
      "max_height": null,
      "max_width": null,
      "min_height": null,
      "min_width": null,
      "object_fit": null,
      "object_position": null,
      "order": null,
      "overflow": "hidden",
      "overflow_x": null,
      "overflow_y": null,
      "padding": null,
      "right": null,
      "top": null,
      "visibility": null,
      "width": "100%"
     }
    },
    "cf97ce85e25a400780c26a4c18b22fbd": {
     "model_module": "@jupyter-widgets/base",
     "model_module_version": "1.2.0",
     "model_name": "LayoutModel",
     "state": {
      "_model_module": "@jupyter-widgets/base",
      "_model_module_version": "1.2.0",
      "_model_name": "LayoutModel",
      "_view_count": null,
      "_view_module": "@jupyter-widgets/base",
      "_view_module_version": "1.2.0",
      "_view_name": "LayoutView",
      "align_content": null,
      "align_items": null,
      "align_self": null,
      "border": null,
      "bottom": null,
      "display": null,
      "flex": null,
      "flex_flow": null,
      "grid_area": null,
      "grid_auto_columns": null,
      "grid_auto_flow": null,
      "grid_auto_rows": null,
      "grid_column": null,
      "grid_gap": null,
      "grid_row": null,
      "grid_template_areas": null,
      "grid_template_columns": null,
      "grid_template_rows": null,
      "height": "auto",
      "justify_content": null,
      "justify_items": null,
      "left": null,
      "margin": null,
      "max_height": null,
      "max_width": null,
      "min_height": null,
      "min_width": null,
      "object_fit": null,
      "object_position": null,
      "order": null,
      "overflow": "hidden",
      "overflow_x": null,
      "overflow_y": null,
      "padding": null,
      "right": null,
      "top": null,
      "visibility": null,
      "width": "100%"
     }
    },
    "d0c256bd9022472786eee90b32faea80": {
     "model_module": "@jupyter-widgets/controls",
     "model_module_version": "1.5.0",
     "model_name": "ButtonStyleModel",
     "state": {
      "_model_module": "@jupyter-widgets/controls",
      "_model_module_version": "1.5.0",
      "_model_name": "ButtonStyleModel",
      "_view_count": null,
      "_view_module": "@jupyter-widgets/base",
      "_view_module_version": "1.2.0",
      "_view_name": "StyleView",
      "button_color": "lightgreen",
      "font_weight": ""
     }
    },
    "d0fef8d9d243484c88796384ffd5ea3a": {
     "model_module": "@jupyter-widgets/controls",
     "model_module_version": "1.5.0",
     "model_name": "ButtonStyleModel",
     "state": {
      "_model_module": "@jupyter-widgets/controls",
      "_model_module_version": "1.5.0",
      "_model_name": "ButtonStyleModel",
      "_view_count": null,
      "_view_module": "@jupyter-widgets/base",
      "_view_module_version": "1.2.0",
      "_view_name": "StyleView",
      "button_color": "lightgray",
      "font_weight": ""
     }
    },
    "d401008cb7c7476d92af38cfa9716957": {
     "model_module": "@jupyter-widgets/base",
     "model_module_version": "1.2.0",
     "model_name": "LayoutModel",
     "state": {
      "_model_module": "@jupyter-widgets/base",
      "_model_module_version": "1.2.0",
      "_model_name": "LayoutModel",
      "_view_count": null,
      "_view_module": "@jupyter-widgets/base",
      "_view_module_version": "1.2.0",
      "_view_name": "LayoutView",
      "align_content": null,
      "align_items": null,
      "align_self": null,
      "border": null,
      "bottom": null,
      "display": null,
      "flex": null,
      "flex_flow": null,
      "grid_area": null,
      "grid_auto_columns": null,
      "grid_auto_flow": null,
      "grid_auto_rows": null,
      "grid_column": null,
      "grid_gap": null,
      "grid_row": null,
      "grid_template_areas": null,
      "grid_template_columns": null,
      "grid_template_rows": null,
      "height": "auto",
      "justify_content": null,
      "justify_items": null,
      "left": null,
      "margin": null,
      "max_height": null,
      "max_width": null,
      "min_height": null,
      "min_width": null,
      "object_fit": null,
      "object_position": null,
      "order": null,
      "overflow": "hidden",
      "overflow_x": null,
      "overflow_y": null,
      "padding": null,
      "right": null,
      "top": null,
      "visibility": null,
      "width": "100%"
     }
    },
    "d448554ead47438484219cd1ec82d906": {
     "model_module": "@jupyter-widgets/controls",
     "model_module_version": "1.5.0",
     "model_name": "ButtonModel",
     "state": {
      "_dom_classes": [],
      "_model_module": "@jupyter-widgets/controls",
      "_model_module_version": "1.5.0",
      "_model_name": "ButtonModel",
      "_view_count": null,
      "_view_module": "@jupyter-widgets/controls",
      "_view_module_version": "1.5.0",
      "_view_name": "ButtonView",
      "button_style": "",
      "description": "It adapts the learning rate to the parameters, performing smaller updates for frequently occurring features",
      "disabled": false,
      "icon": "",
      "layout": "IPY_MODEL_6836c352aa8d4c1ba2fdc0bfa9e53f23",
      "style": "IPY_MODEL_46865004407249499806ccc8185e5964",
      "tooltip": ""
     }
    },
    "d55b905a99644ebba7824bbcf2874071": {
     "model_module": "@jupyter-widgets/base",
     "model_module_version": "1.2.0",
     "model_name": "LayoutModel",
     "state": {
      "_model_module": "@jupyter-widgets/base",
      "_model_module_version": "1.2.0",
      "_model_name": "LayoutModel",
      "_view_count": null,
      "_view_module": "@jupyter-widgets/base",
      "_view_module_version": "1.2.0",
      "_view_name": "LayoutView",
      "align_content": null,
      "align_items": null,
      "align_self": null,
      "border": null,
      "bottom": null,
      "display": null,
      "flex": null,
      "flex_flow": null,
      "grid_area": null,
      "grid_auto_columns": null,
      "grid_auto_flow": null,
      "grid_auto_rows": null,
      "grid_column": null,
      "grid_gap": null,
      "grid_row": null,
      "grid_template_areas": null,
      "grid_template_columns": null,
      "grid_template_rows": null,
      "height": "auto",
      "justify_content": null,
      "justify_items": null,
      "left": null,
      "margin": null,
      "max_height": null,
      "max_width": null,
      "min_height": null,
      "min_width": null,
      "object_fit": null,
      "object_position": null,
      "order": null,
      "overflow": "hidden",
      "overflow_x": null,
      "overflow_y": null,
      "padding": null,
      "right": null,
      "top": null,
      "visibility": null,
      "width": "100%"
     }
    },
    "d57b06ab4d78421abe8b544281517a02": {
     "model_module": "@jupyter-widgets/controls",
     "model_module_version": "1.5.0",
     "model_name": "ButtonModel",
     "state": {
      "_dom_classes": [],
      "_model_module": "@jupyter-widgets/controls",
      "_model_module_version": "1.5.0",
      "_model_name": "ButtonModel",
      "_view_count": null,
      "_view_module": "@jupyter-widgets/controls",
      "_view_module_version": "1.5.0",
      "_view_name": "ButtonView",
      "button_style": "",
      "description": "Quicker convergence and improved overall performance.",
      "disabled": false,
      "icon": "",
      "layout": "IPY_MODEL_985738e5b3314882b62cde95bb09cd7b",
      "style": "IPY_MODEL_d0c256bd9022472786eee90b32faea80",
      "tooltip": ""
     }
    },
    "d63e50bdcc3e4c40b138837079825a8d": {
     "model_module": "@jupyter-widgets/controls",
     "model_module_version": "1.5.0",
     "model_name": "ButtonStyleModel",
     "state": {
      "_model_module": "@jupyter-widgets/controls",
      "_model_module_version": "1.5.0",
      "_model_name": "ButtonStyleModel",
      "_view_count": null,
      "_view_module": "@jupyter-widgets/base",
      "_view_module_version": "1.2.0",
      "_view_name": "StyleView",
      "button_color": "lightgray",
      "font_weight": ""
     }
    },
    "d6f53e11f84045178c67b4e801a21697": {
     "model_module": "@jupyter-widgets/controls",
     "model_module_version": "1.5.0",
     "model_name": "ButtonModel",
     "state": {
      "_dom_classes": [],
      "_model_module": "@jupyter-widgets/controls",
      "_model_module_version": "1.5.0",
      "_model_name": "ButtonModel",
      "_view_count": null,
      "_view_module": "@jupyter-widgets/controls",
      "_view_module_version": "1.5.0",
      "_view_name": "ButtonView",
      "button_style": "",
      "description": "It uses a different first and second moment estimation technique",
      "disabled": false,
      "icon": "",
      "layout": "IPY_MODEL_e0c9cf09f21c48ad89d8c98786024fbe",
      "style": "IPY_MODEL_c0565910f77b409286e2e4bd732a8b1e",
      "tooltip": ""
     }
    },
    "d72f8ee8b0cc4a5a8167255795c5853a": {
     "model_module": "@jupyter-widgets/base",
     "model_module_version": "1.2.0",
     "model_name": "LayoutModel",
     "state": {
      "_model_module": "@jupyter-widgets/base",
      "_model_module_version": "1.2.0",
      "_model_name": "LayoutModel",
      "_view_count": null,
      "_view_module": "@jupyter-widgets/base",
      "_view_module_version": "1.2.0",
      "_view_name": "LayoutView",
      "align_content": null,
      "align_items": null,
      "align_self": null,
      "border": null,
      "bottom": null,
      "display": null,
      "flex": null,
      "flex_flow": null,
      "grid_area": null,
      "grid_auto_columns": null,
      "grid_auto_flow": null,
      "grid_auto_rows": null,
      "grid_column": null,
      "grid_gap": null,
      "grid_row": null,
      "grid_template_areas": null,
      "grid_template_columns": null,
      "grid_template_rows": null,
      "height": "auto",
      "justify_content": null,
      "justify_items": null,
      "left": null,
      "margin": null,
      "max_height": null,
      "max_width": null,
      "min_height": null,
      "min_width": null,
      "object_fit": null,
      "object_position": null,
      "order": null,
      "overflow": "hidden",
      "overflow_x": null,
      "overflow_y": null,
      "padding": null,
      "right": null,
      "top": null,
      "visibility": null,
      "width": "100%"
     }
    },
    "d90f4cca10ca4271ae10d2dfbad8d79a": {
     "model_module": "@jupyter-widgets/controls",
     "model_module_version": "1.5.0",
     "model_name": "ButtonModel",
     "state": {
      "_dom_classes": [],
      "_model_module": "@jupyter-widgets/controls",
      "_model_module_version": "1.5.0",
      "_model_name": "ButtonModel",
      "_view_count": null,
      "_view_module": "@jupyter-widgets/controls",
      "_view_module_version": "1.5.0",
      "_view_name": "ButtonView",
      "button_style": "",
      "description": "Generalization ability of the model and control of weight scaling",
      "disabled": false,
      "icon": "",
      "layout": "IPY_MODEL_cbd30eb8ab2e4cdc96908f9bab343450",
      "style": "IPY_MODEL_c067959458d14cc6bf2c4f9b84533f15",
      "tooltip": ""
     }
    },
    "d947ba86bf664ed7b8cd45454c97f624": {
     "model_module": "@jupyter-widgets/controls",
     "model_module_version": "1.5.0",
     "model_name": "ButtonModel",
     "state": {
      "_dom_classes": [],
      "_model_module": "@jupyter-widgets/controls",
      "_model_module_version": "1.5.0",
      "_model_name": "ButtonModel",
      "_view_count": null,
      "_view_module": "@jupyter-widgets/controls",
      "_view_module_version": "1.5.0",
      "_view_name": "ButtonView",
      "button_style": "",
      "description": "SGD",
      "disabled": false,
      "icon": "",
      "layout": "IPY_MODEL_005aa12356bc449fac214c8498a169e0",
      "style": "IPY_MODEL_8fe5e185479f45a1b4a16f9617c9c4e0",
      "tooltip": ""
     }
    },
    "d9b65bfa4f174bee89479552337f1684": {
     "model_module": "@jupyter-widgets/controls",
     "model_module_version": "1.5.0",
     "model_name": "ButtonModel",
     "state": {
      "_dom_classes": [],
      "_model_module": "@jupyter-widgets/controls",
      "_model_module_version": "1.5.0",
      "_model_name": "ButtonModel",
      "_view_count": null,
      "_view_module": "@jupyter-widgets/controls",
      "_view_module_version": "1.5.0",
      "_view_name": "ButtonView",
      "button_style": "",
      "description": "Handling differences between parameters",
      "disabled": false,
      "icon": "",
      "layout": "IPY_MODEL_7f9beb1bcbe04a50841bdca9d0eadd5d",
      "style": "IPY_MODEL_df0573c48b7f4406bf1302d2e37553c2",
      "tooltip": ""
     }
    },
    "dab4f6a1b80f4b99861b78fe13ed22f9": {
     "model_module": "@jupyter-widgets/base",
     "model_module_version": "1.2.0",
     "model_name": "LayoutModel",
     "state": {
      "_model_module": "@jupyter-widgets/base",
      "_model_module_version": "1.2.0",
      "_model_name": "LayoutModel",
      "_view_count": null,
      "_view_module": "@jupyter-widgets/base",
      "_view_module_version": "1.2.0",
      "_view_name": "LayoutView",
      "align_content": null,
      "align_items": null,
      "align_self": null,
      "border": null,
      "bottom": null,
      "display": null,
      "flex": null,
      "flex_flow": null,
      "grid_area": null,
      "grid_auto_columns": null,
      "grid_auto_flow": null,
      "grid_auto_rows": null,
      "grid_column": null,
      "grid_gap": null,
      "grid_row": null,
      "grid_template_areas": null,
      "grid_template_columns": null,
      "grid_template_rows": null,
      "height": "auto",
      "justify_content": null,
      "justify_items": null,
      "left": null,
      "margin": null,
      "max_height": null,
      "max_width": null,
      "min_height": null,
      "min_width": null,
      "object_fit": null,
      "object_position": null,
      "order": null,
      "overflow": "hidden",
      "overflow_x": null,
      "overflow_y": null,
      "padding": null,
      "right": null,
      "top": null,
      "visibility": null,
      "width": "100%"
     }
    },
    "dae21b36a5a64481a1b931bb768b3763": {
     "model_module": "@jupyter-widgets/controls",
     "model_module_version": "1.5.0",
     "model_name": "ButtonModel",
     "state": {
      "_dom_classes": [],
      "_model_module": "@jupyter-widgets/controls",
      "_model_module_version": "1.5.0",
      "_model_name": "ButtonModel",
      "_view_count": null,
      "_view_module": "@jupyter-widgets/controls",
      "_view_module_version": "1.5.0",
      "_view_name": "ButtonView",
      "button_style": "",
      "description": "It reduces the learning rate more efficiently",
      "disabled": false,
      "icon": "",
      "layout": "IPY_MODEL_8e5c84dcabd642aa87d7085dd5c22c62",
      "style": "IPY_MODEL_4c201e01cc7a47f08d8c93d4dcf00d9f",
      "tooltip": ""
     }
    },
    "dbc103242c50411a8c97b7dbae372358": {
     "model_module": "@jupyter-widgets/controls",
     "model_module_version": "1.5.0",
     "model_name": "ButtonStyleModel",
     "state": {
      "_model_module": "@jupyter-widgets/controls",
      "_model_module_version": "1.5.0",
      "_model_name": "ButtonStyleModel",
      "_view_count": null,
      "_view_module": "@jupyter-widgets/base",
      "_view_module_version": "1.2.0",
      "_view_name": "StyleView",
      "button_color": null,
      "font_weight": ""
     }
    },
    "dc8faff627c141428e750b4b0996a59e": {
     "model_module": "@jupyter-widgets/base",
     "model_module_version": "1.2.0",
     "model_name": "LayoutModel",
     "state": {
      "_model_module": "@jupyter-widgets/base",
      "_model_module_version": "1.2.0",
      "_model_name": "LayoutModel",
      "_view_count": null,
      "_view_module": "@jupyter-widgets/base",
      "_view_module_version": "1.2.0",
      "_view_name": "LayoutView",
      "align_content": null,
      "align_items": null,
      "align_self": null,
      "border": null,
      "bottom": null,
      "display": null,
      "flex": null,
      "flex_flow": null,
      "grid_area": null,
      "grid_auto_columns": null,
      "grid_auto_flow": null,
      "grid_auto_rows": null,
      "grid_column": null,
      "grid_gap": null,
      "grid_row": null,
      "grid_template_areas": null,
      "grid_template_columns": null,
      "grid_template_rows": null,
      "height": "auto",
      "justify_content": null,
      "justify_items": null,
      "left": null,
      "margin": null,
      "max_height": null,
      "max_width": null,
      "min_height": null,
      "min_width": null,
      "object_fit": null,
      "object_position": null,
      "order": null,
      "overflow": "hidden",
      "overflow_x": null,
      "overflow_y": null,
      "padding": null,
      "right": null,
      "top": null,
      "visibility": null,
      "width": "100%"
     }
    },
    "dc947593c6744f538e4379cdff4c5da8": {
     "model_module": "@jupyter-widgets/controls",
     "model_module_version": "1.5.0",
     "model_name": "ButtonModel",
     "state": {
      "_dom_classes": [],
      "_model_module": "@jupyter-widgets/controls",
      "_model_module_version": "1.5.0",
      "_model_name": "ButtonModel",
      "_view_count": null,
      "_view_module": "@jupyter-widgets/controls",
      "_view_module_version": "1.5.0",
      "_view_name": "ButtonView",
      "button_style": "",
      "description": "Adjusting the learning rate for each parameter",
      "disabled": false,
      "icon": "",
      "layout": "IPY_MODEL_0ef11000645041b397607f58e9fd9f77",
      "style": "IPY_MODEL_4bd79761bba04b5eb2a932320d2f6e5b",
      "tooltip": ""
     }
    },
    "dd525376fde445cdae1cf13b6d5372ac": {
     "model_module": "@jupyter-widgets/controls",
     "model_module_version": "1.5.0",
     "model_name": "ButtonStyleModel",
     "state": {
      "_model_module": "@jupyter-widgets/controls",
      "_model_module_version": "1.5.0",
      "_model_name": "ButtonStyleModel",
      "_view_count": null,
      "_view_module": "@jupyter-widgets/base",
      "_view_module_version": "1.2.0",
      "_view_name": "StyleView",
      "button_color": "lightgreen",
      "font_weight": ""
     }
    },
    "de5e8101c7704d878f0df33246d67411": {
     "model_module": "@jupyter-widgets/controls",
     "model_module_version": "1.5.0",
     "model_name": "ButtonModel",
     "state": {
      "_dom_classes": [],
      "_model_module": "@jupyter-widgets/controls",
      "_model_module_version": "1.5.0",
      "_model_name": "ButtonModel",
      "_view_count": null,
      "_view_module": "@jupyter-widgets/controls",
      "_view_module_version": "1.5.0",
      "_view_name": "ButtonView",
      "button_style": "",
      "description": "To improve Adam by using Nesterov momentum",
      "disabled": false,
      "icon": "",
      "layout": "IPY_MODEL_075468b9b2e8497f91dc5fb990343a6b",
      "style": "IPY_MODEL_8b66d9a1d6fa4a53a42ae9b0e582d96b",
      "tooltip": ""
     }
    },
    "df0573c48b7f4406bf1302d2e37553c2": {
     "model_module": "@jupyter-widgets/controls",
     "model_module_version": "1.5.0",
     "model_name": "ButtonStyleModel",
     "state": {
      "_model_module": "@jupyter-widgets/controls",
      "_model_module_version": "1.5.0",
      "_model_name": "ButtonStyleModel",
      "_view_count": null,
      "_view_module": "@jupyter-widgets/base",
      "_view_module_version": "1.2.0",
      "_view_name": "StyleView",
      "button_color": "lightgray",
      "font_weight": ""
     }
    },
    "df9a4a7fc6ec4802ae6223f29b02ae97": {
     "model_module": "@jupyter-widgets/base",
     "model_module_version": "1.2.0",
     "model_name": "LayoutModel",
     "state": {
      "_model_module": "@jupyter-widgets/base",
      "_model_module_version": "1.2.0",
      "_model_name": "LayoutModel",
      "_view_count": null,
      "_view_module": "@jupyter-widgets/base",
      "_view_module_version": "1.2.0",
      "_view_name": "LayoutView",
      "align_content": null,
      "align_items": null,
      "align_self": null,
      "border": null,
      "bottom": null,
      "display": null,
      "flex": null,
      "flex_flow": null,
      "grid_area": null,
      "grid_auto_columns": null,
      "grid_auto_flow": null,
      "grid_auto_rows": null,
      "grid_column": null,
      "grid_gap": null,
      "grid_row": null,
      "grid_template_areas": null,
      "grid_template_columns": null,
      "grid_template_rows": null,
      "height": "auto",
      "justify_content": null,
      "justify_items": null,
      "left": null,
      "margin": null,
      "max_height": null,
      "max_width": null,
      "min_height": null,
      "min_width": null,
      "object_fit": null,
      "object_position": null,
      "order": null,
      "overflow": "hidden",
      "overflow_x": null,
      "overflow_y": null,
      "padding": null,
      "right": null,
      "top": null,
      "visibility": null,
      "width": "100%"
     }
    },
    "dfce30c7614c497f99dac9749384db98": {
     "model_module": "@jupyter-widgets/base",
     "model_module_version": "1.2.0",
     "model_name": "LayoutModel",
     "state": {
      "_model_module": "@jupyter-widgets/base",
      "_model_module_version": "1.2.0",
      "_model_name": "LayoutModel",
      "_view_count": null,
      "_view_module": "@jupyter-widgets/base",
      "_view_module_version": "1.2.0",
      "_view_name": "LayoutView",
      "align_content": null,
      "align_items": null,
      "align_self": null,
      "border": null,
      "bottom": null,
      "display": null,
      "flex": null,
      "flex_flow": null,
      "grid_area": null,
      "grid_auto_columns": null,
      "grid_auto_flow": null,
      "grid_auto_rows": null,
      "grid_column": null,
      "grid_gap": null,
      "grid_row": null,
      "grid_template_areas": null,
      "grid_template_columns": null,
      "grid_template_rows": null,
      "height": "auto",
      "justify_content": null,
      "justify_items": null,
      "left": null,
      "margin": null,
      "max_height": null,
      "max_width": null,
      "min_height": null,
      "min_width": null,
      "object_fit": null,
      "object_position": null,
      "order": null,
      "overflow": "hidden",
      "overflow_x": null,
      "overflow_y": null,
      "padding": null,
      "right": null,
      "top": null,
      "visibility": null,
      "width": "100%"
     }
    },
    "e0c4881ff97a4eecb5c6dbbca78f288c": {
     "model_module": "@jupyter-widgets/base",
     "model_module_version": "1.2.0",
     "model_name": "LayoutModel",
     "state": {
      "_model_module": "@jupyter-widgets/base",
      "_model_module_version": "1.2.0",
      "_model_name": "LayoutModel",
      "_view_count": null,
      "_view_module": "@jupyter-widgets/base",
      "_view_module_version": "1.2.0",
      "_view_name": "LayoutView",
      "align_content": null,
      "align_items": null,
      "align_self": null,
      "border": null,
      "bottom": null,
      "display": null,
      "flex": null,
      "flex_flow": null,
      "grid_area": null,
      "grid_auto_columns": null,
      "grid_auto_flow": null,
      "grid_auto_rows": null,
      "grid_column": null,
      "grid_gap": null,
      "grid_row": null,
      "grid_template_areas": null,
      "grid_template_columns": null,
      "grid_template_rows": null,
      "height": "auto",
      "justify_content": null,
      "justify_items": null,
      "left": null,
      "margin": null,
      "max_height": null,
      "max_width": null,
      "min_height": null,
      "min_width": null,
      "object_fit": null,
      "object_position": null,
      "order": null,
      "overflow": "hidden",
      "overflow_x": null,
      "overflow_y": null,
      "padding": null,
      "right": null,
      "top": null,
      "visibility": null,
      "width": "100%"
     }
    },
    "e0c9cf09f21c48ad89d8c98786024fbe": {
     "model_module": "@jupyter-widgets/base",
     "model_module_version": "1.2.0",
     "model_name": "LayoutModel",
     "state": {
      "_model_module": "@jupyter-widgets/base",
      "_model_module_version": "1.2.0",
      "_model_name": "LayoutModel",
      "_view_count": null,
      "_view_module": "@jupyter-widgets/base",
      "_view_module_version": "1.2.0",
      "_view_name": "LayoutView",
      "align_content": null,
      "align_items": null,
      "align_self": null,
      "border": null,
      "bottom": null,
      "display": null,
      "flex": null,
      "flex_flow": null,
      "grid_area": null,
      "grid_auto_columns": null,
      "grid_auto_flow": null,
      "grid_auto_rows": null,
      "grid_column": null,
      "grid_gap": null,
      "grid_row": null,
      "grid_template_areas": null,
      "grid_template_columns": null,
      "grid_template_rows": null,
      "height": "auto",
      "justify_content": null,
      "justify_items": null,
      "left": null,
      "margin": null,
      "max_height": null,
      "max_width": null,
      "min_height": null,
      "min_width": null,
      "object_fit": null,
      "object_position": null,
      "order": null,
      "overflow": "hidden",
      "overflow_x": null,
      "overflow_y": null,
      "padding": null,
      "right": null,
      "top": null,
      "visibility": null,
      "width": "100%"
     }
    },
    "e0e64d3924a4419ebc1a0ceeed018c9b": {
     "model_module": "@jupyter-widgets/base",
     "model_module_version": "1.2.0",
     "model_name": "LayoutModel",
     "state": {
      "_model_module": "@jupyter-widgets/base",
      "_model_module_version": "1.2.0",
      "_model_name": "LayoutModel",
      "_view_count": null,
      "_view_module": "@jupyter-widgets/base",
      "_view_module_version": "1.2.0",
      "_view_name": "LayoutView",
      "align_content": null,
      "align_items": null,
      "align_self": null,
      "border": null,
      "bottom": null,
      "display": null,
      "flex": null,
      "flex_flow": null,
      "grid_area": null,
      "grid_auto_columns": null,
      "grid_auto_flow": null,
      "grid_auto_rows": null,
      "grid_column": null,
      "grid_gap": null,
      "grid_row": null,
      "grid_template_areas": null,
      "grid_template_columns": null,
      "grid_template_rows": null,
      "height": null,
      "justify_content": null,
      "justify_items": null,
      "left": null,
      "margin": null,
      "max_height": null,
      "max_width": null,
      "min_height": null,
      "min_width": null,
      "object_fit": null,
      "object_position": null,
      "order": null,
      "overflow": null,
      "overflow_x": null,
      "overflow_y": null,
      "padding": null,
      "right": null,
      "top": null,
      "visibility": null,
      "width": null
     }
    },
    "e1fcd075347e47308079162e8bf24c06": {
     "model_module": "@jupyter-widgets/base",
     "model_module_version": "1.2.0",
     "model_name": "LayoutModel",
     "state": {
      "_model_module": "@jupyter-widgets/base",
      "_model_module_version": "1.2.0",
      "_model_name": "LayoutModel",
      "_view_count": null,
      "_view_module": "@jupyter-widgets/base",
      "_view_module_version": "1.2.0",
      "_view_name": "LayoutView",
      "align_content": null,
      "align_items": null,
      "align_self": null,
      "border": null,
      "bottom": null,
      "display": null,
      "flex": null,
      "flex_flow": null,
      "grid_area": null,
      "grid_auto_columns": null,
      "grid_auto_flow": null,
      "grid_auto_rows": null,
      "grid_column": null,
      "grid_gap": null,
      "grid_row": null,
      "grid_template_areas": null,
      "grid_template_columns": null,
      "grid_template_rows": null,
      "height": "auto",
      "justify_content": null,
      "justify_items": null,
      "left": null,
      "margin": null,
      "max_height": null,
      "max_width": null,
      "min_height": null,
      "min_width": null,
      "object_fit": null,
      "object_position": null,
      "order": null,
      "overflow": "hidden",
      "overflow_x": null,
      "overflow_y": null,
      "padding": null,
      "right": null,
      "top": null,
      "visibility": null,
      "width": "100%"
     }
    },
    "e1fdd47ac6a74401bb9f627094832a71": {
     "model_module": "@jupyter-widgets/controls",
     "model_module_version": "1.5.0",
     "model_name": "ButtonStyleModel",
     "state": {
      "_model_module": "@jupyter-widgets/controls",
      "_model_module_version": "1.5.0",
      "_model_name": "ButtonStyleModel",
      "_view_count": null,
      "_view_module": "@jupyter-widgets/base",
      "_view_module_version": "1.2.0",
      "_view_name": "StyleView",
      "button_color": "lightgray",
      "font_weight": ""
     }
    },
    "e20c3a6439e448f3bc8c777067fedcff": {
     "model_module": "@jupyter-widgets/controls",
     "model_module_version": "1.5.0",
     "model_name": "ButtonStyleModel",
     "state": {
      "_model_module": "@jupyter-widgets/controls",
      "_model_module_version": "1.5.0",
      "_model_name": "ButtonStyleModel",
      "_view_count": null,
      "_view_module": "@jupyter-widgets/base",
      "_view_module_version": "1.2.0",
      "_view_name": "StyleView",
      "button_color": "lightgray",
      "font_weight": ""
     }
    },
    "e3bf3084f14d444e9b0dc0a36a335140": {
     "model_module": "@jupyter-widgets/base",
     "model_module_version": "1.2.0",
     "model_name": "LayoutModel",
     "state": {
      "_model_module": "@jupyter-widgets/base",
      "_model_module_version": "1.2.0",
      "_model_name": "LayoutModel",
      "_view_count": null,
      "_view_module": "@jupyter-widgets/base",
      "_view_module_version": "1.2.0",
      "_view_name": "LayoutView",
      "align_content": null,
      "align_items": null,
      "align_self": null,
      "border": null,
      "bottom": null,
      "display": null,
      "flex": null,
      "flex_flow": null,
      "grid_area": null,
      "grid_auto_columns": null,
      "grid_auto_flow": null,
      "grid_auto_rows": null,
      "grid_column": null,
      "grid_gap": null,
      "grid_row": null,
      "grid_template_areas": null,
      "grid_template_columns": null,
      "grid_template_rows": null,
      "height": "auto",
      "justify_content": null,
      "justify_items": null,
      "left": null,
      "margin": null,
      "max_height": null,
      "max_width": null,
      "min_height": null,
      "min_width": null,
      "object_fit": null,
      "object_position": null,
      "order": null,
      "overflow": "hidden",
      "overflow_x": null,
      "overflow_y": null,
      "padding": null,
      "right": null,
      "top": null,
      "visibility": null,
      "width": "100%"
     }
    },
    "e4f901dbd7bc40bdb2305c16bee987e1": {
     "model_module": "@jupyter-widgets/controls",
     "model_module_version": "1.5.0",
     "model_name": "ButtonStyleModel",
     "state": {
      "_model_module": "@jupyter-widgets/controls",
      "_model_module_version": "1.5.0",
      "_model_name": "ButtonStyleModel",
      "_view_count": null,
      "_view_module": "@jupyter-widgets/base",
      "_view_module_version": "1.2.0",
      "_view_name": "StyleView",
      "button_color": "lightgreen",
      "font_weight": ""
     }
    },
    "e59f69ca65474978b65d4c0a34276ea3": {
     "model_module": "@jupyter-widgets/controls",
     "model_module_version": "1.5.0",
     "model_name": "ButtonModel",
     "state": {
      "_dom_classes": [],
      "_model_module": "@jupyter-widgets/controls",
      "_model_module_version": "1.5.0",
      "_model_name": "ButtonModel",
      "_view_count": null,
      "_view_module": "@jupyter-widgets/controls",
      "_view_module_version": "1.5.0",
      "_view_name": "ButtonView",
      "button_style": "",
      "description": "It recalculates the previous gradients.",
      "disabled": false,
      "icon": "",
      "layout": "IPY_MODEL_bb95b9aa90414c9698b1649f02baecbd",
      "style": "IPY_MODEL_0f9e84f1245a4a64ae25b077388f5ce8",
      "tooltip": ""
     }
    },
    "e8ffe3574f72426cb4d4ef32d9e0a269": {
     "model_module": "@jupyter-widgets/controls",
     "model_module_version": "1.5.0",
     "model_name": "ButtonStyleModel",
     "state": {
      "_model_module": "@jupyter-widgets/controls",
      "_model_module_version": "1.5.0",
      "_model_name": "ButtonStyleModel",
      "_view_count": null,
      "_view_module": "@jupyter-widgets/base",
      "_view_module_version": "1.2.0",
      "_view_name": "StyleView",
      "button_color": "lightgray",
      "font_weight": ""
     }
    },
    "eb23215b42614181b86fe1a45c95dd1a": {
     "model_module": "@jupyter-widgets/controls",
     "model_module_version": "1.5.0",
     "model_name": "ButtonModel",
     "state": {
      "_dom_classes": [],
      "_model_module": "@jupyter-widgets/controls",
      "_model_module_version": "1.5.0",
      "_model_name": "ButtonModel",
      "_view_count": null,
      "_view_module": "@jupyter-widgets/controls",
      "_view_module_version": "1.5.0",
      "_view_name": "ButtonView",
      "button_style": "",
      "description": "The position of the parameters in the future",
      "disabled": false,
      "icon": "",
      "layout": "IPY_MODEL_30b3fef6e15248fb9dc07e89772a85e5",
      "style": "IPY_MODEL_4bf5851372c64c0eb1b6b97b6408f230",
      "tooltip": ""
     }
    },
    "ebcb5841fd554300869ffd9b50e01bf1": {
     "model_module": "@jupyter-widgets/controls",
     "model_module_version": "1.5.0",
     "model_name": "ButtonStyleModel",
     "state": {
      "_model_module": "@jupyter-widgets/controls",
      "_model_module_version": "1.5.0",
      "_model_name": "ButtonStyleModel",
      "_view_count": null,
      "_view_module": "@jupyter-widgets/base",
      "_view_module_version": "1.2.0",
      "_view_name": "StyleView",
      "button_color": "lightgreen",
      "font_weight": ""
     }
    },
    "ebd443917739414ba1db1976f59ea8a2": {
     "model_module": "@jupyter-widgets/controls",
     "model_module_version": "1.5.0",
     "model_name": "ButtonModel",
     "state": {
      "_dom_classes": [],
      "_model_module": "@jupyter-widgets/controls",
      "_model_module_version": "1.5.0",
      "_model_name": "ButtonModel",
      "_view_count": null,
      "_view_module": "@jupyter-widgets/controls",
      "_view_module_version": "1.5.0",
      "_view_name": "ButtonView",
      "button_style": "",
      "description": "Bias Correction and Momentum",
      "disabled": false,
      "icon": "",
      "layout": "IPY_MODEL_c0750a6f359e49ab8261689e41632e8b",
      "style": "IPY_MODEL_91085c93286a44808173997fe12a8b61",
      "tooltip": ""
     }
    },
    "ec5aafb77cab4f99b37ace1cd56d8857": {
     "model_module": "@jupyter-widgets/controls",
     "model_module_version": "1.5.0",
     "model_name": "ButtonStyleModel",
     "state": {
      "_model_module": "@jupyter-widgets/controls",
      "_model_module_version": "1.5.0",
      "_model_name": "ButtonStyleModel",
      "_view_count": null,
      "_view_module": "@jupyter-widgets/base",
      "_view_module_version": "1.2.0",
      "_view_name": "StyleView",
      "button_color": "lightgray",
      "font_weight": ""
     }
    },
    "edc674e090a94fe2af556e687ebb7784": {
     "model_module": "@jupyter-widgets/controls",
     "model_module_version": "1.5.0",
     "model_name": "ButtonStyleModel",
     "state": {
      "_model_module": "@jupyter-widgets/controls",
      "_model_module_version": "1.5.0",
      "_model_name": "ButtonStyleModel",
      "_view_count": null,
      "_view_module": "@jupyter-widgets/base",
      "_view_module_version": "1.2.0",
      "_view_name": "StyleView",
      "button_color": null,
      "font_weight": ""
     }
    },
    "ee5d8cc094b9495cae0020847332d283": {
     "model_module": "@jupyter-widgets/controls",
     "model_module_version": "1.5.0",
     "model_name": "ButtonModel",
     "state": {
      "_dom_classes": [],
      "_model_module": "@jupyter-widgets/controls",
      "_model_module_version": "1.5.0",
      "_model_name": "ButtonModel",
      "_view_count": null,
      "_view_module": "@jupyter-widgets/controls",
      "_view_module_version": "1.5.0",
      "_view_name": "ButtonView",
      "button_style": "",
      "description": "When working with large variations in gradients",
      "disabled": false,
      "icon": "",
      "layout": "IPY_MODEL_d401008cb7c7476d92af38cfa9716957",
      "style": "IPY_MODEL_1e0403d2213d40ed93b58fbbbd1dda73",
      "tooltip": ""
     }
    },
    "ee69712618b84eac8d20cacaa225a480": {
     "model_module": "@jupyter-widgets/base",
     "model_module_version": "1.2.0",
     "model_name": "LayoutModel",
     "state": {
      "_model_module": "@jupyter-widgets/base",
      "_model_module_version": "1.2.0",
      "_model_name": "LayoutModel",
      "_view_count": null,
      "_view_module": "@jupyter-widgets/base",
      "_view_module_version": "1.2.0",
      "_view_name": "LayoutView",
      "align_content": null,
      "align_items": null,
      "align_self": null,
      "border": null,
      "bottom": null,
      "display": null,
      "flex": null,
      "flex_flow": null,
      "grid_area": null,
      "grid_auto_columns": null,
      "grid_auto_flow": null,
      "grid_auto_rows": null,
      "grid_column": null,
      "grid_gap": null,
      "grid_row": null,
      "grid_template_areas": null,
      "grid_template_columns": null,
      "grid_template_rows": null,
      "height": null,
      "justify_content": null,
      "justify_items": null,
      "left": null,
      "margin": null,
      "max_height": null,
      "max_width": null,
      "min_height": null,
      "min_width": null,
      "object_fit": null,
      "object_position": null,
      "order": null,
      "overflow": null,
      "overflow_x": null,
      "overflow_y": null,
      "padding": null,
      "right": null,
      "top": null,
      "visibility": null,
      "width": null
     }
    },
    "eec8564f5a2743a4bf77dcd2f37c93aa": {
     "model_module": "@jupyter-widgets/controls",
     "model_module_version": "1.5.0",
     "model_name": "ButtonStyleModel",
     "state": {
      "_model_module": "@jupyter-widgets/controls",
      "_model_module_version": "1.5.0",
      "_model_name": "ButtonStyleModel",
      "_view_count": null,
      "_view_module": "@jupyter-widgets/base",
      "_view_module_version": "1.2.0",
      "_view_name": "StyleView",
      "button_color": "lightgray",
      "font_weight": ""
     }
    },
    "ef0fc0b01cf34a7190d1c11c0d6b2bb3": {
     "model_module": "@jupyter-widgets/controls",
     "model_module_version": "1.5.0",
     "model_name": "ButtonModel",
     "state": {
      "_dom_classes": [],
      "_model_module": "@jupyter-widgets/controls",
      "_model_module_version": "1.5.0",
      "_model_name": "ButtonModel",
      "_view_count": null,
      "_view_module": "@jupyter-widgets/controls",
      "_view_module_version": "1.5.0",
      "_view_name": "ButtonView",
      "button_style": "",
      "description": "By multiplying it with the gradient at that time step",
      "disabled": false,
      "icon": "",
      "layout": "IPY_MODEL_906af7e9de934c4daaa21397184a73a2",
      "style": "IPY_MODEL_ec5aafb77cab4f99b37ace1cd56d8857",
      "tooltip": ""
     }
    },
    "f0bed2f65e27476ba5a4042355478df2": {
     "model_module": "@jupyter-widgets/base",
     "model_module_version": "1.2.0",
     "model_name": "LayoutModel",
     "state": {
      "_model_module": "@jupyter-widgets/base",
      "_model_module_version": "1.2.0",
      "_model_name": "LayoutModel",
      "_view_count": null,
      "_view_module": "@jupyter-widgets/base",
      "_view_module_version": "1.2.0",
      "_view_name": "LayoutView",
      "align_content": null,
      "align_items": null,
      "align_self": null,
      "border": null,
      "bottom": null,
      "display": null,
      "flex": null,
      "flex_flow": null,
      "grid_area": null,
      "grid_auto_columns": null,
      "grid_auto_flow": null,
      "grid_auto_rows": null,
      "grid_column": null,
      "grid_gap": null,
      "grid_row": null,
      "grid_template_areas": null,
      "grid_template_columns": null,
      "grid_template_rows": null,
      "height": "auto",
      "justify_content": null,
      "justify_items": null,
      "left": null,
      "margin": null,
      "max_height": null,
      "max_width": null,
      "min_height": null,
      "min_width": null,
      "object_fit": null,
      "object_position": null,
      "order": null,
      "overflow": "hidden",
      "overflow_x": null,
      "overflow_y": null,
      "padding": null,
      "right": null,
      "top": null,
      "visibility": null,
      "width": "100%"
     }
    },
    "f0e758310aa04b9bb18a07d246d527f8": {
     "model_module": "@jupyter-widgets/controls",
     "model_module_version": "1.5.0",
     "model_name": "ButtonModel",
     "state": {
      "_dom_classes": [],
      "_model_module": "@jupyter-widgets/controls",
      "_model_module_version": "1.5.0",
      "_model_name": "ButtonModel",
      "_view_count": null,
      "_view_module": "@jupyter-widgets/controls",
      "_view_module_version": "1.5.0",
      "_view_name": "ButtonView",
      "button_style": "",
      "description": "By dividing it by the sum of the squares of the gradients up to that time step",
      "disabled": false,
      "icon": "",
      "layout": "IPY_MODEL_08a111f7f91a423a8714748ca3d5d233",
      "style": "IPY_MODEL_21b2ef486c494707bebec98fe602892d",
      "tooltip": ""
     }
    },
    "f18dd4aad0d644459ab871db6303d228": {
     "model_module": "@jupyter-widgets/controls",
     "model_module_version": "1.5.0",
     "model_name": "ButtonModel",
     "state": {
      "_dom_classes": [],
      "_model_module": "@jupyter-widgets/controls",
      "_model_module_version": "1.5.0",
      "_model_name": "ButtonModel",
      "_view_count": null,
      "_view_module": "@jupyter-widgets/controls",
      "_view_module_version": "1.5.0",
      "_view_name": "ButtonView",
      "button_style": "",
      "description": "The efficiency of the first and second moment estimates",
      "disabled": false,
      "icon": "",
      "layout": "IPY_MODEL_4e89191401ce4e999721f042e96918a7",
      "style": "IPY_MODEL_b8db3477c12c4e159fe78dbfce33bbbb",
      "tooltip": ""
     }
    },
    "f1e4f152e0d04a398bf759709b9ca7ee": {
     "model_module": "@jupyter-widgets/controls",
     "model_module_version": "1.5.0",
     "model_name": "ButtonStyleModel",
     "state": {
      "_model_module": "@jupyter-widgets/controls",
      "_model_module_version": "1.5.0",
      "_model_name": "ButtonStyleModel",
      "_view_count": null,
      "_view_module": "@jupyter-widgets/base",
      "_view_module_version": "1.2.0",
      "_view_name": "StyleView",
      "button_color": "lightgray",
      "font_weight": ""
     }
    },
    "f377641c067647b292ceaa71c73c3d2b": {
     "model_module": "@jupyter-widgets/controls",
     "model_module_version": "1.5.0",
     "model_name": "ButtonStyleModel",
     "state": {
      "_model_module": "@jupyter-widgets/controls",
      "_model_module_version": "1.5.0",
      "_model_name": "ButtonStyleModel",
      "_view_count": null,
      "_view_module": "@jupyter-widgets/base",
      "_view_module_version": "1.2.0",
      "_view_name": "StyleView",
      "button_color": "red",
      "font_weight": ""
     }
    },
    "f3ee376267214df380e40aa61ebdec71": {
     "model_module": "@jupyter-widgets/controls",
     "model_module_version": "1.5.0",
     "model_name": "ButtonStyleModel",
     "state": {
      "_model_module": "@jupyter-widgets/controls",
      "_model_module_version": "1.5.0",
      "_model_name": "ButtonStyleModel",
      "_view_count": null,
      "_view_module": "@jupyter-widgets/base",
      "_view_module_version": "1.2.0",
      "_view_name": "StyleView",
      "button_color": "lightgray",
      "font_weight": ""
     }
    },
    "f4378c48aefe424a8fd23e3a137e39c0": {
     "model_module": "@jupyter-widgets/controls",
     "model_module_version": "1.5.0",
     "model_name": "ButtonModel",
     "state": {
      "_dom_classes": [],
      "_model_module": "@jupyter-widgets/controls",
      "_model_module_version": "1.5.0",
      "_model_name": "ButtonModel",
      "_view_count": null,
      "_view_module": "@jupyter-widgets/controls",
      "_view_module_version": "1.5.0",
      "_view_name": "ButtonView",
      "button_style": "",
      "description": "When other algorithms like SGD or RMSprop may perform better",
      "disabled": false,
      "icon": "",
      "layout": "IPY_MODEL_df9a4a7fc6ec4802ae6223f29b02ae97",
      "style": "IPY_MODEL_2d7e272794e144d38cac4e5c868533f1",
      "tooltip": ""
     }
    },
    "f49fa78b67db440a97b2111a4a0032d2": {
     "model_module": "@jupyter-widgets/controls",
     "model_module_version": "1.5.0",
     "model_name": "ButtonStyleModel",
     "state": {
      "_model_module": "@jupyter-widgets/controls",
      "_model_module_version": "1.5.0",
      "_model_name": "ButtonStyleModel",
      "_view_count": null,
      "_view_module": "@jupyter-widgets/base",
      "_view_module_version": "1.2.0",
      "_view_name": "StyleView",
      "button_color": "red",
      "font_weight": ""
     }
    },
    "f610e41afc0643169b512eeaf615d0e4": {
     "model_module": "@jupyter-widgets/controls",
     "model_module_version": "1.5.0",
     "model_name": "ButtonModel",
     "state": {
      "_dom_classes": [],
      "_model_module": "@jupyter-widgets/controls",
      "_model_module_version": "1.5.0",
      "_model_name": "ButtonModel",
      "_view_count": null,
      "_view_module": "@jupyter-widgets/controls",
      "_view_module_version": "1.5.0",
      "_view_name": "ButtonView",
      "button_style": "",
      "description": "SGD is slower than classical gradient descent",
      "disabled": false,
      "icon": "",
      "layout": "IPY_MODEL_cc15a3aa2d454fd4a4b7ac3ddbf691fb",
      "style": "IPY_MODEL_1489406758fb44e5812530db9c8b0bc8",
      "tooltip": ""
     }
    },
    "f713130b2eea436eb0c5ba308b2c5986": {
     "model_module": "@jupyter-widgets/controls",
     "model_module_version": "1.5.0",
     "model_name": "ButtonModel",
     "state": {
      "_dom_classes": [],
      "_model_module": "@jupyter-widgets/controls",
      "_model_module_version": "1.5.0",
      "_model_name": "ButtonModel",
      "_view_count": null,
      "_view_module": "@jupyter-widgets/controls",
      "_view_module_version": "1.5.0",
      "_view_name": "ButtonView",
      "button_style": "",
      "description": "By dividing it by the square root of the sum of the squares of the gradients plus a smoothing term",
      "disabled": false,
      "icon": "",
      "layout": "IPY_MODEL_5f9a40115c1545c4bdbd10a775e69431",
      "style": "IPY_MODEL_996452aa6b6f4e0fbce79ed8d7824ef3",
      "tooltip": ""
     }
    },
    "f915c6806c854e51b30d7d200f2dadb2": {
     "model_module": "@jupyter-widgets/controls",
     "model_module_version": "1.5.0",
     "model_name": "ButtonModel",
     "state": {
      "_dom_classes": [],
      "_model_module": "@jupyter-widgets/controls",
      "_model_module_version": "1.5.0",
      "_model_name": "ButtonModel",
      "_view_count": null,
      "_view_module": "@jupyter-widgets/controls",
      "_view_module_version": "1.5.0",
      "_view_name": "ButtonView",
      "button_style": "",
      "description": "Adam",
      "disabled": false,
      "icon": "",
      "layout": "IPY_MODEL_e0e64d3924a4419ebc1a0ceeed018c9b",
      "style": "IPY_MODEL_edc674e090a94fe2af556e687ebb7784",
      "tooltip": ""
     }
    },
    "fa653ea7d14a4e379f5f06ca63263ea2": {
     "model_module": "@jupyter-widgets/controls",
     "model_module_version": "1.5.0",
     "model_name": "ButtonStyleModel",
     "state": {
      "_model_module": "@jupyter-widgets/controls",
      "_model_module_version": "1.5.0",
      "_model_name": "ButtonStyleModel",
      "_view_count": null,
      "_view_module": "@jupyter-widgets/base",
      "_view_module_version": "1.2.0",
      "_view_name": "StyleView",
      "button_color": "lightgreen",
      "font_weight": ""
     }
    },
    "fa8d0eaa17014574b437f8cc1e099923": {
     "model_module": "@jupyter-widgets/controls",
     "model_module_version": "1.5.0",
     "model_name": "ButtonStyleModel",
     "state": {
      "_model_module": "@jupyter-widgets/controls",
      "_model_module_version": "1.5.0",
      "_model_name": "ButtonStyleModel",
      "_view_count": null,
      "_view_module": "@jupyter-widgets/base",
      "_view_module_version": "1.2.0",
      "_view_name": "StyleView",
      "button_color": "lightgray",
      "font_weight": ""
     }
    },
    "faf1fc1e14c84ee4b369699139ac5055": {
     "model_module": "@jupyter-widgets/controls",
     "model_module_version": "1.5.0",
     "model_name": "HBoxModel",
     "state": {
      "_dom_classes": [],
      "_model_module": "@jupyter-widgets/controls",
      "_model_module_version": "1.5.0",
      "_model_name": "HBoxModel",
      "_view_count": null,
      "_view_module": "@jupyter-widgets/controls",
      "_view_module_version": "1.5.0",
      "_view_name": "HBoxView",
      "box_style": "",
      "children": [
       "IPY_MODEL_d947ba86bf664ed7b8cd45454c97f624",
       "IPY_MODEL_c110cabc638d42e28a9db9cd50f41ad4",
       "IPY_MODEL_65feff206d964eac8179b4c312ca8856",
       "IPY_MODEL_877cb73c6c6b4c2aa9100dc227f2f5fa"
      ],
      "layout": "IPY_MODEL_b173bcf0c4504fabbe3d20436568f1c4"
     }
    },
    "fb575affd7d1459fb6ba1365604816f7": {
     "model_module": "@jupyter-widgets/controls",
     "model_module_version": "1.5.0",
     "model_name": "ButtonModel",
     "state": {
      "_dom_classes": [],
      "_model_module": "@jupyter-widgets/controls",
      "_model_module_version": "1.5.0",
      "_model_name": "ButtonModel",
      "_view_count": null,
      "_view_module": "@jupyter-widgets/controls",
      "_view_module_version": "1.5.0",
      "_view_name": "ButtonView",
      "button_style": "",
      "description": "To simplify the optimization process",
      "disabled": false,
      "icon": "",
      "layout": "IPY_MODEL_498e1c20ee184c5094e63dea5572ef46",
      "style": "IPY_MODEL_cd149aa6e3984c14a72eebeeef947fb2",
      "tooltip": ""
     }
    },
    "fd539b045ba74b88a8defad36b29ba65": {
     "model_module": "@jupyter-widgets/base",
     "model_module_version": "1.2.0",
     "model_name": "LayoutModel",
     "state": {
      "_model_module": "@jupyter-widgets/base",
      "_model_module_version": "1.2.0",
      "_model_name": "LayoutModel",
      "_view_count": null,
      "_view_module": "@jupyter-widgets/base",
      "_view_module_version": "1.2.0",
      "_view_name": "LayoutView",
      "align_content": null,
      "align_items": null,
      "align_self": null,
      "border": null,
      "bottom": null,
      "display": null,
      "flex": null,
      "flex_flow": null,
      "grid_area": null,
      "grid_auto_columns": null,
      "grid_auto_flow": null,
      "grid_auto_rows": null,
      "grid_column": null,
      "grid_gap": null,
      "grid_row": null,
      "grid_template_areas": null,
      "grid_template_columns": null,
      "grid_template_rows": null,
      "height": "auto",
      "justify_content": null,
      "justify_items": null,
      "left": null,
      "margin": null,
      "max_height": null,
      "max_width": null,
      "min_height": null,
      "min_width": null,
      "object_fit": null,
      "object_position": null,
      "order": null,
      "overflow": "hidden",
      "overflow_x": null,
      "overflow_y": null,
      "padding": null,
      "right": null,
      "top": null,
      "visibility": null,
      "width": "100%"
     }
    },
    "fda0b770afbb44f8bcbfe7a5949e84e9": {
     "model_module": "@jupyter-widgets/controls",
     "model_module_version": "1.5.0",
     "model_name": "ButtonModel",
     "state": {
      "_dom_classes": [],
      "_model_module": "@jupyter-widgets/controls",
      "_model_module_version": "1.5.0",
      "_model_name": "ButtonModel",
      "_view_count": null,
      "_view_module": "@jupyter-widgets/controls",
      "_view_module_version": "1.5.0",
      "_view_name": "ButtonView",
      "button_style": "",
      "description": "It does not adapt the learning rate to the parameters",
      "disabled": false,
      "icon": "",
      "layout": "IPY_MODEL_9b22a9ba61d64eaf9c45046c98d7c97f",
      "style": "IPY_MODEL_693d8046f98646a5ac6d57735743a331",
      "tooltip": ""
     }
    },
    "fde8f2bf55454182b93eb7919a80702d": {
     "model_module": "@jupyter-widgets/controls",
     "model_module_version": "1.5.0",
     "model_name": "ButtonModel",
     "state": {
      "_dom_classes": [],
      "_model_module": "@jupyter-widgets/controls",
      "_model_module_version": "1.5.0",
      "_model_name": "ButtonModel",
      "_view_count": null,
      "_view_module": "@jupyter-widgets/controls",
      "_view_module_version": "1.5.0",
      "_view_name": "ButtonView",
      "button_style": "",
      "description": "Reducing the learning rate",
      "disabled": false,
      "icon": "",
      "layout": "IPY_MODEL_fd539b045ba74b88a8defad36b29ba65",
      "style": "IPY_MODEL_5715a9976e2c4b59acc31166080a264b",
      "tooltip": ""
     }
    },
    "ff521d256715491a8e489f6106de5941": {
     "model_module": "@jupyter-widgets/controls",
     "model_module_version": "1.5.0",
     "model_name": "ButtonModel",
     "state": {
      "_dom_classes": [],
      "_model_module": "@jupyter-widgets/controls",
      "_model_module_version": "1.5.0",
      "_model_name": "ButtonModel",
      "_view_count": null,
      "_view_module": "@jupyter-widgets/controls",
      "_view_module_version": "1.5.0",
      "_view_name": "ButtonView",
      "button_style": "",
      "description": "It performs smaller updates for parameters associated with infrequently occurring features",
      "disabled": false,
      "icon": "",
      "layout": "IPY_MODEL_2b6c830db1af4a718bddb66e023f4c68",
      "style": "IPY_MODEL_1ed515c79a004955b5bff084d12c4e6b",
      "tooltip": ""
     }
    }
   }
  }
 },
 "nbformat": 4,
 "nbformat_minor": 4
}
