{
 "cells": [
  {
   "cell_type": "markdown",
   "metadata": {},
   "source": [
    "# Weights initialization\n",
    "\n",
    "## Numerical problems\n",
    "\n",
    "* Vanishing gradients\n",
    "* Exploding gradients\n",
    "* Breaking symmetry\n",
    "\n",
    "For details see {cite:p}`zhang2023dive`, [section 5.4](https://d2l.ai/chapter_multilayer-perceptrons/numerical-stability-and-init.html)."
   ]
  },
  {
   "cell_type": "markdown",
   "metadata": {},
   "source": [
    "## Random initialization\n",
    "\n",
    "[ML Handbook chapter](https://education.yandex.ru/handbook/ml/article/beta-tonkosti-obucheniya)\n",
    "\n",
    "How to initialize weights $\\boldsymbol W \\in \\mathbb R^{n_{\\mathrm{in}} \\times n_{\\mathrm{out}}}$ of linear layer? \n",
    "\n",
    "* To preserve zero mean:\n",
    "    \n",
    "    $$\n",
    "        \\mathbb Ew_{ij} = 0\n",
    "    $$\n",
    "\n",
    "* To preserve variance during forward pass:\n",
    "    \n",
    "    $$\n",
    "        \\mathbb V w_{ij} = \\frac 1{n_{\\mathrm{in}}}\n",
    "    $$\n",
    "    \n",
    "* To preserve variance during backward pass:\n",
    "    \n",
    "    $$\n",
    "        \\mathbb V w_{ij} = \\frac 1{n_{\\mathrm{out}}}\n",
    "    $$\n",
    "\n",
    "Both last two conditions can be satisfied only if $n_{\\mathrm{in}} = n_{\\mathrm{out}}$. In {cite:p}`Glorot2010UnderstandingTD` a compromise was suggested:\n",
    "\n",
    "$$\n",
    "    \\mathbb V w_{ij} = \\frac 2{n_{\\mathrm{in}} + n_{\\mathrm{out}}}.\n",
    "$$\n",
    "\n",
    "In particular, they took\n",
    "\n",
    "```{math}\n",
    ":label: glorot-init\n",
    "    w_{ij} \\sim U\\bigg[-\\sqrt{\\frac 6{n_{\\mathrm{in}} + n_{\\mathrm{out}}}}, \\sqrt{\\frac 6{n_{\\mathrm{in}} + n_{\\mathrm{out}}}}\\bigg]\n",
    "```\n",
    "\n",
    "**Q.** Why so strange numbers?\n",
    "\n",
    "Initialization {eq}`glorot-init` suits well if activation functions have symmetric range (e.g., $\\psi(x) = \\tanh(x)$). For ReLU activation {cite:p}`He2015DelvingDI` suggests\n",
    "\n",
    "$$\n",
    "    w_{ij} \\sim \\mathcal N\\Big(0, \\frac 2{n_{\\mathrm{in}}}\\Big).\n",
    "$$"
   ]
  }
 ],
 "metadata": {
  "kernelspec": {
   "display_name": "Python 3 (ipykernel)",
   "language": "python",
   "name": "python3"
  },
  "language_info": {
   "codemirror_mode": {
    "name": "ipython",
    "version": 3
   },
   "file_extension": ".py",
   "mimetype": "text/x-python",
   "name": "python",
   "nbconvert_exporter": "python",
   "pygments_lexer": "ipython3",
   "version": "3.11.4"
  }
 },
 "nbformat": 4,
 "nbformat_minor": 2
}
