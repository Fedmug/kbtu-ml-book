{
 "cells": [
  {
   "cell_type": "markdown",
   "metadata": {},
   "source": [
    "(num-opt-lin-reg)=\n",
    "# Numeric optimization\n",
    "\n",
    "Due to some {ref}`computational issues <computational-issues>` it could be inpractical to calculate $\\widehat{\\boldsymbol w}$ by the formula {eq}`lin-reg-solution`. If so, a numerical optimization method can be used. The most common one is {prf:ref}`gradient descent <GD>` algorithm.\n",
    "\n",
    "\n",
    "For ordinary linear regression the loss function is proportional to \n",
    "\n",
    "$$\n",
    "    \\mathcal L(\\boldsymbol w) = \\frac 12\\Vert\\boldsymbol {Xw} - \\boldsymbol y \\Vert_2^2,\n",
    "$$\n",
    "\n",
    "therefore, $\\nabla \\mathcal L(\\boldsymbol w) = \\boldsymbol X^\\mathsf{T}(\\boldsymbol{Xw} - \\boldsymbol y)$."
   ]
  },
  {
   "cell_type": "markdown",
   "metadata": {},
   "source": [
    "## Gradient descent\n",
    "\n",
    "Now let's implement the gradient descent algorithm for this objective:"
   ]
  },
  {
   "cell_type": "code",
   "execution_count": 77,
   "metadata": {},
   "outputs": [],
   "source": [
    "import numpy as np\n",
    "\n",
    "def linear_regression_gd(X, y, learning_rate=0.01, tol=1e-3, max_iter=10000):\n",
    "    w = np.random.normal(size=X.shape[1], scale=2/(X.shape[0] + X.shape[1]))\n",
    "    gradient = X.T.dot(X.dot(w) - y)\n",
    "    for i in range(max_iter):\n",
    "        if np.linalg.norm(gradient) <= tol:\n",
    "            return w\n",
    "        w -= learning_rate * gradient\n",
    "        gradient = X.T.dot(X.dot(w) - y)\n",
    "    print(\"max_iter exceeded\")\n",
    "    return w"
   ]
  },
  {
   "cell_type": "markdown",
   "metadata": {},
   "source": [
    "Try in on some synthetic data:"
   ]
  },
  {
   "cell_type": "code",
   "execution_count": 78,
   "metadata": {},
   "outputs": [
    {
     "name": "stdout",
     "output_type": "stream",
     "text": [
      "MSE: 15.30872154556741\n"
     ]
    }
   ],
   "source": [
    "from sklearn.datasets import make_regression\n",
    "X, y = make_regression(n_samples=300, n_features=21, noise=4, random_state=42)\n",
    "w = linear_regression_gd(X, y, learning_rate=1e-3, tol=1e-4)\n",
    "print(\"MSE:\", np.mean((X.dot(w) - y)**2))"
   ]
  },
  {
   "cell_type": "markdown",
   "metadata": {},
   "source": [
    "Double check by `sklearn`:"
   ]
  },
  {
   "cell_type": "code",
   "execution_count": 79,
   "metadata": {},
   "outputs": [
    {
     "name": "stdout",
     "output_type": "stream",
     "text": [
      "r-score: 0.9995298145938111\n",
      "MSE: 15.308721545567236\n",
      "Difference from w: 5.38959856741439e-07\n"
     ]
    }
   ],
   "source": [
    "from sklearn.linear_model import LinearRegression\n",
    "LR = LinearRegression(fit_intercept=False)\n",
    "LR.fit(X, y)\n",
    "print(\"r-score:\", LR.score(X, y))\n",
    "print(\"MSE:\", np.mean((LR.predict(X) - y) ** 2))\n",
    "print(\"Difference from w:\", np.linalg.norm(LR.coef_ - w))"
   ]
  },
  {
   "cell_type": "markdown",
   "metadata": {},
   "source": [
    "Now apply to Boston dataset. Remove features `age`, `indus`,`tax`, and add dummy feature:"
   ]
  },
  {
   "cell_type": "code",
   "execution_count": 258,
   "metadata": {},
   "outputs": [],
   "source": [
    "import pandas as pd\n",
    "boston = pd.read_csv(\"../datasets/ISLP/Boston.csv\").drop(\"Unnamed: 0\", axis=1)\n",
    "target = boston['medv']\n",
    "train = boston.drop(['medv', 'age', 'indus', 'tax'], axis=1)\n",
    "# train = boston[['lstat', 'age']]\n",
    "X_train = np.hstack([np.ones(506)[:, None], train])"
   ]
  },
  {
   "cell_type": "markdown",
   "metadata": {},
   "source": [
    "Apply self-made gradient descent algorithm:"
   ]
  },
  {
   "cell_type": "code",
   "execution_count": 266,
   "metadata": {},
   "outputs": [
    {
     "name": "stdout",
     "output_type": "stream",
     "text": [
      "max_iter exceeded\n",
      "MSE: 23.03166179224331\n"
     ]
    }
   ],
   "source": [
    "weights = linear_regression_gd(X_train, target.values, learning_rate=4e-6, max_iter=10**6)\n",
    "print(\"MSE:\", np.mean((X_train.dot(weights) - target)**2))"
   ]
  },
  {
   "cell_type": "markdown",
   "metadata": {},
   "source": [
    "Compare with `sklearn` result:"
   ]
  },
  {
   "cell_type": "code",
   "execution_count": 267,
   "metadata": {},
   "outputs": [
    {
     "name": "stdout",
     "output_type": "stream",
     "text": [
      "r-score: 0.7272525819160474\n",
      "MSE: 23.025215977387404\n",
      "Difference from w: 2.054950775364044\n"
     ]
    }
   ],
   "source": [
    "LR = LinearRegression(fit_intercept=False)\n",
    "LR.fit(X_train, target)\n",
    "print(\"r-score:\", LR.score(X_train, target))\n",
    "print(\"MSE:\", np.mean((LR.predict(X_train) - target) ** 2))\n",
    "print(\"Difference from w:\", np.linalg.norm(LR.coef_ - weights))"
   ]
  },
  {
   "cell_type": "markdown",
   "metadata": {},
   "source": [
    "Even one million iterations is not enough here for convergence...\n",
    "\n",
    "## Newton's method\n",
    "\n",
    "```{admonition} TODO\n",
    ":class: warning\n",
    "\n",
    "* Add more experiments for gradient descent along with visualizations\n",
    "* Apply Newton's method to linear regression\n",
    "* Add regularization\n",
    "* Compare the performance of GD and Newton's method\n",
    "```"
   ]
  }
 ],
 "metadata": {
  "kernelspec": {
   "display_name": "Python 3 (ipykernel)",
   "language": "python",
   "name": "python3"
  },
  "language_info": {
   "codemirror_mode": {
    "name": "ipython",
    "version": 3
   },
   "file_extension": ".py",
   "mimetype": "text/x-python",
   "name": "python",
   "nbconvert_exporter": "python",
   "pygments_lexer": "ipython3",
   "version": "3.11.4"
  }
 },
 "nbformat": 4,
 "nbformat_minor": 2
}
