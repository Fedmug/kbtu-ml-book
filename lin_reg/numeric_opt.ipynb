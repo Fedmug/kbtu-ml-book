{
 "cells": [
  {
   "cell_type": "markdown",
   "metadata": {},
   "source": [
    "# Numeric optimization\n",
    "\n",
    "Due to some {ref}`computational issues <computational-issues>` it could be inpractical to calculate $\\widehat{\\boldsymbol w}$ by the formula {eq}`lin-reg-solution`. If so, a numerical optimization method can be used. The most common one is {prf:ref}`gradient descent <GD>` algorithm.\n",
    "\n",
    "\n",
    "For ordinary linear regression the loss function is proportional to \n",
    "\n",
    "$$\n",
    "    \\mathcal L(\\boldsymbol w) = \\frac 12\\Vert\\boldsymbol {Xw} - \\boldsymbol y \\Vert_2^2,\n",
    "$$\n",
    "\n",
    "therefore, $\\nabla \\mathcal L(\\boldsymbol w) = \\boldsymbol X^\\top(\\boldsymbol{Xw} - \\boldsymbol y)$."
   ]
  },
  {
   "cell_type": "markdown",
   "metadata": {},
   "source": [
    "## Gradient descent\n",
    "\n",
    "Now let's implement the gradient descent algorithm for this objective:"
   ]
  },
  {
   "cell_type": "code",
   "execution_count": 98,
   "metadata": {},
   "outputs": [],
   "source": [
    "import numpy as np\n",
    "\n",
    "def linear_regression_gd(X, y, learning_rate=0.01, tol=1e-3, max_iter=10000):\n",
    "    w = np.random.normal(size=X.shape[1])\n",
    "    gradient = X.T.dot(X.dot(w) - y)\n",
    "    for i in range(max_iter):\n",
    "        if np.linalg.norm(gradient) <= tol:\n",
    "            return w\n",
    "        w -= learning_rate * gradient\n",
    "        gradient = X.T.dot(X.dot(w) - y)\n",
    "    print(\"max_iter exceeded\")\n",
    "    return w"
   ]
  },
  {
   "cell_type": "markdown",
   "metadata": {},
   "source": [
    "Try in on some synthetic data:"
   ]
  },
  {
   "cell_type": "code",
   "execution_count": 99,
   "metadata": {},
   "outputs": [
    {
     "name": "stdout",
     "output_type": "stream",
     "text": [
      "MSE: 0.1830720788779873\n"
     ]
    }
   ],
   "source": [
    "X = np.random.normal(size=(50, 20))\n",
    "y = np.random.rand(50)\n",
    "w = linear_regression_gd(X, y, tol=1e-4)\n",
    "print(\"MSE:\", np.mean((X.dot(w) - y)**2))"
   ]
  },
  {
   "cell_type": "code",
   "execution_count": 100,
   "metadata": {},
   "outputs": [
    {
     "name": "stdout",
     "output_type": "stream",
     "text": [
      "r-score: -1.032649581837315\n",
      "MSE: 0.18307207885813592\n",
      "Difference from w: 1.0782324101636377e-05\n"
     ]
    }
   ],
   "source": [
    "from sklearn.linear_model import LinearRegression\n",
    "LR = LinearRegression(fit_intercept=False)\n",
    "LR.fit(X, y)\n",
    "print(\"r-score:\", LR.score(X, y))\n",
    "print(\"MSE:\", np.mean((LR.predict(X) - y) ** 2))\n",
    "print(\"Difference from w:\", np.linalg.norm(LR.coef_ - w))"
   ]
  },
  {
   "cell_type": "markdown",
   "metadata": {},
   "source": [
    "Now apply to Boston dataset:"
   ]
  },
  {
   "cell_type": "code",
   "execution_count": 101,
   "metadata": {},
   "outputs": [],
   "source": [
    "import pandas as pd\n",
    "boston = pd.read_csv(\"../ISLP_datasets/Boston.csv\").drop(\"Unnamed: 0\", axis=1)\n",
    "target = boston['medv']\n",
    "train = boston.drop(['medv'], axis=1)\n",
    "X_train = np.hstack([np.ones(506)[:, None], train])"
   ]
  },
  {
   "cell_type": "code",
   "execution_count": 111,
   "metadata": {},
   "outputs": [
    {
     "name": "stdout",
     "output_type": "stream",
     "text": [
      "max_iter exceeded\n",
      "MSE: 46.63558173285131\n"
     ]
    }
   ],
   "source": [
    "weights = linear_regression_gd(X_train, target.values, learning_rate=9e-9)\n",
    "print(\"MSE:\", np.mean((X_train.dot(weights) - target)**2))"
   ]
  },
  {
   "cell_type": "markdown",
   "metadata": {},
   "source": [
    "Looks not so good...\n",
    "\n",
    "## Newton's method\n",
    "\n",
    "```{admonition} TODO\n",
    ":class: warning\n",
    "\n",
    "* Add more experiments for gradient descent along with visualizations\n",
    "* Apply Newton's method to linear regression\n",
    "* Add regularization\n",
    "* Compare the performance of GD and Newton's method\n",
    "```"
   ]
  }
 ],
 "metadata": {
  "kernelspec": {
   "display_name": "Python 3",
   "language": "python",
   "name": "python3"
  },
  "language_info": {
   "codemirror_mode": {
    "name": "ipython",
    "version": 3
   },
   "file_extension": ".py",
   "mimetype": "text/x-python",
   "name": "python",
   "nbconvert_exporter": "python",
   "pygments_lexer": "ipython3",
   "version": "3.11.4"
  },
  "orig_nbformat": 4
 },
 "nbformat": 4,
 "nbformat_minor": 2
}
